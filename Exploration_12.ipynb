{
  "cells": [
    {
      "cell_type": "markdown",
      "metadata": {
        "id": "view-in-github",
        "colab_type": "text"
      },
      "source": [
        "<a href=\"https://colab.research.google.com/github/itchyfeet-patient/Beautiful-Exploration/blob/master/Exploration_12.ipynb\" target=\"_parent\"><img src=\"https://colab.research.google.com/assets/colab-badge.svg\" alt=\"Open In Colab\"/></a>"
      ]
    },
    {
      "cell_type": "markdown",
      "metadata": {
        "id": "UkpYfSNJ9BI2"
      },
      "source": [
        "# **12. 프로젝트: 뉴스기사 요약해보기 📰**\n",
        "새로운 데이터셋에 대해서 추상적 요약과 추출적 요약을 모두 해보는 시간을 가져봐요.\n",
        "\n",
        "먼저 주요 라이브러리 버전을 확인해 보죠."
      ]
    },
    {
      "cell_type": "code",
      "execution_count": null,
      "metadata": {
        "id": "ceZyPqN49UNw",
        "colab": {
          "base_uri": "https://localhost:8080/"
        },
        "outputId": "cdd3d5c2-3ee1-47ce-f863-71d570b0a93c"
      },
      "outputs": [
        {
          "output_type": "stream",
          "name": "stdout",
          "text": [
            "Looking in indexes: https://pypi.org/simple, https://us-python.pkg.dev/colab-wheels/public/simple/\n",
            "Collecting summa\n",
            "  Downloading summa-1.2.0.tar.gz (54 kB)\n",
            "\u001b[K     |████████████████████████████████| 54 kB 2.1 MB/s \n",
            "\u001b[?25hRequirement already satisfied: scipy>=0.19 in /usr/local/lib/python3.7/dist-packages (from summa) (1.7.3)\n",
            "Requirement already satisfied: numpy<1.23.0,>=1.16.5 in /usr/local/lib/python3.7/dist-packages (from scipy>=0.19->summa) (1.21.6)\n",
            "Building wheels for collected packages: summa\n",
            "  Building wheel for summa (setup.py) ... \u001b[?25l\u001b[?25hdone\n",
            "  Created wheel for summa: filename=summa-1.2.0-py3-none-any.whl size=54412 sha256=131079f618ff4475f493112523f649a4f20663cb095794e210431e5ba743d9c4\n",
            "  Stored in directory: /root/.cache/pip/wheels/29/64/ac/7b443477588d365ef37ada30d456bdf5f07dc5be9f6324cb6e\n",
            "Successfully built summa\n",
            "Installing collected packages: summa\n",
            "Successfully installed summa-1.2.0\n"
          ]
        }
      ],
      "source": [
        "pip install summa"
      ]
    },
    {
      "cell_type": "code",
      "execution_count": null,
      "metadata": {
        "colab": {
          "base_uri": "https://localhost:8080/"
        },
        "id": "qdtEN_l18-be",
        "outputId": "093bef61-8a59-46f3-89a6-f45843c28d42"
      },
      "outputs": [
        {
          "output_type": "stream",
          "name": "stderr",
          "text": [
            "[nltk_data] Downloading package stopwords to /root/nltk_data...\n",
            "[nltk_data]   Unzipping corpora/stopwords.zip.\n"
          ]
        },
        {
          "output_type": "stream",
          "name": "stdout",
          "text": [
            "3.7\n",
            "2.8.2\n",
            "1.2.0\n"
          ]
        }
      ],
      "source": [
        "import nltk\n",
        "nltk.download('stopwords')\n",
        "from importlib_metadata import version\n",
        "import nltk\n",
        "import tensorflow\n",
        "import summa\n",
        "\n",
        "import numpy as np\n",
        "import pandas as pd\n",
        "import os\n",
        "import re\n",
        "import matplotlib.pyplot as plt\n",
        "from nltk.corpus import stopwords\n",
        "from bs4 import BeautifulSoup \n",
        "from tensorflow.keras.preprocessing.text import Tokenizer \n",
        "from tensorflow.keras.preprocessing.sequence import pad_sequences\n",
        "\n",
        "import urllib.request\n",
        "import warnings\n",
        "warnings.filterwarnings(\"ignore\", category=UserWarning, module='bs4')\n",
        "\n",
        "\n",
        "print(nltk.__version__) # lms version : 3.6.5\n",
        "print(tensorflow.__version__) # lms version : 2.6.0\n",
        "print(version('summa')) # lms version : 1.2.0\n",
        "\n"
      ]
    },
    {
      "cell_type": "markdown",
      "metadata": {
        "id": "TSdM_nsG9dcS"
      },
      "source": [
        "## **Step 1. 데이터 수집하기**\n",
        "데이터는 아래 링크에 있는 뉴스 기사 데이터(news_summary_more.csv)를 사용하세요.\n",
        "\n",
        "* [sunnysai12345/News_Summary](https://github.com/sunnysai12345/News_Summary)  \n",
        "아래의 코드로 데이터를 다운로드할 수 있어요."
      ]
    },
    {
      "cell_type": "code",
      "execution_count": null,
      "metadata": {
        "id": "s58PaRa6-AbY"
      },
      "outputs": [],
      "source": [
        "import urllib.request\n",
        "urllib.request.urlretrieve(\"https://raw.githubusercontent.com/sunnysai12345/News_Summary/master/news_summary_more.csv\", filename=\"news_summary_more.csv\")\n",
        "data = pd.read_csv('news_summary_more.csv', encoding='iso-8859-1')\n",
        "summa_data = data.copy()"
      ]
    },
    {
      "cell_type": "code",
      "source": [
        "summa_data.head() # 추출적 요약을 위한 dataframe 생성"
      ],
      "metadata": {
        "colab": {
          "base_uri": "https://localhost:8080/",
          "height": 206
        },
        "id": "AORu1RPZDFY7",
        "outputId": "7831b2ac-a3f4-45a6-e339-3ca863121412"
      },
      "execution_count": null,
      "outputs": [
        {
          "output_type": "execute_result",
          "data": {
            "text/plain": [
              "                                           headlines  \\\n",
              "0  upGrad learner switches to career in ML & Al w...   \n",
              "1  Delhi techie wins free food from Swiggy for on...   \n",
              "2  New Zealand end Rohit Sharma-led India's 12-ma...   \n",
              "3  Aegon life iTerm insurance plan helps customer...   \n",
              "4  Have known Hirani for yrs, what if MeToo claim...   \n",
              "\n",
              "                                                text  \n",
              "0  Saurav Kant, an alumnus of upGrad and IIIT-B's...  \n",
              "1  Kunal Shah's credit card bill payment platform...  \n",
              "2  New Zealand defeated India by 8 wickets in the...  \n",
              "3  With Aegon Life iTerm Insurance plan, customer...  \n",
              "4  Speaking about the sexual harassment allegatio...  "
            ],
            "text/html": [
              "\n",
              "  <div id=\"df-c1176f2d-ae34-4c2c-a9d4-69b66fae3ef7\">\n",
              "    <div class=\"colab-df-container\">\n",
              "      <div>\n",
              "<style scoped>\n",
              "    .dataframe tbody tr th:only-of-type {\n",
              "        vertical-align: middle;\n",
              "    }\n",
              "\n",
              "    .dataframe tbody tr th {\n",
              "        vertical-align: top;\n",
              "    }\n",
              "\n",
              "    .dataframe thead th {\n",
              "        text-align: right;\n",
              "    }\n",
              "</style>\n",
              "<table border=\"1\" class=\"dataframe\">\n",
              "  <thead>\n",
              "    <tr style=\"text-align: right;\">\n",
              "      <th></th>\n",
              "      <th>headlines</th>\n",
              "      <th>text</th>\n",
              "    </tr>\n",
              "  </thead>\n",
              "  <tbody>\n",
              "    <tr>\n",
              "      <th>0</th>\n",
              "      <td>upGrad learner switches to career in ML &amp; Al w...</td>\n",
              "      <td>Saurav Kant, an alumnus of upGrad and IIIT-B's...</td>\n",
              "    </tr>\n",
              "    <tr>\n",
              "      <th>1</th>\n",
              "      <td>Delhi techie wins free food from Swiggy for on...</td>\n",
              "      <td>Kunal Shah's credit card bill payment platform...</td>\n",
              "    </tr>\n",
              "    <tr>\n",
              "      <th>2</th>\n",
              "      <td>New Zealand end Rohit Sharma-led India's 12-ma...</td>\n",
              "      <td>New Zealand defeated India by 8 wickets in the...</td>\n",
              "    </tr>\n",
              "    <tr>\n",
              "      <th>3</th>\n",
              "      <td>Aegon life iTerm insurance plan helps customer...</td>\n",
              "      <td>With Aegon Life iTerm Insurance plan, customer...</td>\n",
              "    </tr>\n",
              "    <tr>\n",
              "      <th>4</th>\n",
              "      <td>Have known Hirani for yrs, what if MeToo claim...</td>\n",
              "      <td>Speaking about the sexual harassment allegatio...</td>\n",
              "    </tr>\n",
              "  </tbody>\n",
              "</table>\n",
              "</div>\n",
              "      <button class=\"colab-df-convert\" onclick=\"convertToInteractive('df-c1176f2d-ae34-4c2c-a9d4-69b66fae3ef7')\"\n",
              "              title=\"Convert this dataframe to an interactive table.\"\n",
              "              style=\"display:none;\">\n",
              "        \n",
              "  <svg xmlns=\"http://www.w3.org/2000/svg\" height=\"24px\"viewBox=\"0 0 24 24\"\n",
              "       width=\"24px\">\n",
              "    <path d=\"M0 0h24v24H0V0z\" fill=\"none\"/>\n",
              "    <path d=\"M18.56 5.44l.94 2.06.94-2.06 2.06-.94-2.06-.94-.94-2.06-.94 2.06-2.06.94zm-11 1L8.5 8.5l.94-2.06 2.06-.94-2.06-.94L8.5 2.5l-.94 2.06-2.06.94zm10 10l.94 2.06.94-2.06 2.06-.94-2.06-.94-.94-2.06-.94 2.06-2.06.94z\"/><path d=\"M17.41 7.96l-1.37-1.37c-.4-.4-.92-.59-1.43-.59-.52 0-1.04.2-1.43.59L10.3 9.45l-7.72 7.72c-.78.78-.78 2.05 0 2.83L4 21.41c.39.39.9.59 1.41.59.51 0 1.02-.2 1.41-.59l7.78-7.78 2.81-2.81c.8-.78.8-2.07 0-2.86zM5.41 20L4 18.59l7.72-7.72 1.47 1.35L5.41 20z\"/>\n",
              "  </svg>\n",
              "      </button>\n",
              "      \n",
              "  <style>\n",
              "    .colab-df-container {\n",
              "      display:flex;\n",
              "      flex-wrap:wrap;\n",
              "      gap: 12px;\n",
              "    }\n",
              "\n",
              "    .colab-df-convert {\n",
              "      background-color: #E8F0FE;\n",
              "      border: none;\n",
              "      border-radius: 50%;\n",
              "      cursor: pointer;\n",
              "      display: none;\n",
              "      fill: #1967D2;\n",
              "      height: 32px;\n",
              "      padding: 0 0 0 0;\n",
              "      width: 32px;\n",
              "    }\n",
              "\n",
              "    .colab-df-convert:hover {\n",
              "      background-color: #E2EBFA;\n",
              "      box-shadow: 0px 1px 2px rgba(60, 64, 67, 0.3), 0px 1px 3px 1px rgba(60, 64, 67, 0.15);\n",
              "      fill: #174EA6;\n",
              "    }\n",
              "\n",
              "    [theme=dark] .colab-df-convert {\n",
              "      background-color: #3B4455;\n",
              "      fill: #D2E3FC;\n",
              "    }\n",
              "\n",
              "    [theme=dark] .colab-df-convert:hover {\n",
              "      background-color: #434B5C;\n",
              "      box-shadow: 0px 1px 3px 1px rgba(0, 0, 0, 0.15);\n",
              "      filter: drop-shadow(0px 1px 2px rgba(0, 0, 0, 0.3));\n",
              "      fill: #FFFFFF;\n",
              "    }\n",
              "  </style>\n",
              "\n",
              "      <script>\n",
              "        const buttonEl =\n",
              "          document.querySelector('#df-c1176f2d-ae34-4c2c-a9d4-69b66fae3ef7 button.colab-df-convert');\n",
              "        buttonEl.style.display =\n",
              "          google.colab.kernel.accessAllowed ? 'block' : 'none';\n",
              "\n",
              "        async function convertToInteractive(key) {\n",
              "          const element = document.querySelector('#df-c1176f2d-ae34-4c2c-a9d4-69b66fae3ef7');\n",
              "          const dataTable =\n",
              "            await google.colab.kernel.invokeFunction('convertToInteractive',\n",
              "                                                     [key], {});\n",
              "          if (!dataTable) return;\n",
              "\n",
              "          const docLinkHtml = 'Like what you see? Visit the ' +\n",
              "            '<a target=\"_blank\" href=https://colab.research.google.com/notebooks/data_table.ipynb>data table notebook</a>'\n",
              "            + ' to learn more about interactive tables.';\n",
              "          element.innerHTML = '';\n",
              "          dataTable['output_type'] = 'display_data';\n",
              "          await google.colab.output.renderOutput(dataTable, element);\n",
              "          const docLink = document.createElement('div');\n",
              "          docLink.innerHTML = docLinkHtml;\n",
              "          element.appendChild(docLink);\n",
              "        }\n",
              "      </script>\n",
              "    </div>\n",
              "  </div>\n",
              "  "
            ]
          },
          "metadata": {},
          "execution_count": 4
        }
      ]
    },
    {
      "cell_type": "code",
      "execution_count": null,
      "metadata": {
        "colab": {
          "base_uri": "https://localhost:8080/",
          "height": 363
        },
        "id": "ADitTzA2-UUQ",
        "outputId": "b64e1d1c-6992-4eab-89d1-d0e819be6643"
      },
      "outputs": [
        {
          "output_type": "execute_result",
          "data": {
            "text/plain": [
              "                                               headlines  \\\n",
              "45222  Oscar trophies and NASA telescope are plated w...   \n",
              "15569  Iran city marks war with Iraq with images of I...   \n",
              "5790   Goa CM should unfurl Tricolour on Goa Liberati...   \n",
              "98383  WhatsApp flaw to hijack accounts through image...   \n",
              "36222  Sidharth Malhotra to play a thug in 'Shotgun S...   \n",
              "16573  UAE's Emirates, Etihad airlines deny reports o...   \n",
              "81204  Plant defence mechanism makes caterpillars can...   \n",
              "9837   11 people killed after cyclone 'Gaja' hits Tam...   \n",
              "98155  Loans to Vijay Mallya given during UPA regime:...   \n",
              "63718  Photo of missing J&K cop holding an AK-47 surf...   \n",
              "\n",
              "                                                    text  \n",
              "45222  The Oscar trophies are plated with the same go...  \n",
              "15569  The Iranian city of Shiraz commemorated the co...  \n",
              "5790   Goa Pradesh Congress Committee President Giris...  \n",
              "98383  Check Point Security has revealed a WhatsApp v...  \n",
              "36222  As per reports, actor Sidharth Malhotra will b...  \n",
              "16573  Emirates and Etihad, two state-owned airlines ...  \n",
              "81204  Researchers have found a new plant defence mec...  \n",
              "9837   At least 11 people were killed and 81,948 evac...  \n",
              "98155  Minister of State for Finance Santosh Gangwar ...  \n",
              "63718  A photo of a missing Jammu and Kashmir police ...  "
            ],
            "text/html": [
              "\n",
              "  <div id=\"df-18cdb464-ec32-4010-a10b-89798bbc9193\">\n",
              "    <div class=\"colab-df-container\">\n",
              "      <div>\n",
              "<style scoped>\n",
              "    .dataframe tbody tr th:only-of-type {\n",
              "        vertical-align: middle;\n",
              "    }\n",
              "\n",
              "    .dataframe tbody tr th {\n",
              "        vertical-align: top;\n",
              "    }\n",
              "\n",
              "    .dataframe thead th {\n",
              "        text-align: right;\n",
              "    }\n",
              "</style>\n",
              "<table border=\"1\" class=\"dataframe\">\n",
              "  <thead>\n",
              "    <tr style=\"text-align: right;\">\n",
              "      <th></th>\n",
              "      <th>headlines</th>\n",
              "      <th>text</th>\n",
              "    </tr>\n",
              "  </thead>\n",
              "  <tbody>\n",
              "    <tr>\n",
              "      <th>45222</th>\n",
              "      <td>Oscar trophies and NASA telescope are plated w...</td>\n",
              "      <td>The Oscar trophies are plated with the same go...</td>\n",
              "    </tr>\n",
              "    <tr>\n",
              "      <th>15569</th>\n",
              "      <td>Iran city marks war with Iraq with images of I...</td>\n",
              "      <td>The Iranian city of Shiraz commemorated the co...</td>\n",
              "    </tr>\n",
              "    <tr>\n",
              "      <th>5790</th>\n",
              "      <td>Goa CM should unfurl Tricolour on Goa Liberati...</td>\n",
              "      <td>Goa Pradesh Congress Committee President Giris...</td>\n",
              "    </tr>\n",
              "    <tr>\n",
              "      <th>98383</th>\n",
              "      <td>WhatsApp flaw to hijack accounts through image...</td>\n",
              "      <td>Check Point Security has revealed a WhatsApp v...</td>\n",
              "    </tr>\n",
              "    <tr>\n",
              "      <th>36222</th>\n",
              "      <td>Sidharth Malhotra to play a thug in 'Shotgun S...</td>\n",
              "      <td>As per reports, actor Sidharth Malhotra will b...</td>\n",
              "    </tr>\n",
              "    <tr>\n",
              "      <th>16573</th>\n",
              "      <td>UAE's Emirates, Etihad airlines deny reports o...</td>\n",
              "      <td>Emirates and Etihad, two state-owned airlines ...</td>\n",
              "    </tr>\n",
              "    <tr>\n",
              "      <th>81204</th>\n",
              "      <td>Plant defence mechanism makes caterpillars can...</td>\n",
              "      <td>Researchers have found a new plant defence mec...</td>\n",
              "    </tr>\n",
              "    <tr>\n",
              "      <th>9837</th>\n",
              "      <td>11 people killed after cyclone 'Gaja' hits Tam...</td>\n",
              "      <td>At least 11 people were killed and 81,948 evac...</td>\n",
              "    </tr>\n",
              "    <tr>\n",
              "      <th>98155</th>\n",
              "      <td>Loans to Vijay Mallya given during UPA regime:...</td>\n",
              "      <td>Minister of State for Finance Santosh Gangwar ...</td>\n",
              "    </tr>\n",
              "    <tr>\n",
              "      <th>63718</th>\n",
              "      <td>Photo of missing J&amp;K cop holding an AK-47 surf...</td>\n",
              "      <td>A photo of a missing Jammu and Kashmir police ...</td>\n",
              "    </tr>\n",
              "  </tbody>\n",
              "</table>\n",
              "</div>\n",
              "      <button class=\"colab-df-convert\" onclick=\"convertToInteractive('df-18cdb464-ec32-4010-a10b-89798bbc9193')\"\n",
              "              title=\"Convert this dataframe to an interactive table.\"\n",
              "              style=\"display:none;\">\n",
              "        \n",
              "  <svg xmlns=\"http://www.w3.org/2000/svg\" height=\"24px\"viewBox=\"0 0 24 24\"\n",
              "       width=\"24px\">\n",
              "    <path d=\"M0 0h24v24H0V0z\" fill=\"none\"/>\n",
              "    <path d=\"M18.56 5.44l.94 2.06.94-2.06 2.06-.94-2.06-.94-.94-2.06-.94 2.06-2.06.94zm-11 1L8.5 8.5l.94-2.06 2.06-.94-2.06-.94L8.5 2.5l-.94 2.06-2.06.94zm10 10l.94 2.06.94-2.06 2.06-.94-2.06-.94-.94-2.06-.94 2.06-2.06.94z\"/><path d=\"M17.41 7.96l-1.37-1.37c-.4-.4-.92-.59-1.43-.59-.52 0-1.04.2-1.43.59L10.3 9.45l-7.72 7.72c-.78.78-.78 2.05 0 2.83L4 21.41c.39.39.9.59 1.41.59.51 0 1.02-.2 1.41-.59l7.78-7.78 2.81-2.81c.8-.78.8-2.07 0-2.86zM5.41 20L4 18.59l7.72-7.72 1.47 1.35L5.41 20z\"/>\n",
              "  </svg>\n",
              "      </button>\n",
              "      \n",
              "  <style>\n",
              "    .colab-df-container {\n",
              "      display:flex;\n",
              "      flex-wrap:wrap;\n",
              "      gap: 12px;\n",
              "    }\n",
              "\n",
              "    .colab-df-convert {\n",
              "      background-color: #E8F0FE;\n",
              "      border: none;\n",
              "      border-radius: 50%;\n",
              "      cursor: pointer;\n",
              "      display: none;\n",
              "      fill: #1967D2;\n",
              "      height: 32px;\n",
              "      padding: 0 0 0 0;\n",
              "      width: 32px;\n",
              "    }\n",
              "\n",
              "    .colab-df-convert:hover {\n",
              "      background-color: #E2EBFA;\n",
              "      box-shadow: 0px 1px 2px rgba(60, 64, 67, 0.3), 0px 1px 3px 1px rgba(60, 64, 67, 0.15);\n",
              "      fill: #174EA6;\n",
              "    }\n",
              "\n",
              "    [theme=dark] .colab-df-convert {\n",
              "      background-color: #3B4455;\n",
              "      fill: #D2E3FC;\n",
              "    }\n",
              "\n",
              "    [theme=dark] .colab-df-convert:hover {\n",
              "      background-color: #434B5C;\n",
              "      box-shadow: 0px 1px 3px 1px rgba(0, 0, 0, 0.15);\n",
              "      filter: drop-shadow(0px 1px 2px rgba(0, 0, 0, 0.3));\n",
              "      fill: #FFFFFF;\n",
              "    }\n",
              "  </style>\n",
              "\n",
              "      <script>\n",
              "        const buttonEl =\n",
              "          document.querySelector('#df-18cdb464-ec32-4010-a10b-89798bbc9193 button.colab-df-convert');\n",
              "        buttonEl.style.display =\n",
              "          google.colab.kernel.accessAllowed ? 'block' : 'none';\n",
              "\n",
              "        async function convertToInteractive(key) {\n",
              "          const element = document.querySelector('#df-18cdb464-ec32-4010-a10b-89798bbc9193');\n",
              "          const dataTable =\n",
              "            await google.colab.kernel.invokeFunction('convertToInteractive',\n",
              "                                                     [key], {});\n",
              "          if (!dataTable) return;\n",
              "\n",
              "          const docLinkHtml = 'Like what you see? Visit the ' +\n",
              "            '<a target=\"_blank\" href=https://colab.research.google.com/notebooks/data_table.ipynb>data table notebook</a>'\n",
              "            + ' to learn more about interactive tables.';\n",
              "          element.innerHTML = '';\n",
              "          dataTable['output_type'] = 'display_data';\n",
              "          await google.colab.output.renderOutput(dataTable, element);\n",
              "          const docLink = document.createElement('div');\n",
              "          docLink.innerHTML = docLinkHtml;\n",
              "          element.appendChild(docLink);\n",
              "        }\n",
              "      </script>\n",
              "    </div>\n",
              "  </div>\n",
              "  "
            ]
          },
          "metadata": {},
          "execution_count": 5
        }
      ],
      "source": [
        "data.sample(10)"
      ]
    },
    {
      "cell_type": "markdown",
      "metadata": {
        "id": "ZXOivtBv-WI3"
      },
      "source": [
        "이 데이터는 기사의 본문에 해당되는 text와 headlines 두 가지 열로 구성되어져 있습니다.\n",
        "\n",
        "추상적 요약을 하는 경우에는 text를 본문, headlines를 이미 요약된 데이터로 삼아서 모델을 학습할 수 있어요. 추출적 요약을 하는 경우에는 오직 text열만을 사용하세요."
      ]
    },
    {
      "cell_type": "markdown",
      "metadata": {
        "id": "jZHcZ-rL-gYw"
      },
      "source": [
        "## **Step 2. 데이터 전처리하기 (추상적 요약)**\n",
        "실습에서 사용된 전처리를 참고하여 각자 필요하다고 생각하는 전처리를 추가 사용하여 텍스트를 정규화 또는 정제해 보세요. 만약, 불용어 제거를 선택한다면 상대적으로 길이가 짧은 요약 데이터에 대해서도 불용어를 제거하는 것이 좋을지 고민해 보세요.  \n",
        "추상적 요약을 하는 경우에는 text를 본문, headlines를 이미 요약된 데이터로 삼아서 모델을 학습\n"
      ]
    },
    {
      "cell_type": "markdown",
      "metadata": {
        "id": "b7Nw-wm3AZeQ"
      },
      "source": [
        "### (1) 데이터 정리"
      ]
    },
    {
      "cell_type": "markdown",
      "metadata": {
        "id": "Vc8A_d08J2pu"
      },
      "source": [
        "#### 중복 샘플과 null값 존재하는 샘플 제거"
      ]
    },
    {
      "cell_type": "code",
      "execution_count": null,
      "metadata": {
        "colab": {
          "base_uri": "https://localhost:8080/"
        },
        "id": "hDMaOae9J-_U",
        "outputId": "f43ba566-e5d9-4b80-d23c-696d68ce1467"
      },
      "outputs": [
        {
          "output_type": "stream",
          "name": "stdout",
          "text": [
            "text 열에서 중복을 배제한 유일한 샘플의 수 : 98360\n",
            "headlines 열에서 중복을 배제한 유일한 샘플의 수 : 98280\n"
          ]
        }
      ],
      "source": [
        "print('text 열에서 중복을 배제한 유일한 샘플의 수 :', data['text'].nunique()) # nunique : 고유값 수 출력 / unique : 고유값 출력\n",
        "print('headlines 열에서 중복을 배제한 유일한 샘플의 수 :', data['headlines'].nunique())"
      ]
    },
    {
      "cell_type": "code",
      "execution_count": null,
      "metadata": {
        "colab": {
          "base_uri": "https://localhost:8080/"
        },
        "id": "Rcn_mSGGNKHc",
        "outputId": "9efcd0f5-0ac7-4d73-a02a-3f97b4521be3"
      },
      "outputs": [
        {
          "output_type": "stream",
          "name": "stdout",
          "text": [
            "전체 샘플수 : 98360\n"
          ]
        }
      ],
      "source": [
        "# inplace=True 를 설정하면 DataFrame 타입 값을 return 하지 않고 data 내부를 직접적으로 바꿉니다\n",
        "data.drop_duplicates(subset = ['text'], inplace=True)\n",
        "print('전체 샘플수 :', (len(data)))"
      ]
    },
    {
      "cell_type": "code",
      "execution_count": null,
      "metadata": {
        "colab": {
          "base_uri": "https://localhost:8080/"
        },
        "id": "YaB4PuVrOOEE",
        "outputId": "26c54c9c-be10-4cdc-9db3-b5095089ae73"
      },
      "outputs": [
        {
          "output_type": "stream",
          "name": "stdout",
          "text": [
            "headlines    0\n",
            "text         0\n",
            "dtype: int64\n"
          ]
        }
      ],
      "source": [
        "print(data.isnull().sum())"
      ]
    },
    {
      "cell_type": "markdown",
      "metadata": {
        "id": "te0SuahUOPSm"
      },
      "source": [
        "null이 이제 없네~"
      ]
    },
    {
      "cell_type": "code",
      "execution_count": null,
      "metadata": {
        "colab": {
          "base_uri": "https://localhost:8080/"
        },
        "id": "DCsbj324OUqE",
        "outputId": "64b63f3f-bce6-4149-b3fe-0a0cc1157125"
      },
      "outputs": [
        {
          "output_type": "stream",
          "name": "stdout",
          "text": [
            "전체 샘플수 : 98360\n"
          ]
        }
      ],
      "source": [
        "print('전체 샘플수 :', (len(data)))"
      ]
    },
    {
      "cell_type": "markdown",
      "metadata": {
        "id": "NvUAYLmJOXHm"
      },
      "source": [
        "십만개 샘플 중 2천개정도 제거됐네요~"
      ]
    },
    {
      "cell_type": "markdown",
      "metadata": {
        "id": "DFNxuB4zOj_3"
      },
      "source": [
        "#### 텍스트 정규화와 불용어 제거\n"
      ]
    },
    {
      "cell_type": "markdown",
      "metadata": {
        "id": "gqwy5lTf7ms-"
      },
      "source": [
        "* 같은 의미인 표현들을 묶어서 텍스트 정규화\n",
        "* NLTK에서 제공하고 있는 불용어 리스트를 이용, 제거  \n",
        "\n",
        "    [정규화 사전 출처](https://stackoverflow.com/questions/19790188/expanding-english-language-contractions-in-python)"
      ]
    },
    {
      "cell_type": "code",
      "execution_count": null,
      "metadata": {
        "colab": {
          "base_uri": "https://localhost:8080/"
        },
        "id": "RG116gc2Om8v",
        "outputId": "9696ed51-a517-4e23-daf3-8588f11bb0b5"
      },
      "outputs": [
        {
          "output_type": "stream",
          "name": "stdout",
          "text": [
            "정규화 사전의 수:  120\n"
          ]
        }
      ],
      "source": [
        "contractions = {\"ain't\": \"is not\", \"aren't\": \"are not\",\"can't\": \"cannot\", \"'cause\": \"because\", \"could've\": \"could have\", \"couldn't\": \"could not\",\n",
        "                           \"didn't\": \"did not\",  \"doesn't\": \"does not\", \"don't\": \"do not\", \"hadn't\": \"had not\", \"hasn't\": \"has not\", \"haven't\": \"have not\",\n",
        "                           \"he'd\": \"he would\",\"he'll\": \"he will\", \"he's\": \"he is\", \"how'd\": \"how did\", \"how'd'y\": \"how do you\", \"how'll\": \"how will\", \"how's\": \"how is\",\n",
        "                           \"I'd\": \"I would\", \"I'd've\": \"I would have\", \"I'll\": \"I will\", \"I'll've\": \"I will have\",\"I'm\": \"I am\", \"I've\": \"I have\", \"i'd\": \"i would\",\n",
        "                           \"i'd've\": \"i would have\", \"i'll\": \"i will\",  \"i'll've\": \"i will have\",\"i'm\": \"i am\", \"i've\": \"i have\", \"isn't\": \"is not\", \"it'd\": \"it would\",\n",
        "                           \"it'd've\": \"it would have\", \"it'll\": \"it will\", \"it'll've\": \"it will have\",\"it's\": \"it is\", \"let's\": \"let us\", \"ma'am\": \"madam\",\n",
        "                           \"mayn't\": \"may not\", \"might've\": \"might have\",\"mightn't\": \"might not\",\"mightn't've\": \"might not have\", \"must've\": \"must have\",\n",
        "                           \"mustn't\": \"must not\", \"mustn't've\": \"must not have\", \"needn't\": \"need not\", \"needn't've\": \"need not have\",\"o'clock\": \"of the clock\",\n",
        "                           \"oughtn't\": \"ought not\", \"oughtn't've\": \"ought not have\", \"shan't\": \"shall not\", \"sha'n't\": \"shall not\", \"shan't've\": \"shall not have\",\n",
        "                           \"she'd\": \"she would\", \"she'd've\": \"she would have\", \"she'll\": \"she will\", \"she'll've\": \"she will have\", \"she's\": \"she is\",\n",
        "                           \"should've\": \"should have\", \"shouldn't\": \"should not\", \"shouldn't've\": \"should not have\", \"so've\": \"so have\",\"so's\": \"so as\",\n",
        "                           \"this's\": \"this is\",\"that'd\": \"that would\", \"that'd've\": \"that would have\", \"that's\": \"that is\", \"there'd\": \"there would\",\n",
        "                           \"there'd've\": \"there would have\", \"there's\": \"there is\", \"here's\": \"here is\",\"they'd\": \"they would\", \"they'd've\": \"they would have\",\n",
        "                           \"they'll\": \"they will\", \"they'll've\": \"they will have\", \"they're\": \"they are\", \"they've\": \"they have\", \"to've\": \"to have\",\n",
        "                           \"wasn't\": \"was not\", \"we'd\": \"we would\", \"we'd've\": \"we would have\", \"we'll\": \"we will\", \"we'll've\": \"we will have\", \"we're\": \"we are\",\n",
        "                           \"we've\": \"we have\", \"weren't\": \"were not\", \"what'll\": \"what will\", \"what'll've\": \"what will have\", \"what're\": \"what are\",\n",
        "                           \"what's\": \"what is\", \"what've\": \"what have\", \"when's\": \"when is\", \"when've\": \"when have\", \"where'd\": \"where did\", \"where's\": \"where is\",\n",
        "                           \"where've\": \"where have\", \"who'll\": \"who will\", \"who'll've\": \"who will have\", \"who's\": \"who is\", \"who've\": \"who have\",\n",
        "                           \"why's\": \"why is\", \"why've\": \"why have\", \"will've\": \"will have\", \"won't\": \"will not\", \"won't've\": \"will not have\",\n",
        "                           \"would've\": \"would have\", \"wouldn't\": \"would not\", \"wouldn't've\": \"would not have\", \"y'all\": \"you all\",\n",
        "                           \"y'all'd\": \"you all would\",\"y'all'd've\": \"you all would have\",\"y'all're\": \"you all are\",\"y'all've\": \"you all have\",\n",
        "                           \"you'd\": \"you would\", \"you'd've\": \"you would have\", \"you'll\": \"you will\", \"you'll've\": \"you will have\",\n",
        "                           \"you're\": \"you are\", \"you've\": \"you have\"}\n",
        "\n",
        "print(\"정규화 사전의 수: \", len(contractions))"
      ]
    },
    {
      "cell_type": "code",
      "execution_count": null,
      "metadata": {
        "colab": {
          "base_uri": "https://localhost:8080/"
        },
        "id": "qWZEqMv7OrQM",
        "outputId": "ca786a55-f7ad-4a7c-ec86-f5943b870683"
      },
      "outputs": [
        {
          "output_type": "stream",
          "name": "stdout",
          "text": [
            "불용어 개수 : 179\n",
            "['i', 'me', 'my', 'myself', 'we', 'our', 'ours', 'ourselves', 'you', \"you're\", \"you've\", \"you'll\", \"you'd\", 'your', 'yours', 'yourself', 'yourselves', 'he', 'him', 'his', 'himself', 'she', \"she's\", 'her', 'hers', 'herself', 'it', \"it's\", 'its', 'itself', 'they', 'them', 'their', 'theirs', 'themselves', 'what', 'which', 'who', 'whom', 'this', 'that', \"that'll\", 'these', 'those', 'am', 'is', 'are', 'was', 'were', 'be', 'been', 'being', 'have', 'has', 'had', 'having', 'do', 'does', 'did', 'doing', 'a', 'an', 'the', 'and', 'but', 'if', 'or', 'because', 'as', 'until', 'while', 'of', 'at', 'by', 'for', 'with', 'about', 'against', 'between', 'into', 'through', 'during', 'before', 'after', 'above', 'below', 'to', 'from', 'up', 'down', 'in', 'out', 'on', 'off', 'over', 'under', 'again', 'further', 'then', 'once', 'here', 'there', 'when', 'where', 'why', 'how', 'all', 'any', 'both', 'each', 'few', 'more', 'most', 'other', 'some', 'such', 'no', 'nor', 'not', 'only', 'own', 'same', 'so', 'than', 'too', 'very', 's', 't', 'can', 'will', 'just', 'don', \"don't\", 'should', \"should've\", 'now', 'd', 'll', 'm', 'o', 're', 've', 'y', 'ain', 'aren', \"aren't\", 'couldn', \"couldn't\", 'didn', \"didn't\", 'doesn', \"doesn't\", 'hadn', \"hadn't\", 'hasn', \"hasn't\", 'haven', \"haven't\", 'isn', \"isn't\", 'ma', 'mightn', \"mightn't\", 'mustn', \"mustn't\", 'needn', \"needn't\", 'shan', \"shan't\", 'shouldn', \"shouldn't\", 'wasn', \"wasn't\", 'weren', \"weren't\", 'won', \"won't\", 'wouldn', \"wouldn't\"]\n"
          ]
        }
      ],
      "source": [
        "print('불용어 개수 :', len(stopwords.words('english') ))\n",
        "print(stopwords.words('english'))"
      ]
    },
    {
      "cell_type": "markdown",
      "metadata": {
        "id": "CvRWbR7U8U9O"
      },
      "source": [
        "##### 데이터 전처리 함수 작성  \n",
        "Text 전처리 시에만 불용어 제거, headline 전처리 시에는 결과문이 어색해 지지 않도록 불용어 내비둠."
      ]
    },
    {
      "cell_type": "code",
      "execution_count": null,
      "metadata": {
        "colab": {
          "base_uri": "https://localhost:8080/"
        },
        "id": "S5LQ7vhN8MWm",
        "outputId": "b634fbfd-c558-49fa-e450-bb3b93b5de46"
      },
      "outputs": [
        {
          "output_type": "stream",
          "name": "stdout",
          "text": [
            "=3\n"
          ]
        }
      ],
      "source": [
        "# 데이터 전처리 함수\n",
        "def preprocess_sentence(sentence, remove_stopwords=True):\n",
        "    sentence = sentence.lower() # 텍스트 소문자화\n",
        "    sentence = BeautifulSoup(sentence, \"lxml\").text # <br />, <a href = ...> 등의 html 태그 제거\n",
        "    sentence = re.sub(r'\\([^)]*\\)', '', sentence) # 괄호로 닫힌 문자열 (...) 제거 Ex) my husband (and myself!) for => my husband for\n",
        "    sentence = re.sub('\"','', sentence) # 쌍따옴표 \" 제거\n",
        "    sentence = ' '.join([contractions[t] if t in contractions else t for t in sentence.split(\" \")]) # 약어 정규화\n",
        "    sentence = re.sub(r\"'s\\b\",\"\", sentence) # 소유격 제거. Ex) roland's -> roland\n",
        "    sentence = re.sub(\"[^a-zA-Z]\", \" \", sentence) # 영어 외 문자(숫자, 특수문자 등) 공백으로 변환\n",
        "    sentence = re.sub('[m]{2,}', 'mm', sentence) # m이 3개 이상이면 2개로 변경. Ex) ummmmmmm yeah -> umm yeah\n",
        "    \n",
        "    # 불용어 제거 (text)\n",
        "    if remove_stopwords:\n",
        "        tokens = ' '.join(word for word in sentence.split() if not word in stopwords.words('english') if len(word) > 1)\n",
        "    # 불용어 미제거 (summary))\n",
        "    else:\n",
        "        tokens = ' '.join(word for word in sentence.split() if len(word) > 1)\n",
        "    return tokens\n",
        "print('=3')"
      ]
    },
    {
      "cell_type": "code",
      "execution_count": null,
      "metadata": {
        "colab": {
          "base_uri": "https://localhost:8080/"
        },
        "id": "j7dMO1px8qR2",
        "outputId": "6e1d2227-1750-4a56-fc56-b8093c3b47bb"
      },
      "outputs": [
        {
          "output_type": "stream",
          "name": "stdout",
          "text": [
            "text:  everything bought great fact ordered twice third ordered wasfor mother father\n",
            "summary: great way to start your day\n"
          ]
        }
      ],
      "source": [
        "temp_text = 'Everything I bought was great, in fact I ordered twice and the third ordered was<br />for my mother and father.'\n",
        "temp_summary = 'Great way to start (or finish) your day !!!'\n",
        "\n",
        "print(\"text: \", preprocess_sentence(temp_text))\n",
        "print(\"summary:\", preprocess_sentence(temp_summary, False))  # 불용어를 제거하지 않습니다."
      ]
    },
    {
      "cell_type": "markdown",
      "metadata": {
        "id": "j3epm9jN8MJ3"
      },
      "source": [
        "소문자 변환, 괄호 제거, html 태그 제거, 특문 제거, 'your'과 같은 불용어 summary에서는 제거 안되게 완료!"
      ]
    },
    {
      "cell_type": "markdown",
      "metadata": {
        "id": "LgrVUXwaAtit"
      },
      "source": [
        "#### 전처리 적용"
      ]
    },
    {
      "cell_type": "markdown",
      "metadata": {
        "id": "XaUPgHH7-dGR"
      },
      "source": [
        "전체 text 데이터에 대한 전처리를 수행합니다."
      ]
    },
    {
      "cell_type": "code",
      "execution_count": null,
      "metadata": {
        "colab": {
          "base_uri": "https://localhost:8080/"
        },
        "id": "Zb1v2fOloRBt",
        "outputId": "5f2d8be3-c12a-40e8-ee47-06c0efce5035"
      },
      "outputs": [
        {
          "output_type": "stream",
          "name": "stdout",
          "text": [
            "Text 전처리 후 결과:  ['saurav kant alumnus upgrad iiit pg program machine learning artificial intelligence sr systems engineer infosys almost years work experience program upgrad degree career support helped transition data scientist tech mahindra salary hike upgrad online power learning powered lakh careers', 'kunal shah credit card bill payment platform cred gave users chance win free food swiggy one year pranav kaushik delhi techie bagged reward spending cred coins users get one cred coin per rupee bill paid used avail rewards brands like ixigo bookmyshow ubereats cult fit', 'new zealand defeated india wickets fourth odi hamilton thursday win first match five match odi series india lost international match rohit sharma captaincy consecutive victories dating back march match witnessed india getting seventh lowest total odi cricket history', 'aegon life iterm insurance plan customers enjoy tax benefits premiums paid save taxes plan provides life cover age years also customers options insure critical illnesses disability accidental death benefit rider life cover age years', 'speaking sexual harassment allegations rajkumar hirani sonam kapoor said known hirani many years true metoo movement get derailed metoo movement always believe woman case need reserve judgment added hirani accused assistant worked sanju']\n"
          ]
        }
      ],
      "source": [
        "clean_text = []\n",
        "# 전체 Text 데이터에 대한 전처리 : 10분 이상 시간이 걸릴 수 있습니다. !!!\n",
        "for s in data['text']:\n",
        "    clean_text.append(preprocess_sentence(s))\n",
        "\n",
        "# 전처리 후 출력\n",
        "print(\"Text 전처리 후 결과: \", clean_text[:5])"
      ]
    },
    {
      "cell_type": "markdown",
      "metadata": {
        "id": "8efkAKTi946v"
      },
      "source": [
        "모든 headlines 데이터에 전처리를 수행해줍니다."
      ]
    },
    {
      "cell_type": "code",
      "execution_count": null,
      "metadata": {
        "colab": {
          "base_uri": "https://localhost:8080/"
        },
        "id": "0_ckL_yToTDO",
        "outputId": "cfe94b07-a406-40b9-aa4f-0eef72787d05"
      },
      "outputs": [
        {
          "output_type": "stream",
          "name": "stdout",
          "text": [
            "headlines 전처리 후 결과:  ['upgrad learner switches to career in ml al with salary hike', 'delhi techie wins free food from swiggy for one year on cred', 'new zealand end rohit sharma led india match winning streak', 'aegon life iterm insurance plan helps customers save tax', 'have known hirani for yrs what if metoo claims are not true sonam']\n"
          ]
        }
      ],
      "source": [
        "clean_summary = []\n",
        "# 전체 Summary 데이터에 대한 전처리 : 5분 이상 시간이 걸릴 수 있습니다. \n",
        "for s in data['headlines']:\n",
        "    clean_summary.append(preprocess_sentence(s, False))\n",
        "\n",
        "print(\"headlines 전처리 후 결과: \", clean_summary[:5])"
      ]
    },
    {
      "cell_type": "markdown",
      "metadata": {
        "id": "QNexvZOL_QVq"
      },
      "source": [
        "빈 값 확인하고, 있으면 null로 대체"
      ]
    },
    {
      "cell_type": "code",
      "execution_count": null,
      "metadata": {
        "colab": {
          "base_uri": "https://localhost:8080/"
        },
        "id": "pJQHeOY4oVMP",
        "outputId": "05a12e03-ce1f-4b03-c913-8ffa54de1bf9"
      },
      "outputs": [
        {
          "output_type": "stream",
          "name": "stdout",
          "text": [
            "=3\n"
          ]
        }
      ],
      "source": [
        "data['text'] = clean_text\n",
        "data['headlines'] = clean_summary\n",
        "\n",
        "# 빈 값을 Null 값으로 변환\n",
        "data.replace('', np.nan, inplace=True)\n",
        "print('=3')"
      ]
    },
    {
      "cell_type": "code",
      "execution_count": null,
      "metadata": {
        "colab": {
          "base_uri": "https://localhost:8080/"
        },
        "id": "DwPcdlK__XtV",
        "outputId": "8c347f9d-0109-450b-eb2d-cf3933cc3d4a"
      },
      "outputs": [
        {
          "output_type": "execute_result",
          "data": {
            "text/plain": [
              "headlines    0\n",
              "text         0\n",
              "dtype: int64"
            ]
          },
          "metadata": {},
          "execution_count": 17
        }
      ],
      "source": [
        "data.isnull().sum()"
      ]
    },
    {
      "cell_type": "markdown",
      "metadata": {
        "id": "WkctAxKI_Yf6"
      },
      "source": [
        "null값이 없어요..!!! 정제 과정에서 단어가 다 제거돼서 null이 되어버린 샘플이 없다는것"
      ]
    },
    {
      "cell_type": "code",
      "execution_count": null,
      "metadata": {
        "colab": {
          "base_uri": "https://localhost:8080/"
        },
        "id": "AZnRrYS-_dA_",
        "outputId": "fa978c35-db19-4396-d39a-50ca3b13427a"
      },
      "outputs": [
        {
          "output_type": "stream",
          "name": "stdout",
          "text": [
            "전체 샘플수 : 98360\n"
          ]
        }
      ],
      "source": [
        "data.dropna(axis=0, inplace=True)\n",
        "print('전체 샘플수 :', (len(data)))"
      ]
    },
    {
      "cell_type": "markdown",
      "metadata": {
        "id": "HB2Wx5xjAQAp"
      },
      "source": [
        "### (2) 훈련데이터와 테스트데이터 나누기"
      ]
    },
    {
      "cell_type": "markdown",
      "metadata": {
        "id": "63GCaSLvA6Yt"
      },
      "source": [
        "#### 샘플 최대 길이 정하기"
      ]
    },
    {
      "cell_type": "code",
      "execution_count": null,
      "metadata": {
        "colab": {
          "base_uri": "https://localhost:8080/",
          "height": 962
        },
        "id": "V-sv3h8Pul7m",
        "outputId": "494a416f-2914-4536-c689-ebb9d46a8d6e"
      },
      "outputs": [
        {
          "output_type": "stream",
          "name": "stdout",
          "text": [
            "텍스트의 최소 길이 : 1\n",
            "텍스트의 최대 길이 : 60\n",
            "텍스트의 평균 길이 : 35.09968483123221\n",
            "요약의 최소 길이 : 1\n",
            "요약의 최대 길이 : 16\n",
            "요약의 평균 길이 : 9.299532330215534\n"
          ]
        },
        {
          "output_type": "display_data",
          "data": {
            "text/plain": [
              "<Figure size 432x288 with 2 Axes>"
            ],
            "image/png": "[encoded data removed]"
          },
          "metadata": {
            "needs_background": "light"
          }
        },
        {
          "output_type": "display_data",
          "data": {
            "text/plain": [
              "<Figure size 432x288 with 1 Axes>"
            ],
            "image/png": "[encoded data removed]"
          },
          "metadata": {
            "needs_background": "light"
          }
        },
        {
          "output_type": "display_data",
          "data": {
            "text/plain": [
              "<Figure size 432x288 with 1 Axes>"
            ],
            "image/png": "[encoded data removed]"
          },
          "metadata": {
            "needs_background": "light"
          }
        }
      ],
      "source": [
        "# 길이 분포 출력\n",
        "import matplotlib.pyplot as plt\n",
        "\n",
        "text_len = [len(s.split()) for s in data['text']]\n",
        "summary_len = [len(s.split()) for s in data['headlines']]\n",
        "\n",
        "print('텍스트의 최소 길이 : {}'.format(np.min(text_len)))\n",
        "print('텍스트의 최대 길이 : {}'.format(np.max(text_len)))\n",
        "print('텍스트의 평균 길이 : {}'.format(np.mean(text_len)))\n",
        "print('요약의 최소 길이 : {}'.format(np.min(summary_len)))\n",
        "print('요약의 최대 길이 : {}'.format(np.max(summary_len)))\n",
        "print('요약의 평균 길이 : {}'.format(np.mean(summary_len)))\n",
        "\n",
        "plt.subplot(1,2,1)\n",
        "plt.boxplot(text_len)\n",
        "plt.title('Text')\n",
        "plt.subplot(1,2,2)\n",
        "plt.boxplot(summary_len)\n",
        "plt.title('Summary')\n",
        "plt.tight_layout()\n",
        "plt.show()\n",
        "\n",
        "plt.title('Text')\n",
        "plt.hist(text_len, bins = 40)\n",
        "plt.xlabel('length of samples')\n",
        "plt.ylabel('number of samples')\n",
        "plt.show()\n",
        "\n",
        "plt.title('Summary')\n",
        "plt.hist(summary_len, bins = 40)\n",
        "plt.xlabel('length of samples')\n",
        "plt.ylabel('number of samples')\n",
        "plt.show()"
      ]
    },
    {
      "cell_type": "markdown",
      "metadata": {
        "id": "fYrAkhQZCaTx"
      },
      "source": [
        "텍스트의 최소 길이 : 1  \n",
        "텍스트의 최대 길이 : 60  \n",
        "텍스트의 평균 길이 : 35.09968483123221  \n",
        "요약의 최소 길이 : 1  \n",
        "요약의 최대 길이 : 16  \n",
        "요약의 평균 길이 : 9.299532330215534  \n",
        "최소 길이와 최대 길이를 봤을 때 차이가 좀 나긴 하지만 보통 중간값에 평균이 수렴했다.  \n"
      ]
    },
    {
      "cell_type": "markdown",
      "metadata": {
        "id": "AN0Q7e4XMUw7"
      },
      "source": [
        "그래프를 참고해서 적절한 최대 길이를 정해봤다."
      ]
    },
    {
      "cell_type": "code",
      "execution_count": null,
      "metadata": {
        "colab": {
          "base_uri": "https://localhost:8080/"
        },
        "id": "1T0lTV5XurKU",
        "outputId": "f38e1cb1-672c-4900-ffce-178414f946bf"
      },
      "outputs": [
        {
          "output_type": "stream",
          "name": "stdout",
          "text": [
            "=3\n"
          ]
        }
      ],
      "source": [
        "text_max_len = 40\n",
        "summary_max_len = 12\n",
        "print('=3')"
      ]
    },
    {
      "cell_type": "code",
      "execution_count": null,
      "metadata": {
        "colab": {
          "base_uri": "https://localhost:8080/"
        },
        "id": "2ly2LN66uz23",
        "outputId": "d7522047-9129-4bb9-c850-992e80702e67"
      },
      "outputs": [
        {
          "output_type": "stream",
          "name": "stdout",
          "text": [
            "=3\n"
          ]
        }
      ],
      "source": [
        "def below_threshold_len(max_len, nested_list):\n",
        "  cnt = 0\n",
        "  for s in nested_list:\n",
        "    if(len(s.split()) <= max_len):\n",
        "        cnt = cnt + 1\n",
        "  print('전체 샘플 중 길이가 %s 이하인 샘플의 비율: %s'%(max_len, (cnt / len(nested_list))))\n",
        "print('=3')"
      ]
    },
    {
      "cell_type": "code",
      "execution_count": null,
      "metadata": {
        "colab": {
          "base_uri": "https://localhost:8080/"
        },
        "id": "czY3tmuAu2EW",
        "outputId": "8ccf9f8a-25f9-415a-a651-c63849c3153f"
      },
      "outputs": [
        {
          "output_type": "stream",
          "name": "stdout",
          "text": [
            "전체 샘플 중 길이가 40 이하인 샘플의 비율: 0.9238714924766165\n",
            "전체 샘플 중 길이가 12 이하인 샘플의 비율: 0.9880337535583571\n"
          ]
        }
      ],
      "source": [
        "below_threshold_len(text_max_len, data['text'])\n",
        "below_threshold_len(summary_max_len,  data['headlines'])"
      ]
    },
    {
      "cell_type": "markdown",
      "metadata": {
        "id": "DTfkjKU3MyAH"
      },
      "source": [
        "90%를 넘으니 샘플 길이 소실이 적을 것 같습니다.\n",
        "그러나 길이에 맞춰 자르는 것 보다 정해진 길이보다 길면 제외하도록 하겠습니다."
      ]
    },
    {
      "cell_type": "code",
      "execution_count": null,
      "metadata": {
        "colab": {
          "base_uri": "https://localhost:8080/"
        },
        "id": "VxgyQ3Jlu47G",
        "outputId": "36a7641d-93a9-4e4f-f3b0-fa02f67e9031"
      },
      "outputs": [
        {
          "output_type": "stream",
          "name": "stdout",
          "text": [
            "전체 샘플수 : 89775\n"
          ]
        }
      ],
      "source": [
        "data = data[data['text'].apply(lambda x: len(x.split()) <= text_max_len)]\n",
        "data = data[data['headlines'].apply(lambda x: len(x.split()) <= summary_max_len)]\n",
        "print('전체 샘플수 :', (len(data)))"
      ]
    },
    {
      "cell_type": "markdown",
      "metadata": {
        "id": "QTOG7dD9NvGV"
      },
      "source": [
        "전처리 후 98,360개였던 샘플이 89,775개가 되었습니다."
      ]
    },
    {
      "cell_type": "markdown",
      "metadata": {
        "id": "rrgV_3JcbsR8"
      },
      "source": [
        "#### 시작 토큰과 종료 토큰 추가하기"
      ]
    },
    {
      "cell_type": "markdown",
      "metadata": {
        "id": "wt-h6fFbb21u"
      },
      "source": [
        "![image.png](data:image/png;base64,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)"
      ]
    },
    {
      "cell_type": "markdown",
      "metadata": {
        "id": "Q6eeYvqub9k2"
      },
      "source": [
        "seq2seq 훈련하려면 디코더 입력, 레이블에 시작토큰, 종료토큰을 추가해야됨  \n",
        "시작토큰 = sostoken 종료토큰 = eostoken 이라고 추가해보자!  \n",
        "decoder_input = 디코더 입력이면서 시작토큰이 맨 앞에 있는 문장  \n",
        "decoder_target = 디코더 출력 / 레이블에 해당되면서 종료 토큰이 맨 뒤에 붙은 문장  \n"
      ]
    },
    {
      "cell_type": "code",
      "execution_count": null,
      "metadata": {
        "colab": {
          "base_uri": "https://localhost:8080/",
          "height": 206
        },
        "id": "ZVCRGIyBu-Us",
        "outputId": "fd416826-6774-473c-b4b0-fb977840c5ed"
      },
      "outputs": [
        {
          "output_type": "execute_result",
          "data": {
            "text/plain": [
              "                                           headlines  \\\n",
              "0  upgrad learner switches to career in ml al wit...   \n",
              "2  new zealand end rohit sharma led india match w...   \n",
              "3  aegon life iterm insurance plan helps customer...   \n",
              "5  rahat fateh ali khan denies getting notice for...   \n",
              "6  india get all out for their lowest odi total i...   \n",
              "\n",
              "                                                text  \\\n",
              "0  saurav kant alumnus upgrad iiit pg program mac...   \n",
              "2  new zealand defeated india wickets fourth odi ...   \n",
              "3  aegon life iterm insurance plan customers enjo...   \n",
              "5  pakistani singer rahat fateh ali khan denied r...   \n",
              "6  india recorded lowest odi total new zealand ge...   \n",
              "\n",
              "                                       decoder_input  \\\n",
              "0  sostoken upgrad learner switches to career in ...   \n",
              "2  sostoken new zealand end rohit sharma led indi...   \n",
              "3  sostoken aegon life iterm insurance plan helps...   \n",
              "5  sostoken rahat fateh ali khan denies getting n...   \n",
              "6  sostoken india get all out for their lowest od...   \n",
              "\n",
              "                                      decoder_target  \n",
              "0  upgrad learner switches to career in ml al wit...  \n",
              "2  new zealand end rohit sharma led india match w...  \n",
              "3  aegon life iterm insurance plan helps customer...  \n",
              "5  rahat fateh ali khan denies getting notice for...  \n",
              "6  india get all out for their lowest odi total i...  "
            ],
            "text/html": [
              "\n",
              "  <div id=\"df-a0bd837d-2d65-4a23-8336-e75c4299205f\">\n",
              "    <div class=\"colab-df-container\">\n",
              "      <div>\n",
              "<style scoped>\n",
              "    .dataframe tbody tr th:only-of-type {\n",
              "        vertical-align: middle;\n",
              "    }\n",
              "\n",
              "    .dataframe tbody tr th {\n",
              "        vertical-align: top;\n",
              "    }\n",
              "\n",
              "    .dataframe thead th {\n",
              "        text-align: right;\n",
              "    }\n",
              "</style>\n",
              "<table border=\"1\" class=\"dataframe\">\n",
              "  <thead>\n",
              "    <tr style=\"text-align: right;\">\n",
              "      <th></th>\n",
              "      <th>headlines</th>\n",
              "      <th>text</th>\n",
              "      <th>decoder_input</th>\n",
              "      <th>decoder_target</th>\n",
              "    </tr>\n",
              "  </thead>\n",
              "  <tbody>\n",
              "    <tr>\n",
              "      <th>0</th>\n",
              "      <td>upgrad learner switches to career in ml al wit...</td>\n",
              "      <td>saurav kant alumnus upgrad iiit pg program mac...</td>\n",
              "      <td>sostoken upgrad learner switches to career in ...</td>\n",
              "      <td>upgrad learner switches to career in ml al wit...</td>\n",
              "    </tr>\n",
              "    <tr>\n",
              "      <th>2</th>\n",
              "      <td>new zealand end rohit sharma led india match w...</td>\n",
              "      <td>new zealand defeated india wickets fourth odi ...</td>\n",
              "      <td>sostoken new zealand end rohit sharma led indi...</td>\n",
              "      <td>new zealand end rohit sharma led india match w...</td>\n",
              "    </tr>\n",
              "    <tr>\n",
              "      <th>3</th>\n",
              "      <td>aegon life iterm insurance plan helps customer...</td>\n",
              "      <td>aegon life iterm insurance plan customers enjo...</td>\n",
              "      <td>sostoken aegon life iterm insurance plan helps...</td>\n",
              "      <td>aegon life iterm insurance plan helps customer...</td>\n",
              "    </tr>\n",
              "    <tr>\n",
              "      <th>5</th>\n",
              "      <td>rahat fateh ali khan denies getting notice for...</td>\n",
              "      <td>pakistani singer rahat fateh ali khan denied r...</td>\n",
              "      <td>sostoken rahat fateh ali khan denies getting n...</td>\n",
              "      <td>rahat fateh ali khan denies getting notice for...</td>\n",
              "    </tr>\n",
              "    <tr>\n",
              "      <th>6</th>\n",
              "      <td>india get all out for their lowest odi total i...</td>\n",
              "      <td>india recorded lowest odi total new zealand ge...</td>\n",
              "      <td>sostoken india get all out for their lowest od...</td>\n",
              "      <td>india get all out for their lowest odi total i...</td>\n",
              "    </tr>\n",
              "  </tbody>\n",
              "</table>\n",
              "</div>\n",
              "      <button class=\"colab-df-convert\" onclick=\"convertToInteractive('df-a0bd837d-2d65-4a23-8336-e75c4299205f')\"\n",
              "              title=\"Convert this dataframe to an interactive table.\"\n",
              "              style=\"display:none;\">\n",
              "        \n",
              "  <svg xmlns=\"http://www.w3.org/2000/svg\" height=\"24px\"viewBox=\"0 0 24 24\"\n",
              "       width=\"24px\">\n",
              "    <path d=\"M0 0h24v24H0V0z\" fill=\"none\"/>\n",
              "    <path d=\"M18.56 5.44l.94 2.06.94-2.06 2.06-.94-2.06-.94-.94-2.06-.94 2.06-2.06.94zm-11 1L8.5 8.5l.94-2.06 2.06-.94-2.06-.94L8.5 2.5l-.94 2.06-2.06.94zm10 10l.94 2.06.94-2.06 2.06-.94-2.06-.94-.94-2.06-.94 2.06-2.06.94z\"/><path d=\"M17.41 7.96l-1.37-1.37c-.4-.4-.92-.59-1.43-.59-.52 0-1.04.2-1.43.59L10.3 9.45l-7.72 7.72c-.78.78-.78 2.05 0 2.83L4 21.41c.39.39.9.59 1.41.59.51 0 1.02-.2 1.41-.59l7.78-7.78 2.81-2.81c.8-.78.8-2.07 0-2.86zM5.41 20L4 18.59l7.72-7.72 1.47 1.35L5.41 20z\"/>\n",
              "  </svg>\n",
              "      </button>\n",
              "      \n",
              "  <style>\n",
              "    .colab-df-container {\n",
              "      display:flex;\n",
              "      flex-wrap:wrap;\n",
              "      gap: 12px;\n",
              "    }\n",
              "\n",
              "    .colab-df-convert {\n",
              "      background-color: #E8F0FE;\n",
              "      border: none;\n",
              "      border-radius: 50%;\n",
              "      cursor: pointer;\n",
              "      display: none;\n",
              "      fill: #1967D2;\n",
              "      height: 32px;\n",
              "      padding: 0 0 0 0;\n",
              "      width: 32px;\n",
              "    }\n",
              "\n",
              "    .colab-df-convert:hover {\n",
              "      background-color: #E2EBFA;\n",
              "      box-shadow: 0px 1px 2px rgba(60, 64, 67, 0.3), 0px 1px 3px 1px rgba(60, 64, 67, 0.15);\n",
              "      fill: #174EA6;\n",
              "    }\n",
              "\n",
              "    [theme=dark] .colab-df-convert {\n",
              "      background-color: #3B4455;\n",
              "      fill: #D2E3FC;\n",
              "    }\n",
              "\n",
              "    [theme=dark] .colab-df-convert:hover {\n",
              "      background-color: #434B5C;\n",
              "      box-shadow: 0px 1px 3px 1px rgba(0, 0, 0, 0.15);\n",
              "      filter: drop-shadow(0px 1px 2px rgba(0, 0, 0, 0.3));\n",
              "      fill: #FFFFFF;\n",
              "    }\n",
              "  </style>\n",
              "\n",
              "      <script>\n",
              "        const buttonEl =\n",
              "          document.querySelector('#df-a0bd837d-2d65-4a23-8336-e75c4299205f button.colab-df-convert');\n",
              "        buttonEl.style.display =\n",
              "          google.colab.kernel.accessAllowed ? 'block' : 'none';\n",
              "\n",
              "        async function convertToInteractive(key) {\n",
              "          const element = document.querySelector('#df-a0bd837d-2d65-4a23-8336-e75c4299205f');\n",
              "          const dataTable =\n",
              "            await google.colab.kernel.invokeFunction('convertToInteractive',\n",
              "                                                     [key], {});\n",
              "          if (!dataTable) return;\n",
              "\n",
              "          const docLinkHtml = 'Like what you see? Visit the ' +\n",
              "            '<a target=\"_blank\" href=https://colab.research.google.com/notebooks/data_table.ipynb>data table notebook</a>'\n",
              "            + ' to learn more about interactive tables.';\n",
              "          element.innerHTML = '';\n",
              "          dataTable['output_type'] = 'display_data';\n",
              "          await google.colab.output.renderOutput(dataTable, element);\n",
              "          const docLink = document.createElement('div');\n",
              "          docLink.innerHTML = docLinkHtml;\n",
              "          element.appendChild(docLink);\n",
              "        }\n",
              "      </script>\n",
              "    </div>\n",
              "  </div>\n",
              "  "
            ]
          },
          "metadata": {},
          "execution_count": 24
        }
      ],
      "source": [
        "# 요약 데이터를 이용해서 decoder_input, decoder_target을 만든당.\n",
        "data['decoder_input'] = data['headlines'].apply(lambda x : 'sostoken '+ x)\n",
        "data['decoder_target'] = data['headlines'].apply(lambda x : x + ' eostoken')\n",
        "data.head()"
      ]
    },
    {
      "cell_type": "markdown",
      "metadata": {
        "id": "K-S9LN3nfpDn"
      },
      "source": [
        "인코더 입력, 디코더 입력 / 레이블 numpy 타입으로 저장"
      ]
    },
    {
      "cell_type": "code",
      "execution_count": null,
      "metadata": {
        "colab": {
          "base_uri": "https://localhost:8080/"
        },
        "id": "E7mGjnLivEWg",
        "outputId": "e40d9919-c5a6-4b0d-adf5-f423de697cf8"
      },
      "outputs": [
        {
          "output_type": "stream",
          "name": "stdout",
          "text": [
            "=3\n"
          ]
        }
      ],
      "source": [
        "encoder_input = np.array(data['text']) # 인코더의 입력\n",
        "decoder_input = np.array(data['decoder_input']) # 디코더의 입력\n",
        "decoder_target = np.array(data['decoder_target']) # 디코더의 레이블\n",
        "print('=3')"
      ]
    },
    {
      "cell_type": "markdown",
      "metadata": {
        "id": "aS1b7D8Jg8VI"
      },
      "source": [
        "#### 훈련 데이터, 테스트 데이터 분리"
      ]
    },
    {
      "cell_type": "markdown",
      "metadata": {
        "id": "LyIkDHSahHjT"
      },
      "source": [
        "* 분리 패키지 사용  \n",
        "* 직접 코딩을 통해 분리  <- 이거 사용"
      ]
    },
    {
      "cell_type": "markdown",
      "metadata": {
        "id": "9m7pHIYOidZE"
      },
      "source": [
        "1.encoder_input과 크기와 형태가 같은 순서가 섞인 정수 시퀀스를 만들어준다."
      ]
    },
    {
      "cell_type": "code",
      "execution_count": null,
      "metadata": {
        "colab": {
          "base_uri": "https://localhost:8080/"
        },
        "id": "VrZyP3f8vIW6",
        "outputId": "c678faa3-4471-473b-f12c-a1997b4ecd90"
      },
      "outputs": [
        {
          "output_type": "stream",
          "name": "stdout",
          "text": [
            "[54911 38915 46038 ... 87399  2251 44698]\n"
          ]
        }
      ],
      "source": [
        "indices = np.arange(encoder_input.shape[0])\n",
        "np.random.shuffle(indices)\n",
        "print(indices)"
      ]
    },
    {
      "cell_type": "markdown",
      "metadata": {
        "id": "bXVRX-2DvK31"
      },
      "source": [
        "2.이 정수 시퀀스를 이용해 다시 데이터의 샘플 순서를 정의해 주면 잘 섞인 샘플이 된다."
      ]
    },
    {
      "cell_type": "code",
      "execution_count": null,
      "metadata": {
        "colab": {
          "base_uri": "https://localhost:8080/"
        },
        "id": "cdwfFDhPvLhg",
        "outputId": "6cd53003-1a07-4202-fc9e-44c2b2c325c3"
      },
      "outputs": [
        {
          "output_type": "stream",
          "name": "stdout",
          "text": [
            "=3\n"
          ]
        }
      ],
      "source": [
        "encoder_input = encoder_input[indices]\n",
        "decoder_input = decoder_input[indices]\n",
        "decoder_target = decoder_target[indices]\n",
        "print('=3')"
      ]
    },
    {
      "cell_type": "markdown",
      "metadata": {
        "id": "2FJaHzzhjjLc"
      },
      "source": [
        "3.섞인 데이터를 8:2 비율로 분리해준다."
      ]
    },
    {
      "cell_type": "code",
      "execution_count": null,
      "metadata": {
        "colab": {
          "base_uri": "https://localhost:8080/"
        },
        "id": "1k6Rjam7vNy8",
        "outputId": "9d757cd1-3203-42f2-a614-a4deb70ea0be"
      },
      "outputs": [
        {
          "output_type": "stream",
          "name": "stdout",
          "text": [
            "테스트 데이터의 수 : 17955\n"
          ]
        }
      ],
      "source": [
        "n_of_val = int(len(encoder_input)*0.2)\n",
        "print('테스트 데이터의 수 :', n_of_val)"
      ]
    },
    {
      "cell_type": "markdown",
      "metadata": {
        "id": "8SQzD0J0vOy_"
      },
      "source": [
        "4.이렇게 정의한 테스트 데이터의 개수를 이용해 전체 데이터를 양분한다. :표시의 위치에 주의!"
      ]
    },
    {
      "cell_type": "code",
      "execution_count": null,
      "metadata": {
        "colab": {
          "base_uri": "https://localhost:8080/"
        },
        "id": "3zP4bmYAvQsg",
        "outputId": "e0749fda-82e8-4bcc-d364-d2169e6d739d"
      },
      "outputs": [
        {
          "output_type": "stream",
          "name": "stdout",
          "text": [
            "훈련 데이터의 개수 : 71820\n",
            "훈련 레이블의 개수 : 71820\n",
            "테스트 데이터의 개수 : 17955\n",
            "테스트 레이블의 개수 : 17955\n"
          ]
        }
      ],
      "source": [
        "encoder_input_train = encoder_input[:-n_of_val]\n",
        "decoder_input_train = decoder_input[:-n_of_val]\n",
        "decoder_target_train = decoder_target[:-n_of_val]\n",
        "\n",
        "encoder_input_test = encoder_input[-n_of_val:]\n",
        "decoder_input_test = decoder_input[-n_of_val:]\n",
        "decoder_target_test = decoder_target[-n_of_val:]\n",
        "\n",
        "print('훈련 데이터의 개수 :', len(encoder_input_train))\n",
        "print('훈련 레이블의 개수 :', len(decoder_input_train))\n",
        "print('테스트 데이터의 개수 :', len(encoder_input_test))\n",
        "print('테스트 레이블의 개수 :', len(decoder_input_test))"
      ]
    },
    {
      "cell_type": "markdown",
      "metadata": {
        "id": "sQEpqfiRvQnu"
      },
      "source": [
        "훈련 데이터와 테스트 데이터가 각각 71,820개와 17,955개로 잘 분리된 것을 볼 수 있어요!"
      ]
    },
    {
      "cell_type": "markdown",
      "metadata": {
        "id": "Bo8aeAcMzG1O"
      },
      "source": [
        "### (3) 정수 인코딩"
      ]
    },
    {
      "cell_type": "markdown",
      "metadata": {
        "id": "iT6i7Q6L0Gru"
      },
      "source": [
        "정수인코딩 : 텍스트를 숫자로 처리할 수 있도록 훈련 데이터와 테스트 데이터의 단어들을 정수로 바꿔줌  \n",
        "단어 집합 만들기 : 각 단어에 고유한 정수를 맵핑하는 작업  \n",
        "단어 집합 만들고 -> 정수인코딩"
      ]
    },
    {
      "cell_type": "markdown",
      "metadata": {
        "id": "jFHQY45H4A9R"
      },
      "source": [
        "이제는 익숙한 keras의 tokenizer로 정수인코딩을 하겠습니다."
      ]
    },
    {
      "cell_type": "code",
      "execution_count": null,
      "metadata": {
        "colab": {
          "base_uri": "https://localhost:8080/"
        },
        "id": "YEX11Tw2vY4G",
        "outputId": "5067a9aa-7c9b-4341-fe18-b76779c08407"
      },
      "outputs": [
        {
          "output_type": "stream",
          "name": "stdout",
          "text": [
            "=3\n"
          ]
        }
      ],
      "source": [
        "src_tokenizer = Tokenizer() # 토크나이저 정의\n",
        "src_tokenizer.fit_on_texts(encoder_input_train) # 입력된 데이터로부터 단어 집합 생성\n",
        "print('=3')"
      ]
    },
    {
      "cell_type": "markdown",
      "metadata": {
        "id": "RM7nYvGk5tTg"
      },
      "source": [
        "src_tokenizer.word_index에 저장된 단어 집합을 확인해보겠습니다."
      ]
    },
    {
      "cell_type": "code",
      "execution_count": null,
      "metadata": {
        "colab": {
          "base_uri": "https://localhost:8080/"
        },
        "id": "-vjcqWEh39eL",
        "outputId": "8257557a-a4cd-444a-c4c0-40f0e3f92b89"
      },
      "outputs": [
        {
          "output_type": "execute_result",
          "data": {
            "text/plain": [
              "{'said': 1,\n",
              " 'india': 2,\n",
              " 'added': 3,\n",
              " 'year': 4,\n",
              " 'us': 5,\n",
              " 'also': 6,\n",
              " 'police': 7,\n",
              " 'government': 8,\n",
              " 'people': 9,\n",
              " 'first': 10}"
            ]
          },
          "metadata": {},
          "execution_count": 31
        }
      ],
      "source": [
        "from itertools import islice\n",
        "\n",
        "dict(islice(src_tokenizer.word_index.items(), 10))"
      ]
    },
    {
      "cell_type": "markdown",
      "metadata": {
        "id": "YuvZVEua51J_"
      },
      "source": [
        "여기서 빈도 수가 낮은 단어들은 훈련 데이터에서 제외하고 진행하겠습니다.  \n",
        "등장 빈도수가 7회 미만인 단어들이 이 데이터에서 얼마나 비중을 차지하고 있는지 확인해볼게요.  \n",
        "src_tokenizer.word_counts.items() 에는 단어와 각 단어의 등장 빈도수가 저장되어 있어요."
      ]
    },
    {
      "cell_type": "code",
      "execution_count": null,
      "metadata": {
        "colab": {
          "base_uri": "https://localhost:8080/"
        },
        "id": "MC5uxXcdvdRO",
        "outputId": "2279f597-1749-427e-fad3-4569dc73bda8"
      },
      "outputs": [
        {
          "output_type": "stream",
          "name": "stdout",
          "text": [
            "단어 집합(vocabulary)의 크기 : 65698\n",
            "등장 빈도가 6번 이하인 희귀 단어의 수: 44735\n",
            "단어 집합에서 희귀 단어를 제외시킬 경우의 단어 집합의 크기 20963\n",
            "단어 집합에서 희귀 단어의 비율: 68.09187494292064\n",
            "전체 등장 빈도에서 희귀 단어 등장 빈도 비율: 3.6674320594578305\n"
          ]
        }
      ],
      "source": [
        "threshold = 7\n",
        "total_cnt = len(src_tokenizer.word_index) # 단어의 수\n",
        "rare_cnt = 0 # 등장 빈도수가 threshold보다 작은 단어의 개수를 카운트\n",
        "total_freq = 0 # 훈련 데이터의 전체 단어 빈도수 총 합\n",
        "rare_freq = 0 # 등장 빈도수가 threshold보다 작은 단어의 등장 빈도수의 총 합\n",
        "\n",
        "# 단어와 빈도수의 쌍(pair)을 key와 value로 받는다.\n",
        "for key, value in src_tokenizer.word_counts.items():\n",
        "    total_freq = total_freq + value\n",
        "\n",
        "    # 단어의 등장 빈도수가 threshold보다 작으면\n",
        "    if(value < threshold):\n",
        "        rare_cnt = rare_cnt + 1\n",
        "        rare_freq = rare_freq + value\n",
        "\n",
        "print('단어 집합(vocabulary)의 크기 :', total_cnt)\n",
        "print('등장 빈도가 %s번 이하인 희귀 단어의 수: %s'%(threshold - 1, rare_cnt))\n",
        "print('단어 집합에서 희귀 단어를 제외시킬 경우의 단어 집합의 크기 %s'%(total_cnt - rare_cnt))\n",
        "print(\"단어 집합에서 희귀 단어의 비율:\", (rare_cnt / total_cnt)*100)\n",
        "print(\"전체 등장 빈도에서 희귀 단어 등장 빈도 비율:\", (rare_freq / total_freq)*100)"
      ]
    },
    {
      "cell_type": "markdown",
      "metadata": {
        "id": "dGED7eJR6EeF"
      },
      "source": [
        "등장 빈도가 6번 이하인 단어 수가 68% 정도입니다. 그러나 전체 등장 빈도에서 희귀 단어 등장 빈도 비율은 3.6% 밖에 되지 않습니다.  \n",
        "그러므로 이 단어들을 모두 제거해도 된다고 판단이 되네요.  \n",
        "단어집합 크기는 20000 으로 하겠습니다."
      ]
    },
    {
      "cell_type": "markdown",
      "metadata": {
        "id": "aCpPdgUMH_9k"
      },
      "source": [
        "Tokenizer의 num_words 옵션에 20000을 주면 가장 빈도수가 높은 20000 - 1개의 단어가 사용됩니다."
      ]
    },
    {
      "cell_type": "code",
      "execution_count": null,
      "metadata": {
        "colab": {
          "base_uri": "https://localhost:8080/"
        },
        "id": "qG3PPYpnvlLi",
        "outputId": "3bf6cc5f-163c-44e5-8e5e-2fdb25127260"
      },
      "outputs": [
        {
          "output_type": "stream",
          "name": "stdout",
          "text": [
            "=3\n"
          ]
        }
      ],
      "source": [
        "src_vocab = 20000\n",
        "src_tokenizer = Tokenizer(num_words=src_vocab) # 단어 집합의 크기를 20,000으로 제한\n",
        "src_tokenizer.fit_on_texts(encoder_input_train) # 단어 집합 재생성\n",
        "print('=3')"
      ]
    },
    {
      "cell_type": "markdown",
      "metadata": {
        "id": "ngYbzVK4hil3"
      },
      "source": [
        "`text_to_sequences()` 를 이용해서 정수인코딩을 합니다."
      ]
    },
    {
      "cell_type": "code",
      "execution_count": null,
      "metadata": {
        "colab": {
          "base_uri": "https://localhost:8080/"
        },
        "id": "twOQiPBhvnqV",
        "outputId": "a0235e3a-1f44-4391-9300-9a6f89d83767"
      },
      "outputs": [
        {
          "output_type": "stream",
          "name": "stdout",
          "text": [
            "[[159, 1710, 228, 2645, 759, 3315, 459, 867, 152, 286, 863, 69, 581, 1329, 1632, 1932, 8400, 6579, 6500, 7828, 1710, 526, 3786, 81, 1, 759, 1122, 4593, 120, 320, 958, 4287], [428, 2021, 16, 9814, 7590, 86, 90, 4391, 20, 882, 2877, 882, 923, 506, 3316, 541, 17386, 1095, 8253, 35, 334, 198, 17387, 12, 9, 104, 1689, 594, 763, 1810, 6931, 1999, 48, 29], [47, 2107, 144, 74, 2124, 9, 129, 872, 18417, 103, 2154, 111, 254, 2411, 1, 1568, 5514, 2148, 632, 266, 762, 3]]\n"
          ]
        }
      ],
      "source": [
        "# 텍스트 시퀀스를 정수 시퀀스로 변환\n",
        "encoder_input_train = src_tokenizer.texts_to_sequences(encoder_input_train) \n",
        "encoder_input_test = src_tokenizer.texts_to_sequences(encoder_input_test)\n",
        "\n",
        "# 잘 진행되었는지 샘플 출력\n",
        "print(encoder_input_train[:3])"
      ]
    },
    {
      "cell_type": "markdown",
      "metadata": {
        "id": "Kr-s8PuLVj4d"
      },
      "source": [
        "요약 데이터에 대해 정수화"
      ]
    },
    {
      "cell_type": "code",
      "execution_count": null,
      "metadata": {
        "colab": {
          "base_uri": "https://localhost:8080/"
        },
        "id": "UH3SAvdXvrPc",
        "outputId": "44ff2f0e-a1fd-4a32-af05-74e8ad15e515"
      },
      "outputs": [
        {
          "output_type": "stream",
          "name": "stdout",
          "text": [
            "=3\n"
          ]
        }
      ],
      "source": [
        "tar_tokenizer = Tokenizer()\n",
        "tar_tokenizer.fit_on_texts(decoder_input_train)\n",
        "print('=3')"
      ]
    },
    {
      "cell_type": "markdown",
      "metadata": {
        "id": "EHHEAI8HVf6M"
      },
      "source": [
        "정수화가 잘 진행되었습니다."
      ]
    },
    {
      "cell_type": "code",
      "execution_count": null,
      "metadata": {
        "colab": {
          "base_uri": "https://localhost:8080/"
        },
        "id": "4UplzX3Zvty9",
        "outputId": "0aa70b35-f40e-4f99-80f0-58f7b0e8fa65"
      },
      "outputs": [
        {
          "output_type": "stream",
          "name": "stdout",
          "text": [
            "단어 집합(vocabulary)의 크기 : 28844\n",
            "등장 빈도가 5번 이하인 희귀 단어의 수: 18907\n",
            "단어 집합에서 희귀 단어를 제외시킬 경우의 단어 집합의 크기 9937\n",
            "단어 집합에서 희귀 단어의 비율: 65.54916100402164\n",
            "전체 등장 빈도에서 희귀 단어 등장 빈도 비율: 4.911285350744019\n"
          ]
        }
      ],
      "source": [
        "threshold = 6\n",
        "total_cnt = len(tar_tokenizer.word_index) # 단어의 수\n",
        "rare_cnt = 0 # 등장 빈도수가 threshold보다 작은 단어의 개수를 카운트\n",
        "total_freq = 0 # 훈련 데이터의 전체 단어 빈도수 총 합\n",
        "rare_freq = 0 # 등장 빈도수가 threshold보다 작은 단어의 등장 빈도수의 총 합\n",
        "\n",
        "# 단어와 빈도수의 쌍(pair)을 key와 value로 받는다.\n",
        "for key, value in tar_tokenizer.word_counts.items():\n",
        "    total_freq = total_freq + value\n",
        "\n",
        "    # 단어의 등장 빈도수가 threshold보다 작으면\n",
        "    if(value < threshold):\n",
        "        rare_cnt = rare_cnt + 1\n",
        "        rare_freq = rare_freq + value\n",
        "\n",
        "print('단어 집합(vocabulary)의 크기 :', total_cnt)\n",
        "print('등장 빈도가 %s번 이하인 희귀 단어의 수: %s'%(threshold - 1, rare_cnt))\n",
        "print('단어 집합에서 희귀 단어를 제외시킬 경우의 단어 집합의 크기 %s'%(total_cnt - rare_cnt))\n",
        "print(\"단어 집합에서 희귀 단어의 비율:\", (rare_cnt / total_cnt)*100)\n",
        "print(\"전체 등장 빈도에서 희귀 단어 등장 빈도 비율:\", (rare_freq / total_freq)*100)"
      ]
    },
    {
      "cell_type": "markdown",
      "metadata": {
        "id": "cCTmfq9whzaS"
      },
      "source": [
        "등장 빈도가 6번 이하인 단어 수가 65% 정도입니다. 그러나 전체 등장 빈도에서 희귀 단어 등장 빈도 비율은 5% 밖에 되지 않습니다.\n",
        "그러므로 이 단어들을 모두 제거해도 된다고 판단이 되네요.  \n",
        "아까 했던 것 처럼 단어집합 크기는 10000 으로 하겠습니다."
      ]
    },
    {
      "cell_type": "code",
      "execution_count": null,
      "metadata": {
        "colab": {
          "base_uri": "https://localhost:8080/"
        },
        "id": "DO1Wy7ohvw67",
        "outputId": "19db791c-56fb-42d5-9f90-2a5c44dcd324"
      },
      "outputs": [
        {
          "output_type": "stream",
          "name": "stdout",
          "text": [
            "input\n",
            "input  [[1, 1863, 640, 11, 2654, 298, 866, 285, 7, 460], [1, 527, 941, 2406, 4276, 849, 11, 150], [1, 46, 3179, 127, 136, 59, 7, 153, 1083, 362], [1, 30, 811, 65, 6, 4277, 142, 7733], [1, 1453, 110, 155, 14, 145, 40, 53, 6, 1084, 5, 420, 55]]\n",
            "target\n",
            "decoder  [[1863, 640, 11, 2654, 298, 866, 285, 7, 460, 2], [527, 941, 2406, 4276, 849, 11, 150, 2], [46, 3179, 127, 136, 59, 7, 153, 1083, 362, 2], [30, 811, 65, 6, 4277, 142, 7733, 2], [1453, 110, 155, 14, 145, 40, 53, 6, 1084, 5, 420, 55, 2]]\n"
          ]
        }
      ],
      "source": [
        "tar_vocab = 10000\n",
        "tar_tokenizer = Tokenizer(num_words=tar_vocab) \n",
        "tar_tokenizer.fit_on_texts(decoder_input_train)\n",
        "tar_tokenizer.fit_on_texts(decoder_target_train)\n",
        "\n",
        "# 텍스트 시퀀스를 정수 시퀀스로 변환\n",
        "decoder_input_train = tar_tokenizer.texts_to_sequences(decoder_input_train) \n",
        "decoder_target_train = tar_tokenizer.texts_to_sequences(decoder_target_train)\n",
        "decoder_input_test = tar_tokenizer.texts_to_sequences(decoder_input_test)\n",
        "decoder_target_test = tar_tokenizer.texts_to_sequences(decoder_target_test)\n",
        "\n",
        "# 잘 변환되었는지 확인\n",
        "print('input')\n",
        "print('input ',decoder_input_train[:5])\n",
        "print('target')\n",
        "print('decoder ',decoder_target_train[:5])"
      ]
    },
    {
      "cell_type": "markdown",
      "metadata": {
        "id": "-L_b_XbKIVkf"
      },
      "source": [
        "빈도수가 낮은 단어가 삭제되었다는 것은 빈도수가 낮은 단어만으로 구성되었던 샘플들은 이제 **빈 샘플**이 되었을 가능성이 있습니다.  \n",
        "요약문에서 길이가 0이 된 샘플들의 인덱스를 받아와서 삭제할 겁니다.  \n",
        "주의할 점  \n",
        "* decoder_input에는 시작토큰, decoder_target에는 종료토큰이 추가된 상태. 모든 샘플에서 등장하니까 빈도수가 높아서 삭제되지 않았을 것이다. 그래서 실제로 길이가 0이 된 요약문이지만 출력은 1로 나올 것"
      ]
    },
    {
      "cell_type": "code",
      "execution_count": null,
      "metadata": {
        "colab": {
          "base_uri": "https://localhost:8080/"
        },
        "id": "wpsbrtbcv1iK",
        "outputId": "f31457ee-f3ba-4ea0-c65c-d945a527d54d"
      },
      "outputs": [
        {
          "output_type": "stream",
          "name": "stdout",
          "text": [
            "삭제할 훈련 데이터의 개수 : 0\n",
            "삭제할 테스트 데이터의 개수 : 0\n",
            "훈련 데이터의 개수 : 71820\n",
            "훈련 레이블의 개수 : 71820\n",
            "테스트 데이터의 개수 : 17955\n",
            "테스트 레이블의 개수 : 17955\n"
          ]
        }
      ],
      "source": [
        "drop_train = [index for index, sentence in enumerate(decoder_input_train) if len(sentence) == 1]\n",
        "drop_test = [index for index, sentence in enumerate(decoder_input_test) if len(sentence) == 1]\n",
        "\n",
        "print('삭제할 훈련 데이터의 개수 :', len(drop_train))\n",
        "print('삭제할 테스트 데이터의 개수 :', len(drop_test))\n",
        "\n",
        "encoder_input_train = [sentence for index, sentence in enumerate(encoder_input_train) if index not in drop_train]\n",
        "decoder_input_train = [sentence for index, sentence in enumerate(decoder_input_train) if index not in drop_train]\n",
        "decoder_target_train = [sentence for index, sentence in enumerate(decoder_target_train) if index not in drop_train]\n",
        "\n",
        "encoder_input_test = [sentence for index, sentence in enumerate(encoder_input_test) if index not in drop_test]\n",
        "decoder_input_test = [sentence for index, sentence in enumerate(decoder_input_test) if index not in drop_test]\n",
        "decoder_target_test = [sentence for index, sentence in enumerate(decoder_target_test) if index not in drop_test]\n",
        "\n",
        "print('훈련 데이터의 개수 :', len(encoder_input_train))\n",
        "print('훈련 레이블의 개수 :', len(decoder_input_train))\n",
        "print('테스트 데이터의 개수 :', len(encoder_input_test))\n",
        "print('테스트 레이블의 개수 :', len(decoder_input_test))"
      ]
    },
    {
      "cell_type": "markdown",
      "metadata": {
        "id": "viYkQpi5Jd-z"
      },
      "source": [
        "문장 길이가 1인 데이터가 한개도 없네요! "
      ]
    },
    {
      "cell_type": "markdown",
      "metadata": {
        "id": "DurUPaTLKkns"
      },
      "source": [
        "### (4) 패딩하기"
      ]
    },
    {
      "cell_type": "markdown",
      "metadata": {
        "id": "m1AHddy1KyRd"
      },
      "source": [
        "아까 정해뒀던 maxlen을 이용해서 패딩해줍니다!!"
      ]
    },
    {
      "cell_type": "code",
      "execution_count": null,
      "metadata": {
        "colab": {
          "base_uri": "https://localhost:8080/"
        },
        "id": "1rROsqypv4bI",
        "outputId": "cb065a34-af26-4abd-a84f-6bd7a59aa35a"
      },
      "outputs": [
        {
          "output_type": "stream",
          "name": "stdout",
          "text": [
            "=3\n"
          ]
        }
      ],
      "source": [
        "encoder_input_train = pad_sequences(encoder_input_train, maxlen=text_max_len, padding='post')\n",
        "encoder_input_test = pad_sequences(encoder_input_test, maxlen=text_max_len, padding='post')\n",
        "decoder_input_train = pad_sequences(decoder_input_train, maxlen=summary_max_len, padding='post')\n",
        "decoder_target_train = pad_sequences(decoder_target_train, maxlen=summary_max_len, padding='post')\n",
        "decoder_input_test = pad_sequences(decoder_input_test, maxlen=summary_max_len, padding='post')\n",
        "decoder_target_test = pad_sequences(decoder_target_test, maxlen=summary_max_len, padding='post')\n",
        "print('=3')"
      ]
    },
    {
      "cell_type": "markdown",
      "source": [
        "전처리 완료~"
      ],
      "metadata": {
        "id": "ICvxXiqnay8o"
      }
    },
    {
      "cell_type": "markdown",
      "metadata": {
        "id": "1dR2REyC-jWI"
      },
      "source": [
        "## **Step 3. 어텐션 메커니즘 사용하기 (추상적 요약)**\n",
        "일반적인 seq2seq보다는 **어텐션 메커니즘**을 사용한 seq2seq를 사용하는 것이 더 나은 성능을 얻을 수 있어요. 실습 내용을 참고하여 어텐션 메커니즘을 사용한 seq2seq를 설계해 보세요."
      ]
    },
    {
      "cell_type": "markdown",
      "source": [
        "어텐션 메커니즘  \n",
        "* 기존의 seq2seq는 인코더의 마지막 time step의 은닉층을 컨텍스트 벡터로 사용  \n",
        "    * BUT, RNN 계열의 인공신경망(바닐라 RNN, LSTM, GRU) 의 한계로 이 컨텍스트 정보에는 이미 입력 시퀀스의 많은 정보가 손실이 된 상태\n",
        "* 어텐션은 인코더의 **모든 step의 은닉층 정보가 컨텍스트 벡터에 전부 반영**되도록 하는것\n",
        "* 모든 은닉층이 동일한 비중으로 반영되는 건 아니고, **디코더의 현재 time step의 예측에 인코더의 각 step이 얼마나 영향을 미치는지**에 따른 가중합으로 계산\n",
        "* 주의) 컨텍스트 벡터를 구성하기 위한 인코더 은닉층의 가중치값은 디코더의 현재 스텝이 어디냐에 따라 계속 달라짐. 디코더의 현재 문장 생성 부위가 술어부인지 목적어인지에 따라 인코더가 입력 데이터를 해석한 컨텍스트 벡터가 다른 값이 됨.\n",
        "* 디코더의 현재 스텝에 따라 동적으로 달라지는 인코더의 컨텍스트 벡터를 사용, 현재의 예측에 활용하면 디코더가 좀 더 정확한 예측을 할 수 있다."
      ],
      "metadata": {
        "id": "3MOi3AStbFaz"
      }
    },
    {
      "cell_type": "markdown",
      "source": [
        "흐름도\n",
        "1. seq2seq를 사용합니다.\n",
        "2. RNN 계열 중 LSTM을 사용하므로 hidden state뿐만 아니라 cell state도 사용해야 합니다.\n",
        "3. 디코더의 예측 시퀀스에는 시작 토큰 SOS와 예측 토큰 EOS를 시퀀스의 앞, 뒤로 붙입니다.\n",
        "4. seq2seq를 구동시키면 디코더는 시작 토큰을 입력받아 예측을 시작합니다.\n",
        "5. seq2seq 기본 모델과 달리, 어텐션 메커니즘을 이용해 인코더의 hidden state의 중요도를 취합한 컨텍스트 벡터를 디코더 스텝별로 계산합니다.\n",
        "6. 계산된 컨텍스트 벡터를 이용해서 디코더는 다음 등장할 단어를 예측합니다."
      ],
      "metadata": {
        "id": "VtxWRoV2fWai"
      }
    },
    {
      "cell_type": "markdown",
      "metadata": {
        "id": "0055ropTisw5"
      },
      "source": [
        "### seq2seq 모델 설계하기"
      ]
    },
    {
      "cell_type": "markdown",
      "metadata": {
        "id": "P6uVAJRasgfZ"
      },
      "source": [
        "인코더 설계"
      ]
    },
    {
      "cell_type": "code",
      "execution_count": null,
      "metadata": {
        "id": "rMRAJsPFwG1L",
        "colab": {
          "base_uri": "https://localhost:8080/"
        },
        "outputId": "fb7e402b-9fb4-43ce-c398-65f92605e28c"
      },
      "outputs": [
        {
          "output_type": "stream",
          "name": "stderr",
          "text": [
            "WARNING:tensorflow:Layer lstm will not use cuDNN kernels since it doesn't meet the criteria. It will use a generic GPU kernel as fallback when running on GPU.\n",
            "WARNING:tensorflow:Layer lstm_1 will not use cuDNN kernels since it doesn't meet the criteria. It will use a generic GPU kernel as fallback when running on GPU.\n",
            "WARNING:tensorflow:Layer lstm_2 will not use cuDNN kernels since it doesn't meet the criteria. It will use a generic GPU kernel as fallback when running on GPU.\n"
          ]
        }
      ],
      "source": [
        "from tensorflow.keras.layers import Input, LSTM, Embedding, Dense, Concatenate, TimeDistributed\n",
        "from tensorflow.keras.models import Model\n",
        "from tensorflow.keras.callbacks import EarlyStopping, ModelCheckpoint\n",
        "\n",
        "\n",
        "# 인코더 설계 시작\n",
        "embedding_dim = 128 # 임베딩 벡터 차원\n",
        "hidden_size = 256 \n",
        "# 은닉층 크기 LSTM에서 얼마만큼의 capacity를 가질지? \n",
        "# LSTM 용량 크기/LSTM 뉴런 개수 / 크다고 성능이 올라가는 건 아님\n",
        "\n",
        "# 인코더\n",
        "encoder_inputs = Input(shape=(text_max_len,))\n",
        "\n",
        "# 인코더의 임베딩 층\n",
        "enc_emb = Embedding(src_vocab, embedding_dim)(encoder_inputs)\n",
        "\n",
        "# 인코더의 LSTM 1\n",
        "encoder_lstm1 = LSTM(hidden_size, return_sequences=True, return_state=True ,dropout = 0.4, recurrent_dropout = 0.4)\n",
        "#encoder_lstm1 = LSTM(hidden_size, return_sequences=True, return_state=True ,dropout = 0.4)\n",
        "encoder_output1, state_h1, state_c1 = encoder_lstm1(enc_emb)\n",
        "\n",
        "# 인코더의 LSTM 2\n",
        "encoder_lstm2 = LSTM(hidden_size, return_sequences=True, return_state=True, dropout=0.4, recurrent_dropout=0.4)\n",
        "#encoder_lstm2 = LSTM(hidden_size, return_sequences=True, return_state=True, dropout=0.4)\n",
        "encoder_output2, state_h2, state_c2 = encoder_lstm2(encoder_output1)\n",
        "\n",
        "# 인코더의 LSTM 3\n",
        "encoder_lstm3 = LSTM(hidden_size, return_state=True, return_sequences=True, dropout=0.4, recurrent_dropout=0.4)\n",
        "#encoder_lstm3 = LSTM(hidden_size, return_state=True, return_sequences=True, dropout=0.4)\n",
        "encoder_outputs, state_h, state_c= encoder_lstm3(encoder_output2)"
      ]
    },
    {
      "cell_type": "markdown",
      "metadata": {
        "id": "9yJYPAAFwR2b"
      },
      "source": [
        "* 일반 dropout : 레이어의 가중치를 랜덤으로 생략하여 모델의 과적합 해결\n",
        "* recurrent dropout : dropout을 레이어가 아닌 **time step마다 해주는** 방식. time step의 입력을 랜덤으로 생략. recurrent dropout은 일반적인 dropout과 같이 regularization 해주는 효과가 있고, 과적합 방지."
      ]
    },
    {
      "cell_type": "code",
      "execution_count": null,
      "metadata": {
        "id": "k4TmEq_rwUCR"
      },
      "outputs": [],
      "source": [
        "# 디코더 설계\n",
        "decoder_inputs = Input(shape=(None,))\n",
        "\n",
        "# 디코더의 임베딩 층\n",
        "dec_emb_layer = Embedding(tar_vocab, embedding_dim)\n",
        "dec_emb = dec_emb_layer(decoder_inputs)\n",
        "\n",
        "# 디코더의 LSTM\n",
        "# decoder_lstm = LSTM(hidden_size, return_sequences=True, return_state=True, dropout=0.4, recurrent_dropout=0.2)\n",
        "decoder_lstm = LSTM(hidden_size, return_sequences=True, return_state=True, dropout=0.4)\n",
        "decoder_outputs, _, _ = decoder_lstm(dec_emb, initial_state=[state_h, state_c])"
      ]
    },
    {
      "cell_type": "markdown",
      "metadata": {
        "id": "zNNsI6TuwV9c"
      },
      "source": [
        "디코더의 임베딩 층과 LSTM을 설계하는 것은 인코더와 거의 동일해요. 하지만 LSTM의 입력을 정의할 때, initial_state의 인자값으로 인코더의 hidden state와 cell state의 값을 넣어줘야 해요.\n",
        "\n",
        "디코더의 출력층을 설계해볼게요."
      ]
    },
    {
      "cell_type": "code",
      "execution_count": null,
      "metadata": {
        "colab": {
          "base_uri": "https://localhost:8080/"
        },
        "id": "scd0pbK3wW_K",
        "outputId": "669aa549-eab4-45c9-e1d6-7ba3cee819c0"
      },
      "outputs": [
        {
          "output_type": "stream",
          "name": "stdout",
          "text": [
            "Model: \"model\"\n",
            "__________________________________________________________________________________________________\n",
            " Layer (type)                   Output Shape         Param #     Connected to                     \n",
            "==================================================================================================\n",
            " input_1 (InputLayer)           [(None, 40)]         0           []                               \n",
            "                                                                                                  \n",
            " embedding (Embedding)          (None, 40, 128)      2560000     ['input_1[0][0]']                \n",
            "                                                                                                  \n",
            " lstm (LSTM)                    [(None, 40, 256),    394240      ['embedding[0][0]']              \n",
            "                                 (None, 256),                                                     \n",
            "                                 (None, 256)]                                                     \n",
            "                                                                                                  \n",
            " input_2 (InputLayer)           [(None, None)]       0           []                               \n",
            "                                                                                                  \n",
            " lstm_1 (LSTM)                  [(None, 40, 256),    525312      ['lstm[0][0]']                   \n",
            "                                 (None, 256),                                                     \n",
            "                                 (None, 256)]                                                     \n",
            "                                                                                                  \n",
            " embedding_1 (Embedding)        (None, None, 128)    1280000     ['input_2[0][0]']                \n",
            "                                                                                                  \n",
            " lstm_2 (LSTM)                  [(None, 40, 256),    525312      ['lstm_1[0][0]']                 \n",
            "                                 (None, 256),                                                     \n",
            "                                 (None, 256)]                                                     \n",
            "                                                                                                  \n",
            " lstm_3 (LSTM)                  [(None, None, 256),  394240      ['embedding_1[0][0]',            \n",
            "                                 (None, 256),                     'lstm_2[0][1]',                 \n",
            "                                 (None, 256)]                     'lstm_2[0][2]']                 \n",
            "                                                                                                  \n",
            " dense (Dense)                  (None, None, 10000)  2570000     ['lstm_3[0][0]']                 \n",
            "                                                                                                  \n",
            "==================================================================================================\n",
            "Total params: 8,249,104\n",
            "Trainable params: 8,249,104\n",
            "Non-trainable params: 0\n",
            "__________________________________________________________________________________________________\n"
          ]
        }
      ],
      "source": [
        "# 디코더의 출력층\n",
        "decoder_softmax_layer = Dense(tar_vocab, activation='softmax')\n",
        "decoder_softmax_outputs = decoder_softmax_layer(decoder_outputs) \n",
        "\n",
        "# 모델 정의\n",
        "model = Model([encoder_inputs, decoder_inputs], decoder_softmax_outputs)\n",
        "model.summary()"
      ]
    },
    {
      "cell_type": "markdown",
      "metadata": {
        "id": "n2ewa2tIwesH"
      },
      "source": [
        "디코더의 출력층에서는 Summary의 단어장인 tar_vocab의 수많은 선택지 중 하나의 단어를 선택하는 다중 클래스 분류 문제를 풀어야 해요. 그렇기 때문에 Dense의 인자로 tar_vocab을 주고, 활성화 함수로 소프트맥스 함수를 사용하고 있어요.\n",
        "\n",
        "지금까지 설계한 것은 인코더의 hidden state와 cell state를 디코더의 초기 state로 사용하는 가장 기본적인 seq2seq에요. 그런데 디코더의 출력층을 설계를 살짝 바꿔서 성능을 높일 수 있는 방법이 있어요! 바로 어텐션 메커니즘이에요.\n",
        "\n",
        "## 어텐션 메커니즘\n",
        "어텐션 메커니즘을 수행하는 어텐션 함수를 설계하는 것은 또 다른 새로운 신경망을 설계해야 한다는 뜻이에요. 어텐션 함수를 설계해보는 것은 다음 기회로 미루기로 하고, 여기서는 TensorFlow에 이미 구현된 어텐션 함수를 가져와서 디코더의 출력층에 어떤 방식으로 결합하는지 배워볼게요. 참고로 여기서 사용하는 어텐션 함수는 Bahdanau 스타일의 어텐션입니다. 이 어텐션에 대한 자세한 설명은 텐서플로우 홈페이지를 참고하세요.\n",
        "\n",
        "아래와 같이 어텐션 층을 만들고, 위에서 설계한 디코더의 출력층을 수정해 봅시다.\n",
        "\n"
      ]
    },
    {
      "cell_type": "code",
      "execution_count": null,
      "metadata": {
        "colab": {
          "base_uri": "https://localhost:8080/"
        },
        "id": "ZMQPtttZwhsP",
        "outputId": "ec0bfa38-02e0-4433-b9cc-c311499dcaf4"
      },
      "outputs": [
        {
          "output_type": "stream",
          "name": "stdout",
          "text": [
            "Model: \"model_1\"\n",
            "__________________________________________________________________________________________________\n",
            " Layer (type)                   Output Shape         Param #     Connected to                     \n",
            "==================================================================================================\n",
            " input_1 (InputLayer)           [(None, 40)]         0           []                               \n",
            "                                                                                                  \n",
            " embedding (Embedding)          (None, 40, 128)      2560000     ['input_1[0][0]']                \n",
            "                                                                                                  \n",
            " lstm (LSTM)                    [(None, 40, 256),    394240      ['embedding[0][0]']              \n",
            "                                 (None, 256),                                                     \n",
            "                                 (None, 256)]                                                     \n",
            "                                                                                                  \n",
            " input_2 (InputLayer)           [(None, None)]       0           []                               \n",
            "                                                                                                  \n",
            " lstm_1 (LSTM)                  [(None, 40, 256),    525312      ['lstm[0][0]']                   \n",
            "                                 (None, 256),                                                     \n",
            "                                 (None, 256)]                                                     \n",
            "                                                                                                  \n",
            " embedding_1 (Embedding)        (None, None, 128)    1280000     ['input_2[0][0]']                \n",
            "                                                                                                  \n",
            " lstm_2 (LSTM)                  [(None, 40, 256),    525312      ['lstm_1[0][0]']                 \n",
            "                                 (None, 256),                                                     \n",
            "                                 (None, 256)]                                                     \n",
            "                                                                                                  \n",
            " lstm_3 (LSTM)                  [(None, None, 256),  394240      ['embedding_1[0][0]',            \n",
            "                                 (None, 256),                     'lstm_2[0][1]',                 \n",
            "                                 (None, 256)]                     'lstm_2[0][2]']                 \n",
            "                                                                                                  \n",
            " attention_layer (AdditiveAtten  (None, None, 256)   256         ['lstm_3[0][0]',                 \n",
            " tion)                                                            'lstm_2[0][0]']                 \n",
            "                                                                                                  \n",
            " concat_layer (Concatenate)     (None, None, 512)    0           ['lstm_3[0][0]',                 \n",
            "                                                                  'attention_layer[0][0]']        \n",
            "                                                                                                  \n",
            " dense_1 (Dense)                (None, None, 10000)  5130000     ['concat_layer[0][0]']           \n",
            "                                                                                                  \n",
            "==================================================================================================\n",
            "Total params: 10,809,360\n",
            "Trainable params: 10,809,360\n",
            "Non-trainable params: 0\n",
            "__________________________________________________________________________________________________\n"
          ]
        }
      ],
      "source": [
        "from tensorflow.keras.layers import AdditiveAttention\n",
        "\n",
        "# 어텐션 층(어텐션 함수)\n",
        "attn_layer = AdditiveAttention(name='attention_layer')\n",
        "\n",
        "# 인코더와 디코더의 모든 time step의 hidden state를 어텐션 층에 전달하고 결과를 리턴\n",
        "attn_out = attn_layer([decoder_outputs, encoder_outputs])\n",
        "\n",
        "\n",
        "# 어텐션의 결과와 디코더의 hidden state들을 연결\n",
        "decoder_concat_input = Concatenate(axis=-1, name='concat_layer')([decoder_outputs, attn_out])\n",
        "\n",
        "# 디코더의 출력층\n",
        "decoder_softmax_layer = Dense(tar_vocab, activation='softmax')\n",
        "decoder_softmax_outputs = decoder_softmax_layer(decoder_concat_input)\n",
        "\n",
        "# 모델 정의\n",
        "model = Model([encoder_inputs, decoder_inputs], decoder_softmax_outputs)\n",
        "model.summary()"
      ]
    },
    {
      "cell_type": "markdown",
      "metadata": {
        "id": "78QEdA0TwhfF"
      },
      "source": [
        "위의 코드는 인코더의 hidden state들과 디코더의 hidden state들을 어텐션 함수의 입력으로 사용하고, 어텐션 함수가 리턴한 값을 예측 시에 디코더의 hidden state와 함께 활용하는 형태로 작동하고 있어요."
      ]
    },
    {
      "cell_type": "markdown",
      "metadata": {
        "id": "uj9xmSYCxEL9"
      },
      "source": [
        "### 모델 훈련하기"
      ]
    },
    {
      "cell_type": "code",
      "execution_count": null,
      "metadata": {
        "colab": {
          "base_uri": "https://localhost:8080/"
        },
        "id": "7jnOynSBwpIw",
        "outputId": "70ec9f11-cf84-4cfb-93c6-5dadbbba531e"
      },
      "outputs": [
        {
          "output_type": "stream",
          "name": "stdout",
          "text": [
            "Epoch 1/50\n",
            "281/281 [==============================] - 181s 588ms/step - loss: 5.6503 - val_loss: 5.2178\n",
            "Epoch 2/50\n",
            "281/281 [==============================] - 164s 585ms/step - loss: 5.0884 - val_loss: 4.8419\n",
            "Epoch 3/50\n",
            "281/281 [==============================] - 164s 585ms/step - loss: 4.7546 - val_loss: 4.6007\n",
            "Epoch 4/50\n",
            "281/281 [==============================] - 164s 584ms/step - loss: 4.5009 - val_loss: 4.4168\n",
            "Epoch 5/50\n",
            "281/281 [==============================] - 164s 583ms/step - loss: 4.2978 - val_loss: 4.2852\n",
            "Epoch 6/50\n",
            "281/281 [==============================] - 164s 583ms/step - loss: 4.1287 - val_loss: 4.1750\n",
            "Epoch 7/50\n",
            "281/281 [==============================] - 163s 579ms/step - loss: 3.9817 - val_loss: 4.1006\n",
            "Epoch 8/50\n",
            "281/281 [==============================] - 163s 581ms/step - loss: 3.8567 - val_loss: 4.0239\n",
            "Epoch 9/50\n",
            "281/281 [==============================] - 163s 580ms/step - loss: 3.7426 - val_loss: 3.9666\n",
            "Epoch 10/50\n",
            "281/281 [==============================] - 163s 579ms/step - loss: 3.6431 - val_loss: 3.9272\n",
            "Epoch 11/50\n",
            "281/281 [==============================] - 163s 582ms/step - loss: 3.5515 - val_loss: 3.8853\n",
            "Epoch 12/50\n",
            "281/281 [==============================] - 163s 580ms/step - loss: 3.4692 - val_loss: 3.8533\n",
            "Epoch 13/50\n",
            "281/281 [==============================] - 163s 581ms/step - loss: 3.3957 - val_loss: 3.8238\n",
            "Epoch 14/50\n",
            "281/281 [==============================] - 163s 581ms/step - loss: 3.3260 - val_loss: 3.8035\n",
            "Epoch 15/50\n",
            "281/281 [==============================] - 163s 580ms/step - loss: 3.2601 - val_loss: 3.7836\n",
            "Epoch 16/50\n",
            "281/281 [==============================] - 163s 579ms/step - loss: 3.2012 - val_loss: 3.7691\n",
            "Epoch 17/50\n",
            "281/281 [==============================] - 164s 582ms/step - loss: 3.1450 - val_loss: 3.7551\n",
            "Epoch 18/50\n",
            "281/281 [==============================] - 163s 579ms/step - loss: 3.0910 - val_loss: 3.7502\n",
            "Epoch 19/50\n",
            "281/281 [==============================] - 163s 581ms/step - loss: 3.0379 - val_loss: 3.7389\n",
            "Epoch 20/50\n",
            "281/281 [==============================] - 163s 580ms/step - loss: 2.9898 - val_loss: 3.7308\n",
            "Epoch 21/50\n",
            "281/281 [==============================] - 163s 582ms/step - loss: 2.9478 - val_loss: 3.7337\n",
            "Epoch 22/50\n",
            "281/281 [==============================] - 164s 583ms/step - loss: 2.9056 - val_loss: 3.7262\n",
            "Epoch 23/50\n",
            "281/281 [==============================] - 164s 582ms/step - loss: 2.8637 - val_loss: 3.7232\n",
            "Epoch 24/50\n",
            "281/281 [==============================] - 163s 582ms/step - loss: 2.8278 - val_loss: 3.7229\n",
            "Epoch 25/50\n",
            "281/281 [==============================] - 163s 580ms/step - loss: 2.7918 - val_loss: 3.7214\n",
            "Epoch 26/50\n",
            "281/281 [==============================] - 163s 581ms/step - loss: 2.7575 - val_loss: 3.7167\n",
            "Epoch 27/50\n",
            "281/281 [==============================] - 163s 581ms/step - loss: 2.7228 - val_loss: 3.7153\n",
            "Epoch 28/50\n",
            "281/281 [==============================] - 163s 582ms/step - loss: 2.6925 - val_loss: 3.7159\n",
            "Epoch 29/50\n",
            "281/281 [==============================] - 164s 582ms/step - loss: 2.6635 - val_loss: 3.7153\n",
            "Epoch 30/50\n",
            "281/281 [==============================] - 164s 583ms/step - loss: 2.6346 - val_loss: 3.7340\n",
            "Epoch 31/50\n",
            "281/281 [==============================] - 164s 583ms/step - loss: 2.6055 - val_loss: 3.7276\n",
            "Epoch 31: early stopping\n"
          ]
        }
      ],
      "source": [
        "model.compile(optimizer='rmsprop', loss='sparse_categorical_crossentropy')\n",
        "es = EarlyStopping(monitor='val_loss', patience=2, verbose=1)\n",
        "history = model.fit(x=[encoder_input_train, decoder_input_train], y=decoder_target_train, \\\n",
        "          validation_data=([encoder_input_test, decoder_input_test], decoder_target_test), \\\n",
        "          batch_size=256, callbacks=[es], epochs=50)"
      ]
    },
    {
      "cell_type": "markdown",
      "source": [
        "1시간 걸림;"
      ],
      "metadata": {
        "id": "8pmAtE3RfqzY"
      }
    },
    {
      "cell_type": "code",
      "execution_count": null,
      "metadata": {
        "id": "KPakYU6gw_VJ",
        "colab": {
          "base_uri": "https://localhost:8080/",
          "height": 265
        },
        "outputId": "71740415-ab4d-4fa9-fabb-bbbe6ac79b85"
      },
      "outputs": [
        {
          "output_type": "display_data",
          "data": {
            "text/plain": [
              "<Figure size 432x288 with 1 Axes>"
            ],
            "image/png": "[encoded data removed]"
          },
          "metadata": {
            "needs_background": "light"
          }
        }
      ],
      "source": [
        "plt.plot(history.history['loss'], label='train')\n",
        "plt.plot(history.history['val_loss'], label='test')\n",
        "plt.legend()\n",
        "plt.show()"
      ]
    },
    {
      "cell_type": "markdown",
      "metadata": {
        "id": "8N2SDncS-mCY"
      },
      "source": [
        "## **Step 4. 실제 결과와 요약문 비교하기 (추상적 요약)**\n",
        "원래의 요약문(headlines 열)과 학습을 통해 얻은 추상적 요약의 결과를 비교해 보세요."
      ]
    },
    {
      "cell_type": "code",
      "execution_count": null,
      "metadata": {
        "colab": {
          "base_uri": "https://localhost:8080/"
        },
        "id": "qXiEq9Dn6zCk",
        "outputId": "bc655509-3c60-484a-fa77-312240f307af"
      },
      "outputs": [
        {
          "output_type": "stream",
          "name": "stdout",
          "text": [
            "=3\n"
          ]
        }
      ],
      "source": [
        "src_index_to_word = src_tokenizer.index_word # 원문 단어 집합에서 정수 -> 단어를 얻음\n",
        "tar_word_to_index = tar_tokenizer.word_index # 요약 단어 집합에서 단어 -> 정수를 얻음\n",
        "tar_index_to_word = tar_tokenizer.index_word # 요약 단어 집합에서 정수 -> 단어를 얻음\n",
        "\n",
        "print('=3')"
      ]
    },
    {
      "cell_type": "markdown",
      "metadata": {
        "id": "CrWZwVs960hZ"
      },
      "source": [
        "seq2seq는 훈련할 때와 실제 동작할 때(인퍼런스 단계)의 방식이 다르므로 그에 맞게 모델 설계를 별개로 진행해야 한다는 것, 알고 계시나요?\n",
        "\n",
        "훈련 단계에서는 디코더의 입력부에 정답이 되는 문장 전체를 한꺼번에 넣고 디코더의 출력과 한 번에 비교할 수 있으므로, 인코더와 디코더를 엮은 통짜 모델 하나만 준비했습니다.\n",
        "\n",
        "그러나 **정답 문장이 없는 인퍼런스 단계에서는 만들어야 할 문장의 길이만큼 디코더가 반복 구조로 동작**해야 하기 때문에 부득이하게 **인퍼런스를 위한 모델 설계를 별도로** 해주어야 합니다. 이때는 인코더 모델과 디코더 모델을 분리해서 설계합니다.\n",
        "\n"
      ]
    },
    {
      "cell_type": "code",
      "execution_count": null,
      "metadata": {
        "colab": {
          "base_uri": "https://localhost:8080/"
        },
        "id": "a0hndGg0613Q",
        "outputId": "39520802-7e9c-41d1-ffa5-f31ad119a5c0"
      },
      "outputs": [
        {
          "output_type": "stream",
          "name": "stdout",
          "text": [
            "=3\n"
          ]
        }
      ],
      "source": [
        "# 인코더 설계\n",
        "encoder_model = Model(inputs=encoder_inputs, outputs=[encoder_outputs, state_h, state_c])\n",
        "\n",
        "# 이전 시점의 상태들을 저장하는 텐서\n",
        "decoder_state_input_h = Input(shape=(hidden_size,))\n",
        "decoder_state_input_c = Input(shape=(hidden_size,))\n",
        "\n",
        "dec_emb2 = dec_emb_layer(decoder_inputs)\n",
        "\n",
        "# 문장의 다음 단어를 예측하기 위해서 초기 상태(initial_state)를 이전 시점의 상태로 사용. 이는 뒤의 함수 decode_sequence()에 구현\n",
        "# 훈련 과정에서와 달리 LSTM의 리턴하는 은닉 상태와 셀 상태인 state_h와 state_c를 버리지 않음.\n",
        "decoder_outputs2, state_h2, state_c2 = decoder_lstm(dec_emb2, initial_state=[decoder_state_input_h, decoder_state_input_c])\n",
        "\n",
        "print('=3')"
      ]
    },
    {
      "cell_type": "markdown",
      "metadata": {
        "id": "xUYyWLhq63El"
      },
      "source": [
        "어텐션 메커니즘을 사용하는 출력층을 설계해 주세요."
      ]
    },
    {
      "cell_type": "code",
      "execution_count": null,
      "metadata": {
        "colab": {
          "base_uri": "https://localhost:8080/"
        },
        "id": "dBKV3lt964Ft",
        "outputId": "1128fdad-ca6b-47e9-f88e-7e95b5f376d7"
      },
      "outputs": [
        {
          "output_type": "stream",
          "name": "stdout",
          "text": [
            "=3\n"
          ]
        }
      ],
      "source": [
        "# 어텐션 함수\n",
        "decoder_hidden_state_input = Input(shape=(text_max_len, hidden_size))\n",
        "attn_out_inf = attn_layer([decoder_outputs2, decoder_hidden_state_input])\n",
        "decoder_inf_concat = Concatenate(axis=-1, name='concat')([decoder_outputs2, attn_out_inf])\n",
        "\n",
        "# 디코더의 출력층\n",
        "decoder_outputs2 = decoder_softmax_layer(decoder_inf_concat) \n",
        "\n",
        "# 최종 디코더 모델\n",
        "decoder_model = Model(\n",
        "    [decoder_inputs] + [decoder_hidden_state_input,decoder_state_input_h, decoder_state_input_c],\n",
        "    [decoder_outputs2] + [state_h2, state_c2])\n",
        "\n",
        "print('=3')"
      ]
    },
    {
      "cell_type": "markdown",
      "metadata": {
        "id": "Qx-5H29M65T7"
      },
      "source": [
        "인퍼런스 단계에서 단어 시퀀스를 완성하는 함수를 만들어주세요.\n",
        "\n"
      ]
    },
    {
      "cell_type": "code",
      "execution_count": null,
      "metadata": {
        "colab": {
          "base_uri": "https://localhost:8080/"
        },
        "id": "f1zUUxdt66tV",
        "outputId": "57658041-dced-4183-e5bb-43c1f09f617d"
      },
      "outputs": [
        {
          "output_type": "stream",
          "name": "stdout",
          "text": [
            "=3\n"
          ]
        }
      ],
      "source": [
        "def decode_sequence(input_seq):\n",
        "    # 입력으로부터 인코더의 상태를 얻음\n",
        "    e_out, e_h, e_c = encoder_model.predict(input_seq)\n",
        "\n",
        "     # <SOS>에 해당하는 토큰 생성\n",
        "    target_seq = np.zeros((1,1))\n",
        "    target_seq[0, 0] = tar_word_to_index['sostoken']\n",
        "\n",
        "    stop_condition = False\n",
        "    decoded_sentence = ''\n",
        "    while not stop_condition: # stop_condition이 True가 될 때까지 루프 반복\n",
        "\n",
        "        output_tokens, h, c = decoder_model.predict([target_seq] + [e_out, e_h, e_c])\n",
        "        sampled_token_index = np.argmax(output_tokens[0, -1, :])\n",
        "        sampled_token = tar_index_to_word[sampled_token_index]\n",
        "\n",
        "        if (sampled_token!='eostoken'):\n",
        "            decoded_sentence += ' '+sampled_token\n",
        "\n",
        "        #  <eos>에 도달하거나 최대 길이를 넘으면 중단.\n",
        "        if (sampled_token == 'eostoken'  or len(decoded_sentence.split()) >= (summary_max_len-1)):\n",
        "            stop_condition = True\n",
        "\n",
        "        # 길이가 1인 타겟 시퀀스를 업데이트\n",
        "        target_seq = np.zeros((1,1))\n",
        "        target_seq[0, 0] = sampled_token_index\n",
        "\n",
        "        # 상태를 업데이트 합니다.\n",
        "        e_h, e_c = h, c\n",
        "\n",
        "    return decoded_sentence\n",
        "print('=3')"
      ]
    },
    {
      "cell_type": "markdown",
      "metadata": {
        "id": "uSgyD_cR69oB"
      },
      "source": [
        "### 12-11. 모델 테스트하기\n",
        "테스트 단계에서는 정수 시퀀스를 텍스트 시퀀스로 변환하여 결과를 확인하는 것이 편하겠죠. 주어진 정수 시퀀스를 텍스트 시퀀스로 변환하는 함수를 만들어볼게요. 함수를 만들 때, Text의 정수 시퀀스에서는 패딩을 위해 사용되는 숫자 0을 제외하고 Summary의 정수 시퀀스에서는 숫자 0, 시작 토큰의 인덱스, 종료 토큰의 인덱스를 출력에서 제외하도록 만들 거예요."
      ]
    },
    {
      "cell_type": "code",
      "execution_count": null,
      "metadata": {
        "colab": {
          "base_uri": "https://localhost:8080/"
        },
        "id": "fJAvJbUq7As-",
        "outputId": "2369283a-94a0-4549-8f0a-47f2fc29e96f"
      },
      "outputs": [
        {
          "output_type": "stream",
          "name": "stdout",
          "text": [
            "=3\n"
          ]
        }
      ],
      "source": [
        "# 원문의 정수 시퀀스를 텍스트 시퀀스로 변환\n",
        "def seq2text(input_seq):\n",
        "    temp=''\n",
        "    for i in input_seq:\n",
        "        if (i!=0):\n",
        "            temp = temp + src_index_to_word[i]+' '\n",
        "    return temp\n",
        "\n",
        "# 요약문의 정수 시퀀스를 텍스트 시퀀스로 변환\n",
        "def seq2summary(input_seq):\n",
        "    temp=''\n",
        "    for i in input_seq:\n",
        "        if ((i!=0 and i!=tar_word_to_index['sostoken']) and i!=tar_word_to_index['eostoken']):\n",
        "            temp = temp + tar_index_to_word[i] + ' '\n",
        "    return temp\n",
        "\n",
        "print('=3')"
      ]
    },
    {
      "cell_type": "markdown",
      "metadata": {
        "id": "yoKD5czK7CMy"
      },
      "source": [
        "테스트 데이터 약 50개의 샘플에 대해서 실제 요약과 예측된 요약을 비교해보세요."
      ]
    },
    {
      "cell_type": "code",
      "execution_count": null,
      "metadata": {
        "colab": {
          "base_uri": "https://localhost:8080/"
        },
        "id": "nr_o7kVS7C77",
        "outputId": "fa1f9af2-6554-469f-c68c-1197e1da73b9"
      },
      "outputs": [
        {
          "output_type": "stream",
          "name": "stdout",
          "text": [
            "원문 : world fourth richest person warren buffett said buying bitcoin investment gamble buy something like bitcoin cryptocurrency really anything produced anything hoping next guy pays billionaire added buffett earlier said cryptocurrencies come bad ending \n",
            "실제 요약 : buying bitcoin not investment billionaire buffett \n",
            "예측 요약 :  cryptocurrencies are not valuable cryptocurrency warren buffett\n",
            "\n",
            "\n",
            "원문 : around residents us state florida pledged point fans direction hurricane irma attempt blow away part event created facebook category storm caused one largest evacuations us history also one strongest atlantic hurricanes \n",
            "실제 요약 : people to try away hurricane irma with fans \n",
            "예측 요약 :  us city hurricane hit by us volcano\n",
            "\n",
            "\n",
            "원문 : congress tuesday claimed bjp bjd share secret ties adding simply trying fool people odisha pm cm betrayed people statement came prime minister narendra modi criticised odisha government without directly mentioning patnaik bjd \n",
            "실제 요약 : pm speech exposes secret ties between bjp bjd congress \n",
            "예측 요약 :  bjp has no longer in the world shiv sena\n",
            "\n",
            "\n",
            "원문 : nato leaders wednesday agreed invite macedonia begin talks join military alliance invitation comes macedonia agreed change name republic north macedonia deal greece notably macedonia invited join nato however greece blocked move long running name dispute \n",
            "실제 요약 : invited to join nato after name change deal \n",
            "예측 요약 :  us to talks with india to discuss talks with global\n",
            "\n",
            "\n",
            "원문 : father girish sharma invaded pitch ranji trophy match palam said son cricket wanted watch match close claimed son even aware ranji game international stars taking place drove ground friday \n",
            "실제 요약 : he wanted to watch match up close father of pitch \n",
            "예측 요약 :  father son son of hitting father in cricket match\n",
            "\n",
            "\n",
            "원문 : hollywood actor leonardo dicaprio took social media share brad pitt looks quentin tarantino upcoming film upon time hollywood film also star actors like margot robbie al set los angeles year film scheduled release august \n",
            "실제 요약 : dicaprio shares his brad pitt looks from tarantino film \n",
            "예측 요약 :  actress to star in film on his st film\n",
            "\n",
            "\n",
            "원문 : rape accused producer harvey weinstein reportedly refused take picture man named steve restaurant slapped called piece sh reports said steve appeared drunk approached weinstein video surfaced online steve heard saying weinstein get ck \n",
            "실제 요약 : man slaps rape accused weinstein calls him piece of sh \n",
            "예측 요약 :  harvey weinstein claims accused of sexual assault\n",
            "\n",
            "\n",
            "원문 : discovery ancient lava tubes moon nasa scientists believe could used caves humans scientists search intelligence also suggested tunnels could contain fuel interstellar travel temperatures tunnels could reach settling could make moving mars much easier noted scientists \n",
            "실제 요약 : humans could live on moon in volcanic tunnels scientists \n",
            "예측 요약 :  interstellar asteroid could be valued by earth study\n",
            "\n",
            "\n",
            "원문 : dutch pm mark rutte went bicycle meet king alexander inform formation new government wake increasing air pollution levels country rutte usually goes work riding bicycle also gifted indian pm narendra modi bicycle visit country june \n",
            "실제 요약 : dutch pm cycles to king palace to form new government \n",
            "예측 요약 :  pm modi inaugurates new york flight by greece\n",
            "\n",
            "\n",
            "원문 : world number eight belgium david defeated six time champion world number two roger federer reach final atp world tour finals registered comeback win set never previously federer total six meetings notably first time qualified tournament \n",
            "실제 요약 : world no defeats time champ federer to reach final \n",
            "예측 요약 :  federer loses th th title win after th match\n",
            "\n",
            "\n",
            "원문 : melbourne test australian commentator kerry earlier insulted debutant mayank agarwal heard saying name kid cheteshwar jadeja made remark asked shane warne trouble pronouncing names like cheteshwar pujara ravindra jadeja already decided final commentary stint user tweeted \n",
            "실제 요약 : why would you name your kid cheteshwar jadeja commentator \n",
            "예측 요약 :  sa captain asks pujara to break up to bowl comment\n",
            "\n",
            "\n",
            "원문 : haryana government thursday dismissed five police personnel deployed dera chief ram rahim security detail allegedly stopping police personnel taking custody conviction plus security cover self styled godman withdrawn conviction sentencing years rape cases \n",
            "실제 요약 : five cops deployed in ram rahim security dismissed \n",
            "예측 요약 :  haryana govt orders probe against ram rahim to visit\n",
            "\n",
            "\n",
            "원문 : actor armaan kohli arrested last night juhu residence excise police possession scotch whiskey majority purchased abroad according law person allowed possess units hard liquor bottles month additionally person allowed bring two bottles abroad time \n",
            "실제 요약 : armaan kohli arrested for possessing bottles of liquor illegally \n",
            "예측 요약 :  actor arrested for selling drugs at mumbai airport\n",
            "\n",
            "\n",
            "원문 : fire broke dubai storey residential building tiger tower sunday however fire quickly extinguished injuries reported incident improperly disposed cigarette high temperatures could blaze officials said comes blaze struck dubai storey torch tower one world tallest residential towers friday \n",
            "실제 요약 : dubai storey residential building catches fire \n",
            "예측 요약 :  fire breaks out at mumbai highway office\n",
            "\n",
            "\n",
            "원문 : break tradition finance minister arun jaitley presented union budget hindi english officials said aimed establishing greater connection india rural population upcoming general elections barring use lines hindi urdu tamil previous finance ministers presented budget mostly english \n",
            "실제 요약 : fm jaitley presents union budget in both hindi english \n",
            "예측 요약 :  jaitley to set up cr in jaitley over budget\n",
            "\n",
            "\n",
            "원문 : us german research collaboration created world sharpest laser travel lakh kilometres going sync laser termed sharpest record minimum determines much wave would disperse precision useful applications including atomic clocks \n",
            "실제 요약 : world laser can travel for lakh km \n",
            "예측 요약 :  world largest largest car made by in\n",
            "\n",
            "\n",
            "원문 : indian tennis player leander paes india first olympic medal tennis form bronze medal atlanta olympics august paes bronze medal playoff match progressed semi final men singles tournament lost gold medallist andre \n",
            "실제 요약 : paes won india first and only tennis olympic medal \n",
            "예측 요약 :  india wins gold at int olympics\n",
            "\n",
            "\n",
            "원문 : district magistrate maharashtra kale claimed several vvpat machines started malfunctioning due heat lok sabha bypolls monday added machines repaired machines immediately replaced voting polling booths constituency temporarily suspended technical glitches \n",
            "실제 요약 : vvpat glitch due to heat maha district \n",
            "예측 요약 :  maharashtra village declares electricity\n",
            "\n",
            "\n",
            "원문 : hip hop music producer kapoor said makers upcoming film gully boy used song mere gully mein without paying even aware fact song going used originally produced song featuring divine said film makers released track tuesday \n",
            "실제 요약 : was not paid for track in gully boy music producer \n",
            "예측 요약 :  first song from the song from the song released\n",
            "\n",
            "\n",
            "원문 : malhotra acted films like black friday bhaag milkha bhaag said people know screen characters name however added fact recognise big compliment would lying say like attention get work said \n",
            "실제 요약 : people know me by my characters not my name \n",
            "예측 요약 :  am not the voice of the audience ayushmann\n",
            "\n",
            "\n",
            "원문 : maharashtra minister rawal asking people watch padmaavat suggested people watch salman khan films instead citing salman film tiger zinda hai claimed inspires much feel like joining army rawal said films themes similar salman movies \n",
            "실제 요약 : watch salman films instead of padmaavat maha minister \n",
            "예측 요약 :  ranbir to star in salman khan film report\n",
            "\n",
            "\n",
            "원문 : director rajkumar hirani monday took facebook thank fans alerted leaked copy latest film sanju see thousands refused watch film illegally wrote exceptional human beings heartfelt thanks speaking wrote \n",
            "실제 요약 : thanks for us about leaked copy of sanju hirani \n",
            "예측 요약 :  was not making padmavati with me ranveer singh\n",
            "\n",
            "\n",
            "원문 : david warner said remains good friends virat kohli despite fought test series ended kohli saying friends australian cricketers chat virat still friends thankfully text conversation nice said warner \n",
            "실제 요약 : virat and are still good friends david warner \n",
            "예측 요약 :  virat kohli is the most in the same time virat kohli\n",
            "\n",
            "\n",
            "원문 : stating pm narendra modi got anger inside congress president rahul gandhi thursday said lightning rod anger attract anger problem mr modi likes discuss bullet train issues like discuss fundamental issues rahul added addressing media poll bound karnataka \n",
            "실제 요약 : am lightning rod for anger attract anger rahul gandhi \n",
            "예측 요약 :  rahul gandhi is like pm modi\n",
            "\n",
            "\n",
            "원문 : stating us president donald trump trying break nuclear deal months iran president hassan rouhani said deal strong assuring iran violate deal rouhani said us deal surely regret \n",
            "실제 요약 : nuclear deal not by trump iran prez rouhani \n",
            "예측 요약 :  us sanctions on iran nuclear deal\n",
            "\n",
            "\n",
            "원문 : karnataka government friday announced reward lakh information related senior journalist gauri lankesh murder state home minister ramalinga reddy said want get much information possible announced reward notably lankesh shot dead outside residence unidentified men september \n",
            "실제 요약 : reward announced for information on lankesh murder \n",
            "예측 요약 :  taka govt to give lakh to kin of murder accused of\n",
            "\n",
            "\n",
            "원문 : telecom regulator trai recommended allowing mobile communication internet services passengers air travel india however suggested minimum height restriction metres mobile communication maintain mobile networks suggested separate category flight service providers created \n",
            "실제 요약 : allow internet calls on flights telecom body tells govt \n",
            "예측 요약 :  trai asks why to stop using aadhaar for booking\n",
            "\n",
            "\n",
            "원문 : poop transplant medical procedure poop collected tested donor placed patient helps treat problems replacing good bacteria killed inside body patient transplant occurs via tube capsule \n",
            "실제 요약 : poop can be to help remove \n",
            "예측 요약 :  year old woman undergoes brain surgery\n",
            "\n",
            "\n",
            "원문 : asked views instagram cloning snapchat instagram co founder mike krieger said snapchat interesting competition said instagram continued done bunch work added instagram path forward version stories brings ideas table \n",
            "실제 요약 : snapchat is an competition instagram co founder \n",
            "예측 요약 :  instagram co founder user is like twitter\n",
            "\n",
            "\n",
            "원문 : year old man arrested ghazipur posting objectionable picture uttar pradesh chief minister yogi adityanath facebook police said monday badshah abdul razak forged identity create facebook account uploaded image tension intensified hindu yuva vahini members gathered protest act \n",
            "실제 요약 : man arrested for posting objectionable pic of up cm on fb \n",
            "예측 요약 :  man held for posting derogatory adityanath adityanath\n",
            "\n",
            "\n",
            "원문 : israel sunday said indo israel ties become visible modi government jewish nation respects change india policy zero sum game dealing israel arab nations sent positive message said israeli envoy daniel israel fine india relations arab countries also added \n",
            "실제 요약 : indo israel ties more visible under modi govt israel \n",
            "예측 요약 :  israel pm modi to israel pm for israel israel\n",
            "\n",
            "\n",
            "원문 : reacting year old television personality kylie jenner rumoured pregnancy user tweeted finally thing bigger kylie jenner lips stomach supposed congratulate kylie jenner kris jenner wrote another user meanwhile another comment read kylie pregnant time year keeping anniversary \n",
            "실제 요약 : kylie stomach will be bigger than her tweets user \n",
            "예측 요약 :  kylie jenner slams her for pregnant her boyfriend\n",
            "\n",
            "\n",
            "원문 : pakistani actor singer ali zafar filed defamation case claiming damages crore singer actress shafi accused sexual harassment social media zafar claimed shafi caused tremendous injury reputation livelihood claims included crore mental torture crore loss business opportunities \n",
            "실제 요약 : ali seeks cr from actress over her harassment claim \n",
            "예측 요약 :  pak ali khan gets married in bigg boss reports\n",
            "\n",
            "\n",
            "원문 : shah rukh khan tweeting film dilwale dulhania le jayenge completing years october wrote love kept raj simran story alive big screen weeks non stop added thank falling love us khan portrayed raj simran portrayed kajol film \n",
            "실제 요약 : weeks of raj and simran love srk on yrs of ddlj \n",
            "예측 요약 :  srk has been like god for nepotism srk\n",
            "\n",
            "\n",
            "원문 : reacting threats calling cutting nose role padmaavat deepika padukone said like nose take feet big several groups like karni sena announced awards chopping deepika nose kshatriya mahasabha announcing crore reward act \n",
            "실제 요약 : you can take my feet like my nose deepika on threats \n",
            "예측 요약 :  deepika is the most challenge deepika on padmavati row\n",
            "\n",
            "\n",
            "원문 : twice renewal un led probe chemical attacks syria last week russia said open establishing new panel investigate attacks terming previous investigation mechanism dead russia said ready create new mechanism would work truly professional objective manner \n",
            "실제 요약 : open to new syria chemical attacks investigation russia \n",
            "예측 요약 :  russia warns chemical attack on chemical attack in syria\n",
            "\n",
            "\n",
            "원문 : pathankot attack mastermind jaish mohammed chief masood azhar confined bed life threatening condition report quoting indian intelligence officials stated reportedly treated pakistan hospital ailment affected spinal cord kidneys masood freed india transported kandahar exchange hijacked passengers \n",
            "실제 요약 : attack mastermind bed ridden for months report \n",
            "예측 요약 :  militant attack on suspicion of killing chinese army leader\n",
            "\n",
            "\n",
            "원문 : gurugram based parody video startup raised undisclosed amount funding launching product market funding raised mumbai based venture capital company mumbai angels network founded social networking app lets users create view videos \n",
            "실제 요약 : parody video startup raises funds before launching \n",
            "예측 요약 :  home startup raises crore from\n",
            "\n",
            "\n",
            "원문 : talking astronaut training japanese billionaire yusaku maezawa travel moon spacex rocket recent event said elon musk said hard talking schedule affecting training said go work morning night try go home six hours \n",
            "실제 요약 : musk says moon training should not be too hard \n",
            "예측 요약 :  if spacex rocket is the next to mars musk\n",
            "\n",
            "\n",
            "원문 : railways ministry spent crore inauguration various projects services video conferencing november september rti reply revealed corporation responsible arranging logistics video conferencing local administration handles logistics like stage sound led screens \n",
            "실제 요약 : railways spent cr on projects via video link \n",
            "예측 요약 :  crore spent on delhi metro projects\n",
            "\n",
            "\n",
            "원문 : south africa overtook india reclaim number one spot odi rankings defeating bangladesh runs second odi wednesday india reclaimed number one rank beating australia five match odi series october win south africa also took unassailable lead three match series \n",
            "실제 요약 : south africa pips india to become number one ranked odi team \n",
            "예측 요약 :  india ranked top aus odi series in the world cup\n",
            "\n",
            "\n",
            "원문 : family accident victim accused doctors government run hospital karnataka declaring dead alive family claimed breathing went receive body hospital mortuary later took private hospital doctors reportedly said could treated brought earlier \n",
            "실제 요약 : taka hospital declares man dead family says he was alive \n",
            "예측 요약 :  class girl dies after being hit by hospital in karnataka\n",
            "\n",
            "\n",
            "원문 : former jnu students union president kanhaiya kumar elected communist party india member national council sunday day earlier kumar called confused party india criticised top leadership focusing supporting congress meanwhile reddy elected cpi general secretary third consecutive time \n",
            "실제 요약 : kanhaiya elected to cpi body after calling it confused party \n",
            "예측 요약 :  who is the india who got the new president of india\n",
            "\n",
            "\n",
            "원문 : indian wrestler bajrang punia india first gold medal asian games sunday took twitter dedicate achievement late prime minister atal bihari vajpayee bajrang shared picture podium alongside post medal year old second asian games silver edition \n",
            "실제 요약 : bajrang dedicates asian games gold to late pm vajpayee \n",
            "예측 요약 :  indian origin gold medallist wins gold at asian games\n",
            "\n",
            "\n",
            "원문 : talking apple growth india company ceo tim cook said big india country people ability well said apple manufacturing entry level iphones india gone well despite challenges including currency weakness \n",
            "실제 요약 : am in india on the country tim cook \n",
            "예측 요약 :  india is very important to apple ceo tim cook\n",
            "\n",
            "\n",
            "원문 : nigerian created computer chip using lab grown mice neurons smell detect chemicals explosives device could implanted robots help speed airport security procedures said year old claimed start made profits worth million security industry \n",
            "실제 요약 : new ai chips made of mice can smell explosives \n",
            "예측 요약 :  researchers researchers develop self driving\n",
            "\n",
            "\n",
            "원문 : karnataka chief minister siddaramaiah friday wrote centre asking removal hindi sign boards bengaluru metro stations stand government india using three language formula reasonable siddaramaiah said added cultural aspirations sentiments people karnataka needs respected \n",
            "실제 요약 : must remove hindi from bengaluru metro signs karnataka cm \n",
            "예측 요약 :  taka cm slams centre for using kannada to make kannada roads\n",
            "\n",
            "\n",
            "원문 : asserting jammu kashmir integral part india bjp president amit shah saturday said party never allow kashmir get country speaking rally mark martyrdom anniversary jana sangh founder syama prasad added today part india \n",
            "실제 요약 : will not allow kashmir to get from india shah \n",
            "예측 요약 :  shah will not be in shah one of shah\n",
            "\n",
            "\n",
            "원문 : priyanka chopra got cake fianc nick jonas th birthday message bet money written shaped like table edible dollar notes poker chips stuck also celebrated birthday baseball stadium along nick brother joe jonas \n",
            "실제 요약 : bet my money on you priyanka message on cake for nick \n",
            "예측 요약 :  priyanka nick to be the st wedding in mumbai wedding\n",
            "\n",
            "\n",
            "원문 : india defeated ireland first two match series dublin wednesday register nd outright victory team south africa held previous record winning number matches notably india became seventh team played matches \n",
            "실제 요약 : no team has won more matches than india after is \n",
            "예측 요약 :  india win rd straight match in matches to win\n",
            "\n",
            "\n"
          ]
        }
      ],
      "source": [
        "for i in range(50, 100):\n",
        "    print(\"원문 :\", seq2text(encoder_input_test[i]))\n",
        "    print(\"실제 요약 :\", seq2summary(decoder_input_test[i]))\n",
        "    print(\"예측 요약 :\", decode_sequence(encoder_input_test[i].reshape(1, text_max_len)))\n",
        "    print(\"\\n\")"
      ]
    },
    {
      "cell_type": "markdown",
      "source": [
        "정확도가 많이 떨어집니다.  \n",
        "성능 개선 방안  \n",
        "* seq2seq와 어텐션 자체의 조합을 더 좋게 수정\n",
        "* 빔 서치(beam search)\n",
        "* 사전 훈련된 워드 임베딩(pre-trained word embedding)\n",
        "* 인코더-디코더 자체의 구조를 새로이 변경한 트랜스포머(transformer)"
      ],
      "metadata": {
        "id": "s-xO4Wb0oilG"
      }
    },
    {
      "cell_type": "markdown",
      "metadata": {
        "id": "5gi22OzH-o7E"
      },
      "source": [
        "## **Step 5. Summa을 이용해서 추출적 요약해보기**\n",
        "추상적 요약은 추출적 요약과는 달리 문장의 표현력을 다양하게 가져갈 수 있지만, 추출적 요약에 비해서 난이도가 높아요. 반대로 말하면 추출적 요약은 추상적 요약에 비해 난이도가 낮고 기존 문장에서 문장을 꺼내오는 것이므로 잘못된 요약이 나올 가능성이 낮아요.  \n",
        "(추출적 요약을 하는 경우에는 오직 text열만을 사용)  \n",
        "Summa의 summarize를 사용하여 추출적 요약을 해보세요."
      ]
    },
    {
      "cell_type": "markdown",
      "source": [
        "# 12-12. 추출적 요약 해보기\n",
        "패키지 Summa에서는 추출적 요약을 위한 모듈인 summarize를 제공하고 있어 아주 간단하게 실습을 해볼 수 있어요.\n"
      ],
      "metadata": {
        "id": "9BsIUlSV7TEn"
      }
    },
    {
      "cell_type": "markdown",
      "source": [
        "## 데이터 다운로드하기"
      ],
      "metadata": {
        "id": "6-UXfHNmiQww"
      }
    },
    {
      "cell_type": "code",
      "source": [
        "import requests\n",
        "from summa.summarizer import summarize"
      ],
      "metadata": {
        "id": "pqOF0ypF7aPl"
      },
      "execution_count": null,
      "outputs": []
    },
    {
      "cell_type": "code",
      "source": [
        "summa_data.sample(10)"
      ],
      "metadata": {
        "colab": {
          "base_uri": "https://localhost:8080/",
          "height": 363
        },
        "id": "G44q1yVgDaRQ",
        "outputId": "d517050a-6836-4ecc-df1b-58be0461d4b8"
      },
      "execution_count": null,
      "outputs": [
        {
          "output_type": "execute_result",
          "data": {
            "text/plain": [
              "                                               headlines  \\\n",
              "9141   IndiGo's ex-Chief Commercial Officer joins Air...   \n",
              "66168  Lord Brahma should be saluted here, not me: Ra...   \n",
              "96965  Startup offers shares to investors who promise...   \n",
              "36977  Iran will face wrath of entire world if it pur...   \n",
              "7039   Italy regulator fines Facebook $11 mn for sell...   \n",
              "68075  US lawmakers to discuss backing India's UNSC m...   \n",
              "7866   Most encounters in Uttar Pradesh are fake: Ex-...   \n",
              "52733  Cop suspended for sharing morphed pic of PM Mo...   \n",
              "9005   Will consult churches on liquor policy if Cong...   \n",
              "34303  Cong committed suicide by moving impeachment n...   \n",
              "\n",
              "                                                    text  \n",
              "9141   AirAsia India has appointed IndiGo's former Ch...  \n",
              "66168  Refusing to take the holy seat of Lord Brahma ...  \n",
              "96965  One-drop blood test company Theranos, which wa...  \n",
              "36977  Warning Iran against pursuing its nuclear prog...  \n",
              "7039   Italian Competition Authority has imposed two ...  \n",
              "68075  Two US Congressmen have introduced a resolutio...  \n",
              "7866   Former Uttar Pradesh CM Akhilesh Yadav has sai...  \n",
              "52733  A 57-year-old Bihar Police Inspector has been ...  \n",
              "9005   Mizoram CM Lal Thanhawla on Thursday said the ...  \n",
              "34303  After Rajya Sabha Chairman Venkaiah Naidu reje...  "
            ],
            "text/html": [
              "\n",
              "  <div id=\"df-d6630a0c-ef3d-4f8c-a53b-ad112264c4b8\">\n",
              "    <div class=\"colab-df-container\">\n",
              "      <div>\n",
              "<style scoped>\n",
              "    .dataframe tbody tr th:only-of-type {\n",
              "        vertical-align: middle;\n",
              "    }\n",
              "\n",
              "    .dataframe tbody tr th {\n",
              "        vertical-align: top;\n",
              "    }\n",
              "\n",
              "    .dataframe thead th {\n",
              "        text-align: right;\n",
              "    }\n",
              "</style>\n",
              "<table border=\"1\" class=\"dataframe\">\n",
              "  <thead>\n",
              "    <tr style=\"text-align: right;\">\n",
              "      <th></th>\n",
              "      <th>headlines</th>\n",
              "      <th>text</th>\n",
              "    </tr>\n",
              "  </thead>\n",
              "  <tbody>\n",
              "    <tr>\n",
              "      <th>9141</th>\n",
              "      <td>IndiGo's ex-Chief Commercial Officer joins Air...</td>\n",
              "      <td>AirAsia India has appointed IndiGo's former Ch...</td>\n",
              "    </tr>\n",
              "    <tr>\n",
              "      <th>66168</th>\n",
              "      <td>Lord Brahma should be saluted here, not me: Ra...</td>\n",
              "      <td>Refusing to take the holy seat of Lord Brahma ...</td>\n",
              "    </tr>\n",
              "    <tr>\n",
              "      <th>96965</th>\n",
              "      <td>Startup offers shares to investors who promise...</td>\n",
              "      <td>One-drop blood test company Theranos, which wa...</td>\n",
              "    </tr>\n",
              "    <tr>\n",
              "      <th>36977</th>\n",
              "      <td>Iran will face wrath of entire world if it pur...</td>\n",
              "      <td>Warning Iran against pursuing its nuclear prog...</td>\n",
              "    </tr>\n",
              "    <tr>\n",
              "      <th>7039</th>\n",
              "      <td>Italy regulator fines Facebook $11 mn for sell...</td>\n",
              "      <td>Italian Competition Authority has imposed two ...</td>\n",
              "    </tr>\n",
              "    <tr>\n",
              "      <th>68075</th>\n",
              "      <td>US lawmakers to discuss backing India's UNSC m...</td>\n",
              "      <td>Two US Congressmen have introduced a resolutio...</td>\n",
              "    </tr>\n",
              "    <tr>\n",
              "      <th>7866</th>\n",
              "      <td>Most encounters in Uttar Pradesh are fake: Ex-...</td>\n",
              "      <td>Former Uttar Pradesh CM Akhilesh Yadav has sai...</td>\n",
              "    </tr>\n",
              "    <tr>\n",
              "      <th>52733</th>\n",
              "      <td>Cop suspended for sharing morphed pic of PM Mo...</td>\n",
              "      <td>A 57-year-old Bihar Police Inspector has been ...</td>\n",
              "    </tr>\n",
              "    <tr>\n",
              "      <th>9005</th>\n",
              "      <td>Will consult churches on liquor policy if Cong...</td>\n",
              "      <td>Mizoram CM Lal Thanhawla on Thursday said the ...</td>\n",
              "    </tr>\n",
              "    <tr>\n",
              "      <th>34303</th>\n",
              "      <td>Cong committed suicide by moving impeachment n...</td>\n",
              "      <td>After Rajya Sabha Chairman Venkaiah Naidu reje...</td>\n",
              "    </tr>\n",
              "  </tbody>\n",
              "</table>\n",
              "</div>\n",
              "      <button class=\"colab-df-convert\" onclick=\"convertToInteractive('df-d6630a0c-ef3d-4f8c-a53b-ad112264c4b8')\"\n",
              "              title=\"Convert this dataframe to an interactive table.\"\n",
              "              style=\"display:none;\">\n",
              "        \n",
              "  <svg xmlns=\"http://www.w3.org/2000/svg\" height=\"24px\"viewBox=\"0 0 24 24\"\n",
              "       width=\"24px\">\n",
              "    <path d=\"M0 0h24v24H0V0z\" fill=\"none\"/>\n",
              "    <path d=\"M18.56 5.44l.94 2.06.94-2.06 2.06-.94-2.06-.94-.94-2.06-.94 2.06-2.06.94zm-11 1L8.5 8.5l.94-2.06 2.06-.94-2.06-.94L8.5 2.5l-.94 2.06-2.06.94zm10 10l.94 2.06.94-2.06 2.06-.94-2.06-.94-.94-2.06-.94 2.06-2.06.94z\"/><path d=\"M17.41 7.96l-1.37-1.37c-.4-.4-.92-.59-1.43-.59-.52 0-1.04.2-1.43.59L10.3 9.45l-7.72 7.72c-.78.78-.78 2.05 0 2.83L4 21.41c.39.39.9.59 1.41.59.51 0 1.02-.2 1.41-.59l7.78-7.78 2.81-2.81c.8-.78.8-2.07 0-2.86zM5.41 20L4 18.59l7.72-7.72 1.47 1.35L5.41 20z\"/>\n",
              "  </svg>\n",
              "      </button>\n",
              "      \n",
              "  <style>\n",
              "    .colab-df-container {\n",
              "      display:flex;\n",
              "      flex-wrap:wrap;\n",
              "      gap: 12px;\n",
              "    }\n",
              "\n",
              "    .colab-df-convert {\n",
              "      background-color: #E8F0FE;\n",
              "      border: none;\n",
              "      border-radius: 50%;\n",
              "      cursor: pointer;\n",
              "      display: none;\n",
              "      fill: #1967D2;\n",
              "      height: 32px;\n",
              "      padding: 0 0 0 0;\n",
              "      width: 32px;\n",
              "    }\n",
              "\n",
              "    .colab-df-convert:hover {\n",
              "      background-color: #E2EBFA;\n",
              "      box-shadow: 0px 1px 2px rgba(60, 64, 67, 0.3), 0px 1px 3px 1px rgba(60, 64, 67, 0.15);\n",
              "      fill: #174EA6;\n",
              "    }\n",
              "\n",
              "    [theme=dark] .colab-df-convert {\n",
              "      background-color: #3B4455;\n",
              "      fill: #D2E3FC;\n",
              "    }\n",
              "\n",
              "    [theme=dark] .colab-df-convert:hover {\n",
              "      background-color: #434B5C;\n",
              "      box-shadow: 0px 1px 3px 1px rgba(0, 0, 0, 0.15);\n",
              "      filter: drop-shadow(0px 1px 2px rgba(0, 0, 0, 0.3));\n",
              "      fill: #FFFFFF;\n",
              "    }\n",
              "  </style>\n",
              "\n",
              "      <script>\n",
              "        const buttonEl =\n",
              "          document.querySelector('#df-d6630a0c-ef3d-4f8c-a53b-ad112264c4b8 button.colab-df-convert');\n",
              "        buttonEl.style.display =\n",
              "          google.colab.kernel.accessAllowed ? 'block' : 'none';\n",
              "\n",
              "        async function convertToInteractive(key) {\n",
              "          const element = document.querySelector('#df-d6630a0c-ef3d-4f8c-a53b-ad112264c4b8');\n",
              "          const dataTable =\n",
              "            await google.colab.kernel.invokeFunction('convertToInteractive',\n",
              "                                                     [key], {});\n",
              "          if (!dataTable) return;\n",
              "\n",
              "          const docLinkHtml = 'Like what you see? Visit the ' +\n",
              "            '<a target=\"_blank\" href=https://colab.research.google.com/notebooks/data_table.ipynb>data table notebook</a>'\n",
              "            + ' to learn more about interactive tables.';\n",
              "          element.innerHTML = '';\n",
              "          dataTable['output_type'] = 'display_data';\n",
              "          await google.colab.output.renderOutput(dataTable, element);\n",
              "          const docLink = document.createElement('div');\n",
              "          docLink.innerHTML = docLinkHtml;\n",
              "          element.appendChild(docLink);\n",
              "        }\n",
              "      </script>\n",
              "    </div>\n",
              "  </div>\n",
              "  "
            ]
          },
          "metadata": {},
          "execution_count": 53
        }
      ]
    },
    {
      "cell_type": "code",
      "source": [
        "summa_data['extract'] = summa_data.text.apply(lambda x : summarize(x, ratio=0.005))"
      ],
      "metadata": {
        "id": "9ueL7r_ooH9g"
      },
      "execution_count": null,
      "outputs": []
    },
    {
      "cell_type": "code",
      "source": [
        "summa_data.head()"
      ],
      "metadata": {
        "id": "i7a1Nf6JrvzF",
        "colab": {
          "base_uri": "https://localhost:8080/",
          "height": 206
        },
        "outputId": "276eab52-af98-4f32-f610-b6e599ac0683"
      },
      "execution_count": null,
      "outputs": [
        {
          "output_type": "execute_result",
          "data": {
            "text/plain": [
              "                                           headlines  \\\n",
              "0  upGrad learner switches to career in ML & Al w...   \n",
              "1  Delhi techie wins free food from Swiggy for on...   \n",
              "2  New Zealand end Rohit Sharma-led India's 12-ma...   \n",
              "3  Aegon life iTerm insurance plan helps customer...   \n",
              "4  Have known Hirani for yrs, what if MeToo claim...   \n",
              "\n",
              "                                                text extract  \n",
              "0  Saurav Kant, an alumnus of upGrad and IIIT-B's...          \n",
              "1  Kunal Shah's credit card bill payment platform...          \n",
              "2  New Zealand defeated India by 8 wickets in the...          \n",
              "3  With Aegon Life iTerm Insurance plan, customer...          \n",
              "4  Speaking about the sexual harassment allegatio...          "
            ],
            "text/html": [
              "\n",
              "  <div id=\"df-62389be4-eaab-42c7-aca1-8b50bf405363\">\n",
              "    <div class=\"colab-df-container\">\n",
              "      <div>\n",
              "<style scoped>\n",
              "    .dataframe tbody tr th:only-of-type {\n",
              "        vertical-align: middle;\n",
              "    }\n",
              "\n",
              "    .dataframe tbody tr th {\n",
              "        vertical-align: top;\n",
              "    }\n",
              "\n",
              "    .dataframe thead th {\n",
              "        text-align: right;\n",
              "    }\n",
              "</style>\n",
              "<table border=\"1\" class=\"dataframe\">\n",
              "  <thead>\n",
              "    <tr style=\"text-align: right;\">\n",
              "      <th></th>\n",
              "      <th>headlines</th>\n",
              "      <th>text</th>\n",
              "      <th>extract</th>\n",
              "    </tr>\n",
              "  </thead>\n",
              "  <tbody>\n",
              "    <tr>\n",
              "      <th>0</th>\n",
              "      <td>upGrad learner switches to career in ML &amp; Al w...</td>\n",
              "      <td>Saurav Kant, an alumnus of upGrad and IIIT-B's...</td>\n",
              "      <td></td>\n",
              "    </tr>\n",
              "    <tr>\n",
              "      <th>1</th>\n",
              "      <td>Delhi techie wins free food from Swiggy for on...</td>\n",
              "      <td>Kunal Shah's credit card bill payment platform...</td>\n",
              "      <td></td>\n",
              "    </tr>\n",
              "    <tr>\n",
              "      <th>2</th>\n",
              "      <td>New Zealand end Rohit Sharma-led India's 12-ma...</td>\n",
              "      <td>New Zealand defeated India by 8 wickets in the...</td>\n",
              "      <td></td>\n",
              "    </tr>\n",
              "    <tr>\n",
              "      <th>3</th>\n",
              "      <td>Aegon life iTerm insurance plan helps customer...</td>\n",
              "      <td>With Aegon Life iTerm Insurance plan, customer...</td>\n",
              "      <td></td>\n",
              "    </tr>\n",
              "    <tr>\n",
              "      <th>4</th>\n",
              "      <td>Have known Hirani for yrs, what if MeToo claim...</td>\n",
              "      <td>Speaking about the sexual harassment allegatio...</td>\n",
              "      <td></td>\n",
              "    </tr>\n",
              "  </tbody>\n",
              "</table>\n",
              "</div>\n",
              "      <button class=\"colab-df-convert\" onclick=\"convertToInteractive('df-62389be4-eaab-42c7-aca1-8b50bf405363')\"\n",
              "              title=\"Convert this dataframe to an interactive table.\"\n",
              "              style=\"display:none;\">\n",
              "        \n",
              "  <svg xmlns=\"http://www.w3.org/2000/svg\" height=\"24px\"viewBox=\"0 0 24 24\"\n",
              "       width=\"24px\">\n",
              "    <path d=\"M0 0h24v24H0V0z\" fill=\"none\"/>\n",
              "    <path d=\"M18.56 5.44l.94 2.06.94-2.06 2.06-.94-2.06-.94-.94-2.06-.94 2.06-2.06.94zm-11 1L8.5 8.5l.94-2.06 2.06-.94-2.06-.94L8.5 2.5l-.94 2.06-2.06.94zm10 10l.94 2.06.94-2.06 2.06-.94-2.06-.94-.94-2.06-.94 2.06-2.06.94z\"/><path d=\"M17.41 7.96l-1.37-1.37c-.4-.4-.92-.59-1.43-.59-.52 0-1.04.2-1.43.59L10.3 9.45l-7.72 7.72c-.78.78-.78 2.05 0 2.83L4 21.41c.39.39.9.59 1.41.59.51 0 1.02-.2 1.41-.59l7.78-7.78 2.81-2.81c.8-.78.8-2.07 0-2.86zM5.41 20L4 18.59l7.72-7.72 1.47 1.35L5.41 20z\"/>\n",
              "  </svg>\n",
              "      </button>\n",
              "      \n",
              "  <style>\n",
              "    .colab-df-container {\n",
              "      display:flex;\n",
              "      flex-wrap:wrap;\n",
              "      gap: 12px;\n",
              "    }\n",
              "\n",
              "    .colab-df-convert {\n",
              "      background-color: #E8F0FE;\n",
              "      border: none;\n",
              "      border-radius: 50%;\n",
              "      cursor: pointer;\n",
              "      display: none;\n",
              "      fill: #1967D2;\n",
              "      height: 32px;\n",
              "      padding: 0 0 0 0;\n",
              "      width: 32px;\n",
              "    }\n",
              "\n",
              "    .colab-df-convert:hover {\n",
              "      background-color: #E2EBFA;\n",
              "      box-shadow: 0px 1px 2px rgba(60, 64, 67, 0.3), 0px 1px 3px 1px rgba(60, 64, 67, 0.15);\n",
              "      fill: #174EA6;\n",
              "    }\n",
              "\n",
              "    [theme=dark] .colab-df-convert {\n",
              "      background-color: #3B4455;\n",
              "      fill: #D2E3FC;\n",
              "    }\n",
              "\n",
              "    [theme=dark] .colab-df-convert:hover {\n",
              "      background-color: #434B5C;\n",
              "      box-shadow: 0px 1px 3px 1px rgba(0, 0, 0, 0.15);\n",
              "      filter: drop-shadow(0px 1px 2px rgba(0, 0, 0, 0.3));\n",
              "      fill: #FFFFFF;\n",
              "    }\n",
              "  </style>\n",
              "\n",
              "      <script>\n",
              "        const buttonEl =\n",
              "          document.querySelector('#df-62389be4-eaab-42c7-aca1-8b50bf405363 button.colab-df-convert');\n",
              "        buttonEl.style.display =\n",
              "          google.colab.kernel.accessAllowed ? 'block' : 'none';\n",
              "\n",
              "        async function convertToInteractive(key) {\n",
              "          const element = document.querySelector('#df-62389be4-eaab-42c7-aca1-8b50bf405363');\n",
              "          const dataTable =\n",
              "            await google.colab.kernel.invokeFunction('convertToInteractive',\n",
              "                                                     [key], {});\n",
              "          if (!dataTable) return;\n",
              "\n",
              "          const docLinkHtml = 'Like what you see? Visit the ' +\n",
              "            '<a target=\"_blank\" href=https://colab.research.google.com/notebooks/data_table.ipynb>data table notebook</a>'\n",
              "            + ' to learn more about interactive tables.';\n",
              "          element.innerHTML = '';\n",
              "          dataTable['output_type'] = 'display_data';\n",
              "          await google.colab.output.renderOutput(dataTable, element);\n",
              "          const docLink = document.createElement('div');\n",
              "          docLink.innerHTML = docLinkHtml;\n",
              "          element.appendChild(docLink);\n",
              "        }\n",
              "      </script>\n",
              "    </div>\n",
              "  </div>\n",
              "  "
            ]
          },
          "metadata": {},
          "execution_count": 55
        }
      ]
    },
    {
      "cell_type": "markdown",
      "source": [
        "왜안되지"
      ],
      "metadata": {
        "id": "NgsPcGN90a7Y"
      }
    },
    {
      "cell_type": "code",
      "source": [
        "text = summa_data['text']\n"
      ],
      "metadata": {
        "id": "QXh28FckuKd6"
      },
      "execution_count": null,
      "outputs": []
    },
    {
      "cell_type": "code",
      "source": [
        "summa_data['extract'] = summa_data.text.apply(lambda x : summarize(x, ratio=0.4))"
      ],
      "metadata": {
        "id": "YMQ_okSYDm_R"
      },
      "execution_count": null,
      "outputs": []
    },
    {
      "cell_type": "code",
      "source": [
        "summa_data.head()\n"
      ],
      "metadata": {
        "colab": {
          "base_uri": "https://localhost:8080/",
          "height": 206
        },
        "id": "16Ocz2MyCKHQ",
        "outputId": "ec0afa80-e6e4-4ddf-82c4-a5401485ce12"
      },
      "execution_count": null,
      "outputs": [
        {
          "output_type": "execute_result",
          "data": {
            "text/plain": [
              "                                           headlines  \\\n",
              "0  upGrad learner switches to career in ML & Al w...   \n",
              "1  Delhi techie wins free food from Swiggy for on...   \n",
              "2  New Zealand end Rohit Sharma-led India's 12-ma...   \n",
              "3  Aegon life iTerm insurance plan helps customer...   \n",
              "4  Have known Hirani for yrs, what if MeToo claim...   \n",
              "\n",
              "                                                text  \\\n",
              "0  Saurav Kant, an alumnus of upGrad and IIIT-B's...   \n",
              "1  Kunal Shah's credit card bill payment platform...   \n",
              "2  New Zealand defeated India by 8 wickets in the...   \n",
              "3  With Aegon Life iTerm Insurance plan, customer...   \n",
              "4  Speaking about the sexual harassment allegatio...   \n",
              "\n",
              "                                             extract  \n",
              "0  upGrad's Online Power Learning has powered 3 l...  \n",
              "1  Users get one CRED coin per rupee of bill paid...  \n",
              "2  The match witnessed India getting all out for ...  \n",
              "3  Also, customers have options to insure against...  \n",
              "4  Speaking about the sexual harassment allegatio...  "
            ],
            "text/html": [
              "\n",
              "  <div id=\"df-cf12c589-a827-4712-bdba-07de4036c340\">\n",
              "    <div class=\"colab-df-container\">\n",
              "      <div>\n",
              "<style scoped>\n",
              "    .dataframe tbody tr th:only-of-type {\n",
              "        vertical-align: middle;\n",
              "    }\n",
              "\n",
              "    .dataframe tbody tr th {\n",
              "        vertical-align: top;\n",
              "    }\n",
              "\n",
              "    .dataframe thead th {\n",
              "        text-align: right;\n",
              "    }\n",
              "</style>\n",
              "<table border=\"1\" class=\"dataframe\">\n",
              "  <thead>\n",
              "    <tr style=\"text-align: right;\">\n",
              "      <th></th>\n",
              "      <th>headlines</th>\n",
              "      <th>text</th>\n",
              "      <th>extract</th>\n",
              "    </tr>\n",
              "  </thead>\n",
              "  <tbody>\n",
              "    <tr>\n",
              "      <th>0</th>\n",
              "      <td>upGrad learner switches to career in ML &amp; Al w...</td>\n",
              "      <td>Saurav Kant, an alumnus of upGrad and IIIT-B's...</td>\n",
              "      <td>upGrad's Online Power Learning has powered 3 l...</td>\n",
              "    </tr>\n",
              "    <tr>\n",
              "      <th>1</th>\n",
              "      <td>Delhi techie wins free food from Swiggy for on...</td>\n",
              "      <td>Kunal Shah's credit card bill payment platform...</td>\n",
              "      <td>Users get one CRED coin per rupee of bill paid...</td>\n",
              "    </tr>\n",
              "    <tr>\n",
              "      <th>2</th>\n",
              "      <td>New Zealand end Rohit Sharma-led India's 12-ma...</td>\n",
              "      <td>New Zealand defeated India by 8 wickets in the...</td>\n",
              "      <td>The match witnessed India getting all out for ...</td>\n",
              "    </tr>\n",
              "    <tr>\n",
              "      <th>3</th>\n",
              "      <td>Aegon life iTerm insurance plan helps customer...</td>\n",
              "      <td>With Aegon Life iTerm Insurance plan, customer...</td>\n",
              "      <td>Also, customers have options to insure against...</td>\n",
              "    </tr>\n",
              "    <tr>\n",
              "      <th>4</th>\n",
              "      <td>Have known Hirani for yrs, what if MeToo claim...</td>\n",
              "      <td>Speaking about the sexual harassment allegatio...</td>\n",
              "      <td>Speaking about the sexual harassment allegatio...</td>\n",
              "    </tr>\n",
              "  </tbody>\n",
              "</table>\n",
              "</div>\n",
              "      <button class=\"colab-df-convert\" onclick=\"convertToInteractive('df-cf12c589-a827-4712-bdba-07de4036c340')\"\n",
              "              title=\"Convert this dataframe to an interactive table.\"\n",
              "              style=\"display:none;\">\n",
              "        \n",
              "  <svg xmlns=\"http://www.w3.org/2000/svg\" height=\"24px\"viewBox=\"0 0 24 24\"\n",
              "       width=\"24px\">\n",
              "    <path d=\"M0 0h24v24H0V0z\" fill=\"none\"/>\n",
              "    <path d=\"M18.56 5.44l.94 2.06.94-2.06 2.06-.94-2.06-.94-.94-2.06-.94 2.06-2.06.94zm-11 1L8.5 8.5l.94-2.06 2.06-.94-2.06-.94L8.5 2.5l-.94 2.06-2.06.94zm10 10l.94 2.06.94-2.06 2.06-.94-2.06-.94-.94-2.06-.94 2.06-2.06.94z\"/><path d=\"M17.41 7.96l-1.37-1.37c-.4-.4-.92-.59-1.43-.59-.52 0-1.04.2-1.43.59L10.3 9.45l-7.72 7.72c-.78.78-.78 2.05 0 2.83L4 21.41c.39.39.9.59 1.41.59.51 0 1.02-.2 1.41-.59l7.78-7.78 2.81-2.81c.8-.78.8-2.07 0-2.86zM5.41 20L4 18.59l7.72-7.72 1.47 1.35L5.41 20z\"/>\n",
              "  </svg>\n",
              "      </button>\n",
              "      \n",
              "  <style>\n",
              "    .colab-df-container {\n",
              "      display:flex;\n",
              "      flex-wrap:wrap;\n",
              "      gap: 12px;\n",
              "    }\n",
              "\n",
              "    .colab-df-convert {\n",
              "      background-color: #E8F0FE;\n",
              "      border: none;\n",
              "      border-radius: 50%;\n",
              "      cursor: pointer;\n",
              "      display: none;\n",
              "      fill: #1967D2;\n",
              "      height: 32px;\n",
              "      padding: 0 0 0 0;\n",
              "      width: 32px;\n",
              "    }\n",
              "\n",
              "    .colab-df-convert:hover {\n",
              "      background-color: #E2EBFA;\n",
              "      box-shadow: 0px 1px 2px rgba(60, 64, 67, 0.3), 0px 1px 3px 1px rgba(60, 64, 67, 0.15);\n",
              "      fill: #174EA6;\n",
              "    }\n",
              "\n",
              "    [theme=dark] .colab-df-convert {\n",
              "      background-color: #3B4455;\n",
              "      fill: #D2E3FC;\n",
              "    }\n",
              "\n",
              "    [theme=dark] .colab-df-convert:hover {\n",
              "      background-color: #434B5C;\n",
              "      box-shadow: 0px 1px 3px 1px rgba(0, 0, 0, 0.15);\n",
              "      filter: drop-shadow(0px 1px 2px rgba(0, 0, 0, 0.3));\n",
              "      fill: #FFFFFF;\n",
              "    }\n",
              "  </style>\n",
              "\n",
              "      <script>\n",
              "        const buttonEl =\n",
              "          document.querySelector('#df-cf12c589-a827-4712-bdba-07de4036c340 button.colab-df-convert');\n",
              "        buttonEl.style.display =\n",
              "          google.colab.kernel.accessAllowed ? 'block' : 'none';\n",
              "\n",
              "        async function convertToInteractive(key) {\n",
              "          const element = document.querySelector('#df-cf12c589-a827-4712-bdba-07de4036c340');\n",
              "          const dataTable =\n",
              "            await google.colab.kernel.invokeFunction('convertToInteractive',\n",
              "                                                     [key], {});\n",
              "          if (!dataTable) return;\n",
              "\n",
              "          const docLinkHtml = 'Like what you see? Visit the ' +\n",
              "            '<a target=\"_blank\" href=https://colab.research.google.com/notebooks/data_table.ipynb>data table notebook</a>'\n",
              "            + ' to learn more about interactive tables.';\n",
              "          element.innerHTML = '';\n",
              "          dataTable['output_type'] = 'display_data';\n",
              "          await google.colab.output.renderOutput(dataTable, element);\n",
              "          const docLink = document.createElement('div');\n",
              "          docLink.innerHTML = docLinkHtml;\n",
              "          element.appendChild(docLink);\n",
              "        }\n",
              "      </script>\n",
              "    </div>\n",
              "  </div>\n",
              "  "
            ]
          },
          "metadata": {},
          "execution_count": 69
        }
      ]
    },
    {
      "cell_type": "code",
      "source": [
        "for idx, (head, text) in enumerate(zip(summa_data['headlines'], summa_data['text'])):\n",
        "    if idx == 50:\n",
        "        break   \n",
        "    print(\"원문 :\", text)\n",
        "    print(\"실제 요약 :\", head)\n",
        "    print(\"추출적 요약 :\", summarize(text, ratio=0.40))\n",
        "    print(\"\\n\")"
      ],
      "metadata": {
        "colab": {
          "base_uri": "https://localhost:8080/"
        },
        "id": "4hAa5cYf3VpG",
        "outputId": "f20b71d7-1cba-4f0c-c752-7231fdc30f83"
      },
      "execution_count": null,
      "outputs": [
        {
          "output_type": "stream",
          "name": "stdout",
          "text": [
            "원문 : Saurav Kant, an alumnus of upGrad and IIIT-B's PG Program in Machine learning and Artificial Intelligence, was a Sr Systems Engineer at Infosys with almost 5 years of work experience. The program and upGrad's 360-degree career support helped him transition to a Data Scientist at Tech Mahindra with 90% salary hike. upGrad's Online Power Learning has powered 3 lakh+ careers.\n",
            "실제 요약 : upGrad learner switches to career in ML & Al with 90% salary hike\n",
            "추출적 요약 : upGrad's Online Power Learning has powered 3 lakh+ careers.\n",
            "\n",
            "\n",
            "원문 : Kunal Shah's credit card bill payment platform, CRED, gave users a chance to win free food from Swiggy for one year. Pranav Kaushik, a Delhi techie, bagged this reward after spending 2000 CRED coins. Users get one CRED coin per rupee of bill paid, which can be used to avail rewards from brands like Ixigo, BookMyShow, UberEats, Cult.Fit and more.\n",
            "실제 요약 : Delhi techie wins free food from Swiggy for one year on CRED\n",
            "추출적 요약 : Users get one CRED coin per rupee of bill paid, which can be used to avail rewards from brands like Ixigo, BookMyShow, UberEats, Cult.Fit and more.\n",
            "\n",
            "\n",
            "원문 : New Zealand defeated India by 8 wickets in the fourth ODI at Hamilton on Thursday to win their first match of the five-match ODI series. India lost an international match under Rohit Sharma's captaincy after 12 consecutive victories dating back to March 2018. The match witnessed India getting all out for 92, their seventh lowest total in ODI cricket history.\n",
            "실제 요약 : New Zealand end Rohit Sharma-led India's 12-match winning streak\n",
            "추출적 요약 : The match witnessed India getting all out for 92, their seventh lowest total in ODI cricket history.\n",
            "\n",
            "\n",
            "원문 : With Aegon Life iTerm Insurance plan, customers can enjoy tax benefits on your premiums paid and save up to Ã¢ÂÂ¹46,800^ on taxes. The plan provides life cover up to the age of 100 years. Also, customers have options to insure against Critical Illnesses, Disability and Accidental Death Benefit Rider with a life cover up to the age of 80 years.\n",
            "실제 요약 : Aegon life iTerm insurance plan helps customers save tax\n",
            "추출적 요약 : Also, customers have options to insure against Critical Illnesses, Disability and Accidental Death Benefit Rider with a life cover up to the age of 80 years.\n",
            "\n",
            "\n",
            "원문 : Speaking about the sexual harassment allegations against Rajkumar Hirani, Sonam Kapoor said, \"I've known Hirani for many years...What if it's not true, the [#MeToo] movement will get derailed.\" \"In the #MeToo movement, I always believe a woman. But in this case, we need to reserve our judgment,\" she added. Hirani has been accused by an assistant who worked in 'Sanju'.\n",
            "실제 요약 : Have known Hirani for yrs, what if MeToo claims are not true: Sonam\n",
            "추출적 요약 : Speaking about the sexual harassment allegations against Rajkumar Hirani, Sonam Kapoor said, \"I've known Hirani for many years...What if it's not true, the [#MeToo] movement will get derailed.\" \"In the #MeToo movement, I always believe a woman.\n",
            "\n",
            "\n",
            "원문 : Pakistani singer Rahat Fateh Ali Khan has denied receiving any notice from the Enforcement Directorate over allegedly smuggling foreign currency out of India. \"It would have been better if the authorities would have served the notice first if any and then publicised this,\" reads a press release issued on behalf of Rahat. The statement further called the allegation \"bizarre\".\n",
            "실제 요약 : Rahat Fateh Ali Khan denies getting notice for smuggling currency\n",
            "추출적 요약 : Pakistani singer Rahat Fateh Ali Khan has denied receiving any notice from the Enforcement Directorate over allegedly smuggling foreign currency out of India.\n",
            "\n",
            "\n",
            "원문 : India recorded their lowest ODI total in New Zealand after getting all out for 92 runs in 30.5 overs in the fourth ODI at Hamilton on Thursday. Seven of India's batsmen were dismissed for single-digit scores, while their number ten batsman Yuzvendra Chahal top-scored with 18*(37). India's previous lowest ODI total in New Zealand was 108.\n",
            "실제 요약 : India get all out for 92, their lowest ODI total in New Zealand\n",
            "추출적 요약 : India's previous lowest ODI total in New Zealand was 108.\n",
            "\n",
            "\n",
            "원문 : Weeks after ex-CBI Director Alok Verma told the Department of Personnel and Training to consider him retired, the Home Ministry asked him to join work on the last day of his fixed tenure as Director on Thursday. The ministry directed him to immediately join as DG, Fire Services, the post he was transferred to after his removal as CBI chief.\n",
            "실제 요약 : Govt directs Alok Verma to join work 1 day before his retirement\n",
            "추출적 요약 : \n",
            "\n",
            "\n",
            "원문 : Andhra Pradesh CM N Chandrababu Naidu has said, \"When I met then US President Bill Clinton, I addressed him as Mr Clinton, not as 'sir'. (PM Narendra) Modi is my junior in politics...I addressed him as sir 10 times.\" \"I did this...to satisfy his ego in the hope that he will do justice to the state,\" he added.\n",
            "실제 요약 : Called PM Modi 'sir' 10 times to satisfy his ego: Andhra CM\n",
            "추출적 요약 : \n",
            "\n",
            "\n",
            "원문 : Congress candidate Shafia Zubair won the Ramgarh Assembly seat in Rajasthan, by defeating BJP's Sukhwant Singh with a margin of 12,228 votes in the bypoll. With this victory, Congress has taken its total to 100 seats in the 200-member assembly. The election to the Ramgarh seat was delayed due to the death of sitting MLA and BSP candidate Laxman Singh.\n",
            "실제 요약 : Cong wins Ramgarh bypoll in Rajasthan, takes total to 100 seats\n",
            "추출적 요약 : Congress candidate Shafia Zubair won the Ramgarh Assembly seat in Rajasthan, by defeating BJP's Sukhwant Singh with a margin of 12,228 votes in the bypoll.\n",
            "\n",
            "\n",
            "원문 : Two minor cousins in Uttar Pradesh's Gorakhpur were allegedly repeatedly burnt with tongs and forced to eat human excreta by their family for being friends with two boys from the same school. The cousins revealed their ordeal to the police and Child Welfare Committee after being brought back to Gorakhpur from Nepal, where they had fled to escape the torture.\n",
            "실제 요약 : UP cousins fed human excreta for friendship with boys\n",
            "추출적 요약 : \n",
            "\n",
            "\n",
            "원문 : Isha Ghosh, an 81-year-old member of Bharat Scouts and Guides (BSG), has been imparting physical and mental training to schoolchildren in Jharkhand for several decades. Chaibasa-based Ghosh reportedly walks seven kilometres daily and spends eight hours conducting physical training, apart from climbing and yoga sessions. She says, \"One should do something for society till one's last breath.\"\n",
            "실제 요약 : 81-yr-old woman conducts physical training in J'khand schools\n",
            "추출적 요약 : Isha Ghosh, an 81-year-old member of Bharat Scouts and Guides (BSG), has been imparting physical and mental training to schoolchildren in Jharkhand for several decades.\n",
            "\n",
            "\n",
            "원문 : Urging saints and seers at the Kumbh Mela to quit smoking, Yoga guru Ramdev said, \"We follow Ram and Krishna who never smoked in their life then why should we?\" Making them take a pledge to quit tobacco, he collected chillum (clay pipe) from several sadhus. He said he will deposit the chillums for display at a museum he'll build.\n",
            "실제 요약 : Ram, Krishna didn't smoke, why should we: Ramdev to sadhus at Kumbh\n",
            "추출적 요약 : \n",
            "\n",
            "\n",
            "원문 : Former stripper and regional sales director of a pharmaceutical company, Sunrise Lee, gave a doctor a lap dance in a nightclub to persuade him to prescribe an addictive fentanyl spray in 2012, the company's sales representative told a US court. She said she saw Lee \"sitting on [doctor's] lap, kind of bouncing around.\" Lee has been accused of bribing doctors.\n",
            "실제 요약 : Pharma exec gave doctor a lap dance to sell medicine in US: Witness\n",
            "추출적 요약 : \n",
            "\n",
            "\n",
            "원문 : Reliance Industries' Chairman Mukesh Ambani's daughter Isha Ambani, who got married last month, said she only cried at her 'bidaai' because she felt peer pressure as everyone was crying, especially her parents. \"I was emotional too but everyone around me would cry all the time,\" she added. \"It was a very emotional affair for everyone in my family,\" said Isha.\n",
            "실제 요약 :  I only cried at my 'bidaai' as I felt peer pressure: Isha Ambani\n",
            "추출적 요약 : \"It was a very emotional affair for everyone in my family,\" said Isha.\n",
            "\n",
            "\n",
            "원문 : Louis Vuitton owner LVMH, which makes high-end beverages like MoÃÂ«t & Chandon champagne and Hennessy cognac, said it's stockpiling four months' worth of wine and spirits in UK in preparation for Brexit. \"We're ready for worst case scenario if there are difficulties with deliveries,\" the French luxury giant said. The UK is scheduled to leave the EU on March 29.\n",
            "실제 요약 : Louis Vuitton owner to stockpile 4 months of wine, spirits in UK\n",
            "추출적 요약 : Louis Vuitton owner LVMH, which makes high-end beverages like MoÃÂ«t & Chandon champagne and Hennessy cognac, said it's stockpiling four months' worth of wine and spirits in UK in preparation for Brexit.\n",
            "\n",
            "\n",
            "원문 : Filmmaker Karan Johar and actress Tabu turned showstoppers for Gaurav Gupta on the opening night of LakmÃÂ© Fashion Week Summer/ Resort 2019. While Johar wore a red sequinned jacket with black pants, Tabu walked the ramp in a grey embellished gown. The fashion show, which began on January 29, will continue till February 3.\n",
            "실제 요약 : Karan Johar, Tabu turn showstoppers on opening night of LFW\n",
            "추출적 요약 : Filmmaker Karan Johar and actress Tabu turned showstoppers for Gaurav Gupta on the opening night of LakmÃÂ© Fashion Week Summer/ Resort 2019.\n",
            "\n",
            "\n",
            "원문 : In a jibe at Congress President Rahul Gandhi, PM Narendra Modi on Wednesday said those on \"bail will have to go to jail.\" PM Modi added, \"He is out on bail and his associates too are facing charges...I know they will be convicted one day.\" The PM claimed he'd waged a war on corruption because he's from a common household. \n",
            "실제 요약 : Those on bail will go to jail: PM Modi takes jibe at Rahul\n",
            "추출적 요약 : \n",
            "\n",
            "\n",
            "원문 : Days after he threatened to step down from his post if Congress MLAs continue \"crossing the line,\" Karnataka Chief Minister HD Kumaraswamy accused them of taking potshots and asked, \"How many more days can I tolerate such stuff?\" Kumaraswamy, who made the statements after a Congress MLA demanded that Siddaramaiah be made CM again, said, \"Power is ephemeral.\"\n",
            "실제 요약 : How long can I tolerate Congress leaders' potshots: K'taka CM\n",
            "추출적 요약 : \n",
            "\n",
            "\n",
            "원문 : Union Minister Dharmendra Pradhan on Wednesday claimed the illegal mining mafia in Odisha operates under the control of CM Naveen Patnaik and state Congress chief Niranjan Patnaik. He added, \"The time has come for the people of Odisha to put a full stop to their activities...The time has come for us to ask for an explanation from this corrupt government.\"\n",
            "실제 요약 : Odisha CM Patnaik controls mining mafia: Union Minister\n",
            "추출적 요약 : \n",
            "\n",
            "\n",
            "원문 : Claiming there is a dearth of ideas among opposition parties, Prime Minister Narendra Modi on Wednesday said, \"The opposition talks only about Modi the whole day, I suspect they even dream about me.\" PM Modi, who was addressing the New India Youth Conclave inÃ¢ÂÂ Surat, added that the opposition parties have only one agenda which is \"Modi\". \n",
            "실제 요약 : I think the opposition even dreams about me: PM Modi\n",
            "추출적 요약 : \n",
            "\n",
            "\n",
            "원문 : The Indian Space Research Organisation on Wednesday unveiled Human Space Flight Centre in Bengaluru for its Ã¢ÂÂ¹10,000-crore manned space mission 'Gaganyaan' scheduled for 2021. ISRO said the centre will be responsible for development of engineering systems for crew survival in space and crew selection and training. It'll also pursue activities for sustained human space flight missions, ISRO added.\n",
            "실제 요약 : ISRO unveils Bengaluru centre for manned space mission \n",
            "추출적 요약 : It'll also pursue activities for sustained human space flight missions, ISRO added.\n",
            "\n",
            "\n",
            "원문 : At least 12 people have been killed and 170 others have been injured in Saudi Arabia this week due to flooding from heavy rain. The emergency services rescued 271 people from the flooded areas, more than half of them in Tabuk. Heavy rains hit mainly western and northwestern parts of Saudi Arabia, near its border with Jordan.\n",
            "실제 요약 : 12 killed, 170 injured in Saudi Arabia floods\n",
            "추출적 요약 : At least 12 people have been killed and 170 others have been injured in Saudi Arabia this week due to flooding from heavy rain.\n",
            "\n",
            "\n",
            "원문 : Reliance Industries' Chairman Mukesh Ambani's daughter Isha Ambani has featured on the cover of the February edition of Vogue India. She's dressed in a white shirt dress and black ruffled skirt by Australian designer Toni Maticevski, while accessorising her look with a Misho ring. In the cover story on her, Isha has spoken about her work and life after marriage.\n",
            " \n",
            "실제 요약 : Isha Ambani features on February cover of Vogue magazine\n",
            "추출적 요약 : Reliance Industries' Chairman Mukesh Ambani's daughter Isha Ambani has featured on the cover of the February edition of Vogue India.\n",
            "\n",
            "\n",
            "원문 : Indian Oil Corporation on Wednesday said it's looking for an annual deal to buy US crude as it seeks to broaden oil purchasing options. This comes amid uncertainties over Iran imports. The US had in November granted a six-month waiver to India from sanctions against Iran and restricted the country's monthly intake of Iranian oil to 3,00,000 barrels per day.\n",
            "\n",
            "\n",
            "실제 요약 : Indian Oil looking for annual deal to buy crude from US\n",
            "추출적 요약 : The US had in November granted a six-month waiver to India from sanctions against Iran and restricted the country's monthly intake of Iranian oil to 3,00,000 barrels per day.\n",
            "\n",
            "\n",
            "원문 : Former Windies fast bowler Curtly Ambrose dismissed seven Australian batsmen within a span of 32 balls giving away just one run, in a Test match on January 30, 1993. Ambrose's spell helped his team bowl out Australia for 119 in the first innings, after being 85 for 2 at one point. Ambrose ended with first-innings figures of 18-9-25-7.\n",
            "실제 요약 : Pacer once took 7 wickets for just 1 run in 32 balls in a Test\n",
            "추출적 요약 : Ambrose ended with first-innings figures of 18-9-25-7.\n",
            "\n",
            "\n",
            "원문 : A London zoo is offering people to name a cockroach after their exes on Valentine's Day for ÃÂ£1.50 (nearly Ã¢ÂÂ¹140). \"For those that don't quite require revenge, there's another way to make you feel better about getting back at your ex,\" the zoo said in a statement. The names will appear on zoo's 'roach board' on February 14. \n",
            "실제 요약 : UK zoo offers people to name cockroach after their ex on Valentine's\n",
            "추출적 요약 : The names will appear on zoo's 'roach board' on February 14.\n",
            "\n",
            "\n",
            "원문 : Stand-in captain Rohit Sharma has become the 14th Indian cricketer to play 200 ODIs, achieving the feat after taking the field against New Zealand in fourth ODI at Hamilton on Thursday. The 31-year-old had made his ODI debut on June 23, 2007, against Ireland in Belfast. Rohit scored 7,799 runs in his first 199 ODIs at an average of 48.14.\n",
            "실제 요약 : Rohit Sharma becomes 14th Indian cricketer to play 200 ODIs\n",
            "추출적 요약 : Rohit scored 7,799 runs in his first 199 ODIs at an average of 48.14.\n",
            "\n",
            "\n",
            "원문 : Batsman Shubman Gill has become the 227th cricketer to represent India in ODI cricket, achieving the feat against New Zealand in the fourth ODI at Hamilton on Thursday. The 19-year-old received his maiden ODI cap from former captain MS Dhoni. Notably, Shubman was named Player of the Under-19 World Cup in New Zealand last year.\n",
            "실제 요약 : 19-year-old Shubman Gill becomes India's 227th ODI cricketer\n",
            "추출적 요약 : Notably, Shubman was named Player of the Under-19 World Cup in New Zealand last year.\n",
            "\n",
            "\n",
            "원문 : Investigators searching for a lost plane carrying Argentine forward Emiliano Sala found two seat cushions on French coast that \"likely\" belonged to the aircraft. The investigators said they'll now launch an underwater seabed search for aircraft wreckage. The Cardiff City footballer was travelling from France's Nantes to Wales' Cardiff when his plane disappeared over English Channel on January 21.\n",
            "실제 요약 : 2 seat cushions from 'missing plane carrying footballer' found\n",
            "추출적 요약 : Investigators searching for a lost plane carrying Argentine forward Emiliano Sala found two seat cushions on French coast that \"likely\" belonged to the aircraft.\n",
            "\n",
            "\n",
            "원문 : Italian third division football side Lucchese's head coach Giancarlo Favarin has been banned for five months for headbutting Alessandria's assistant coach Gaetano Mancino during a brawl following the teams' 2-2 draw on Sunday. Mancino was caught off-balance and knocked to the ground after the headbutt. Earlier in the match, Favarin had told his own player to break an opponent's legs.\n",
            "실제 요약 : Italian coach knocks rival down with headbutt, banned for 5 months\n",
            "추출적 요약 : Italian third division football side Lucchese's head coach Giancarlo Favarin has been banned for five months for headbutting Alessandria's assistant coach Gaetano Mancino during a brawl following the teams' 2-2 draw on Sunday.\n",
            "\n",
            "\n",
            "원문 : Cyclists taking part in National Track Cycling Championship in Jaipur opted to sleep on the floor inside the stadium instead of hotels over expensive cycles. The organisers had booked hotels but they didn't have the provision for cyclists to keep their bikes inside. A national gold medallist said their cycles cost between Ã¢ÂÂ¹5-9 lakh and once damaged, they become non-repairable. \n",
            "실제 요약 : Cyclists sleep on stadium floor instead of hotel over costly cycles\n",
            "추출적 요약 : Cyclists taking part in National Track Cycling Championship in Jaipur opted to sleep on the floor inside the stadium instead of hotels over expensive cycles.\n",
            "\n",
            "\n",
            "원문 : Silvia Grecco, a 56-year-old Brazilian mother narrates her local football team Palmeiras' matches live to her 12-year-old blind and autistic son Nickollas from the stands. \"I describe details: this player is wearing short sleeves...colour of...football boots, hair colour...Everything I see and feel, I tell him, even when I need to curse the referee!\" Grecco said after a recent match.\n",
            "실제 요약 : Brazilian mother narrates football matches to blind son from stands\n",
            "추출적 요약 : \n",
            "\n",
            "\n",
            "원문 : A TechCrunch report has claimed that IndiaÃ¢ÂÂs largest bank SBI secured a passwordless server \"overnight\" on being alerted it allowed anyone to access phone numbers, bank balances, and transactions of millions of its customers. The Mumbai-based server was containing two months of data from SBI Quick, an SMS and call-based system used to request basic information about accounts, TechCrunch revealed.\n",
            "실제 요약 : SBI left account data of millions of users unprotected: Report\n",
            "추출적 요약 : \n",
            "\n",
            "\n",
            "원문 : Rahul Gandhi has replied to Goa CM Manohar Parrikar's letter, which accused the Congress President of using his \"visit to an ailing man for political gains\". \"He's under immense pressure from the PM after our meeting and needs to demonstrate his loyalty by attacking me,\" Gandhi wrote in his letter. Parrikar had clarified he didn't discuss Rafale deal with Rahul.\n",
            "실제 요약 : CM Parrikar under pressure from PM after our Goa meet: Rahul\n",
            "추출적 요약 : Rahul Gandhi has replied to Goa CM Manohar Parrikar's letter, which accused the Congress President of using his \"visit to an ailing man for political gains\".\n",
            "\n",
            "\n",
            "원문 : Twenty-seven-year-old Mohammed Mahuwala was arrested in Indore on Wednesday for allegedly cheating e-commerce giant Amazon of nearly Ã¢ÂÂ¹30 lakh. Mahuwala was a member of a gang who ordered costly gadgets from Amazon. \"[They] used to get refund of the amount paid...by saying the parcel...was empty. In reality, these devices were taken out from parcel and sold...to local shopkeepers,\" said police.\n",
            "실제 요약 : Man arrested for cheating Amazon of Ã¢ÂÂ¹30 lakh by taking refunds\n",
            "추출적 요약 : Mahuwala was a member of a gang who ordered costly gadgets from Amazon.\n",
            "\n",
            "\n",
            "원문 : AgustaWestland chopper scam co-accused Rajiv Saxena was extradited to India from UAE on Wednesday. He had been evading the Enforcement Directorate's summons claiming he was suffering from leukaemia but had moved an anti-money laundering court for anticipatory bail in December, stating he had never been summoned at his Dubai address. Saxena's lawyers alleged he had been \"illegally extradited\". \n",
            "실제 요약 : AgustaWestland scam accused Rajiv Saxena extradited to India\n",
            "추출적 요약 : AgustaWestland chopper scam co-accused Rajiv Saxena was extradited to India from UAE on Wednesday.\n",
            "\n",
            "\n",
            "원문 : Afghan President Ashraf Ghani has said the \"keys to war\" are in Pakistan's Islamabad, Quetta and Rawalpindi, accusing the country of providing safe havens to militants, including those belonging to the Taliban. Ghani added the \"key to peace was in Afghanistan\". His comments came amid the talks between the US and the Taliban to end the 17-year war in Afghanistan.\n",
            "실제 요약 : Pakistan holds 'keys to war': Afghanistan\n",
            "추출적 요약 : Afghan President Ashraf Ghani has said the \"keys to war\" are in Pakistan's Islamabad, Quetta and Rawalpindi, accusing the country of providing safe havens to militants, including those belonging to the Taliban.\n",
            "\n",
            "\n",
            "원문 : A Singapore-based insurance agent has been jailed for two years and five months for threatening to harm his clients unless they paid him in bitcoins. The 36-year-old set up an email account, and signed the messages as 'Lord Voldemort', a fictional character from the Harry Potter series. Ye Lin Myint targeted about 33 people, including those who cancelled insurance policies.\n",
            "실제 요약 : Insurance agent 'Lord Voldemort' jailed for threatening clients\n",
            "추출적 요약 : A Singapore-based insurance agent has been jailed for two years and five months for threatening to harm his clients unless they paid him in bitcoins.\n",
            "\n",
            "\n",
            "원문 : Gabrielle Reilly, a 22-year-old US woman, created earrings for her Apple AirPods and put it up for sale online for $20 (about Ã¢ÂÂ¹1,500). \"I absolutely refuse to lose them (AirPods)...So I made earrings,\" she explained. The earrings, which took her over an hour to make, debuted in a video on Twitter that has since garnered over three million views.\n",
            "실제 요약 : Woman turns Apple AirPods into earrings to avoid losing them\n",
            "추출적 요약 : \"I absolutely refuse to lose them (AirPods)...So I made earrings,\" she explained.\n",
            "\n",
            "\n",
            "원문 : Ex-ICICI Bank CEO Chanda Kochhar said she's \"utterly disappointed, hurt and shocked\" by the bank's decision to terminate her. Kochhar said she served ICICI for 34 years with utmost honesty and integrity and that ultimately truth will prevail. Adding that she hasn't been given a copy of the independent probe report, Kochhar said none of ICICI's credit decisions are unilateral\n",
            "실제 요약 : Shocked, hurt by ICICI's decision, truth will prevail: Kochhar\n",
            "추출적 요약 : Adding that she hasn't been given a copy of the independent probe report, Kochhar said none of ICICI's credit decisions are unilateral\n",
            "\n",
            "\n",
            "원문 : Swedish multinational fast-fashion brand Hennes & Mauritz AB (H&M) has hired Christopher Wylie, the whistleblower who exposed Facebook's Cambridge Analytica data scandal. WylieÃ¢ÂÂs focus will be to help get better insights on customers, products and markets and support work on sustainable and ethical artificial intelligence, H&M spokesperson said. Wylie is a former employee of Cambridge Analytica.\n",
            "실제 요약 : Fashion brand H&M hires Facebook data scandal whistleblower\n",
            "추출적 요약 : Swedish multinational fast-fashion brand Hennes & Mauritz AB (H&M) has hired Christopher Wylie, the whistleblower who exposed Facebook's Cambridge Analytica data scandal.\n",
            "\n",
            "\n",
            "원문 : Micro-blogging platform Twitter is testing a new feature on Android to put news on the top of a user's timeline. \"With this update, weÃ¢ÂÂre making it easier for people to see news and stories their followers have been discussing,\" Product Manager Walter Gurzynski said. The feature comes alongside a prompt saying, \"Catch up on what's happened while you were away.\"\n",
            "실제 요약 : Twitter testing news-first timeline feature on Android\n",
            "추출적 요약 : Micro-blogging platform Twitter is testing a new feature on Android to put news on the top of a user's timeline.\n",
            "\n",
            "\n",
            "원문 : Samsung has started mass producing its one terabyte 'embedded Universal Flash Storage (eUFS) 2.1' technology for \"use in next-generation mobile applications\", which it claims is the industry's first such eUFS. The company added the new eUFS will let smartphones store 260 10-minute videos shot in 4K UHD format. It'll be sized the same as the previous 512GB version, Samsung said.\n",
            "실제 요약 : Samsung builds world's first 1TB storage chip for smartphones \n",
            "추출적 요약 : Samsung has started mass producing its one terabyte 'embedded Universal Flash Storage (eUFS) 2.1' technology for \"use in next-generation mobile applications\", which it claims is the industry's first such eUFS.\n",
            "\n",
            "\n",
            "원문 : Prime Minister Narendra Modi on Wednesday said the people with 'negative mindset' are questioning him and his government for floating pro-poor schemes. He added negative mindset people are raising doubts about schemes such as building toilets and providing free gas connections to the poor. He further said that negative mentality laced with a vested interest still exists in the country.\n",
            "실제 요약 : People with 'negative mindset' quizzing pro-poor schemes: PM\n",
            "추출적 요약 : Prime Minister Narendra Modi on Wednesday said the people with 'negative mindset' are questioning him and his government for floating pro-poor schemes.\n",
            "\n",
            "\n",
            "원문 : Union Minister Anantkumar Hegde took a dig at Congress President Rahul Gandhi by calling him a \"hybrid specimen\" who has no clue about religion. \"A father who's...Muslim, a mother who's...Christian and the son is supposed to be...Brahmin. How is that even possible?\" he said. He added such \"hybrid specimen\" cannot be found in any laboratory in the world.\n",
            "실제 요약 : Rahul is hybrid specimen, has no clue about religion: Hegde\n",
            "추출적 요약 : Union Minister Anantkumar Hegde took a dig at Congress President Rahul Gandhi by calling him a \"hybrid specimen\" who has no clue about religion.\n",
            "\n",
            "\n",
            "원문 : Several parts of the US are set to experience record low temperatures as the polar vortex hit the Upper Midwest, with more than 200 million people expected to experience below-freezing temperatures this week. Temperatures throughout the Upper Midwest are expected to be at least 20-40Ã¢ÂÂ below zero. Government offices and schools have been closed in several areas.\n",
            "실제 요약 : Extreme cold to affect 200 million people as polar vortex hits US\n",
            "추출적 요약 : Several parts of the US are set to experience record low temperatures as the polar vortex hit the Upper Midwest, with more than 200 million people expected to experience below-freezing temperatures this week.\n",
            "\n",
            "\n",
            "원문 : The police on Wednesday registered cases against 13 persons, including a woman leader of Hindu Mahasabha, in Aligarh for firing at an effigy of Mahatma Gandhi with an air pistol. \"The incident took place in a house in Naurangabad locality of the city,\" Senior Superintendent of Police said. The video of the event went viral on social media, he added.\n",
            "실제 요약 : 13 booked for firing air shots at Mahatma Gandhi's effigy\n",
            "추출적 요약 : The police on Wednesday registered cases against 13 persons, including a woman leader of Hindu Mahasabha, in Aligarh for firing at an effigy of Mahatma Gandhi with an air pistol.\n",
            "\n",
            "\n",
            "원문 : Railway police has rescued a woman travelling on a train in Chennai who got her leg stuck inside the commode of a toilet. After being caught inside the commode hole, she struggled to remove her leg and following failed attempts, she shouted for help, reports said. Railway police used a cutter to pry open the commode and freed her leg.\n",
            "실제 요약 : Railway police rescues woman with leg stuck in train toilet\n",
            "추출적 요약 : Railway police has rescued a woman travelling on a train in Chennai who got her leg stuck inside the commode of a toilet.\n",
            "\n",
            "\n",
            "원문 : The US on Tuesday began returning asylum seekers to Mexico, sending back a migrant from a Central American nation and called the move a \"response to the illegal migration crisis\" faced by it. Under its Migrant Protection Protocols policy, the US will return certain migrants who cross into the country illegally back to Mexico while their asylum requests are processed.\n",
            "실제 요약 : US begins sending back asylum seekers to Mexico\n",
            "추출적 요약 : \n",
            "\n",
            "\n"
          ]
        }
      ]
    },
    {
      "cell_type": "markdown",
      "source": [
        "요약 결과가 나오지 않은 부분이 있었지만, 그래도 의미가 통하는 요약이 꽤 나왔습니다."
      ],
      "metadata": {
        "id": "B_v8kqFy44oN"
      }
    },
    {
      "cell_type": "markdown",
      "source": [
        "---\n",
        "\n",
        "## **추상적 요약과 추출적 요약의 결과 비교**"
      ],
      "metadata": {
        "id": "Q90emIVV7W9h"
      }
    },
    {
      "cell_type": "markdown",
      "source": [
        "## 추상적 요약  \n",
        "원문 : around residents us state florida pledged point fans direction hurricane irma attempt blow away part event created facebook category storm caused one largest evacuations us history also one strongest atlantic hurricanes   \n",
        "실제 요약 : people to try away hurricane irma with fans   \n",
        "예측 요약 :  us city hurricane hit by us volcano  \n",
        "**문법적으로는 맞지 않지만 의미적으로는 비슷한 내용이 나왔습니다. 다만 조금 이상한 내용은 원문에서 나오지 않는 'volcano'가 나왔다는 것입니다! 여러 기사를 학습하다 보니 volcano에 의해 대피하는 것과 허리케인에 의해 대피하는 것에 유사함을 느꼈나 봅니다.**\n",
        "\n",
        "원문 : rape accused producer harvey weinstein reportedly refused take picture man named steve restaurant slapped called piece sh reports said steve appeared drunk approached weinstein video surfaced online steve heard saying weinstein get ck   \n",
        "실제 요약 : man slaps rape accused weinstein calls him piece of sh   \n",
        "예측 요약 :  harvey weinstein claims accused of sexual assault  \n",
        "**비록 핵심 내용은 아니지만 문장 서두에 있는 'harvey weinstein이 강간 혐의로 기소되었다' 는 내용이 올바른 문법으로 요약되었습니다.**\n",
        "\n",
        "원문 : fire broke dubai storey residential building tiger tower sunday however fire quickly extinguished injuries reported incident improperly disposed cigarette high temperatures could blaze officials said comes blaze struck dubai storey torch tower one world tallest residential towers friday   \n",
        "실제 요약 : dubai storey residential building catches fire   \n",
        "예측 요약 :  fire breaks out at mumbai highway office  \n",
        "**불이 났다고 잘 요약했는데 문제는 두바이-> 뭄바이로 잘못 학습했다는 겁니다. 그리고 highway office는 굉장히 어색합니다.**"
      ],
      "metadata": {
        "id": "3LPN-jTIJTI2"
      }
    },
    {
      "cell_type": "markdown",
      "source": [
        "## 추출적 요약  \n",
        "\n",
        "원문 : Kunal Shah's credit card bill payment platform, CRED, gave users a chance to win free food from Swiggy for one year. Pranav Kaushik, a Delhi techie, bagged this reward after spending 2000 CRED coins. **Users get one CRED coin per rupee of bill paid, which can be used to avail rewards from brands like Ixigo, BookMyShow, UberEats, Cult.Fit and more.**  \n",
        "실제 요약 : Delhi techie wins free food from Swiggy for one year on CRED  \n",
        "추출적 요약 : **Users get one CRED coin per rupee of bill paid, which can be used to avail rewards from brands like Ixigo, BookMyShow, UberEats, Cult.Fit and more.**  \n",
        "\n",
        "**마지막 문장을 그대로 복사 붙여넣기 했네요? 앞쪽에 주제가 있는데 잘못 요약했습니다.** 인줄 알았는데...\n",
        "\n",
        "---\n",
        "\n",
        "원문 : New Zealand defeated India by 8 wickets in the fourth ODI at Hamilton on Thursday to win their first match of the five-match ODI series. India lost an international match under Rohit Sharma's captaincy after 12 consecutive victories dating back to March 2018. **The match witnessed India getting all out for 92, their seventh lowest total in ODI cricket history.**  \n",
        "실제 요약 : New Zealand end Rohit Sharma-led India's 12-match winning streak  \n",
        "추출적 요약 : **The match witnessed India getting all out for 92, their seventh lowest total in ODI cricket history.**\n",
        "\n",
        "\n",
        "원문 : With Aegon Life iTerm Insurance plan, customers can enjoy tax benefits on your premiums paid and save up to Ã¢ÂÂ¹46,800^ on taxes. The plan provides life cover up to the age of 100 years. **Also, customers have options to insure against Critical Illnesses, Disability and Accidental Death Benefit Rider with a life cover up to the age of 80 years.**    \n",
        "실제 요약 : Aegon life iTerm insurance plan helps customers save tax   \n",
        "추출적 요약 : **Also, customers have options to insure against Critical Illnesses, Disability and Accidental Death Benefit Rider with a life cover up to the age of 80 years.**  \n",
        "\n",
        "\n",
        "원문 : **Speaking about the sexual harassment allegations against Rajkumar Hirani, Sonam Kapoor said, \"I've known Hirani for many years...What if it's not true, the [#MeToo] movement will get derailed.\" \"In the #MeToo movement, I always believe a woman.** But in this case, we need to reserve our judgment,\" she added. Hirani has been accused by an assistant who worked in 'Sanju'.  \n",
        "실제 요약 : Have known Hirani for yrs, what if MeToo claims are not true: Sonam    \n",
        "추출적 요약 : **Speaking about the sexual harassment allegations against   Rajkumar Hirani, Sonam Kapoor said, \"I've known Hirani for many years...What if it's not true, the [#MeToo] movement will get derailed.\" \"In the #MeToo movement, I always believe a woman.**    \n",
        "\n",
        "\n",
        "원문 : **Pakistani singer Rahat Fateh Ali Khan has denied receiving any notice from the Enforcement Directorate over allegedly smuggling foreign currency out of India.** \"It would have been better if the authorities would have served the notice first if any and then publicised this,\" reads a press release issued on behalf of Rahat. The statement further called the allegation \"bizarre\".  \n",
        "실제 요약 : Rahat Fateh Ali Khan denies getting notice for smuggling currency    \n",
        "추출적 요약 : **Pakistani singer Rahat Fateh Ali Khan has denied receiving any notice from the Enforcement Directorate over allegedly smuggling foreign currency out of India.**   \n",
        "\n",
        "---\n",
        "\n",
        "그냥 추출적 요약은 기사의 앞이나 뒤에 있는 문장을 고대로 가져옵니다. 문법적으로는 절대 틀릴 수 없겠죠. 그러나 엉뚱한 문장을 가져오는 경우도 있어서 좋아보이지는 않습니다. \n",
        "아마 ratio를 0.4로 줘서 더 원문에서 가져온 문장의 비율이 높았을 것 같습니다. ratio를 적절하게 조절한다면 더 나은 결과를 낼 수 있겠습니다.\n",
        " "
      ],
      "metadata": {
        "id": "CPy9v3dHJlTV"
      }
    },
    {
      "cell_type": "markdown",
      "metadata": {
        "id": "INUthk6E-s7Y"
      },
      "source": [
        "## 🌮 루브릭\n",
        "| **평가문항** | **상세기준** | **성취결과** |\n",
        "|---|---|:---:|\n",
        "| 1. Abstractive 모델 구성을 위한 텍스트 전처리 단계가 체계적으로 진행되었다. | 분석단계, 정제단계, 정규화와 불용어 제거, 데이터셋 분리, 인코딩 과정이 빠짐없이 체계적으로 진행되었다. | O |\n",
        "| 2. 텍스트 요약모델이 성공적으로 학습되었음을 확인하였다. | 모델 학습이 진행되면서 train loss와 validation loss가 감소하는 경향을 그래프를 통해 확인했으며, 실제 요약문에 있는 핵심 단어들이 요약 문장 안에 포함되었다. | O |\n",
        "| 3. Extractive 요약을 시도해 보고 Abstractive 요약 결과과 함께 비교해 보았다. | 두 요약 결과를 문법완성도 측면과 핵심단어 포함 측면으로 나누어 비교하고 분석 결과를 표로 정리하여 제시하였다. | O |"
      ]
    },
    {
      "cell_type": "markdown",
      "source": [
        "## ✍ 회고"
      ],
      "metadata": {
        "id": "uDXAFksTpAa9"
      }
    },
    {
      "cell_type": "markdown",
      "source": [
        "* 모델 학습 너무 오래걸린다. 어쩌다 런타임 끊기기라도 하면 패키지 다시 설치하고, 전처리 하고, 모델 학습까지 돌리면 1시간은 족히 소요됨. 너무 슬프다.. 내주말..  \n",
        "    * 그래서 더 여러가지 시도를 주저하게 됐다. 한개 바꿔야되는데 런타임 초기화 되어있는 상태면 ... (생략)"
      ],
      "metadata": {
        "id": "orXkB30IpEaB"
      }
    },
    {
      "cell_type": "markdown",
      "source": [
        "* 추출적 요약 사용해보는데 튜토리얼과 같은 방식으로 하면 너무 오래걸려서 결과가 안나오고(1시간돌림), lambda로 데이터프레임 자체에 함수를 맥이면 요약이 출력되지 않았다.  \n",
        "    무엇이 잘못된 것일ㄲㅏ..?  \n",
        "    * 전처리 되기 전 원본 문장을 사용해야 한다고 함..! \n",
        "    * 그렇게 했는데도 안나오는데요..? 두시간돌림 뭐가 잘못된걸까나\n",
        "    * dataframe을 실습때 했던 매트릭스 시놉시스랑 같은 폼으로 만들어야 될 것 같아서 tolist를 통해 list로 바꾸고, \\n를 추가했었는데, 그래서 안된듯. \n"
      ],
      "metadata": {
        "id": "Gzftoc6R2OfC"
      }
    },
    {
      "cell_type": "markdown",
      "source": [
        "* 영자신문 특성상, 약어가 많이 나와서 학습에 어려움을 겪었을 수도 있다는 생각이 들었다. prime minister : PM 처럼~"
      ],
      "metadata": {
        "id": "xb6DN2hx67k6"
      }
    },
    {
      "cell_type": "markdown",
      "source": [
        "* 앞서 기술되어있었지만 추상적 요약의 모델 설계에서 저번에 배운 사전 훈련된 워드 임베딩을 사용해 학습시키면 더 잘 될 것 같다! "
      ],
      "metadata": {
        "id": "wen0wdgF9ACZ"
      }
    },
    {
      "cell_type": "markdown",
      "source": [
        "* 추상적 요약에서 놀라웠던 점은 추출적 요약과는 비교되게 paraphrasing 된 표현이 요약된 문장에서 발견되었다는 것이다. 장점이지만 단점으로 작용될 수 있는게 원문의 맥락과 차이날 수 있는 표현도 사용이 되었기 때문에 주의할 필요가 있어보인다. 이 부분은 더 많은 데이터로 학습을 시켜준다면 모델이 충분히 학습할 수 있다고 생각된다."
      ],
      "metadata": {
        "id": "YeutwWsWFD4F"
      }
    },
    {
      "cell_type": "markdown",
      "source": [
        "### 참고문헌\n",
        "\n",
        "[SettingWithCopy Warning or Error](https://blog.naver.com/PostView.nhn?blogId=wideeyed&logNo=221817400937)"
      ],
      "metadata": {
        "id": "EQoxS8qW19F0"
      }
    }
  ],
  "metadata": {
    "colab": {
      "collapsed_sections": [],
      "provenance": [],
      "machine_shape": "hm",
      "authorship_tag": "ABX9TyOMXxbs0l9yi6bKQTC4EPKu",
      "include_colab_link": true
    },
    "kernelspec": {
      "display_name": "Python 3",
      "name": "python3"
    },
    "language_info": {
      "name": "python"
    },
    "accelerator": "GPU",
    "gpuClass": "standard"
  },
  "nbformat": 4,
  "nbformat_minor": 0
}