{
  "cells": [
    {
      "cell_type": "markdown",
      "metadata": {
        "id": "view-in-github",
        "colab_type": "text"
      },
      "source": [
        "<a href=\"https://colab.research.google.com/github/itchyfeet-patient/Beautiful-Exploration/blob/master/Exploration_8.ipynb\" target=\"_parent\"><img src=\"https://colab.research.google.com/assets/colab-badge.svg\" alt=\"Open In Colab\"/></a>"
      ]
    },
    {
      "cell_type": "markdown",
      "source": [
        "# Exploration_8 프로젝트 : 네이버 영화리뷰 감성분석 도전하기 🎥 💟"
      ],
      "metadata": {
        "id": "Ok07Q_EdCxWY"
      }
    },
    {
      "cell_type": "markdown",
      "source": [
        "이전 스텝까지는 영문 텍스트의 감정 분석을 진행해 보았습니다. 그렇다면 이번에는 한국어 텍스트의 감정 분석을 진행해 보면 어떨까요? **오늘 활용할 데이터셋은 네이버 영화의 댓글을 모아 구성된 Naver sentiment movie corpus입니다.**\n"
      ],
      "metadata": {
        "id": "4U8DAQh7KJYh"
      }
    },
    {
      "cell_type": "markdown",
      "source": [
        "## 라이브러리 버전을 확인해 봅니다"
      ],
      "metadata": {
        "id": "sDYS_GFnK6gg"
      }
    },
    {
      "cell_type": "markdown",
      "source": [
        "사용할 라이브러리 버전을 둘러봅시다."
      ],
      "metadata": {
        "id": "Y2FFx3cBK9mH"
      }
    },
    {
      "cell_type": "code",
      "source": [
        "#!apt-get update\n",
        "#!apt-get install g++ openjdk-8-jdk\n",
        "#!pip install konlpy JPype1-py3\n",
        "#!bash <(curl -s https://raw.githubusercontent.com/konlpy/konlpy/master/scripts/mecab.sh)\n",
        "#!pip install --upgrade gensim"
      ],
      "metadata": {
        "id": "Epx1NSOJfI9e"
      },
      "execution_count": null,
      "outputs": []
    },
    {
      "cell_type": "code",
      "source": [
        "#!pip install --upgrade keras==2.6.0 "
      ],
      "metadata": {
        "id": "3EVekVYAGNKl"
      },
      "execution_count": null,
      "outputs": []
    },
    {
      "cell_type": "code",
      "source": [
        "#!pip install --upgrade tensorflow==2.6.0 "
      ],
      "metadata": {
        "id": "FemZtdSrGe8b"
      },
      "execution_count": null,
      "outputs": []
    },
    {
      "cell_type": "markdown",
      "source": [
        "konlpy를 설치해주고 tensorflow와 keras의버전을 확인 후 2.6.0 버전으로 downgrade 해줬습니다. (2.9.0일때만 해당)"
      ],
      "metadata": {
        "id": "Y8JwVB4xpe5S"
      }
    },
    {
      "cell_type": "code",
      "source": [
        "import pandas\n",
        "import konlpy\n",
        "import gensim\n",
        "import tensorflow as tf\n",
        "import keras\n",
        "\n",
        "print(pandas.__version__)\n",
        "print(konlpy.__version__)\n",
        "print(gensim.__version__)\n",
        "print(tf.__version__)\n",
        "print(keras.__version__)"
      ],
      "metadata": {
        "colab": {
          "base_uri": "https://localhost:8080/"
        },
        "id": "tmyChJZUK-PC",
        "outputId": "49021098-108a-47a6-cd97-65ed92b91d94"
      },
      "execution_count": null,
      "outputs": [
        {
          "output_type": "stream",
          "name": "stdout",
          "text": [
            "1.3.5\n",
            "0.6.0\n",
            "4.2.0\n",
            "2.8.2\n",
            "2.8.0\n"
          ]
        }
      ]
    },
    {
      "cell_type": "markdown",
      "source": [
        "설치되어있지 않던 패키지인 **KoNLPy(코엔엘파이라고 읽는다)** 는 한국어 정보처리를 위한 파이썬 패키지입니다.  \n",
        "[참고 링크](https://datascienceschool.net/03%20machine%20learning/03.01.02%20KoNLPy%20%ED%95%9C%EA%B5%AD%EC%96%B4%20%EC%B2%98%EB%A6%AC%20%ED%8C%A8%ED%82%A4%EC%A7%80.html)"
      ],
      "metadata": {
        "id": "_imgLUhUxnjJ"
      }
    },
    {
      "cell_type": "markdown",
      "source": [
        "## 1) 데이터 준비와 확인\n",
        "---"
      ],
      "metadata": {
        "id": "EcGt6lWLLB5g"
      }
    },
    {
      "cell_type": "markdown",
      "source": [
        "ratings_train파일을 train_data로 불러오고 ratings_test파일을 test_data로 불러왔습니다."
      ],
      "metadata": {
        "id": "5riMzvgytcMp"
      }
    },
    {
      "cell_type": "code",
      "source": [
        "import pandas as pd\n",
        "\n",
        "# 데이터를 읽어봅시다. \n",
        "train_data = pd.read_table('/content/drive/MyDrive/dataset/sentiment_classification/data/ratings_train.txt')\n",
        "test_data = pd.read_table('/content/drive/MyDrive/dataset/sentiment_classification/data/ratings_test.txt')\n",
        "\n",
        "train_data.head()"
      ],
      "metadata": {
        "colab": {
          "base_uri": "https://localhost:8080/",
          "height": 206
        },
        "id": "1Ll549d9LAd8",
        "outputId": "779c0c78-f3b4-4e3a-804e-74c9e2212144"
      },
      "execution_count": null,
      "outputs": [
        {
          "output_type": "execute_result",
          "data": {
            "text/plain": [
              "         id                                           document  label\n",
              "0   9976970                                아 더빙.. 진짜 짜증나네요 목소리      0\n",
              "1   3819312                  흠...포스터보고 초딩영화줄....오버연기조차 가볍지 않구나      1\n",
              "2  10265843                                  너무재밓었다그래서보는것을추천한다      0\n",
              "3   9045019                      교도소 이야기구먼 ..솔직히 재미는 없다..평점 조정      0\n",
              "4   6483659  사이몬페그의 익살스런 연기가 돋보였던 영화!스파이더맨에서 늙어보이기만 했던 커스틴 ...      1"
            ],
            "text/html": [
              "\n",
              "  <div id=\"df-8ffe57c3-ebf3-4804-a988-856949e82c27\">\n",
              "    <div class=\"colab-df-container\">\n",
              "      <div>\n",
              "<style scoped>\n",
              "    .dataframe tbody tr th:only-of-type {\n",
              "        vertical-align: middle;\n",
              "    }\n",
              "\n",
              "    .dataframe tbody tr th {\n",
              "        vertical-align: top;\n",
              "    }\n",
              "\n",
              "    .dataframe thead th {\n",
              "        text-align: right;\n",
              "    }\n",
              "</style>\n",
              "<table border=\"1\" class=\"dataframe\">\n",
              "  <thead>\n",
              "    <tr style=\"text-align: right;\">\n",
              "      <th></th>\n",
              "      <th>id</th>\n",
              "      <th>document</th>\n",
              "      <th>label</th>\n",
              "    </tr>\n",
              "  </thead>\n",
              "  <tbody>\n",
              "    <tr>\n",
              "      <th>0</th>\n",
              "      <td>9976970</td>\n",
              "      <td>아 더빙.. 진짜 짜증나네요 목소리</td>\n",
              "      <td>0</td>\n",
              "    </tr>\n",
              "    <tr>\n",
              "      <th>1</th>\n",
              "      <td>3819312</td>\n",
              "      <td>흠...포스터보고 초딩영화줄....오버연기조차 가볍지 않구나</td>\n",
              "      <td>1</td>\n",
              "    </tr>\n",
              "    <tr>\n",
              "      <th>2</th>\n",
              "      <td>10265843</td>\n",
              "      <td>너무재밓었다그래서보는것을추천한다</td>\n",
              "      <td>0</td>\n",
              "    </tr>\n",
              "    <tr>\n",
              "      <th>3</th>\n",
              "      <td>9045019</td>\n",
              "      <td>교도소 이야기구먼 ..솔직히 재미는 없다..평점 조정</td>\n",
              "      <td>0</td>\n",
              "    </tr>\n",
              "    <tr>\n",
              "      <th>4</th>\n",
              "      <td>6483659</td>\n",
              "      <td>사이몬페그의 익살스런 연기가 돋보였던 영화!스파이더맨에서 늙어보이기만 했던 커스틴 ...</td>\n",
              "      <td>1</td>\n",
              "    </tr>\n",
              "  </tbody>\n",
              "</table>\n",
              "</div>\n",
              "      <button class=\"colab-df-convert\" onclick=\"convertToInteractive('df-8ffe57c3-ebf3-4804-a988-856949e82c27')\"\n",
              "              title=\"Convert this dataframe to an interactive table.\"\n",
              "              style=\"display:none;\">\n",
              "        \n",
              "  <svg xmlns=\"http://www.w3.org/2000/svg\" height=\"24px\"viewBox=\"0 0 24 24\"\n",
              "       width=\"24px\">\n",
              "    <path d=\"M0 0h24v24H0V0z\" fill=\"none\"/>\n",
              "    <path d=\"M18.56 5.44l.94 2.06.94-2.06 2.06-.94-2.06-.94-.94-2.06-.94 2.06-2.06.94zm-11 1L8.5 8.5l.94-2.06 2.06-.94-2.06-.94L8.5 2.5l-.94 2.06-2.06.94zm10 10l.94 2.06.94-2.06 2.06-.94-2.06-.94-.94-2.06-.94 2.06-2.06.94z\"/><path d=\"M17.41 7.96l-1.37-1.37c-.4-.4-.92-.59-1.43-.59-.52 0-1.04.2-1.43.59L10.3 9.45l-7.72 7.72c-.78.78-.78 2.05 0 2.83L4 21.41c.39.39.9.59 1.41.59.51 0 1.02-.2 1.41-.59l7.78-7.78 2.81-2.81c.8-.78.8-2.07 0-2.86zM5.41 20L4 18.59l7.72-7.72 1.47 1.35L5.41 20z\"/>\n",
              "  </svg>\n",
              "      </button>\n",
              "      \n",
              "  <style>\n",
              "    .colab-df-container {\n",
              "      display:flex;\n",
              "      flex-wrap:wrap;\n",
              "      gap: 12px;\n",
              "    }\n",
              "\n",
              "    .colab-df-convert {\n",
              "      background-color: #E8F0FE;\n",
              "      border: none;\n",
              "      border-radius: 50%;\n",
              "      cursor: pointer;\n",
              "      display: none;\n",
              "      fill: #1967D2;\n",
              "      height: 32px;\n",
              "      padding: 0 0 0 0;\n",
              "      width: 32px;\n",
              "    }\n",
              "\n",
              "    .colab-df-convert:hover {\n",
              "      background-color: #E2EBFA;\n",
              "      box-shadow: 0px 1px 2px rgba(60, 64, 67, 0.3), 0px 1px 3px 1px rgba(60, 64, 67, 0.15);\n",
              "      fill: #174EA6;\n",
              "    }\n",
              "\n",
              "    [theme=dark] .colab-df-convert {\n",
              "      background-color: #3B4455;\n",
              "      fill: #D2E3FC;\n",
              "    }\n",
              "\n",
              "    [theme=dark] .colab-df-convert:hover {\n",
              "      background-color: #434B5C;\n",
              "      box-shadow: 0px 1px 3px 1px rgba(0, 0, 0, 0.15);\n",
              "      filter: drop-shadow(0px 1px 2px rgba(0, 0, 0, 0.3));\n",
              "      fill: #FFFFFF;\n",
              "    }\n",
              "  </style>\n",
              "\n",
              "      <script>\n",
              "        const buttonEl =\n",
              "          document.querySelector('#df-8ffe57c3-ebf3-4804-a988-856949e82c27 button.colab-df-convert');\n",
              "        buttonEl.style.display =\n",
              "          google.colab.kernel.accessAllowed ? 'block' : 'none';\n",
              "\n",
              "        async function convertToInteractive(key) {\n",
              "          const element = document.querySelector('#df-8ffe57c3-ebf3-4804-a988-856949e82c27');\n",
              "          const dataTable =\n",
              "            await google.colab.kernel.invokeFunction('convertToInteractive',\n",
              "                                                     [key], {});\n",
              "          if (!dataTable) return;\n",
              "\n",
              "          const docLinkHtml = 'Like what you see? Visit the ' +\n",
              "            '<a target=\"_blank\" href=https://colab.research.google.com/notebooks/data_table.ipynb>data table notebook</a>'\n",
              "            + ' to learn more about interactive tables.';\n",
              "          element.innerHTML = '';\n",
              "          dataTable['output_type'] = 'display_data';\n",
              "          await google.colab.output.renderOutput(dataTable, element);\n",
              "          const docLink = document.createElement('div');\n",
              "          docLink.innerHTML = docLinkHtml;\n",
              "          element.appendChild(docLink);\n",
              "        }\n",
              "      </script>\n",
              "    </div>\n",
              "  </div>\n",
              "  "
            ]
          },
          "metadata": {},
          "execution_count": 73
        }
      ]
    },
    {
      "cell_type": "markdown",
      "source": [
        "## 2) 데이터로더 구성\n",
        "---\n"
      ],
      "metadata": {
        "id": "UU1-We_YLYYm"
      }
    },
    {
      "cell_type": "markdown",
      "source": [
        "실습 때 다루었던 IMDB 데이터셋은 텍스트를 가공하여 `imdb.data_loader()` 메서드를 호출하면 숫자 인덱스로 변환된 텍스트와 `word_to_index` 딕셔너리까지 친절하게 제공합니다. 그러나 이번에 다루게 될 nsmc 데이터셋은 전혀 가공되지 않은 텍스트 파일로 이루어져 있습니다. 이것을 읽어서 `imdb.data_loader()`와 동일하게 동작하는 자신만의 data_loader를 만들어 보는 것으로 시작합니다. `data_loader` 안에서는 다음을 수행해야 합니다.  \n",
        "* 데이터의 중복 제거\n",
        "* NaN 결측치 제거\n",
        "* 한국어 토크나이저로 토큰화\n",
        "* 불용어(Stopwords) 제거\n",
        "* 사전word_to_index 구성\n",
        "* 텍스트 스트링을 사전 인덱스 스트링으로 변환\n",
        "* X_train, y_train, X_test, y_test, word_to_index 리턴\n"
      ],
      "metadata": {
        "id": "MrljhR5FLac3"
      }
    },
    {
      "cell_type": "code",
      "source": [
        "from konlpy.tag import Mecab\n",
        "import numpy as np\n",
        "from collections import Counter\n",
        "\n",
        "tokenizer = Mecab()\n",
        "stopwords = ['의','가','이','은','들','는','좀','잘','걍','과','도','를','으로','자','에','와','한','하다']\n",
        "num_words = 10000\n",
        "\n",
        "def load_data(train_data, test_data, num_words=num_words):\n",
        "    # 데이터 중복제거\n",
        "    train_data.drop_duplicates(subset=['document'],inplace=True)\n",
        "    test_data.drop_duplicates(subset=['document'],inplace=True)\n",
        "\n",
        "    # NaN 결측치 제거\n",
        "    train_data = train_data.dropna(how = 'any')\n",
        "    test_data = test_data.dropna(how = 'any')\n",
        "\n",
        "    # 한국어 토크나이저로 토큰화, 불용어 제거\n",
        "    X_train = []\n",
        "    for sentence in train_data['document']:\n",
        "        temp_X = tokenizer.morphs(sentence) # 형태소 추출 (토큰화)\n",
        "        # 1) morphs : 형태소 추출 2) pos : 품사 태깅(Part-of-speech tagging) 3) nouns : 명사 추출\n",
        "        temp_X = [word for word in temp_X if not word in stopwords] # 불용어 제거\n",
        "        # stopwords가 포함되어있지 않은 word만 temp_X에서 출력\n",
        "        X_train.append(temp_X)\n",
        "\n",
        "    X_test = []\n",
        "    for sentence in test_data['document']:\n",
        "        temp_X = tokenizer.morphs(sentence)\n",
        "        temp_X = [word for word in temp_X if not word in stopwords]\n",
        "        X_test.append(temp_X)\n",
        "\n",
        "    # 사전 word_to_index 구성\n",
        "\n",
        "    words = np.concatenate(X_train).tolist() \n",
        "        # .tolist() : series 자료형을 리스트 형식으로 바꿔줌\n",
        "        # train_token의 토큰화된 단어들을 모아 합쳐줍니다. 그리고 리스트 형식으로 바꿔줌\n",
        "    counter = Counter(words) # words를 셀거야\n",
        "    # collection 모듈의 counter 클래스 : 리스트 원소들의 개수를 알 고 싶을 때 사용\n",
        "    counter = counter.most_common(10000-4) # 가장 많이 나타난 10000-4개를 출력한다.\n",
        "    # counter는 dictionary 형태로 출력\n",
        "    \n",
        "\n",
        "\n",
        "    vocab = ['<PAD>', '<BOS>', '<UNK>', '<UNUSED>'] + [key for key, _ in counter]\n",
        "    # counter에 key값 value값이 딕셔너리\n",
        "    # vocab변수에 공백네개 + counter에 저장된 key값과 value를 가져와서 key값을 붙임 \n",
        "    # (_는 counter가 딕셔너리로 키값과 밸류값으로 이뤄져 있으므로 두개의 변수가 필요해 그냥 쓴듯? 우리가 원하는 건 key값이니까.)\n",
        "    word_to_index = {word:index for index, word in enumerate(vocab)} \n",
        "    # enumerate가 (index, 리스트 원소) 꼴로 함께 가져오는 함수\n",
        "    # vocab 가져와서 index, word 갖고와서 반대로 word:index꼴로 만듬\n",
        "\n",
        "    # 함수화\n",
        "    def wordlist_to_indexlist(wordlist):\n",
        "        return [word_to_index[word] if word in word_to_index else word_to_index['<UNK>'] for word in wordlist]\n",
        "\n",
        "\n",
        "\n",
        "    # 텍스트 스트링을 사전 인덱스 스트링으로 변환\n",
        "    X_train = list(map(wordlist_to_indexlist, X_train))\n",
        "    X_test = list(map(wordlist_to_indexlist, X_test))\n",
        "\n",
        "    # X_train, y_train, X_test, y_test, word_to_index 리턴\n",
        "    return X_train, np.array(list(train_data['label'])), X_test, np.array(list(test_data['label'])), word_to_index\n",
        "\n",
        "X_train, y_train, X_test, y_test, word_to_index = load_data(train_data, test_data)"
      ],
      "metadata": {
        "id": "P4wZ1ObeLxyv"
      },
      "execution_count": null,
      "outputs": []
    },
    {
      "cell_type": "markdown",
      "source": [
        "---\n",
        "함수 안에서 코딩을 하다 보니 이해가 잘 안돼서 직접 출력해보며 코딩했습니다.  \n",
        "아래 사진을 보면  \n",
        "* 형태소 변환된(토큰화된) X_train , X_test 출력  \n",
        "* counter의 결과물로 나온 딕셔너리 (원소 개수 세서 딕셔너리형태로 나온)\n",
        "* counter 출력의 key값을 PAD, BOS, UNK, UNUSED 추가해서 모조리 한 리스트로 합친vocab의 출력\n",
        "* X_train의 출력값(토큰화된)을 한 리스트로 합쳐 리스트형태로 바꿔준(tolist) 출력 words"
      ],
      "metadata": {
        "id": "Uj7eS9W-Gozq"
      }
    },
    {
      "cell_type": "markdown",
      "source": [
        "![image.png](data:image/png;base64,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)"
      ],
      "metadata": {
        "id": "QXzl1tioCe5P"
      }
    },
    {
      "cell_type": "markdown",
      "source": [
        "![image.png](data:image/png;base64,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)"
      ],
      "metadata": {
        "id": "uoT4ichIGDyg"
      }
    },
    {
      "cell_type": "markdown",
      "source": [
        "![image.png](data:image/png;base64,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)"
      ],
      "metadata": {
        "id": "0KrDAs6vEExe"
      }
    },
    {
      "cell_type": "markdown",
      "source": [
        "counter함수는 해당 리스트의 원소 개수와, 원소를 key:value  딕셔너리 형태로 출력해줌."
      ],
      "metadata": {
        "id": "gZC_yC4XEHY4"
      }
    },
    {
      "cell_type": "markdown",
      "source": [
        "konlpy에는 여러가지 형태소 분석 , 태깅 라이브러리를 파이썬에서 쉽게 활용할 수 있게 모아 놓았습니다.  \n",
        "그 중 우리가 사용할 것은 `Mecab` 메카브인데요.  \n",
        "일본어용 형태소 분석기를 한국어를 사용할 수 있도록 수정한 것입니다.  \n",
        "[토큰화에 대한 좋은 글](https://wikidocs.net/21698)"
      ],
      "metadata": {
        "id": "gTYVhy2pxTFs"
      }
    },
    {
      "cell_type": "markdown",
      "source": [
        "---\n",
        "index_to_word도 만들어줍니다.  \n",
        "다시 변환해줘야 우리가 알아볼 수 있으니까요"
      ],
      "metadata": {
        "id": "CEQu_87NGfKf"
      }
    },
    {
      "cell_type": "code",
      "source": [
        "index_to_word = {index:word for word, index in word_to_index.items()}"
      ],
      "metadata": {
        "id": "2HEUENVLL1is"
      },
      "execution_count": null,
      "outputs": []
    },
    {
      "cell_type": "code",
      "source": [
        "# 문장 1개를 활용할 딕셔너리와 함께 주면, 단어 인덱스 리스트 벡터로 변환해 주는 함수입니다. \n",
        "# 단, 모든 문장은 <BOS>로 시작하는 것으로 합니다. \n",
        "def get_encoded_sentence(sentence, word_to_index):\n",
        "    return [word_to_index['<BOS>']]+[word_to_index[word] if word in word_to_index else word_to_index['<UNK>'] for word in sentence.split()]\n",
        "\n",
        "# 여러 개의 문장 리스트를 한꺼번에 단어 인덱스 리스트 벡터로 encode해 주는 함수입니다. \n",
        "def get_encoded_sentences(sentences, word_to_index):\n",
        "    return [get_encoded_sentence(sentence, word_to_index) for sentence in sentences]\n",
        "\n",
        "# 숫자 벡터로 encode된 문장을 원래대로 decode하는 함수입니다. \n",
        "def get_decoded_sentence(encoded_sentence, index_to_word):\n",
        "    return ' '.join(index_to_word[index] if index in index_to_word else '<UNK>' for index in encoded_sentence[1:])  #[1:]를 통해 <BOS>를 제외\n",
        "\n",
        "# 여러 개의 숫자 벡터로 encode된 문장을 한꺼번에 원래대로 decode하는 함수입니다. \n",
        "def get_decoded_sentences(encoded_sentences, index_to_word):\n",
        "    return [get_decoded_sentence(encoded_sentence, index_to_word) for encoded_sentence in encoded_sentences]"
      ],
      "metadata": {
        "id": "g6rltc5zL2g0"
      },
      "execution_count": null,
      "outputs": []
    },
    {
      "cell_type": "code",
      "source": [
        "print(index_to_word[1])\n",
        "print(word_to_index['.'])\n",
        "print(index_to_word[4])"
      ],
      "metadata": {
        "id": "-OO6wZF6IWM6",
        "colab": {
          "base_uri": "https://localhost:8080/"
        },
        "outputId": "bd4297ab-ba1f-4d8a-877f-039aefac454d"
      },
      "execution_count": null,
      "outputs": [
        {
          "output_type": "stream",
          "name": "stdout",
          "text": [
            "<BOS>\n",
            "4\n",
            ".\n"
          ]
        }
      ]
    },
    {
      "cell_type": "markdown",
      "source": [
        "정상적으로 decode 되는 지 확인\n"
      ],
      "metadata": {
        "id": "vokVV18sIxo9"
      }
    },
    {
      "cell_type": "code",
      "source": [
        "print(get_decoded_sentence(X_train[1], index_to_word))\n",
        "print('라벨 ',y_train[1])"
      ],
      "metadata": {
        "colab": {
          "base_uri": "https://localhost:8080/"
        },
        "id": "c4KTKqaSIzzm",
        "outputId": "fc0a64e4-c4e7-4356-e1c5-72b720295e86"
      },
      "execution_count": null,
      "outputs": [
        {
          "output_type": "stream",
          "name": "stdout",
          "text": [
            ". .. 포스터 보고 초딩 영화 줄 . ... 오버 연기 조차 가볍 지 않 구나\n",
            "라벨  1\n"
          ]
        }
      ]
    },
    {
      "cell_type": "markdown",
      "source": [
        "![image.png](data:image/png;base64,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)"
      ],
      "metadata": {
        "id": "JF0xXWdEMcww"
      }
    },
    {
      "cell_type": "markdown",
      "source": [
        "## 3) 모델 구성을 위한 데이터 분석 및 가공\n",
        "---\n",
        "* 데이터셋 내 문장 길이 분포\n",
        "* 적절한 최대 문장 길이 지정\n",
        "* keras.preprocessing.sequence.pad_sequences 을 활용한 패딩 추가"
      ],
      "metadata": {
        "id": "TiwK_G5qL5A9"
      }
    },
    {
      "cell_type": "code",
      "source": [
        "total_data_text = list(X_train) + list(X_test)\n",
        "# 텍스트데이터 문장길이의 리스트를 생성한 후\n",
        "num_tokens = [len(tokens) for tokens in total_data_text]\n",
        "num_tokens = np.array(num_tokens)\n",
        "# 문장길이의 평균값, 최대값, 표준편차를 계산해 본다. \n",
        "print('문장길이 평균 : ', np.mean(num_tokens))\n",
        "print('문장길이 최대 : ', np.max(num_tokens))\n",
        "print('문장길이 표준편차 : ', np.std(num_tokens))\n",
        "\n",
        "# 예를들어, 최대 길이를 (평균 + 2*표준편차)로 한다면,  \n",
        "max_tokens = np.mean(num_tokens) + 2 * np.std(num_tokens)\n",
        "maxlen = int(max_tokens)\n",
        "print('pad_sequences maxlen : ', maxlen)\n",
        "print('전체 문장의 {}%가 maxlen 설정값 이내에 포함됩니다. '.format(np.sum(num_tokens < max_tokens) / len(num_tokens)))"
      ],
      "metadata": {
        "colab": {
          "base_uri": "https://localhost:8080/"
        },
        "id": "6byAx7_-IQit",
        "outputId": "f80ac516-97fd-4ebe-e3e7-71ad7d2637e6"
      },
      "execution_count": null,
      "outputs": [
        {
          "output_type": "stream",
          "name": "stdout",
          "text": [
            "문장길이 평균 :  15.96938143432699\n",
            "문장길이 최대 :  116\n",
            "문장길이 표준편차 :  12.843571939469296\n",
            "pad_sequences maxlen :  41\n",
            "전체 문장의 0.9342988343341575%가 maxlen 설정값 이내에 포함됩니다. \n"
          ]
        }
      ]
    },
    {
      "cell_type": "markdown",
      "source": [
        "maxlen이 41이 됩니다."
      ],
      "metadata": {
        "id": "S5am08xGM7iA"
      }
    },
    {
      "cell_type": "code",
      "source": [
        "X_train = tf.keras.preprocessing.sequence.pad_sequences(X_train,\n",
        "                                                        value=word_to_index[\"<PAD>\"],\n",
        "                                                        padding='pre', # 혹은 'post'\n",
        "                                                        maxlen=maxlen)\n",
        "\n",
        "X_test = tf.keras.preprocessing.sequence.pad_sequences(X_test,\n",
        "                                                       value=word_to_index[\"<PAD>\"],\n",
        "                                                       padding='pre', # 혹은 'post'\n",
        "                                                       maxlen=maxlen)\n",
        "\n",
        "print(X_train.shape)"
      ],
      "metadata": {
        "colab": {
          "base_uri": "https://localhost:8080/"
        },
        "id": "lHjGSW9qNDO6",
        "outputId": "e4ff9b44-2612-43bf-c195-0b2ec9247a4d"
      },
      "execution_count": null,
      "outputs": [
        {
          "output_type": "stream",
          "name": "stdout",
          "text": [
            "(146182, 41)\n"
          ]
        }
      ]
    },
    {
      "cell_type": "markdown",
      "source": [
        "## 4) 모델 구성 및 validation set 구성\n",
        "---\n",
        "\n",
        "모델은 3가지 이상 다양하게 구성하여 실험해 보세요.\n"
      ],
      "metadata": {
        "id": "5LZz2GYbL-Jk"
      }
    },
    {
      "cell_type": "code",
      "source": [
        "# 기본형 (RNN)\n",
        "vocab_size = 10000    # 어휘 사전의 크기입니다(10,000개의 단어)\n",
        "word_vector_dim = 16  # 워드 벡터의 차원 수 (변경 가능한 하이퍼파라미터)\n",
        "\n",
        "# model 설계 - 딥러닝 모델 코드를 직접 작성해 주세요.\n",
        "model_1 = tf.keras.Sequential()\n",
        "model_1.add(tf.keras.layers.Embedding(vocab_size, word_vector_dim, input_shape=(None,)))\n",
        "model_1.add(tf.keras.layers.LSTM(8))   # 가장 널리 쓰이는 RNN인 LSTM 레이어를 사용하였습니다. 이때 LSTM state 벡터의 차원수는 8로 하였습니다. (변경 가능)\n",
        "model_1.add(tf.keras.layers.Dense(8, activation='relu'))\n",
        "model_1.add(tf.keras.layers.Dense(1, activation='sigmoid'))  # 최종 출력은 긍정/부정을 나타내는 1dim 입니다.\n",
        "\n",
        "\n",
        "model_1.summary()"
      ],
      "metadata": {
        "colab": {
          "base_uri": "https://localhost:8080/"
        },
        "id": "3mVwsZIZNacd",
        "outputId": "ac75648c-4fde-4e67-d1ba-6ab1b045b984"
      },
      "execution_count": null,
      "outputs": [
        {
          "output_type": "stream",
          "name": "stdout",
          "text": [
            "Model: \"sequential_9\"\n",
            "_________________________________________________________________\n",
            " Layer (type)                Output Shape              Param #   \n",
            "=================================================================\n",
            " embedding_9 (Embedding)     (None, None, 16)          160000    \n",
            "                                                                 \n",
            " lstm_4 (LSTM)               (None, 8)                 800       \n",
            "                                                                 \n",
            " dense_16 (Dense)            (None, 8)                 72        \n",
            "                                                                 \n",
            " dense_17 (Dense)            (None, 1)                 9         \n",
            "                                                                 \n",
            "=================================================================\n",
            "Total params: 160,881\n",
            "Trainable params: 160,881\n",
            "Non-trainable params: 0\n",
            "_________________________________________________________________\n"
          ]
        }
      ]
    },
    {
      "cell_type": "code",
      "source": [
        "# 1-D CNN\n",
        "# 문장 전체를 한꺼번에 한 방향으로 길이 7짜리 필터로 스캐닝 하면서 7단어 이내에서\n",
        "# 발견되는 특징을 추출하여 그것으로 문장을 분류하는 방식\n",
        "# 병렬처리가 효율적이라 RNN보다 학습속도도 훨씬 빠르게 진행됨.\n",
        "vocab_size = 10000    # 어휘 사전의 크기입니다(10,000개의 단어)\n",
        "word_vector_dim = 16  # 워드 벡터의 차원 수 (변경 가능한 하이퍼파라미터)\n",
        "\n",
        "# model 설계 - 딥러닝 모델 코드를 직접 작성해 주세요.\n",
        "model_2 = tf.keras.Sequential()\n",
        "model_2.add(tf.keras.layers.Embedding(vocab_size, word_vector_dim, input_shape=(None,)))\n",
        "model_2.add(tf.keras.layers.Conv1D(16, 7, activation='relu'))\n",
        "model_2.add(tf.keras.layers.MaxPooling1D(5))\n",
        "model_2.add(tf.keras.layers.Conv1D(16, 7, activation='relu'))\n",
        "model_2.add(tf.keras.layers.GlobalMaxPooling1D())\n",
        "model_2.add(tf.keras.layers.Dense(8, activation='relu'))\n",
        "model_2.add(tf.keras.layers.Dense(1, activation='sigmoid'))  # 최종 출력은 긍정/부정을 나타내는 1dim 입니다.\n",
        "\n",
        "\n",
        "model_2.summary()"
      ],
      "metadata": {
        "colab": {
          "base_uri": "https://localhost:8080/"
        },
        "id": "w026j13MNfCh",
        "outputId": "63a63763-69db-4769-d7cf-b67753c81b28"
      },
      "execution_count": null,
      "outputs": [
        {
          "output_type": "stream",
          "name": "stdout",
          "text": [
            "Model: \"sequential_10\"\n",
            "_________________________________________________________________\n",
            " Layer (type)                Output Shape              Param #   \n",
            "=================================================================\n",
            " embedding_10 (Embedding)    (None, None, 16)          160000    \n",
            "                                                                 \n",
            " conv1d_4 (Conv1D)           (None, None, 16)          1808      \n",
            "                                                                 \n",
            " max_pooling1d_1 (MaxPooling  (None, None, 16)         0         \n",
            " 1D)                                                             \n",
            "                                                                 \n",
            " conv1d_5 (Conv1D)           (None, None, 16)          1808      \n",
            "                                                                 \n",
            " global_max_pooling1d_5 (Glo  (None, 16)               0         \n",
            " balMaxPooling1D)                                                \n",
            "                                                                 \n",
            " dense_18 (Dense)            (None, 8)                 136       \n",
            "                                                                 \n",
            " dense_19 (Dense)            (None, 1)                 9         \n",
            "                                                                 \n",
            "=================================================================\n",
            "Total params: 163,761\n",
            "Trainable params: 163,761\n",
            "Non-trainable params: 0\n",
            "_________________________________________________________________\n"
          ]
        }
      ]
    },
    {
      "cell_type": "code",
      "source": [
        "# GlobalMaxPooling1D 레이어 한개\n",
        "# 전체 문장 중에서 단 하나의 가장 중요한 단어만 피처로 추출하여 그것으로\n",
        "# 문장의 긍정/부정을 평가하는 방식\n",
        "vocab_size = 10000    # 어휘 사전의 크기입니다(10,000개의 단어)\n",
        "word_vector_dim = 16  # 워드 벡터의 차원 수 (변경 가능한 하이퍼파라미터)\n",
        "\n",
        "# model 설계 - 딥러닝 모델 코드를 직접 작성해 주세요.\n",
        "model_3 = tf.keras.Sequential()\n",
        "model_3.add(tf.keras.layers.Embedding(vocab_size, word_vector_dim, input_shape=(None,)))\n",
        "model_3.add(tf.keras.layers.LSTM(8))   # 가장 널리 쓰이는 RNN인 LSTM 레이어를 사용하였습니다. 이때 LSTM state 벡터의 차원수는 8로 하였습니다. (변경 가능)\n",
        "model_3.add(tf.keras.layers.Dense(8, activation='relu'))\n",
        "model_3.add(tf.keras.layers.Dense(1, activation='sigmoid'))  # 최종 출력은 긍정/부정을 나타내는 1dim 입니다.\n",
        "\n",
        "\n",
        "model_3.summary()"
      ],
      "metadata": {
        "colab": {
          "base_uri": "https://localhost:8080/"
        },
        "id": "7wRdI25WNoIJ",
        "outputId": "6fb9c543-a963-4c4f-c6fd-d1424eac79bf"
      },
      "execution_count": null,
      "outputs": [
        {
          "output_type": "stream",
          "name": "stdout",
          "text": [
            "Model: \"sequential_11\"\n",
            "_________________________________________________________________\n",
            " Layer (type)                Output Shape              Param #   \n",
            "=================================================================\n",
            " embedding_11 (Embedding)    (None, None, 16)          160000    \n",
            "                                                                 \n",
            " lstm_5 (LSTM)               (None, 8)                 800       \n",
            "                                                                 \n",
            " dense_20 (Dense)            (None, 8)                 72        \n",
            "                                                                 \n",
            " dense_21 (Dense)            (None, 1)                 9         \n",
            "                                                                 \n",
            "=================================================================\n",
            "Total params: 160,881\n",
            "Trainable params: 160,881\n",
            "Non-trainable params: 0\n",
            "_________________________________________________________________\n"
          ]
        }
      ]
    },
    {
      "cell_type": "markdown",
      "source": [
        "[모델관련 참고링크](https://wikidocs.net/80437)"
      ],
      "metadata": {
        "id": "SAowSW9sPrHB"
      }
    },
    {
      "cell_type": "markdown",
      "source": [
        "## 5) 모델 훈련 개시"
      ],
      "metadata": {
        "id": "-3689ESpMHVY"
      }
    },
    {
      "cell_type": "code",
      "source": [
        "print(X_train.shape)\n",
        "print(X_test.shape)"
      ],
      "metadata": {
        "colab": {
          "base_uri": "https://localhost:8080/"
        },
        "id": "brbZZR94RxUo",
        "outputId": "909d7440-c1fe-422a-d8b5-026cbaca3851"
      },
      "execution_count": null,
      "outputs": [
        {
          "output_type": "stream",
          "name": "stdout",
          "text": [
            "(146182, 41)\n",
            "(49157, 41)\n"
          ]
        }
      ]
    },
    {
      "cell_type": "markdown",
      "source": [
        "Total Data 195,339  \n",
        "Train Data 146,182 약 74%  \n",
        "Test Data 49,157 약 25%"
      ],
      "metadata": {
        "id": "THohTpYaR_KM"
      }
    },
    {
      "cell_type": "markdown",
      "source": [
        "Validation Set Split  \n",
        "보통 train data : test data = 7:3 으로 합니다. 그러나 이것은 절대적인 비율이 아니라고 합니다. 백만개 이상의 데이터셋인 경우에는 train data의 비율을 많이 높이는 게 좋다고 합니다. 우리는 십만개 정도고 이미 약 7:3의 비율로 분리되어 있으므로 테스트 데이터의 절반정도를 Validation Data로 분리해보겠습니다.  \n",
        "그러면  \n",
        "Total Data 195,339   \n",
        "Train Data 121,604 약 62.25%  \n",
        "Test Data 49,157 약 25%  \n",
        "Validation Data 24,578 약 12.5%\n",
        "\n",
        "[Validation Dataset 개수 참고](https://brunch.co.kr/@coolmindory/31)\n"
      ],
      "metadata": {
        "id": "iOqZ-7aGQg_f"
      }
    },
    {
      "cell_type": "code",
      "source": [
        "# validation set 24,578건 분리\n",
        "X_val = X_train[:24578]   \n",
        "y_val = y_train[:24578]\n",
        "\n",
        "# validation set을 제외한 나머지 121604건\n",
        "partial_X_train = X_train[24578:]  \n",
        "partial_y_train = y_train[24578:]\n",
        "\n",
        "print(partial_X_train.shape)\n",
        "print(partial_y_train.shape)"
      ],
      "metadata": {
        "colab": {
          "base_uri": "https://localhost:8080/"
        },
        "id": "NRxGQ0bvQnp5",
        "outputId": "fd967aa8-6fc5-43fe-a09a-9f8034ce1540"
      },
      "execution_count": null,
      "outputs": [
        {
          "output_type": "stream",
          "name": "stdout",
          "text": [
            "(121604, 41)\n",
            "(121604,)\n"
          ]
        }
      ]
    },
    {
      "cell_type": "markdown",
      "source": [
        "partial train data의 개수를 보니 121,604로 우리가 의도한 대로 나왔습니다."
      ],
      "metadata": {
        "id": "hLx0zcd6U2Sm"
      }
    },
    {
      "cell_type": "markdown",
      "source": [
        "모델 학습을 시작해 보겠습니다."
      ],
      "metadata": {
        "id": "mWYs9PJ8U_-Q"
      }
    },
    {
      "cell_type": "markdown",
      "source": [
        "### model_1 : RNN 모델"
      ],
      "metadata": {
        "id": "LQ8-BgDTVeO7"
      }
    },
    {
      "cell_type": "code",
      "source": [
        "import os\n",
        "os.environ['TF_FORCE_GPU_ALLOW_GROWTH'] = 'true'\n",
        "model_1.compile(optimizer='adam',\n",
        "              loss='binary_crossentropy',\n",
        "              metrics=['accuracy'])\n",
        "              \n",
        "epochs=20  # 몇 epoch를 훈련하면 좋을지 결과를 보면서 바꾸어 봅시다. \n",
        "\n",
        "history_1 = model_1.fit(partial_X_train,\n",
        "                    partial_y_train,\n",
        "                    epochs=epochs,\n",
        "                    batch_size=512,\n",
        "                    validation_data=(X_val, y_val),\n",
        "                    verbose=1)"
      ],
      "metadata": {
        "colab": {
          "base_uri": "https://localhost:8080/"
        },
        "id": "1VTs2TOmU_go",
        "outputId": "f8af700c-98a5-4b18-f735-e3dde6d10a42"
      },
      "execution_count": null,
      "outputs": [
        {
          "output_type": "stream",
          "name": "stdout",
          "text": [
            "Epoch 1/20\n",
            "238/238 [==============================] - 4s 10ms/step - loss: 0.5299 - accuracy: 0.7608 - val_loss: 0.3907 - val_accuracy: 0.8388\n",
            "Epoch 2/20\n",
            "238/238 [==============================] - 2s 7ms/step - loss: 0.3520 - accuracy: 0.8529 - val_loss: 0.3503 - val_accuracy: 0.8472\n",
            "Epoch 3/20\n",
            "238/238 [==============================] - 2s 7ms/step - loss: 0.3210 - accuracy: 0.8669 - val_loss: 0.3461 - val_accuracy: 0.8500\n",
            "Epoch 4/20\n",
            "238/238 [==============================] - 2s 7ms/step - loss: 0.3069 - accuracy: 0.8736 - val_loss: 0.3508 - val_accuracy: 0.8498\n",
            "Epoch 5/20\n",
            "238/238 [==============================] - 2s 9ms/step - loss: 0.2962 - accuracy: 0.8782 - val_loss: 0.3438 - val_accuracy: 0.8528\n",
            "Epoch 6/20\n",
            "238/238 [==============================] - 2s 8ms/step - loss: 0.2857 - accuracy: 0.8828 - val_loss: 0.3477 - val_accuracy: 0.8516\n",
            "Epoch 7/20\n",
            "238/238 [==============================] - 2s 7ms/step - loss: 0.2758 - accuracy: 0.8869 - val_loss: 0.3493 - val_accuracy: 0.8528\n",
            "Epoch 8/20\n",
            "238/238 [==============================] - 2s 7ms/step - loss: 0.2660 - accuracy: 0.8915 - val_loss: 0.3550 - val_accuracy: 0.8506\n",
            "Epoch 9/20\n",
            "238/238 [==============================] - 2s 7ms/step - loss: 0.2546 - accuracy: 0.8968 - val_loss: 0.3647 - val_accuracy: 0.8517\n",
            "Epoch 10/20\n",
            "238/238 [==============================] - 2s 7ms/step - loss: 0.2446 - accuracy: 0.9009 - val_loss: 0.3705 - val_accuracy: 0.8511\n",
            "Epoch 11/20\n",
            "238/238 [==============================] - 2s 7ms/step - loss: 0.2342 - accuracy: 0.9064 - val_loss: 0.3795 - val_accuracy: 0.8484\n",
            "Epoch 12/20\n",
            "238/238 [==============================] - 2s 7ms/step - loss: 0.2247 - accuracy: 0.9105 - val_loss: 0.3989 - val_accuracy: 0.8493\n",
            "Epoch 13/20\n",
            "238/238 [==============================] - 2s 7ms/step - loss: 0.2161 - accuracy: 0.9140 - val_loss: 0.4086 - val_accuracy: 0.8469\n",
            "Epoch 14/20\n",
            "238/238 [==============================] - 2s 7ms/step - loss: 0.2062 - accuracy: 0.9186 - val_loss: 0.4274 - val_accuracy: 0.8461\n",
            "Epoch 15/20\n",
            "238/238 [==============================] - 2s 7ms/step - loss: 0.1990 - accuracy: 0.9219 - val_loss: 0.4383 - val_accuracy: 0.8474\n",
            "Epoch 16/20\n",
            "238/238 [==============================] - 2s 7ms/step - loss: 0.1913 - accuracy: 0.9259 - val_loss: 0.4467 - val_accuracy: 0.8454\n",
            "Epoch 17/20\n",
            "238/238 [==============================] - 2s 7ms/step - loss: 0.1848 - accuracy: 0.9284 - val_loss: 0.4686 - val_accuracy: 0.8418\n",
            "Epoch 18/20\n",
            "238/238 [==============================] - 2s 7ms/step - loss: 0.1776 - accuracy: 0.9320 - val_loss: 0.4662 - val_accuracy: 0.8434\n",
            "Epoch 19/20\n",
            "238/238 [==============================] - 2s 7ms/step - loss: 0.1713 - accuracy: 0.9351 - val_loss: 0.4944 - val_accuracy: 0.8440\n",
            "Epoch 20/20\n",
            "238/238 [==============================] - 2s 7ms/step - loss: 0.1640 - accuracy: 0.9387 - val_loss: 0.5158 - val_accuracy: 0.8405\n"
          ]
        }
      ]
    },
    {
      "cell_type": "markdown",
      "metadata": {
        "id": "qhHYr3I8-jgi"
      },
      "source": [
        "학습이 끝난 모델을 테스트셋으로 평가해 봅니다."
      ]
    },
    {
      "cell_type": "code",
      "source": [
        "results = model_1.evaluate(X_test, y_test, verbose=2)\n",
        "\n",
        "print(results)"
      ],
      "metadata": {
        "colab": {
          "base_uri": "https://localhost:8080/"
        },
        "id": "YKFhxwjxVPQs",
        "outputId": "c9bf1689-7d4b-44a9-9ce4-4b98dec1c7c9"
      },
      "execution_count": null,
      "outputs": [
        {
          "output_type": "stream",
          "name": "stdout",
          "text": [
            "1537/1537 - 4s - loss: 0.5151 - accuracy: 0.8410 - 4s/epoch - 3ms/step\n",
            "[0.5151333808898926, 0.8409585356712341]\n"
          ]
        }
      ]
    },
    {
      "cell_type": "markdown",
      "source": [
        "### model_2 : 1 - D CNN 모델"
      ],
      "metadata": {
        "id": "S-Jw4KqXVmCw"
      }
    },
    {
      "cell_type": "code",
      "source": [
        "model_2.compile(optimizer='adam',\n",
        "              loss='binary_crossentropy',\n",
        "              metrics=['accuracy'])\n",
        "              \n",
        "epochs=20  # 몇 epoch를 훈련하면 좋을지 결과를 보면서 바꾸어 봅시다. \n",
        "\n",
        "history_2 = model_2.fit(partial_X_train,\n",
        "                    partial_y_train,\n",
        "                    epochs=epochs,\n",
        "                    batch_size=512,\n",
        "                    validation_data=(X_val, y_val),\n",
        "                    verbose=1)"
      ],
      "metadata": {
        "colab": {
          "base_uri": "https://localhost:8080/"
        },
        "outputId": "3723a8fa-8611-433f-e989-db2913ea8e7f",
        "id": "FOME9_D0VmCx"
      },
      "execution_count": null,
      "outputs": [
        {
          "output_type": "stream",
          "name": "stdout",
          "text": [
            "Epoch 1/20\n",
            "238/238 [==============================] - 2s 7ms/step - loss: 0.4914 - accuracy: 0.7461 - val_loss: 0.3520 - val_accuracy: 0.8473\n",
            "Epoch 2/20\n",
            "238/238 [==============================] - 1s 6ms/step - loss: 0.3232 - accuracy: 0.8626 - val_loss: 0.3390 - val_accuracy: 0.8537\n",
            "Epoch 3/20\n",
            "238/238 [==============================] - 1s 6ms/step - loss: 0.2839 - accuracy: 0.8831 - val_loss: 0.3378 - val_accuracy: 0.8544\n",
            "Epoch 4/20\n",
            "238/238 [==============================] - 1s 6ms/step - loss: 0.2490 - accuracy: 0.9001 - val_loss: 0.3474 - val_accuracy: 0.8538\n",
            "Epoch 5/20\n",
            "238/238 [==============================] - 1s 6ms/step - loss: 0.2114 - accuracy: 0.9181 - val_loss: 0.3708 - val_accuracy: 0.8495\n",
            "Epoch 6/20\n",
            "238/238 [==============================] - 1s 6ms/step - loss: 0.1752 - accuracy: 0.9359 - val_loss: 0.4009 - val_accuracy: 0.8448\n",
            "Epoch 7/20\n",
            "238/238 [==============================] - 1s 6ms/step - loss: 0.1424 - accuracy: 0.9505 - val_loss: 0.4434 - val_accuracy: 0.8403\n",
            "Epoch 8/20\n",
            "238/238 [==============================] - 1s 6ms/step - loss: 0.1158 - accuracy: 0.9612 - val_loss: 0.4948 - val_accuracy: 0.8395\n",
            "Epoch 9/20\n",
            "238/238 [==============================] - 1s 6ms/step - loss: 0.0950 - accuracy: 0.9693 - val_loss: 0.5331 - val_accuracy: 0.8346\n",
            "Epoch 10/20\n",
            "238/238 [==============================] - 1s 6ms/step - loss: 0.0805 - accuracy: 0.9750 - val_loss: 0.5901 - val_accuracy: 0.8302\n",
            "Epoch 11/20\n",
            "238/238 [==============================] - 1s 6ms/step - loss: 0.0693 - accuracy: 0.9791 - val_loss: 0.6366 - val_accuracy: 0.8287\n",
            "Epoch 12/20\n",
            "238/238 [==============================] - 1s 6ms/step - loss: 0.0595 - accuracy: 0.9826 - val_loss: 0.6856 - val_accuracy: 0.8285\n",
            "Epoch 13/20\n",
            "238/238 [==============================] - 1s 6ms/step - loss: 0.0520 - accuracy: 0.9847 - val_loss: 0.7202 - val_accuracy: 0.8245\n",
            "Epoch 14/20\n",
            "238/238 [==============================] - 1s 6ms/step - loss: 0.0483 - accuracy: 0.9857 - val_loss: 0.7626 - val_accuracy: 0.8226\n",
            "Epoch 15/20\n",
            "238/238 [==============================] - 1s 6ms/step - loss: 0.0445 - accuracy: 0.9866 - val_loss: 0.8044 - val_accuracy: 0.8257\n",
            "Epoch 16/20\n",
            "238/238 [==============================] - 1s 6ms/step - loss: 0.0412 - accuracy: 0.9880 - val_loss: 0.8371 - val_accuracy: 0.8215\n",
            "Epoch 17/20\n",
            "238/238 [==============================] - 1s 6ms/step - loss: 0.0390 - accuracy: 0.9882 - val_loss: 0.9047 - val_accuracy: 0.8180\n",
            "Epoch 18/20\n",
            "238/238 [==============================] - 1s 6ms/step - loss: 0.0382 - accuracy: 0.9884 - val_loss: 0.9356 - val_accuracy: 0.8209\n",
            "Epoch 19/20\n",
            "238/238 [==============================] - 1s 6ms/step - loss: 0.0354 - accuracy: 0.9891 - val_loss: 0.9967 - val_accuracy: 0.8168\n",
            "Epoch 20/20\n",
            "238/238 [==============================] - 1s 6ms/step - loss: 0.0352 - accuracy: 0.9892 - val_loss: 1.0085 - val_accuracy: 0.8184\n"
          ]
        }
      ]
    },
    {
      "cell_type": "markdown",
      "metadata": {
        "id": "bVAQ5ITzVmCx"
      },
      "source": [
        "학습이 끝난 모델을 테스트셋으로 평가해 봅니다."
      ]
    },
    {
      "cell_type": "code",
      "source": [
        "results = model_2.evaluate(X_test, y_test, verbose=2)\n",
        "\n",
        "print(results)"
      ],
      "metadata": {
        "colab": {
          "base_uri": "https://localhost:8080/"
        },
        "outputId": "f7ec1769-2114-4414-b5ed-a69a7f3fc816",
        "id": "BvHH0UmkVmCx"
      },
      "execution_count": null,
      "outputs": [
        {
          "output_type": "stream",
          "name": "stdout",
          "text": [
            "1537/1537 - 3s - loss: 1.0236 - accuracy: 0.8157 - 3s/epoch - 2ms/step\n",
            "[1.0235824584960938, 0.8156722187995911]\n"
          ]
        }
      ]
    },
    {
      "cell_type": "markdown",
      "source": [
        "### model_3 : GlobalMaxPooling 모델"
      ],
      "metadata": {
        "id": "e-f-lJ_EVnRd"
      }
    },
    {
      "cell_type": "code",
      "source": [
        "model_3.compile(optimizer='adam',\n",
        "              loss='binary_crossentropy',\n",
        "              metrics=['accuracy'])\n",
        "              \n",
        "epochs=20  # 몇 epoch를 훈련하면 좋을지 결과를 보면서 바꾸어 봅시다. \n",
        "\n",
        "history_3 = model_3.fit(partial_X_train,\n",
        "                    partial_y_train,\n",
        "                    epochs=epochs,\n",
        "                    batch_size=512,\n",
        "                    validation_data=(X_val, y_val),\n",
        "                    verbose=1)"
      ],
      "metadata": {
        "colab": {
          "base_uri": "https://localhost:8080/"
        },
        "outputId": "4f2d1e9d-da37-4d56-aa05-200fefe8fde3",
        "id": "oXCXjTqwVnRe"
      },
      "execution_count": null,
      "outputs": [
        {
          "output_type": "stream",
          "name": "stdout",
          "text": [
            "Epoch 1/20\n",
            "238/238 [==============================] - 4s 9ms/step - loss: 0.4848 - accuracy: 0.7902 - val_loss: 0.3651 - val_accuracy: 0.8408\n",
            "Epoch 2/20\n",
            "238/238 [==============================] - 2s 7ms/step - loss: 0.3405 - accuracy: 0.8571 - val_loss: 0.3508 - val_accuracy: 0.8479\n",
            "Epoch 3/20\n",
            "238/238 [==============================] - 2s 7ms/step - loss: 0.3190 - accuracy: 0.8677 - val_loss: 0.3480 - val_accuracy: 0.8491\n",
            "Epoch 4/20\n",
            "238/238 [==============================] - 2s 7ms/step - loss: 0.3086 - accuracy: 0.8721 - val_loss: 0.3502 - val_accuracy: 0.8496\n",
            "Epoch 5/20\n",
            "238/238 [==============================] - 2s 7ms/step - loss: 0.3006 - accuracy: 0.8758 - val_loss: 0.3514 - val_accuracy: 0.8493\n",
            "Epoch 6/20\n",
            "238/238 [==============================] - 2s 7ms/step - loss: 0.2942 - accuracy: 0.8787 - val_loss: 0.3522 - val_accuracy: 0.8488\n",
            "Epoch 7/20\n",
            "238/238 [==============================] - 2s 7ms/step - loss: 0.2875 - accuracy: 0.8811 - val_loss: 0.3542 - val_accuracy: 0.8482\n",
            "Epoch 8/20\n",
            "238/238 [==============================] - 2s 7ms/step - loss: 0.2807 - accuracy: 0.8837 - val_loss: 0.3527 - val_accuracy: 0.8475\n",
            "Epoch 9/20\n",
            "238/238 [==============================] - 2s 7ms/step - loss: 0.2740 - accuracy: 0.8863 - val_loss: 0.3546 - val_accuracy: 0.8499\n",
            "Epoch 10/20\n",
            "238/238 [==============================] - 2s 7ms/step - loss: 0.2671 - accuracy: 0.8894 - val_loss: 0.3671 - val_accuracy: 0.8484\n",
            "Epoch 11/20\n",
            "238/238 [==============================] - 2s 7ms/step - loss: 0.2593 - accuracy: 0.8923 - val_loss: 0.3703 - val_accuracy: 0.8482\n",
            "Epoch 12/20\n",
            "238/238 [==============================] - 2s 7ms/step - loss: 0.2525 - accuracy: 0.8950 - val_loss: 0.3787 - val_accuracy: 0.8488\n",
            "Epoch 13/20\n",
            "238/238 [==============================] - 2s 7ms/step - loss: 0.2463 - accuracy: 0.8974 - val_loss: 0.3854 - val_accuracy: 0.8493\n",
            "Epoch 14/20\n",
            "238/238 [==============================] - 2s 7ms/step - loss: 0.2397 - accuracy: 0.9001 - val_loss: 0.3933 - val_accuracy: 0.8482\n",
            "Epoch 15/20\n",
            "238/238 [==============================] - 2s 7ms/step - loss: 0.2330 - accuracy: 0.9031 - val_loss: 0.3902 - val_accuracy: 0.8452\n",
            "Epoch 16/20\n",
            "238/238 [==============================] - 2s 7ms/step - loss: 0.2292 - accuracy: 0.9057 - val_loss: 0.4076 - val_accuracy: 0.8488\n",
            "Epoch 17/20\n",
            "238/238 [==============================] - 2s 7ms/step - loss: 0.2199 - accuracy: 0.9095 - val_loss: 0.4114 - val_accuracy: 0.8475\n",
            "Epoch 18/20\n",
            "238/238 [==============================] - 2s 7ms/step - loss: 0.2136 - accuracy: 0.9125 - val_loss: 0.4229 - val_accuracy: 0.8478\n",
            "Epoch 19/20\n",
            "238/238 [==============================] - 2s 7ms/step - loss: 0.2065 - accuracy: 0.9158 - val_loss: 0.4385 - val_accuracy: 0.8430\n",
            "Epoch 20/20\n",
            "238/238 [==============================] - 2s 7ms/step - loss: 0.2026 - accuracy: 0.9182 - val_loss: 0.4257 - val_accuracy: 0.8453\n"
          ]
        }
      ]
    },
    {
      "cell_type": "markdown",
      "metadata": {
        "id": "T_IAls7pVnRf"
      },
      "source": [
        "학습이 끝난 모델을 테스트셋으로 평가해 봅니다."
      ]
    },
    {
      "cell_type": "code",
      "source": [
        "results = model_3.evaluate(X_test, y_test, verbose=2)\n",
        "\n",
        "print(results)"
      ],
      "metadata": {
        "colab": {
          "base_uri": "https://localhost:8080/"
        },
        "outputId": "bacdc202-773d-43fb-d100-45c0b55913a6",
        "id": "jp1vx9wiVnRf"
      },
      "execution_count": null,
      "outputs": [
        {
          "output_type": "stream",
          "name": "stdout",
          "text": [
            "1537/1537 - 4s - loss: 0.4348 - accuracy: 0.8406 - 4s/epoch - 3ms/step\n",
            "[0.43482136726379395, 0.8405720591545105]\n"
          ]
        }
      ]
    },
    {
      "cell_type": "markdown",
      "source": [
        "## 6) Loss, Accuracy 그래프 시각화"
      ],
      "metadata": {
        "id": "1PmDPw-MMITB"
      }
    },
    {
      "cell_type": "markdown",
      "source": [
        "### model_1 : RNN 모델"
      ],
      "metadata": {
        "id": "jRYkC6g5pP-u"
      }
    },
    {
      "cell_type": "code",
      "execution_count": null,
      "metadata": {
        "colab": {
          "base_uri": "https://localhost:8080/"
        },
        "id": "Gv3G98EI-o1F",
        "outputId": "812e7230-de5a-405f-ae7a-ebb54145b75f"
      },
      "outputs": [
        {
          "output_type": "stream",
          "name": "stdout",
          "text": [
            "dict_keys(['loss', 'accuracy', 'val_loss', 'val_accuracy'])\n"
          ]
        }
      ],
      "source": [
        "history_dict = history_1.history\n",
        "print(history_dict.keys()) # epoch에 따른 그래프를 그려볼 수 있는 항목들"
      ]
    },
    {
      "cell_type": "code",
      "execution_count": null,
      "metadata": {
        "colab": {
          "base_uri": "https://localhost:8080/",
          "height": 295
        },
        "id": "rh5x-o-I-rvN",
        "outputId": "1c517132-af41-4fd3-8280-eecce03bc5d1"
      },
      "outputs": [
        {
          "output_type": "display_data",
          "data": {
            "text/plain": [
              "<Figure size 432x288 with 1 Axes>"
            ],
            "image/png": "[encoded data removed]"
          },
          "metadata": {
            "needs_background": "light"
          }
        }
      ],
      "source": [
        "import matplotlib.pyplot as plt\n",
        "\n",
        "acc = history_dict['accuracy']\n",
        "val_acc = history_dict['val_accuracy']\n",
        "loss = history_dict['loss']\n",
        "val_loss = history_dict['val_loss']\n",
        "\n",
        "epochs = range(1, len(acc) + 1)\n",
        "\n",
        "# \"bo\"는 \"파란색 점\"입니다\n",
        "plt.plot(epochs, loss, 'bo', label='Training loss')\n",
        "# b는 \"파란 실선\"입니다\n",
        "plt.plot(epochs, val_loss, 'b', label='Validation loss')\n",
        "plt.title('Training and validation loss')\n",
        "plt.xlabel('Epochs')\n",
        "plt.ylabel('Loss')\n",
        "plt.legend()\n",
        "\n",
        "plt.show()"
      ]
    },
    {
      "cell_type": "markdown",
      "metadata": {
        "id": "E4hbigLT-vyf"
      },
      "source": [
        "Training and validation loss를 그려 보면, 몇 epoch까지의 트레이닝이 적절한지 최적점을 추정해 볼 수 있습니다. validation loss의 그래프가 train loss와의 이격이 발생하게 되면 더 이상의 트레이닝은 무의미해지게 마련입니다.\n",
        "\n"
      ]
    },
    {
      "cell_type": "code",
      "execution_count": null,
      "metadata": {
        "colab": {
          "base_uri": "https://localhost:8080/",
          "height": 295
        },
        "id": "r1Yev6PI-wvn",
        "outputId": "e8bdd6fb-33cb-42f5-9c50-1557f94a1608"
      },
      "outputs": [
        {
          "output_type": "display_data",
          "data": {
            "text/plain": [
              "<Figure size 432x288 with 1 Axes>"
            ],
            "image/png": "[encoded data removed]"
          },
          "metadata": {
            "needs_background": "light"
          }
        }
      ],
      "source": [
        "plt.clf()   # 그림을 초기화합니다\n",
        "\n",
        "plt.plot(epochs, acc, 'bo', label='Training acc')\n",
        "plt.plot(epochs, val_acc, 'b', label='Validation acc')\n",
        "plt.title('Training and validation accuracy')\n",
        "plt.xlabel('Epochs')\n",
        "plt.ylabel('Accuracy')\n",
        "plt.legend()\n",
        "\n",
        "plt.show()"
      ]
    },
    {
      "cell_type": "markdown",
      "source": [
        "### model_2 : 1 - D CNN 모델"
      ],
      "metadata": {
        "id": "yQfoyrmzpUFr"
      }
    },
    {
      "cell_type": "code",
      "execution_count": null,
      "metadata": {
        "colab": {
          "base_uri": "https://localhost:8080/"
        },
        "outputId": "8a00e44e-b02b-4a28-e627-9e6a0135ffa6",
        "id": "XBMhtwz6pnuw"
      },
      "outputs": [
        {
          "output_type": "stream",
          "name": "stdout",
          "text": [
            "dict_keys(['loss', 'accuracy', 'val_loss', 'val_accuracy'])\n"
          ]
        }
      ],
      "source": [
        "history_dict = history_2.history\n",
        "print(history_dict.keys()) # epoch에 따른 그래프를 그려볼 수 있는 항목들"
      ]
    },
    {
      "cell_type": "code",
      "execution_count": null,
      "metadata": {
        "colab": {
          "base_uri": "https://localhost:8080/",
          "height": 295
        },
        "id": "DaTBNoNopnux",
        "outputId": "fbe09b51-9c79-4058-e0ed-2e05da054102"
      },
      "outputs": [
        {
          "output_type": "display_data",
          "data": {
            "text/plain": [
              "<Figure size 432x288 with 1 Axes>"
            ],
            "image/png": "[encoded data removed]"
          },
          "metadata": {
            "needs_background": "light"
          }
        }
      ],
      "source": [
        "import matplotlib.pyplot as plt\n",
        "\n",
        "acc = history_dict['accuracy']\n",
        "val_acc = history_dict['val_accuracy']\n",
        "loss = history_dict['loss']\n",
        "val_loss = history_dict['val_loss']\n",
        "\n",
        "epochs = range(1, len(acc) + 1)\n",
        "\n",
        "# \"bo\"는 \"파란색 점\"입니다\n",
        "plt.plot(epochs, loss, 'bo', label='Training loss')\n",
        "# b는 \"파란 실선\"입니다\n",
        "plt.plot(epochs, val_loss, 'b', label='Validation loss')\n",
        "plt.title('Training and validation loss')\n",
        "plt.xlabel('Epochs')\n",
        "plt.ylabel('Loss')\n",
        "plt.legend()\n",
        "\n",
        "plt.show()"
      ]
    },
    {
      "cell_type": "markdown",
      "metadata": {
        "id": "pMP8Gpq_pnuy"
      },
      "source": [
        "Training and validation loss를 그려 보면, 몇 epoch까지의 트레이닝이 적절한지 최적점을 추정해 볼 수 있습니다. validation loss의 그래프가 train loss와의 이격이 발생하게 되면 더 이상의 트레이닝은 무의미해지게 마련입니다.\n",
        "\n"
      ]
    },
    {
      "cell_type": "code",
      "execution_count": null,
      "metadata": {
        "colab": {
          "base_uri": "https://localhost:8080/",
          "height": 295
        },
        "id": "UTe6A0b8pnuz",
        "outputId": "411778ee-9977-4710-9492-323431d266b6"
      },
      "outputs": [
        {
          "output_type": "display_data",
          "data": {
            "text/plain": [
              "<Figure size 432x288 with 1 Axes>"
            ],
            "image/png": "[encoded data removed]"
          },
          "metadata": {
            "needs_background": "light"
          }
        }
      ],
      "source": [
        "plt.clf()   # 그림을 초기화합니다\n",
        "\n",
        "plt.plot(epochs, acc, 'bo', label='Training acc')\n",
        "plt.plot(epochs, val_acc, 'b', label='Validation acc')\n",
        "plt.title('Training and validation accuracy')\n",
        "plt.xlabel('Epochs')\n",
        "plt.ylabel('Accuracy')\n",
        "plt.legend()\n",
        "\n",
        "plt.show()"
      ]
    },
    {
      "cell_type": "markdown",
      "source": [
        "### model_3 : GlobalMaxPooling 모델"
      ],
      "metadata": {
        "id": "MJbOshdFpa5T"
      }
    },
    {
      "cell_type": "code",
      "execution_count": null,
      "metadata": {
        "colab": {
          "base_uri": "https://localhost:8080/"
        },
        "outputId": "92a971a1-727c-4dc5-fdfb-1f4200e5191a",
        "id": "eDmDK3Vcpo2K"
      },
      "outputs": [
        {
          "output_type": "stream",
          "name": "stdout",
          "text": [
            "dict_keys(['loss', 'accuracy', 'val_loss', 'val_accuracy'])\n"
          ]
        }
      ],
      "source": [
        "history_dict = history_3.history\n",
        "print(history_dict.keys()) # epoch에 따른 그래프를 그려볼 수 있는 항목들"
      ]
    },
    {
      "cell_type": "code",
      "execution_count": null,
      "metadata": {
        "colab": {
          "base_uri": "https://localhost:8080/",
          "height": 295
        },
        "id": "bPJzk_Jjpo2L",
        "outputId": "c6fb2ccc-be2b-4d7a-b63f-9ffa9a88b8c8"
      },
      "outputs": [
        {
          "output_type": "display_data",
          "data": {
            "text/plain": [
              "<Figure size 432x288 with 1 Axes>"
            ],
            "image/png": "[encoded data removed]"
          },
          "metadata": {
            "needs_background": "light"
          }
        }
      ],
      "source": [
        "import matplotlib.pyplot as plt\n",
        "\n",
        "acc = history_dict['accuracy']\n",
        "val_acc = history_dict['val_accuracy']\n",
        "loss = history_dict['loss']\n",
        "val_loss = history_dict['val_loss']\n",
        "\n",
        "epochs = range(1, len(acc) + 1)\n",
        "\n",
        "# \"bo\"는 \"파란색 점\"입니다\n",
        "plt.plot(epochs, loss, 'bo', label='Training loss')\n",
        "# b는 \"파란 실선\"입니다\n",
        "plt.plot(epochs, val_loss, 'b', label='Validation loss')\n",
        "plt.title('Training and validation loss')\n",
        "plt.xlabel('Epochs')\n",
        "plt.ylabel('Loss')\n",
        "plt.legend()\n",
        "\n",
        "plt.show()"
      ]
    },
    {
      "cell_type": "markdown",
      "metadata": {
        "id": "aurj1CIvpo2M"
      },
      "source": [
        "Training and validation loss를 그려 보면, 몇 epoch까지의 트레이닝이 적절한지 최적점을 추정해 볼 수 있습니다. validation loss의 그래프가 train loss와의 이격이 발생하게 되면 더 이상의 트레이닝은 무의미해지게 마련입니다.\n",
        "\n"
      ]
    },
    {
      "cell_type": "code",
      "execution_count": null,
      "metadata": {
        "colab": {
          "base_uri": "https://localhost:8080/",
          "height": 295
        },
        "id": "FvmFl0zRpo2M",
        "outputId": "c2934796-852c-48da-fed4-e18dd6aac8b4"
      },
      "outputs": [
        {
          "output_type": "display_data",
          "data": {
            "text/plain": [
              "<Figure size 432x288 with 1 Axes>"
            ],
            "image/png": "[encoded data removed]"
          },
          "metadata": {
            "needs_background": "light"
          }
        }
      ],
      "source": [
        "plt.clf()   # 그림을 초기화합니다\n",
        "\n",
        "plt.plot(epochs, acc, 'bo', label='Training acc')\n",
        "plt.plot(epochs, val_acc, 'b', label='Validation acc')\n",
        "plt.title('Training and validation accuracy')\n",
        "plt.xlabel('Epochs')\n",
        "plt.ylabel('Accuracy')\n",
        "plt.legend()\n",
        "\n",
        "plt.show()"
      ]
    },
    {
      "cell_type": "markdown",
      "source": [
        "## 7) 학습된 Embedding 레이어 분석"
      ],
      "metadata": {
        "id": "4TmxUBxQMI_y"
      }
    },
    {
      "cell_type": "code",
      "source": [
        "embedding_layer_1 = model_1.layers[0]\n",
        "weights = embedding_layer_1.get_weights()[0]\n",
        "print(weights.shape)    # shape: (vocab_size, embedding_dim)"
      ],
      "metadata": {
        "colab": {
          "base_uri": "https://localhost:8080/"
        },
        "id": "CHzUsh4bEz8m",
        "outputId": "7764dcb3-457c-4929-e2ba-520261d98c4e"
      },
      "execution_count": null,
      "outputs": [
        {
          "output_type": "stream",
          "name": "stdout",
          "text": [
            "(10000, 16)\n"
          ]
        }
      ]
    },
    {
      "cell_type": "code",
      "source": [
        "# 학습한 Embedding 파라미터를 파일에 써서 저장합니다. \n",
        "word2vec_file_path = '/content/drive/MyDrive/dataset/sentiment_classification/data/word2vec_1.txt'\n",
        "\n",
        "f = open(word2vec_file_path, 'w')\n",
        "f.write('{} {}\\n'.format(vocab_size-4, word_vector_dim))  # 몇개의 벡터를 얼마 사이즈로 기재할지 타이틀을 씁니다.\n",
        "\n",
        "# 단어 개수(에서 특수문자 4개는 제외하고)만큼의 워드 벡터를 파일에 기록합니다. \n",
        "vectors = model_1.get_weights()[0]\n",
        "for i in range(4,vocab_size):\n",
        "    f.write('{} {}\\n'.format(index_to_word[i], ' '.join(map(str, list(vectors[i, :])))))\n",
        "f.close()"
      ],
      "metadata": {
        "id": "gyIKr1ciE15G"
      },
      "execution_count": null,
      "outputs": []
    },
    {
      "cell_type": "markdown",
      "source": [
        "gensim에서 제공하는 패키지를 이용해, 위에 남긴 임베딩 파라미터를 읽어서 word vector로 활용할 수 있습니다.\n",
        "\n"
      ],
      "metadata": {
        "id": "ZouHaR8MFSLV"
      }
    },
    {
      "cell_type": "code",
      "source": [
        "from gensim.models.keyedvectors import Word2VecKeyedVectors\n",
        "\n",
        "word_vectors_1 = Word2VecKeyedVectors.load_word2vec_format(word2vec_file_path, binary=False)\n",
        "vector = word_vectors_1['재미']\n",
        "vector"
      ],
      "metadata": {
        "colab": {
          "base_uri": "https://localhost:8080/"
        },
        "id": "7G5NAm-tFTEK",
        "outputId": "e322696c-056f-4ed8-cf95-d1568baab622"
      },
      "execution_count": null,
      "outputs": [
        {
          "output_type": "execute_result",
          "data": {
            "text/plain": [
              "array([ 0.20623413, -0.05056569,  0.0696202 , -0.07076243,  0.03613318,\n",
              "        0.03686428, -0.01527788, -0.05864872,  0.08456145, -0.02728013,\n",
              "        0.09132414, -0.05887605,  0.13510545, -0.00567078,  0.0703567 ,\n",
              "       -0.10824519], dtype=float32)"
            ]
          },
          "metadata": {},
          "execution_count": 103
        }
      ]
    },
    {
      "cell_type": "markdown",
      "source": [
        "위와 같이 얻은 워드 벡터를 가지고 재미있는 실험을 해볼 수 있습니다. 워드 벡터가 의미 벡터 공간상에 유의미하게 학습되었는지 확인하는 방법 중에, 단어를 하나 주고 그와 가장 유사한 단어와 그 유사도를 확인하는 방법이 있습니다. gensim을 사용하면 아래와 같이 해볼 수 있습니다.\n",
        "\n"
      ],
      "metadata": {
        "id": "dzVp6urLFWg9"
      }
    },
    {
      "cell_type": "code",
      "source": [
        "word_vectors_1.similar_by_word(\"재미\")"
      ],
      "metadata": {
        "colab": {
          "base_uri": "https://localhost:8080/"
        },
        "id": "Q2uMlLy3FXiu",
        "outputId": "270d004e-0283-41f3-a42f-9a33bb06ac71"
      },
      "execution_count": null,
      "outputs": [
        {
          "output_type": "execute_result",
          "data": {
            "text/plain": [
              "[('풀', 0.9240810871124268),\n",
              " ('가져', 0.8147364258766174),\n",
              " ('가을', 0.7940587401390076),\n",
              " ('흥미', 0.7939713597297668),\n",
              " ('교훈', 0.7938187122344971),\n",
              " ('여성', 0.7810221314430237),\n",
              " ('다가오', 0.7716469764709473),\n",
              " ('명배우', 0.7642228603363037),\n",
              " ('만나', 0.7636395692825317),\n",
              " ('^^;;', 0.7631682753562927)]"
            ]
          },
          "metadata": {},
          "execution_count": 104
        }
      ]
    },
    {
      "cell_type": "markdown",
      "source": [
        "## 8) 한국어 Word2Vec 임베딩 활용하여 성능 개선\n"
      ],
      "metadata": {
        "id": "ty_th1LaMKAz"
      }
    },
    {
      "cell_type": "markdown",
      "source": [
        "* 한국어 Word2Vec은 /data 폴더 안에 있는 word2vec_ko.model을 활용하세요.\n",
        "* 한국어 Word2Vec을 활용할 때는 `load_word2vec_format()` 형태가 아닌 `load()` 형태로 모델을 불러와주세요. 또한 모델을 활용할 때에는 아래 예시와 같이 `.wv`를 붙여서 활용합니다. 좀더 자세한 활용법에 대해선 다음 링크들을 참조해주세요. [참고 링크1](https://radimrehurek.com/gensim/auto_examples/tutorials/run_word2vec.html#storing-and-loading-models), [참고 링크2](https://radimrehurek.com/gensim/models/keyedvectors.html)"
      ],
      "metadata": {
        "id": "4BThRmk0MRl4"
      }
    },
    {
      "cell_type": "code",
      "source": [
        "from gensim.models.keyedvectors import Word2VecKeyedVectors\n",
        "\n",
        "word2vec_file_path = '/content/drive/MyDrive/dataset/sentiment_classification/data/word2vec_ko.model'\n",
        "word_vectors = Word2VecKeyedVectors.load(word2vec_file_path)\n",
        "vector = word_vectors.wv['끝']\n",
        "vector  "
      ],
      "metadata": {
        "colab": {
          "base_uri": "https://localhost:8080/"
        },
        "id": "jC90b5k3v83F",
        "outputId": "f70b4108-58dc-4cec-8436-6c8717a2ba40"
      },
      "execution_count": null,
      "outputs": [
        {
          "output_type": "execute_result",
          "data": {
            "text/plain": [
              "array([ 1.038851  , -1.1634965 ,  2.2386286 ,  0.8971453 , -2.088168  ,\n",
              "       -4.1942534 , -0.02519768, -0.69813883, -0.2908033 , -1.4651134 ,\n",
              "       -2.6863668 ,  0.7999443 , -0.6957915 , -0.5018775 ,  3.5025773 ,\n",
              "        0.21326113, -0.6588098 , -1.1900496 ,  0.61399573,  2.1247969 ,\n",
              "        0.1549463 ,  3.0840218 ,  3.1680267 , -3.9143991 ,  3.6073153 ,\n",
              "        0.5315545 , -0.3511633 , -1.107248  ,  1.7767181 , -0.95981866,\n",
              "        2.6072454 , -0.00697957, -3.27628   ,  1.558644  ,  0.81922376,\n",
              "        1.9231955 ,  3.7026553 , -0.53824735, -0.4920138 ,  2.4657123 ,\n",
              "       -2.620749  , -0.08950733,  0.61453176,  1.8866426 ,  0.257866  ,\n",
              "       -2.7827141 ,  2.9129577 , -0.6313133 ,  2.0387425 , -4.222685  ,\n",
              "       -2.7560544 ,  1.7903243 , -1.3080189 , -2.5531402 , -0.43849912,\n",
              "       -3.1073573 , -0.29090825,  5.1817617 ,  1.9604833 , -5.1421604 ,\n",
              "       -0.71431434,  4.5624633 , -0.55525815, -3.3019137 ,  1.6761336 ,\n",
              "       -1.9606539 , -0.2726863 ,  0.2465995 ,  1.2685091 ,  1.6055685 ,\n",
              "        1.8344896 ,  1.2752469 ,  0.99503314, -2.3348706 , -0.9290329 ,\n",
              "       -1.5920266 ,  5.693834  ,  1.1132814 , -0.9603875 , -1.970055  ,\n",
              "       -1.0120267 , -2.7289615 , -2.7759619 ,  3.214084  ,  1.8573734 ,\n",
              "       -1.3495721 , -0.10321241,  3.434593  , -2.8573685 , -1.9004927 ,\n",
              "       -1.6801298 , -2.805677  ,  1.7723105 , -0.41865307, -2.310913  ,\n",
              "       -6.2761464 , -0.8376036 ,  2.4590037 ,  2.1697695 , -4.440443  ],\n",
              "      dtype=float32)"
            ]
          },
          "metadata": {},
          "execution_count": 105
        }
      ]
    },
    {
      "cell_type": "code",
      "source": [
        "word_vectors.wv.most_similar(\"재미\")\n"
      ],
      "metadata": {
        "colab": {
          "base_uri": "https://localhost:8080/"
        },
        "id": "f2h0M-7FwtWc",
        "outputId": "b291cceb-0e88-4a22-e8a9-6e1afe29cc25"
      },
      "execution_count": null,
      "outputs": [
        {
          "output_type": "execute_result",
          "data": {
            "text/plain": [
              "[('묘미', 0.6163142919540405),\n",
              " ('취미', 0.6034970283508301),\n",
              " ('흥미', 0.5939850211143494),\n",
              " ('유머', 0.5888698101043701),\n",
              " ('보람', 0.5689517259597778),\n",
              " ('즐거움', 0.5631207823753357),\n",
              " ('개그', 0.5552946329116821),\n",
              " ('이야기', 0.5536993741989136),\n",
              " ('연애', 0.552293598651886),\n",
              " ('열의', 0.546456515789032)]"
            ]
          },
          "metadata": {},
          "execution_count": 106
        }
      ]
    },
    {
      "cell_type": "code",
      "source": [
        "vocab_size = 10000    # 어휘 사전의 크기입니다(10,000개의 단어)\n",
        "word_vector_dim = 300  # 워드 벡터의 차원수\n",
        "embedding_matrix = np.random.rand(vocab_size, word_vector_dim)\n",
        "\n",
        "# embedding_matrix에 Word2Vec 워드 벡터를 단어 하나씩마다 차례차례 카피한다.\n",
        "for i in range(4,vocab_size):\n",
        "    if index_to_word[i] in vector:\n",
        "        embedding_matrix[i] = vector[index_to_word[i]]"
      ],
      "metadata": {
        "id": "WkW8oH-kycvL",
        "colab": {
          "base_uri": "https://localhost:8080/"
        },
        "outputId": "038f3f0e-4429-421d-9c01-a1593b85b5c8"
      },
      "execution_count": null,
      "outputs": [
        {
          "output_type": "stream",
          "name": "stderr",
          "text": [
            "/usr/local/lib/python3.7/dist-packages/ipykernel_launcher.py:7: FutureWarning: elementwise comparison failed; returning scalar instead, but in the future will perform elementwise comparison\n",
            "  import sys\n"
          ]
        }
      ]
    },
    {
      "cell_type": "markdown",
      "source": [
        "### model_1 : RNN 모델\n"
      ],
      "metadata": {
        "id": "bD9WRhp3-kW2"
      }
    },
    {
      "cell_type": "code",
      "source": [
        "from tensorflow.keras.initializers import Constant\n",
        "\n",
        "vocab_size = 10000    # 어휘 사전의 크기입니다(10,000개의 단어)\n",
        "word_vector_dim = 300  # 워드 벡터의 차원 수 \n",
        "\n",
        "# 모델 구성\n",
        "model_1 = tf.keras.Sequential()\n",
        "model_1.add(tf.keras.layers.Embedding(vocab_size, word_vector_dim, embeddings_initializer=Constant(embedding_matrix),  # 카피한 임베딩을 여기서 활용\n",
        "                                 input_length=maxlen, \n",
        "                                 trainable=True))\n",
        "model_1.add(tf.keras.layers.Dropout(0.3))\n",
        "model_1.add(tf.keras.layers.LSTM(128))   # 가장 널리 쓰이는 RNN인 LSTM 레이어를 사용하였습니다. 이때 LSTM state 벡터의 차원수는 8로 하였습니다. (변경 가능)\n",
        "\n",
        "model_1.add(tf.keras.layers.Dense(1, activation='sigmoid'))  # 최종 출력은 긍정/부정을 나타내는 1dim 입니다.\n",
        "\n",
        "\n",
        "model_1.summary()"
      ],
      "metadata": {
        "colab": {
          "base_uri": "https://localhost:8080/"
        },
        "id": "SjShl3Q7-FDw",
        "outputId": "35de77d2-f3ec-4586-8141-0d749ffc3dda"
      },
      "execution_count": null,
      "outputs": [
        {
          "output_type": "stream",
          "name": "stdout",
          "text": [
            "Model: \"sequential_12\"\n",
            "_________________________________________________________________\n",
            " Layer (type)                Output Shape              Param #   \n",
            "=================================================================\n",
            " embedding_12 (Embedding)    (None, 41, 300)           3000000   \n",
            "                                                                 \n",
            " dropout_6 (Dropout)         (None, 41, 300)           0         \n",
            "                                                                 \n",
            " lstm_6 (LSTM)               (None, 128)               219648    \n",
            "                                                                 \n",
            " dense_22 (Dense)            (None, 1)                 129       \n",
            "                                                                 \n",
            "=================================================================\n",
            "Total params: 3,219,777\n",
            "Trainable params: 3,219,777\n",
            "Non-trainable params: 0\n",
            "_________________________________________________________________\n"
          ]
        }
      ]
    },
    {
      "cell_type": "code",
      "source": [
        "# 학습의 진행\n",
        "from tensorflow.keras.callbacks import EarlyStopping\n",
        "from tensorflow.keras.models import load_model\n",
        "\n",
        "es = EarlyStopping(monitor='val_loss', mode='min', verbose=1, patience=3)\n",
        "\n",
        "model_1.compile(optimizer='adam',\n",
        "              loss='binary_crossentropy',\n",
        "              metrics=['accuracy'])\n",
        "              \n",
        "epochs=20  # 몇 epoch를 훈련하면 좋을지 결과를 보면서 바꾸어 봅시다. \n",
        "\n",
        "\n",
        "history = model_1.fit(partial_X_train,\n",
        "                    partial_y_train,\n",
        "                    epochs=epochs,\n",
        "                    batch_size=512,\n",
        "                    validation_data=(X_val, y_val),\n",
        "                    verbose=1, callbacks = [es])"
      ],
      "metadata": {
        "colab": {
          "base_uri": "https://localhost:8080/"
        },
        "id": "y1eKGe1T1G9Y",
        "outputId": "3b0e6ef6-856e-4c37-f532-99e4e42157d1"
      },
      "execution_count": null,
      "outputs": [
        {
          "output_type": "stream",
          "name": "stdout",
          "text": [
            "Epoch 1/20\n",
            "238/238 [==============================] - 6s 17ms/step - loss: 0.5342 - accuracy: 0.7185 - val_loss: 0.3825 - val_accuracy: 0.8307\n",
            "Epoch 2/20\n",
            "238/238 [==============================] - 4s 15ms/step - loss: 0.3863 - accuracy: 0.8284 - val_loss: 0.3458 - val_accuracy: 0.8475\n",
            "Epoch 3/20\n",
            "238/238 [==============================] - 4s 15ms/step - loss: 0.3487 - accuracy: 0.8478 - val_loss: 0.3345 - val_accuracy: 0.8547\n",
            "Epoch 4/20\n",
            "238/238 [==============================] - 4s 15ms/step - loss: 0.3263 - accuracy: 0.8593 - val_loss: 0.3271 - val_accuracy: 0.8567\n",
            "Epoch 5/20\n",
            "238/238 [==============================] - 4s 15ms/step - loss: 0.3073 - accuracy: 0.8684 - val_loss: 0.3221 - val_accuracy: 0.8610\n",
            "Epoch 6/20\n",
            "238/238 [==============================] - 4s 15ms/step - loss: 0.2952 - accuracy: 0.8751 - val_loss: 0.3154 - val_accuracy: 0.8628\n",
            "Epoch 7/20\n",
            "238/238 [==============================] - 4s 15ms/step - loss: 0.2832 - accuracy: 0.8809 - val_loss: 0.3240 - val_accuracy: 0.8629\n",
            "Epoch 8/20\n",
            "238/238 [==============================] - 4s 15ms/step - loss: 0.2705 - accuracy: 0.8867 - val_loss: 0.3175 - val_accuracy: 0.8638\n",
            "Epoch 9/20\n",
            "238/238 [==============================] - 4s 15ms/step - loss: 0.2611 - accuracy: 0.8912 - val_loss: 0.3191 - val_accuracy: 0.8647\n",
            "Epoch 9: early stopping\n"
          ]
        }
      ]
    },
    {
      "cell_type": "markdown",
      "source": [
        "### model_2 : 1 - D CNN 모델"
      ],
      "metadata": {
        "id": "n5ph0r15-w2d"
      }
    },
    {
      "cell_type": "code",
      "source": [
        "vocab_size = 10000    # 어휘 사전의 크기입니다(10,000개의 단어)\n",
        "word_vector_dim = 300  # 워드 벡터의 차원 수 \n",
        "\n",
        "# 모델 구성\n",
        "model_2 = tf.keras.Sequential()\n",
        "model_2.add(tf.keras.layers.Embedding(vocab_size, \n",
        "                                 word_vector_dim, \n",
        "                                 embeddings_initializer=Constant(embedding_matrix),  # 카피한 임베딩을 여기서 활용\n",
        "                                 input_length=maxlen, \n",
        "                                 trainable=True))   # trainable을 True로 주면 Fine-tuning\n",
        "                                 \n",
        "model_2.add(tf.keras.layers.Dropout(0.3))\n",
        "model_2.add(tf.keras.layers.Conv1D(256, 3,padding='valid', activation='relu'))\n",
        "model_2.add(tf.keras.layers.GlobalMaxPooling1D())\n",
        "model_2.add(tf.keras.layers.Dense(128, activation='relu'))\n",
        "model_2.add(tf.keras.layers.Dropout(0.3))\n",
        "model_2.add(tf.keras.layers.Dense(1, activation='sigmoid')) \n",
        "\n",
        "model_2.summary()"
      ],
      "metadata": {
        "colab": {
          "base_uri": "https://localhost:8080/"
        },
        "id": "ZjkuDh1G0yKS",
        "outputId": "ff2f3b8f-6d65-4c20-8d26-94a2acd57994"
      },
      "execution_count": null,
      "outputs": [
        {
          "output_type": "stream",
          "name": "stdout",
          "text": [
            "Model: \"sequential_13\"\n",
            "_________________________________________________________________\n",
            " Layer (type)                Output Shape              Param #   \n",
            "=================================================================\n",
            " embedding_13 (Embedding)    (None, 41, 300)           3000000   \n",
            "                                                                 \n",
            " dropout_7 (Dropout)         (None, 41, 300)           0         \n",
            "                                                                 \n",
            " conv1d_6 (Conv1D)           (None, 39, 256)           230656    \n",
            "                                                                 \n",
            " global_max_pooling1d_6 (Glo  (None, 256)              0         \n",
            " balMaxPooling1D)                                                \n",
            "                                                                 \n",
            " dense_23 (Dense)            (None, 128)               32896     \n",
            "                                                                 \n",
            " dropout_8 (Dropout)         (None, 128)               0         \n",
            "                                                                 \n",
            " dense_24 (Dense)            (None, 1)                 129       \n",
            "                                                                 \n",
            "=================================================================\n",
            "Total params: 3,263,681\n",
            "Trainable params: 3,263,681\n",
            "Non-trainable params: 0\n",
            "_________________________________________________________________\n"
          ]
        }
      ]
    },
    {
      "cell_type": "code",
      "source": [
        "# 학습의 진행\n",
        "from tensorflow.keras.callbacks import EarlyStopping\n",
        "\n",
        "es = EarlyStopping(monitor='val_loss', mode='min', verbose=1, patience=3)\n",
        "model_2.compile(optimizer='adam',\n",
        "              loss='binary_crossentropy',\n",
        "              metrics=['accuracy'])\n",
        "              \n",
        "epochs=100  # 몇 epoch를 훈련하면 좋을지 결과를 보면서 바꾸어 봅시다. \n",
        "\n",
        "\n",
        "\n",
        "history = model_2.fit(partial_X_train,\n",
        "                    partial_y_train,\n",
        "                    epochs=epochs,\n",
        "                    batch_size=512,\n",
        "                    validation_data=(X_val, y_val),\n",
        "                    verbose=1, callbacks=[es])"
      ],
      "metadata": {
        "colab": {
          "base_uri": "https://localhost:8080/"
        },
        "outputId": "8e2b7d2d-aec4-4757-9de7-539a51701ec8",
        "id": "szE3yL_g_5WG"
      },
      "execution_count": null,
      "outputs": [
        {
          "output_type": "stream",
          "name": "stdout",
          "text": [
            "Epoch 1/100\n",
            "238/238 [==============================] - 5s 16ms/step - loss: 0.6960 - accuracy: 0.5556 - val_loss: 0.5933 - val_accuracy: 0.6580\n",
            "Epoch 2/100\n",
            "238/238 [==============================] - 4s 16ms/step - loss: 0.4613 - accuracy: 0.7817 - val_loss: 0.3750 - val_accuracy: 0.8337\n",
            "Epoch 3/100\n",
            "238/238 [==============================] - 4s 15ms/step - loss: 0.3836 - accuracy: 0.8322 - val_loss: 0.3549 - val_accuracy: 0.8437\n",
            "Epoch 4/100\n",
            "238/238 [==============================] - 4s 15ms/step - loss: 0.3567 - accuracy: 0.8459 - val_loss: 0.3449 - val_accuracy: 0.8506\n",
            "Epoch 5/100\n",
            "238/238 [==============================] - 4s 16ms/step - loss: 0.3384 - accuracy: 0.8554 - val_loss: 0.3369 - val_accuracy: 0.8524\n",
            "Epoch 6/100\n",
            "238/238 [==============================] - 4s 16ms/step - loss: 0.3230 - accuracy: 0.8632 - val_loss: 0.3293 - val_accuracy: 0.8569\n",
            "Epoch 7/100\n",
            "238/238 [==============================] - 4s 16ms/step - loss: 0.3116 - accuracy: 0.8691 - val_loss: 0.3259 - val_accuracy: 0.8586\n",
            "Epoch 8/100\n",
            "238/238 [==============================] - 4s 16ms/step - loss: 0.3005 - accuracy: 0.8748 - val_loss: 0.3360 - val_accuracy: 0.8534\n",
            "Epoch 9/100\n",
            "238/238 [==============================] - 4s 16ms/step - loss: 0.2909 - accuracy: 0.8787 - val_loss: 0.3286 - val_accuracy: 0.8594\n",
            "Epoch 10/100\n",
            "238/238 [==============================] - 4s 16ms/step - loss: 0.2860 - accuracy: 0.8811 - val_loss: 0.3207 - val_accuracy: 0.8603\n",
            "Epoch 11/100\n",
            "238/238 [==============================] - 4s 16ms/step - loss: 0.2706 - accuracy: 0.8889 - val_loss: 0.3277 - val_accuracy: 0.8613\n",
            "Epoch 12/100\n",
            "238/238 [==============================] - 4s 16ms/step - loss: 0.2688 - accuracy: 0.8892 - val_loss: 0.3271 - val_accuracy: 0.8624\n",
            "Epoch 13/100\n",
            "238/238 [==============================] - 4s 16ms/step - loss: 0.2566 - accuracy: 0.8950 - val_loss: 0.3203 - val_accuracy: 0.8629\n",
            "Epoch 14/100\n",
            "238/238 [==============================] - 4s 16ms/step - loss: 0.2509 - accuracy: 0.8968 - val_loss: 0.3283 - val_accuracy: 0.8617\n",
            "Epoch 15/100\n",
            "238/238 [==============================] - 4s 15ms/step - loss: 0.2421 - accuracy: 0.9015 - val_loss: 0.3291 - val_accuracy: 0.8606\n",
            "Epoch 16/100\n",
            "238/238 [==============================] - 4s 16ms/step - loss: 0.2348 - accuracy: 0.9051 - val_loss: 0.3319 - val_accuracy: 0.8621\n",
            "Epoch 16: early stopping\n"
          ]
        }
      ]
    },
    {
      "cell_type": "markdown",
      "source": [
        "### model_3 : GlobalMaxPooling 모델"
      ],
      "metadata": {
        "id": "ztjrNxPH-1pM"
      }
    },
    {
      "cell_type": "code",
      "source": [
        "vocab_size = 10000    # 어휘 사전의 크기입니다(10,000개의 단어)\n",
        "word_vector_dim = 300  # 워드 벡터의 차원 수 \n",
        "\n",
        "# 모델 구성\n",
        "model_3 = tf.keras.Sequential()\n",
        "model_3.add(tf.keras.layers.Embedding(vocab_size, \n",
        "                                 word_vector_dim, \n",
        "                                 embeddings_initializer=Constant(embedding_matrix),  # 카피한 임베딩을 여기서 활용\n",
        "                                 input_length=maxlen, \n",
        "                                 trainable=True))   # trainable을 True로 주면 Fine-tuning\n",
        "\n",
        "model_3.add(tf.keras.layers.GlobalMaxPooling1D())\n",
        "model_3.add(tf.keras.layers.Dense(64, activation='relu'))\n",
        "model_3.add(tf.keras.layers.Dense(1, activation='sigmoid'))  # 최종 출력은 긍정/부정을 나타내는 1dim 입니다.\n",
        "\n",
        "model_3.summary()"
      ],
      "metadata": {
        "colab": {
          "base_uri": "https://localhost:8080/"
        },
        "id": "e9Y3VxIo_Vdu",
        "outputId": "3dcb36e5-a1b8-45b8-96ff-e3594cf6fdbc"
      },
      "execution_count": null,
      "outputs": [
        {
          "output_type": "stream",
          "name": "stdout",
          "text": [
            "Model: \"sequential_14\"\n",
            "_________________________________________________________________\n",
            " Layer (type)                Output Shape              Param #   \n",
            "=================================================================\n",
            " embedding_14 (Embedding)    (None, 41, 300)           3000000   \n",
            "                                                                 \n",
            " global_max_pooling1d_7 (Glo  (None, 300)              0         \n",
            " balMaxPooling1D)                                                \n",
            "                                                                 \n",
            " dense_25 (Dense)            (None, 64)                19264     \n",
            "                                                                 \n",
            " dense_26 (Dense)            (None, 1)                 65        \n",
            "                                                                 \n",
            "=================================================================\n",
            "Total params: 3,019,329\n",
            "Trainable params: 3,019,329\n",
            "Non-trainable params: 0\n",
            "_________________________________________________________________\n"
          ]
        }
      ]
    },
    {
      "cell_type": "code",
      "source": [
        "# 학습의 진행\n",
        "\n",
        "es = EarlyStopping(monitor='val_loss', mode='min', verbose=1, patience=3)\n",
        "model_3.compile(optimizer='adam',\n",
        "              loss='binary_crossentropy',\n",
        "              metrics=['accuracy'])\n",
        "              \n",
        "epochs=100  # 몇 epoch를 훈련하면 좋을지 결과를 보면서 바꾸어 봅시다. \n",
        "\n",
        "\n",
        "\n",
        "history = model_3.fit(partial_X_train,\n",
        "                    partial_y_train,\n",
        "                    epochs=epochs,\n",
        "                    batch_size=512,\n",
        "                    validation_data=(X_val, y_val),\n",
        "                    verbose=1, callbacks=[es])"
      ],
      "metadata": {
        "colab": {
          "base_uri": "https://localhost:8080/"
        },
        "outputId": "9312457a-d7d1-44ae-854f-40cabebf80c6",
        "id": "8rzUGJZE_8cF"
      },
      "execution_count": null,
      "outputs": [
        {
          "output_type": "stream",
          "name": "stdout",
          "text": [
            "Epoch 1/100\n",
            "238/238 [==============================] - 3s 8ms/step - loss: 0.5678 - accuracy: 0.7306 - val_loss: 0.4100 - val_accuracy: 0.8219\n",
            "Epoch 2/100\n",
            "238/238 [==============================] - 2s 7ms/step - loss: 0.3629 - accuracy: 0.8431 - val_loss: 0.3499 - val_accuracy: 0.8456\n",
            "Epoch 3/100\n",
            "238/238 [==============================] - 2s 7ms/step - loss: 0.3119 - accuracy: 0.8680 - val_loss: 0.3382 - val_accuracy: 0.8512\n",
            "Epoch 4/100\n",
            "238/238 [==============================] - 2s 7ms/step - loss: 0.2790 - accuracy: 0.8855 - val_loss: 0.3376 - val_accuracy: 0.8526\n",
            "Epoch 5/100\n",
            "238/238 [==============================] - 2s 7ms/step - loss: 0.2520 - accuracy: 0.8990 - val_loss: 0.3527 - val_accuracy: 0.8470\n",
            "Epoch 6/100\n",
            "238/238 [==============================] - 2s 7ms/step - loss: 0.2282 - accuracy: 0.9100 - val_loss: 0.3659 - val_accuracy: 0.8445\n",
            "Epoch 7/100\n",
            "238/238 [==============================] - 2s 7ms/step - loss: 0.2029 - accuracy: 0.9223 - val_loss: 0.3807 - val_accuracy: 0.8467\n",
            "Epoch 7: early stopping\n"
          ]
        }
      ]
    },
    {
      "cell_type": "code",
      "source": [
        "# 테스트셋을 통한 모델 평가\n",
        "\n",
        "results_1 = model_1.evaluate(X_test,  y_test, verbose=2)\n",
        "results_2 = model_2.evaluate(X_test,  y_test, verbose=2)\n",
        "results_3 = model_3.evaluate(X_test,  y_test, verbose=2)\n",
        "\n",
        "\n",
        "print(results_1, results_2, results_3)"
      ],
      "metadata": {
        "colab": {
          "base_uri": "https://localhost:8080/"
        },
        "id": "5aSJiTVA1WhY",
        "outputId": "fb71e578-df36-4e64-b10f-cba1e2dc3975"
      },
      "execution_count": null,
      "outputs": [
        {
          "output_type": "stream",
          "name": "stdout",
          "text": [
            "1537/1537 - 4s - loss: 0.3245 - accuracy: 0.8635 - 4s/epoch - 3ms/step\n",
            "1537/1537 - 3s - loss: 0.3365 - accuracy: 0.8589 - 3s/epoch - 2ms/step\n",
            "1537/1537 - 3s - loss: 0.3934 - accuracy: 0.8418 - 3s/epoch - 2ms/step\n",
            "[0.3244946599006653, 0.8635392785072327] [0.3364717960357666, 0.8588603734970093] [0.39343225955963135, 0.8417519330978394]\n"
          ]
        }
      ]
    },
    {
      "cell_type": "code",
      "source": [
        "import re\n",
        "from tensorflow.keras.preprocessing.sequence import pad_sequences\n",
        "from tensorflow.keras.preprocessing.text import Tokenizer\n",
        "\n",
        "def sentiment_predict(new_sentence):    \n",
        "    new_sentence = re.sub(r'[^ㄱ-ㅎㅏ-ㅣ가-힣 ]','', new_sentence) # 정규표현식을 이용한 한국어 외 문자 제거\n",
        "    new_sentence = tokenizer.morphs(new_sentence) # 토큰화\n",
        "    new_sentence = [word for word in new_sentence if not word in stopwords] # 불용어 제거\n",
        "\n",
        "    new_sentence = get_encoded_sentences(new_sentence, word_to_index) # 정수 인코딩\n",
        "\n",
        "   # for i in range(len(new_sentence)):\n",
        "   #    new_sentence[i] = word_to_index[new_sentence[i]]\n",
        "   # 위 식으로 정수인코딩 해줬다가 pad_sequence에서 오류가 나서 힘들었다..\n",
        "\n",
        "    pad_new = pad_sequences(new_sentence,  value=word_to_index[\"<PAD>\"],  padding='pre', maxlen = maxlen)\n",
        "    # 패딩\n",
        "    score = model_2.predict(pad_new)\n",
        "    score = float(sum(score) /len(score))\n",
        "    # 패딩 결과를 모델에 넣고 예측결과를 얻으니 각각의 단어에 따른 긍정/ 부정확률이 나왔다. \n",
        "    # 어떻게 처리할지 고민하다가 그냥 평균을 내버림..\n",
        "\n",
        "    if score > 0.5:\n",
        "        print(f\"{score * 100: 0.2f}% 확률로 긍정 리뷰입니다.\")\n",
        "    else:\n",
        "        print(f\"{(1 - score) * 100: 0.2f}% 확률로 부정 리뷰입니다.\")"
      ],
      "metadata": {
        "id": "bdvBSibrN2Ye"
      },
      "execution_count": null,
      "outputs": []
    },
    {
      "cell_type": "code",
      "source": [
        "sentiment_predict('이 영화 개꿀잼 ㅋㅋㅋ')"
      ],
      "metadata": {
        "id": "yfWEoMmOQC9k",
        "colab": {
          "base_uri": "https://localhost:8080/"
        },
        "outputId": "68b67cb1-4e01-452a-c0ff-a99cec115853"
      },
      "execution_count": null,
      "outputs": [
        {
          "output_type": "stream",
          "name": "stdout",
          "text": [
            " 72.35% 확률로 긍정 리뷰입니다.\n"
          ]
        }
      ]
    },
    {
      "cell_type": "code",
      "source": [
        "sentiment_predict('아 개노잼...')"
      ],
      "metadata": {
        "colab": {
          "base_uri": "https://localhost:8080/"
        },
        "id": "iH602Ef1rXzA",
        "outputId": "c15acbb6-24b3-4bac-81dd-d9ad89335018"
      },
      "execution_count": null,
      "outputs": [
        {
          "output_type": "stream",
          "name": "stdout",
          "text": [
            " 56.78% 확률로 부정 리뷰입니다.\n"
          ]
        }
      ]
    },
    {
      "cell_type": "code",
      "source": [
        "sentiment_predict('돈 아깝다 ..')"
      ],
      "metadata": {
        "colab": {
          "base_uri": "https://localhost:8080/"
        },
        "id": "ANhZ1oy6rcy3",
        "outputId": "2d2fd204-8223-415f-fdc7-72b69a6cc356"
      },
      "execution_count": null,
      "outputs": [
        {
          "output_type": "stream",
          "name": "stdout",
          "text": [
            " 69.13% 확률로 부정 리뷰입니다.\n"
          ]
        }
      ]
    },
    {
      "cell_type": "code",
      "source": [
        "sentiment_predict('대박.. 꼭 보세요.. 소름돋음')"
      ],
      "metadata": {
        "colab": {
          "base_uri": "https://localhost:8080/"
        },
        "id": "jGUB7o0AyQqT",
        "outputId": "7d59cc44-d8a5-4651-e34a-0a7222be389f"
      },
      "execution_count": null,
      "outputs": [
        {
          "output_type": "stream",
          "name": "stdout",
          "text": [
            " 69.80% 확률로 긍정 리뷰입니다.\n"
          ]
        }
      ]
    },
    {
      "cell_type": "markdown",
      "source": [
        "나름 잘 나오는 것을 확인할 수 있습니다. \n"
      ],
      "metadata": {
        "id": "EfELVnYprXiE"
      }
    },
    {
      "cell_type": "markdown",
      "source": [
        "---"
      ],
      "metadata": {
        "id": "cuumj4OY10Se"
      }
    },
    {
      "cell_type": "markdown",
      "source": [
        "## 🎯 평가 루브릭\n",
        "| **평가문항** | **상세기준** | **학습결과** |\n",
        "|:---:|---|:---:|\n",
        "| 1. 다양한 방법으로 Text Classification 태스크를 성공적으로 구현하였다. | 3가지 이상의 모델이 성공적으로 시도됨 | O |\n",
        "| 2. gensim을 활용하여 자체학습된 혹은 사전학습된 임베딩 레이어를 분석하였다. | gensim의 유사단어 찾기를 활용하여 자체학습한 임베딩과 사전학습 임베딩을 적절히 분석함 | O |\n",
        "| 3. 한국어 Word2Vec을 활용하여 가시적인 성능향상을 달성했다. | 네이버 영화리뷰 데이터 감성분석 정확도를 85% 이상 달성함 | Accuracy : 86.35% |"
      ],
      "metadata": {
        "id": "Qdk0efsnMmAK"
      }
    },
    {
      "cell_type": "markdown",
      "source": [
        "## ✍ 회고"
      ],
      "metadata": {
        "id": "r3F3sysHM5Bz"
      }
    },
    {
      "cell_type": "markdown",
      "source": [
        "* RNN 모델 dense층 하나 줄이고 LSTM state 벡터의 차원수 늘리고 dropout해주니 86%가 넘었다. 층을 하나 줄여서일까? 정확도는 상승했으나 예측 모델의 결과에서 긍정 리뷰를 부정으로 인식하는 경우가 있었다. 과적합?"
      ],
      "metadata": {
        "id": "0MbW92qOOBSN"
      }
    },
    {
      "cell_type": "markdown",
      "source": [
        "* 며칠간 이 문서 안열다가 제출할 때 돼서 열었는데.. "
      ],
      "metadata": {
        "id": "2rJDPioBO6qm"
      }
    },
    {
      "cell_type": "markdown",
      "source": [
        "![error.JPG](data:image/jpeg;base64,/9j/4AAQSkZJRgABAQEAeAB4AAD/4RDmRXhpZgAATU0AKgAAAAgABAE7AAIAAAAJAAAISodpAAQAAAABAAAIVJydAAEAAAASAAAQzOocAAcAAAgMAAAAPgAAAAAc6gAAAAgAAAAAAAAAAAAAAAAAAAAAAAAAAAAAAAAAAAAAAAAAAAAAAAAAAAAAAAAAAAAAAAAAAAAAAAAAAAAAAAAAAAAAAAAAAAAAAAAAAAAAAAAAAAAAAAAAAAAAAAAAAAAAAAAAAAAAAAAAAAAAAAAAAAAAAAAAAAAAAAAAAAAAAAAAAAAAAAAAAAAAAAAAAAAAAAAAAAAAAAAAAAAAAAAAAAAAAAAAAAAAAAAAAAAAAAAAAAAAAAAAAAAAAAAAAAAAAAAAAAAAAAAAAAAAAAAAAAAAAAAAAAAAAAAAAAAAAAAAAAAAAAAAAAAAAAAAAAAAAAAAAAAAAAAAAAAAAAAAAAAAAAAAAAAAAAAAAAAAAAAAAAAAAAAAAAAAAAAAAAAAAAAAAAAAAAAAAAAAAAAAAAAAAAAAAAAAAAAAAAAAAAAAAAAAAAAAAAAAAAAAAAAAAAAAAAAAAAAAAAAAAAAAAAAAAAAAAAAAAAAAAAAAAAAAAAAAAAAAAAAAAAAAAAAAAAAAAAAAAAAAAAAAAAAAAAAAAAAAAAAAAAAAAAAAAAAAAAAAAAAAAAAAAAAAAAAAAAAAAAAAAAAAAAAAAAAAAAAAAAAAAAAAAAAAAAAAAAAAAAAAAAAAAAAAAAAAAAAAAAAAAAAAAAAAAAAAAAAAAAAAAAAAAAAAAAAAAAAAAAAAAAAAAAAAAAAAAAAAAAAAAAAAAAAAAAAAAAAAAAAAAAAAAAAAAAAAAAAAAAAAAAAAAAAAAAAAAAAAAAAAAAAAAAAAAAAAAAAAAAAAAAAAAAAAAAAAAAAAAAAAAAAAAAAAAAAAAAAAAAAAAAAAAAAAAAAAAAAAAAAAAAAAAAAAAAAAAAAAAAAAAAAAAAAAAAAAAAAAAAAAAAAAAAAAAAAAAAAAAAAAAAAAAAAAAAAAAAAAAAAAAAAAAAAAAAAAAAAAAAAAAAAAAAAAAAAAAAAAAAAAAAAAAAAAAAAAAAAAAAAAAAAAAAAAAAAAAAAAAAAAAAAAAAAAAAAAAAAAAAAAAAAAAAAAAAAAAAAAAAAAAAAAAAAAAAAAAAAAAAAAAAAAAAAAAAAAAAAAAAAAAAAAAAAAAAAAAAAAAAAAAAAAAAAAAAAAAAAAAAAAAAAAAAAAAAAAAAAAAAAAAAAAAAAAAAAAAAAAAAAAAAAAAAAAAAAAAAAAAAAAAAAAAAAAAAAAAAAAAAAAAAAAAAAAAAAAAAAAAAAAAAAAAAAAAAAAAAAAAAAAAAAAAAAAAAAAAAAAAAAAAAAAAAAAAAAAAAAAAAAAAAAAAAAAAAAAAAAAAAAAAAAAAAAAAAAAAAAAAAAAAAAAAAAAAAAAAAAAAAAAAAAAAAAAAAAAAAAAAAAAAAAAAAAAAAAAAAAAAAAAAAAAAAAAAAAAAAAAAAAAAAAAAAAAAAAAAAAAAAAAAAAAAAAAAAAAAAAAAAAAAAAAAAAAAAAAAAAAAAAAAAAAAAAAAAAAAAAAAAAAAAAAAAAAAAAAAAAAAAAAAAAAAAAAAAAAAAAAAAAAAAAAAAAAAAAAAAAAAAAAAAAAAAAAAAAAAAAAAAAAAAAAAAAAAAAAAAAAAAAAAAAAAAAAAAAAAAAAAAAAAAAAAAAAAAAAAAAAAAAAAAAAAAAAAAAAAAAAAAAAAAAAAAAAAAAAAAAAAAAAAAAAAAAAAAAAAAAAAAAAAAAAAAAAAAAAAAAAAAAAAAAAAAAAAAAAAAAAAAAAAAAAAAAAAAAAAAAAAAAAAAAAAAAAAAAAAAAAAAAAAAAAAAAAAAAAAAAAAAAAAAAAAAAAAAAAAAAAAAAAAAAAAAAAAAAAAAAAAAAAAAAAAAAAAAAAAAAAAAAAAAAAAAAAAAAAAAAAAAAAAAAAAAAAAAAAAAAAAAAAAAAAAAAAAAAAAAAAAAAAAAAAAAAAAAAAAAAAAAAAAAAAAAAAAAAAAAAAAAAAAAAAAAAAAAAAAAAAAAAAAAAAAAAAAAAAAAAAAAAAAAAAAAAAAAAAAAAAAAAAAAAAAAAAAAAAAAAAAAAAAAAAAAAAAAAAAAAAAAAAAAAAAAAAAAAAAAAAAAAAAAAAAAAAAAAAAAAAAAAAAAAAAAAAAAAAAAAAAAAAAAAAAAAAAAAAAAAAAAAAAAAAAAAAAAAAAAAAAAAAAAAAAAAAAAAAAAAAAAAAAAAAAAAAAAAAAAAAAAAAAAAAAAAAAAAAAAAAAAAAAAAAAAAAAAAAAAAAAAAAAAAAAAAAAAAAAAAAAAAAAAAAAAAAAAAAAAAAAAAAAAAAAAAAAAAAAAAAAAAAAAAAAAAAAAAAAAAAAAAAAAAAAAAAAAAAAAAAAAAAAAAAAAAAAAAAAAAAAAAAAAAAAAAAAAAAAAAAAAAAAAAAAAAAAAAAAAAAAAAAAAAAAAAAAAAAAAAAAAAAAAAAAAAAAAAAAAAAAAAAAAAAAAAAAAAAAAAAAAAAAAAAAAAAAAAAAAAAAAAAAAAAAAAAAAAAAAAAAAAAAAAAAAAAAAAAAAAAAAAAAAAAAAAAAAAAAAAAAAAAAAAAAAAAAAAAAAAAAAAAAAAAAAAAAAAAAAAAAAAAAAAAAAAAAAAAAAAAAAAAAAAAAAAAAAAAAAAAAAAAAAAAAAAAAAAAAAAAAAAAAAAAAAAAAAAAAAAAAAAAAAAAAAAAAAAAAAAAAAAAAAAAAAAAAAAAAAAAAAAAAAAAAAAAAAAAAAAAAAAAAAAAAAAAAAAAAAAAAAAAAAAAAAAAAAAAAAAAAEpVTUkgTEVFAAAABZADAAIAAAAUAAAQopAEAAIAAAAUAAAQtpKRAAIAAAADNDkAAJKSAAIAAAADNDkAAOocAAcAAAgMAAAIlgAAAAAc6gAAAAgAAAAAAAAAAAAAAAAAAAAAAAAAAAAAAAAAAAAAAAAAAAAAAAAAAAAAAAAAAAAAAAAAAAAAAAAAAAAAAAAAAAAAAAAAAAAAAAAAAAAAAAAAAAAAAAAAAAAAAAAAAAAAAAAAAAAAAAAAAAAAAAAAAAAAAAAAAAAAAAAAAAAAAAAAAAAAAAAAAAAAAAAAAAAAAAAAAAAAAAAAAAAAAAAAAAAAAAAAAAAAAAAAAAAAAAAAAAAAAAAAAAAAAAAAAAAAAAAAAAAAAAAAAAAAAAAAAAAAAAAAAAAAAAAAAAAAAAAAAAAAAAAAAAAAAAAAAAAAAAAAAAAAAAAAAAAAAAAAAAAAAAAAAAAAAAAAAAAAAAAAAAAAAAAAAAAAAAAAAAAAAAAAAAAAAAAAAAAAAAAAAAAAAAAAAAAAAAAAAAAAAAAAAAAAAAAAAAAAAAAAAAAAAAAAAAAAAAAAAAAAAAAAAAAAAAAAAAAAAAAAAAAAAAAAAAAAAAAAAAAAAAAAAAAAAAAAAAAAAAAAAAAAAAAAAAAAAAAAAAAAAAAAAAAAAAAAAAAAAAAAAAAAAAAAAAAAAAAAAAAAAAAAAAAAAAAAAAAAAAAAAAAAAAAAAAAAAAAAAAAAAAAAAAAAAAAAAAAAAAAAAAAAAAAAAAAAAAAAAAAAAAAAAAAAAAAAAAAAAAAAAAAAAAAAAAAAAAAAAAAAAAAAAAAAAAAAAAAAAAAAAAAAAAAAAAAAAAAAAAAAAAAAAAAAAAAAAAAAAAAAAAAAAAAAAAAAAAAAAAAAAAAAAAAAAAAAAAAAAAAAAAAAAAAAAAAAAAAAAAAAAAAAAAAAAAAAAAAAAAAAAAAAAAAAAAAAAAAAAAAAAAAAAAAAAAAAAAAAAAAAAAAAAAAAAAAAAAAAAAAAAAAAAAAAAAAAAAAAAAAAAAAAAAAAAAAAAAAAAAAAAAAAAAAAAAAAAAAAAAAAAAAAAAAAAAAAAAAAAAAAAAAAAAAAAAAAAAAAAAAAAAAAAAAAAAAAAAAAAAAAAAAAAAAAAAAAAAAAAAAAAAAAAAAAAAAAAAAAAAAAAAAAAAAAAAAAAAAAAAAAAAAAAAAAAAAAAAAAAAAAAAAAAAAAAAAAAAAAAAAAAAAAAAAAAAAAAAAAAAAAAAAAAAAAAAAAAAAAAAAAAAAAAAAAAAAAAAAAAAAAAAAAAAAAAAAAAAAAAAAAAAAAAAAAAAAAAAAAAAAAAAAAAAAAAAAAAAAAAAAAAAAAAAAAAAAAAAAAAAAAAAAAAAAAAAAAAAAAAAAAAAAAAAAAAAAAAAAAAAAAAAAAAAAAAAAAAAAAAAAAAAAAAAAAAAAAAAAAAAAAAAAAAAAAAAAAAAAAAAAAAAAAAAAAAAAAAAAAAAAAAAAAAAAAAAAAAAAAAAAAAAAAAAAAAAAAAAAAAAAAAAAAAAAAAAAAAAAAAAAAAAAAAAAAAAAAAAAAAAAAAAAAAAAAAAAAAAAAAAAAAAAAAAAAAAAAAAAAAAAAAAAAAAAAAAAAAAAAAAAAAAAAAAAAAAAAAAAAAAAAAAAAAAAAAAAAAAAAAAAAAAAAAAAAAAAAAAAAAAAAAAAAAAAAAAAAAAAAAAAAAAAAAAAAAAAAAAAAAAAAAAAAAAAAAAAAAAAAAAAAAAAAAAAAAAAAAAAAAAAAAAAAAAAAAAAAAAAAAAAAAAAAAAAAAAAAAAAAAAAAAAAAAAAAAAAAAAAAAAAAAAAAAAAAAAAAAAAAAAAAAAAAAAAAAAAAAAAAAAAAAAAAAAAAAAAAAAAAAAAAAAAAAAAAAAAAAAAAAAAAAAAAAAAAAAAAAAAAAAAAAAAAAAAAAAAAAAAAAAAAAAAAAAAAAAAAAAAAAAAAAAAAAAAAAAAAAAAAAAAAAAAAAAAAAAAAAAAAAAAAAAAAAAAAAAAAAAAAAAAAAAAAAAAAAAAAAAAAAAAAAAAAAAAAAAAAAAAAAAAAAAAAAAAAAAAAAAAAAAAAAAAAAAAAAAAAAAAAAAAAAAAAAAAAAAAAAAAAAAAAAAAAAAAAAAAAAAAAAAAAAAAAAAAAAAAAAAAAAAAAAAAAAAAAAAAAAAAAAAAAAAAAAAAAAAAAAAAAAAAAAAAAAAAAAAAAAAAAAAAAAAAAAAAAAAAAAAAAAAAAAAAAAAAAAAAAAAAAAAAAAAAAAAAAAAAAAAAAAAAAAAAAAAAAAAAAAAAAAAAAAAAAAAAAAAAAAAAAAAAAAAAAAAAAAAAAAAAAAAAAAAAAAAAAAAAAAAAAAAAAAAAAAAAAAAAAAAAAAAAAAAAAAAAAAAAAAAAAAAAAAAAAAAAAAAAAAAAAAAAAAAAAAAAAAAAAAAAAAAAAAAAAAAAAAAAAAAAAAAAAAAAAAAAAAAAAAAAAAAAAAAAAAAAAAAAAAAAAAAAAAAAAAAAAAAAAAAAAAAAAAAAAAAAAAAAAAAAAAAAAAAAAAAAAAAAAAAAAAAAAAAAAAAAAAAAAAAAAAAAAAAAAAAAAAAAAAAAAAAAAAAAAAAAAAAAAAAAAAAAAAAAAAAAAAAAAAAAAAAAAAAAAAAAAAAAAAAAAAAAAAAAAAAAAAAAAAAAAAAAAAAAAAAAAAAAAAAAAAAAAAAAAAAAAAAAAAAAAAAAAAAAAAAAAAAAAAAAAAAAAAAAAAAAAAAAAAAAAAAAAAAAAAAAAAAAAAAAAAAAAAAAAAAAAAAAAAAAAAAAAAAAAAAAAAAAAAAAAAAAAAAAAAAAAAAAAAAAAADIwMjI6MDg6MTggMjI6MTg6MjkAMjAyMjowODoxOCAyMjoxODoyOQAAAEoAVQBNAEkAIABMAEUARQAAAP/hCxtodHRwOi8vbnMuYWRvYmUuY29tL3hhcC8xLjAvADw/eHBhY2tldCBiZWdpbj0n77u/JyBpZD0nVzVNME1wQ2VoaUh6cmVTek5UY3prYzlkJz8+DQo8eDp4bXBtZXRhIHhtbG5zOng9ImFkb2JlOm5zOm1ldGEvIj48cmRmOlJERiB4bWxuczpyZGY9Imh0dHA6Ly93d3cudzMub3JnLzE5OTkvMDIvMjItcmRmLXN5bnRheC1ucyMiPjxyZGY6RGVzY3JpcHRpb24gcmRmOmFib3V0PSJ1dWlkOmZhZjViZGQ1LWJhM2QtMTFkYS1hZDMxLWQzM2Q3NTE4MmYxYiIgeG1sbnM6ZGM9Imh0dHA6Ly9wdXJsLm9yZy9kYy9lbGVtZW50cy8xLjEvIi8+PHJkZjpEZXNjcmlwdGlvbiByZGY6YWJvdXQ9InV1aWQ6ZmFmNWJkZDUtYmEzZC0xMWRhLWFkMzEtZDMzZDc1MTgyZjFiIiB4bWxuczp4bXA9Imh0dHA6Ly9ucy5hZG9iZS5jb20veGFwLzEuMC8iPjx4bXA6Q3JlYXRlRGF0ZT4yMDIyLTA4LTE4VDIyOjE4OjI5LjQ4ODwveG1wOkNyZWF0ZURhdGU+PC9yZGY6RGVzY3JpcHRpb24+PHJkZjpEZXNjcmlwdGlvbiByZGY6YWJvdXQ9InV1aWQ6ZmFmNWJkZDUtYmEzZC0xMWRhLWFkMzEtZDMzZDc1MTgyZjFiIiB4bWxuczpkYz0iaHR0cDovL3B1cmwub3JnL2RjL2VsZW1lbnRzLzEuMS8iPjxkYzpjcmVhdG9yPjxyZGY6U2VxIHhtbG5zOnJkZj0iaHR0cDovL3d3dy53My5vcmcvMTk5OS8wMi8yMi1yZGYtc3ludGF4LW5zIyI+PHJkZjpsaT5KVU1JIExFRTwvcmRmOmxpPjwvcmRmOlNlcT4NCgkJCTwvZGM6Y3JlYXRvcj48L3JkZjpEZXNjcmlwdGlvbj48L3JkZjpSREY+PC94OnhtcG1ldGE+DQogICAgICAgICAgICAgICAgICAgICAgICAgICAgICAgICAgICAgICAgICAgICAgICAgICAgICAgICAgICAgICAgICAgICAgICAgICAgICAgICAgICAgICAgICAgICAgICAgICAgCiAgICAgICAgICAgICAgICAgICAgICAgICAgICAgICAgICAgICAgICAgICAgICAgICAgICAgICAgICAgICAgICAgICAgICAgICAgICAgICAgICAgICAgICAgICAgICAgICAgICAKICAgICAgICAgICAgICAgICAgICAgICAgICAgICAgICAgICAgICAgICAgICAgICAgICAgICAgICAgICAgICAgICAgICAgICAgICAgICAgICAgICAgICAgICAgICAgICAgICAgIAogICAgICAgICAgICAgICAgICAgICAgICAgICAgICAgICAgICAgICAgICAgICAgICAgICAgICAgICAgICAgICAgICAgICAgICAgICAgICAgICAgICAgICAgICAgICAgICAgICAgCiAgICAgICAgICAgICAgICAgICAgICAgICAgICAgICAgICAgICAgICAgICAgICAgICAgICAgICAgICAgICAgICAgICAgICAgICAgICAgICAgICAgICAgICAgICAgICAgICAgICAKICAgICAgICAgICAgICAgICAgICAgICAgICAgICAgICAgICAgICAgICAgICAgICAgICAgICAgICAgICAgICAgICAgICAgICAgICAgICAgICAgICAgICAgICAgICAgICAgICAgIAogICAgICAgICAgICAgICAgICAgICAgICAgICAgICAgICAgICAgICAgICAgICAgICAgICAgICAgICAgICAgICAgICAgICAgICAgICAgICAgICAgICAgICAgICAgICAgICAgICAgCiAgICAgICAgICAgICAgICAgICAgICAgICAgICAgICAgICAgICAgICAgICAgICAgICAgICAgICAgICAgICAgICAgICAgICAgICAgICAgICAgICAgICAgICAgICAgICAgICAgICAKICAgICAgICAgICAgICAgICAgICAgICAgICAgICAgICAgICAgICAgICAgICAgICAgICAgICAgICAgICAgICAgICAgICAgICAgICAgICAgICAgICAgICAgICAgICAgICAgICAgIAogICAgICAgICAgICAgICAgICAgICAgICAgICAgICAgICAgICAgICAgICAgICAgICAgICAgICAgICAgICAgICAgICAgICAgICAgICAgICAgICAgICAgICAgICAgICAgICAgICAgCiAgICAgICAgICAgICAgICAgICAgICAgICAgICAgICAgICAgICAgICAgICAgICAgICAgICAgICAgICAgICAgICAgICAgICAgICAgICAgICAgICAgICAgICAgICAgICAgICAgICAKICAgICAgICAgICAgICAgICAgICAgICAgICAgICAgICAgICAgICAgICAgICAgICAgICAgICAgICAgICAgICAgICAgICAgICAgICAgICAgICAgICAgICAgICAgICAgICAgICAgIAogICAgICAgICAgICAgICAgICAgICAgICAgICAgICAgICAgICAgICAgICAgICAgICAgICAgICAgICAgICAgICAgICAgICAgICAgICAgICAgICAgICAgICAgICAgICAgICAgICAgCiAgICAgICAgICAgICAgICAgICAgICAgICAgICAgICAgICAgICAgICAgICAgICAgICAgICAgICAgICAgICAgICAgICAgICAgICAgICAgICAgICAgICAgICAgICAgICAgICAgICAKICAgICAgICAgICAgICAgICAgICAgICAgICAgICAgICAgICAgICAgICAgICAgICAgICAgICAgICAgICAgICAgICAgICAgICAgICAgICAgICAgICAgICAgICAgICAgICAgICAgIAogICAgICAgICAgICAgICAgICAgICAgICAgICAgICAgICAgICAgICAgICAgICAgICAgICAgICAgICAgICAgICAgICAgICAgICAgICAgICAgICAgICAgICAgICAgICAgICAgICAgCiAgICAgICAgICAgICAgICAgICAgICAgICAgICAgICAgICAgICAgICAgICAgICAgICAgICAgICAgICAgICAgICAgICAgICAgICAgICAgICAgICAgICAgICAgICAgICAgICAgICAKICAgICAgICAgICAgICAgICAgICAgICAgICAgICAgICAgICAgICAgICAgICAgICAgICAgICAgICAgICAgICAgICAgICAgICAgICAgICAgICAgICAgICAgICAgICAgICAgICAgIAogICAgICAgICAgICAgICAgICAgICAgICAgICAgICAgICAgICAgICAgICAgICAgICAgICAgICAgICAgICAgICAgICAgICAgICAgICAgICAgICAgICAgICAgICAgICAgICAgICAgCiAgICAgICAgICAgICAgICAgICAgICAgICAgICAgICAgICAgICAgICAgICAgICAgICAgICAgICAgICAgICAgICAgICAgICAgICAgICAgICAgICAgICAgICAgICAgICAgICAgICAKICAgICAgICAgICAgICAgICAgICAgICAgICAgIDw/eHBhY2tldCBlbmQ9J3cnPz7/2wBDAAcFBQYFBAcGBQYIBwcIChELCgkJChUPEAwRGBUaGRgVGBcbHichGx0lHRcYIi4iJSgpKywrGiAvMy8qMicqKyr/2wBDAQcICAoJChQLCxQqHBgcKioqKioqKioqKioqKioqKioqKioqKioqKioqKioqKioqKioqKioqKioqKioqKioqKir/wAARCALEA04DASIAAhEBAxEB/8QAHwAAAQUBAQEBAQEAAAAAAAAAAAECAwQFBgcICQoL/8QAtRAAAgEDAwIEAwUFBAQAAAF9AQIDAAQRBRIhMUEGE1FhByJxFDKBkaEII0KxwRVS0fAkM2JyggkKFhcYGRolJicoKSo0NTY3ODk6Q0RFRkdISUpTVFVWV1hZWmNkZWZnaGlqc3R1dnd4eXqDhIWGh4iJipKTlJWWl5iZmqKjpKWmp6ipqrKztLW2t7i5usLDxMXGx8jJytLT1NXW19jZ2uHi4+Tl5ufo6erx8vP09fb3+Pn6/8QAHwEAAwEBAQEBAQEBAQAAAAAAAAECAwQFBgcICQoL/8QAtREAAgECBAQDBAcFBAQAAQJ3AAECAxEEBSExBhJBUQdhcRMiMoEIFEKRobHBCSMzUvAVYnLRChYkNOEl8RcYGRomJygpKjU2Nzg5OkNERUZHSElKU1RVVldYWVpjZGVmZ2hpanN0dXZ3eHl6goOEhYaHiImKkpOUlZaXmJmaoqOkpaanqKmqsrO0tba3uLm6wsPExcbHyMnK0tPU1dbX2Nna4uPk5ebn6Onq8vP09fb3+Pn6/9oADAMBAAIRAxEAPwD3C8Ufbxx/Af5io9o9Kmvf+P8AH+4f5io6AG7R6VXW+sXufs63du0//PISru/LOa8X+J3jm81HWLnRNPmeCwtmMMwXgzODhsn+6Dxj2ye2OGvdKvtNitpru3kiiuoxLBLj5XUgHg+ozyO1efUxqjJqKvY+xwfDEq1GM61Tlctla/6r7j6p2j0o2j0ryT4U+Oru41BPD+rzvOrofsksjZZSoJKE9SMZx6YxXrtddKrGrHmR87mGAq4Cu6NT1T7o0rNR9lTj1/nU+welQ2f/AB6p+P8AOp61OAzdUuruwikuIba1e1hiMksk1y6FQMk/KsbZGB/9arlsXltYpLiDyJmRWki3BvLYjlcjrg8ZqlrH7yTTbVvuXF6m4jqPLVphj/gUSg+xP1rToATYPSjYPSvH9Sgk/trUZtb8S6BpHiEXk5sHutLebU44fMb7OLZhcKZFMe0BI4yrsZEdXcyhpNNsbO5sNXXTdEvF8WSatqY0zVmtHdYW+2ThHFzykUSndviJXfiT92/mgSAHrmwelGweleY6p9i+z6v9q+z/APCwvOu/7H37ftmPMf7H5PfyfL8vft/df67zefOqw/8AwiP2y9/4T/7B/wAJH9suPs/2nH23yPNf7L9kx+8/1fl7fI58zd/y130AdpoWqDWtOluvI8jy7y6tdu/dnybiSHdnA6+Xux2zjnGa0tg9K8sg0fT7bw6dehtIxq//AAlzxrfEbpo431sxPGjnlEZGYFFwp3vkZdsy/wDFP2Hjz/mEatqc2p+8OuWjNL/33NCA3/TNVtk/5aoeQD07YPSsaXVruGUTTaakdgbpbYSPMRMS0oiDeXsxtLEEHf8AdO7r8tc3qPw3+3apdXf2HwS32iZ5d114V86U7mJy7/aBvbnlsDJycCtqLW9K1TVjFeanZx/Z7poYLB7hRI8yOV3uuck7h8i/RuWKhAxqytZJ2Zam1p41nvEtEfSrVnW4uTNiQbCRIyx7fmVSCDlgTtbarfLu2dg9K5G5ljj8M6voTyKuq3TXq29oW/eS+dJI0bKO6kOCWHC4bcRtbHX0CpScnq+3yfYTYPSuX1Lx1o2nancWT3dizW7WyMTeIp3STNHICOxjC7mHoecda6mvP7HUbq/8WQNHo18izaxLeAu8HyxxWws5c4kPKysOBnK8jPSsaspRso9RV5yjZR6+Vzv9g9KwFm1u/wBW1SKxu9PtoLK5WBFmsnlZswxyElhKo6yEYx2roK4jxnDHpsz3dpBqEU13IrSTQXjiOZ9m0RrEt1CWkIRcbQSQMAE9HVbUbjrtxjck8KeMLjxBfWFvN/ZJ8/TmuphZXZmkRwYhh1wPL/1jfKSxyOvHPZbB6Vx/guU3/wBlke1liGm20llCyrFHHEp8n906efLIJF8tfvYwMgjNdjSouTheTuLDuTheTuJsHpRsHpXnl7E/9pXkmp61pOn6v9pl+ytPYtJepHvPk+SRKN4KbflRSGJZWDMXBks7a3mtdQFlplwNfe/vvsN+bdmWNvtMu1hNyscYOd0ZI3Yf5G3/ADz7Z3tb8f61J+sO9rfj/Wp3+welGwelcTffZvJ1Dz/K/wCEu8yf+zt2PtGN7fZ/L/6Z7Nm7Hyf6zf8A8tKmb/hH/tFz/wAJZ9k/tn7TL5PnY+0+V5jeR9nx8/3Nm3yud+7+PdVe1/r+uvkV7b+r/wBa+R0el3o1KzefyvK2XM8G3dnPlyvHnp32Zx2zisHxZ4iudDvoI7e5tIUlj3bbmBOTnqHkuYVPb5V3EdTjcuaMWnWkOjnVY4EGof8ACQMi3R5kRG1IoyKx5VSpYFRgHc2R8xzN4ns72419k0h76aXyUknhgmmAjBLKrf8AH3CgDbG4UE5Uk9RnOU5uGm+hlOc3Tst9BvhvxbcatrcdncXemSrIrYWN4EckDPyhLmYseOm1RjJ3cYbtdg9K4nQNI1gaxE2pwagkCfOWlvpkAI5HAvJg/PG1lAIyc8bW7ero83L7xrh+fk985zxJ4hl0WCTbZtACypFe3Elt5DMRkja9xGxOAwxx0zyBzW8N+KZ9W3RNa/b3WRRJPZPaiOFW6F1W6kbsxyOoHA45k1exvda1+aygvre3NpDHMji2mWRUkLKV82K4QkFoSSuAOE6kZDPD+g63Z/Zr28vLRZ5I08+GaO4uJIgcF40kkuXC8jBIGCVUkHAqP3jqXWxl+9dW6vb5f1+pLq2raha6pNDp00N2Y9u2zj0ueQltoIja4V/LjLZBywG0MpII5NyPVrmTxVFpkmnS20DW08ommKHzSjxKCm1yQMSEncAeV96iksln8RX0Gn6pqGnTNHDdXCwLC0chfdGrfvEYg4gAIGBgA9SaLDwxFpviCDUbcRM/2a4jurgwxxzXDySRurN5aKrY2Pz15HXJNX799O/6/wBdi/fvp3/X5/oQaprdwl80enzSwJHlHWXw7eXGWBOSHQqpHTGM+uTmr8WrC51mwt7eNlt7q0uJz58DxSBo5IlHyuAQP3jdRzwRx1ztTtrc6vdNrmmXGotIy/2Y8Fu0hhXYoKq68QSeZubzCU4ZPn+T5D7A0/iPw5HryW97e22mXEjyGMMonV7XMiZAwc5wQBjPalzSu/66i5ppv1XfuWFm1u/1bVIrG70+2gsrlYEWayeVmzDHISWEqjrIRjHaq3h3XtW1OfSBqdlYwRahpjXoa3md2ZgYexUbBiU8Zb68cznTvM8S6nFY6zqdjLIsN5OkSW7RkspiXBeNmzi35GcdMdaNJ8IWOharYTaTbW8MVvYSWs0gjVZZ2LQlWcqo3HEbZJ7t7mi073Xf9f67BapzXW1+/n/XY6HYPSsDXdRu7S+S306/tBO0YZbH7A9zO+SQG+WVAiE4XcwCg9WGa6CuR8UxEaikNla6xNfXi7ontr9xCu372YhcxYAAGWGFy68knBuq2o6GtZtQ0/X9CXQ9Xv7q9todV1PTFklUsLeKykT7QNpO6CYylZVxhsqCQpG4KTgXNe1ebTZ4oUNvZQSKWfUr1WaCI56ELgZPA+d4x8y7S5yowvDVibTUbfTL+w1i3niUSwkXzx26RLgAeX9rk3gEAEAEDcgIAIJm8T2d7ca+yaQ99NL5KSTwwTTARgllVv8Aj7hQBtjcKCcqSeozipT9n5/P+vuOdSqKl5/P+vuNHRtcmvdRFqtxY6xAylmv9NRljiP9xsl0z06Sb/mX5NuWqbVdT1ax1O1t7XTLGeK8n8iGSS+eNtwiaQ7lETYGI2HBPbpnjF0DSNYGsRNqcGoJAnzlpb6ZACORwLyYPzxtZQCMnPG1tuaxl1rVZJ5muLW2s1Mdoyko/nbvnmAOeAFCqSPmDSghkcZqLm49n/XcuDqOHZ3/AK3JYr68Gs2Fje29vC1xaXE8qxSNIFaOSJVwxVcgiQk5Xrj051tg9K5uyuLm68SaNJqEPk3S6dexzqFKqXWa3VmQHnYSCVJ5KkGulrWDvf8ArojanK9/66IyNRj1aJ5riDVNMtLKNd5+02LuY1A+Ys4mUY6nOBgfnWVoHiu41nXLeymg0+DfZSXE0EF4Z57d1aIbJV2L5ZG9gQcnIPTHNfXLGdPEY/siB9RnjVbp4LlGult3Z22SKJbqNEJKMF2Lldp5AIB0tDGsXeqm712wSJoIWjhlMaxMA7KWUKk8oYHYpJJUjaMbtx25Xk52X+a/4BhzTdSyutfVf8AvXcutpdOtjpunzQDGx5r942PHOVELAc57n+lVrDW3v9TsrfyEiWaG8My5LFZYJo4iFbjK5Z+SASNpwORVS91iCPxjaTG11Nora0uoJZE0u5dQ7SQFQCIzuBEbcjI468iqGj2KXGtaGNV03E0dtfXY+0xKR5zz28hkjU5ZBukYLuCuBwQDQ5vmsn/V0N1HzWi7/wDDr/glvxZ4iudDvoI7e5tIUlj3bbmBOTnqHkuYVPb5V3EdTjcuavhvxbcatrcdncXemSrIrYWN4EckDPyhLmYseOm1RjJ3cYZ3iezvbjX2TSHvppfJSSeGCaYCMEsqt/x9woA2xuFBOVJPUZZoGkawNYibU4NQSBPnLS30yAEcjgXkwfnjaygEZOeNrQ3U9rpt+Bk3V9tpe1/kdtsHpWNd+Ibax1ybTri2um8u2inWS2tZbjO9pFwRGh248vqeufatqua1i70SHWJHk8VRaNfiNIp1S5twzqMsgZZVbGN7EYAzu5zxjoqScVdHXVk4q6f9fgWB4mtJdT0+zt7W93Xk7RF7iynt1QCJ5M5dACfkxjOec9qYs2t3+rapFY3en20FlcrAizWTys2YY5CSwlUdZCMY7VkeGtW0vUbfRrvVvFsV9qLRxypZy3FsnlXDx7SAqKrZ+d1Ckn73TIBGqdO8zxLqcVjrOp2Msiw3k6RJbtGSymJcF42bOLfkZx0x1rKMnNJ+fT09TCM3OKe+vTTp6/qQeHde1bU59IGp2VjBFqGmNehreZ3ZmBh7FRsGJTxlvrxzt316LO806Dyt/wBuuTBu3Y2Yikkz05/1eMcdc9qy9J8IWOharYTaTbW8MVvYSWs0gjVZZ2LQlWcqo3HEbZJ7t7mn32iT61cXdxdH7K6R+Tp5IDmBlkEnnkA4OXjiYISeIxnG9lFR9oo2e5cfaxhZ6v8A4YvTXjx+I7PT1VPKntJ52Yg7g0bwqMe2JGz9BWhsHpXK6dplnp/i7TXtdGtNKml068E8dtGgDFZbcA7lA3DqQSAcHkKcgdXVwbd7/wBaGlOTd7/1oijY3ovLzUYPK2fYbkQbt2d+Yo5M9OP9ZjHPTPeqGm62+pT6IVgSKLUtMe+ZSSzIwMGFB4yMStnjnA6Vl3On6LD4g1ebxDoX22S5uUlgm/sl7vMQgiTG5Ebb86P8pIPfGCCTTdISO+8I2erWcTz2Oiy/JKqv5UyG1GQeRkHOCPwrPnle39b/AORj7Sd7ef6r9DX1S41HTbhLvzrSWwe5gg+zfZ2Eo8yRI8+ZvxwX3Y2cgY/2qYJ9W0/U9Ph1O5sbuK+na3At7R4GjYRPJuyZHyMRkYwPvZzxgyanoEuqXSytreoQRxyLKlvEsBjVlHBw0RLYPzfMThsEYIGM3QNLvNV03Q9b1DXtQmn+zR3HlGO3EQZ0UtgCLI4JXOdwDMARk5b5uayT/rfqVLm57JP7/PXqaOoaxcQXVzHp2nfbksYxJdlZCGGQT5cahW3ybRnYSv34+fmyJv7SEmuafbWzQy2t5ZTXIlQ7t2xoQpUg4IIlJ/L8aM1zPoWp6sY7G4vG1BlubQRRMVeURLEYmZQRGP3SHe+B+8P9wmqej+HrHw54j0W1sre3SVdHuI57iKBY2uGR7Yb2x1JOTyT1NHNK/wDXf9ROc7/P7tf1R1uwelc1rXiO40fXGtnGkw2rW0ckcuo3xtN7lnDqp2MHwAhI4I3DOdwx01cjqqmXxbd240/WL1VtIJ/9A1R4AjM0qnKmdFAxGuNo67ieoqqrkl7ppWclFcr1HWHiq41HWrGztv7EuI5ZGFwdP1M3ckSCNyGKiNdo3hF3EkZYDGSCN6+vRZ3mnQeVv+3XJg3bsbMRSSZ6c/6vGOOue1ctbWsdhq2iWlvo+t6dA9z5Q+1aq7xKqQyOqqiXDDrGOCu3GR6Vq6jY32tXc1zbM9t9hXGn+aWQSXAbLO46+X8qxgjBKPNjKupOcJT5XfV3Mqc6nK76u/8Al5I0Zrx4/Ednp6qnlT2k87MQdwaN4VGPbEjZ+gqtJqWoz6hd2+kadaTpZyCGV7q8aElyiyfKFjfI2yLySDnPHGTEtx9r8XaTN5MsBbTr0NFMu1kIltgQex5HUEg9QSCDTIb5NF1jWPt1vfEXd2k8LW9jNOrJ5ESZzGrAHdGwwcHjOMEE25eel/0Lc3feyv8AoXvttwuuafYzRQp9ospp5gjFtro0IwrYGR+8bkgE4HTpWkVHpXMyeRrPjHSJbzTHVYbS7ltxexLuyJLYrKq5JQ88bgrjnIFdDJdwJexWbPieWN5UTB5VCoY56cF1/P61UZXvf+ti4Su3fa/6ImgiSUMWGcHGKl+yw/3P1NR2X3Jf+un9BWZ4i1u5sDDp+j232rVrwHyEYERxqOsjnsoz06npWhqa/wBlh/ufqaPssP8Ac/U15x4b1LXtAXVL3U7mXWNOg1Ga3uyF/eQFcfvVGeUOeV/hwD0zj0qORZYlkTJV1DDIxwfY0AM+yw/3P1NH2WH+5+pqWsLW9WtLrQNft7O6VrmztJVmRTho28skfz6igDY+yw/3P1NH2WH+5+prG0XVrSz8P+Hra7uAtze2sSwxnJaQiMEnHp6npzW9QBF9lh/ufqaPssP9z9TVbW9UTRdEu9SljaVbaMv5a9WPYfnXMS+KdQ0eeP8A4SfUtKszcQtJFBBazyFc/dJcEg4PXjntQB2H2WH+5+po+yw/3P1Nctp3iTU0m0uXUJbG+03VJTBDc2sUkLJJhiAVcnIO0jtXXUAZ+o3el6Rai41S4itYSwQPLJtBY9h78H8qy/8AhMPCP/QZs/8Av9XLfGsbtJ0kYzm5YY/4DUH/AAiGgf8AQvf+QNS/+JoA7zTdZ0DWJmh0zULa6lUbikcuWx64rT+yw/3P1NeQ+DrO30/4ySW1nbfZYUtjti2yrjKKTxKA/fv+HFex0ARfZYf7n6ms601bQ7/UZbCzvYJrqLdvhSTLLtOD+Rri/itrniLQZ9OudJuxa2Z3KShBZpPRgRjGOn457VzWoeD/ABD4J0v/AISu01hPtfBuAiZKiQgHk5DfMR296APavssP9z9TR9lh/ufqa534fXOr3ng+2uddkWWWUl4pN25mjPILe/X8MV09AGXq1/peh2a3OpMY43kEabVZ2ZjnAAXJJwCfwrJ/4TTw563n/gDP/wDE1QubjUNf1qOMQxtHpGvqCykLtiEROTk8nLdvyrtpCGt3KkEbTyKAKti9jqVjDeWTCW3mXfG4JG4fjVj7LD/c/U1gfDz/AJJ9pH/XE/8AoRrpKAK0sdpbxmScpEg6s74A/EmiKO0uIxJAUlQ9GR8g/iDXkHxYvbey8XLE+m2935tskrGeWf72WXgLIFHCjt60fCi9t77xcYl023tfJtnlQwyz8NlV6NIynhj2oA9j+yw/3P1NH2WH+5+pqWigDAvf+P8AH+4f5io6kvf+P8f7h/mKjoA+WfENrLY+JtStp92+O6kUlhgt8xwfxHP416JqvjXRLT4aabor28WqXr2UYaJs7IDt6sw5z7A5+ldT47+G8HiqT7dYyra6kqhSzf6uUDpuwM59/wBDxXn0fwc8TvdGJzZRoP8Als0xKn6ADP6V4zo1qMpKCvc/SqeYZdmFGlPEVOVw1te2q/T0Mr4b281z8QtKEGQUkMjMB0UKSc/Xp+NfR9cr4J8DWfg+0dlkNzfTqBNORgAf3VHYZ/P8gOqrvwtF0qdpbs+Uz7MKePxXNS+GKsn38zTs/wDj1T8f51PUFn/x6p+P86nrqPACisPVL4RaqYLvV/7It1gR4pN0S+cxZw4zIpB2hU4GMb+eorT02ae50q0nvI/KuJYEeWPaV2MVBIweRg9jQBZqOC2gtYzHbQxwozvIVjUKCzMWZsDuWJJPckmpKKACiiigAooooAKKKKACiiigAqGOztopFkit4kdd+GVACN7bn5/2mAJ9SMmpqKAsFVk02xi1GTUI7K3S9lXZJcrEokdeOC2MkfKOPYelWaKVkxNJ7lZ9NsZdRj1CSyt3vYl2R3LRKZEXngNjIHzHj3PrVmiiiyQJJbBTIoYoEKQRpGpZnKooALMSzHjuSSSe5Jp9FMYUUUUAFU9Q0fTNW8v+1NOtL3ys+X9pgWTZnGcbgcZwPyq5RSaTVmJpNWZm2nhvQ7C6S5sdG0+2nTOyWG1RGXIwcEDI4JFaVFFCSWwKKjokU9Q0fTNW8v8AtTTrS98rPl/aYFk2ZxnG4HGcD8qhtPDeh2F0lzY6Np9tOmdksNqiMuRg4IGRwSK0qKXLG97C5It3tqU9Q0fTNW8v+1NOtL3ys+X9pgWTZnGcbgcZwPypljoOkaXOZtM0qys5WXYZLe2SNiuQcZAHGQOPar9FHLG97ByRve2oUwwxNOszRoZUUoshUblUkEgH0JVcj2HpT6Koop6ho+mat5f9qadaXvlZ8v7TAsmzOM43A4zgflTLHQdI0uczaZpVlZysuwyW9skbFcg4yAOMgce1X6Knlje9ieSN721Cq19ptjqkAh1Oyt7yJW3iO4iWRQ2CM4IPOCeferNFNpPRjaTVmU9P0fTNJ8z+y9OtLLzceZ9mgWPfjOM7QM4yfzo1DR9M1by/7U060vfKz5f2mBZNmcZxuBxnA/KrlFHKrWtoLljbltoZtp4b0OwukubHRtPtp0zslhtURlyMHBAyOCRWlRRQklsNRUdEhhhiadZmjQyopRZCo3KpIJAPoSq5HsPSn0UUxlPUNH0zVvL/ALU060vfKz5f2mBZNmcZxuBxnA/KmWOg6Rpc5m0zSrKzlZdhkt7ZI2K5BxkAcZA49qv0VPLG97E8kb3tqFMMMTTrM0aGVFKLIVG5VJBIB9CVXI9h6U+iqKKeoaPpmreX/amnWl75WfL+0wLJszjONwOM4H5VDaeG9DsLpLmx0bT7adM7JYbVEZcjBwQMjgkVpUVPLG97E8kW721CiiiqKCqeoaPpmreX/amnWl75WfL+0wLJszjONwOM4H5VcopNJqzE0mrMoWOg6Rpc5m0zSrKzlZdhkt7ZI2K5BxkAcZA49qv0UUJJaIFFRVkMMMTTrM0aGVFKLIVG5VJBIB9CVXI9h6U+iimMKYYYmnWZo0MqKUWQqNyqSCQD6EquR7D0p9FABTIYYreCOG3jSKKNQiRooVUUDAAA6ADtT6KACmGGJp1maNDKilFkKjcqkgkA+hKrkew9KfRQAVT1DR9M1by/7U060vfKz5f2mBZNmcZxuBxnA/KrlFJpNWYmk1ZlCx0HSNLnM2maVZWcrLsMlvbJGxXIOMgDjIHHtV+iihJLRAoqKshhhiadZmjQyopRZCo3KpIJAPoSq5HsPSn0UUxjDDE06zNGhlRSiyFRuVSQSAfQlVyPYelOPSlooALL7kv/AF0/oKs1kz/boWLWDxDd1WVCw/QioPtOvetj/wB+X/8Ai6AHeGdLudL/ALX+1qo+1anNcxbWzlGxg+x46Vt1hfade9bH/vy//wAXR9p171sf+/L/APxdAG7XN+LPCn9uWss+myiy1XyXiWcDiVGGDHJ6qfXqDyO4M/2nXvWx/wC/L/8AxdH2nXvWx/78v/8AF0AVvCPhP+w7dLrU5vtmqtCsLTHkQxqMCJPRRjr3PJrpqwvtOvetj/35f/4uj7Tr3rY/9+X/APi6ANe7tIb+ymtLuMSQToY5EPdSMGsfTfDEmmZWHXdUkgCMkcM0iOsYIwMErn5e2T2pftOvetj/AN+X/wDi6PtOvetj/wB+X/8Ai6AEsvCkUGqRahf6lf6pPAD5Au5FKREjBYKqgbscZNb1YX2nXvWx/wC/L/8AxdH2nXvWx/78v/8AF0AV/Gvg9PGGn29ub1rN7eTzEkEe/tgjGR/OuY/4VRq3/Q63n/fl/wD47XX/AGnXvWx/78v/APF0fade9bH/AL8v/wDF0Acj4b8Dar4a+IkF3c3T6nay27qbsqQVbA+VgScexzXpdYX2nXvWx/78v/8AF0fade9bH/vy/wD8XQBi+Ovh/J4x1GzuYtR+yiGNo3V1LjrkFVyOeufoPSuEstF8XeKdSbwxq+oXMNlZF8yyQkxnYdoweN3bGT716r9p171sf+/L/wDxdH2nXvWx/wC/L/8AxdADfBnht/Cvh1NPmujdSeYzs/O0Z7KD0GB+ea36wvtOvetj/wB+X/8Ai6PtOvetj/35f/4ugDgNabTp9S1rR9Wu7OzWbVvOeS5zvjj8pfmjXGCTyMnpmr2i63/ZXh/TNB8P65oM04aSNvtLSncXkJQLtA7Ng57117Ta4xyw08n3gb/4ugSa2DkLp4P/AF7t/wDF0AXPDektoXhyy0x5RM1tHtZwMAnOT/OtOsL7Tr3rY/8Afl//AIuj7Tr3rY/9+X/+LoA4H4q+E9b1jxPb3ul2El1B9lWMmPB2sGY4I/EUfCrwnrej+J7i91SwktYBatGDJgbmLKQAP+Amu++06962P/fl/wD4uj7Tr3rY/wDfl/8A4ugDdorC+06962P/AH5f/wCLo+06962P/fl//i6AG3v/AB/j/cP8xUdSXv8Ax/j/AHD/ADFR0AFFFFABRRRQBp2f/Hqn4/zqeoLP/j1T8f51PQBlTi5s9amvIrGa8jnt4ogIGjBQo0hOd7LwfMGMZ6HOOM2dItHsNFsbOYq0lvbxxOUPBKqAce3FPvNSsdP2fb723tfMzs8+VU3Y64yeeo/OrNABRUcFzBdRmS2mjmRXeMtGwYBlYqy5HcMCCOxBFDXMC3SWzTRi4kRpEiLDcyqVDMB1IBdQT23D1FAElFFRrcwNdPbLNGbiNFkeIMNyqxYKxHUAlGAPfafQ0ASUUUUAFFFFABRUbXMC3SWzTRi4kRpEiLDcyqVDMB1IBdQT23D1FSUAFFFFABRRRQAUVHc3MFnay3N3NHBbwoZJZZWCrGoGSxJ4AAGSTUlABRUbXMC3SWzTRi4kRpEiLDcyqVDMB1IBdQT23D1FSUAFFRtcwLdJbNNGLiRGkSIsNzKpUMwHUgF1BPbcPUVJQAUVSvta0vTLq0ttS1Kzs7i9fy7WK4nWNp2yBtQE5Y5ZRgZ6j1qy1zAt0ls00YuJEaRIiw3MqlQzAdSAXUE9tw9RQBJRUa3MDXT2yzRm4jRZHiDDcqsWCsR1AJRgD32n0NRT6hbW99a2Usv+k3W8wxKpZiFGWY4HCjIBY4GWUZyyggFmiiigAooqNbmBrp7ZZozcRosjxBhuVWLBWI6gEowB77T6GgCSio2uYFuktmmjFxIjSJEWG5lUqGYDqQC6gntuHqKkoAKKja5gW6S2aaMXEiNIkRYbmVSoZgOpALqCe24eoqSgAoqsdRslsZr1ry3Fpb+Z505lXy4/LJEm5s4G0qwOehBz0qzQAUVGtzA109ss0ZuI0WR4gw3KrFgrEdQCUYA99p9DUlABRRUbXMC3SWzTRi4kRpEiLDcyqVDMB1IBdQT23D1FAElFFFABRRRQAUUUUAFFFFABRRRQAUUUUAFFFFABRRRQAUUUUAFFFFABRRRQAUUUUAFFFFABRRRQAUUUUAFGKKKADFGKKKADFGKKKADFGKKKADFGKKKADFGKKKADFGKKKADFGKKKADFGKKKADFGKKKADFGKKKADFGKKKADFGKKKADFGKKKAMm9/4/wAf7h/mKjqS9/4/x/uH+YqOgAooooAKKKKANOz/AOPVPx/nU9QWf/Hqn4/zqegDKnFzZ61NeRWM15HPbxRAQNGChRpCc72Xg+YMYz0OccZd4b/5FXSf+vKH/wBAFS3WmGe6Nzb3lxZzMgjkaAId6qSVBDq3Qs3THXnPGLNtbxWdrFbW67IYUWONck4UDAGT7UAee6Fqet6PpMt9mwOlHxLdWf2bynaeXz9Vki8zzdwVNrS52bHyE+8C/wAnW3V5s8eaVZfZ7dvO0y9m89kzKmyW1G1W7K3mZYdyielH/CLWX9jf2Z5tx5P9p/2nu3Lu837Z9rx0xt8zjGM7eM55q7LpUE2vWurM0guLW2mtkUEbSsrRMxIxnOYVxz3PXjABzcHiHWJPFhsLm60yxJuXjh0q7tZY5rmFSf3kNzv2SnywJSqRnbuEblT84r2dt4i/4W3rDLqmmC3FhYM8Z02Qs0Hn3m1A3n4DgBsvgg5HyDBB2p/CoutQElzrOpzWC3KXQ0yR4mhEiyCVTvKedgSAOF8zAwFxs+SrN1oIm16PVrTUbywuNkcVytuImW7jjZmRHEiMQAZJOUKk7zk8LgAxLvxRqkem6l4ktxZjQtKe5WezeFjdTrbO6TOsgcIhzG5VCrbgq5dN58uzZ6j4i1XxTq9tbS6Za6bpV/FbkyW8k01wrW8MrLxIqxkeYQG+fO4fKNmXs3PhG0uLqX/TLyPTblzJdaShj+y3LscsWBQuAx5ZFZUc7tytvfdpWGlQafealcwtIz6lcrczByCFYQxxYXjgbYlPOeSfoADAu/FN7bWOqWRit/8AhIIrz7JYwFW8ufziTbS7c72jCZMrL0MFxtBCV1lYEHh2eTxYdc1a4s7h4UeKzjt7MxFFJODIzO/mOql1VgEwJZuP3hALmz8XtdStaa5okVuXJijl0aZ2Vc8AsLpQxA6kAZ9B0oApT6dZW3xf029trO3hu7zRr77TPHEqyT7JbILvYDLYHAz0FdZVKXSoJtetdWZpBcWttNbIoI2lZWiZiRjOcwrjnuevGLtAHA6j4n1u31S6hg1LZHHM6Iv/AAhGpz7QGIA8xJAr/wC8oAPUcGu+oooA80uvHfiK0hv7xv7Mkt7dNWvUhFrIrGDT7jyWiL+aRvkDKRJtwm0/I+4bdq78UapHpupeJLcWY0LSnuVns3hY3U62zukzrIHCIcxuVQq24KuXTefLs3PgHS7qzubaSe8CXNtqVs5V1yFvphLMR8vUMAF9B13das3PhG0uLqX/AEy8j025cyXWkoY/sty7HLFgULgMeWRWVHO7crb33AHL+NtT1vWfh14svtMNhHpUNnqFm1tcRP58vlCSKWQShtqYZXKpsbcFXLIXPly3XxDvf7QvLiwsby4sbG5ltWsYtBvZ5roxSNHIyXKL5KncrbUIYHaNzxlz5e1rXgW01m11Cx/tXU7HTdSSQXVhZSxxxSPIDukBKF1JJ3FVYIxyWVt77rNz4VEl1K1jrOp6ZaXDmS4sbJ4kilZjl2DFDJGX6kxunJLjDszEAjvv+So6H/2BtR/9HWVdHVKXSoJtetdWZpBcWttNbIoI2lZWiZiRjOcwrjnuevGM25s/F7XUrWmuaJFblyYo5dGmdlXPALC6UMQOpAGfQdKAKU+nWVt8X9Nvbazt4bu80a++0zxxKsk+yWyC72Ay2BwM9BXWVSl0qCbXrXVmaQXFrbTWyKCNpWVomYkYznMK457nrxiR7PfqkF79ouF8mGSHyFfET72Q7mXuy+XhT2Dv60AcfZ23iL/hbesMuqaYLcWFgzxnTZCzQefebUDefgOAGy+CDkfIMEHfurzZ480qy+z27edpl7N57JmVNktqNqt2VvMyw7lE9KuxaVBDr11qytIbi6tobZ1JG0LE0rKQMZzmZs89h05yS6VBNr1rqzNILi1tprZFBG0rK0TMSMZzmFcc9z14wAcnZ23iL/hbesMuqaYLcWFgzxnTZCzQefebUDefgOAGy+CDkfIMEHW8Pf6R4t8WXU3zTQ3kFijdMQJaxTKmOnElzM2evz4zgAC7daCJtej1a01G8sLjZHFcrbiJlu442ZkRxIjEAGSTlCpO85PC4kfSdviJNXtZvJkkhW2u42Tcs8Sb2jxz8jK8jEEcEOwIJ2MgBzCeKPEUeiap4kuxpg0jSrm+WWzihkNxPBbTyoXEhcKj7Y8hCrBiv30D/u4r/wAb6hY+IFXzre5s21OKw+z2+kXbqN86wZN/nydyltzJt4ZWizuG6tbSfAWk6dcSXMwkuLiS/uL9gJZI4XkkneZGeEP5bum5QHZS37tCMbVALnwPFO0sUWtanb2ElybxbCIQGKO4MvnCUM0RkyJv3oBcrnggp8lABZ6j4i1XxTq9tbS6Za6bpV/FbkyW8k01wrW8MrLxIqxkeYQG+fO4fKNmXzrO28Rf8Lb1hl1TTBbiwsGeM6bIWaDz7zagbz8BwA2XwQcj5Bgg9ZYaVBp95qVzC0jPqVytzMHIIVhDHFheOBtiU855J+grXWgibXo9WtNRvLC42RxXK24iZbuONmZEcSIxABkk5QqTvOTwuACO6vNnjzSrL7Pbt52mXs3nsmZU2S2o2q3ZW8zLDuUT0rm7/wAb6hY+IFXzre5s21OKw+z2+kXbqN86wZN/nydyltzJt4ZWizuG6uxl0qCbXrXVmaQXFrbTWyKCNpWVomYkYznMK457nrxjEufA8U7SxRa1qdvYSXJvFsIhAYo7gy+cJQzRGTIm/egFyueCCnyUAS33/JUdD/7A2o/+jrKujqlLpUE2vWurM0guLW2mtkUEbSsrRMxIxnOYVxz3PXjGbc2fi9rqVrTXNEity5MUcujTOyrngFhdKGIHUgDPoOlAHOaosCeJrrQBJINCv7+3k1BhGDFBPIGf7LuzsVJjEhkVlyTcgYf7UGi9CrFl8LWU2h6lpjy3H/ExmluJbvcvnpKzbkdXxw0WEEZIJQRRgfdFRXNn4va6la01zRIrcuTFHLo0zsq54BYXShiB1IAz6DpQBi2dt4i/4W3rDLqmmC3FhYM8Z02Qs0Hn3m1A3n4DgBsvgg5HyDBB0bPUfEWq+KdXtraXTLXTdKv4rcmS3kmmuFa3hlZeJFWMjzCA3z53D5Rsy+ldaCJtej1a01G8sLjZHFcrbiJlu442ZkRxIjEAGSTlCpO85PC4s2GlQafealcwtIz6lcrczByCFYQxxYXjgbYlPOeSfoADjr/xvqFj4gVfOt7mzbU4rD7Pb6Rduo3zrBk3+fJ3KW3Mm3hlaLO4bq6S6vNnjzSrL7Pbt52mXs3nsmZU2S2o2q3ZW8zLDuUT0qjc+B4p2lii1rU7ewkuTeLYRCAxR3Bl84ShmiMmRN+9ALlc8EFPkrbl0qCbXrXVmaQXFrbTWyKCNpWVomYkYznMK457nrxgA5ODxR4iNsdXuRpg01NcfShaxwyGaVTfm0WXzS+1CMglNj7th+Zd+E7msX/hFrL+xv7M8248n+0/7T3bl3eb9s+146Y2+ZxjGdvGc81daxnfXkv2vJBbxWzQpaJkKzOylpH5wxARQvA25k5beNoBdooooAKKKKACiiigAooooAKKKKACiiigAooooAKKKKACiiigAooooAKKKKACiiigAooooAKKKKACiiigAooooAKKKKACiiigAooooAKKKKACiiigAooooAKKKKACiiigAooooAKKKKACiiigAooooAyb3/j/AB/uH+YqOpL3/j/H+4f5io6ACiiigAooooA07P8A49U/H+dQanqL6cLcraSTrNPHEzqyhYt7qgJycn73GAenOOtT2f8Ax6p+P86p6/8A8g2L/r9tP/SiOgCW6vpxdG00+3juLhEEsgmlMSIhJC8hWJJKtgAfwnJHGZ7O7S9tRNEGUbmRlccoysVZTjjIYEcZHHBIrPmuYNN8QXF1qE0drbz2sMcc0zhULI8pZcngHDqQD15xnBxPokbxaafNRkMlxPMquMHa8zuuQeQdrA4PI6HBoAtWn/HnD/uD+VTVDaf8ecP+4P5VNQAUUUUAQ2n/AB5w/wC4P5VNUNp/x5w/7g/lU1ABRRRQBDaf8ecP+4P5VNUNp/x5w/7g/lU1ABRRRQBDaf8AHnD/ALg/lU1Q2n/HnD/uD+VTUAFFFFAENp/x5w/7g/lU1Q2n/HnD/uD+VTUAFFFFABRXkWm2Nnc2GrrpuiXi+LJNW1MaZqzWjusLfbJwji55SKJTu3xErvxJ+7fzQJK+r3Gnx+In1Fbvw5purQa5GZraW3zq62yXiiWU3DTb1ia3VpCPL2rA237g3UAey1mwat53ii+0fydv2Sztrrzt/wB/zXnXbjHGPIznPO7tjnnNE8PaRqPjbxVqOo6db3l3a6zCbaS5TzPs5WxtGDRhshGzjLKATtXJO1cUpNF8IaZ8W7q51fTdEs7i9trKTT5bqCGNp7zz7kyNEWGWly0JYrluY89RQB3Lz3K6pBAlpvtHhkeW680Dy3VkCJs6ncGc5HA8vB+8Ks1zl9/yVHQ/+wNqP/o6yrz3V7jT4/ET6it34c03VoNcjM1tLb51dbZLxRLKbhpt6xNbq0hHl7Vgbb9wbqAPU59W8nxRY6P5O77XZ3N152/7nlPAu3GOc+fnOeNvfPGlXOX3/JUdD/7A2o/+jrKujoAKK4HUdPuV1S68FxRZ0zXZnvTJuH7u1Zi19FjO47pGUbtwYfbsoMQmu+oAzYNW87xRfaP5O37JZ21152/7/mvOu3GOMeRnOed3bHOlXnsmi+ENM+Ld1c6vpuiWdxe21lJp8t1BDG09559yZGiLDLS5aEsVy3Meeoq7onh7SNR8beKtR1HTre8u7XWYTbSXKeZ9nK2NowaMNkI2cZZQCdq5J2rgA7Wqzz3K6pBAlpvtHhkeW680Dy3VkCJs6ncGc5HA8vB+8K8j1e40+PxE+ord+HNN1aDXIzNbS2+dXW2S8USym4abesTW6tIR5e1YG2/cG6vQr7/kqOh/9gbUf/R1lQB0dFeVwaPp9t4dOvQ2kY1f/hLnjW+I3TRxvrZieNHPKIyMwKLhTvfIy7Z9LfULaPVINOeXF3cQyTxR7T8yRsiuc4wMGVOCcnPHQ4ALNFFFABRRRQAUUUUAFFFFABRRRQAUUUUAFFFFABRRRQAUUUUAFFFFABRRRQAUUUUAFFFFABRRRQAUUUUAFFFFABRRRQAUUUUAFFFFABRRRQAUUUUAFFFFABRRRQAUUUUAFFFFABRRRQAUUUUAFFFFABRRRQAUUUUAZN7/AMf4/wBw/wAxUdSXv/H+P9w/zFR0AFFFFABRRRQBp2f/AB6p+P8AOp6gs/8Aj1T8f51T1qe8tobaWznjjT7VBHKrRbmdXlRcA5wvBOeD14x1oA06KzNanvLaG2ls5440+1QRyq0W5nV5UXAOcLwTng9eMda06AIbT/jzh/3B/KpqhtP+POH/AHB/KpqACiiigCG0/wCPOH/cH8qmqG0/484f9wfyqagAooooAhtP+POH/cH8qmqG0/484f8AcH8qmoAKKKKAIbT/AI84f9wfyqaobT/jzh/3B/KpqACiiigCG0/484f9wfyqaobT/jzh/wBwfyqagAooooAjgtoLWMx20McKM7yFY1CgszFmbA7liST3JJqSsmfxPpNtrA0ya4kFxvSNnFvI0Mcj42RvMF8tHbcuEZgx3pgfOua0HjfQLrUDZ295JI63L2ckotZfJinWQxmJ5duxHLAAKzAtuTAO9cgG/RWTP4n0m21gaZNcSC43pGzi3kaGOR8bI3mC+WjtuXCMwY70wPnXMeoeLtH0y+ktbua4DQ4+0TRWc0sNtkBv3syIY4sKQx3suFIY4BBoA2qK47w343s7oTWep3kkl4urXtmZRav5MW27ljhieVV8tHKCMBWYM25OCXGdf/hLtH/tT7B51xv877P9o+xzfZvN3bdn2jZ5W7f8mN2d/wAn3uKANqsC58B+ELy6lubvwrok9xM5klll06FmkYnJYkrkkk5JNFz4z0y1upbeW11tnicoxi0G9kUkHBwywlWHoQSD2NWZ/E+k22sDTJriQXG9I2cW8jQxyPjZG8wXy0dty4RmDHemB865ALNjoul6ZdXdzpum2dncXr+ZdS28CxtO2SdzkDLHLMcnPU+tZtz4D8IXl1Lc3fhXRJ7iZzJLLLp0LNIxOSxJXJJJySaIPG+gXWoGzt7ySR1uXs5JRay+TFOshjMTy7diOWAAVmBbcmAd65sz+J9JttYGmTXEguN6Rs4t5GhjkfGyN5gvlo7blwjMGO9MD51yAa1FYuoeLtH0y+ktbua4DQ4+0TRWc0sNtkBv3syIY4sKQx3suFIY4BBrI8N+N7O6E1nqd5JJeLq17ZmUWr+TFtu5Y4YnlVfLRygjAVmDNuTglxkA7GisX/hLtH/tT7B51xv877P9o+xzfZvN3bdn2jZ5W7f8mN2d/wAn3uK2qACo1toFunuVhjFxIixvKFG5lUsVUnqQC7EDtuPqakooAKKKKACiiigAooooAKKKKACiiigAooooAKKKKACiiigAooooAKKKKACiiigAooooAKKKKACiiigAooooAKKKKACiiigAooooAKKKKACiiigAooooAKKKKACiiigAooooAKKKKACiiigAooooAKKKKACiiigAooooAyb3/j/H+4f5io6kvf8Aj/H+4f5io6ACiiigAooooA07P/j1T8f51Bq9vLdWUccC7mF1byEZA+VZkZjz6AE1PZ/8eqfj/OpZJUiUNK6opYKCxwMk4A+pJA/GgCnq9vLdWUccC7mF1byEZA+VZkZjz6AE1eqtealY6fs+33tva+ZnZ58qpux1xk89R+dWaAIbT/jzh/3B/KpqhtP+POH/AHB/KpqACiiigCG0/wCPOH/cH8qmqG0/484f9wfyqagAooooAhtP+POH/cH8qmqG0/484f8AcH8qmoAKKKKAIbT/AI84f9wfyqaobT/jzh/3B/KpqACiiigCG0/484f9wfyqaobT/jzh/wBwfyqagAooooA80u/BZhbUtNuND1vWYtRubmYTW2vy2tkVuJXcxzReepQKXKtsjk3KN2CzFBZ03Q/EWpeHNX0C7t7O30jU7/U0luXaSO6hglu58hYipVyytlZC6gCRTscJ8/fQXMF1GZLaaOZFd4y0bBgGVirLkdwwII7EEVJQBw15omrf8I9rHhCHT5JbfV3vSuriWMQ28d1JJI+9C3mb081gFVWV8Jl03N5d2y/tnw0tzplpoNxqqzXlzdW97FcQxQr587y7Zd7+Ym1pCCUSTKgMMklF6hbmBrp7ZZozcRosjxBhuVWLBWI6gEowB77T6GpKAOK/4R/U/wDhDfsP2b/Sf+El+3bPMX/Uf2v9o35zj/VfNjr2xnij7HrNp4ozoulahYJJeb7p/tkMum3ERfLv5bN5schQu37tEBmbLmRRvPYwXMF1GZLaaOZFd4y0bBgGVirLkdwwII7EEVJQBgXPgzTLq6luJbrW1eVy7CLXr2NQScnCrMFUegAAHYVyd34LMLalptxoet6zFqNzczCa21+W1sitxK7mOaLz1KBS5Vtkcm5RuwWYoPS6ja5gW6S2aaMXEiNIkRYbmVSoZgOpALqCe24eooA4HTdD8Ral4c1fQLu3s7fSNTv9TSW5dpI7qGCW7nyFiKlXLK2VkLqAJFOxwnz2bzRNW/4R7WPCEOnyS2+rveldXEsYht47qSSR96FvM3p5rAKqsr4TLpuby+5ooA5Oy/tnw0tzplpoNxqqzXlzdW97FcQxQr587y7Zd7+Ym1pCCUSTKgMMklFrf8I/qf8Awhv2H7N/pP8Awkv27Z5i/wCo/tf7RvznH+q+bHXtjPFdrWf/AMJBo32z7H/a9j9p8zyvI+0pv35xt25znPGKCXKMd2c19j1m08UZ0XStQsEkvN90/wBshl024iL5d/LZvNjkKF2/dogMzZcyKN56hr6f+3ksI7KRrf7M0012cqsbblEcYyMOWHmE4Py7BkfOubRljEywmRRK6llQt8zAYBIHoNw/MetV/wC1dO/tL+z/ALfa/bf+fbzl8zpu+7nPTn6UDckt2W6KKKBhRRRQAUUUUAFFFFABRRRQAUUUUAFFFFABRRRQAUUUUAFFFFABRRRQAUUUUAFFFFABRRRQAUUUUAFFFFABRRRQAUUUUAFFFFABRRRQAUUUUAFFFFABRRRQAUUUUAFFFFABRRRQAUUUUAFFFFABRRRQAUUUUAFFFFAGTe/8f4/3D/MVHUl7/wAf4/3D/MVHQAUUUUAFFFFAGnZ/8eqfj/Os/wARW0EtrazywxvNDe23lSMgLR5njBwe2R1xWhZ/8eqfj/Oi7tEvYVilLBVljlG085Rw4/DKigCC6eK0ujJBD5t/coI0jDEblQk5PXaqlzlsdwOSVBl02z/s/SrSy3+Z9mgSLfjG7aoGcdulQXOlNNqD3lvqF1aSPEkTiERkMFLEffRufnPSr0SGOJEaRpGVQC7gZY+pwAM/QCgCO0/484f9wfyqaobT/jzh/wBwfyqagAooooAhtP8Ajzh/3B/KpqhtP+POH/cH8qmoAKKKKAIbT/jzh/3B/KpqhtP+POH/AHB/KpqACiiigCG0/wCPOH/cH8qmqG0/484f9wfyqagAooooAhtP+POH/cH8qmqG0/484f8AcH8qmoAKKKKAPONG1PW9D8MaxrbGwbRdN1PVp5rQRO1zPEl7O0jrJuCow+bEZRg2wZdd/wAlm/8AG+oWPiBV863ubNtTisPs9vpF26jfOsGTf58ncpbcybeGVos7hurWh8C2kLXEP9q6nJpt3czXV1pkssbW87yytIwOU3hMtgxqyowGGVtz7y58DxTtLFFrWp29hJcm8WwiEBijuDL5wlDNEZMib96AXK54IKfJQBnWdt4i/wCFt6wy6ppgtxYWDPGdNkLNB595tQN5+A4AbL4IOR8gwQdGHUfEWttcX2gy6ZBY29zNbJa3tvI8ty0ErRuTKsgEIZ0ZR8kmAA5ySY10rrQRNr0erWmo3lhcbI4rlbcRMt3HGzMiOJEYgAyScoVJ3nJ4XFa58KiS6lax1nU9MtLhzJcWNk8SRSsxy7BihkjL9SY3Tklxh2ZiAcvoWp63o+ky32bA6UfEt1Z/ZvKdp5fP1WSLzPN3BU2tLnZsfIT7wL/J6PWL/wAItZf2N/Znm3Hk/wBp/wBp7ty7vN+2fa8dMbfM4xjO3jOeaiubPxe11K1prmiRW5cmKOXRpnZVzwCwulDEDqQBn0HSgDNg8Q6xJ4sNhc3WmWJNy8cOlXdrLHNcwqT+8hud+yU+WBKVSM7dwjcqfnGvdXmzx5pVl9nt287TL2bz2TMqbJbUbVbsreZlh3KJ6VFP4VF1qAkudZ1OawW5S6GmSPE0IkWQSqd5TzsCQBwvmYGAuNnyVpS6VBNr1rqzNILi1tprZFBG0rK0TMSMZzmFcc9z14wAYF5eeKIvFEFhZalpF2kkyzS2o0yVXt7Qvgs832ggMVDKnyfO4OFCq7Jk3XxDvf7QvLiwsby4sbG5ltWsYtBvZ5roxSNHIyXKL5KncrbUIYHaNzxlz5e/Z+Ep7DVJ7u18TaukdzeNeTWpS1ZJCzZ2FzAZCoUBB8+VRVUEBRiS58KiS6lax1nU9MtLhzJcWNk8SRSsxy7BihkjL9SY3Tklxh2ZiAYGo+J9bt9UuoYNS2RxzOiL/wAIRqc+0BiAPMSQK/8AvKAD1HBraiTVfD8Jkmns5rSXUWxAkDCQC4uSAfM34yPNBI2dsZ/irpKyf+Efi8//AI/Lr7J9o+0/Yvk8vzN/mbs7d/8ArPnxuxnj7vFBjUi3qt/6/r9CKS0t4fHdpcRQRJPPYXPnSqgDSbXtwu49TgcDPSi5tYbll0nTk2pFeJd3UuSViYTCfbz1d252/wAKtk4+QNpvZRyanDfEt5sMMkKgH5SHKE59/wB2P1qjbaHJZzs1vrF8kDXDzm22wlMu5dlyY92CWP8AFnnrQS4O700f+S/M1qKpNYzvryX7Xkgt4rZoUtEyFZnZS0j84YgIoXgbcyctvG27QdAUUUUAFFFFABRRRQAUUUUAFFFFABRRRQAUUUUAFFFFABRRRQAUUUUAFFFFABRRRQAUUUUAFFFFABRRRQAUUUUAFFFFABRRRQAUUUUAFFFFABRRRQAUUUUAFFFFABRRRQAUUUUAFFFFABRRRQAUUUUAFFFFABRRRQBk3v8Ax/j/AHD/ADFR1Je/8f4/3D/MVHQAUUUUAFFFFAGnZ/8AHqn4/wA6iv8AU4dOMAnSZjPKkSeXEzAFmVRubooyw6kZ7ZPFS2f/AB6p+P8AOqev/wDINi/6/bT/ANKI6AJbrUzBdG2t7K4vJlQSSLAUGxWJCkl2XqVbpnpzjjNm2uIry1iubdt8MyLJG2CMqRkHB9qrXSm8ujbW+o3FpNCgkkWBEOVYkKSXRu6N0/HtTfD7iTw1pjrGsataREImcKNg4GSTj6k0AWrT/jzh/wBwfyqaobT/AI84f9wfyqagAooooAhtP+POH/cH8qmqG0/484f9wfyqagAooooAhtP+POH/AHB/KpqhtP8Ajzh/3B/KpqACiiigCG0/484f9wfyqaobT/jzh/3B/KpqACiiigCG0/484f8AcH8qmqG0/wCPOH/cH8qmoAKKKKACiuGv7nVIbq+8IRzXhuNUuTJZ6gGbdDZzFnuG8zqrxESIhAKp5tmDncayb+51X7euv6YLj7L/AG/FYtdXGuT7tv29bWVBYiP7Pt++inO7btkJ8zNAHoUuqwQ69a6SyyG4uraa5RgBtCxNErAnOc5mXHHY9OMyPebNUgsvs9w3nQyTeeqZiTYyDazdmbzMqO4R/SsW+/5Kjof/AGBtR/8AR1lUl5czr8RtHtlmkFvJpN/I8QY7WZZrMKxHQkB2APbcfU0AaWtarBoWg6hq12sj29hbSXMqxAFmVFLEAEgZwOMkVdryvxiqan8NvGWsavq15Y31omoWawpetFDEil0hiaAnYxljMbZdS588FCo8vbLf3Oq/b11/TBcfZf7fisWurjXJ9237etrKgsRH9n2/fRTndt2yE+ZmgD0KLVYJteutJVZBcWttDcuxA2lZWlVQDnOcwtnjuOvOJHvNmqQWX2e4bzoZJvPVMxJsZBtZuzN5mVHcI/pXH2fhuxb4t6xcGfU98dhYXQA1W6Cl2nvCQV8zaU+UYjI2DnCjcc7V5czr8RtHtlmkFvJpN/I8QY7WZZrMKxHQkB2APbcfU0Ab9Fee391dt4e13xMb28j13S7m6gtLFLmRYd0cjLbQNbA7XM6mI/MDI32gGNl/dba0C3cGinxAdW1OW+Hih7ONZL2Qwx27aubcxeSDsYeWzAF1ZlyNpAVAoB6XVLWtVg0LQdQ1a7WR7ewtpLmVYgCzKiliACQM4HGSKu15X4xVNT+G3jLWNX1a8sb60TULNYUvWihiRS6QxNATsYyxmNsupc+eChUeXtAPVKpRarBNr11pKrILi1tobl2IG0rK0qqAc5zmFs8dx15x57f3Oq/b11/TBcfZf7fisWurjXJ9237etrKgsRH9n2/fRTndt2yE+Zmtaz8N2LfFvWLgz6nvjsLC6AGq3QUu094SCvmbSnyjEZGwc4UbjkA7mivML+51X7euv6YLj7L/AG/FYtdXGuT7tv29bWVBYiP7Pt++inO7btkJ8zNaOo+GNbuNUupoNN3xyTO6N/wm+pwbgWJB8tIyqf7qkgdBwKAOsfVt3iJNItYfOkjhW5u5GfasET71jxx87M8bAAcAIxJB2K9eXxTZQ6HqWpvFcf8AEumlt5bTavnvKrbURUzy0uUMYJBcSxkfeFVvD3+j+LfFlrN8s015BfIvXMD2sUKvnpzJbTLjr8mcYIJwNUlRvE11ryQRnQLC/t4tQGW2zzIGVrogHYwgZoAXbG3yJ9wLQQlAD0KiiuGv7nVIbq+8IRzXhuNUuTJZ6gGbdDZzFnuG8zqrxESIhAKp5tmDncaAO5qlLqsEOvWuksshuLq2muUYAbQsTRKwJznOZlxx2PTjPnt/c6r9vXX9MFx9l/t+Kxa6uNcn3bft62sqCxEf2fb99FOd23bIT5ma6y+/5Kjof/YG1H/0dZUAdHRUbXMC3SWzTRi4kRpEiLDcyqVDMB1IBdQT23D1FSUAFFcNf3OqQ3V94QjmvDcapcmSz1AM26GzmLPcN5nVXiIkRCAVTzbMHO413NABRXDX9zqkN1feEI5rw3GqXJks9QDNuhs5iz3DeZ1V4iJEQgFU82zBzuNZN/c6r9vXX9MFx9l/t+Kxa6uNcn3bft62sqCxEf2fb99FOd23bIT5maAPQpdVgh1610llkNxdW01yjADaFiaJWBOc5zMuOOx6cZiTVtviJ9IuofJkkha5tJFfcs8SbFkzx8jK8igg8EOpBJ3qmdff8lR0P/sDaj/6OsqPEP8ApHi3wnaw/NNDeT3zr0xAlrLCz56cSXMK46/PnGASADo6Kja5gW6S2aaMXEiNIkRYbmVSoZgOpALqCe24eoqSgAooooAKKKKACiiigAooooAKKKKACiiigAooooAKKKKACiiigAooooAKKKKACiiigAooooAKKKKACiiigAooooAKKKKACiiigAooooAKKKKACiiigAooooAyb3/j/H+4f5io6kvf+P8AH+4f5io6ACiiigAooooA07P/AI9U/H+dSyRpKoWVFdQwYBhkZByD9QQD+FRWf/Hqn4/zqnrU95bQ20tnPHGn2qCOVWi3M6vKi4BzheCc8HrxjrQBavNNsdQ2fb7K3uvLzs8+JX2564yOOg/KrNUdWuJYbVYbRtl1dOIIGwDsYgkvg8HaoZsHrtx1NGiXEt54f0+5uG3zTWsUkjYAyxQEnA96ALFp/wAecP8AuD+VTVDaf8ecP+4P5VNQAUUUUAQ2n/HnD/uD+VTVDaf8ecP+4P5VNQAUUUUAQ2n/AB5w/wC4P5VNUNp/x5w/7g/lU1ABRRRQBDaf8ecP+4P5VNUNp/x5w/7g/lU1ABRRRQBDaf8AHnD/ALg/lU1Q2n/HnD/uD+VTUAFFFFAEbW0DXSXLQxm4jRo0lKjcqsVLKD1AJRSR32j0FZtz4U8O3mpS6jd6Dpk99MhjlupbONpZFKeWVLkZIKHaQe3HSpH8QaYmh3usNc4sLH7R9om8tvk8hnWXjGTtaNxwDnHGcio5/E+k22sDTJriQXG9I2cW8jQxyPjZG8wXy0dty4RmDHemB865ANJraBrpLloYzcRo0aSlRuVWKllB6gEopI77R6ChraBrpLloYzcRo0aSlRuVWKllB6gEopI77R6CslvF2jjXJdHjmuJ7+CZIJ4bazmm8hnVWQyFEIjUq4IdiFOG5+RsZHhvxvZ3Qms9TvJJLxdWvbMyi1fyYtt3LHDE8qr5aOUEYCswZtycEuMgG/e+HdE1O+F7qWj2F3diFrcTz2qSSCJgwZNxGdpDsCOhDH1NR3PhTw7ealLqN3oOmT30yGOW6ls42lkUp5ZUuRkgodpB7cdKJ/E+k22sDTJriQXG9I2cW8jQxyPjZG8wXy0dty4RmDHemB865j/4S7R/7U+wedcb/ADvs/wBo+xzfZvN3bdn2jZ5W7f8AJjdnf8n3uKALt9oul6ndWlzqWm2d5cWT+Zay3ECyNA2QdyEjKnKqcjHQelWWtoGukuWhjNxGjRpKVG5VYqWUHqASikjvtHoKzZ/E+k22sDTJriQXG9I2cW8jQxyPjZG8wXy0dty4RmDHemB865rXPjPTLW6lt5bXW2eJyjGLQb2RSQcHDLCVYehBIPY0AaUui6XPrEOrTabZyalAhjhvXgUzRrz8qvjcB8zcA/xH1qT+zrL7P9n+x2/k+d9o8vyl2+b5nmb8Yxu8z589d3PXmqTXF9H4ugtnuImsprOaRIVhwysjQjLMSc/fbGAvXnPBqtd3M+keL9PHnSSWOtu9u0LsX8m5SIyIyZ+6jRwyhgCRuEZCgtIxCYyvfyC58GaZdXUtxLda2ryuXYRa9exqCTk4VZgqj0AAA7Crt74d0TU74XupaPYXd2IWtxPPapJIImDBk3EZ2kOwI6EMfU1pUUFGTc+FPDt5qUuo3eg6ZPfTIY5bqWzjaWRSnllS5GSCh2kHtx0qzfaLpep3Vpc6lptneXFk/mWstxAsjQNkHchIypyqnIx0HpV2igDJufCnh281KXUbvQdMnvpkMct1LZxtLIpTyypcjJBQ7SD246VrUUUAVp9Ptri+tb2WL/SbXeIZVYqwDDDKcHlTgEqcjKqcZVSA6dZNYzWTWdubS48zzoDEvlyeYSZNy4wdxZic9STnrVmigDAufBmmXV1LcS3Wtq8rl2EWvXsagk5OFWYKo9AAAOwrba2ga6S5aGM3EaNGkpUblVipZQeoBKKSO+0egqSigDJufCnh281KXUbvQdMnvpkMct1LZxtLIpTyypcjJBQ7SD246VpNbQNdJctDGbiNGjSUqNyqxUsoPUAlFJHfaPQVJRQBW/s+2/tT+0TFuuxD5CyMxOxN24hQThcnG4gAttTOdq4s0UUAZtnoNhY6pPqMS3El3PuBkubqWfywzbmWMSMREpIXKoFB2rx8oxSufBmmXV1LcS3Wtq8rl2EWvXsagk5OFWYKo9AAAOwrfooAja2ga6S5aGM3EaNGkpUblVipZQeoBKKSO+0egrNufCnh281KXUbvQdMnvpkMct1LZxtLIpTyypcjJBQ7SD246VrUUARtbQNdJctDGbiNGjSUqNyqxUsoPUAlFJHfaPQVFBp9tb311exRf6TdbBNKzFmIUYVRk8KMkhRgZZjjLMTZooArf2fbf2p/aJi3XYh8hZGYnYm7cQoJwuTjcQAW2pnO1cWaKKACiiigAooooAKKKKACiiigAooooAKKKKACiiigAooooAKKKKACiiigAooooAKKKKACiiigAooooAKKKKACiiigAooooAKKKKACiiigAooooAKKKKACiiigDJvf+P8AH+4f5io6kvf+P8f7h/mKjoAKKKKACiiigDTs/wDj1T8f51Bq9vLdWUccC7mF1byEZA+VZkZjz6AE1PZ/8eqfj/Op6AM+90prvUIryPULq1kiiaJRCIyMMQW++jcnav5fXJoFpNYeHdPtbosZobdEcMVJUhR8vy8YHT8Op61oUUAQ2n/HnD/uD+VTVzy+C9PeMLf3F5fvGnl20tzKDJajj/VsoBDcD5uWOBkmn/8ACJw7/tP9pah/aOQP7R3p52wA/u/ubNnJO3bgnB6gGs+afb8Tq9nQ/wCfn4f8Hbv17Jm9RWAPB1hBg6dcXmnysCLiW2lAe6yckyEg5bJPzcMM8EUh8F6WiGCza4srGRQk9jbOFhnA4+YYJGRwSpBb+LNHNPt+Iezw/wDO/wDwH/g/d+NjatP+POH/AHB/Kpq59fBmmqBAXnbTtwc6YzKbYsO+3GcZGduduecZo/4Q2wmX/iYXF5fyImy3muZsyWo6/u2UAhuB8xyxwMk0c0+34h7Oh/O/u/4P3/g2dBRWAfCFnITPcXV5NqOV2ak7qLiMDoqkKFC8nK7cHJyDQPCFmjfaILq8g1EsWk1KN18+XIxh8qVZcAYXbgYGAKOafb8f6/rqHs6H8/4f8Hb8fI2bT/jzh/3B/Kpq55fBenRw/Z4J7yG1kXF1bpKNt4cklpTjJY5wSCCRgHIAFPPg7TSxiJmOnFxIdLLL9l3DvsxnGeduduecUc0+34h7Oh/O/u/4O/4eZvUVgDwbpr7Yrx7i9s48m3srmQPFbk8ZXjOQCQMk7f4cUg8IWzYefUNQnuYlC2t1LKpltBkH92dvU4AJYMWHDEjijmn2/EPZ0P5393/B+/8AC5tWn/HnD/uD+VTVz6eDrGELLbXV5BqG7L6jG6+fLxjDkqVZcAAKVwMDAFKPB1hBg6dcXmnysCLiW2lAe6yckyEg5bJPzcMM8EUc0+34h7Oh/P8Ah/wdu3Xukb9Fc+fBelohgs2uLKxkUJPY2zhYZwOPmGCRkcEqQW/izTj4O02Vgl4ZruzjLG3sZ2Uw2xOfuKACMAkLknaOFxRzT7fiHs8P/O//AAH/AIO/ztbrfQ2LT/jzh/3B/Kpq55fBenvGFv7i8v3jTy7aW5lBktRx/q2UAhuB83LHAyTTj4Qs5CZ7i6vJtRyuzUndRcRgdFUhQoXk5Xbg5OQaOafb8Q9nQ/n/AA/4P3/gmb9FYA8I26EyQahqEF1KT9qu45VEt0DgYc7ccAYXaBt524yaQ+C9LRDBZtcWVjIoSextnCwzgcfMMEjI4JUgt/Fmjmn2/H+v67h7Oh/P+H/B+78bFO/8M3Nx4xV4mxot5NFqN9HgfNdW4VYhnO758QP8vyj7Hgg+a1YF34LMLalptxoet6zFqNzczCa21+W1sitxK7mOaLz1KBS5Vtkcm5RuwWYoOtPg7TSxiJmOnFxIdLLL9l3DvsxnGeduduecU3/hDbBlEc9xeT20W42tvJNlbRiCN0ZxuDDPykk7f4cUc0+34h7Oh/O/u/4O/wCHn0JtC0+5s9Z8Sz3MWyO+1NJ7dtwO9BZ28ZPB4+eNxg4PGehFcuul6/ceFtb8J3GhyQpq1zqSx6mLmJoYYLm4mYO67g+8LISEVWBygLpltnRnwhZyEz3F1eTajldmpO6i4jA6KpChQvJyu3Bycg0DwhZo32iC6vINRLFpNSjdfPlyMYfKlWXAGF24GBgCjmn2/H+v66h7Oh/P+H/B2/HyMW80TVv+Ee1jwhDp8ktvq73pXVxLGIbeO6kkkfehbzN6eawCqrK+Ey6bm8uT7HrNp4ozoulahYJJeb7p/tkMum3ERfLv5bN5schQu37tEBmbLmRRvOsPB1hBg6dcXmnysCLiW2lAe6yckyEg5bJPzcMM8EUDwbpahYB539mKVb+y8qbYsAMErjJ5GSM7S3zEEkmjmn2/EPZ4f+d/d/wfu/Fo5O78FmFtS0240PW9Zi1G5uZhNba/La2RW4ldzHNF56lApcq2yOTco3YLMUHWXPgzTLq6luJbrW1eVy7CLXr2NQScnCrMFUegAAHYUDwbpr7Yrx7i9s48m3srmQPFbk8ZXjOQCQMk7f4cUn/CG2Ey/wDEwuLy/kRNlvNczZktR1/dsoBDcD5jljgZJo5p9vxD2eH/AJ3/AOA/8H7/AMLmhNazP4msrtUzBFZ3EbvkcMzwlRjryEb8qoXdtPq/i/Tz5MkdjojvcNM6lPOuXiMaKmfvIsc0pYgAbjGAxKyKF/4ROHf9p/tLUP7RyB/aO9PO2AH939zZs5J27cE4PUA0g8HWEGDp1xeafKwIuJbaUB7rJyTISDlsk/NwwzwRRzT7fiSqNBN/vN/L/g7duvdI36KKK0OcKKKKACiiigAooooAKKKKACiiigAooooAKKKKACiiigAooooAKKKKACiiigAooooAKKKKACiiigAooooAKKKKACiiigAooooAKKKKACiiigAooooAKKKKACiiigAooooAKKKKACiiigAooooAKKKKACiiigAooooAKKKKACiiigDKukaTUMIrMdh4Az3FJ9mn/wCeMn/fBq7b/wDIaP8A1xP8xWlQBgfZp/8AnjJ/3waPs0//ADxk/wC+DW/RQBgfZp/+eMn/AHwaPs0//PGT/vg1v0UAUbWN1tkDIwPPBHvU21v7p/KrFFAFfa390/lRtb+6fyqxRQBX2t/dP5UbW/un8qsUUAV9rf3T+VG1v7p/KrFFAFfa390/lRtb+6fyqxRQBX2t/dP5UbW/un8qsUUAV9rf3T+VG1v7p/KrFFAFfa390/lRtb+6fyqxRQBX2t/dP5UbW/un8qsUUAV9rf3T+VG1v7p/KrFFAFfa390/lRtb+6fyqxRQBX2t/dP5UbW/un8qsUUAV9rf3T+VG1v7p/KrFFAFfa390/lRtb+6fyqxRQBX2t/dP5UbW/un8qsUUAV9rf3T+VG1v7p/KrFFAFfa390/lRtb+6fyqxRQBX2t/dP5UbW/un8qsUUAV9rf3T+VG1v7p/KrFFAFfa390/lRtb+6fyqxRQBX2t/dP5UbW/un8qsUUAV9rf3T+VG1v7p/KrFFAFfa390/lRtb+6fyqxRQBX2t/dP5UbW/un8qsUUAV9rf3T+VG1v7p/KrFFAFfa390/lRtb+6fyqxRQBX2t/dP5UbW/un8qsUUAV9rf3T+VG1v7p/KrFFAFfa390/lRtb+6fyqxRQBX2t/dP5UbW/un8qsUUAV9rf3T+VG1v7p/KrFFAFfa390/lRtb+6fyqxRQBX2t/dP5UbW/un8qsUUAV9rf3T+VG1v7p/KrFFAFfa390/lRtb+6fyqxRQBX2t/dP5UbW/un8qsUUAV9rf3T+VG1v7p/KrFFAFfa390/lRtb+6fyqxRQBX2t/dP5UbW/un8qsUUAV9rf3T+VG1v7p/KrFFAFfa390/lRtb+6fyqxRQBX2t/dP5UbW/un8qsUUAV9rf3T+VG1v7p/KrFFAFfa390/lRtb+6fyqxRQBX2t/dP5UbW/un8qsUUAV9rf3T+VG1v7p/KrFFAFfa390/lRtb+6fyqxRQBX2t/dP5UbW/un8qsUUAV9rf3T+VG1v7p/KrFFAFfa390/lRtb+6fyqxRQBm2/8AyGj/ANcT/MVpVm2//IaP/XE/zFaVABRRRQAUUUUAFcxZ674k1RbifTND0prWO7uLZGuNWkjdvJmeIsVFuwGShOMnrXT15poF94Os5buXVvE8dlqEOs37vbSeIJIFUi9lK5g80JgjBwVw2cnOaAPS6K8s0+ztLix1VdP0e6HieTU9RGnao1q7rC32uYK4uOViiU53REruxJ+7fzAJLmpfY/s+q/afI/4Tzzrr+yd2PteN7/ZPJ/6Y7Nm7b+7/ANb5nPm0Aej1n6Lqn9sWElz5Pk+Xd3Ntt3bs+TO8W7OB12Zx2zjnrXIN/wAIt9qvP+E4+w/8JB9rn8j7Rj7Z5Pmt9m+y4+f/AFezb5PPmbv+Wm+qcGk2NvoB1uK1jGqf8JU0a3pGZo0bWDGyI55RGRmBVcKd75HzNkA9LrH/ALdlHjGPQn0yeOOS0luUvXkTZL5bQqVVQS3/AC25LBfu8bgcjYrn7z/kpGjf9gm//wDR1nQBoatqn9m/Yo44fPuL27jtoYt23dnLSNnGPliSR8HGdm0ckVlz+JNStpxcXOjxxaSb5bISyXLLclmnECv5Jj27DIQQfM5jIbGflqTSf+Jx4kvdabm3s/M02x99rj7S/Y8yoseGHH2fcpxJWZB4n0HXfEBg1LW9Oh+x3zW1rpMl3GJpbiOUp5kiE5J3r+7Tkfdc5YoIwC/c+KpoY7rUorCOTQbB5Uu703BWZfKYrK6Q7DuRGVgSWVjsfarfJv6SvPL64hh8EeIfCsssa69fvqa2mnFh51x9ommeJkX+JCsikuPlXD7iux9vodABRRRQAUUUUAFFFFABRRRQAUUUUAFFFFABRRRQAUUUUAFFFFABRRRQAUUUUAFFFFABRRRQAUUUUAFFFFABRRRQAUUUUAFFFFABRRRQAUUUUAFFFFABRRRQAUUUUAFFFFABRRRQAUUUUAFFFFABRRRQAUUUUAFFFFABRRRQAUUUUAFFFFABRRRQAUUUUAFFFFABRRRQAUUUUAFFFFABRRRQAUUUUAFFFFABRRRQAUUUUAZtv/yGj/1xP8xWlWbb/wDIaP8A1xP8xWlQAUUUUAFFFFABRRWLPruow3MkcfhTV50Ryqyxy2YWQA/eG6cHB68gH1ApN2KjFy2NaC3htoyltFHEhdnKxqFBZmLM2B3LEknuSTUlYs+u6jDcyRx+FNXnRHKrLHLZhZAD94bpwcHryAfUCifXdRhuZI4/CmrzojlVljlswsgB+8N04OD15APqBRzIr2cvL71/mbVFYs+u6jDcyRx+FNXnRHKrLHLZhZAD94bpwcHryAfUCifXdRhuZI4/CmrzojlVljlswsgB+8N04OD15APqBRzIPZy8vvX+ZtUViz67qMNzJHH4U1edEcqssctmFkAP3hunBwevIB9QKJ9d1GG5kjj8KavOiOVWWOWzCyAH7w3Tg4PXkA+oFHMg9nLy+9f5m1RWLPruow3MkcfhTV50Ryqyxy2YWQA/eG6cHB68gH1Aon13UYbmSOPwpq86I5VZY5bMLIAfvDdODg9eQD6gUcyD2cvL71/mbVFYs+u6jDcyRx+FNXnRHKrLHLZhZAD94bpwcHryAfUCifXdRhuZI4/CmrzojlVljlswsgB+8N04OD15APqBRzIPZy8vvX+ZtUViz67qMNzJHH4U1edEcqssctmFkAP3hunBwevIB9QKJ9d1GG5kjj8KavOiOVWWOWzCyAH7w3Tg4PXkA+oFHMg9nLy+9f5m1RWLPruow3MkcfhTV50Ryqyxy2YWQA/eG6cHB68gH1Aon13UYbmSOPwpq86I5VZY5bMLIAfvDdODg9eQD6gUcyD2cvL71/mbVFYs+u6jDcyRx+FNXnRHKrLHLZhZAD94bpwcHryAfUCifXdRhuZI4/CmrzojlVljlswsgB+8N04OD15APqBRzIPZy8vvX+ZtUViz67qMNzJHH4U1edEcqssctmFkAP3hunBwevIB9QKJ9d1GG5kjj8KavOiOVWWOWzCyAH7w3Tg4PXkA+oFHMg9nLy+9f5m1RWLPruow3MkcfhTV50Ryqyxy2YWQA/eG6cHB68gH1Aon13UYbmSOPwpq86I5VZY5bMLIAfvDdODg9eQD6gUcyD2cvL71/mbVFYs+u6jDcyRx+FNXnRHKrLHLZhZAD94bpwcHryAfUCifXdRhuZI4/CmrzojlVljlswsgB+8N04OD15APqBRzIPZy8vvX+ZtUViz67qMNzJHH4U1edEcqssctmFkAP3hunBwevIB9QKJ9d1GG5kjj8KavOiOVWWOWzCyAH7w3Tg4PXkA+oFHMg9nLy+9f5m1RWLPruow3MkcfhTV50Ryqyxy2YWQA/eG6cHB68gH1Aon13UYbmSOPwpq86I5VZY5bMLIAfvDdODg9eQD6gUcyD2cvL71/mbVFYs+u6jDcyRx+FNXnRHKrLHLZhZAD94bpwcHryAfUCifXdRhuZI4/CmrzojlVljlswsgB+8N04OD15APqBRzIPZy8vvX+ZtUViz67qMNzJHH4U1edEcqssctmFkAP3hunBwevIB9QKJ9d1GG5kjj8KavOiOVWWOWzCyAH7w3Tg4PXkA+oFHMg9nLy+9f5m1RWLPruow3MkcfhTV50Ryqyxy2YWQA/eG6cHB68gH1Aon13UYbmSOPwpq86I5VZY5bMLIAfvDdODg9eQD6gUcyD2cvL71/mbVFYs+u6jDcyRx+FNXnRHKrLHLZhZAD94bpwcHryAfUCifXdRhuZI4/CmrzojlVljlswsgB+8N04OD15APqBRzIPZy8vvX+ZtUViz67qMNzJHH4U1edEcqssctmFkAP3hunBwevIB9QKJ9d1GG5kjj8KavOiOVWWOWzCyAH7w3Tg4PXkA+oFHMg9nLy+9f5m1RWLPruow3MkcfhTV50Ryqyxy2YWQA/eG6cHB68gH1Aon13UYbmSOPwpq86I5VZY5bMLIAfvDdODg9eQD6gUcyD2cvL71/mbVFYs+u6jDcyRx+FNXnRHKrLHLZhZAD94bpwcHryAfUCifXdRhuZI4/CmrzojlVljlswsgB+8N04OD15APqBRzIPZy8vvX+ZtUViz67qMNzJHH4U1edEcqssctmFkAP3hunBwevIB9QKJ9d1GG5kjj8KavOiOVWWOWzCyAH7w3Tg4PXkA+oFHMg9nLy+9f5m1RWLPruow3MkcfhTV50Ryqyxy2YWQA/eG6cHB68gH1Aon13UYbmSOPwpq86I5VZY5bMLIAfvDdODg9eQD6gUcyD2cvL71/mbVFYs+u6jDcyRx+FNXnRHKrLHLZhZAD94bpwcHryAfUCifXdRhuZI4/CmrzojlVljlswsgB+8N04OD15APqBRzIPZy8vvX+ZtUViz67qMNzJHH4U1edEcqssctmFkAP3hunBwevIB9QKJ9d1GG5kjj8KavOiOVWWOWzCyAH7w3Tg4PXkA+oFHMg9nLy+9f5m1RWLPruow3MkcfhTV50Ryqyxy2YWQA/eG6cHB68gH1Aon13UYbmSOPwpq86I5VZY5bMLIAfvDdODg9eQD6gUcyD2cvL71/mbVFYs+u6jDcyRx+FNXnRHKrLHLZhZAD94bpwcHryAfUCifXdRhuZI4/CmrzojlVljlswsgB+8N04OD15APqBRzIPZy8vvX+ZtUViz67qMNzJHH4U1edEcqssctmFkAP3hunBwevIB9QKJ9d1GG5kjj8KavOiOVWWOWzCyAH7w3Tg4PXkA+oFHMg9nLy+9f5m1RWLPruow3MkcfhTV50Ryqyxy2YWQA/eG6cHB68gH1Aon13UYbmSOPwpq86I5VZY5bMLIAfvDdODg9eQD6gUcyD2cvL71/mbVFYs+u6jDcyRx+FNXnRHKrLHLZhZAD94bpwcHryAfUCifXdRhuZI4/CmrzojlVljlswsgB+8N04OD15APqBRzIPZy8vvX+ZtUViz67qMNzJHH4U1edEcqssctmFkAP3hunBwevIB9QKJ9d1GG5kjj8KavOiOVWWOWzCyAH7w3Tg4PXkA+oFHMg9nLy+9f5m1RWLPruow3MkcfhTV50Ryqyxy2YWQA/eG6cHB68gH1Aon13UYbmSOPwpq86I5VZY5bMLIAfvDdODg9eQD6gUcyD2cvL71/mbVFYs+u6jDcyRx+FNXnRHKrLHLZhZAD94bpwcHryAfUCifXdRhuZI4/CmrzojlVljlswsgB+8N04OD15APqBRzIPZy8vvX+ZtUViz67qMNzJHH4U1edEcqssctmFkAP3hunBwevIB9QKJ9d1GG5kjj8KavOiOVWWOWzCyAH7w3Tg4PXkA+oFHMg9nLy+9f5m1RWLPruow3MkcfhTV50Ryqyxy2YWQA/eG6cHB68gH1Aon13UYbmSOPwpq86I5VZY5bMLIAfvDdODg9eQD6gUcyD2cvL71/mbVFYs+u6jDcyRx+FNXnRHKrLHLZhZAD94bpwcHryAfUCifXdRhuZI4/CmrzojlVljlswsgB+8N04OD15APqBRzIPZy8vvX+ZtUViz67qMNzJHH4U1edEcqssctmFkAP3hunBwevIB9QKJ9d1GG5kjj8KavOiOVWWOWzCyAH7w3Tg4PXkA+oFHMg9nLy+9f5m1RWLPruow3MkcfhTV50Ryqyxy2YWQA/eG6cHB68gH1Aon13UYbmSOPwpq86I5VZY5bMLIAfvDdODg9eQD6gUcyD2cvL71/mbVFFFMzCiiigAooooAKKKKACiiigAooooAKKKKACiiigAooooAKKKKACiiigAooooAzbf8A5DR/64n+YrSrNt/+Q0f+uJ/mK0qACiiigAooooAKKKyH8SWkfhrUdbMc/wBm0/7V5qBRvb7O7o+0ZxyY2xkjqM4pXsUouWxr0UVU0zUodVtHuLdXVEuJ7chwAd0UrRMeCeNyEj2x06UxWdrluiiigQUUUUAFFc7F4rubpp20/wAMavdwxXE1v58cloqu0UjRsQHnVsbkPUCuipJplyg4bhRRRTICiiigAooooAKKKKACiiigAooooAKKKKACiiigAooooAKKKKACiiigAooooAKKKKACiiigAooooAKKKKACiiubu/Ftza62uljwtrE88iSyQtHJabZY42RWcFpwQMyJwwB+bpwcAHSUUUUAFFFFABRVPS9Th1a0e4tlkVEuJ7ciQAHdFK0THgngshI9sdOlXKACiiqel6nDq1o9xbLIqJcT25EgAO6KVomPBPBZCR7Y6dKALlFFZ76pu19dKtofNkjhFxdOzbRBG29Y8cfMzMjAAcAKxJB2hwDQooooAKKKpxanDLrdzparIJ7a3huHYgbSsrSKoBznOYWzx3HXsAXKKKKACiiigAooooAKKpxanDLrdzparIJ7a3huHYgbSsrSKoBznOYWzx3HXtcoAKKKKACiqcupwxa3baWyyGe5t5rhGAG0LE0asCc5zmZccdj07kupwxa3baWyyGe5t5rhGAG0LE0asCc5zmZccdj07gFyiiqcupwxa3baWyyGe5t5rhGAG0LE0asCc5zmZccdj07gFyiiigAoqnFqcMut3OlqsgntreG4diBtKytIqgHOc5hbPHcde0aapt19tKuYfKkkhNxaurbhPGuxZM8fKys6gg8EMpBJ3BADQooooAKKKKACiiigAooooAKKKKACiiigAooooAKKKKACiiigAooooAKKKKACiiigDNt/+Q0f+uJ/mK0qzbf/AJDR/wCuJ/mK0qACiiigAooooAK4K5/5I74s/wC43/6UXNd7WZN4a0K51UancaLp0uoB1cXb2iNKGXG07yM5GBg54wKmSbN6VRQ37p/ccjCtzDpJ1w6nqMt4PEbWkYe7cxRwNqhgMflA7GGxmALBmGRggKgWTwv/AKTeta6x8louq6hJp0XWO5mW9nYlz3kTG5YzxgGQFyv7ntvsFp5HkfZYPK83z/L8sbfM3+Zvx/e3/Nnru560fYLTyPI+yweV5vn+X5Y2+Zv8zfj+9v8Amz13c9ank1NXiE4tW3f3I4WFbmHSTrh1PUZbweI2tIw925ijgbVDAY/KB2MNjMAWDMMjBAVAti9ubk6HrPiA3l0ms6dcXMNrZrcOsW5JGW3haAHa5mUxn5gXbzwUK/u9vZfYLTyPI+yweV5vn+X5Y2+Zv8zfj+9v+bPXdz1qOTSdOm1WLU5dPtZNQhTZFdtCpljXnhXxkD5m4B7n1o5WH1iLd2uv4dvQ861TX9at7TV9KjbUfOV7+x81EJCXd3Kz2AE38IWPYuQQENxCDjnZfhW5h0k64dT1GW8HiNrSMPduYo4G1QwGPygdjDYzAFgzDIwQFQL3TWFo/mb7WBvNlSeTMYO+RNu1z6sNiYPUbV9BR9gtPI8j7LB5Xm+f5fljb5m/zN+P72/5s9d3PWjkfcbxMbJKNtdfPv8A12OV8J6VeS2892mv6jDCNYv2+xJHbmIgXs2Vy0RfBxz82eTgjjE+maedT8Va/cXt/qLpY6nEtrbpeSRRRf6LbuflQjcCzZKvuXrgDc27Qn8F+F7q5kuLrw3pE00rl5JZLCJmdickklckk85rWjghhkleKJI3mffKyqAZG2hct6naqjJ7ADtTUejInWTblHr5JW1OZ0zTzqfirX7i9v8AUXSx1OJbW3S8kiii/wBFt3PyoRuBZslX3L1wBubdQvbm5Oh6z4gN5dJrOnXFzDa2a3DrFuSRlt4WgB2uZlMZ+YF288FCv7vb2scEMMkrxRJG8z75WVQDI20LlvU7VUZPYAdqgk0nTptVi1OXT7WTUIU2RXbQqZY154V8ZA+ZuAe59aOUSrK+vl+HT0fUwNM086n4q1+4vb/UXSx1OJbW3S8kiii/0W3c/KhG4FmyVfcvXAG5t3VVHHBDDJK8USRvM++VlUAyNtC5b1O1VGT2AHapKpKxlOfO15JBRRRTMwooooAKKKKACiiigAooooAKKKKACiiigAooooAKKKKACiiigAooooAKKKKACiiigAooooAK5+8/5KRo3/YJv/8A0dZ10FRtbwtcpcNFGZ40ZElKjcqsQWUHqASqkjvtHpQBzGl6edT8WeILi91DUXSx1OJLW2jvZIoYsWlu5+VCN4LNkq+5euANzbsO9uNT+3LrmnCf7N/bkVk1zPrM27b9tW2kUWYTyNv3kU53bcOTvzXocdvDDJK8MUcbzvvlZVAMjbQu5j3O1VGT2AHas+48M6Dd6hLf3WiadNeTIUkuZLSNpHUpsKliMkFPlx6cdKAMS2totYt9S1XWtVvtPubG7uYiYb97eKyjidvLZot3lnMYSUmVWDCTPKFVGPNN4ovZdW1eFrG1m067uIo5brXJ7eG2iiY7fOtRCYyrR4cszFism5WQbNnb3egaPf6lBqN9pNjc31vt8m5mtkeWLady7WIyMEkjHQ80XegaPf6lBqN9pNjc31vt8m5mtkeWLady7WIyMEkjHQ80AcJZKtp4T1/XdP1S6k1TT9T1IW9st23kib7XKY7ZoFIVzIWUYYGQ+aNrD93tkvbjU/ty65pwn+zf25FZNcz6zNu2/bVtpFFmE8jb95FOd23Dk781266Bo6alHqKaTYrfRb/LuRbIJU3lmbDYyMl3J9SzHuajuPDOg3eoS391omnTXkyFJLmS0jaR1KbCpYjJBT5cenHSgDEtraLWLfUtV1rVb7T7mxu7mImG/e3iso4nby2aLd5ZzGElJlVgwkzyhVRn+Fv9KvmtdZ+S0XVtQl06LrFdTLezsS57yJjcsZGMAyAuy/uevu9A0e/1KDUb7SbG5vrfb5NzNbI8sW07l2sRkYJJGOh5qx9gs/s/kfZIPJ87z/L8sbfM3+Zvx/e3/Pnru560AWK5/Qv3HinxPbS/LNLdwXqL1zC9tFErZ93t5Rjr8ucYIJ6Cq81jbz3ttdyR/wCkWu4RSKxUgMMMpx1U4BKnIyqnGVBAB5Zf3V7bWOp3sOp6iJ0t9fv1zfTFVmtLsJb4QttCKrsDHjY3G5W2jHQXtzdNoOteIjeXSa1ptxcw2tmtw6w7kkZbeFrcHa5mUxn5gXbzwUZf3e3r30jTZI3STT7VkdJUZWgUhllbdKpGOQ7DLD+I8nNEmkabNq0WqTafayahAmyK7aBTNGvPyq+MgfM3APc+tAHKbHs9d/tDUbu+ngl1HyodTsdTZoYyZvLWCa1J8tfmZYMorkkM7GNvmElp4es2+KWrTmbUd6WNlcgDU7kKXaa6JBXzMFPlGEI2DnAGTno/7A0f+2v7Y/smx/tP/n9+zJ533dv+sxu+7x16cVJeaRpuo3Nrcahp9rdT2b77aWeBXaBsg7kJGVOVByPQelAFyuU0vTzqfizxBcXuoai6WOpxJa20d7JFDFi0t3PyoRvBZslX3L1wBubd1dRx28MMkrwxRxvO++VlUAyNtC7mPc7VUZPYAdqAPPJpvFF7Lq2rwtY2s2nXdxFHLda5Pbw20UTHb51qITGVaPDlmYsVk3KyDZs2La2i1i31LVda1W+0+5sbu5iJhv3t4rKOJ28tmi3eWcxhJSZVYMJM8oVUb93oGj3+pQajfaTY3N9b7fJuZrZHli2ncu1iMjBJIx0PNF3oGj3+pQajfaTY3N9b7fJuZrZHli2ncu1iMjBJIx0PNAHETTeKL2XVtXhaxtZtOu7iKOW61ye3htoomO3zrUQmMq0eHLMxYrJuVkGzZJAt1DpB106pqMt4PEjWkayXbmGOBtUMBj8oHYw2MwBYMy5GCAqBezu9A0e/1KDUb7SbG5vrfb5NzNbI8sW07l2sRkYJJGOh5qx9gs/s/kfZIPJ87z/L8sbfM3+Zvx/e3/Pnru560AcpaeHrNvilq05m1HeljZXIA1O5Cl2muiQV8zBT5RhCNg5wBk57Oqd5pGm6jc2txqGn2t1PZvvtpZ4FdoGyDuQkZU5UHI9B6VcoA5C2totYt9S1XWtVvtPubG7uYiYb97eKyjidvLZot3lnMYSUmVWDCTPKFVGPe3Gp/bl1zThP9m/tyKya5n1mbdt+2rbSKLMJ5G37yKc7tuHJ35rt7vQNHv8AUoNRvtJsbm+t9vk3M1sjyxbTuXaxGRgkkY6Hmo7jwzoN3qEt/daJp015MhSS5ktI2kdSmwqWIyQU+XHpx0oAp3n/ACUjRv8AsE3/AP6Os6Lz/kpGjf8AYJv/AP0dZ1uNbwtcpcNFGZ40ZElKjcqsQWUHqASqkjvtHpQ1vC1ylw0UZnjRkSUqNyqxBZQeoBKqSO+0elAElc/ef8lI0b/sE3//AKOs66Co2t4WuUuGijM8aMiSlRuVWILKD1AJVSR32j0oA88vbjU/ty65pwn+zf25FZNcz6zNu2/bVtpFFmE8jb95FOd23Dk781obHs9d/tDUbu+ngl1HyodTsdTZoYyZvLWCa1J8tfmZYMorkkM7GNvmHR3HhnQbvUJb+60TTpryZCklzJaRtI6lNhUsRkgp8uPTjpUn9gaP/bX9sf2TY/2n/wA/v2ZPO+7t/wBZjd93jr04oA5y08PWbfFLVpzNqO9LGyuQBqdyFLtNdEgr5mCnyjCEbBzgDJzp67+/8U+GLaL5porue9demIUtpYmbPs9xEMdfmzjAJGpeaRpuo3Nrcahp9rdT2b77aWeBXaBsg7kJGVOVByPQelSQ2NvBe3N3HH/pF1tEsjMWJCjCqM9FGSQowMsxxliSAWKKKKACiiigAooooAKKKKACiiigAooooAKKKKACiiigAooooAKKKKACiiigAooooAzbf/kNH/rif5itKs23/wCQ0f8Arif5itKgAooooAKKKKACub0zWbvxTctNpM8djptncmKfeqSXM7qQSm0MRAMbQyyL5uGYFYioY9G7hI2dskKMnapJ/ADk1x93rmhXWpQaisHiS2vIdq+db6Jfp5qA52SL5O2ReXA3Ald7FSrHdXXhoOSlaLb72vb5ef4dFclm7cXEK+LtPtmluxPJY3UiRIw8hlWS3DM46lwWUKewaT1rPi8bWsrTy/2ZqUenWtzNbXOpSRosEDxSNGxOX3lMrnzFUooOWK7X20v7cs7/AMcaVewwaqscdpc2ZEuiXsfzzSW5U7mhChR5TZLEAZHbJGXBp97ALjw9rV3drp2rX1481pFo805MM91KQguosxxI6kFg4LqHb5kypTshhoci9qne22t7XleyS7W307k82uh1sviazi0XUNReKf8A4l80kElrtHnvIrbURUzy0mUMYyCwkjI+8KxrbXtTPxK1OyOiaq9qtpZop8638qIGa5Bn2mbO1gB0G/EfKjCg19Si8vxadU1DTNVtdLjmRpoo7f7Ut7cxhhDKIrfzG27SWZpAp3RWuMbCKjm8TLbeLn1XTtP1K5gvLa3tblZ9H1CJoFiklbegFswkJE7fKSmNg5O75ap4dcslThzcy87J3TtdO11Z9ey30C/cseHfFbQ280WoWmpSwDWry0bUpAphjdr6SOGP5m8xh80aAorIuQCRtbbs3Hiu1t7mX/RLuTTrdzHc6qgT7NbuDhgxLbyFPDOqlEO7cy7H28l9vt/+EZ/s7ydV87+3f7R3f2DqG3y/7S+1Y/1Gd2zjGMbuM45qO61FX07UfD0FtqR0TVHuWmu30XUBcwrcO7zIsYtirnLvtcsu0MuUfYd+ssJGpNy5GtX0e3f17L8H1XNZbnUweNrWec40zUkskvm0+S/kjRYUnE5gC4L72DPtAZFZRvGSCrhbFx4v022uZYJLbWWeJyjGPQ7yRSQccMsRDD3BIPauS+32/wDwjP8AZ3k6r539u/2ju/sHUNvl/wBpfasf6jO7ZxjGN3Gcc11P/CbaX/z665/4T99/8Zrnq4VJ6UpPVrS+ytZ6p76jUvMuXFxCvi7T7ZpbsTyWN1IkSMPIZVktwzOOpcFlCnsGk9az4PG1rPOcaZqSWSXzafJfyRosKTicwBcF97Bn2gMiso3jJBVwudceIrGXxdp+qrb6yILaxurZ1OgX+4tLJbspA8jGMQtnnuOvbPt7mK50KLR449SW5l18XyvJot9HGEOpfacF2hAU7OMnCg9TjmnDC+5H2kH0T0eivK7+SsHNrodDF42tZWnl/szUo9Otbma2udSkjRYIHikaNicvvKZXPmKpRQcsV2vtuf8ACTWf9kf2j5U/k/2j/Z23aN3mfa/sueuNu/nOc7ecZ4rjjbXen2t7ouvXN9/Zeo3d9NPZ22h3F27QTXUxCLcQAqiuhBKspkAdsMuV2U59UultxpFtp13Jp39tLqRvJNL1JJgv24XbL5ItCMjlB+85wG4zgbfUac3+7Tav0vbl66vd+nyvqLmfU6S217Uz8StTsjomqvaraWaKfOt/KiBmuQZ9pmztYAdBvxHyowoOrceL9NtrmWCS21lnicoxj0O8kUkHHDLEQw9wSD2rnpvEy23i59V07T9SuYLy2t7W5WfR9QiaBYpJW3oBbMJCRO3ykpjYOTu+Xd/4TbS/+fXXP/Cfvv8A4zWFbDylJSdF2strrVJJ3un19O40/MjlF3B8TrFTqd3LaXWl3cn2JighiZJLVQyhVBJ+duXLYycYBIrlp9atLa6E1zr0kPic6+tqNPk1N1Jt2vxEo+yF9mDbEENsyQRJnPzVsXHiKxl8Xafqq2+siC2sbq2dToF/uLSyW7KQPIxjELZ57jr2y73xDe6i66deW19Jp66jFeLf/wBjagJwkdys6ReQLXbxtWLd5mSBvIz8tdNClUtHmg9lfS2ibv01VrXW703E2jrbjxfpttcywSW2ss8TlGMeh3kikg44ZYiGHuCQe1c9qjf2frSGPUNZl1ptUgHnSLdRWIgkuEzF83+ikiBvLB+8zgEfvCK3f+E20v8A59dc/wDCfvv/AIzXLXviG91F1068tr6TT11GK8W//sbUBOEjuVnSLyBa7eNqxbvMyQN5GflrLDUJqWlOSXW/Vf8AgOq7xvd6dhtrudLKLuD4nWKnU7uW0utLu5PsTFBDEySWqhlCqCT87cuWxk4wCRVi48V2tvcy/wCiXcmnW7mO51VAn2a3cHDBiW3kKeGdVKId25l2PtxrjxFYy+LtP1VbfWRBbWN1bOp0C/3FpZLdlIHkYxiFs89x17cvc2uiR392Lbwdaaml5cy3J1DVPDV61xC0rl2DILQ+cFZiV+ePK7U427zVPCe0UfaQei7W6v01tbvfswcrbHoM/icW1+I7nSNShsjcrajUZEjWEyM4jUbC/m4MhChvLwchs7PmouPE4juZVstI1LUbWBzHcXtmkbRxMpw6hS4kkK9xGr8gqMuCo85v47efUJJl8O/arpdRGoRa1caLqAvDsuBOkJ/0NiqgBYNwkOEGQvHl1uxeJrrRmnstD0+7nsri5muVubzR9SWS3aaRpHBiW2IlCu7EfPHkEKcEb2csAlFOMG380rd93r5af4ejXMdDKLuD4nWKnU7uW0utLu5PsTFBDEySWqhlCqCT87cuWxk4wCRVLVNFg/4TLSbeyvNVhuLmaXUbhv7WujH5MLIWRYzIU+aSWJdpTb5fmAbTtqO48RWMvi7T9VW31kQW1jdWzqdAv9xaWS3ZSB5GMYhbPPcdexb+IrGLxdqGqtb6yYLmxtbZFGgX+4NFJcMxI8jGMTLjnsenfONOvGKkotNRtZJq7u0vuTv52HoHjfxW1v4R8Rf2XaalIlvY3MZ1WzC+XbziNhgEN5hKtgF0UqhzuZdj7dm48TiO5lWy0jUtRtYHMdxe2aRtHEynDqFLiSQr3EavyCoy4Kjhta1G6fw3rXh7Q7a7NlqiXbLd3mi6kJIWuC7uhjW2Icb3bD7l2hhlHKfPoReJrrRmnstD0+7nsri5muVubzR9SWS3aaRpHBiW2IlCu7EfPHkEKcEb22eD/dJRhd3ffbTV9n5fh3XNruamp6bPYahaTW+qX11rt3qKvHGt1KsX2QXC+aDb7zEFS3bYXKjLbTnzHXNO9ubp/CmueL/tl2mo6W+oG2hS4dbYJayyoqNCDscOIvmZgXy7bWXCbKemeKtRsNYu5bjRJ7pbu7YyX7WOprN9mEjeUgj+xFRsjbAQOAW3NnLsxjutRV9O1Hw9BbakdE1R7lprt9F1AXMK3Du8yLGLYq5y77XLLtDLlH2HfcaNaLSnFuzWvePVeS2tHrrprYLo1JdRvtS+JU1lc6Nrn2WwhtZIDb30UMSF5pg00ipOpkjYRJhWDEBG+QbsNq6nrN34WuVm1aeO+028uRFBsVI7mB2JITaWAnGNwVY183CqAspYsM638RWMXi7UNVa31kwXNja2yKNAv9waKS4ZiR5GMYmXHPY9O81jrOhwatLfGHxFc3twSgmutGvyIkZgdiAwhI14QHaBu2KXLMN1c04TbV6T5Ulok97K+r213a67p6j07nX1l3FxCvi3T7dpboTyWN06RIw8hlWSAMzjqXBZQp7BpPWtSsu40yaXxbp+qK0YgtrG6t3Uk7i0skDKQMYxiFs89x17eMaGfB40tp5zjTNRSzS+bT5L+SNFhScTmALgvvYM+0BlVlG8ZIKuF6SuY/4Rq8/4Rn+zvMg87+3P7R3bjt8v+0ftWOn3tnGOm7jOOa6egDJtL+fWZjJZSLbWkEuyXcFaWRhyVxk+WOmQw38kYQgExN4ot4zKZLO7WOJpsyEJgpE+yWQDdnapxxjccjAPONGewimu47oNJDPHgb4nK71BztYdGHJHIONxIwTmsS48O3c1ncRLJCGlttRiUljgG4lDp26ADn36ZraPI3qYy50tDUl1qGKZ/wBxM1rExWa8UL5UTDgg87sA8FgCq85I2tih4h1oxaHqn2OC7ZYraZftkAGyKQKRjg7sg4BZQQpzkja2JZtJu2tbrS4/JOn3jSmSZnIljErMzqF24Y5ZsNkYyMq235otQ0nU20nUNL077Ibe8Wciad2DxmUszLtC4YbmOGyMAj5W2/M4qCaFJzaZo/2vB9h+1bJNn2r7LjAzv87yc9em7n6flTZ5ZB4nsog7CNrO4ZkB4JDwgEj1GT+ZqhJpepiIWMUdo1r9vF2Z2nZXx9o88jZsIyOVHzc9eOlaktpI+uWt4Cvlw200TAnkl2iIx7fIf0qbRT+//gFXk19xFLrUMUz/ALiZrWJis14oXyomHBB53YB4LAFV5yRtbEV3fz6NMJL2Rbm0nl2RbQqyxseQuMjzB1wFG/gDDkkihL4ZjS5m8rSNHu1nleU3V5HmVC7Fjldh8wAk4+ZeMLxjcduCwihu5LotJNPJkb5XLbFJztUdFHAHAGdoJyRmm+RAudlqiiisTUKKKKACiiigAooooAKKKKACiiigAooooAKKKKACiiigAooooAKKKKACiiigAooooAKKKKACiiigAooooAKKKKACiiigAooooAKKKKACiiigAooooAKKKKACiiigAooooAKKKKACiiigAooooAzbf/kNH/rif5itKs23/wCQ0f8Arif5itKgAooooAKKKKACiiigAooooAKKKKAKK61psmtto8d7C+opEZntkbc8aDbywH3fvrjOM54zg1B/wkumf2h9j82bd5vk+d9ll8jzM7dnnbfL3bvkxuzu+X73FQXf/JQNJ/7Bd9/6NtaZNBFrUwsNPiSHTrW8W4ubiNQBJPHMJfLj7E+YuZH6ZyoyxYx580tTJylqkb9FFFaGoUUUUAFFFFABRRRQAUUUUAFFFFABRRRQAUUUUAFFFFABRRRQAVXsr631G3aazk8yNZpYS20jDxu0bjn0ZWGe+OOKsV55YSapo/hPWvEMWqyGDTb7VbldMEEYhmSO7nZldiC+84bDKyqvyZRtrbwD0Oq6X1vJqU1gkmbqCGOaSPaflRy6qc9OTG/Ht7iuIvdf1eDVVvrOXVbqxOrRWJbybRLABrpbd1wT9p3KSw3ZwZF3AeWcVctNJvD8UtWlHiDUVRbGymMIjttroZrrER/dZ2DBAIIf5jljxgA7Oq9lfW+o27TWcnmRrNLCW2kYeN2jcc+jKwz3xxxWBZ/2t4hW41K11ufTFhu7i2gtI4IpIW8iZ4t0u5d7bmQkhHjwpCjBBc4elyappekPqkWqyeQfEk9quniCMQsk2qNExdiC5ceYzAqyrwgKnDbgD0OiiuQ+16ta+JP+Jvqd9YrJd7LZPssUmnTxl8Km9V82OQqUH7x0Blb5A6/KQDp3vrePUobB5MXU8Mk0ce0/MiFFY56cGROPf2NWKx7m+uI/G2mWCSYtZ9OvJpI9o+Z0ktlU568CR+Pf2FZk9vqs/igQaT4k1GRILhZb2OSG1Nvbx5D+RkQh2dlIAG/KqQ7HlBIAdXRXAN4g8U311eX+kaVqs8drdz21vaRGyFpcCGVom3vJIJgzFG+YbQvy/JIFJkm1D/hJP7Suvs3/AAmXk+c/l/Zv7G8rbk42eZ8+3HTd82OvNb0aPtm1zKPq7CbsdRHrtlNcmCIXbsJTCXWymKBg20jfs24BBBOccVOupWT6mdOS5ja8VDI0KtlkUbeW9PvLjPXPFY/kTaTB9qtNVkuIn1HabfZH5Q8652uuQu/K7z/F94cjHy1fuP8AkbbD/rxuf/RkFS4xvp5malK2vkSf21Y/a/s++TO/y/M8h/K35xt8zGzO75cZ+98vXir9ZMkUepSC1tEWOzguRLNKgwHlSTfsX1O8ZdvXK8sWKa1RJJbFxbe4UUUVJQUUUUAFFFFABRRRQAUUUUAFFFFABRRRQAUUUUAFFFFABRRRQAUUUUAFFFFABRRRQAUUUUAFFFFABRRRQAUUUUAFFFFABRRRQAUUUUAFFFFABRRRQAUUUUAFFFFABRRRQAUUUUAFFFFABRRRQBm2/wDyGj/1xP8AMVpVm2//ACGj/wBcT/MVpUAFFFFABRRRQAUUUUAFFFFABRRRQBA9lA+oRXzR5uIYnhjfceEcoWGOnJjT8vc1nQ+FtNt703Nu1/Exna4MaancrEXZy7HyxJswWJJGMHJ4qN7rUovHdtZyXULadcWFxMkCQbXV0e3XLOWO7/WNjAXGed3BGVearc2mtLF/wkcM+qNfxx/2HC0LKLd5gu4ps87csDeYTuwCCfuDFZNx6oxlKPVHY0UUVqbBRRRQAUUUUAFFFFABRRRQAUUUUAFFFFABRRRQAUUUUAFFFFABWHB4O0O2vjdwWkiO1w108YuZfJlmZy5leLdsdwxBDMpK7UxjYuNys9tc05NFvNWa4xY2Xn+fLsb5PJZll4xk4KMOAc44zxQBTuPB+j3NzLNJHdL5rmRoY7+eOEOTneIlcIr7vn3ABg/zg7vmq5d6JZXmpQX8qzx3UO0CS3uZIfMCncqyBGAkUEnCvkDc3HzHNf8A4SrSf7S+xedPu87yPP8Askv2fzM7dnn7fK3bvkxuzv8Al+9xRc31xH420ywSTFrPp15NJHtHzOklsqnPXgSPx7+woAL7wtpOo3slzdQzlpsefFHdyxw3GAB+9iVgkmVAU71OVAU5AAqx/YenfYPsX2f/AEf7X9t2b2/13n+fuznP+t+bHTtjHFE1xt8SWdt9u2eZaXEn2Pyc+dteEeZv/h2b8bf4vNz/AA1ieNfGNpofh/W1truSHULWxlaOYWzvDDN5RaNXk2mNXJKYRiCd6cHcuQC/caDqM1zLLH4t1i3R3LLDHFZlYwT90brcnA6ckn1JqT/hFtJ/tL7b5M+7zvP8j7XL9n8zO7f5G7yt27587c7/AJvvc0f8JVpP9pfYvOn3ed5Hn/ZJfs/mZ27PP2+Vu3fJjdnf8v3uKzLfxfG3xA1DSZF1EwR29qsSDSrjaszSzq7FxHgIQseHJ2HaSDw1AHRvY28mpQ37x5uoIZIY5Nx+VHKMwx05Mac+3uay4PCGlW18bu2bUYnNw1yY49VulhMjOXY+UJNmCxJK7cHJ4q5NcbfElnbfbtnmWlxJ9j8nPnbXhHmb/wCHZvxt/i83P8NRz+I9Mt9WGnSzyCfesbOIJDDG7Y2o8oXYjtuXCswY70wPmXIBHfeFtJ1G9kubqGctNjz4o7uWOG4wAP3sSsEkyoCnepyoCnIAFbFYcHjHQ7m+NpBdyO63DWryC2l8mKZXKGJ5duxHLAAKzAtuTGd653KAKH9i2P2v7Rskzv8AM8vz38rfnO7y87M7vmzj73zdeatNbRNdx3LJmaNGjRsnhWKlhjp1RfyrmfGvjG00Pw/ra213JDqFrYytHMLZ3hhm8otGrybTGrklMIxBO9ODuXOn/wAJVpP9pfYvOn3ed5Hn/ZJfs/mZ27PP2+Vu3fJjdnf8v3uKfM2LlSJ49CsobkzxG7RjKZii3swQsW3E7N+3BJJIxjmpW0yF9cTVZGkeeK2a2iUkbY1ZlZyABklikeck42DGMtuwLfxfG3xA1DSZF1EwR29qsSDSrjaszSzq7FxHgIQseHJ2HaSDw1af/CVaT/aX2Lzp93neR5/2SX7P5mduzz9vlbt3yY3Z3/L97iq55LqCilsbFFYdx4v022uZYJLbWWeJyjGPQ7yRSQccMsRDD3BIPai0uJtV8V3w82SOy0d0t1iRivm3DxCR2fH3kEcsYUEgbjISpKxsNPq9RJykmla+q9P1aC6NyiuUu9V1eGO/0RHkOsXFwy6dciEY+zyMD5+MbMQBypVjljGmcGZAerrAYUVntrmnJot5qzXGLGy8/wA+XY3yeSzLLxjJwUYcA5xxniq//CVaT/aX2Lzp93neR5/2SX7P5mduzz9vlbt3yY3Z3/L97igDYorHub64j8baZYJJi1n068mkj2j5nSS2VTnrwJH49/YVsUAFFFZ7a5pyaLeas1xixsvP8+XY3yeSzLLxjJwUYcA5xxnigDQoorPbXNOTRbzVmuMWNl5/ny7G+TyWZZeMZOCjDgHOOM8UAaFFY/8AwlWk/wBpfYvOn3ed5Hn/AGSX7P5mduzz9vlbt3yY3Z3/AC/e4oub64j8baZYJJi1n068mkj2j5nSS2VTnrwJH49/YUAbFFYd3cTaV4rsR5skllrDvbtE7FvKuEiMiMmfuoY4pAwBI3CMhQWkY7laTg4pPur/AKfmhXCiiisxhRRRQAUUUUAFFFFABRRRQAUUUUAFFFFABRRRQAUUUUAFFFFABRRRQAUUUUAFFFFABRRRQAUUUUAFFFFABRRRQAUUUUAFFFFABRRRQBm2/wDyGj/1xP8AMVpVm2//ACGj/wBcT/MVpUAFFFFABRRRQAUUUUAFFFFABRRRQBlXFlO/jDT75Y828NhdQyPuHDvJblRjryI3/L3FZ2ojWdT2aZcaU67NRhnF+kkYt/JiuVlUYL+Zv8tAp+TG/PRfmrozPEtwkDSoJnVnSMsNzKpAYgdSAWXJ7bh61HdX1pZeT9tuYbfz5Vhi82QJ5kjdEXPVjjgDmocVrqZuKd9SeiiirNAooooAKKKKACiiigAooooAKKKKACiiigAooooAKKKKACiiigArmL3w7cT+LFeNsaRdTRahex4HNzAFWPnO75sQNxwPsmCD5rV09FAHnmq6Jq93eMbjTdYvLyHU0vEuo9TC2bwxXImSMQGdRv8AKRY+YgPM+YtjMldXc2NxJ420y/SPNrBp15DJJuHyu8lsyjHXkRvz7e4rYooAx7mxuJPG2mX6R5tYNOvIZJNw+V3ktmUY68iN+fb3Fc5rem65b+D9f8N6Zo0moPqKXz294LiKKEfaGkkKOGbeHBkZQArK2EJZNzbO3hnhuYy9vKkqB2QsjBgGVirDjuGBBHYgipKAPPNV0TV7u8Y3Gm6xeXkOppeJdR6mFs3hiuRMkYgM6jf5SLHzEB5nzFsZkro5Yr2w8bTX8WnT3trqFpbWpkt3jH2YxSTMzSB3U7cTjGzcflbgcZ6CigDHubG4k8baZfpHm1g068hkk3D5XeS2ZRjryI359vcViXej6p/YOreFYrCSSDVXvCuqiSMQwJcySO29C2/enmMAqqVbCZZNzbOzqMzwrcpbtKgmkRnSIsNzKpAYgdSAWUE9tw9aAOU/sPUf+ES+xfZ/9I/4SH7bs3r/AKn+1fP3Zzj/AFXzY69sZ4rTuPF2nW1zLBJbawzxOUYx6JeSKSDjhliIYe4JB7Vqw31vPeXFpHJ/pFttMsbKVIDDKsM9VOCAwyMqwzlSBPQNprc4TW9N1y38H6/4b0zRpNQfUUvnt7wXEUUI+0NJIUcM28ODIygBWVsISybm2V9V0TV7u8Y3Gm6xeXkOppeJdR6mFs3hiuRMkYgM6jf5SLHzEB5nzFsZkr0OigRz8sV7YeNpr+LTp7211C0trUyW7xj7MYpJmZpA7qduJxjZuPytwOM85quiavd3jG403WLy8h1NLxLqPUwtm8MVyJkjEBnUb/KRY+YgPM+YtjMleh0UAYdx4Q025uZZ5LnWVeVy7CPXLyNQSc8KsoCj2AAHai0t5tK8V3x8mSSy1h0uFlRS3lXCRCN1fH3UMcUZUkEbhICwLRqdyit/rFRpxk21a2r9P1SFZHIXmh6jcf2hr4t/+J3BdiXT4N6/6mDzESHdnb++SSc7mGU+085Ma1p3Hi7Tra5lgkttYZ4nKMY9EvJFJBxwyxEMPcEg9q3KKwGcxe+HbifxYrxtjSLqaLUL2PA5uYAqx853fNiBuOB9kwQfNasPVdE1e7vGNxpusXl5DqaXiXUephbN4YrkTJGIDOo3+Uix8xAeZ8xbGZK9DooAx7mxuJPG2mX6R5tYNOvIZJNw+V3ktmUY68iN+fb3FXGvZv7cSxjs5Gg+zNNLdHIWNtyhEGRhiw8wnB+XYMj51zcoqotLdAFcYbA6t41uI7RbpNLNxFe6ik9nJCr3UGFj2O4BcMVhbMZKj7IAc+cc9nRUgYdx4u062uZYJLbWGeJyjGPRLyRSQccMsRDD3BIPaql74duJ/FivG2NIupotQvY8Dm5gCrHznd82IG44H2TBB81q6eigDzzVdE1e7vGNxpusXl5DqaXiXUephbN4YrkTJGIDOo3+Uix8xAeZ8xbGZK6u5sbiTxtpl+kebWDTryGSTcPld5LZlGOvIjfn29xWxRQBh3dvNqviuxPkyR2Wju9w0rqV824eIxoqZ+8gjlkLEADcYwGJWRRoNezf24ljHZyNB9maaW6OQsbblCIMjDFh5hOD8uwZHzrm5RWsqnNZNbKy/r1bYrBRRRWQwooooAKKKKACiiigAooooAKKKKACiiigAooooAKKKKACiiigAooooAKKKKACiiigAooooAKKKKACiiigAooooAKKKKACiiigAooooAzbf/kNH/rif5itKs23/wCQ0f8Arif5itKgAooooAKKKKACsee68SrcSC20nSpIQ5EbyapIjMueCVFuQDjtk49TWxRSauJpvqY8914lW4kFtpOlSQhyI3k1SRGZc8EqLcgHHbJx6mie68SrcSC20nSpIQ5EbyapIjMueCVFuQDjtk49TWxRSs+5PK+/5f5HK3sn2HW3i8Jv59+0oa/08PvgjVvm3uC4FuzE53KCW3O3lykZXqqZDBFboUt4kiUuzlUUKCzMWY8dySST3JJp9EVYcY2OcmsbSD4l2N1Bawx3Fzpd358yRgPLtktQu5hy2BwM9K5nxX4i0S+1thdaxYRjRtRsoYreS6QMZvtMLzS7SeiJhAwwV/0gHiu/k0+KXWLfUmZ/Ot4JYEUEbSsjRsxPGc5iXHPc/gajp8Wp2qQXDOqpPDOChAO6KVZFHI6ZQZ9s9KiUG00jKdNtNL+tC1RRRWpuFFFFABRRRQAUUUUAFFFFABRRRQAUUUUAFFFFABRRRQAUUUUAFczc+JLy3s9RtDHB/bkd39ms4dp2TeaSbeTbnc0YTJkYdPJnxkJXTVQm0a0n1631eRM3NvE0S8DBz0Y8Z3KDIFOeBLIP4jSd+hpTcU/eRytz46u/t11PZWd1PZ2dxLbtZxaNdzS3Jjco7JOg8pTuVtq4YHaNzoWPl69rf67qXiTVLe3l0620/Tb2OAl4HllnUwQysOHUIR5hAb5s5Hyjbl7E/hoPcyNZ6tqOn2s7l57O0aNY5GY5chiheMt3MbJySwwxLG/ZabDY3eoXETOX1C4FxKGIwrCKOLC8dNsSnnPJP0qEpdTeU6VvdXT/AC8vXucbpOoavo/h3VdXJsjpNhqGpzS2wjdp5o1u5mdlk3BUYfNhCrBtoy67/k07rxFqKafqGvwC1Gjaa9ws1q8TG4mWB2SV1kDbVOUfahVtwVcsm87LEXg22iaeL+0tRk0+5uJrm506SRGhmeSRpGBym8JlsbFYKwGGDbn3WJ/C9tPcyf6VdR6fO5kudMQp9nncnLFgV3gMeWVWCsd25TvfcJSSKlUpSld9+3Tt6+f49s+HXdVk8TGyuLnTrMm4ZItNuraSOW4iUn95Fcb9kp2ASlUQ7chGKn5qoXPjq7+3XU9lZ3U9nZ3Etu1nFo13NLcmNyjsk6DylO5W2rhgdo3OhY+XvzeGhc3wkuNW1GWyFwtyNPdo2iEiuJFO4p5uBIAwXfgYC42/LRP4aD3MjWerajp9rO5eeztGjWORmOXIYoXjLdzGycksMMSxLSBSo31X9fd/X83bEv8AxFrEGpXMUOobI45WVV/4Q/UJsAEgDzEkCv8A7yjB6jir81haW/xS0+7gtYIrm60q8+0TJGA822W0C7mHLYHAz0rpqqSabDLrVtqbM4mtrea3RQRtKyNGzE8ZzmJcc9z+D5TJVVfTTRrp28kjM1z9x4n8M3MXyyy3c1m7dcwvbSSsuPd7eI56/LjOCQd6qCaZnXm1S5m82RIjBaoq7RDG2xnzz8zMyKSTwAqgAHcXv1S6mc2mopdF+rYUUUUzMKKKKACiiigAooooAKKKKACiiigAooooAKKKKACiiigAooooAKKKKACiiigAooooAKKKKACiiigAooooAKKKKACiiigAooooAKKKKACiiigAooooAKKKKACiiigAooooAKKKKACiiigAooooAKKKKACiiigDNt/+Q0f+uJ/mK0qzbf8A5DR/64n+YrSoAKKKKACiiigAooooAKKKKACiiigAooooAKKKKACiiigAooooAKKKKACiiigAooooAKKKKACiiigAooooAKKKKACiiigAooooAKKKKACiiigAooooAKKKKACiiigAooooAKKKKACiiigAooooAKKKKACiiigAooooAKKKKACiiigAooooAKKKKACiiigAooooAKKKKACiiigAooooAKKKKACiiigAooooAKKKKACiiigAooooAKKKKACiiigAooooAKKKKACiiigAooooAKKKKAM23/5DR/64n+YrSrNt/wDkNH/rif5itKgAooooAKKKKACiiigAooooAKKKKACiiigAooooAKKKKACiiigAooooAKKKKACiiigAooooAKKKKACiiigAooooAKKKKACiiigAooooAKKKKACiiigAqK2u7e8jaS0njnRXKFo3DAMDgjjuK5nx4niS502Cw8MRKPtb+VcXAfa0Sn+Q65PX0HNc34f8JeJfBPim1h0qVb/S7sD7UXOxUIHzEjnB9PXp60Aen0UViW3iRrnxW+jDTLqGNYJJVu5wEWUo6KQi/eIy/wB4gA4+XcDmjd2DZXNuiq+o3i6dpd1eyKWS2heVgO4UE4/Sq2gzX91o0Fzqsls89wglAtomRUVgCF+ZmLEZ+9xn0FG9w2NGiiigAooooAKKKKACiiigAooooAKKKKACiiigAooooAKKKKACiiigAooooAKKKKACiiigAooooAKKKKACiiigAooooAKKKKACiiigAooooAKKKKACiiigAooooAKKKKACiiigAooooAKKKKACiiigDNt/+Q0f+uJ/mK0qzbf/AJDR/wCuJ/mK0qACiiigAooooAKKKKAMrVPC3h/XLpbnWtC0zUZ1QRrLd2ccrBQSQoLAnGSTj3NUv+Fe+C/+hQ0H/wAFkP8A8TXRUUAc7/wr3wX/ANChoP8A4LIf/iaP+Fe+C/8AoUNB/wDBZD/8TXRUUAc7/wAK98F/9ChoP/gsh/8AiaP+Fe+C/wDoUNB/8FkP/wATXRUUAc7/AMK98F/9ChoP/gsh/wDiaP8AhXvgv/oUNB/8FkP/AMTXRUUAc7/wr3wX/wBChoP/AILIf/iaP+Fe+C/+hQ0H/wAFkP8A8TXRUUAc7/wr3wX/ANChoP8A4LIf/iaP+Fe+C/8AoUNB/wDBZD/8TXRUUAc7/wAK98F/9ChoP/gsh/8AiaP+Fe+C/wDoUNB/8FkP/wATXRUUAc7/AMK98F/9ChoP/gsh/wDiaP8AhXvgv/oUNB/8FkP/AMTXRUUAc7/wr3wX/wBChoP/AILIf/iaP+Fe+C/+hQ0H/wAFkP8A8TXRUUAc7/wr3wX/ANChoP8A4LIf/iaP+Fe+C/8AoUNB/wDBZD/8TXRUUAc7/wAK98F/9ChoP/gsh/8AiaP+Fe+C/wDoUNB/8FkP/wATXRUUAc7/AMK98F/9ChoP/gsh/wDiaP8AhXvgv/oUNB/8FkP/AMTXRUUAc7/wr3wX/wBChoP/AILIf/iaP+Fe+C/+hQ0H/wAFkP8A8TXRUUAc7/wr3wX/ANChoP8A4LIf/iaP+Fe+C/8AoUNB/wDBZD/8TXRUUAc7/wAK98F/9ChoP/gsh/8AiaP+Fe+C/wDoUNB/8FkP/wATXRUUAc7/AMK98F/9ChoP/gsh/wDiaP8AhXvgv/oUNB/8FkP/AMTXRUUAc7/wr3wX/wBChoP/AILIf/iaP+Fe+C/+hQ0H/wAFkP8A8TXRUUAR29vDaWsVtaQxwQQoI4oolCqigYCgDgADjAqSiigDA8UeMLHwmLM6hHMy3UmzdGmQg7knp+HWq1z8QNGi8QafpNq7Xst5j57YbxEGGVJx69cdhya29W0mz1zTJbDUoRNBKMEHqD2IPYj1rC8HeAdP8ImaaNzd3khIFxIuCiZ4UDt7nvQB1VYFx/yUaw/7BVz/AOjYa36KFo0/62aE9Vb+t7mL4ytbe98E6xDeQRXEX2OVtkqBlyqkg4PcEAj3FcnaeHdHm8SeGNPfTLT7D/YNxK1oIVETsZLYksmMNyc8jrg9RXo1FEfdlzf1s1+v4Deqt/XT/I8i1+/s7zX1vbc6VZapa6xBAYBbPLqQQXCpvaUODFEyngFShVgM/OALGp6PYyeG/GerNCP7StdTmktbvP721ZRGQY26pyOcYz3zXqtFEdP69P8AL8Qev3/5/wCZ55qul/2D4iuLfwfZx2l5e+HryT9wuGnnjaMRu3958yN8zZJ3cms7wvp2nz3kdzpfiPSI50tJReRaPp0kV4+5ME3BMzsXVucuu7cDzknPqlFHS39df8w/r8v8jhvh7LYxXF5YadHo10sMSNJquisPLumywxKoztlAGTl3JyTkZxXc0UU27iStsc7/AMK98F/9ChoP/gsh/wDiaP8AhXvgv/oUNB/8FkP/AMTXRUUhnO/8K98F/wDQoaD/AOCyH/4mj/hXvgv/AKFDQf8AwWQ//E10VFAHO/8ACvfBf/QoaD/4LIf/AImj/hXvgv8A6FDQf/BZD/8AE10VFAHO/wDCvfBf/QoaD/4LIf8A4mj/AIV74L/6FDQf/BZD/wDE10VFAHO/8K98F/8AQoaD/wCCyH/4mj/hXvgv/oUNB/8ABZD/APE10VFAHO/8K98F/wDQoaD/AOCyH/4mj/hXvgv/AKFDQf8AwWQ//E10VFAHO/8ACvfBf/QoaD/4LIf/AImj/hXvgv8A6FDQf/BZD/8AE10VFAHO/wDCvfBf/QoaD/4LIf8A4mj/AIV74L/6FDQf/BZD/wDE10VFAHO/8K98F/8AQoaD/wCCyH/4mj/hXvgv/oUNB/8ABZD/APE10VFAHO/8K98F/wDQoaD/AOCyH/4mj/hXvgv/AKFDQf8AwWQ//E10VFAHO/8ACvfBf/QoaD/4LIf/AImj/hXvgv8A6FDQf/BZD/8AE10VFAHO/wDCvfBf/QoaD/4LIf8A4mj/AIV74L/6FDQf/BZD/wDE10VFAHO/8K98F/8AQoaD/wCCyH/4mj/hXvgv/oUNB/8ABZD/APE10VFAHO/8K98F/wDQoaD/AOCyH/4mj/hXvgv/AKFDQf8AwWQ//E10VFAHO/8ACvfBf/QoaD/4LIf/AImj/hXvgv8A6FDQf/BZD/8AE10VFAHO/wDCvfBf/QoaD/4LIf8A4mj/AIV74L/6FDQf/BZD/wDE10VFAHO/8K98F/8AQoaD/wCCyH/4mj/hXvgv/oUNB/8ABZD/APE10VFAHO/8K98F/wDQoaD/AOCyH/4mj/hXvgv/AKFDQf8AwWQ//E10VFAHO/8ACvfBf/QoaD/4LIf/AImj/hXvgv8A6FDQf/BZD/8AE10VFAHO/wDCvfBf/QoaD/4LIf8A4mj/AIV74L/6FDQf/BZD/wDE10VFAHO/8K98F/8AQoaD/wCCyH/4mj/hXvgv/oUNB/8ABZD/APE10VFAHO/8K98F/wDQoaD/AOCyH/4mj/hXvgv/AKFDQf8AwWQ//E10VFAHO/8ACvfBf/QoaD/4LIf/AImj/hXvgv8A6FDQf/BZD/8AE10VFAHO/wDCvfBf/QoaD/4LIf8A4mj/AIV74L/6FDQf/BZD/wDE10VFAHO/8K98F/8AQoaD/wCCyH/4mj/hXvgv/oUNB/8ABZD/APE10VFAGbb/APIaP/XE/wAxWlWbb/8AIaP/AFxP8xWlQAUUUUAFFFFABWXrGpzWlzp1jYLHJe31yoCuCVSBCGmkYA5ACfKG5HmSRA8NWpWHo9vNea5qOtX0MkR3tY2UUqkNHBGxDvg9DJIC2QcNGkBIyK2pKOs5bL8X0/z9EJmp/aFn9n8/7XB5PneR5nmjb5nmeXsznG7f8mOu7jrVf/hING/tr+x/7Wsf7U/58ftKef8Ad3f6vO77vzdOnNcVPJLb6ONAksNSN+fEq3X7vT53h8ptVFwH85UMePKO4/NxyDggirm+Sy17+ztOtL64gl1HzZtMvtLdoIyZvMa4huwPLX5mafDs5JCooib5R3fUo2d2+tvRWtLrp9y/vLrPMdTceINGtL2Ozu9WsYLqWbyI4JblFd5MKdgUnJbEiHHXDr6io9Y1Oa0udOsbBY5L2+uVAVwSqQIQ00jAHIAT5Q3I8ySIHhqp+HtP+z+JPFd5JaeVJd6jFtnaLaZo1s4AMNj5lDeYB2B3d81Jo9vNea5qOtX0MkR3tY2UUqkNHBGxDvg9DJIC2QcNGkBIyKwdOlB33sk/VtbfL9Og9SxcanNF4u0/SlWMwXNjdXLsQdwaKS3VQDnGMTNnjsOnexJrGmQ6tDpU2o2keozp5kVm06iaRefmVM5I+VuQOx9Kz7u3mb4g6TcrDIYI9Lvo3lCnarNLaFVJ6AkKxA77T6Vz19bXS6Drfhw2d3JrepXNzNaXi27tDueRmt52uANqGFRGPmIdfIARW/d7rp0KdRQ16a/e9X5JWv8ApuK7R1t34g0bT9Sg06/1axtr642+TazXKJLLuO1dqE5OSCBgcnij/hING/tr+x/7Wsf7U/58ftKef93d/q87vu/N06c1z1tcxaPb6npOtaTfahc313cykQ6fJcRXscsjeUrS7fLGIykJErKFEeOIwrHD1Vb+SV7eR9Zhlg1pLttLs9IzZNBHeibzBKsBLO0S+aQJSzSEqBuOytaeChOVtfXv5rR6etl3kg5mdzcanNF4u0/SlWMwXNjdXLsQdwaKS3VQDnGMTNnjsOnc1jU5rS506xsFjkvb65UBXBKpAhDTSMAcgBPlDcjzJIgeGqvd28zfEHSblYZDBHpd9G8oU7VZpbQqpPQEhWIHfafSjR7ea81zUdavoZIjvaxsopVIaOCNiHfB6GSQFsg4aNICRkVzqMFGM30X3u7S/wA/RD12LFxqc0Xi7T9KVYzBc2N1cuxB3BopLdVAOcYxM2eOw6d7EtxMuuWtsstoIJLaaR4nY+ezK0QVkHQoAzBj2LR+tZ93bzN8QdJuVhkMEel30byhTtVmltCqk9ASFYgd9p9KLu3mb4g6TcrDIYI9Lvo3lCnarNLaFVJ6AkKxA77T6UlCD5P8Mn8/e/yQakeheK7PUH+x399Yw6pJd3kUNkJgsskcNzNErBCdx+WIkkcZDdOguaxqc1pc6dY2CxyXt9cqArglUgQhppGAOQAnyhuR5kkQPDVxUMMjeFde8PW+i31rrGpajqEtrcGxdYmke5kMN0ZwNqbMIwLESYiUorZj3dbo9vNea5qOtX0MkR3tY2UUqkNHBGxDvg9DJIC2QcNGkBIyK6K9ClTnKotk3p37W8v/AJF69Ek21YuL4g0Z9Si05NWsWvpt/l2ouUMr7CyvhM5O0o4PHBRgehqwdQs1sprxruAWsHmebOZRsj8skPubOBtKsDnoQc9K8+0qzvtR8N63otlonk/2lq+osusRyRBIX+2SgTuMiTzoygKbVYZSL505KXGSHVfFN94e0i9tLvSLi5F5qcUEoc2rISJrdguVQTSCIlGHzg3mTkinPBU1JpS+HfZ6L02b6J9vMOZmpD470Z/HF7oUmtaUvkw26wp9qQSvcvJMkkWN3LLsj+UDIL89RVnQvFdnqD/Y7++sYdUku7yKGyEwWWSOG5miVghO4/LESSOMhunQRvMdM+INzc3VvdmDUbGztbeWC1kmXzI5bguHKKRGAJozufaDk4PytjGj0eaHwbMkOnSR3M/iv7XKqwEPIv8Aa4bzWGMkeUqncf4ADnApujQkkkmr8iTv3Tu9tk9/PsK7Oxk1jTIdWh0qbUbSPUZ08yKzadRNIvPzKmckfK3IHY+lRr4g0Z9Si05NWsWvpt/l2ouUMr7CyvhM5O0o4PHBRgehrkr62ul0HW/Dhs7uTW9Subma0vFt3aHc8jNbztcAbUMKiMfMQ6+QAit+73EejzQ+DZkh06SO5n8V/a5VWAh5F/tcN5rDGSPKVTuP8ABzgVP1SlZNy3aXTr9r0/y37PmZqXuqeItOddRvBYx6e2oxWa2HkMZyklysCS+eJNvO5Zdvl5AOwnPzV1NcFqkVpf60j23hqSz8TrqkGb6PTny1vHcJuf7YECYe2U5XfnDGPk/Ke1e72alDZ/Z5286GSXz1TMSbCg2s3Zm35A7hG9KxxEPdjpZ6+Wmnm7re0t38hpnPajd+JbLxBp9tBqGlXEd9dkLa/wBmyCSO2X5pHaQTnG1cLv8ALwZHjBChuNXWNTmtLnTrGwWOS9vrlQFcEqkCENNIwByAE+UNyPMkiB4aq8VvNN8Qbq5uIZDBa6XDHaSlSFDSyymdQejEiG3JBztwMY3HJo9vNea5qOtX0MkR3tY2UUqkNHBGxDvg9DJIC2QcNGkBIyKcuWyckvdXkrt7LTsrX9GIj8WeK7Pw9o+peXfWI1iDTp7y1sZ5hvl8uN2B8vIZl+Q5x2B54rUluJl1y1tlltBBJbTSPE7Hz2ZWiCsg6FAGYMexaP1rgvEsMkPgXxToF3ot9qmqah9tuITBYvOlwHZ2gfzcbQ0aCNQrEODCAgb93u627t5m+IOk3KwyGCPS76N5Qp2qzS2hVSegJCsQO+0+laToU4wjb+/r3tFWa8r7f0kXZc/4SDRv7a/sf+1rH+1P+fH7Snn/AHd3+rzu+783TpzWND470Z/HF7oUmtaUvkw26wp9qQSvcvJMkkWN3LLsj+UDIL89RWfvkste/s7TrS+uIJdR82bTL7S3aCMmbzGuIbsDy1+Zmnw7OSQqKIm+UarzHTPiDc3N1b3Zg1Gxs7W3lgtZJl8yOW4LhyikRgCaM7n2g5OD8rYfsKUU9G7x0113Wu3a+11a9pPoXZ0lZ6+INGfUotOTVrFr6bf5dqLlDK+wsr4TOTtKODxwUYHoap3Hgjwpd3MtzdeGNGnnmcySSyafEzOxOSxJXJJPOa5LSrO+1Hw3rei2WieT/aWr6iy6xHJEEhf7ZKBO4yJPOjKAptVhlIvnTkplSw9GpFy5npZa2Vr313d7W23Y22juf+Eg0b+2v7H/ALWsf7U/58ftKef93d/q87vu/N06c0XfiDRtP1KDTr/VrG2vrjb5NrNcoksu47V2oTk5IIGByeK4LVVv5JXt5H1mGWDWku20uz0jNk0Ed6JvMEqwEs7RL5pAlLNISoG47K3La5i0e31PSda0m+1C5vru5lIh0+S4ivY5ZG8pWl2+WMRlISJWUKI8cRhWO0sFCMU9X5L89Vt6XX97suZmrpPiJbjTBcak0cUsuqXVhAkSMTIY7mWJAFGSTsj3MegAZjhQcXP+Eg0b+2v7H/tax/tT/nx+0p5/3d3+rzu+783TpzXLeF9PvNGvp7++tJ7iK71G+hQtEfNsVe+lZSq45hkyjFgNwO1mLRgGHL1Vb+SV7eR9Zhlg1pLttLs9IzZNBHeibzBKsBLO0S+aQJSzSEqBuOyq+p0qlaUYvS/6+j0XW9ltqk1dczSPQZ9Y0y2vxY3Oo2kN2UWQW8k6rIVZxGrbSc4LkKD3YgdaJNY0yHVodKm1G0j1GdPMis2nUTSLz8ypnJHytyB2PpXm2qX1q2pJ4cjitNQ1L/hJYNQ86SZBcqovEY/uG/fb44vkDbdht0Dh8YSrF7o1xE2q6dqup+JxNf301zHFpmnxTRzBpN0BW4Nu3luqiNA0kiGMxAgqio1UsvhZc0rX/LTWyu7eTt8g52d7/wAJBo39tf2P/a1j/an/AD4/aU8/7u7/AFed33fm6dOaj1jU5rS506xsFjkvb65UBXBKpAhDTSMAcgBPlDcjzJIgeGrmt8llr39nadaX1xBLqPmzaZfaW7QRkzeY1xDdgeWvzM0+HZySFRRE3yjd0e3mvNc1HWr6GSI72sbKKVSGjgjYh3wehkkBbIOGjSAkZFc06EKVp9Lder6fLr1WjtJju3oUofHejP44vdCk1rSl8mG3WFPtSCV7l5Jkkixu5ZdkfygZBfnqK3ZNY0yHVodKm1G0j1GdPMis2nUTSLz8ypnJHytyB2PpWO8x0z4g3NzdW92YNRsbO1t5YLWSZfMjluC4copEYAmjO59oOTg/K2OWvdGuIm1XTtV1PxOJr++muY4tM0+KaOYNJugK3Bt28t1URoGkkQxmIEFUVGrZYajVkraKy876K7Vl0e/n1QuZo71fEGjPqUWnJq1i19Nv8u1FyhlfYWV8JnJ2lHB44KMD0NH/AAkGjf21/Y/9rWP9qf8APj9pTz/u7v8AV53fd+bp05rko9Hmh8GzJDp0kdzP4r+1yqsBDyL/AGuG81hjJHlKp3H+AA5wKk3yWWvf2dp1pfXEEuo+bNpl9pbtBGTN5jXEN2B5a/MzT4dnJIVFETfKJ+qUnzcrel191tfTXrZd5IfMzrZNY0yHVodKm1G0j1GdPMis2nUTSLz8ypnJHytyB2PpUdx4g0a0vY7O71axgupZvIjgluUV3kwp2BSclsSIcdcOvqK5K+trpdB1vw4bO7k1vUrm5mtLxbd2h3PIzW87XAG1DCojHzEOvkAIrfu9274e0/7P4k8V3klp5Ul3qMW2dotpmjWzgAw2PmUN5gHYHd3zWcsPShFybei+/VK68nd99vuLszrjxxZz+OP7CsPEOh2v2byRMlxIJZbmR5HRreMCVdki+WM5DnMq/KMfNu3GpzReLtP0pVjMFzY3Vy7EHcGikt1UA5xjEzZ47Dp3r2lvMvxB1a5aGQQSaXYxpKVO1mWW7LKD0JAZSR23D1ou7eZviDpNysMhgj0u+jeUKdqs0toVUnoCQrEDvtPpRJUnUUYrRR8t+W/ZdfUNbGhJrGmQ6tDpU2o2keozp5kVm06iaRefmVM5I+VuQOx9KkOoWa2U1413ALWDzPNnMo2R+WSH3NnA2lWBz0IOelcVfW10ug634cNndya3qVzczWl4tu7Q7nkZredrgDahhURj5iHXyAEVv3e7H1bw5r8ravaW9tG1l9pudLSUxyeY8GpSCWedVAwRC8kAHzYIhuMlSV27QwVKbSc7fqu69W0l830aS5meg6xqc1pc6dY2CxyXt9cqArglUgQhppGAOQAnyhuR5kkQPDVIviDRn1KLTk1axa+m3+Xai5QyvsLK+Ezk7Sjg8cFGB6Gqej2815rmo61fQyRHe1jZRSqQ0cEbEO+D0MkgLZBw0aQEjIrktKs77UfDet6LZaJ5P9pavqLLrEckQSF/tkoE7jIk86MoCm1WGUi+dOSmcMPSlG0na1ru63d++9rbLV6juz0E6hZrZTXjXcAtYPM82cyjZH5ZIfc2cDaVYHPQg56Vz0PjvRn8cXuhSa1pS+TDbrCn2pBK9y8kySRY3csuyP5QMgvz1FZbJDqvim+8PaRe2l3pFxci81OKCUObVkJE1uwXKoJpBESjD5wbzJyRWy8x0z4g3NzdW92YNRsbO1t5YLWSZfMjluC4copEYAmjO59oOTg/K2GsPTgpKSbbV0tnuvJ6738lcLtkmheK7PUH+x399Yw6pJd3kUNkJgsskcNzNErBCdx+WIkkcZDdOg1JNY0yHVodKm1G0j1GdPMis2nUTSLz8ypnJHytyB2PpXHR6PND4NmSHTpI7mfxX9rlVYCHkX+1w3msMZI8pVO4/wAABzgUX1tdLoOt+HDZ3cmt6lc3M1peLbu0O55Ga3na4A2oYVEY+Yh18gBFb93uuWGozm3F2V2vT+96K/8Awey5nY61fEGjPqUWnJq1i19Nv8u1FyhlfYWV8JnJ2lHB44KMD0NR6xqc1pc6dY2CxyXt9cqArglUgQhppGAOQAnyhuR5kkQPDVy0ejzQ+DZkh06SO5n8V/a5VWAh5F/tcN5rDGSPKVTuP8ABzgV0Oj2815rmo61fQyRHe1jZRSqQ0cEbEO+D0MkgLZBw0aQEjIrKdGlTvNO6Ta9WrW+Wv3J66ju2aEmsaZDq0OlTajaR6jOnmRWbTqJpF5+ZUzkj5W5A7H0qP/hING/tr+x/7Wsf7U/58ftKef8Ad3f6vO77vzdOnNcFe6NcRNqunarqficTX99NcxxaZp8U0cwaTdAVuDbt5bqojQNJIhjMQIKoqNRqq38kr28j6zDLBrSXbaXZ6RmyaCO9E3mCVYCWdol80gSlmkJUDcdlbxwFNtWlv6/ftt+HeSFzM9Bn1jTLa/Fjc6jaQ3ZRZBbyTqshVnEattJzguQoPdiB1ok1jTIdWh0qbUbSPUZ08yKzadRNIvPzKmckfK3IHY+lebapfWraknhyOK01DUv+Elg1DzpJkFyqi8Rj+4b99vji+QNt2G3QOHxhKsXujXETarp2q6n4nE1/fTXMcWmafFNHMGk3QFbg27eW6qI0DSSIYzECCqKjU1l8LLmla/5aa2V3bydvkHOzvbjxBo1pex2d3q1jBdSzeRHBLcorvJhTsCk5LYkQ464dfUVHrGpzWlzp1jYLHJe31yoCuCVSBCGmkYA5ACfKG5HmSRA8NVPw9p/2fxJ4rvJLTypLvUYts7RbTNGtnABhsfMobzAOwO7vmpNHt5rzXNR1q+hkiO9rGyilUho4I2Id8HoZJAWyDho0gJGRXG6dKDvvZJ+ra2+X6dCtTQk1jTIdWh0qbUbSPUZ08yKzadRNIvPzKmckfK3IHY+lSHULNbKa8a7gFrB5nmzmUbI/LJD7mzgbSrA56EHPSvOr3RriJtV07VdT8Tia/vprmOLTNPimjmDSboCtwbdvLdVEaBpJEMZiBBVFRq3L+1kk8QSaymlTvpdtMPtVuN4e7mjwFulgx8/lbcDPzSDDKG8mDftLB01a0v8Ag+l7b9LX29bLmZ0smsaZDq0OlTajaR6jOnmRWbTqJpF5+ZUzkj5W5A7H0qO78QaNp+pQadf6tY219cbfJtZrlEll3Hau1CcnJBAwOTxXBXujXETarp2q6n4nE1/fTXMcWmafFNHMGk3QFbg27eW6qI0DSSIYzECCqKjVuW1zFo9vqek61pN9qFzfXdzKRDp8lxFexyyN5StLt8sYjKQkSsoUR44jCsXLB04pNNy9Pz1W33+vY5mdT/aFn9n8/wC1weT53keZ5o2+Z5nl7M5xu3/Jjru461z0PjvRn8cXuhSa1pS+TDbrCn2pBK9y8kySRY3csuyP5QMgvz1FYc8ktvo40CSw1I358Srdfu9PneHym1UXAfzlQx48o7j83HIOCCK6F5jpnxBubm6t7swajY2drbywWsky+ZHLcFw5RSIwBNGdz7QcnB+VsCw1OEZ8ybevL5pOOq0d7q/yTDmbNiTWNMh1aHSptRtI9RnTzIrNp1E0i8/MqZyR8rcgdj6VcrzK90a4ibVdO1XU/E4mv76a5ji0zT4po5g0m6ArcG3by3VRGgaSRDGYgQVRUavRXu9mpQ2f2edvOhkl89UzEmwoNrN2Zt+QO4RvSsMRh401Hkd73/Drsv1236Jp3K6+INGfUotOTVrFr6bf5dqLlDK+wsr4TOTtKODxwUYHoasHULNbKa8a7gFrB5nmzmUbI/LJD7mzgbSrA56EHPSvPtKs77UfDet6LZaJ5P8AaWr6iy6xHJEEhf7ZKBO4yJPOjKAptVhlIvnTkpcZIdV8U33h7SL20u9IuLkXmpxQShzashImt2C5VBNIIiUYfODeZOSK6J4KmpNKXw77PRemzfRPt5i5md7VOW4mXW7a3WW1EElvM7xOx89mVowrIOhQBmDHsWj9auVh3dvM3xA0m4WKQwR6Zeo8oU7VZpbUqpPQEhWIHfafSvKLLi6/o76lHpyatYtfS7/LthcoZX2FlbC5ycFHB9CrDsa0K4SPSJofB0qQ6fJHcT+KvtUqrAQ8i/2sG81hjJHlKp3H+AA9BXd0AVZ9TsLW4EF1e28MxQyCOSVVbYASWwTnAAPPsfSpftUHleZ58ezf5e7eMb923bn13fLj14rmNfguLXwzrdrJp/2xZknuDds6BACCw3AnduQAKuAR8icr/C+R3isRprW12bk6sJvltZGTYb3zQ3mBdmNhyeeOh54rb2aaTRj7RptM6J5ZBqMMQeERtFIzIx/eEgoAVH90ZOfcrTJ9TsLa7jtbm9t4biXHlwySqrvk4GFJycnioJ4pD4nspQjGNbO4VnA4BLwkAn1OD+RqnFKlhFd2WoWVzdS3M8rkR2zSpcI7HYC+Nowm1MORjb/dwTKiminJplyy1QS2YluyqO95NbRqiklisrouBySdq5PYAE8AcaNc7o9tPYXElzcQSSpPdXEakod9sGuHIwP+eb/KSQM/dJJXGzRl8Q6LBM8U2r2EckbFXR7lAVI4IIzwaJR973QjL3feLT31pHfJZyXUK3Ui7kgMgDsOeQvUjg/kacbqAW8k5njEMe7fJvG1dpIbJ6DBBz6YNctcWEqG9tb271jzLm5eZUs7VHRwXzGRKYjtZQFXLupUoMEKFNaNzCz6m1+tlI1nE486L5t07rwJhH/Fsxgd24IB8uPdTpruJTfY1nvrSO+SzkuoVupF3JAZAHYc8hepHB/I0yfU7C2u47W5vbeG4lx5cMkqq75OBhScnJ4rm7iwlQ3tre3eseZc3LzKlnao6OC+YyJTEdrKAq5d1KlBghQprRilSwiu7LULK5upbmeVyI7ZpUuEdjsBfG0YTamHIxt/u4JHTSEptmx9qg8rzPPj2b/L3bxjfu27c+u75cevFZkfiOwbxFcaa1/ZDYkQjXzl3tKzyKydeSNqcYyM+4rOkd4rEaa1tdm5OrCb5bWRk2G980N5gXZjYcnnjoeeK02c2nieaWaKYx3VtBDE8cLyDcrylgxUHaP3i8tgcn0ODkSTDnbaL731pHfJZyXUK3Ui7kgMgDsOeQvUjg/kazob+51HxRc21rJ5Vjpe1LhlUEzzum7yjnlVRHjckfeMigMNjq2TcWEqG9tb271jzLm5eZUs7VHRwXzGRKYjtZQFXLupUoMEKFNXrD/iUeL9Ut7r5Y9ZmS8tJm4DyLAsUkA/2lWBZBkgsHbAIjY1rCnFRk93bT71f8L+m5UZN7mpJrGmQ6tDpU2o2keozp5kVm06iaRefmVM5I+VuQOx9KjXxBoz6lFpyatYtfTb/LtRcoZX2FlfCZydpRweOCjA9DXJX1tdLoOt+HDZ3cmt6lc3M1peLbu0O55Ga3na4A2oYVEY+Yh18gBFb93up6VZ32o+G9b0Wy0Tyf7S1fUWXWI5IgkL/bJQJ3GRJ50ZQFNqsMpF86clOpYOlyczl1tuv/AvTst3Z/J8zuek1nr4g0Z9Si05NWsWvpt/l2ouUMr7CyvhM5O0o4PHBRgehqnceN/Clpcy2114n0aCeFzHJFJqESsjA4KkFsgg8Yrno9Hmh8GzJDp0kdzP4r+1yqsBDyL/AGuG81hjJHlKp3H+AA5wKwpYXS9VNXaS6b3116Ibl2Ot/wCEg0b+2v7H/tax/tT/AJ8ftKef93d/q87vu/N06c1GvijQGuXtl1zTTPHcraPELuPcs7FgsRGchyVYBep2njiuG1Vb+SV7eR9Zhlg1pLttLs9IzZNBHeibzBKsBLO0S+aQJSzSEqBuOyq+p6PqcmiamkenXbO+l+J40VYGJZpbxWiUDHJdRlR/EORmuyOAovl5pWvp+Dd9UtHtpdf3mTzM9Jk1jTIdWh0qbUbSPUZ08yKzadRNIvPzKmckfK3IHY+lXK8yvdGuIm1XTtV1PxOJr++muY4tM0+KaOYNJugK3Bt28t1URoGkkQxmIEFUVGr0FtThGuJpSrI87WzXLsgBWJQyqoc5ypcltvHPlyf3a4q+GVNLkd9/w67L9dt+ipSvuQ2//IaP/XE/zFaVZtv/AMho/wDXE/zFaVcRQUUUUAFFFFACOiyRskih0YYZWGQR6GsD/hAPBv8A0KWh/wDgth/+JroK5KDxjfyA3kuixw6UmqNpjTm8zM7/AGo2yukYTBQvtzudWHz4VsKX6sOq7T9i7bdbenXUl26l3/hAPBv/AEKWh/8Agth/+Jo/4QDwb/0KWh/+C2H/AOJo/wCEp/4kH9p/Y/8AmL/2Z5fm/wDT99k35x/wPGPbPesaf4g3lst3PNosH2W2+3z7lviXa2spvKnfb5QAkJKFE3YYFsumBnqhDHzvyyejt8XVdNxe6jZ/4QDwb/0KWh/+C2H/AOJo/wCEA8G/9Clof/gth/8Aia6CubufFc0Md3qUWnxyaBYPKl3em4KzL5TFZXSHYdyIysCSysdj7Vb5N+FOri6jtGb+/wD4O/luNqKJP+EA8G/9Clof/gth/wDiaP8AhAPBv/QpaH/4LYf/AImj/hKf+JB/af2P/mL/ANmeX5v/AE/fZN+cf8Dxj2z3rKtLjX/+Fqasq6ZppgNjYq7nUZAywefd7XC+RguRuymQBgfOc8bx+uOM26jXLf7XVNJrfzF7vY1f+EA8G/8AQpaH/wCC2H/4mj/hAPBv/QpaH/4LYf8A4mqUfjG/Nne6rcaLHDomn3N1DdXJvN0wSCV42mSIJhkATcQWV+HCq+F33f8AhKf+JB/af2P/AJi/9meX5v8A0/fZN+cf8Dxj2z3pSWOi7OT3t8XXtuHuh/wgHg3/AKFLQ/8AwWw//E0f8IB4N/6FLQ//AAWw/wDxNZVpca//AMLU1ZV0zTTAbGxV3OoyBlg8+72uF8jBcjdlMgDA+c540bLxNf6hrl1a2em2kltZ3PkXKf2htvYRuKiRrcpgI20upMmWj+YAkhKc1jIvSo2rJ/F3S8/MPd7En/CAeDf+hS0P/wAFsP8A8TR/wgHg3/oUtD/8FsP/AMTXQUVyfWsR/O/vZXKuxz//AAgHg3/oUtD/APBbD/8AE1Jb+CPClpcxXNr4Y0aCeFxJHLHp8SsjA5DAhcgg85qS5mtl8caZC9ruun068eO58wjy0ElsHTb0O4shz1GzjqayoPGN/IDeS6LHDpSao2mNObzMzv8AajbK6RhMFC+3O51YfPhWwpfoi8XUinGb1/vd21Za67f8An3Ubt34f0bUNSg1G/0mxub632+TdTWyPLFtO5drkZGCSRg8HmpNT0fTNatlttZ0601CBXEixXcCyqGAI3AMCM4JGfc1z0fjG/Nne6rcaLHDomn3N1DdXJvN0wSCV42mSIJhkATcQWV+HCq+F33f+Ep/4kH9p/Y/+Yv/AGZ5fm/9P32TfnH/AAPGPbPeodDFRcfJ2Wq0fbfQd4h/wgHg3/oUtD/8FsP/AMTR/wAIB4N/6FLQ/wDwWw//ABNZVpca/wD8LU1ZV0zTTAbGxV3OoyBlg8+72uF8jBcjdlMgDA+c540bLxNf6hrl1a2em2kltZ3PkXKf2htvYRuKiRrcpgI20upMmWj+YAkhK2msZF6VG1ZP4u6Xn5i93sSf8IB4N/6FLQ//AAWw/wDxNH/CAeDf+hS0P/wWw/8AxNdBRXJ9axH87+9lcq7HP/8ACAeDf+hS0P8A8FsP/wATR/wgHg3/AKFLQ/8AwWw//E1nXvj2PTvEq6beDSo1a7itFt/7WQ35MjqiP9mC42ksr/6zIjO4jPyVHaXGv/8AC1NWVdM00wGxsVdzqMgZYPPu9rhfIwXI3ZTIAwPnOeO3kxqi5Sm1pde9vql38yfdNX/hAPBv/QpaH/4LYf8A4mj/AIQDwb/0KWh/+C2H/wCJrKtLjX/+Fqasq6ZppgNjYq7nUZAywefd7XC+RguRuymQBgfOc8asGvarfeItQ0/T9Hga1027jt7i7uL3y9waGKUmNFjYswEhyG2j7uGOWCTP63F2VRvRP4u9vPz+Ye72D/hAPBv/AEKWh/8Agth/+Jo/4QDwb/0KWh/+C2H/AOJqOy8TX+oa5dWtnptpJbWdz5Fyn9obb2Ebioka3KYCNtLqTJlo/mAJISukrCpVxdJ2nN/+Bf8ABGlFnP8A/CAeDf8AoUtD/wDBbD/8TR/wgHg3/oUtD/8ABbD/APE10Fc+de1W7mmm0LR4L7T7eaSCSWS98maV43KSCKMxlThlZQXeMFlPRcOSFbFVNpv5yt+bC0V0JLfwR4UtLmK5tfDGjQTwuJI5Y9PiVkYHIYELkEHnNWNT8MaBrVytzrOh6bqE6oI1lu7SOVgoJO0FgTjJJx7muetLjX/+Fqasq6ZppgNjYq7nUZAywefd7XC+RguRuymQBgfOc8bNx4hmt7mXTzpsjaqzn7Jbhz5dxHniXzduFRRjzMjKHAAffF5mlSOJVRWm27J35tk0n30X/DiXLYj/AOEA8G/9Clof/gth/wDiaP8AhAPBv/QpaH/4LYf/AImugorn+tYj+d/eyuVdjn/+EA8G/wDQpaH/AOC2H/4mj/hAPBv/AEKWh/8Agth/+JqlB4xv5AbyXRY4dKTVG0xpzeZmd/tRtldIwmChfbnc6sPnwrYUvHe+PY9O8Srpt4NKjVruK0W3/tZDfkyOqI/2YLjaSyv/AKzIjO4jPyV2KGPbcVJt/wCLtv1J90624t4bu2ltrqGOeCZDHJFIoZXUjBUg8EEcYrD/AOEA8G/9Clof/gth/wDiaxp/iDeWy3c82iwfZbb7fPuW+Jdraym8qd9vlACQkoUTdhgWy6YGTUPilo1hqV0sl5pS2NjM8F0ZdTRLsOhKuUtiMuqkEcsrNtYor/JvVPCY6GlNP5Pt6Pf8Qco9TVj8EeB5pJkh8MeH5Hgfy5VXT4CY22htrDbwdrKcHsQe9Sf8IB4N/wChS0P/AMFsP/xNGsf6D4v0C8t/lkv5pNOuB0EkfkSzqTjqytDhScgCWXjLZHQVhUr14qLVR6q+77tfoNJdjn/+EA8G/wDQpaH/AOC2H/4mj/hAPBv/AEKWh/8Agth/+JroKKz+tYj+d/ex8q7HP/8ACAeDf+hS0P8A8FsP/wATR/wgHg3/AKFLQ/8AwWw//E10FFH1rEfzv72HKuxz/wDwgHg3/oUtD/8ABbD/APE0f8IB4N/6FLQ//BbD/wDE10FFH1rEfzv72HKuxz//AAgHg3/oUtD/APBbD/8AE0f8IB4N/wChS0P/AMFsP/xNdBRR9axH87+9hyrsc/8A8IB4N/6FLQ//AAWw/wDxNH/CAeDf+hS0P/wWw/8AxNdBRR9axH87+9hyrsYdv4I8KWlzFc2vhjRoJ4XEkcsenxKyMDkMCFyCDzmrl34f0bUNSg1G/wBJsbm+t9vk3U1sjyxbTuXa5GRgkkYPB5rQoqHXqt3cnf1YWRT1PR9M1q2W21nTrTUIFcSLFdwLKoYAjcAwIzgkZ9zWX/wgHg3/AKFLQ/8AwWw//E10FFEK9WCtCTS8mwsmc/8A8IB4N/6FLQ//AAWw/wDxNH/CAeDf+hS0P/wWw/8AxNdBRV/WsR/O/vYcq7HP/wDCAeDf+hS0P/wWw/8AxNH/AAgHg3/oUtD/APBbD/8AE10FFH1rEfzv72HKuxz/APwgHg3/AKFLQ/8AwWw//E0f8IB4N/6FLQ//AAWw/wDxNdBRR9axH87+9hyrsR3FvDd20ttdQxzwTIY5IpFDK6kYKkHggjjFYf8AwgHg3/oUtD/8FsP/AMTXQUVnCtUpq0JNejCyZz//AAgHg3/oUtD/APBbD/8AE0f8IB4N/wChS0P/AMFsP/xNdBRWn1rEfzv72HKuxz//AAgHg3/oUtD/APBbD/8AE0f8IB4N/wChS0P/AMFsP/xNdBRR9axH87+9hyrsc/8A8IB4N/6FLQ//AAWw/wDxNH/CAeDf+hS0P/wWw/8AxNdBRR9axH87+9hyrsc//wAIB4N/6FLQ/wDwWw//ABNH/CAeDf8AoUtD/wDBbD/8TXQUUfWsR/O/vYcq7HP/APCAeDf+hS0P/wAFsP8A8TUlv4I8KWlzFc2vhjRoJ4XEkcsenxKyMDkMCFyCDzmtyik8VXas5v72HKuxn3fh/RtQ1KDUb/SbG5vrfb5N1NbI8sW07l2uRkYJJGDweal1DStP1aGOLVbC2vo4pBLGlzCsgRxkBgGBwRk8+9W6Kz9pPTV6beQWQUUUVmMKKKKACiiigAooooAKKKKACiiigAooooAKKKKACiiigAooooAKKKKACiiigAooooAzbf8A5DR/64n+YrSrNt/+Q0f+uJ/mK0qACiiigAooooAK5/8A4Rb/AIkH9mfbP+Yv/afmeV/0/fa9mM/8Azn3x2roKK0hVnT+F9U/mthWuclP4R1NgLK21e0j0j+1F1IwyWDPcFvtQumXzRKFwZMgfu+FIHJGTHd+AftWn3dt/aWz7TaatbbvIzt+3TiXdjdzsxjH8XX5eldjRXQsdiFaz2d9lvtfbUXKjDuLvxWtzKtroujSQByI3k1eVGZc8EqLYgHHbJx6mq9z4Ummju9Ni1COPQL95Xu7I25aZvNYtKiTbxtR2ZiQVZhvfay/Js6SioWIlD+Gkvx+et9V0asO3c5KfwjqbAWVtq9pHpH9qLqRhksGe4LfahdMvmiULgyZA/d8KQOSMnVuNHvF8S/2tpl7BB58MNveRXFsZfMjid2XyyHXY372QEkOPu8DB3QadrOt6nM8lvpVgtil5NbGV9RcS7YpmiZtghxn5CQN3pyKJtf1C3mE9xpKRaYbxbMSvcMtwWaYQq/lGPbsLkEHfyhDYz8tQ8bUktX36Lra99NdlqzPmha/+ZR0zwS0UNzFqWp3clpdX13cz6akitbTrLcSSKG3JvA2sgaNWCMQwIYM+4n8I6mwFlbavaR6R/ai6kYZLBnuC32oXTL5olC4MmQP3fCkDkjJ62itvrtfm5r9b7Lfv6+e5fKjHuNHvF8S/wBraZewQefDDb3kVxbGXzI4ndl8sh12N+9kBJDj7vAwd1O98M3+oa5a3V5qVpJbWdz59s/9n7b2EbgxjW4D4CNtCMBHlo/lJJJeukorOOJqRd09bW2W33Dsim0d+2uJKJo006O2ZTCBlppWZcMePlCKpAwTu8w5A2DNyiisXK9hmfNpXneJbLVvOx9ltLi28rb97zXhbdnPGPJxjHO7tjnP/wCEW/4kH9mfbP8AmL/2n5nlf9P32vZjP/AM598dq0IdU87xJeaT5OPstpb3Pm7vvea8y7cY4x5Oc553dsc6FaRr1IpJPa1vldr82KyOS0zwS0UNzFqWp3clpdX13cz6akitbTrLcSSKG3JvA2sgaNWCMQwIYM+4n8I6mwFlbavaR6R/ai6kYZLBnuC32oXTL5olC4MmQP3fCkDkjJ62itvrtfm5r9b7Lfv6+e4uVGPcaPeL4l/tbTL2CDz4Ybe8iuLYy+ZHE7svlkOuxv3sgJIcfd4GDup3vhm/1DXLW6vNStJLazufPtn/ALP23sI3BjGtwHwEbaEYCPLR/KSSS9dJRWccTUi7p62tstvuHZFNo79tcSUTRpp0dsymEDLTSsy4Y8fKEVSBgnd5hyBsGblFFYuV7DOSuPCOptDLY2ur2kemm+OoxxyWDPMs/wBo+0jMglClPO/h2AlPl3A/PWrcaPeL4l/tbTL2CDz4Ybe8iuLYy+ZHE7svlkOuxv3sgJIcfd4GDu2KK3eKqy3ffoutr3012QuVGPcaPeL4l/tbTL2CDz4Ybe8iuLYy+ZHE7svlkOuxv3sgJIcfd4GDusabpX9n6hq9z53mf2ldrc7duPLxBFFtznn/AFWc8fex2ybDzXC6lDClrutXhkeS58wDy3BQKm3qdwZznts9xVis3Wm1Zvpb5af5ILI5u98M3+oa5a3V5qVpJbWdz59s/wDZ+29hG4MY1uA+AjbQjAR5aP5SSSXrYaO/bXElE0aadHbMphAy00rMuGPHyhFUgYJ3eYcgbBmR5rhdShhS13WrwyPJc+YB5bgoFTb1O4M5z22e4qvDqnneJLzSfJx9ltLe583d97zXmXbjHGPJznPO7tjlyrzkkpW0Vlov6/ruFkaFc+dB1W0mmh0LWILHT7iaSeSKSy86aJ5HLyGKQyBRlmZgHSQBmPVcINh5rhdShhS13WrwyPJc+YB5bgoFTb1O4M5z22e4qxUwqyp7fik/zC1zHuNHvF8S/wBraZewQefDDb3kVxbGXzI4ndl8sh12N+9kBJDj7vAwd0dx4emuLmXUDqUi6qrn7JcBD5dvHniLyt2GRhjzMnLnBBTZF5dybVPJ8SWek+Tn7VaXFz5u77vlPCu3GOc+dnOeNvfPFh5rhdShhS13WrwyPJc+YB5bgoFTb1O4M5z22e4q1iKi6+Wy27efz6aBZEbR37a4komjTTo7ZlMIGWmlZlwx4+UIqkDBO7zDkDYM3KKKycr2Gc//AMIt/wASD+zPtn/MX/tPzPK/6fvtezGf+AZz747VSuPCOptDLY2ur2kemm+OoxxyWDPMs/2j7SMyCUKU87+HYCU+XcD89buv6p/YfhvU9W8nz/sFpLc+Vu279iFtucHGcYzg1GupzXXiR9OsVj8iyRXvZ3Bb5nDbIUwcBwMO2eitHhT5m5OuniK+ri+vNst++2/YlpGFd+AftWn3dt/aWz7TaatbbvIzt+3TiXdjdzsxjH8XX5elaJ0HVbSaaHQtYgsdPuJpJ5IpLLzponkcvIYpDIFGWZmAdJAGY9VwguNqc1r4kTTr5Y/IvUZ7KdAV+ZAu+F8nBcjLrjqqyZUeXufUonicQklJ3T12TWr16d7+moJIy20ya68SJqN80fkWSMllAhLfM4XfM+RgOBlFx0VpMsfM2pqUUVyym5Wv00KCiiioAKKKKACiiigAooooAKKKKACiiigAooooAKKKKACiiigAooooAKKKKACiiigAooooAKKKKACiiigAooooAKKKKACiiigAooooAKKKKACiiigAooooAKKKKACiiigAooooAKKKKACiiigAooooAKKKKACiiigDNt/+Q0f+uJ/mK0qzbf8A5DR/64n+YrSoAKKKKACiiigAooooAKKKKACiiigDgLxPDCXijRbWztPEf9sxl48IL8g3gMz9TJsaMyN6eU3ZeKn1e90i91OM2l3MNbXVLeM6ZNeuzbEuUV5Balyu3y1MobZwMSDBGR3FFZezMfZf1b+tQooorU2CiiigArgG/wCEW+1Xn/CcfYf+Eg+1z+R9ox9s8nzW+zfZcfP/AKvZt8nnzN3/AC03139FAHCPpHhXTvilc3Gqafo9rPeW9o9hLcwRI09351wZGiLDLS5aEkr83KZ6ipL/AOx/2lc7fP8A+EW85/7V2Y+z/aMnd7+Tnd5+35N+3dx9qrt6KAK739tHqUOnvJi6nhknjj2n5kjKK5z04MicdeeOhrzDUYX/ALYv5dY8RaHpWu/a5vsTXOmtLqMcPmN5H2ciceYpTaAkaFWYujK7mQH1eim7dAPNINJsbfQDrcVrGNU/4Spo1vSMzRo2sGNkRzyiMjMCq4U73yPmbMn/ABIrHxt/zCtU1GbUfeHWbVmk/wC+5YQG/wCmarbp/wAtVPPo9FIDzSfV9NttAGiXOoWsWrHxUriwknVZyrawJFbyyd2DGQ4OOVIPTmtzR9B0q/8AGHiW/v7CC7urbVojbyXCeZ5BFnasGjDZCNnGWXBO1ck7Vx19FAHlGowv/bF/LrHiLQ9K137XN9ia501pdRjh8xvI+zkTjzFKbQEjQqzF0ZXcyA+r0Vh3Hgnwrd3MtxdeGdHmnmcvJLJYRMzsTksSVySTzmgCO8/5KRo3/YJv/wD0dZ1ykGk2NvoB1uK1jGqf8JU0a3pGZo0bWDGyI55RGRmBVcKd75HzNn0uigDn7z/kpGjf9gm//wDR1nWI+keFdO+KVzcapp+j2s95b2j2EtzBEjT3fnXBkaIsMtLloSSvzcpnqK7uigDn7z/kpGjf9gm//wDR1nXCarPYx682oLdaBp2qQayhmt5IM6qtul0BJIZ2l3CJoA0mNm1YDt+4N1et0UAc/ef8lI0b/sE3/wD6Os6Lz/kpGjf9gm//APR1nXQUUAecf8UHq/jb/mXLK5tNR/6YR315erJ+EiqJB/vSMP7n+tz9Rhf+2L+XWPEWh6Vrv2ub7E1zprS6jHD5jeR9nInHmKU2gJGhVmLoyu5kB9XooA8o8Y/2F/wifif/AISbyP8AhKfJv/su7P2vyMyeR5O35vJ8rbu2fJ/rfM582u30f/QfF+v2dx8sl/NHqNuegkj8iKBgM9WVocsBkASxc5bA6Co5LeGaSF5oY5HgfzImZQTG20ruU9jtZhkdiR3rWnNRUk+qt+Kf6CZh6x/p3i/QLO3+aSwmk1G4PURx+RLAoOOjM02VBwCIpecrg9BUcdvDDJM8MMcbzv5krKoBkbaF3Me52qoyewA7VJRUmpKKXRW/Fv8AUEFFFFZDCiiigAooooAKKKKACiiigAooooAKKKKACiiigAooooAKKKKACiiigAooooAKKKKACiiigAooooAKKKKACiiigAooooAKKKKACiiigAooooAKKKKACiiigAooooAKKKKACiiigAooooAKKKKACiiigAooooAKKKKAM23/AOQ0f+uJ/mK0qzbf/kNH/rif5itKgAooooAKKKKACiiigAooooAKKKKAOE04G31B7nXbLxFFnVpkS9fUpFtjuumWAeSJ87DmNQPL2nIJ+X5qteLL67uNTs4dPupreDTb+xe6eCQr5sktzHGsBI4K+Wzs6HB+aE8gmr15puu37rY3Zs5LJb+O6F75zCYJHOJkj8kR7eNoj3b+g3nn5ag1rwLZX6yyWcl5FcXF/Bdzn+07lUfZLGznaHwG2JhcAbcLjbgEc7jLlaicrjLlaj/l/X9anVUUUV0HUFFFFABXIW2u6kfiRqdkdE1V7VbSzVT51v5UQM1yDPtM2drADoN+I+VGFB6+sOaw1K28WvqmnxWtxBeW9va3KzztE0CxSStvQBGEhImPykpjYOTu+UALjxVbW9zL/ol1Jp9u5judUQJ9mt3BwwYlt5CnhnVSiHduYbH214PGltPOcaZqKWaXzafJfyRosKTicwBcF97Bn2gMqso3jJBVwuRc+AYY766Ft4Z8M6kl5cS3B1DU4QZ4WlcuwZBEfOCsxK/PHldqcbd51P8AhGrz/hGf7O8yDzv7c/tHduO3y/7R+1Y6fe2cY6buM45oAtweJhc3xjttI1GWyFw1sdRjSNoRIrmNhsD+bgSAqW2YGC2dnzUXHiq2t7mX/RLqTT7dzHc6ogT7NbuDhgxLbyFPDOqlEO7cw2PtoT6Dq0nigX1vbadZE3CvLqdrcyxzXESkfu5bfZslOwGIM7nbkuoU/LRdeG9SfT9Q8PQG1Oi6m9w0108rC5hW4d3lRYwu1zl32uWXaGXKvsO8Avr4mE+vXWl2WkajdPZXCQXVxGkaww740kDbnddw2ychAzDacqMruIPEwub4x22kajLZC4a2OoxpG0IkVzGw2B/NwJAVLbMDBbOz5qsaTpk1hqet3EzRsmoXy3EQUnKqLaGLDcdd0THjPBH0GRPoOrSeKBfW9tp1kTcK8up2tzLHNcRKR+7lt9myU7AYgzuduS6hT8tAHV1h3GvajDcyxR+EtYuERyqzRy2YWQA/eG64BwevIB9QK3Kw7jwT4Vu7mW4uvDOjzTzOXklksImZ2JyWJK5JJ5zQBuVzcXjS2laeX+zNRj0+1uJra51GSNFggeKRo2Jy+8plc71UooOWK7X29JXGad4V1ebTL/TdTv449Jv76+e4sjbhpmhluZWCJMrgKjoykgqzje+GU7dgBty+JbOLRdQ1F45/9Amkgktto855FbaqKueWkyhjHBYSRn+IVXn8Z6Vb6Xd3snnj7LDfTGER/O6WcnlzFedv3sYBIzuHTnFRdHn1Lxq95NYXVjp8TrLNHPJEY724iysMqojNkbWLMXCtmG2x9wis/UPh5NeXOoul9IkFxfL5VqJiI/scpzeRN8u4GVpZ2OD1WDBXyxgA318TCfXrrS7LSNRunsrhILq4jSNYYd8aSBtzuu4bZOQgZhtOVGV3E/iYW18I7nSNRisjcLbDUZEjWEyM4jUbC/m4MhChtmDkNnZ81WNJ0yaw1PW7iZo2TUL5biIKTlVFtDFhuOu6Jjxngj6DlL7wPeT6hJMukaHdXS6iL+LWbiUi8O2cTpCf3LFVACwbhIcIMhePLoA24vGltK08v9majHp9rcTW1zqMkaLBA8UjRsTl95TK53qpRQcsV2vt6SuM07wrq82mX+m6nfxx6Tf3189xZG3DTNDLcysESZXAVHRlJBVnG98Mp27Ne417UYbmWKPwlrFwiOVWaOWzCyAH7w3XAOD15APqBQBmW2u6kfiRqdkdE1V7VbSzVT51v5UQM1yDPtM2drADoN+I+VGFBry6he6j8SJrK50fXPsthDbPAbe+jhiQtNMGmkVJ1MkbCNMKwYgI3yDdhtuaw1K28WvqmnxWtxBeW9va3KzztE0CxSStvQBGEhImPykpjYOTu+Wxb6ZNF4t1DVGaMwXNja26KCdwaKSdmJGMYxMuOex6dwCvceKra3uZf9EupNPt3MdzqiBPs1u4OGDEtvIU8M6qUQ7tzDY+3crhLnwDDHfXQtvDPhnUkvLiW4OoanCDPC0rl2DIIj5wVmJX548rtTjbvPZv9s/tKHy/I+w+TJ527Pm+ZlPL29tuPMznnO3HegDlNR0C2l+IFjbm91hILyxvbmaKPWbtFMiy2wUgLKAoAlcbVwOenAxl6MdK1K4uo9Un8VSX0mrXsO+3m1RbdQLuREAeMiJVChRkEAY5xg12dxpk0vi3T9UVoxBbWN1bupJ3FpZIGUgYxjELZ57jr2PD2mTaTpktvctGzvfXdwDGSRtluZJVHIHIVwD7569aAOM0Y6VqVxdR6pP4qkvpNWvYd9vNqi26gXciIA8ZESqFCjIIAxzjBr0euU0228VaLDc2lrpmj3UDX11cRyyarLExWa4klAKi3YAgPj7x6VfuNe1GG5lij8JaxcIjlVmjlswsgB+8N1wDg9eQD6gUAcZa6nZfZdTm0/X57jxdHqN+lppp1aSUyOtzKsUTWpcqIygUE7RtTL7kxvHby+JbOLRdQ1F45/8AQJpIJLbaPOeRW2qirnlpMoYxwWEkZ/iFSeHtMm0nTJbe5aNne+u7gGMkjbLcySqOQOQrgH3z161kLo8+peNXvJrC6sdPidZZo55IjHe3EWVhlVEZsjaxZi4Vsw22PuEUAdXXnGjHStSuLqPVJ/FUl9Jq17Dvt5tUW3UC7kRAHjIiVQoUZBAGOcYNdXca9qMNzLFH4S1i4RHKrNHLZhZAD94brgHB68gH1Aqhptt4q0WG5tLXTNHuoGvrq4jlk1WWJis1xJKAVFuwBAfH3j0oA05vEtnB9oikjnF9DMIUsNo86dm3GMxjOGVwjMGztAV9xXy5Nsdx4qtre5l/0S6k0+3cx3OqIE+zW7g4YMS28hTwzqpRDu3MNj7Y7nSNVm1JtYS5gW/tt8Vnbf8ALEwEgskjbd26TYjFgPkKIAGAfzcS58Awx310Lbwz4Z1JLy4luDqGpwgzwtK5dgyCI+cFZiV+ePK7U427yAb9x4mCXMq2WkajqNrA5Se8s0jaONlOHUKXDyFe4jV+QVGXBUSf8JLZ/wBk/wBo+XP5P9o/2dt2jd5n2r7Lnr93fznrt5xniqcVhr2jtPZaJFp09nPcTXC3N5PIslu00jSODEqESgO7EfPHkEKcEb2oT+HteW3Gk20OnSaf/bK6kbyS8kSYL9uF2y+SIiMjlB+85wDxnAAJLbXdSPxI1OyOiaq9qtpZqp8638qIGa5Bn2mbO1gB0G/EfKjCg6dx4qtre5l/0S6k0+3cx3OqIE+zW7g4YMS28hTwzqpRDu3MNj7Saw1K28WvqmnxWtxBeW9va3KzztE0CxSStvQBGEhImPykpjYOTu+XAufAMMd9dC28M+GdSS8uJbg6hqcIM8LSuXYMgiPnBWYlfnjyu1ONu8gG3Yf8Tbxdqlxc/NHo8yWlrC3ISRoVlkmH+0yzrGMglQjYIEjCpLjxMEuZVstI1HUbWByk95ZpG0cbKcOoUuHkK9xGr8gqMuCokhsbjTvE1zc2sfm2OqbXuFVgDBOibfNOfvK6JGhA+6Y1IU73ZacVhr2jtPZaJFp09nPcTXC3N5PIslu00jSODEqESgO7EfPHkEKcEb2AKltrupH4kanZHRNVe1W0s1U+db+VEDNcgz7TNnawA6DfiPlRhQdebxLZwfaIpI5xfQzCFLDaPOnZtxjMYzhlcIzBs7QFfcV8uTbHNYalbeLX1TT4rW4gvLe3tblZ52iaBYpJW3oAjCQkTH5SUxsHJ3fLHc6Rqs2pNrCXMC39tvis7b/liYCQWSRtu7dJsRiwHyFEADAP5oB0FFV3+2f2lD5fkfYfJk87dnzfMynl7e23HmZzznbjvWXca9qMNzLFH4S1i4RHKrNHLZhZAD94brgHB68gH1AoAyPD3ipobeWPULTUZYBrN3aNqMgUwxu19JHFH8zb2HzRoCisi5AJG1tuvP4mFtfCO50jUYrI3C2w1GRI1hMjOI1Gwv5uDIQobZg5DZ2fNVT/AIRq8/4Rn+zvMg87+3P7R3bjt8v+0ftWOn3tnGOm7jOOax77wPeT6hJMukaHdXS6iL+LWbiUi8O2cTpCf3LFVACwbhIcIMhePLoA24PGltPOcaZqKWaXzafJfyRosKTicwBcF97Bn2gMqso3jJBVwtDxt4qa38JeIf7LtNRkS3sbmM6pZhfLt5xGwwCG8wlWwC6KVQ53MNj7bn/CNXn/AAjP9neZB539uf2ju3Hb5f8AaP2rHT72zjHTdxnHNU9Z8N68/hzWfD2iHTjZ6ml2y3V5LIJIWuC7uhjVcON7th9y7QwyrlPnANe7uJl+IGk26yyCCTTL13iDHazLLahWI6EgMwB7bj60XHiq2t7mX/RLqTT7dzHc6ogT7NbuDhgxLbyFPDOqlEO7cw2PtsXGmTS+LdP1RWjEFtY3Vu6kncWlkgZSBjGMQtnnuOvbmLnwDDHfXQtvDPhnUkvLiW4OoanCDPC0rl2DIIj5wVmJX548rtTjbvIB3dFU2kvzraRJDGunrbs0szn5nlLDYqYPQKHLZA+9HtJ+bFygDjPG3iprfwl4h/su01GRLexuYzqlmF8u3nEbDAIbzCVbALopVDncw2Pt17jxVbW9zL/ol1Jp9u5judUQJ9mt3BwwYlt5CnhnVSiHduYbH25Gs+G9efw5rPh7RDpxs9TS7Zbq8lkEkLXBd3QxquHG92w+5doYZVynz17nwDDHfXQtvDPhnUkvLiW4OoanCDPC0rl2DIIj5wVmJX548rtTjbvIB0cviWzi0XUNReOf/QJpIJLbaPOeRW2qirnlpMoYxwWEkZ/iFSXFxCvi3T7dpboTyWN06RIw8hlWSAMzjqXBZQp7BpPWqd34a+0+LINREm2xO2e6tt3yy3MQ2wuVxhuHJJPO6C2Ixsq5caZNL4t0/VFaMQW1jdW7qSdxaWSBlIGMYxC2ee469gCvceJglzKtlpGo6jawOUnvLNI2jjZTh1Clw8hXuI1fkFRlwVBceKra3uZf9EupNPt3MdzqiBPs1u4OGDEtvIU8M6qUQ7tzDY+2vFYa9o7T2WiRadPZz3E1wtzeTyLJbtNI0jgxKhEoDuxHzx5BCnBG9si58Awx310Lbwz4Z1JLy4luDqGpwgzwtK5dgyCI+cFZiV+ePK7U427yAd3XNweNLaec40zUUs0vm0+S/kjRYUnE5gC4L72DPtAZVZRvGSCrhbFxr2ow3MsUfhLWLhEcqs0ctmFkAP3huuAcHryAfUCqn/CNXn/CM/2d5kHnf25/aO7cdvl/2j9qx0+9s4x03cZxzQBbn8TC2vhHc6RqMVkbhbYajIkawmRnEajYX83BkIUNswchs7PmqhJ8QLKFrhptM1FILd7ktORCVMNtIY7icASbtiNtyMbzuG1W5xl33ge8n1CSZdI0O6ul1EX8Ws3EpF4ds4nSE/uWKqAFg3CQ4QZC8eXUl94H1K50y9t457UPcWOt26lnbAa9uVliJ+XoFGG9D0z1oA37jxVbW9zL/ol1Jp9u5judUQJ9mt3BwwYlt5CnhnVSiHduYbH27lcJc+AYY766Ft4Z8M6kl5cS3B1DU4QZ4WlcuwZBEfOCsxK/PHldqcbd569pL862kSQxrp627NLM5+Z5Sw2KmD0Chy2QPvR7SfmwAXKw7jxVbW9zL/ol1Jp9u5judUQJ9mt3BwwYlt5CnhnVSiHduYbH27lcpdeG9SfT9Q8PQG1Oi6m9w0108rC5hW4d3lRYwu1zl32uWXaGXKvsO8Ani8aW0rTy/wBmajHp9rcTW1zqMkaLBA8UjRsTl95TK53qpRQcsV2vt6SuM07wrq82mX+m6nfxx6Tf3189xZG3DTNDLcysESZXAVHRlJBVnG98Mp27Ne417UYbmWKPwlrFwiOVWaOWzCyAH7w3XAOD15APqBQBXg8aW085xpmopZpfNp8l/JGiwpOJzAFwX3sGfaAyqyjeMkFXC2J/Ewtr4R3OkajFZG4W2GoyJGsJkZxGo2F/NwZCFDbMHIbOz5qqf8I1ef8ACM/2d5kHnf25/aO7cdvl/wBo/asdPvbOMdN3Gcc1j33ge8n1CSZdI0O6ul1EX8Ws3EpF4ds4nSE/uWKqAFg3CQ4QZC8eXQBqSfECyha4abTNRSC3e5LTkQlTDbSGO4nAEm7YjbcjG87htVucX7jxVbW9zL/ol1Jp9u5judUQJ9mt3BwwYlt5CnhnVSiHduYbH24F94H1K50y9t457UPcWOt26lnbAa9uVliJ+XoFGG9D0z1oufAMMd9dC28M+GdSS8uJbg6hqcIM8LSuXYMgiPnBWYlfnjyu1ONu8gHd0VTaS/OtpEkMa6etuzSzOfmeUsNipg9AoctkD70e0n5sXKACiiigAooooAKKKKACiiigAooooAKKKKACiiigAooooAzbf/kNH/rif5itKs23/wCQ0f8Arif5itKgAooooAKKKKACiisefRL+W4kkj8UatAruWWKOK0KoCfujdATgdOST7mk3YTbXQ2KKx59Ev5biSSPxRq0Cu5ZYo4rQqgJ+6N0BOB05JPuaJ9Ev5biSSPxRq0Cu5ZYo4rQqgJ+6N0BOB05JPuaV32J5n2/L/MvWmp2V9cXNva3CPPavsnh6SRHJxuU8gHBKkjDDkZBBq1XOala3fiDUI1tIZtNWxlONSkBWRxkBkiVWBKkrkmUGMlEOyVSCOjoi2xxbe5h2fiSa/umS00HUpLdbqS2N3vtxGDHIY3bBl37Qyn+HOBwKLPxJNf3TJaaDqUlut1JbG7324jBjkMbtgy79oZT/AA5wOBWPNY2OmWI1bQr6/aV9bWNy93KYt0t+I508kny8ZeRQdvowJPzUTWNjpliNW0K+v2lfW1jcvdymLdLfiOdPJJ8vGXkUHb6MCT81Zc0ur8/6/r5mHNJbvz/rT+u52lFFFbnSFFFFABRRRQAUUUUAFFFFABRRRQAUUUUAFFFFABRRRQAUUUUAFFFFABRRRQAUUUUAFFFFABRRRQAUUUUAFFFFABRRRQAUUUUAFFFFABUD3WzUobTyJ282KSXzlTMabCg2s3ZjvyB3Ct6VPWLdTzL490q3WVxDJpl67xBjtZlltQpI6EgMwB7bj60m7FwjzO3r+RtUV59CtzDpJ1w6nqMt4PEbWkYe7cxRwNqhgMflA7GGxmALBmGRggKgWpbanEbbU5YNcvZ/FMWoX6abp0t24Eu25lEcYgyFkhONrSEHYN/zp5Y8uOc6fqrd7PZ2+f8Al5nplVI9Shl1q50xVcTW1vDcOxA2lZGkVQOc5zE2eO4/Dlft95/whvn/AGqfzf8AhJfI8zzDu8v+1/L2Z/u7Plx028dKktdAs2+J2qzmbUd6WVlcgDU7gKXaa6JBXfgp8owhG0c4AycvmeliPYxSk5Pa/wCDX+Z2NFcVsez1z+0NQu72eCXUPKh1Ky1JmhjJm8tYJbUny15KwZRXJIZ2MbfMOxM8K3KW7SoJpEZ0iLDcyqQGIHUgFlBPbcPWmncznT5bW1/r+vPuiSiivO7241L7aut6eJ/s39tx2bXE+sTbtv21baRRZhPI2/eVTndtw5O/NEpWHSpOo7f1/X9WO5j1KGXWrnTFVxNbW8Nw7EDaVkaRVA5znMTZ47j8CPUoZdaudMVXE1tbw3DsQNpWRpFUDnOcxNnjuPw5m10Czb4narOZtR3pZWVyANTuApdprokFd+CnyjCEbRzgDJyWugWbfE7VZzNqO9LKyuQBqdwFLtNdEgrvwU+UYQjaOcAZOVdmjp01fV7J7enn5nY0VyumaedT8Va/cXt/qLpY6nEtrbpeSRRRf6LbuflQjcCzZKvuXrgDc26psez1z+0NQu72eCXUPKh1Ky1JmhjJm8tYJbUny15KwZRXJIZ2MbfMDmJ9itr62X4/169kztaKjM8K3KW7SoJpEZ0iLDcyqQGIHUgFlBPbcPWpKs5worz6FbmHSTrh1PUZbweI2tIw925ijgbVDAY/KB2MNjMAWDMMjBAVAtz7fef8Ib5/2qfzf+El8jzPMO7y/wC1/L2Z/u7Plx028dKjnOp4d9H1t8ztaK8ovrq9t7LUr2HUtREyW+vX65vpSqy2l2Et8KW2hFVyDHjY3G5WwMer04yuRVo+zSd97/gFFcNe3NydD1nxAby6TWdOuLmG1s1uHWLckjLbwtADtczKYz8wLt54KFf3e2T7fef8Ib5/2qfzf+El8jzPMO7y/wC1/L2Z/u7Plx028dKXMV9XemvW3zOqj1KGXWrnTFVxNbW8Nw7EDaVkaRVA5znMTZ47j8Ldcda6BZt8TtVnM2o70srK5AGp3AUu010SCu/BT5RhCNo5wBk5xLbU4jbanLBrl7P4pi1C/TTdOlu3Al23MojjEGQskJxtaQg7Bv8AnTyx5a5mtyvYKT919undfkemVUj1KGXWrnTFVxNbW8Nw7EDaVkaRVA5znMTZ47j8OV+33n/CG+f9qn83/hJfI8zzDu8v+1/L2Z/u7Plx028dKktdAs2+J2qzmbUd6WVlcgDU7gKXaa6JBXfgp8owhG0c4AycvmelifYxSk5Pa/4Nf5nY1QTU8a82l3MPlSPEZ7V1bcJo12K+ePlZWdQQeCGUgk7gnM7Hs9c/tDULu9ngl1DyodSstSZoYyZvLWCW1J8teSsGUVySGdjG3zDX1z9/4n8M20XzSxXc1469MQpbSRM2fZ7iIY6/NnGASDmF7JJ230f4K/8AV9fJG9RRRVnOFFFFABRRRQAUUUUAFFFFABRRRQAUUUUAFFFFABRRRQAUUUUAFFFFABRRRQBm2/8AyGj/ANcT/MVpVm2//IaP/XE/zFaVABRRRQAUUUUAFFFFABRRRQAUUUUAUf7E0r+1/wC1f7Ms/wC0f+fz7Onnfd2/fxn7vHXpxR/Ymlf2v/av9mWf9o/8/n2dPO+7t+/jP3eOvTiuV0jV5LvU5Df+INYgZdUuIFh/s5FtCqXLpHH5xt8fMFVf9ZkscA7jipNO1x9T1Z1t/FFsuopqM0B0R5IAvkxTsjHaF87f5SFx82N2DwvFYqcX0/IwVSD6fl/X6naUUUVsbhRRWdNr+nQamLCWZxNvWNmELmJHbG1HlA2I5yuFZgTuXA+ZcptLcTaW5o0VRfWbCO0ubl58R2sphmGxt6yZACbMbizbl2gDLblK53DMF74l0ywu3t7mWYGLHnSR2sskUGRn95KqlI8KQx3EYUhjgEGjmS6icordmrRWdNr+nQamLCWZxNvWNmELmJHbG1HlA2I5yuFZgTuXA+ZcwQ+K9GuL020N07ss7WzyC3k8qOZXKGN5NuxXLDAUkE7lxncuVzR7hzx7mxRXMweKUbxxfaW635hSC3WJRpk+1ZWknV2LiPAQhUw5Ow7SQeGrpqIyUtgjJS2Cise+8VaTp17JbXU04aHHnyx2kskNvkA/vZVUpHhSGO9hhSGOAQakn8R6Zb6sNOlnkE+9Y2cQSGGN2xtR5QuxHbcuFZgx3pgfMuaKNSisdvFWkjWpNJSaee+hmSGaK3tJZfIZ1VlMhRSEUhwQzEKcNz8rYkn8R6Zb6sNOlnkE+9Y2cQSGGN2xtR5QuxHbcuFZgx3pgfMuQDUooooAKK88Txfq6+FfGLXc0cd/YpqVxpc6xgboYZZo1GDwzxvGN2BgK8OcljXXz+I9Mt9WGnSzyCfesbOIJDDG7Y2o8oXYjtuXCswY70wPmXIBqUVylv4vjb4gahpMi6iYI7e1WJBpVxtWZpZ1di4jwEIWPDk7DtJB4aq93rGqf2Dq3iqK/kjg0p7wLpQjjMM6W0kiNvcrv3v5bEMrBVymVfa28A7Oiub0TxC0liiXrSXV7canfW8MUSLu8qK7kj3kcAIiBMsf9kcuyhqCy6zf32owxeI5LHXIHnkt9GkSAQPErkQO2YmlaJ18veyPwzOoKsNqgHZ0Vylv4vjb4gahpMi6iYI7e1WJBpVxtWZpZ1di4jwEIWPDk7DtJB4atP8A4SrSf7S+xedPu87yPP8Askv2fzM7dnn7fK3bvkxuzv8Al+9xQBsUVylv4vjb4gahpMi6iYI7e1WJBpVxtWZpZ1di4jwEIWPDk7DtJB4atv8AtzTvsH237R/o/wBr+xb9jf67z/I24xn/AFvy56d845oA0KKx/wDhKtJ/tL7F50+7zvI8/wCyS/Z/Mzt2eft8rdu+TG7O/wCX73FcpputwaneXMF78RpLDUDqd1ax6bHLYKyBbmSOJAjwlySqp1JJz70Aeh0VnvrmnR2V1dPcbY7SYwTKUbesmQAmzG4s25doAJfehXIZc177xVpOnXsltdTThocefLHaSyQ2+QD+9lVSkeFIY72GFIY4BBoA2KKy5/EemW+rDTpZ5BPvWNnEEhhjdsbUeULsR23LhWYMd6YHzLmvB4x0O5vjaQXcjutw1q8gtpfJimVyhieXbsRywACswLbkxneuQDcorlLfxfG3xA1DSZF1EwR29qsSDSrjaszSzq7FxHgIQseHJ2HaSDw1bc1xt8SWdt9u2eZaXEn2Pyc+dteEeZv/AIdm/G3+Lzc/w0AaFFZc/iPTLfVhp0s8gn3rGziCQwxu2NqPKF2I7blwrMGO9MD5lzXg8Y6Hc3xtILuR3W4a1eQW0vkxTK5QxPLt2I5YABWYFtyYzvXIBuUUVlf8JLpn9ofY/Nm3eb5PnfZZfI8zO3Z523y9275Mbs7vl+9xSbS3E2luatFZX/CS6Z/aH2PzZt3m+T532WXyPMzt2edt8vdu+TG7O75fvcVq0Jp7AmnsFRmCFrlLhokM0aMiSlRuVWILAHqASqkjvtHpWfP4j0y31YadLPIJ96xs4gkMMbtjajyhdiO25cKzBjvTA+Zc3EmuW1KaF7XbapDG8dz5gPmOS4dNvUbQqHPQ7+OhqkrjF+wWnkeR9lg8rzfP8vyxt8zf5m/H97f82eu7nrRZWNvp8DQ2cflxtLJMRuJy8jtI559WZj7Z44qeikPmdrGZN4a0K51UancaLp0uoB1cXb2iNKGXG07yM5GBg54wKsXmk6dqNzbXGoafa3U1o++2lnhV2hbIOUJGVOVByPQelW6KVkVzy77FD+wdI/tj+1/7Ksv7S/5/fs6ed93b9/G77vHXpxVj7Db/ANpfbzHuufK8lXZidiZyQoPC5OM4xu2rnO1cT0UWQuaT3YVmT+GtCutQkv7rRdOmvJUKSXElojSOpTYQWIyQV+XHpx0rToosmEZSjsypeaTp2o3Ntcahp9rdTWj77aWeFXaFsg5QkZU5UHI9B6UXmk6dqNzbXGoafa3U1o++2lnhV2hbIOUJGVOVByPQelW6KLIOaS6kccEMMkrxRJG8z75WVQDI20LlvU7VUZPYAdqqf2DpH9sf2v8A2VZf2l/z+/Z0877u37+N33eOvTir9FFkClJbMg+w2/8AaX28x7rnyvJV2YnYmckKDwuTjOMbtq5ztXE9FFMV29yD7BaeR5H2WDyvN8/y/LG3zN/mb8f3t/zZ67uetU5vDWhXOqjU7jRdOl1AOri7e0RpQy42neRnIwMHPGBWnRSshqclsyo+k6dJG6Pp9qyOkqMphUhllbdKDxyHYZYfxHk5qhP4T065uZJ5LjVw8rl2EetXiKCTnhVlAUewAA7VtUUWQ1UnHZsqSaTp02qxanLp9rJqEKbIrtoVMsa88K+MgfM3APc+tV5vDWhXOqjU7jRdOl1AOri7e0RpQy42neRnIwMHPGBWnRRZApyWzKl5pOnajc21xqGn2t1NaPvtpZ4VdoWyDlCRlTlQcj0HpUllY2+nwNDZx+XG0skxG4nLyO0jnn1ZmPtnjip6KLIXNK1r6GZN4a0K51UancaLp0uoB1cXb2iNKGXG07yM5GBg54wKsXmk6dqNzbXGoafa3U1o++2lnhV2hbIOUJGVOVByPQelW6KLIfPLvsUP7B0j+2P7X/sqy/tL/n9+zp533dv38bvu8denFWIbG3gvLi7jj/0i52iWRmLEhRhVGeijJIUYGWY4yxJnooshOUnuwooopkhRRRQAUUUUAFFFFABRRRQAUUUUAFFFFABRRRQAUUUUAFFFFABRRRQAUUUUAZtv/wAho/8AXE/zFaVZtv8A8ho/9cT/ADFaVABRRRQAUUUUAFFFFABRRRQAUUUUAczqI1nU9mmXGlOuzUYZxfpJGLfyYrlZVGC/mb/LQKfkxvz0X5qqf2dqf2X+xP7Mm2/2z9v+3+ZF5Hl/bftWMb/M3bfl+5jd32/NWzD4p024vTbW638rCdrcyJply0QdXKMPMEezAYEE5wMHmibxTptvei2uFv4mM624kfTLlYi7OEUeYY9mCxABzg5HNY2i9bmDUHq5fkbFFFFbG4Vwlz4WMRvrGfSdW1SO9nnlEsGsyW9qVmkZyksfnAqAXIbYj5UbsFmKju6KiUVLcicFPc5y7sL+XWxrqWMJez3Qw2jbfMuI+QZN+dqvy3lg8BXkDFfNPllr/aehLPYW2jzagJbqe4huo5oo4h50rSYk3NvXazkEqr5UBhkkoOjqB72BNQisWkxcTRPNGm08ohQMc9ODIn5+xo5Utbi5EtbnF3PhYxG+sZ9J1bVI72eeUSwazJb2pWaRnKSx+cCoBchtiPlRuwWYqJ7HSdbvtD1LR7mG2h02/vL9JJ3Z0uIoZLmXIWMqVcspyr7lADg7W2/P011rFnaahDYyGZ7ibbhILeSXYGOFZyikRqSDhmwDtbn5Ti9UqnG+hCpRvoYckV5ZeMJb6Owmu7e+tbe2LwPGPs5jkmLM4dlO3Ewxt3H5W46Z3KKK0SsbJWOYs/7W8PLcada6JPqazXdxcwXcc8UcK+fM8u2Xc29drOQSiSZUBhkkoKd3o+qf2Dq3hWKwkkg1V7wrqokjEMCXMkjtvQtv3p5jAKqlWwmWTc2zs6KYzH0WxuLTVvEM1xHsjvNRSaBtwO9Ba28ZPHT5o2GD6ehFcpdeETC2oafcaNrGrR39xcTCW31yS2tCs8juUli89SgBcq2yN8qN2CzFB6HUD3sCahFYtJi4mieaNNp5RCgY56cGRPz9jQAjzXK6lDClrutXhkeS58wDy3BQIm3qdwZznoNnPUVl3Hi7Tra5lgkttYZ4nKMY9EvJFJBxwyxEMPcEg9q3KKbdwPPNe8IavffDvUrbToY01r7Rqht0eQBZobmebMbMOzRyK4UkDzEiLfdNaF3o+qf2Dq3hWKwkkg1V7wrqokjEMCXMkjtvQtv3p5jAKqlWwmWTc2zs6KQHPyxXth42mv4tOnvbXULS2tTJbvGPsxikmZmkDup24nGNm4/K3A4zmXej6p/YOreFYrCSSDVXvCuqiSMQwJcySO29C2/enmMAqqVbCZZNzbOsS9gfUJbFZM3EMSTSJtPCOXCnPTkxv+XuKnoA5Dw7oeo6BcXN6lv5pv8AUbk3cDOpdI2u5niljYn7oWTLRZx8zMoD7llNbfX7+yuNPXQZzqMc0j6dqtvLCtvbuSwglO6XzflVlEgCHd+8UKytg7y+INLfTL/UEvEe2055ku3UEmFos+YCoGcjGcY5GCMgitGkmnsJNPY5+WK9sPG01/Fp097a6haW1qZLd4x9mMUkzM0gd1O3E4xs3H5W4HGec1XRNXu7xjcabrF5eQ6ml4l1HqYWzeGK5EyRiAzqN/lIsfMQHmfMWxmSvQ6KYzn5Yr2w8bTX8WnT3trqFpbWpkt3jH2YxSTMzSB3U7cTjGzcflbgcZxJ7DWYtPGhx6JdTA6+t/8Ab45oBAIjqIuicNIJMhDgjZ94HGRgnu6KAOQ+y6ta+JP+JRpl9YrJd77l/tUUmnTxl8s+xm82OQqXP7tEBlb5y6/MTRrzV9Dtbqyk8Kardf8AExvZkmt5rTY6S3MkiEb51b7rjggV19FAHMXmm6jNr48Qpp8Bksd0MNm23zbmP5gZN+dqyfM3lA8BXkDFTM3lFn/a3h5bjTrXRJ9TWa7uLmC7jnijhXz5nl2y7m3rtZyCUSTKgMMklB09FAHnl14RMLahp9xo2satHf3FxMJbfXJLa0KzyO5SWLz1KAFyrbI3yo3YLMUFjT9G17UPD+q6HdQWsGl6jfaiklw7SJcxQy3U2QsZUq5ZTlZNygB1Oxtvz93RQBz8sV7YeNpr+LTp7211C0trUyW7xj7MYpJmZpA7qduJxjZuPytwOM2LmxuJPG2mX6R5tYNOvIZJNw+V3ktmUY68iN+fb3FbFFAHGXej6p/YOreFYrCSSDVXvCuqiSMQwJcySO29C2/enmMAqqVbCZZNzbJP7D1H/hEvsX2f/SP+Eh+27N6/6n+1fP3Zzj/VfNjr2xniuvooAK4TUtH1S5u2M+n6tdXcWopdpcx6iFtHhjuBKkYhMwG/ylWPmMDzOS2MvXd0VMoqW5E4Kaszlfs2p2/iD/iVadeWayXW64f7TFJYTRl8s2wt5iOVLH92igyt85dfmPVUUUKNhxjynnl14RMLahp9xo2satHf3FxMJbfXJLa0KzyO5SWLz1KAFyrbI3yo3YLMUHdpDcrqU073W61eGNI7bywPLcFy77up3BkGOg2cdTViirTsUFFFFIAooooAKKKKACiiigAooooAKKKKACiiigAooooAKKKKACiiigAooooAKKKKACiiigAooooAKKKKACiiigAooooAKKKKACiiigAooooAKKKKACiiigAooooAKKKKACiiigDNt/8AkNH/AK4n+YrSrNt/+Q0f+uJ/mK0qACiiigAooooAKKKKACiiigAooooA477Lc+H7X7dYa/NeQS6zta08uHyF+0XuyRchfM3IZW/j+8vIx8tatx/p/je1tzzFpVqbtlbjMsxaKJlx1wiXIIPHzqcE8rP/AMI1pn9ofbPKm3eb53k/apfI8zO7f5O7y927587c7vm+9zV5LKBNQlvljxcTRJDI+48ohcqMdODI/wCfsKzUXt0MVBrToT0UUVobBRRRQAVlXF7OnjDT7FZMW81hdTSJtHLpJbhTnrwJH/P2FatQPZQPqEV80ebiGJ4Y33HhHKFhjpyY0/L3NJ3a0FJNrQ5m20y7PxI1OQa5fhVs7OUxBLfayma5xEf3WdgwQCCG+Y5Y8Y62oEsoE1CW+WPFxNEkMj7jyiFyox04Mj/n7Cp6UY2RMI8qOEg1LXE0863PrMkqLr7aeliLeJYTCdRNsN527y6qSQyso+VMq2GLx3uv6vBqq31nLqt1YnVorEt5NolgA10tu64J+07lJYbs4Mi7gPLOK6/+w9O+wfYvs/8Ao/2v7bs3t/rvP8/dnOf9b82OnbGOKp3Hg/R7m5lmkjul81zI0Md/PHCHJzvESuEV93z7gAwf5wd3zVRZxl54i1+1tdQvU1mdvJh1m+jhaCHYosbny44eI93lsr/Pk7/lXay850G8QeKb66vL/SNK1WeO1u57a3tIjZC0uBDK0Tb3kkEwZijfMNoX5fkkCkydPL4U0We3lhls90c0N3C6+a4yl04knHX+JgDnt2wKL7wtpOo3slzdQzlpsefFHdyxw3GAB+9iVgkmVAU71OVAU5AAoA2Kyri9nTxhp9ismLeawuppE2jl0ktwpz14Ej/n7CtWoHsoH1CK+aPNxDE8Mb7jwjlCwx05Mafl7mk7taCkm1oc59p1O38Qf8TXUbyzWS6226fZopLCaMvhV3hfMRypUfvHUGVvkDr8p6qsr/hGtM/tD7Z5U27zfO8n7VL5HmZ3b/J3eXu3fPnbnd833ua1amKa3Jgmr3OLh1DWUsTrE2rPIq621ilmII1iMJvzbjedu8uFOQQyj5VyDhi091quo/2LqfiWK9eOHTXuwumiNDFMlu7o29yu/e3lsQykBcrlW2tv3/7GsPsX2TyP3H2r7Xs3t/rfO8/dnOf9Z82OnbGOKZNoGnT6mL+WFzNvWRlEziJ3XG13iB2O4wuGZSRtXB+VcTyS7mfJO2//AA5h22mXZ+JGpyDXL8KtnZymIJb7WUzXOIj+6zsGCAQQ3zHLHjHW1RutHs7vUIb6QTJcQ7cPBcSRbwpyquEYCRQScK2QNzcfMc3quMbGkI8tzyvUv+JP4L8R3g+Wz1T+17a57KlwJ7jypD0A3DMZY5JIt1FdPdarqP8AYup+JYr144dNe7C6aI0MUyW7ujb3K797eWxDKQFyuVba2/cuPD+l3ei3Ok3Nmk1jdPI80LkkM0jmRjnOQd7FgR0OMYwKJtA06fUxfywuZt6yMomcRO642u8QOx3GFwzKSNq4PyrjJU5LYxVKS2fQ5yHUNZSxOsTas8irrbWKWYgjWIwm/NuN527y4U5BDKPlXIOGLRtrniS9urq+0vTNSmS2upreC1jNmLWcRSNGd7u4lDMVb5hgL8vyvtO/qv7GsPsX2TyP3H2r7Xs3t/rfO8/dnOf9Z82OnbGOKgvfDWmX929xcxTEy486OO6ljinwMfvIlYJJlQFO4HKgKcgAU+SVtxunO2j/ABJYf7O/4SW98n/kKfZLf7R97/U75vK/2fved059e1aFFFdEpczudAUUUVIBRRRQAUUUUAFFFFABRRRQAUUUUAFFFFABRRRQAUUUUAFFFFABRRRQAUUUUAFFFFABRRRQAUUUUAFFFFABRRRQAUUUUAFFFFABRRRQAUUUUAFFFFABRRRQAUUUUAFFFFABRRRQAUUUUAFFFFABRRRQAUUUUAFFFFABRRRQAUUUUAZtv/yGj/1xP8xWlWbb/wDIaP8A1xP8xWlQAUUUUAFFFFABRRRQAUUUUAFFFFABRRRQAUUUUAFFFFABRRRQAUUUUAFFFFABRRRQAUUUUAFFFFABRRRQAUUUUAFFFFABRRRQAUUUUAFFFFABRRRQAUUUUAFFFFABRRRQAUUUUAFFFFABRRRQAUUUUAFFFFABRRRQAUUUUAFFFFABRRRQAUUUUAFFFFABRRRQAUUUUAFFFFABRRRQAUUUUAFFFFABRRRQAUUUUAFFFFABRRRQAUUUUAFFFFABRRRQAUUUUAFFFFABRRRQAUUUUAZtv/yGj/1xP8xWlWbb/wDIaP8A1xP8xWlQAUUUUAFFFFABUBv7RbOa7N1ALaDf5sxkGyPYSH3N0G0qwOemDnpU9cFc/wDJHfFn/cb/APSi5qW7G1Omp/el99zvajhnhuYy9vKkqB2QsjBgGVirDjuGBBHYgiuSh8Ra6bc6pcDThp66w2mi2SJzLIpvTbLJ5hbCEZBK7WzsPzLvwkfhK+uL43Wm2Mn2ZLPVb2a8lZRvcNfTlY41P8LbTukxjgquX3GJc6uW8PJRcm9n/X6fedrRXHQ+ItdNudUuBpw09dYbTRbJE5lkU3ptlk8wthCMgldrZ2H5l34Se68Raimn6hr8AtRo2mvcLNavExuJlgdkldZA21TlH2oVbcFXLJvOx8yF9Xne3y+fY6qiuGvfH01ppGoP5Vqby3t9Vljy5ChrWaRIUZc5JkWKRuoz5MmBgHbYh8Ra6bc6pcDThp66w2mi2SJzLIpvTbLJ5hbCEZBK7WzsPzLvwi50P6tUSu+9jXn8aeF7W5kt7rxJpEM0TlJIpL+JWRgcEEFsgg8YrarjvCc+urbzx2+nadJp/wDbF+DO+oOsoX7bNuPliEjI5wN/OByM8X7W/wBd1LxJqlvby6dbafpt7HAS8DyyzqYIZWHDqEI8wgN82cj5Rty4paBUopSaXTz+XQ6Kiudtb/XdS8Sapb28unW2n6bexwEvA8ss6mCGVhw6hCPMIDfNnI+UbcvXuvEWopp+oa/ALUaNpr3CzWrxMbiZYHZJXWQNtU5R9qFW3BVyybzsfMiPYyvb0/HY6qiudtb/AF3UvEmqW9vLp1tp+m3scBLwPLLOpghlYcOoQjzCA3zZyPlG3L60SQjW7l1vZHna3hD2hlBWJQ0m2QJ1UuSwLd/LA/hpp3IlBxtcuVTk1fTYdWi0ubULWPUJ03xWjTqJpF5+ZUzkj5W5A7H0q5XCLe21l4B1jUdU0y61OD+09QlvDasgmRIbmULLuZ0OY0hjClTvXYm37owyDu6K5u01DXtS8S6rb20unW2n6ZfRwEyQSSzTqYIZWHDqEI8wgN82cj5Rty+Ze+Mb6y11V82C4tG1GKy8iDSrplG+ZYcm9z5O5S25l28MDHncN1AHb1HBcQ3MZe2ljlQOyFo2DAMrFWXI7hgQR2IIrkE8Sa8mj6l4huhpw0vTLi9WS1jikM80NvNIhcSFtqPtT7m1gxX7yb/kp6LqOsaVpcl5mxOmHxDc2n2fy3aaTztTeLzPM3BU2tJnZsbIT7w3fIAd/RRXCXPj28+3XU9jZXU9nZ3Ets1nFol3NNcmJyjslwg8pTuVtq4YHaNzoWPlgHd0Vz9zq+qw6k2jpbQNf3O+Wzuf+WIgBAZ5F3bt0e9FKg/OXQgqC/lYlz49vPt11PY2V1PZ2dxLbNZxaJdzTXJico7JcIPKU7lbauGB2jc6Fj5YB3dFc3FqGvaw097okunQWcFxNbrbXkEjSXDQyNG5MquBEC6MB8kmAAxyTsVn/CS3n/CM/wBo+XB539uf2dt2nb5f9o/Zc9fvbOc9N3OMcUAdGtxC1y9ussZnjRXeIMNyqxIViOoBKsAe+0+lDXEK3KW7SxieRGdIiw3MqkBmA6kAsoJ7bh61yFpb69/wtLVmXUtOEAsbJnQ6fIWMPnXW1A3nYDgbsvgg5HyjHO3c3ezxtpln9ngbzdOvJfPZMypskthtVuynfkjuVX0oA2KK5S68Sakmn6h4hgFqNF0x7hZrV4mNzMtu7pK6yBtqHKPtQq24KuWTedleDxJrxtzqtyNOGnrrLaYLaOKQzSqb42qyeYWwhGQSuxs7D8y78IAdnRRXCXPj28+3XU9jZXU9nZ3Ets1nFol3NNcmJyjslwg8pTuVtq4YHaNzoWPlgHd0VzdpqGval4l1W3tpdOttP0y+jgJkgklmnUwQysOHUIR5hAb5s5Hyjbly01DXtS8S6rb20unW2n6ZfRwEyQSSzTqYIZWHDqEI8wgN82cj5Rty4B0lFcpdeJNSTT9Q8QwC1Gi6Y9ws1q8TG5mW3d0ldZA21DlH2oVbcFXLJvOye01DXtS8S6rb20unW2n6ZfRwEyQSSzTqYIZWHDqEI8wgN82cj5Rty4B0lFU4khGt3LreyPO1vCHtDKCsShpNsgTqpclgW7+WB/DVygAooooAKKKKACiiigAooooAKKKKACiiigAooooAKKKKACiiigAooooAKKKKACiiigAooooAKKKKACiiigAooooAKKKKACiiigAooooAKKKKACiiigAooooAKKKKACiiigAooooAKKKKACiiigAooooAKKKKACiiigAooooAzbf/AJDR/wCuJ/mK0qzbf/kNH/rif5itKgAooooAKKKKACudufB8dxHdWo1fUYtMvHla401BD5UglYtKu4xmQByzk4cEbjtK4GOiopNJlxnKGxkf8I3af2T/AGf5k/lf2h/aG7cN3mfavtOOn3d/GOu3vnmiDw3aWywmCSeOaC7nuknVhvHnTGWWM8YMbFsFSOyn7yqw16KLIftJ9/MyP+EbtP7J/s/zJ/K/tD+0N24bvM+1facdPu7+MddvfPNMn8L209zJ/pV1Hp87mS50xCn2edycsWBXeAx5ZVYKx3blO9921RRyoPazXUwbnwbpF3eXV3NDuubrULbUGm2JvSS3CCMK23IXCEY6/vJMEbqn/wCEbtP7J/s/zJ/K/tD+0N24bvM+1facdPu7+MddvfPNa9FHKg9rOyV9v0Odi8KXNq066f4n1e0hluJrjyI47RlRpZGkYAvAzY3OepNa9lpsNjd6hcRM5fULgXEoYjCsIo4sLx02xKec8k/SrdFCSQSqSluVLLTYbG71C4iZy+oXAuJQxGFYRRxYXjptiU855J+lUJ/C9tPcyf6VdR6fO5kudMQp9nncnLFgV3gMeWVWCsd25TvfdtUUWQlUkndMqWWmw2N3qFxEzl9QuBcShiMKwijiwvHTbEp5zyT9KnW3hW5e4WKMTyIqPKFG5lUkqpPUgFmIHbcfWpKKZLbe4Vzer+C7bV7a+s/7T1Gy0/UEkFzZWciJG7uDucEoXUkncVVgjHJZW3vu6SigRTstMhsLvULiFpGfULgXEoYjCsIo4sLx02xKec8k/QY9x4NjmaWOPWNRt7J7g3a2UYgMcc5k87zAzRl8ib95gsVzwQU+WukooA5vS/BGmafO9xKJJ53vp71gJZEhd5J2lVnhDbHdNygOwLfu0IxtXFz/AIRqz/sn+zvMn8n+0f7R3bhu8z7V9qx0+7v4x128ZzzWxRQAVh3HhkPcytZavqOnWs7l57OzaNY5GY5dgxQvGW7mNk5JYYcljuUUAY83hqzn+0SySTm+mmEyX+4edAy7hGIzjCqgdlC42kM+4N5km6O48Mh7mVrLV9R061ncvPZ2bRrHIzHLsGKF4y3cxsnJLDDksdyigDDuPDIe5lay1fUdOtZ3Lz2dm0axyMxy7BiheMt3MbJySww5LGvP4NjlnAj1jUYbAXy3/wDZ8YgMJlE4nJ3NGZMGUbiN/cgYGAOkooAy7nRBNraapa391ZT7I47hYBGVuo0ZmRHDoxABeTlCp+c5PC4sS6ZDLrdtqjNIJ7a3mt0UEbSsrRsxIxnOYVxz3PXtcooAw7jwtbXFzL/pd1Hp9w5kudLQp9muHJyxYFd4DHlkVgjnduU733Sf8I1Z/wBk/wBneZP5P9o/2ju3Dd5n2r7Vjp93fxjrt4znmtiigArDuPDIe5lay1fUdOtZ3Lz2dm0axyMxy7BiheMt3MbJySww5LHcooAp2WmQ2F3qFxC0jPqFwLiUMRhWEUcWF46bYlPOeSfoCy0yGwu9QuIWkZ9QuBcShiMKwijiwvHTbEp5zyT9BcooAw7jwtbXFzL/AKXdR6fcOZLnS0KfZrhycsWBXeAx5ZFYI53blO992hZaZDYXeoXELSM+oXAuJQxGFYRRxYXjptiU855J+guUUARrbwrcvcLFGJ5EVHlCjcyqSVUnqQCzEDtuPrUlFFABRRRQAUUUUAFFFFABRRRQAUUUUAFFFFABRRRQAUUUUAFFFFABRRRQAUUUUAFFFFABRRRQAUUUUAFFFFABRRRQAUUUUAFFFFABRRRQAUUUUAFFFFABRRRQAUUUUAFFFFABRRRQAUUUUAFFFFABRRRQAUUUUAFFFFABRRRQBm2//IaP/XE/zFaVZtv/AMho/wDXE/zFaVABRRRQAUUUUAFFFFABRRRQAUUUUAFFFFABRRRQAUUUUAFFFFABRRRQAUUUUAFFFFABRRRQAUUUUAFFFFABRRRQAUUUUAFFFFABRRRQAUUUUAFFFFABRRRQAUUUUAFFFFABRRRQAUUUUAFFFFABRRRQAUUUUAFFFFABRRRQAUUUUAFFFFABRRRQAUUUUAFFFFABRRRQAUUUUAFFFFABRRRQAUUUUAFFFFABRRRQAUUUUAFFFFABRRRQAUUUUAFFFFABRRRQAUUUUAFFFFABRRRQBm2//IaP/XE/zFaVZtv/AMho/wDXE/zFaVABRRRQAUUUUAFeaaBo+j38t39v+H0epPLrN+smqSW1k6sPtso3EvJ5hCjj7ufl4B4z6XWfoul/2PYSW3ned5l3c3O7btx507y7cZPTfjPfGeOlAGBe+PE07xIum3g0qNWu4rUW/wDaym/JkdURvswXG0llb/WZEZ3EZ+Ste5mt18baZC9ruun068eO58wjy0ElsGTb0O4shz22e5rMuPCWpNDLY2ur2semm+OoRxyWDPMs32j7SMyCUKU87+HYCU+XcD89bc2l+d4ks9W87H2W0uLbytv3vNeFt2c8Y8nGMc7u2OQDPvP+SkaN/wBgm/8A/R1nXQVnzaX53iSz1bzsfZbS4tvK2/e814W3ZzxjycYxzu7Y50KAOMtLjXv+Fpasq6bpxgNjZK7nUJAwh8662uF8nBcjdlMgDA+Y54v3PiqaGO61KKwjk0GweVLu9NwVmXymKyukOw7kRlYEllY7H2q3yb7lxpF4viT+1tNvYIfPhht7yK4tjL5kcTuy+WQ67G/eyAkhx93gYO6nc+FZpo7rTYr+OPQb95Xu7I25aZvNYtKiTbxtR2ZiQVZhvfay/JsAOkrhHt9S1P4pXK6hoWj3sFhb2kts9zeM7WqtNcfvolMBCysIxlQR/q0+c/w93WfDpfk+JLzVvOz9qtLe28rb93ynmbdnPOfOxjHG3vngAr3M1uvjbTIXtd10+nXjx3PmEeWgktgybeh3FkOe2z3NZkHjC/kBu5dGjh0tNTbTGnN5mZn+1G2V0jCYKF9udzqw+fAbCl9ubS/O8SWeredj7LaXFt5W373mvC27OeMeTjGOd3bHOf8A8Iv/AMSH+zftn/MW/tLzPK/6fvtezGf+AZz747UAYnjfXL++8C+Jm0zTI7nS47G9tZbk3WyYuiPHIUiK4ZEcEEl1Y7HKq3y7+7rlNY8H399pOqaPpmsx6fpeppOZYzZ+bNG824ybJC4ARnYsVKs3zOFZfl2dXQBxlpca9/wtLVlXTdOMBsbJXc6hIGEPnXW1wvk4LkbspkAYHzHPFfw9rl/penytLpkf9lnX7u1a5N1iZnm1GSNSkQUgoHkUEs6tw5CnC7ujuNIvF8Sf2tpt7BD58MNveRXFsZfMjid2XyyHXY372QEkOPu8DB3V/wDhF/8AiQ/2b9s/5i39peZ5X/T99r2Yz/wDOffHagDIv/iho9hqVysl5pS2NlM8F0ZdTRLsOhKuUtiMsqkEcsrNtYor/Jv7eufOharaSzQ6Hq8Fjp9xNJNJFJZedNE8jFpDFIXCjLMzAOkmGY9Vwg6CgDhPG+uX994F8TNpmmR3Olx2N7ay3JutkxdEeOQpEVwyI4IJLqx2OVVvl36EHjC/kBu5dGjh0tNTbTGnN5mZn+1G2V0jCYKF9udzqw+fAbClzWPB9/faTqmj6ZrMen6XqaTmWM2fmzRvNuMmyQuAEZ2LFSrN8zhWX5dlv/hF/wDiQ/2b9s/5i39peZ5X/T99r2Yz/wAAzn3x2oAqQeML+QG7l0aOHS01NtMac3mZmf7UbZXSMJgoX253OrD58BsKX6uuf/4Rf/iQ/wBm/bP+Yt/aXmeV/wBP32vZjP8AwDOffHaugoAx7ma3XxtpkL2u66fTrx47nzCPLQSWwZNvQ7iyHPbZ7msCfx/eWy3c82jQfZbf7dNuW+Jdraym8qdtvlACQkoUTOGy2XTAz082l+d4ks9W87H2W0uLbytv3vNeFt2c8Y8nGMc7u2OcC78B/arC7tv7S2/aLTVrbd5Gdv26cS7sbudmMY/i6/L0oAkj8YX5tL3VJ9Gjh0XT7i5hubk3mZgkErxtKkQTDIAm4gsr8OFVsLvt3n/JSNG/7BN//wCjrOqmm+C2ihuYtR1O6ktLq+urmfTkkVradZbiSRQ25N4G1kDIrBGIYEMGfdtzaX53iSz1bzsfZbS4tvK2/e814W3ZzxjycYxzu7Y5AOYv/iho9hqVysl5pS2NlM8F0ZdTRLsOhKuUtiMsqkEcsrNtYor/ACbyfx/eWy3c82jQfZbf7dNuW+Jdraym8qdtvlACQkoUTOGy2XTAzrnQtVtJZodD1eCx0+4mkmkiksvOmieRi0hikLhRlmZgHSTDMeq4QULvwH9qsLu2/tLb9otNWtt3kZ2/bpxLuxu52Yxj+Lr8vSgCvf8AxQ0ew1K5WS80pbGymeC6Mupol2HQlXKWxGWVSCOWVm2sUV/k33IPGF/IDdy6NHDpaam2mNObzMzP9qNsrpGEwUL7c7nVh8+A2FL2zoWq2ks0Oh6vBY6fcTSTSRSWXnTRPIxaQxSFwoyzMwDpJhmPVcID/hF/+JD/AGb9s/5i39peZ5X/AE/fa9mM/wDAM598dqAMy0uNe/4WlqyrpunGA2NkrudQkDCHzrra4XycFyN2UyAMD5jniS98eJp3iRdNvBpUatdxWot/7WU35MjqiN9mC42ksrf6zIjO4jPyVr3GkXi+JP7W029gh8+GG3vIri2MvmRxO7L5ZDrsb97ICSHH3eBg7sy48Jak0Mtja6vax6ab46hHHJYM8yzfaPtIzIJQpTzv4dgJT5dwPz0AV7S417/haWrKum6cYDY2Su51CQMIfOutrhfJwXI3ZTIAwPmOeNu5mt18baZC9ruun068eO58wjy0ElsGTb0O4shz22e5ouNIvF8Sf2tpt7BD58MNveRXFsZfMjid2XyyHXY372QEkOPu8DB3WJtL87xJZ6t52PstpcW3lbfvea8Lbs54x5OMY53dscgGXc+KpoY7rUorCOTQbB5Uu703BWZfKYrK6Q7DuRGVgSWVjsfarfJvgg8YX8gN3Lo0cOlpqbaY05vMzM/2o2yukYTBQvtzudWHz4DYUvPc+FZpo7rTYr+OPQb95Xu7I25aZvNYtKiTbxtR2ZiQVZhvfay/Jsk/4Rf/AIkP9m/bP+Yt/aXmeV/0/fa9mM/8Azn3x2oA6Ciq7w3DalDMl1ttUhkSS28sHzHJQq+7qNoVxjvv9hVigAooooAKKKKACiiigAooooAKKKKACiiigAooooAKKKKACiiigAooooAKKKKACiiigAooooAKKKKACiiigAooooAKKKKACiiigAooooAKKKKACiiigAooooAKKKKACiiigAooooAKKKKACiiigAooooAKKKKACiiigAooooAzbf8A5DR/64n+YrSrNt/+Q0f+uJ/mK0qACiiigAooooAKKKKACiiigAooooAKKKKACiiigDDm1nUm8WvpGn6dazQW9vb3FzcT3jRsqyySrhEEbBiBCTyy5yB70TazqTeLX0jT9OtZoLe3t7i5uJ7xo2VZZJVwiCNgxAhJ5Zc5A96js/8AkpGs/wDYJsP/AEdeUWf/ACUjWf8AsE2H/o68oAuX+rTW+t6fpdnbRzz3aSTu0sxjWOGNo1cghWLPmVMLgA/NllwMl/q01vren6XZ20c892kk7tLMY1jhjaNXIIViz5lTC4APzZZcDOfLG0PxMsmkmknFxpl20ayBQLULJahlTaASHLAtv3HKjaVGQSWNofiZZNJNJOLjTLto1kCgWoWS1DKm0AkOWBbfuOVG0qMggHSUV55At1DpB106pqMt4PEjWkayXbmGOBtUMBj8oHYw2MwBYMy5GCAqBbF7c3TaDrXiI3l0mtabcXMNrZrcOsO5JGW3ha3B2uZlMZ+YF288FGX93tAOv1fU4dF0S+1S6WR4LG3kuJFjALFUUsQASBnA9RVyvNPFirqPw98W6tquqXVleWqX1osS3bRQxIpdIo2hJ2MZUKNl1LnzgUIHl7ZJpvFF7Lq2rwtY2s2nXdxFHLda5Pbw20UTHb51qITGVaPDlmYsVk3KyDZsAPR6w7jxVbW9zL/ol1Jp9u5judUQJ9mt3BwwYlt5CnhnVSiHduYbH27lchpd3Z6f4J1r+1bf7RHDqOorPZFA7y+ZdSskXlt95pFkj2qfveYmOGFAHX1T1fU4dF0S+1S6WR4LG3kuJFjALFUUsQASBnA9RXKfb7z/AIQvz/tc/nf8JP5HmeYd3l/2x5ezP93Z8mOm3jpWX4sVdR+Hvi3VtV1S6sry1S+tFiW7aKGJFLpFG0JOxjKhRsupc+cChA8vaAel0V55At1DpB106pqMt4PEjWkayXbmGOBtUMBj8oHYw2MwBYMy5GCAqBSBbqHSDrp1TUZbweJGtI1ku3MMcDaoYDH5QOxhsZgCwZlyMEBUCgG/F4yjkaeaXR9Rg0y3uJreXU5DB5CGKRo2cgSGQJuQ/MUwB8zYUEiSLxnpU+ga5q0HnvDoU11DeRiPDh7fJcLk4OQAQc/xDODkDlBFqSeBteuLy7tZfD8d9qj3ljHaslzJbreTGZBMZCuSofjYCQdoZD+8XL1//iT/AA98Q60vFvef2zpt97bru6+zP3PErtHhRz9o3McR0Ad/F4z0qfQNc1aDz3h0Ka6hvIxHhw9vkuFycHIAIOf4hnByBcsNWmuNb1DS7y2jgntEjnRopjIskMjSKhJKqVfMT5XBA+XDNk4801//AIk/w98Q60vFvef2zpt97bru6+zP3PErtHhRz9o3McR13cUbTfEy9aOaSAW+mWjSLGFIug0l0FV9wJAQqSuzacsdxYYAANCw1aa41vUNLvLaOCe0SOdGimMiyQyNIqEkqpV8xPlcED5cM2TivDrOpL4tTSNQ061hguLe4uLa4gvGkZlikiXDoY1CkiYHhmxgj3qvFG03xMvWjmkgFvplo0ixhSLoNJdBVfcCQEKkrs2nLHcWGAJLz/kpGjf9gm//APR1nQBJDrOpL4tTSNQ061hguLe4uLa4gvGkZlikiXDoY1CkiYHhmxgj3rcrn7z/AJKRo3/YJv8A/wBHWddBQAUUUUAFFFFABRRRQAUUUUAFFFFABRRRQAUUUUAFFFFABRRRQAUUUUAFFFFABRRRQAUUUUAFFFFABRRRQAUUUUAFFFFABRRRQAUUUUAFFFFABRRRQAUUUUAFFFFABRRRQAUUUUAFFFFABRRRQAUUUUAFFFFABRRRQAUUUUAFFFFABRRRQAUUUUAZtv8A8ho/9cT/ADFaVZtv/wAho/8AXE/zFaVABRRRQAUUUUAFFFFABRRRQAUUUUAFFFFABRRRQBl3Ph3T7vW01eT7Ul4iRpvgvZoldUZmVXRHCuAXbhgfvEdKLnw7p93raavJ9qS8RI03wXs0SuqMzKrojhXALtwwP3iOlZH9kabqPxSv7jUNPtbqez0ywe2lngV2gbzrs7kJGVOVByPQelH9kabqPxSv7jUNPtbqez0ywe2lngV2gbzrs7kJGVOVByPQelAG/eaVaX9za3FwkgntH3RSxTPEw5BKkqQWQlVJQ5Vtq5BwKLzSrS/ubW4uEkE9o+6KWKZ4mHIJUlSCyEqpKHKttXIOBWfB4mFzfGO20jUZbIXDWx1GNI2hEiuY2GwP5uBICpbZgYLZ2fNRceKra3uZf9EupNPt3MdzqiBPs1u4OGDEtvIU8M6qUQ7tzDY+0A1PsFn9n8j7JB5Pnef5fljb5m/zN+P72/589d3PWo5NI02bVotUm0+1k1CBNkV20CmaNeflV8ZA+ZuAe59ax9X8aW2kW19ef2ZqN7p+npIbm9s40eNHQHcgBcOxBG0sqlFOQzLsfbc/4SWz/sn+0fLn8n+0f7O27Ru8z7V9lz1+7v5z1284zxQBYvNA0fUb0XmoaTY3V0IWgE89sjuI2DBk3EZ2kMwI6HcfU0XegaPf6lBqN9pNjc31vt8m5mtkeWLady7WIyMEkjHQ81TuPFVtb3Mv+iXUmn27mO51RAn2a3cHDBiW3kKeGdVKId25hsfbXg8aW085xpmopZpfNp8l/JGiwpOJzAFwX3sGfaAyqyjeMkFXCgHSVTk0jTZtWi1SbT7WTUIE2RXbQKZo15+VXxkD5m4B7n1rnLbXdSPxI1OyOiaq9qtpZqp8638qIGa5Bn2mbO1gB0G/EfKjCg7dxcQr4t0+3aW6E8ljdOkSMPIZVkgDM46lwWUKewaT1oAJ/DOg3OrDVLnRNOl1AOri7ktI2mDLja28jORgYOeMCpLzQNH1G9F5qGk2N1dCFoBPPbI7iNgwZNxGdpDMCOh3H1NU5/Ewtr4R3OkajFZG4W2GoyJGsJkZxGo2F/NwZCFDbMHIbOz5qLu4mX4gaTbrLIIJNMvXeIMdrMstqFYjoSAzAHtuPrQBqfYLP7P5H2SDyfO8/wAvyxt8zf5m/H97f8+eu7nrR9gs/s/kfZIPJ87z/L8sbfM3+Zvx/e3/AD567uetZer3E15ren6NZSyRHet7eyxMQ0cMbAomR0MkgC4Iw0aTgHIou7iZfiBpNussggk0y9d4gx2syy2oViOhIDMAe24+tAGobCzayms2tIDaz+Z5sBjGyTeSX3L0O4sxOeuTnrQbCzayms2tIDaz+Z5sBjGyTeSX3L0O4sxOeuTnrWXB4mFzfGO20jUZbIXDWx1GNI2hEiuY2GwP5uBICpbZgYLZ2fNWZba7qR+JGp2R0TVXtVtLNVPnW/lRAzXIM+0zZ2sAOg34j5UYUEA6c2Fm1lNZtaQG1n8zzYDGNkm8kvuXodxZic9cnPWo7PSrSwubq4t0kM92+6WWWZ5WPJIUFiSqAsxCDCrubAGTWBJ8QLKFrhptM1FILd7ktORCVMNtIY7icASbtiNtyMbzuG1W5xf1e4mvNb0/RrKWSI71vb2WJiGjhjYFEyOhkkAXBGGjScA5FAGhZ6VaWFzdXFukhnu33SyyzPKx5JCgsSVQFmIQYVdzYAyar23h3T7TW31eP7U946SJvnvZpVRXZWZUR3KoCUXhQPugdK4S11Oy+y6nNp+vz3Hi6PUb9LTTTq0kpkdbmVYomtS5URlAoJ2jamX3JjeOzn8TC2vhHc6RqMVkbhbYajIkawmRnEajYX83BkIUNswchs7PmoAsW3h3T7TW31eP7U946SJvnvZpVRXZWZUR3KoCUXhQPugdK1Kw18TCfXrrS7LSNRunsrhILq4jSNYYd8aSBtzuu4bZOQgZhtOVGV3ZltrupH4kanZHRNVe1W0s1U+db+VEDNcgz7TNnawA6DfiPlRhQQDr6Ky7i4hXxbp9u0t0J5LG6dIkYeQyrJAGZx1LgsoU9g0nrWJba7qR+JGp2R0TVXtVtLNVPnW/lRAzXIM+0zZ2sAOg34j5UYUEA6+isu4uIV8W6fbtLdCeSxunSJGHkMqyQBmcdS4LKFPYNJ61XuPFVtb3Mv8Aol1Jp9u5judUQJ9mt3BwwYlt5CnhnVSiHduYbH2gG5RXNweNLaec40zUUs0vm0+S/kjRYUnE5gC4L72DPtAZVZRvGSCrhbFx4qtre5l/0S6k0+3cx3OqIE+zW7g4YMS28hTwzqpRDu3MNj7QDcorjPG3iprfwl4h/su01GRLexuYzqlmF8u3nEbDAIbzCVbALopVDncw2PtktLXUNdsL7WbW+ni1eG7vILJDcyJaKIZ5IkR4gdrK2zLsQX+dtpXCbQDr6Kw5/Ewtr4R3OkajFZG4W2GoyJGsJkZxGo2F/NwZCFDbMHIbOz5qLu4mX4gaTbrLIIJNMvXeIMdrMstqFYjoSAzAHtuPrQBuUVh3dxMvxA0m3WWQQSaZeu8QY7WZZbUKxHQkBmAPbcfWqH9kabp3xSsLjT9PtbWe80y/e5lggVGnbzrQ7nIGWOWJyfU+tAHV0Vyn9kabp3xSsLjT9PtbWe80y/e5lggVGnbzrQ7nIGWOWJyfU+tdXQAUVyn9kabqPxSv7jUNPtbqez0ywe2lngV2gbzrs7kJGVOVByPQelZ95c3T+Fdc8XfbLpNQ0t7820SXDrbBLWWVFRoQdjhhH8zMC+Xbay4TYAd3RXNxeNLaVp5f7M1GPT7W4mtrnUZI0WCB4pGjYnL7ymVzvVSig5YrtfbuJ9s/tKbzPI+w+TH5O3Pm+Zl/M3dtuPLxjnO7PagCxRRRQAUVl3FxCvi3T7dpboTyWN06RIw8hlWSAMzjqXBZQp7BpPWs+DxpbTznGmailml82nyX8kaLCk4nMAXBfewZ9oDKrKN4yQVcKAdJRXES6he6j8SJrK50fXPsthDbPAbe+jhiQtNMGmkVJ1MkbCNMKwYgI3yDdhtu48VW1vcy/wCiXUmn27mO51RAn2a3cHDBiW3kKeGdVKId25hsfaAblFYa+JhPr11pdlpGo3T2VwkF1cRpGsMO+NJA253XcNsnIQMw2nKjK7i48VW1vcy/6JdSafbuY7nVECfZrdwcMGJbeQp4Z1Uoh3bmGx9oBuUVzcHjS2nnONM1FLNL5tPkv5I0WFJxOYAuC+9gz7QGVWUbxkgq4WxceJglzKtlpGo6jawOUnvLNI2jjZTh1Clw8hXuI1fkFRlwVABuUVh3Hiq2t7mX/RLqTT7dzHc6ogT7NbuDhgxLbyFPDOqlEO7cw2Pt3KACiuQttd1I/EjU7I6Jqr2q2lmqnzrfyogZrkGfaZs7WAHQb8R8qMKDpr4mE+vXWl2WkajdPZXCQXVxGkaww740kDbnddw2ychAzDacqMruANyisOfxMLa+EdzpGoxWRuFthqMiRrCZGcRqNhfzcGQhQ2zByGzs+arFxcQr4t0+3aW6E8ljdOkSMPIZVkgDM46lwWUKewaT1oA1KK5uDxpbTznGmailml82nyX8kaLCk4nMAXBfewZ9oDKrKN4yQVcL0lABRXES6he6j8SJrK50fXPsthDbPAbe+jhiQtNMGmkVJ1MkbCNMKwYgI3yDdht//hJbP+yf7R8ufyf7R/s7btG7zPtX2XPX7u/nPXbzjPFAGxRXNweNLaec40zUUs0vm0+S/kjRYUnE5gC4L72DPtAZVZRvGSCrhbFx4mCXMq2WkajqNrA5Se8s0jaONlOHUKXDyFe4jV+QVGXBUAG5RXIW2u6kfiRqdkdE1V7VbSzVT51v5UQM1yDPtM2drADoN+I+VGFB27i4hXxbp9u0t0J5LG6dIkYeQyrJAGZx1LgsoU9g0nrQBqUVh3Hiq2t7mX/RLqTT7dzHc6ogT7NbuDhgxLbyFPDOqlEO7cw2PtrweNLaec40zUUs0vm0+S/kjRYUnE5gC4L72DPtAZVZRvGSCrhQDpKKK880sG21J7rxDYeJos6zOkd/Jqsi2p3XbJbr5AnzsOYkA8raQQT8uWoA9DorzzSwbbUnuvENh4mizrM6R38mqyLanddsluvkCfOw5iQDytpBBPy5arGqN/Z+soY7/WJdZbU4B50i3UViIJLhcx/N/oxIgbywfvM4BH7wigDu6K5DU9NnsdQtJrfU7661y61FXjjW6lWL7KJ180GDeYgqW7bC5UZbac+Y65k/sjTdO+KVhcafp9raz3mmX73MsECo07edaHc5AyxyxOT6n1oA6uiiigAooooAKKKKACiiigAooooAKKKKACiiigAooooAKKKKAM23/wCQ0f8Arif5itKs23/5DR/64n+YrSoAKKKKACiiigAooooAKKKKACiiigAooooAKKKKAObcahY/EC5u49IuruzvrG0t/tMEkIWFo5bgsXDyK2AJVPyq3fvxQ41Cx+IFzdx6RdXdnfWNpb/aYJIQsLRy3BYuHkVsASqflVu/fiukooA5SfQdWk8UC+t7bTrIm4V5dTtbmWOa4iUj93Lb7Nkp2AxBnc7cl1Cn5az7nwDDHfXQtvDPhnUkvLiW4OoanCDPC0rl2DIIj5wVmJX548rtTjbvPd0UAcZ4o8K6vN4X13TfD1/HHaX9vdOLI24aZppQ7MiTM4VUeRiSGViN77WUbdhP4e15bcaTbQ6dJp/9srqRvJLyRJgv24XbL5IiIyOUH7znAPGcDs6KAOEufAMMd9dC28M+GdSS8uJbg6hqcIM8LSuXYMgiPnBWYlfnjyu1ONu86n/CNXn/AAjP9neZB539uf2ju3Hb5f8AaP2rHT72zjHTdxnHNdPRQBhzWGpW3i19U0+K1uILy3t7W5WedomgWKSVt6AIwkJEx+UlMbByd3y2LjTJpfFun6orRiC2sbq3dSTuLSyQMpAxjGIWzz3HXtqUUAcBfeB7yfUJJl0jQ7q6XURfxazcSkXh2zidIT+5YqoAWDcJDhBkLx5ddXcaZNL4t0/VFaMQW1jdW7qSdxaWSBlIGMYxC2ee469tSigDL0jTJrS51C9v2jkvL24YlkJKpCpKwxqSMgBPmK8jzJJSOGouNMml8W6fqitGILaxurd1JO4tLJAykDGMYhbPPcde2pRQByk+g6tJ4oF9b22nWRNwry6na3Msc1xEpH7uW32bJTsBiDO525LqFPy1fmsNStvFr6pp8VrcQXlvb2tys87RNAsUkrb0ARhISJj8pKY2Dk7vl3KKAOEvvA+pXOmXtvHPah7ix1u3Us7YDXtyssRPy9Aow3oemetdPpGmTWlzqF7ftHJeXtwxLISVSFSVhjUkZACfMV5HmSSkcNWpRQBl+HtMm0nTJbe5aNne+u7gGMkjbLcySqOQOQrgH3z161yl94HvJ9QkmXSNDurpdRF/FrNxKReHbOJ0hP7liqgBYNwkOEGQvHl139FAGXpOmTWGp63cTNGyahfLcRBScqotoYsNx13RMeM8EfQV5rDUrbxa+qafFa3EF5b29rcrPO0TQLFJK29AEYSEiY/KSmNg5O75dyigDLuNMml8W6fqitGILaxurd1JO4tLJAykDGMYhbPPcde1eaw1K28WvqmnxWtxBeW9va3KzztE0CxSStvQBGEhImPykpjYOTu+XcooAy7jTJpfFun6orRiC2sbq3dSTuLSyQMpAxjGIWzz3HXtkXXhvUn0/UPD0BtToupvcNNdPKwuYVuHd5UWMLtc5d9rll2hlyr7Dv6uigDmP+EavP8AhGf7O8yDzv7c/tHduO3y/wC0ftWOn3tnGOm7jOOay7nwDDHfXQtvDPhnUkvLiW4OoanCDPC0rl2DIIj5wVmJX548rtTjbvPd0UAcZrPhvXn8Oaz4e0Q6cbPU0u2W6vJZBJC1wXd0MarhxvdsPuXaGGVcp89xtD1iC3vNH06aCHTL6aeZr8Tul3bee7SSKiBdrNudtkm5du5cq+w7+nooA4C+8D3k+oSTLpGh3V0uoi/i1m4lIvDtnE6Qn9yxVQAsG4SHCDIXjy66u40yaXxbp+qK0YgtrG6t3Uk7i0skDKQMYxiFs89x17alFAGXcaZNL4t0/VFaMQW1jdW7qSdxaWSBlIGMYxC2ee469s9BqF98QLa7k0i6tLOxsbu3+0zyQlZmkltypQJIzYIiY/Mq9u/FdJRQBzaDUL74gW13JpF1aWdjY3dv9pnkhKzNJLblSgSRmwREx+ZV7d+K6SiigDm3GoWPxAubuPSLq7s76xtLf7TBJCFhaOW4LFw8itgCVT8qt378VBdeG9SfT9Q8PQG1Oi6m9w0108rC5hW4d3lRYwu1zl32uWXaGXKvsO/q6KAOM07wrq82mX+m6nfxx6Tf3189xZG3DTNDLcysESZXAVHRlJBVnG98Mp27OrS02alNefaJ282GOLyGfMSbC53KvZjvwT3Cr6VYooAw7jXtRhuZYo/CWsXCI5VZo5bMLIAfvDdcA4PXkA+oFFxr2ow3MsUfhLWLhEcqs0ctmFkAP3huuAcHryAfUCtyigDLuNMml8W6fqitGILaxurd1JO4tLJAykDGMYhbPPcde2Z/wjV5/wAIz/Z3mQed/bn9o7tx2+X/AGj9qx0+9s4x03cZxzXT0UAZdvpk0Xi3UNUZozBc2NrbooJ3BopJ2YkYxjEy457Hp35i58Awx310Lbwz4Z1JLy4luDqGpwgzwtK5dgyCI+cFZiV+ePK7U427z3dFAGXpOmTWGp63cTNGyahfLcRBScqotoYsNx13RMeM8EfQcxc+AYY766Ft4Z8M6kl5cS3B1DU4QZ4WlcuwZBEfOCsxK/PHldqcbd57uigDmP8AhGrz/hGf7O8yDzv7c/tHduO3y/7R+1Y6fe2cY6buM45p8Vhr2jtPZaJFp09nPcTXC3N5PIslu00jSODEqESgO7EfPHkEKcEb26SigDhLnwDDHfXQtvDPhnUkvLiW4OoanCDPC0rl2DIIj5wVmJX548rtTjbvO/ca9qMNzLFH4S1i4RHKrNHLZhZAD94brgHB68gH1ArcooAw5rDUrbxa+qafFa3EF5b29rcrPO0TQLFJK29AEYSEiY/KSmNg5O75bGk6ZNYanrdxM0bJqF8txEFJyqi2hiw3HXdEx4zwR9BqUUAcBfeB7yfUJJl0jQ7q6XURfxazcSkXh2zidIT+5YqoAWDcJDhBkLx5ddXcaZNL4t0/VFaMQW1jdW7qSdxaWSBlIGMYxC2ee469tSigDmP+EavP+EZ/s7zIPO/tz+0d247fL/tH7Vjp97Zxjpu4zjmrdxr2ow3MsUfhLWLhEcqs0ctmFkAP3huuAcHryAfUCtyigDLt9Mmi8W6hqjNGYLmxtbdFBO4NFJOzEjGMYmXHPY9O+BP4e15bcaTbQ6dJp/8AbK6kbyS8kSYL9uF2y+SIiMjlB+85wDxnA7OigDmP+EavP+EZ/s7zIPO/tz+0d247fL/tH7Vjp97Zxjpu4zjmnxWGvaO09lokWnT2c9xNcLc3k8iyW7TSNI4MSoRKA7sR88eQQpwRvbpKKAMOaw1K28WvqmnxWtxBeW9va3KzztE0CxSStvQBGEhImPykpjYOTu+WxcaZNL4t0/VFaMQW1jdW7qSdxaWSBlIGMYxC2ee469tSigDlLrw3qT6fqHh6A2p0XU3uGmunlYXMK3Du8qLGF2ucu+1yy7Qy5V9h3yf8I1ef8Iz/AGd5kHnf25/aO7cdvl/2j9qx0+9s4x03cZxzXT0UAYdxr2ow3MsUfhLWLhEcqs0ctmFkAP3huuAcHryAfUCql7pfiHUXXT7w2MlguoxXgv8Az2EwSO4WdIvIEe3jasW7zOQN5Gflrp6KAOYvdL8Q6i66feGxksF1GK8F/wCewmCR3CzpF5Aj28bVi3eZyBvIz8tF7pfiHUXXT7w2MlguoxXgv/PYTBI7hZ0i8gR7eNqxbvM5A3kZ+WunooA5jTLTxJY6xdy3Gn6VdLdXbGS+bUZFm+zCRvKQR+QVGyNsBA4Bbc2cuzF6DUL74gW13JpF1aWdjY3dv9pnkhKzNJLblSgSRmwREx+ZV7d+K6SigAooooAKKKKACiiigAooooAKKKKACiiigAooooAKKKKACiiigDNt/wDkNH/rif5itKs23/5DR/64n+YrSoAKKKKACiiigAoopjOBQA+iovOHrSecPWgCaiofOHrR5w9aAJqKh84etHnD1oAmoqHzh60ecPWgCaiofOHrR5w9aAJqKh84etHnD1oAmoqHzh60ecPWgCaiofOHrR5w9aAJqKh84etHnD1oAmoqHzh60vnD1oAlopiuDT6ACiiigAooooAKKKKACiiigAooooAKKKKACiiigAooooAKKKKACiiigAooooAKKKKACiiigAooooAKKKKACiiigAooooAKKKKACiiigAooooAKKKKACiiigAooooAKKKKACiiigAooooAKKKKACiiigAooooAKKKKACiiigAooooAKKKKACiiigAooooAKKKKACiiigAooooAzbf8A5DR/64n+YrSrNt/+Q0f+uJ/mK0qACiiigAooooARulVRJulcf3cVZfpVKL/j5l+g/rQBNRWHr2p3lrfWFnZXdlYG7LBbq+haWNnBULEAHT523Ej5s/IcA84pXWv3EXi6LSpdc0TTzshb7Hcxlp7ksW3CM+avpgfI3Pr0oWoPQ6misBvEEq+L004xxiwbNv5xzu+1bPNCemPLyfrxVGDxLdy+LJLBNR0u4CXRhfTYoj9qijC/61m8w4XOOqAcgZzjJu7A9Fc62isPTLzWNVaDUoJrGPSpvmjt2gdppIz91/N3hVJGG27D6Z5yM8ePNKa2jhXV9KOqterbGzFyvmcziMjZu3btvP1o8gOsorN1/UJdL0eS5gMcbBlUzTKWjgBYAyOAQSqg7jyOByQORk6peeI7XQbe8tNT0eVzIivKLCR45lkkVVZAJxtwG9Wz6igDqKK5q816+0vU9Os7trW4QFBqNzHE0YTzWKQ7FLNjLjByTxzVh7zWdR1K5j0aSytraylEUj3UDytcPtDMF2uuwAEDcd2Tn5Rt+Y3D1N2iucHiC6vPEF9ommiA3drOhld0ZkghMaNlgCMsxLKoyOmf4TnS1jUJbGCCOzSN7u7mEFuspIUMQWLHHJCqrNjvjGRnIANGiuYudU17SRLb3psb64Nu11BJbWzxB1jZfMjMZkY7irfKwbqeV4+axquvyxQtLpXkyxx6dLfPK4LLtC/uxwR945P0Q+uQdP6/roxpNu39f1qb9FcW3iqVPDjXyeKvDd0PtUcLX0UJFvbBuocfaDk/8DXqOKddeKbuDw9Y3c2q6PZfaL1rc6ncwn7LLGEdlkRTKuA20AfOR3GQRR/X5f5i3/r1/wAjsqKydJ1OW7uvJe5tbyMWUNwLq1UqkpdpAWX5m+XCAjk9eprMOs65JpbeILc6edKWMzrZmFzNJCOd4m37QxX5guw/3d38QNh2bOpormL7xLeW9jqXkW8Ul3bXKpbxtkCaIoJN2M5zs8wfVOnatWx1Nr/VruKHY1pBFCVkHVncFiOvQKUPT+KgRoGTbKg/vZq0vSqMv/HzF9D/AEq6nSgB1FFFABRRRQAUUUUAFFFFABRRRQAUUUUAFFFFABRRRQAUUUUAFFFFABRRRQAUUUUAFFFFABRRRQAUUUUAFFFFABRRRQAUUUUAFFFFABRRRQAUUUUAFFFFABRRRQAUUUUAFFFFABRRRQAUUUUAFFFFABRRRQAUUUUAFFFFABRRRQAUUUUAFFFFABRRRQAUUUUAFFFFABRRRQBm2/8AyGj/ANcT/MVpVm2//IaP/XFv5itKgAooooAKKKKAGv0qlF/x8y/Qf1q83Ssye6hsZJJLliqkDkKT6+goAq67pt9qdm1tZXVlFFKjRzxX1ibmORSP7odOfqSPaqsGh6pp99E2m6rbfZRBDDKl3ZtLLII8jIkWVQCQf7p559qsHxRpA63L/wDfiT/4mj/hKdI/5+X/APAeT/4mhaA9TKbwDbFGuE1G+XUzd/bftP2qYxebv3Z8jf5eMfJjH3e+ea05tA3sk0Vz5VzFem6ilCZ2huGjIzypXI6+h6gU7/hKdI/5+X/8B5P/AImj/hKdI/5+X/8AAeT/AOJoWn9en+SDf+vX/NkenaPqemXC29vqkJ0iNiY7drQmdF67PN342g8D5M7eM55qf+xf+JOlh5/3LhZ9+zriYS4xn2xn8famf8JTpH/Py/8A4Dyf/E0f8JTpH/Py/wD4Dyf/ABNAdbl++iu5bVl0+5jtrjqkksPmp9GUMpI+jA+9Y9t4YaHQZbCS6i8ya7W7kaC38uJWEiuQke47QdvPzHlmPfFWf+Ep0j/n5f8A8B5P/iaP+Ep0j/n5f/wHk/8AiaNgM7UfAljqs2p3F7eX/wBqviMPBeTRJEFAEY8tX2NtI3fMDkk+uKsjRNWtbp5dM1eCEXRV7xZrIyb5AoUvFiQeWSFHB3jIBx1zY/4SnSP+fl//AAHk/wDiaP8AhKdI/wCfl/8AwHk/+JoWgbkFz4aL6lJqdneG21A3Aljm8vcNnlojROuRvU7M9Rg4I6c39X006nZqkU7W1zDIJrecLu8uQdCV/iBBII4yCcEHBFf/AISnSP8An5f/AMB5P/iaP+Ep0j/n5f8A8B5P/iaADTtKv11H7freoQ3tykZihW2tTBFEpILHaXcliQMktjAGAOSatl4TSx0bU7BLtn+2o0MTtGP9Hh2lY4wAeQoJ785PSrX/AAlOkf8APy//AIDyf/E0f8JTpH/Py/8A4Dyf/E0DTs7iQaZqsscQ1jULO4aGdJYza2TQjCg5BDSvnOevH0pLbw/9knh8q5/0a3vXuoYCn+rDRurRg5+7ucsOOOnTGHf8JTpH/Py//gPJ/wDE0f8ACU6R/wA/L/8AgPJ/8TR/X9fcL+v6+8LzTdUOufb9L1Czt45IY4p4rizaYsFZj8rLKm0/ORyD2qifDOoi3fS4tYjTRHJX7P8AZCbhYzyYhNv27f4fubgvGc/NV7/hKdI/5+X/APAeT/4mj/hKdI/5+X/8B5P/AImgdxZNBR/E0OqibCR2/lNbbeGYZCvnPGFeQYxzuHpS+HtE/sHTWtTcG5ZpWcyFNpK8Ki4/2UVVz3xnjOKb/wAJTpH/AD8v/wCA8n/xNA8UaQely/8A34k/+JoEaMv/AB8xfQ/0q6nSs2C6hvpI5LZiygHkqR6eorTXpQAtFFFABRRRQAUUUUAFFFFABRRRQAUUUUAFFFFABRRRQAUUUUAFFFFABRRRQAUUUUAFFFFABRRRQAUUUUAFFFFABRRRQAUUUUAFFFFABRRRQAUUUUAFFFFABRRRQAUUUUAFFFFABRRRQAUUUUAFFFFABRRRQAUUUUAFFFFABRRRQAUUUUAFFFFABRRRQAUUUUAFFFFABRRRQBnW/wDyGT/1xP8AMVo0UUAFFFFABRRRQAGqtzBHLw65oooApnTbX/nkKT+zbX/nkKKKAD+zbX/nkKP7Ntf+eQoooAP7Ntf+eQo/s21/55CiigA/s21/55Cj+zbX/nkKKKAD+zbX/nkKP7Ntf+eQoooAP7Ntf+eQo/s21/55CiigA/s21/55Cj+zbX/nkKKKAD+zbX/nkKP7Ntf+eQoooAP7Ntf+eQo/s21/55CiigA/s21/55ClGm2v/PIUUUAXLaCOLhFxVoUUUAFFFFABRRRQAUUUUAFFFFABRRRQAUUUUAFFFFABRRRQAUUUUAFFFFABRRRQAUUUUAFFFFABRRRQAUUUUAFFFFABRRRQAUUUUAFFFFABRRRQAUUUUAFFFFABRRRQAUUUUAFFFFABRRRQAUUUUAFFFFABRRRQAUUUUAFFFFABRRRQAUUUUAFFFFABRRRQAUUUUAFFFFABRRRQB//Z)"
      ],
      "metadata": {
        "id": "pGSvcmbPOQSq"
      }
    },
    {
      "cell_type": "markdown",
      "source": [
        "`UnknownError: Graph execution error:%0A%0AFail to find the dnn implementation.%0A%09 [[{{node CudnnRNN}}]]%0A%09 [[sequential_7/lstm_5/PartitionedCall]] [Op:__inference_train_function_17377]`   \n",
        "멀쩡히 잘 돌아가던 코드가 요상한 에러를 뱉음. 구글링 해보니 tensorflow랑 keras 버전문제인듯? 왠지 ex.9 할때 tensorflow랑 keras 버전 바꾼게 문제였던듯? 근데 오류났을 때 버전 체크해보니 2.9.0 이었는데 ㅇㅅㅇ... 암튼 LMS 버전(2.6.0)이랑 같게 해주니 멀쩡히 돌아갔다. 진짜.. 괜한데 힘빼는 재주가 있다 ㅎㅎ  \n",
        "+추가) 런타임 초기화 된 상태에서 다시 돌리니 각각 2.8.2 2.8.0 버전이었고 오류없이 잘 돌아갔다. 2.9.0에서 발생하는 오류인 듯~"
      ],
      "metadata": {
        "id": "bizNuitiOUp4"
      }
    },
    {
      "cell_type": "markdown",
      "source": [
        "* **(긴글주의) 시간 많으신분들만 읽으세용**  \n",
        "마지막 sentiment_predict 함수에서 엄청난 시간을 쏟았다. 저번에 작사가 만들기 Exploration에서는 마지막에 작사를 직접 해보고 얼마나 잘 만들어졌는지 평가를 했는데 이번에는 그런 단계가 없어서 뭘 위해서 이 프로젝트를 했는지 목표가 모호해졌고 잘 만들어졌는지도 모르겠더라. wv을 사용해서 어떻게 해 볼수 없는지 찾다가  [여기](https://wikidocs.net/80783)서 리뷰예측 함수를 찾았다. (정말감사합니다요)   \n",
        "그런데 예측을 하려면 예측 대상인 문장 전처리를 동일하게 해줘야 하는데 당연하게도 이분이 하신 전처리 방법은 달랐다. 그래서 한 줄 한 줄 오류를 뱉었고   \n",
        "첫번째 난관은 정수화였다. 이분은 `texts_to_sequences`라는 tensorflow 텍스트 전처리 메소드를 사용하셨는데 우리는 `word_to_index`를 사용해서 `get_encoded_sentence(sentences, word_to_index)` 와 같이 문장을 넣으면 단어 인덱스 리스트 벡터로 변환해 주는 함수를 사용했다. 사실 `texts_to_sequences` 를 사용해 본 적이 없어서 결과값이 어떻게 반환되는 지는 잘 모르겠으나, 아무튼 안됐다. 처음에는 `word_to_index`를 사용해서 계속 오류가 났는데, 생각해보니 토큰화 되면 리스트에 ['영화', '개노잼'] 처럼 여러 요소가 담기는데 한 단어씩 인덱스로 바꾸는 `word_to_index`를 왜 쓰려고 한건지 이상하다. `get_encoded_sentence`를 사용하니 잘 됐다.  \n",
        "두번째 난관은 `pad_sequences`였다. [5, 12] 같은 꼴로 pad_sequences에 들어가면 안된다... [[5,12],[2,23]] 이런꼴로 들어가야 한다.(당연함.. 패딩 왜하는데!!!) 공식문서 찾아보고 알았음. 그래서!! `get_encoded_sentence`로 정수화 시켰을 때 [[5,12],[2,23]] 이런꼴로 나오니 잘못된 건줄 알고   \n",
        "`for i in range(len(new_sentence)):`     \n",
        "`new_sentence[i] = word_to_index[new_sentence[i]]`  \n",
        "로 [5, 12] 이렇게 바꿔줬다. 오류가 생겨서 공식문서 찾아보고 다시 바꿈 ㅎㅎ  \n",
        "세번째는 난관은 아니고 패딩 결과를 모델에 넣고 예측결과를 얻으니 각각의 단어에 따른 긍정/ 부정확률이 나왔다. [44.2345, 75.5744, 34.6544] 같이.. 이걸 어떻게 처리할지 고민하다가 그냥 평균을 내버렸다. 부정적일 확률이 높은 단어들이 모이면 어차피 부정적인 리뷰일 확률이 높은거니까? "
      ],
      "metadata": {
        "id": "zBipmKWwO_gq"
      }
    },
    {
      "cell_type": "markdown",
      "source": [
        "* 너무 아쉬운게 사실 여기서 모델 설계하는것도 비중이 크다고 생각하는데 다른 거 하느라 1-D CNN & RNN MIXUP , FFN(FeedForward Network)레이어만으로 이루어진 모델, Transformer 레이어 와 같은 모델을 설계해볼 수 없었다. 뒤에 또 나오지 않을까..? ㅎㅎ..ㅎㅎ.."
      ],
      "metadata": {
        "id": "gJLQ2tZKxeIG"
      }
    },
    {
      "cell_type": "markdown",
      "source": [
        "* EarlyStopping를 처음 써봤는데 너무 편하고 좋았다. 다음에도 써야지 ModelCheckpoint는 어떻게 쓰는지 모르겠다. 수련이 필요"
      ],
      "metadata": {
        "id": "qgUp3o-yyxPm"
      }
    },
    {
      "cell_type": "markdown",
      "source": [
        "* 이해할 내용이 많아서 조금 힘든 Ex였다......... 그렇지만 궁금한 부분을 더 파보지 않았더라면 내가 이만큼 이해할 수 있었을까? 그냥 모델 슥 돌리고 정확도 넘었네 하고 말았겠지? 자연어 처리 힘든데 나쁘지 않은것 같기도 하고 아직 긴가민가하다."
      ],
      "metadata": {
        "id": "6rEdAP4Y0Ml2"
      }
    },
    {
      "cell_type": "markdown",
      "source": [
        "---"
      ],
      "metadata": {
        "id": "eFdF8Lz721dX"
      }
    },
    {
      "cell_type": "markdown",
      "source": [
        "## 참고문헌\n",
        "* def sentiment_predict : 리뷰 예측 결과 코드 참고 [링크](https://wikidocs.net/94600)\n",
        "* EarlyStopping, CNN 모델 : [링크](https://wikidocs.net/80783)\n"
      ],
      "metadata": {
        "id": "kgLgr2P7rr7t"
      }
    }
  ],
  "metadata": {
    "accelerator": "GPU",
    "colab": {
      "provenance": [],
      "collapsed_sections": [],
      "machine_shape": "hm",
      "mount_file_id": "17NkzN-6hWWO3z0YhSuPhkLiw1A2D3r7h",
      "authorship_tag": "ABX9TyNwbPoqekNqLa9qI2juHkaD",
      "include_colab_link": true
    },
    "gpuClass": "standard",
    "kernelspec": {
      "display_name": "Python 3",
      "name": "python3"
    },
    "language_info": {
      "name": "python"
    }
  },
  "nbformat": 4,
  "nbformat_minor": 0
}