{
  "nbformat": 4,
  "nbformat_minor": 0,
  "metadata": {
    "colab": {
      "provenance": [],
      "collapsed_sections": [],
      "mount_file_id": "1oR7ZFkkez8aSrhnWg8BE5knPXhGzju7Q",
      "authorship_tag": "ABX9TyPGiVKiMT8AtcOHeUavJn7V",
      "include_colab_link": true
    },
    "kernelspec": {
      "name": "python3",
      "display_name": "Python 3"
    },
    "language_info": {
      "name": "python"
    },
    "accelerator": "GPU",
    "gpuClass": "standard",
    "widgets": {
      "application/vnd.jupyter.widget-state+json": {
        "af794319d8de44a9991779503d4051c9": {
          "model_module": "@jupyter-widgets/controls",
          "model_name": "HBoxModel",
          "model_module_version": "1.5.0",
          "state": {
            "_dom_classes": [],
            "_model_module": "@jupyter-widgets/controls",
            "_model_module_version": "1.5.0",
            "_model_name": "HBoxModel",
            "_view_count": null,
            "_view_module": "@jupyter-widgets/controls",
            "_view_module_version": "1.5.0",
            "_view_name": "HBoxView",
            "box_style": "",
            "children": [
              "IPY_MODEL_64ca9b95affc4cd58a7480c4ba3e9a17",
              "IPY_MODEL_4b8c8168dd444a9c9780424edef9b778",
              "IPY_MODEL_e6cfcf7b11c94f939599f5d0212e0147"
            ],
            "layout": "IPY_MODEL_d14ccb614ad242b6b292d90a3233d91b"
          }
        },
        "64ca9b95affc4cd58a7480c4ba3e9a17": {
          "model_module": "@jupyter-widgets/controls",
          "model_name": "HTMLModel",
          "model_module_version": "1.5.0",
          "state": {
            "_dom_classes": [],
            "_model_module": "@jupyter-widgets/controls",
            "_model_module_version": "1.5.0",
            "_model_name": "HTMLModel",
            "_view_count": null,
            "_view_module": "@jupyter-widgets/controls",
            "_view_module_version": "1.5.0",
            "_view_name": "HTMLView",
            "description": "",
            "description_tooltip": null,
            "layout": "IPY_MODEL_667049c36ae24d778f6beaa3e489dd3f",
            "placeholder": "​",
            "style": "IPY_MODEL_64f105ff8b8f46faa02b60956d717663",
            "value": "100%"
          }
        },
        "4b8c8168dd444a9c9780424edef9b778": {
          "model_module": "@jupyter-widgets/controls",
          "model_name": "FloatProgressModel",
          "model_module_version": "1.5.0",
          "state": {
            "_dom_classes": [],
            "_model_module": "@jupyter-widgets/controls",
            "_model_module_version": "1.5.0",
            "_model_name": "FloatProgressModel",
            "_view_count": null,
            "_view_module": "@jupyter-widgets/controls",
            "_view_module_version": "1.5.0",
            "_view_name": "ProgressView",
            "bar_style": "success",
            "description": "",
            "description_tooltip": null,
            "layout": "IPY_MODEL_8fade1ac85e846c2b909f7ff50ff07f8",
            "max": 100,
            "min": 0,
            "orientation": "horizontal",
            "style": "IPY_MODEL_01555b02839148b99546ba6e54d390e2",
            "value": 100
          }
        },
        "e6cfcf7b11c94f939599f5d0212e0147": {
          "model_module": "@jupyter-widgets/controls",
          "model_name": "HTMLModel",
          "model_module_version": "1.5.0",
          "state": {
            "_dom_classes": [],
            "_model_module": "@jupyter-widgets/controls",
            "_model_module_version": "1.5.0",
            "_model_name": "HTMLModel",
            "_view_count": null,
            "_view_module": "@jupyter-widgets/controls",
            "_view_module_version": "1.5.0",
            "_view_name": "HTMLView",
            "description": "",
            "description_tooltip": null,
            "layout": "IPY_MODEL_95e661e205c447ed9fb6e5720e3f26ef",
            "placeholder": "​",
            "style": "IPY_MODEL_465cc1122f4441248ceb57da8a2b6087",
            "value": " 100/100 [05:24&lt;00:00,  3.66s/it]"
          }
        },
        "d14ccb614ad242b6b292d90a3233d91b": {
          "model_module": "@jupyter-widgets/base",
          "model_name": "LayoutModel",
          "model_module_version": "1.2.0",
          "state": {
            "_model_module": "@jupyter-widgets/base",
            "_model_module_version": "1.2.0",
            "_model_name": "LayoutModel",
            "_view_count": null,
            "_view_module": "@jupyter-widgets/base",
            "_view_module_version": "1.2.0",
            "_view_name": "LayoutView",
            "align_content": null,
            "align_items": null,
            "align_self": null,
            "border": null,
            "bottom": null,
            "display": null,
            "flex": null,
            "flex_flow": null,
            "grid_area": null,
            "grid_auto_columns": null,
            "grid_auto_flow": null,
            "grid_auto_rows": null,
            "grid_column": null,
            "grid_gap": null,
            "grid_row": null,
            "grid_template_areas": null,
            "grid_template_columns": null,
            "grid_template_rows": null,
            "height": null,
            "justify_content": null,
            "justify_items": null,
            "left": null,
            "margin": null,
            "max_height": null,
            "max_width": null,
            "min_height": null,
            "min_width": null,
            "object_fit": null,
            "object_position": null,
            "order": null,
            "overflow": null,
            "overflow_x": null,
            "overflow_y": null,
            "padding": null,
            "right": null,
            "top": null,
            "visibility": null,
            "width": null
          }
        },
        "667049c36ae24d778f6beaa3e489dd3f": {
          "model_module": "@jupyter-widgets/base",
          "model_name": "LayoutModel",
          "model_module_version": "1.2.0",
          "state": {
            "_model_module": "@jupyter-widgets/base",
            "_model_module_version": "1.2.0",
            "_model_name": "LayoutModel",
            "_view_count": null,
            "_view_module": "@jupyter-widgets/base",
            "_view_module_version": "1.2.0",
            "_view_name": "LayoutView",
            "align_content": null,
            "align_items": null,
            "align_self": null,
            "border": null,
            "bottom": null,
            "display": null,
            "flex": null,
            "flex_flow": null,
            "grid_area": null,
            "grid_auto_columns": null,
            "grid_auto_flow": null,
            "grid_auto_rows": null,
            "grid_column": null,
            "grid_gap": null,
            "grid_row": null,
            "grid_template_areas": null,
            "grid_template_columns": null,
            "grid_template_rows": null,
            "height": null,
            "justify_content": null,
            "justify_items": null,
            "left": null,
            "margin": null,
            "max_height": null,
            "max_width": null,
            "min_height": null,
            "min_width": null,
            "object_fit": null,
            "object_position": null,
            "order": null,
            "overflow": null,
            "overflow_x": null,
            "overflow_y": null,
            "padding": null,
            "right": null,
            "top": null,
            "visibility": null,
            "width": null
          }
        },
        "64f105ff8b8f46faa02b60956d717663": {
          "model_module": "@jupyter-widgets/controls",
          "model_name": "DescriptionStyleModel",
          "model_module_version": "1.5.0",
          "state": {
            "_model_module": "@jupyter-widgets/controls",
            "_model_module_version": "1.5.0",
            "_model_name": "DescriptionStyleModel",
            "_view_count": null,
            "_view_module": "@jupyter-widgets/base",
            "_view_module_version": "1.2.0",
            "_view_name": "StyleView",
            "description_width": ""
          }
        },
        "8fade1ac85e846c2b909f7ff50ff07f8": {
          "model_module": "@jupyter-widgets/base",
          "model_name": "LayoutModel",
          "model_module_version": "1.2.0",
          "state": {
            "_model_module": "@jupyter-widgets/base",
            "_model_module_version": "1.2.0",
            "_model_name": "LayoutModel",
            "_view_count": null,
            "_view_module": "@jupyter-widgets/base",
            "_view_module_version": "1.2.0",
            "_view_name": "LayoutView",
            "align_content": null,
            "align_items": null,
            "align_self": null,
            "border": null,
            "bottom": null,
            "display": null,
            "flex": null,
            "flex_flow": null,
            "grid_area": null,
            "grid_auto_columns": null,
            "grid_auto_flow": null,
            "grid_auto_rows": null,
            "grid_column": null,
            "grid_gap": null,
            "grid_row": null,
            "grid_template_areas": null,
            "grid_template_columns": null,
            "grid_template_rows": null,
            "height": null,
            "justify_content": null,
            "justify_items": null,
            "left": null,
            "margin": null,
            "max_height": null,
            "max_width": null,
            "min_height": null,
            "min_width": null,
            "object_fit": null,
            "object_position": null,
            "order": null,
            "overflow": null,
            "overflow_x": null,
            "overflow_y": null,
            "padding": null,
            "right": null,
            "top": null,
            "visibility": null,
            "width": null
          }
        },
        "01555b02839148b99546ba6e54d390e2": {
          "model_module": "@jupyter-widgets/controls",
          "model_name": "ProgressStyleModel",
          "model_module_version": "1.5.0",
          "state": {
            "_model_module": "@jupyter-widgets/controls",
            "_model_module_version": "1.5.0",
            "_model_name": "ProgressStyleModel",
            "_view_count": null,
            "_view_module": "@jupyter-widgets/base",
            "_view_module_version": "1.2.0",
            "_view_name": "StyleView",
            "bar_color": null,
            "description_width": ""
          }
        },
        "95e661e205c447ed9fb6e5720e3f26ef": {
          "model_module": "@jupyter-widgets/base",
          "model_name": "LayoutModel",
          "model_module_version": "1.2.0",
          "state": {
            "_model_module": "@jupyter-widgets/base",
            "_model_module_version": "1.2.0",
            "_model_name": "LayoutModel",
            "_view_count": null,
            "_view_module": "@jupyter-widgets/base",
            "_view_module_version": "1.2.0",
            "_view_name": "LayoutView",
            "align_content": null,
            "align_items": null,
            "align_self": null,
            "border": null,
            "bottom": null,
            "display": null,
            "flex": null,
            "flex_flow": null,
            "grid_area": null,
            "grid_auto_columns": null,
            "grid_auto_flow": null,
            "grid_auto_rows": null,
            "grid_column": null,
            "grid_gap": null,
            "grid_row": null,
            "grid_template_areas": null,
            "grid_template_columns": null,
            "grid_template_rows": null,
            "height": null,
            "justify_content": null,
            "justify_items": null,
            "left": null,
            "margin": null,
            "max_height": null,
            "max_width": null,
            "min_height": null,
            "min_width": null,
            "object_fit": null,
            "object_position": null,
            "order": null,
            "overflow": null,
            "overflow_x": null,
            "overflow_y": null,
            "padding": null,
            "right": null,
            "top": null,
            "visibility": null,
            "width": null
          }
        },
        "465cc1122f4441248ceb57da8a2b6087": {
          "model_module": "@jupyter-widgets/controls",
          "model_name": "DescriptionStyleModel",
          "model_module_version": "1.5.0",
          "state": {
            "_model_module": "@jupyter-widgets/controls",
            "_model_module_version": "1.5.0",
            "_model_name": "DescriptionStyleModel",
            "_view_count": null,
            "_view_module": "@jupyter-widgets/base",
            "_view_module_version": "1.2.0",
            "_view_name": "StyleView",
            "description_width": ""
          }
        }
      }
    }
  },
  "cells": [
    {
      "cell_type": "markdown",
      "metadata": {
        "id": "view-in-github",
        "colab_type": "text"
      },
      "source": [
        "<a href=\"https://colab.research.google.com/github/itchyfeet-patient/Beautiful-Exploration/blob/master/Exploration_13.ipynb\" target=\"_parent\"><img src=\"https://colab.research.google.com/assets/colab-badge.svg\" alt=\"Open In Colab\"/></a>"
      ]
    },
    {
      "cell_type": "markdown",
      "source": [
        "# **13-9. 프로젝트 - Movielens 영화 추천 실습** 🎥"
      ],
      "metadata": {
        "id": "7V6XO2tBrFhO"
      }
    },
    {
      "cell_type": "markdown",
      "source": [
        "이전 스텝에서 배운 MF 모델 학습 방법을 토대로, 내가 좋아할 만한 영화 추천 시스템을 제작해 보겠습니다.\n",
        "\n",
        "이번에 활용할 데이터셋은 추천 시스템의 MNIST라고 부를만한 Movielens 데이터입니다.\n",
        "\n",
        "* 유저가 영화에 대해 평점을 매긴 데이터가 데이터 크기 별로 있습니다. MovieLens 1M Dataset 사용을 권장합니다.\n",
        "* 별점 데이터는 대표적인 explicit 데이터입니다. 하지만 implicit 데이터로 간주하고 테스트해 볼 수 있습니다.\n",
        "* 별점을 시청횟수로 해석해서 생각하겠습니다.\n",
        "* 또한 유저가 3점 미만으로 준 데이터는 선호하지 않는다고 가정하고 제외하겠습니다.  \n",
        "\n",
        "Cloud Storage에 미리 업로드된 ml-1m폴더 내 파일을 심볼릭 링크로 개인 storage에 연결해 줍니다.\n",
        "\n",
        "Cloud shell에서 아래 명령어를 입력해 주세요.\n",
        "```\n",
        "$ mkdir -p ~/aiffel/recommendata_iu/data/ml-1m\n",
        "$ ln -s ~/data/ml-1m/* ~/aiffel/recommendata_iu/data/ml-1m\n",
        "```\n",
        "프로젝트에 필요한 주요 라이브러리 버전을 확인해봅시다."
      ],
      "metadata": {
        "id": "VDfl4D7xrNdO"
      }
    },
    {
      "cell_type": "code",
      "source": [
        "!pip install 'scipy'=='1.7.1' --force-reinstall"
      ],
      "metadata": {
        "colab": {
          "base_uri": "https://localhost:8080/",
          "height": 380
        },
        "id": "uzAt9AjaEFc4",
        "outputId": "9eddf948-84a3-4731-8502-86e2b130ec4d"
      },
      "execution_count": null,
      "outputs": [
        {
          "output_type": "stream",
          "name": "stdout",
          "text": [
            "Looking in indexes: https://pypi.org/simple, https://us-python.pkg.dev/colab-wheels/public/simple/\n",
            "Collecting scipy==1.7.1\n",
            "  Using cached scipy-1.7.1-cp37-cp37m-manylinux_2_5_x86_64.manylinux1_x86_64.whl (28.5 MB)\n",
            "Collecting numpy<1.23.0,>=1.16.5\n",
            "  Using cached numpy-1.21.6-cp37-cp37m-manylinux_2_12_x86_64.manylinux2010_x86_64.whl (15.7 MB)\n",
            "Installing collected packages: numpy, scipy\n",
            "  Attempting uninstall: numpy\n",
            "    Found existing installation: numpy 1.21.6\n",
            "    Uninstalling numpy-1.21.6:\n",
            "      Successfully uninstalled numpy-1.21.6\n",
            "  Attempting uninstall: scipy\n",
            "    Found existing installation: scipy 1.7.3\n",
            "    Uninstalling scipy-1.7.3:\n",
            "      Successfully uninstalled scipy-1.7.3\n",
            "Successfully installed numpy-1.21.6 scipy-1.7.1\n"
          ]
        },
        {
          "output_type": "display_data",
          "data": {
            "application/vnd.colab-display-data+json": {
              "pip_warning": {
                "packages": [
                  "numpy",
                  "scipy"
                ]
              }
            }
          },
          "metadata": {}
        }
      ]
    },
    {
      "cell_type": "code",
      "source": [
        "pip install --upgrade pip setuptools wheel"
      ],
      "metadata": {
        "colab": {
          "base_uri": "https://localhost:8080/",
          "height": 471
        },
        "id": "E64zHXuoGHfQ",
        "outputId": "9e9434b0-75c4-46e6-a506-10c87cd30717"
      },
      "execution_count": null,
      "outputs": [
        {
          "output_type": "stream",
          "name": "stdout",
          "text": [
            "Looking in indexes: https://pypi.org/simple, https://us-python.pkg.dev/colab-wheels/public/simple/\n",
            "Requirement already satisfied: pip in /usr/local/lib/python3.7/dist-packages (21.1.3)\n",
            "Collecting pip\n",
            "  Using cached pip-22.2.2-py3-none-any.whl (2.0 MB)\n",
            "Requirement already satisfied: setuptools in /usr/local/lib/python3.7/dist-packages (57.4.0)\n",
            "Collecting setuptools\n",
            "  Using cached setuptools-65.3.0-py3-none-any.whl (1.2 MB)\n",
            "Requirement already satisfied: wheel in /usr/local/lib/python3.7/dist-packages (0.37.1)\n",
            "Installing collected packages: setuptools, pip\n",
            "  Attempting uninstall: setuptools\n",
            "    Found existing installation: setuptools 57.4.0\n",
            "    Uninstalling setuptools-57.4.0:\n",
            "      Successfully uninstalled setuptools-57.4.0\n",
            "  Attempting uninstall: pip\n",
            "    Found existing installation: pip 21.1.3\n",
            "    Uninstalling pip-21.1.3:\n",
            "      Successfully uninstalled pip-21.1.3\n",
            "\u001b[31mERROR: pip's dependency resolver does not currently take into account all the packages that are installed. This behaviour is the source of the following dependency conflicts.\n",
            "ipython 7.9.0 requires jedi>=0.10, which is not installed.\u001b[0m\n",
            "Successfully installed pip-22.2.2 setuptools-65.3.0\n"
          ]
        },
        {
          "output_type": "display_data",
          "data": {
            "application/vnd.colab-display-data+json": {
              "pip_warning": {
                "packages": [
                  "pkg_resources"
                ]
              }
            }
          },
          "metadata": {}
        }
      ]
    },
    {
      "cell_type": "code",
      "source": [
        "!pip install 'implicit'=='0.4.8' --force-reinstall"
      ],
      "metadata": {
        "colab": {
          "base_uri": "https://localhost:8080/",
          "height": 745
        },
        "id": "_1jIM7zNEkXY",
        "outputId": "bc4a6922-349c-45fa-cec6-3b51455ab8bc"
      },
      "execution_count": null,
      "outputs": [
        {
          "output_type": "stream",
          "name": "stdout",
          "text": [
            "Looking in indexes: https://pypi.org/simple, https://us-python.pkg.dev/colab-wheels/public/simple/\n",
            "Collecting implicit==0.4.8\n",
            "  Using cached implicit-0.4.8.tar.gz (1.1 MB)\n",
            "  Installing build dependencies ... \u001b[?25l\u001b[?25hdone\n",
            "  Getting requirements to build wheel ... \u001b[?25l\u001b[?25hdone\n",
            "  Installing backend dependencies ... \u001b[?25l\u001b[?25hdone\n",
            "  Preparing metadata (pyproject.toml) ... \u001b[?25l\u001b[?25hdone\n",
            "Collecting numpy\n",
            "  Using cached numpy-1.21.6-cp37-cp37m-manylinux_2_12_x86_64.manylinux2010_x86_64.whl (15.7 MB)\n",
            "Collecting scipy>=0.16\n",
            "  Using cached scipy-1.7.3-cp37-cp37m-manylinux_2_12_x86_64.manylinux2010_x86_64.whl (38.1 MB)\n",
            "Collecting tqdm>=4.27\n",
            "  Downloading tqdm-4.64.0-py2.py3-none-any.whl (78 kB)\n",
            "\u001b[2K     \u001b[90m━━━━━━━━━━━━━━━━━━━━━━━━━━━━━━━━━━━━━━━━\u001b[0m \u001b[32m78.4/78.4 kB\u001b[0m \u001b[31m3.8 MB/s\u001b[0m eta \u001b[36m0:00:00\u001b[0m\n",
            "\u001b[?25hBuilding wheels for collected packages: implicit\n",
            "  Building wheel for implicit (pyproject.toml) ... \u001b[?25l\u001b[?25hdone\n",
            "  Created wheel for implicit: filename=implicit-0.4.8-cp37-cp37m-linux_x86_64.whl size=4620669 sha256=bd327e878b95495601b7e5cef93305a9a3cc7a47f3974c39c523eb26bfe62aba\n",
            "  Stored in directory: /root/.cache/pip/wheels/88/e6/34/25e73cccbaf1a961154bb562a5f86123b68fdbf40e306073d6\n",
            "Successfully built implicit\n",
            "Installing collected packages: tqdm, numpy, scipy, implicit\n",
            "  Attempting uninstall: tqdm\n",
            "    Found existing installation: tqdm 4.64.0\n",
            "    Uninstalling tqdm-4.64.0:\n",
            "      Successfully uninstalled tqdm-4.64.0\n",
            "  Attempting uninstall: numpy\n",
            "    Found existing installation: numpy 1.21.6\n",
            "    Uninstalling numpy-1.21.6:\n",
            "      Successfully uninstalled numpy-1.21.6\n",
            "  Attempting uninstall: scipy\n",
            "    Found existing installation: scipy 1.7.1\n",
            "    Uninstalling scipy-1.7.1:\n",
            "      Successfully uninstalled scipy-1.7.1\n",
            "Successfully installed implicit-0.4.8 numpy-1.21.6 scipy-1.7.3 tqdm-4.64.0\n",
            "\u001b[33mWARNING: Running pip as the 'root' user can result in broken permissions and conflicting behaviour with the system package manager. It is recommended to use a virtual environment instead: https://pip.pypa.io/warnings/venv\u001b[0m\u001b[33m\n",
            "\u001b[0m"
          ]
        },
        {
          "output_type": "display_data",
          "data": {
            "application/vnd.colab-display-data+json": {
              "pip_warning": {
                "packages": [
                  "numpy",
                  "scipy"
                ]
              }
            }
          },
          "metadata": {}
        }
      ]
    },
    {
      "cell_type": "code",
      "execution_count": null,
      "metadata": {
        "id": "rDyKdns0SazT",
        "colab": {
          "base_uri": "https://localhost:8080/"
        },
        "outputId": "09a2fae4-7158-44f3-adbf-bf1f23d25a89"
      },
      "outputs": [
        {
          "output_type": "stream",
          "name": "stdout",
          "text": [
            "1.21.6\n",
            "1.7.3\n",
            "0.4.8\n"
          ]
        }
      ],
      "source": [
        "import numpy as np\n",
        "import scipy\n",
        "import implicit\n",
        "import pandas as pd\n",
        "\n",
        "print(np.__version__)\n",
        "print(scipy.__version__)\n",
        "print(implicit.__version__)\n",
        "\n",
        "# lms 버전\n",
        "# 1.21.4\n",
        "# 1.7.1\n",
        "# 0.4.8"
      ]
    },
    {
      "cell_type": "markdown",
      "source": [
        "## **1) 데이터 준비와 전처리**\n",
        "Movielens 데이터는 rating.dat 안에 이미 인덱싱까지 완료된 사용자-영화-평점 데이터가 깔끔하게 정리되어 있습니다.\n",
        "\n"
      ],
      "metadata": {
        "id": "0tdmriiaraS1"
      }
    },
    {
      "cell_type": "code",
      "source": [
        "import os\n",
        "rating_file_path= '/content/drive/MyDrive/dataset/recommendata_iu/data/ml-1m/ratings.dat'\n",
        "ratings_cols = ['user_id', 'movie_id', 'ratings', 'timestamp']\n",
        "ratings = pd.read_csv(rating_file_path, sep='::', names=ratings_cols, engine='python', encoding = \"ISO-8859-1\")\n",
        "orginal_data_size = len(ratings)\n",
        "ratings.head()"
      ],
      "metadata": {
        "colab": {
          "base_uri": "https://localhost:8080/",
          "height": 206
        },
        "id": "hyM0wWWcsKBS",
        "outputId": "a214e588-86a0-4d44-cc3d-f27cc4f7dd9d"
      },
      "execution_count": null,
      "outputs": [
        {
          "output_type": "execute_result",
          "data": {
            "text/plain": [
              "   user_id  movie_id  ratings  timestamp\n",
              "0        1      1193        5  978300760\n",
              "1        1       661        3  978302109\n",
              "2        1       914        3  978301968\n",
              "3        1      3408        4  978300275\n",
              "4        1      2355        5  978824291"
            ],
            "text/html": [
              "\n",
              "  <div id=\"df-46fa68e6-9d07-42a1-b96d-e5bc5e1daf40\">\n",
              "    <div class=\"colab-df-container\">\n",
              "      <div>\n",
              "<style scoped>\n",
              "    .dataframe tbody tr th:only-of-type {\n",
              "        vertical-align: middle;\n",
              "    }\n",
              "\n",
              "    .dataframe tbody tr th {\n",
              "        vertical-align: top;\n",
              "    }\n",
              "\n",
              "    .dataframe thead th {\n",
              "        text-align: right;\n",
              "    }\n",
              "</style>\n",
              "<table border=\"1\" class=\"dataframe\">\n",
              "  <thead>\n",
              "    <tr style=\"text-align: right;\">\n",
              "      <th></th>\n",
              "      <th>user_id</th>\n",
              "      <th>movie_id</th>\n",
              "      <th>ratings</th>\n",
              "      <th>timestamp</th>\n",
              "    </tr>\n",
              "  </thead>\n",
              "  <tbody>\n",
              "    <tr>\n",
              "      <th>0</th>\n",
              "      <td>1</td>\n",
              "      <td>1193</td>\n",
              "      <td>5</td>\n",
              "      <td>978300760</td>\n",
              "    </tr>\n",
              "    <tr>\n",
              "      <th>1</th>\n",
              "      <td>1</td>\n",
              "      <td>661</td>\n",
              "      <td>3</td>\n",
              "      <td>978302109</td>\n",
              "    </tr>\n",
              "    <tr>\n",
              "      <th>2</th>\n",
              "      <td>1</td>\n",
              "      <td>914</td>\n",
              "      <td>3</td>\n",
              "      <td>978301968</td>\n",
              "    </tr>\n",
              "    <tr>\n",
              "      <th>3</th>\n",
              "      <td>1</td>\n",
              "      <td>3408</td>\n",
              "      <td>4</td>\n",
              "      <td>978300275</td>\n",
              "    </tr>\n",
              "    <tr>\n",
              "      <th>4</th>\n",
              "      <td>1</td>\n",
              "      <td>2355</td>\n",
              "      <td>5</td>\n",
              "      <td>978824291</td>\n",
              "    </tr>\n",
              "  </tbody>\n",
              "</table>\n",
              "</div>\n",
              "      <button class=\"colab-df-convert\" onclick=\"convertToInteractive('df-46fa68e6-9d07-42a1-b96d-e5bc5e1daf40')\"\n",
              "              title=\"Convert this dataframe to an interactive table.\"\n",
              "              style=\"display:none;\">\n",
              "        \n",
              "  <svg xmlns=\"http://www.w3.org/2000/svg\" height=\"24px\"viewBox=\"0 0 24 24\"\n",
              "       width=\"24px\">\n",
              "    <path d=\"M0 0h24v24H0V0z\" fill=\"none\"/>\n",
              "    <path d=\"M18.56 5.44l.94 2.06.94-2.06 2.06-.94-2.06-.94-.94-2.06-.94 2.06-2.06.94zm-11 1L8.5 8.5l.94-2.06 2.06-.94-2.06-.94L8.5 2.5l-.94 2.06-2.06.94zm10 10l.94 2.06.94-2.06 2.06-.94-2.06-.94-.94-2.06-.94 2.06-2.06.94z\"/><path d=\"M17.41 7.96l-1.37-1.37c-.4-.4-.92-.59-1.43-.59-.52 0-1.04.2-1.43.59L10.3 9.45l-7.72 7.72c-.78.78-.78 2.05 0 2.83L4 21.41c.39.39.9.59 1.41.59.51 0 1.02-.2 1.41-.59l7.78-7.78 2.81-2.81c.8-.78.8-2.07 0-2.86zM5.41 20L4 18.59l7.72-7.72 1.47 1.35L5.41 20z\"/>\n",
              "  </svg>\n",
              "      </button>\n",
              "      \n",
              "  <style>\n",
              "    .colab-df-container {\n",
              "      display:flex;\n",
              "      flex-wrap:wrap;\n",
              "      gap: 12px;\n",
              "    }\n",
              "\n",
              "    .colab-df-convert {\n",
              "      background-color: #E8F0FE;\n",
              "      border: none;\n",
              "      border-radius: 50%;\n",
              "      cursor: pointer;\n",
              "      display: none;\n",
              "      fill: #1967D2;\n",
              "      height: 32px;\n",
              "      padding: 0 0 0 0;\n",
              "      width: 32px;\n",
              "    }\n",
              "\n",
              "    .colab-df-convert:hover {\n",
              "      background-color: #E2EBFA;\n",
              "      box-shadow: 0px 1px 2px rgba(60, 64, 67, 0.3), 0px 1px 3px 1px rgba(60, 64, 67, 0.15);\n",
              "      fill: #174EA6;\n",
              "    }\n",
              "\n",
              "    [theme=dark] .colab-df-convert {\n",
              "      background-color: #3B4455;\n",
              "      fill: #D2E3FC;\n",
              "    }\n",
              "\n",
              "    [theme=dark] .colab-df-convert:hover {\n",
              "      background-color: #434B5C;\n",
              "      box-shadow: 0px 1px 3px 1px rgba(0, 0, 0, 0.15);\n",
              "      filter: drop-shadow(0px 1px 2px rgba(0, 0, 0, 0.3));\n",
              "      fill: #FFFFFF;\n",
              "    }\n",
              "  </style>\n",
              "\n",
              "      <script>\n",
              "        const buttonEl =\n",
              "          document.querySelector('#df-46fa68e6-9d07-42a1-b96d-e5bc5e1daf40 button.colab-df-convert');\n",
              "        buttonEl.style.display =\n",
              "          google.colab.kernel.accessAllowed ? 'block' : 'none';\n",
              "\n",
              "        async function convertToInteractive(key) {\n",
              "          const element = document.querySelector('#df-46fa68e6-9d07-42a1-b96d-e5bc5e1daf40');\n",
              "          const dataTable =\n",
              "            await google.colab.kernel.invokeFunction('convertToInteractive',\n",
              "                                                     [key], {});\n",
              "          if (!dataTable) return;\n",
              "\n",
              "          const docLinkHtml = 'Like what you see? Visit the ' +\n",
              "            '<a target=\"_blank\" href=https://colab.research.google.com/notebooks/data_table.ipynb>data table notebook</a>'\n",
              "            + ' to learn more about interactive tables.';\n",
              "          element.innerHTML = '';\n",
              "          dataTable['output_type'] = 'display_data';\n",
              "          await google.colab.output.renderOutput(dataTable, element);\n",
              "          const docLink = document.createElement('div');\n",
              "          docLink.innerHTML = docLinkHtml;\n",
              "          element.appendChild(docLink);\n",
              "        }\n",
              "      </script>\n",
              "    </div>\n",
              "  </div>\n",
              "  "
            ]
          },
          "metadata": {},
          "execution_count": 9
        }
      ]
    },
    {
      "cell_type": "markdown",
      "source": [
        "유저가 3점 미만으로 준 데이터는 선호하지 않는다고 가정했으므로 3점 이상의 데이터만 남겨줍니다."
      ],
      "metadata": {
        "id": "-f1ar8USJ1e_"
      }
    },
    {
      "cell_type": "code",
      "source": [
        "# 3점 이상만 남깁니다.\n",
        "ratings = ratings[ratings['ratings']>=3]\n",
        "filtered_data_size = len(ratings)\n",
        "\n",
        "print(f'orginal_data_size: {orginal_data_size}, filtered_data_size: {filtered_data_size}')\n",
        "print(f'Ratio of Remaining Data is {filtered_data_size / orginal_data_size:.2%}')"
      ],
      "metadata": {
        "colab": {
          "base_uri": "https://localhost:8080/"
        },
        "id": "UWtpvE2gsNxT",
        "outputId": "c247f9e6-9a97-481f-f7b5-6f139e89270b"
      },
      "execution_count": null,
      "outputs": [
        {
          "output_type": "stream",
          "name": "stdout",
          "text": [
            "orginal_data_size: 1000209, filtered_data_size: 836478\n",
            "Ratio of Remaining Data is 83.63%\n"
          ]
        }
      ]
    },
    {
      "cell_type": "code",
      "source": [
        "# ratings 컬럼의 이름을 counts로 바꿉니다.\n",
        "ratings.rename(columns={'ratings':'counts'}, inplace=True)"
      ],
      "metadata": {
        "id": "r66-mvnpsOyG"
      },
      "execution_count": null,
      "outputs": []
    },
    {
      "cell_type": "code",
      "source": [
        "ratings['counts']"
      ],
      "metadata": {
        "colab": {
          "base_uri": "https://localhost:8080/"
        },
        "id": "pwQ7weymsPlf",
        "outputId": "d305c95d-eca3-4c6b-afb1-c57379dda5c2"
      },
      "execution_count": null,
      "outputs": [
        {
          "output_type": "execute_result",
          "data": {
            "text/plain": [
              "0          5\n",
              "1          3\n",
              "2          3\n",
              "3          4\n",
              "4          5\n",
              "          ..\n",
              "1000203    3\n",
              "1000205    5\n",
              "1000206    5\n",
              "1000207    4\n",
              "1000208    4\n",
              "Name: counts, Length: 836478, dtype: int64"
            ]
          },
          "metadata": {},
          "execution_count": 12
        }
      ]
    },
    {
      "cell_type": "code",
      "source": [
        "# 영화 제목을 보기 위해 메타 데이터를 읽어옵니다.\n",
        "movie_file_path= '/content/drive/MyDrive/dataset/recommendata_iu/data/ml-1m/movies.dat'\n",
        "cols = ['movie_id', 'title', 'genre'] \n",
        "movies = pd.read_csv(movie_file_path, sep='::', names=cols, engine='python', encoding='ISO-8859-1')\n",
        "movies.head()"
      ],
      "metadata": {
        "colab": {
          "base_uri": "https://localhost:8080/",
          "height": 206
        },
        "id": "YsRhXcdQsQNS",
        "outputId": "4f94c7a5-4d7f-49d6-bd61-069a61b28615"
      },
      "execution_count": null,
      "outputs": [
        {
          "output_type": "execute_result",
          "data": {
            "text/plain": [
              "   movie_id                               title                         genre\n",
              "0         1                    Toy Story (1995)   Animation|Children's|Comedy\n",
              "1         2                      Jumanji (1995)  Adventure|Children's|Fantasy\n",
              "2         3             Grumpier Old Men (1995)                Comedy|Romance\n",
              "3         4            Waiting to Exhale (1995)                  Comedy|Drama\n",
              "4         5  Father of the Bride Part II (1995)                        Comedy"
            ],
            "text/html": [
              "\n",
              "  <div id=\"df-d8b36ba6-349c-4a87-933e-200cfa3ecefd\">\n",
              "    <div class=\"colab-df-container\">\n",
              "      <div>\n",
              "<style scoped>\n",
              "    .dataframe tbody tr th:only-of-type {\n",
              "        vertical-align: middle;\n",
              "    }\n",
              "\n",
              "    .dataframe tbody tr th {\n",
              "        vertical-align: top;\n",
              "    }\n",
              "\n",
              "    .dataframe thead th {\n",
              "        text-align: right;\n",
              "    }\n",
              "</style>\n",
              "<table border=\"1\" class=\"dataframe\">\n",
              "  <thead>\n",
              "    <tr style=\"text-align: right;\">\n",
              "      <th></th>\n",
              "      <th>movie_id</th>\n",
              "      <th>title</th>\n",
              "      <th>genre</th>\n",
              "    </tr>\n",
              "  </thead>\n",
              "  <tbody>\n",
              "    <tr>\n",
              "      <th>0</th>\n",
              "      <td>1</td>\n",
              "      <td>Toy Story (1995)</td>\n",
              "      <td>Animation|Children's|Comedy</td>\n",
              "    </tr>\n",
              "    <tr>\n",
              "      <th>1</th>\n",
              "      <td>2</td>\n",
              "      <td>Jumanji (1995)</td>\n",
              "      <td>Adventure|Children's|Fantasy</td>\n",
              "    </tr>\n",
              "    <tr>\n",
              "      <th>2</th>\n",
              "      <td>3</td>\n",
              "      <td>Grumpier Old Men (1995)</td>\n",
              "      <td>Comedy|Romance</td>\n",
              "    </tr>\n",
              "    <tr>\n",
              "      <th>3</th>\n",
              "      <td>4</td>\n",
              "      <td>Waiting to Exhale (1995)</td>\n",
              "      <td>Comedy|Drama</td>\n",
              "    </tr>\n",
              "    <tr>\n",
              "      <th>4</th>\n",
              "      <td>5</td>\n",
              "      <td>Father of the Bride Part II (1995)</td>\n",
              "      <td>Comedy</td>\n",
              "    </tr>\n",
              "  </tbody>\n",
              "</table>\n",
              "</div>\n",
              "      <button class=\"colab-df-convert\" onclick=\"convertToInteractive('df-d8b36ba6-349c-4a87-933e-200cfa3ecefd')\"\n",
              "              title=\"Convert this dataframe to an interactive table.\"\n",
              "              style=\"display:none;\">\n",
              "        \n",
              "  <svg xmlns=\"http://www.w3.org/2000/svg\" height=\"24px\"viewBox=\"0 0 24 24\"\n",
              "       width=\"24px\">\n",
              "    <path d=\"M0 0h24v24H0V0z\" fill=\"none\"/>\n",
              "    <path d=\"M18.56 5.44l.94 2.06.94-2.06 2.06-.94-2.06-.94-.94-2.06-.94 2.06-2.06.94zm-11 1L8.5 8.5l.94-2.06 2.06-.94-2.06-.94L8.5 2.5l-.94 2.06-2.06.94zm10 10l.94 2.06.94-2.06 2.06-.94-2.06-.94-.94-2.06-.94 2.06-2.06.94z\"/><path d=\"M17.41 7.96l-1.37-1.37c-.4-.4-.92-.59-1.43-.59-.52 0-1.04.2-1.43.59L10.3 9.45l-7.72 7.72c-.78.78-.78 2.05 0 2.83L4 21.41c.39.39.9.59 1.41.59.51 0 1.02-.2 1.41-.59l7.78-7.78 2.81-2.81c.8-.78.8-2.07 0-2.86zM5.41 20L4 18.59l7.72-7.72 1.47 1.35L5.41 20z\"/>\n",
              "  </svg>\n",
              "      </button>\n",
              "      \n",
              "  <style>\n",
              "    .colab-df-container {\n",
              "      display:flex;\n",
              "      flex-wrap:wrap;\n",
              "      gap: 12px;\n",
              "    }\n",
              "\n",
              "    .colab-df-convert {\n",
              "      background-color: #E8F0FE;\n",
              "      border: none;\n",
              "      border-radius: 50%;\n",
              "      cursor: pointer;\n",
              "      display: none;\n",
              "      fill: #1967D2;\n",
              "      height: 32px;\n",
              "      padding: 0 0 0 0;\n",
              "      width: 32px;\n",
              "    }\n",
              "\n",
              "    .colab-df-convert:hover {\n",
              "      background-color: #E2EBFA;\n",
              "      box-shadow: 0px 1px 2px rgba(60, 64, 67, 0.3), 0px 1px 3px 1px rgba(60, 64, 67, 0.15);\n",
              "      fill: #174EA6;\n",
              "    }\n",
              "\n",
              "    [theme=dark] .colab-df-convert {\n",
              "      background-color: #3B4455;\n",
              "      fill: #D2E3FC;\n",
              "    }\n",
              "\n",
              "    [theme=dark] .colab-df-convert:hover {\n",
              "      background-color: #434B5C;\n",
              "      box-shadow: 0px 1px 3px 1px rgba(0, 0, 0, 0.15);\n",
              "      filter: drop-shadow(0px 1px 2px rgba(0, 0, 0, 0.3));\n",
              "      fill: #FFFFFF;\n",
              "    }\n",
              "  </style>\n",
              "\n",
              "      <script>\n",
              "        const buttonEl =\n",
              "          document.querySelector('#df-d8b36ba6-349c-4a87-933e-200cfa3ecefd button.colab-df-convert');\n",
              "        buttonEl.style.display =\n",
              "          google.colab.kernel.accessAllowed ? 'block' : 'none';\n",
              "\n",
              "        async function convertToInteractive(key) {\n",
              "          const element = document.querySelector('#df-d8b36ba6-349c-4a87-933e-200cfa3ecefd');\n",
              "          const dataTable =\n",
              "            await google.colab.kernel.invokeFunction('convertToInteractive',\n",
              "                                                     [key], {});\n",
              "          if (!dataTable) return;\n",
              "\n",
              "          const docLinkHtml = 'Like what you see? Visit the ' +\n",
              "            '<a target=\"_blank\" href=https://colab.research.google.com/notebooks/data_table.ipynb>data table notebook</a>'\n",
              "            + ' to learn more about interactive tables.';\n",
              "          element.innerHTML = '';\n",
              "          dataTable['output_type'] = 'display_data';\n",
              "          await google.colab.output.renderOutput(dataTable, element);\n",
              "          const docLink = document.createElement('div');\n",
              "          docLink.innerHTML = docLinkHtml;\n",
              "          element.appendChild(docLink);\n",
              "        }\n",
              "      </script>\n",
              "    </div>\n",
              "  </div>\n",
              "  "
            ]
          },
          "metadata": {},
          "execution_count": 13
        }
      ]
    },
    {
      "cell_type": "markdown",
      "source": [
        "movie_id가 어떤 영화를 나타내는 지 알 수 있습니다. "
      ],
      "metadata": {
        "id": "DeT8etywNMnP"
      }
    },
    {
      "cell_type": "markdown",
      "source": [
        "여기까지가 전처리입니다. 이후에는 이전 스텝에 소개했던 것과 동일한 방식으로 MF model을 구성하여 내가 좋아할 만한 영화를 추천해 볼 수 있습니다."
      ],
      "metadata": {
        "id": "a81A5FKTsNR0"
      }
    },
    {
      "cell_type": "code",
      "source": [
        "movies['title'] = movies['title'].str.lower() # 검색을 쉽게 하기 위해 아티스트 문자열을 소문자로 바꿔줍시다.\n",
        "movies['genre'] = movies['genre'].str.lower()\n",
        "\n",
        "# genre 전처리 추가하기\n",
        "movies.head(10)"
      ],
      "metadata": {
        "id": "0ga5t_uQsSZY",
        "colab": {
          "base_uri": "https://localhost:8080/",
          "height": 363
        },
        "outputId": "6a4fba8c-d4ad-4738-dd8e-858ad458e716"
      },
      "execution_count": null,
      "outputs": [
        {
          "output_type": "execute_result",
          "data": {
            "text/plain": [
              "   movie_id                               title                         genre\n",
              "0         1                    toy story (1995)   animation|children's|comedy\n",
              "1         2                      jumanji (1995)  adventure|children's|fantasy\n",
              "2         3             grumpier old men (1995)                comedy|romance\n",
              "3         4            waiting to exhale (1995)                  comedy|drama\n",
              "4         5  father of the bride part ii (1995)                        comedy\n",
              "5         6                         heat (1995)         action|crime|thriller\n",
              "6         7                      sabrina (1995)                comedy|romance\n",
              "7         8                 tom and huck (1995)          adventure|children's\n",
              "8         9                 sudden death (1995)                        action\n",
              "9        10                    goldeneye (1995)     action|adventure|thriller"
            ],
            "text/html": [
              "\n",
              "  <div id=\"df-968211a9-6cf6-4c92-ba28-81a6b974882f\">\n",
              "    <div class=\"colab-df-container\">\n",
              "      <div>\n",
              "<style scoped>\n",
              "    .dataframe tbody tr th:only-of-type {\n",
              "        vertical-align: middle;\n",
              "    }\n",
              "\n",
              "    .dataframe tbody tr th {\n",
              "        vertical-align: top;\n",
              "    }\n",
              "\n",
              "    .dataframe thead th {\n",
              "        text-align: right;\n",
              "    }\n",
              "</style>\n",
              "<table border=\"1\" class=\"dataframe\">\n",
              "  <thead>\n",
              "    <tr style=\"text-align: right;\">\n",
              "      <th></th>\n",
              "      <th>movie_id</th>\n",
              "      <th>title</th>\n",
              "      <th>genre</th>\n",
              "    </tr>\n",
              "  </thead>\n",
              "  <tbody>\n",
              "    <tr>\n",
              "      <th>0</th>\n",
              "      <td>1</td>\n",
              "      <td>toy story (1995)</td>\n",
              "      <td>animation|children's|comedy</td>\n",
              "    </tr>\n",
              "    <tr>\n",
              "      <th>1</th>\n",
              "      <td>2</td>\n",
              "      <td>jumanji (1995)</td>\n",
              "      <td>adventure|children's|fantasy</td>\n",
              "    </tr>\n",
              "    <tr>\n",
              "      <th>2</th>\n",
              "      <td>3</td>\n",
              "      <td>grumpier old men (1995)</td>\n",
              "      <td>comedy|romance</td>\n",
              "    </tr>\n",
              "    <tr>\n",
              "      <th>3</th>\n",
              "      <td>4</td>\n",
              "      <td>waiting to exhale (1995)</td>\n",
              "      <td>comedy|drama</td>\n",
              "    </tr>\n",
              "    <tr>\n",
              "      <th>4</th>\n",
              "      <td>5</td>\n",
              "      <td>father of the bride part ii (1995)</td>\n",
              "      <td>comedy</td>\n",
              "    </tr>\n",
              "    <tr>\n",
              "      <th>5</th>\n",
              "      <td>6</td>\n",
              "      <td>heat (1995)</td>\n",
              "      <td>action|crime|thriller</td>\n",
              "    </tr>\n",
              "    <tr>\n",
              "      <th>6</th>\n",
              "      <td>7</td>\n",
              "      <td>sabrina (1995)</td>\n",
              "      <td>comedy|romance</td>\n",
              "    </tr>\n",
              "    <tr>\n",
              "      <th>7</th>\n",
              "      <td>8</td>\n",
              "      <td>tom and huck (1995)</td>\n",
              "      <td>adventure|children's</td>\n",
              "    </tr>\n",
              "    <tr>\n",
              "      <th>8</th>\n",
              "      <td>9</td>\n",
              "      <td>sudden death (1995)</td>\n",
              "      <td>action</td>\n",
              "    </tr>\n",
              "    <tr>\n",
              "      <th>9</th>\n",
              "      <td>10</td>\n",
              "      <td>goldeneye (1995)</td>\n",
              "      <td>action|adventure|thriller</td>\n",
              "    </tr>\n",
              "  </tbody>\n",
              "</table>\n",
              "</div>\n",
              "      <button class=\"colab-df-convert\" onclick=\"convertToInteractive('df-968211a9-6cf6-4c92-ba28-81a6b974882f')\"\n",
              "              title=\"Convert this dataframe to an interactive table.\"\n",
              "              style=\"display:none;\">\n",
              "        \n",
              "  <svg xmlns=\"http://www.w3.org/2000/svg\" height=\"24px\"viewBox=\"0 0 24 24\"\n",
              "       width=\"24px\">\n",
              "    <path d=\"M0 0h24v24H0V0z\" fill=\"none\"/>\n",
              "    <path d=\"M18.56 5.44l.94 2.06.94-2.06 2.06-.94-2.06-.94-.94-2.06-.94 2.06-2.06.94zm-11 1L8.5 8.5l.94-2.06 2.06-.94-2.06-.94L8.5 2.5l-.94 2.06-2.06.94zm10 10l.94 2.06.94-2.06 2.06-.94-2.06-.94-.94-2.06-.94 2.06-2.06.94z\"/><path d=\"M17.41 7.96l-1.37-1.37c-.4-.4-.92-.59-1.43-.59-.52 0-1.04.2-1.43.59L10.3 9.45l-7.72 7.72c-.78.78-.78 2.05 0 2.83L4 21.41c.39.39.9.59 1.41.59.51 0 1.02-.2 1.41-.59l7.78-7.78 2.81-2.81c.8-.78.8-2.07 0-2.86zM5.41 20L4 18.59l7.72-7.72 1.47 1.35L5.41 20z\"/>\n",
              "  </svg>\n",
              "      </button>\n",
              "      \n",
              "  <style>\n",
              "    .colab-df-container {\n",
              "      display:flex;\n",
              "      flex-wrap:wrap;\n",
              "      gap: 12px;\n",
              "    }\n",
              "\n",
              "    .colab-df-convert {\n",
              "      background-color: #E8F0FE;\n",
              "      border: none;\n",
              "      border-radius: 50%;\n",
              "      cursor: pointer;\n",
              "      display: none;\n",
              "      fill: #1967D2;\n",
              "      height: 32px;\n",
              "      padding: 0 0 0 0;\n",
              "      width: 32px;\n",
              "    }\n",
              "\n",
              "    .colab-df-convert:hover {\n",
              "      background-color: #E2EBFA;\n",
              "      box-shadow: 0px 1px 2px rgba(60, 64, 67, 0.3), 0px 1px 3px 1px rgba(60, 64, 67, 0.15);\n",
              "      fill: #174EA6;\n",
              "    }\n",
              "\n",
              "    [theme=dark] .colab-df-convert {\n",
              "      background-color: #3B4455;\n",
              "      fill: #D2E3FC;\n",
              "    }\n",
              "\n",
              "    [theme=dark] .colab-df-convert:hover {\n",
              "      background-color: #434B5C;\n",
              "      box-shadow: 0px 1px 3px 1px rgba(0, 0, 0, 0.15);\n",
              "      filter: drop-shadow(0px 1px 2px rgba(0, 0, 0, 0.3));\n",
              "      fill: #FFFFFF;\n",
              "    }\n",
              "  </style>\n",
              "\n",
              "      <script>\n",
              "        const buttonEl =\n",
              "          document.querySelector('#df-968211a9-6cf6-4c92-ba28-81a6b974882f button.colab-df-convert');\n",
              "        buttonEl.style.display =\n",
              "          google.colab.kernel.accessAllowed ? 'block' : 'none';\n",
              "\n",
              "        async function convertToInteractive(key) {\n",
              "          const element = document.querySelector('#df-968211a9-6cf6-4c92-ba28-81a6b974882f');\n",
              "          const dataTable =\n",
              "            await google.colab.kernel.invokeFunction('convertToInteractive',\n",
              "                                                     [key], {});\n",
              "          if (!dataTable) return;\n",
              "\n",
              "          const docLinkHtml = 'Like what you see? Visit the ' +\n",
              "            '<a target=\"_blank\" href=https://colab.research.google.com/notebooks/data_table.ipynb>data table notebook</a>'\n",
              "            + ' to learn more about interactive tables.';\n",
              "          element.innerHTML = '';\n",
              "          dataTable['output_type'] = 'display_data';\n",
              "          await google.colab.output.renderOutput(dataTable, element);\n",
              "          const docLink = document.createElement('div');\n",
              "          docLink.innerHTML = docLinkHtml;\n",
              "          element.appendChild(docLink);\n",
              "        }\n",
              "      </script>\n",
              "    </div>\n",
              "  </div>\n",
              "  "
            ]
          },
          "metadata": {},
          "execution_count": 14
        }
      ]
    },
    {
      "cell_type": "code",
      "source": [
        "df = pd.merge(movies, ratings, on='movie_id')\n",
        "df"
      ],
      "metadata": {
        "colab": {
          "base_uri": "https://localhost:8080/",
          "height": 424
        },
        "id": "s_BW4Nmr95bP",
        "outputId": "f6167355-158f-4d0d-c3a5-ceb13ac7dc95"
      },
      "execution_count": null,
      "outputs": [
        {
          "output_type": "execute_result",
          "data": {
            "text/plain": [
              "        movie_id                  title                        genre  user_id  \\\n",
              "0              1       toy story (1995)  animation|children's|comedy        1   \n",
              "1              1       toy story (1995)  animation|children's|comedy        6   \n",
              "2              1       toy story (1995)  animation|children's|comedy        8   \n",
              "3              1       toy story (1995)  animation|children's|comedy        9   \n",
              "4              1       toy story (1995)  animation|children's|comedy       10   \n",
              "...          ...                    ...                          ...      ...   \n",
              "836473      3952  contender, the (2000)               drama|thriller     5682   \n",
              "836474      3952  contender, the (2000)               drama|thriller     5812   \n",
              "836475      3952  contender, the (2000)               drama|thriller     5831   \n",
              "836476      3952  contender, the (2000)               drama|thriller     5837   \n",
              "836477      3952  contender, the (2000)               drama|thriller     5998   \n",
              "\n",
              "        counts   timestamp  \n",
              "0            5   978824268  \n",
              "1            4   978237008  \n",
              "2            4   978233496  \n",
              "3            5   978225952  \n",
              "4            5   978226474  \n",
              "...        ...         ...  \n",
              "836473       3  1029457829  \n",
              "836474       4   992072099  \n",
              "836475       3   986223125  \n",
              "836476       4  1011902656  \n",
              "836477       4  1001781044  \n",
              "\n",
              "[836478 rows x 6 columns]"
            ],
            "text/html": [
              "\n",
              "  <div id=\"df-8a67ed48-7ad3-4117-ba27-49077632dde8\">\n",
              "    <div class=\"colab-df-container\">\n",
              "      <div>\n",
              "<style scoped>\n",
              "    .dataframe tbody tr th:only-of-type {\n",
              "        vertical-align: middle;\n",
              "    }\n",
              "\n",
              "    .dataframe tbody tr th {\n",
              "        vertical-align: top;\n",
              "    }\n",
              "\n",
              "    .dataframe thead th {\n",
              "        text-align: right;\n",
              "    }\n",
              "</style>\n",
              "<table border=\"1\" class=\"dataframe\">\n",
              "  <thead>\n",
              "    <tr style=\"text-align: right;\">\n",
              "      <th></th>\n",
              "      <th>movie_id</th>\n",
              "      <th>title</th>\n",
              "      <th>genre</th>\n",
              "      <th>user_id</th>\n",
              "      <th>counts</th>\n",
              "      <th>timestamp</th>\n",
              "    </tr>\n",
              "  </thead>\n",
              "  <tbody>\n",
              "    <tr>\n",
              "      <th>0</th>\n",
              "      <td>1</td>\n",
              "      <td>toy story (1995)</td>\n",
              "      <td>animation|children's|comedy</td>\n",
              "      <td>1</td>\n",
              "      <td>5</td>\n",
              "      <td>978824268</td>\n",
              "    </tr>\n",
              "    <tr>\n",
              "      <th>1</th>\n",
              "      <td>1</td>\n",
              "      <td>toy story (1995)</td>\n",
              "      <td>animation|children's|comedy</td>\n",
              "      <td>6</td>\n",
              "      <td>4</td>\n",
              "      <td>978237008</td>\n",
              "    </tr>\n",
              "    <tr>\n",
              "      <th>2</th>\n",
              "      <td>1</td>\n",
              "      <td>toy story (1995)</td>\n",
              "      <td>animation|children's|comedy</td>\n",
              "      <td>8</td>\n",
              "      <td>4</td>\n",
              "      <td>978233496</td>\n",
              "    </tr>\n",
              "    <tr>\n",
              "      <th>3</th>\n",
              "      <td>1</td>\n",
              "      <td>toy story (1995)</td>\n",
              "      <td>animation|children's|comedy</td>\n",
              "      <td>9</td>\n",
              "      <td>5</td>\n",
              "      <td>978225952</td>\n",
              "    </tr>\n",
              "    <tr>\n",
              "      <th>4</th>\n",
              "      <td>1</td>\n",
              "      <td>toy story (1995)</td>\n",
              "      <td>animation|children's|comedy</td>\n",
              "      <td>10</td>\n",
              "      <td>5</td>\n",
              "      <td>978226474</td>\n",
              "    </tr>\n",
              "    <tr>\n",
              "      <th>...</th>\n",
              "      <td>...</td>\n",
              "      <td>...</td>\n",
              "      <td>...</td>\n",
              "      <td>...</td>\n",
              "      <td>...</td>\n",
              "      <td>...</td>\n",
              "    </tr>\n",
              "    <tr>\n",
              "      <th>836473</th>\n",
              "      <td>3952</td>\n",
              "      <td>contender, the (2000)</td>\n",
              "      <td>drama|thriller</td>\n",
              "      <td>5682</td>\n",
              "      <td>3</td>\n",
              "      <td>1029457829</td>\n",
              "    </tr>\n",
              "    <tr>\n",
              "      <th>836474</th>\n",
              "      <td>3952</td>\n",
              "      <td>contender, the (2000)</td>\n",
              "      <td>drama|thriller</td>\n",
              "      <td>5812</td>\n",
              "      <td>4</td>\n",
              "      <td>992072099</td>\n",
              "    </tr>\n",
              "    <tr>\n",
              "      <th>836475</th>\n",
              "      <td>3952</td>\n",
              "      <td>contender, the (2000)</td>\n",
              "      <td>drama|thriller</td>\n",
              "      <td>5831</td>\n",
              "      <td>3</td>\n",
              "      <td>986223125</td>\n",
              "    </tr>\n",
              "    <tr>\n",
              "      <th>836476</th>\n",
              "      <td>3952</td>\n",
              "      <td>contender, the (2000)</td>\n",
              "      <td>drama|thriller</td>\n",
              "      <td>5837</td>\n",
              "      <td>4</td>\n",
              "      <td>1011902656</td>\n",
              "    </tr>\n",
              "    <tr>\n",
              "      <th>836477</th>\n",
              "      <td>3952</td>\n",
              "      <td>contender, the (2000)</td>\n",
              "      <td>drama|thriller</td>\n",
              "      <td>5998</td>\n",
              "      <td>4</td>\n",
              "      <td>1001781044</td>\n",
              "    </tr>\n",
              "  </tbody>\n",
              "</table>\n",
              "<p>836478 rows × 6 columns</p>\n",
              "</div>\n",
              "      <button class=\"colab-df-convert\" onclick=\"convertToInteractive('df-8a67ed48-7ad3-4117-ba27-49077632dde8')\"\n",
              "              title=\"Convert this dataframe to an interactive table.\"\n",
              "              style=\"display:none;\">\n",
              "        \n",
              "  <svg xmlns=\"http://www.w3.org/2000/svg\" height=\"24px\"viewBox=\"0 0 24 24\"\n",
              "       width=\"24px\">\n",
              "    <path d=\"M0 0h24v24H0V0z\" fill=\"none\"/>\n",
              "    <path d=\"M18.56 5.44l.94 2.06.94-2.06 2.06-.94-2.06-.94-.94-2.06-.94 2.06-2.06.94zm-11 1L8.5 8.5l.94-2.06 2.06-.94-2.06-.94L8.5 2.5l-.94 2.06-2.06.94zm10 10l.94 2.06.94-2.06 2.06-.94-2.06-.94-.94-2.06-.94 2.06-2.06.94z\"/><path d=\"M17.41 7.96l-1.37-1.37c-.4-.4-.92-.59-1.43-.59-.52 0-1.04.2-1.43.59L10.3 9.45l-7.72 7.72c-.78.78-.78 2.05 0 2.83L4 21.41c.39.39.9.59 1.41.59.51 0 1.02-.2 1.41-.59l7.78-7.78 2.81-2.81c.8-.78.8-2.07 0-2.86zM5.41 20L4 18.59l7.72-7.72 1.47 1.35L5.41 20z\"/>\n",
              "  </svg>\n",
              "      </button>\n",
              "      \n",
              "  <style>\n",
              "    .colab-df-container {\n",
              "      display:flex;\n",
              "      flex-wrap:wrap;\n",
              "      gap: 12px;\n",
              "    }\n",
              "\n",
              "    .colab-df-convert {\n",
              "      background-color: #E8F0FE;\n",
              "      border: none;\n",
              "      border-radius: 50%;\n",
              "      cursor: pointer;\n",
              "      display: none;\n",
              "      fill: #1967D2;\n",
              "      height: 32px;\n",
              "      padding: 0 0 0 0;\n",
              "      width: 32px;\n",
              "    }\n",
              "\n",
              "    .colab-df-convert:hover {\n",
              "      background-color: #E2EBFA;\n",
              "      box-shadow: 0px 1px 2px rgba(60, 64, 67, 0.3), 0px 1px 3px 1px rgba(60, 64, 67, 0.15);\n",
              "      fill: #174EA6;\n",
              "    }\n",
              "\n",
              "    [theme=dark] .colab-df-convert {\n",
              "      background-color: #3B4455;\n",
              "      fill: #D2E3FC;\n",
              "    }\n",
              "\n",
              "    [theme=dark] .colab-df-convert:hover {\n",
              "      background-color: #434B5C;\n",
              "      box-shadow: 0px 1px 3px 1px rgba(0, 0, 0, 0.15);\n",
              "      filter: drop-shadow(0px 1px 2px rgba(0, 0, 0, 0.3));\n",
              "      fill: #FFFFFF;\n",
              "    }\n",
              "  </style>\n",
              "\n",
              "      <script>\n",
              "        const buttonEl =\n",
              "          document.querySelector('#df-8a67ed48-7ad3-4117-ba27-49077632dde8 button.colab-df-convert');\n",
              "        buttonEl.style.display =\n",
              "          google.colab.kernel.accessAllowed ? 'block' : 'none';\n",
              "\n",
              "        async function convertToInteractive(key) {\n",
              "          const element = document.querySelector('#df-8a67ed48-7ad3-4117-ba27-49077632dde8');\n",
              "          const dataTable =\n",
              "            await google.colab.kernel.invokeFunction('convertToInteractive',\n",
              "                                                     [key], {});\n",
              "          if (!dataTable) return;\n",
              "\n",
              "          const docLinkHtml = 'Like what you see? Visit the ' +\n",
              "            '<a target=\"_blank\" href=https://colab.research.google.com/notebooks/data_table.ipynb>data table notebook</a>'\n",
              "            + ' to learn more about interactive tables.';\n",
              "          element.innerHTML = '';\n",
              "          dataTable['output_type'] = 'display_data';\n",
              "          await google.colab.output.renderOutput(dataTable, element);\n",
              "          const docLink = document.createElement('div');\n",
              "          docLink.innerHTML = docLinkHtml;\n",
              "          element.appendChild(docLink);\n",
              "        }\n",
              "      </script>\n",
              "    </div>\n",
              "  </div>\n",
              "  "
            ]
          },
          "metadata": {},
          "execution_count": 15
        }
      ]
    },
    {
      "cell_type": "code",
      "source": [
        "using_cols = ['user_id', 'title', 'counts']\n",
        "df = df[using_cols]\n",
        "df.head(10)"
      ],
      "metadata": {
        "colab": {
          "base_uri": "https://localhost:8080/",
          "height": 363
        },
        "id": "AvPWpcBL-Sua",
        "outputId": "8726b086-20cc-4b57-8b77-15d303871861"
      },
      "execution_count": null,
      "outputs": [
        {
          "output_type": "execute_result",
          "data": {
            "text/plain": [
              "   user_id             title  counts\n",
              "0        1  toy story (1995)       5\n",
              "1        6  toy story (1995)       4\n",
              "2        8  toy story (1995)       4\n",
              "3        9  toy story (1995)       5\n",
              "4       10  toy story (1995)       5\n",
              "5       18  toy story (1995)       4\n",
              "6       19  toy story (1995)       5\n",
              "7       21  toy story (1995)       3\n",
              "8       23  toy story (1995)       4\n",
              "9       26  toy story (1995)       3"
            ],
            "text/html": [
              "\n",
              "  <div id=\"df-4e2bb7f7-0410-4429-b4d1-23bbc196facd\">\n",
              "    <div class=\"colab-df-container\">\n",
              "      <div>\n",
              "<style scoped>\n",
              "    .dataframe tbody tr th:only-of-type {\n",
              "        vertical-align: middle;\n",
              "    }\n",
              "\n",
              "    .dataframe tbody tr th {\n",
              "        vertical-align: top;\n",
              "    }\n",
              "\n",
              "    .dataframe thead th {\n",
              "        text-align: right;\n",
              "    }\n",
              "</style>\n",
              "<table border=\"1\" class=\"dataframe\">\n",
              "  <thead>\n",
              "    <tr style=\"text-align: right;\">\n",
              "      <th></th>\n",
              "      <th>user_id</th>\n",
              "      <th>title</th>\n",
              "      <th>counts</th>\n",
              "    </tr>\n",
              "  </thead>\n",
              "  <tbody>\n",
              "    <tr>\n",
              "      <th>0</th>\n",
              "      <td>1</td>\n",
              "      <td>toy story (1995)</td>\n",
              "      <td>5</td>\n",
              "    </tr>\n",
              "    <tr>\n",
              "      <th>1</th>\n",
              "      <td>6</td>\n",
              "      <td>toy story (1995)</td>\n",
              "      <td>4</td>\n",
              "    </tr>\n",
              "    <tr>\n",
              "      <th>2</th>\n",
              "      <td>8</td>\n",
              "      <td>toy story (1995)</td>\n",
              "      <td>4</td>\n",
              "    </tr>\n",
              "    <tr>\n",
              "      <th>3</th>\n",
              "      <td>9</td>\n",
              "      <td>toy story (1995)</td>\n",
              "      <td>5</td>\n",
              "    </tr>\n",
              "    <tr>\n",
              "      <th>4</th>\n",
              "      <td>10</td>\n",
              "      <td>toy story (1995)</td>\n",
              "      <td>5</td>\n",
              "    </tr>\n",
              "    <tr>\n",
              "      <th>5</th>\n",
              "      <td>18</td>\n",
              "      <td>toy story (1995)</td>\n",
              "      <td>4</td>\n",
              "    </tr>\n",
              "    <tr>\n",
              "      <th>6</th>\n",
              "      <td>19</td>\n",
              "      <td>toy story (1995)</td>\n",
              "      <td>5</td>\n",
              "    </tr>\n",
              "    <tr>\n",
              "      <th>7</th>\n",
              "      <td>21</td>\n",
              "      <td>toy story (1995)</td>\n",
              "      <td>3</td>\n",
              "    </tr>\n",
              "    <tr>\n",
              "      <th>8</th>\n",
              "      <td>23</td>\n",
              "      <td>toy story (1995)</td>\n",
              "      <td>4</td>\n",
              "    </tr>\n",
              "    <tr>\n",
              "      <th>9</th>\n",
              "      <td>26</td>\n",
              "      <td>toy story (1995)</td>\n",
              "      <td>3</td>\n",
              "    </tr>\n",
              "  </tbody>\n",
              "</table>\n",
              "</div>\n",
              "      <button class=\"colab-df-convert\" onclick=\"convertToInteractive('df-4e2bb7f7-0410-4429-b4d1-23bbc196facd')\"\n",
              "              title=\"Convert this dataframe to an interactive table.\"\n",
              "              style=\"display:none;\">\n",
              "        \n",
              "  <svg xmlns=\"http://www.w3.org/2000/svg\" height=\"24px\"viewBox=\"0 0 24 24\"\n",
              "       width=\"24px\">\n",
              "    <path d=\"M0 0h24v24H0V0z\" fill=\"none\"/>\n",
              "    <path d=\"M18.56 5.44l.94 2.06.94-2.06 2.06-.94-2.06-.94-.94-2.06-.94 2.06-2.06.94zm-11 1L8.5 8.5l.94-2.06 2.06-.94-2.06-.94L8.5 2.5l-.94 2.06-2.06.94zm10 10l.94 2.06.94-2.06 2.06-.94-2.06-.94-.94-2.06-.94 2.06-2.06.94z\"/><path d=\"M17.41 7.96l-1.37-1.37c-.4-.4-.92-.59-1.43-.59-.52 0-1.04.2-1.43.59L10.3 9.45l-7.72 7.72c-.78.78-.78 2.05 0 2.83L4 21.41c.39.39.9.59 1.41.59.51 0 1.02-.2 1.41-.59l7.78-7.78 2.81-2.81c.8-.78.8-2.07 0-2.86zM5.41 20L4 18.59l7.72-7.72 1.47 1.35L5.41 20z\"/>\n",
              "  </svg>\n",
              "      </button>\n",
              "      \n",
              "  <style>\n",
              "    .colab-df-container {\n",
              "      display:flex;\n",
              "      flex-wrap:wrap;\n",
              "      gap: 12px;\n",
              "    }\n",
              "\n",
              "    .colab-df-convert {\n",
              "      background-color: #E8F0FE;\n",
              "      border: none;\n",
              "      border-radius: 50%;\n",
              "      cursor: pointer;\n",
              "      display: none;\n",
              "      fill: #1967D2;\n",
              "      height: 32px;\n",
              "      padding: 0 0 0 0;\n",
              "      width: 32px;\n",
              "    }\n",
              "\n",
              "    .colab-df-convert:hover {\n",
              "      background-color: #E2EBFA;\n",
              "      box-shadow: 0px 1px 2px rgba(60, 64, 67, 0.3), 0px 1px 3px 1px rgba(60, 64, 67, 0.15);\n",
              "      fill: #174EA6;\n",
              "    }\n",
              "\n",
              "    [theme=dark] .colab-df-convert {\n",
              "      background-color: #3B4455;\n",
              "      fill: #D2E3FC;\n",
              "    }\n",
              "\n",
              "    [theme=dark] .colab-df-convert:hover {\n",
              "      background-color: #434B5C;\n",
              "      box-shadow: 0px 1px 3px 1px rgba(0, 0, 0, 0.15);\n",
              "      filter: drop-shadow(0px 1px 2px rgba(0, 0, 0, 0.3));\n",
              "      fill: #FFFFFF;\n",
              "    }\n",
              "  </style>\n",
              "\n",
              "      <script>\n",
              "        const buttonEl =\n",
              "          document.querySelector('#df-4e2bb7f7-0410-4429-b4d1-23bbc196facd button.colab-df-convert');\n",
              "        buttonEl.style.display =\n",
              "          google.colab.kernel.accessAllowed ? 'block' : 'none';\n",
              "\n",
              "        async function convertToInteractive(key) {\n",
              "          const element = document.querySelector('#df-4e2bb7f7-0410-4429-b4d1-23bbc196facd');\n",
              "          const dataTable =\n",
              "            await google.colab.kernel.invokeFunction('convertToInteractive',\n",
              "                                                     [key], {});\n",
              "          if (!dataTable) return;\n",
              "\n",
              "          const docLinkHtml = 'Like what you see? Visit the ' +\n",
              "            '<a target=\"_blank\" href=https://colab.research.google.com/notebooks/data_table.ipynb>data table notebook</a>'\n",
              "            + ' to learn more about interactive tables.';\n",
              "          element.innerHTML = '';\n",
              "          dataTable['output_type'] = 'display_data';\n",
              "          await google.colab.output.renderOutput(dataTable, element);\n",
              "          const docLink = document.createElement('div');\n",
              "          docLink.innerHTML = docLinkHtml;\n",
              "          element.appendChild(docLink);\n",
              "        }\n",
              "      </script>\n",
              "    </div>\n",
              "  </div>\n",
              "  "
            ]
          },
          "metadata": {},
          "execution_count": 16
        }
      ]
    },
    {
      "cell_type": "markdown",
      "source": [
        "## **2) 분석해 봅시다.**\n",
        "* ratings에 있는 유니크한 영화 개수\n",
        "* ratings에 있는 유니크한 사용자 수\n",
        "* 가장 인기 있는 영화 30개(인기순)"
      ],
      "metadata": {
        "id": "9gHBZy08sUQh"
      }
    },
    {
      "cell_type": "markdown",
      "source": [
        "일단 첫번째 유저가 어떻게 평점을 줬는지 한번 보겠습니다."
      ],
      "metadata": {
        "id": "eJI_r_8aKvm7"
      }
    },
    {
      "cell_type": "code",
      "source": [
        "condition = (df['user_id']== ratings.loc[0, 'user_id'])\n",
        "df.loc[condition]\n"
      ],
      "metadata": {
        "colab": {
          "base_uri": "https://localhost:8080/",
          "height": 1000
        },
        "id": "qLHPxutdKY1e",
        "outputId": "15dd4a87-dcc6-42ea-c1da-49d369304f20"
      },
      "execution_count": null,
      "outputs": [
        {
          "output_type": "execute_result",
          "data": {
            "text/plain": [
              "        user_id                                              title  counts\n",
              "0             1                                   toy story (1995)       5\n",
              "19773         1                                  pocahontas (1995)       5\n",
              "35123         1                                   apollo 13 (1995)       5\n",
              "54895         1          star wars: episode iv - a new hope (1977)       4\n",
              "116019        1                            schindler's list (1993)       5\n",
              "119008        1                          secret garden, the (1993)       4\n",
              "130190        1                                     aladdin (1992)       4\n",
              "138999        1             snow white and the seven dwarfs (1937)       4\n",
              "139706        1                        beauty and the beast (1991)       5\n",
              "142605        1                                       fargo (1996)       4\n",
              "149342        1                   james and the giant peach (1996)       3\n",
              "153599        1  wallace & gromit: the best of aardman animatio...       3\n",
              "157311        1                              close shave, a (1995)       3\n",
              "162564        1                hunchback of notre dame, the (1996)       4\n",
              "184379        1                                my fair lady (1964)       3\n",
              "185984        1                           wizard of oz, the (1939)       4\n",
              "194770        1                                        gigi (1958)       4\n",
              "206730        1                                  cinderella (1950)       5\n",
              "208099        1                                mary poppins (1964)       5\n",
              "209016        1                                       dumbo (1941)       5\n",
              "210912        1                         sound of music, the (1965)       5\n",
              "230314        1                  e.t. the extra-terrestrial (1982)       4\n",
              "248714        1             one flew over the cuckoo's nest (1975)       5\n",
              "253451        1                         princess bride, the (1987)       3\n",
              "264249        1                       to kill a mockingbird (1962)       4\n",
              "293292        1                          dead poets society (1989)       4\n",
              "310685        1                          back to the future (1985)       5\n",
              "321302        1                                     ben-hur (1959)       5\n",
              "376764        1                                     ponette (1996)       4\n",
              "378252        1                                    hercules (1997)       4\n",
              "413443        1                                     titanic (1997)       4\n",
              "427854        1                     last days of disco, the (1998)       5\n",
              "433771        1                                       mulan (1998)       4\n",
              "450533        1                                    rain man (1988)       5\n",
              "451817        1                          driving miss daisy (1989)       4\n",
              "468578        1                                       bambi (1942)       4\n",
              "472333        1                         saving private ryan (1998)       5\n",
              "525392        1                                        antz (1998)       4\n",
              "530676        1                               pleasantville (1998)       3\n",
              "536358        1                              meet joe black (1998)       3\n",
              "539498        1                               bug's life, a (1998)       5\n",
              "552697        1                      miracle on 34th street (1947)       4\n",
              "604667        1                                      tarzan (1999)       3\n",
              "605985        1                   run lola run (lola rennt) (1998)       4\n",
              "624733        1                            sixth sense, the (1999)       4\n",
              "630899        1                                   airplane! (1980)       4\n",
              "633946        1                                         big (1988)       4\n",
              "635999        1                          christmas story, a (1983)       5\n",
              "656320        1                    ferris bueller's day off (1986)       4\n",
              "698979        1                                  awakenings (1990)       5\n",
              "701857        1                                 toy story 2 (1999)       4\n",
              "716464        1                           girl, interrupted (1999)       4\n",
              "748880        1                             erin brockovich (2000)       4"
            ],
            "text/html": [
              "\n",
              "  <div id=\"df-9173256f-b783-44bc-bd9d-e540b5648712\">\n",
              "    <div class=\"colab-df-container\">\n",
              "      <div>\n",
              "<style scoped>\n",
              "    .dataframe tbody tr th:only-of-type {\n",
              "        vertical-align: middle;\n",
              "    }\n",
              "\n",
              "    .dataframe tbody tr th {\n",
              "        vertical-align: top;\n",
              "    }\n",
              "\n",
              "    .dataframe thead th {\n",
              "        text-align: right;\n",
              "    }\n",
              "</style>\n",
              "<table border=\"1\" class=\"dataframe\">\n",
              "  <thead>\n",
              "    <tr style=\"text-align: right;\">\n",
              "      <th></th>\n",
              "      <th>user_id</th>\n",
              "      <th>title</th>\n",
              "      <th>counts</th>\n",
              "    </tr>\n",
              "  </thead>\n",
              "  <tbody>\n",
              "    <tr>\n",
              "      <th>0</th>\n",
              "      <td>1</td>\n",
              "      <td>toy story (1995)</td>\n",
              "      <td>5</td>\n",
              "    </tr>\n",
              "    <tr>\n",
              "      <th>19773</th>\n",
              "      <td>1</td>\n",
              "      <td>pocahontas (1995)</td>\n",
              "      <td>5</td>\n",
              "    </tr>\n",
              "    <tr>\n",
              "      <th>35123</th>\n",
              "      <td>1</td>\n",
              "      <td>apollo 13 (1995)</td>\n",
              "      <td>5</td>\n",
              "    </tr>\n",
              "    <tr>\n",
              "      <th>54895</th>\n",
              "      <td>1</td>\n",
              "      <td>star wars: episode iv - a new hope (1977)</td>\n",
              "      <td>4</td>\n",
              "    </tr>\n",
              "    <tr>\n",
              "      <th>116019</th>\n",
              "      <td>1</td>\n",
              "      <td>schindler's list (1993)</td>\n",
              "      <td>5</td>\n",
              "    </tr>\n",
              "    <tr>\n",
              "      <th>119008</th>\n",
              "      <td>1</td>\n",
              "      <td>secret garden, the (1993)</td>\n",
              "      <td>4</td>\n",
              "    </tr>\n",
              "    <tr>\n",
              "      <th>130190</th>\n",
              "      <td>1</td>\n",
              "      <td>aladdin (1992)</td>\n",
              "      <td>4</td>\n",
              "    </tr>\n",
              "    <tr>\n",
              "      <th>138999</th>\n",
              "      <td>1</td>\n",
              "      <td>snow white and the seven dwarfs (1937)</td>\n",
              "      <td>4</td>\n",
              "    </tr>\n",
              "    <tr>\n",
              "      <th>139706</th>\n",
              "      <td>1</td>\n",
              "      <td>beauty and the beast (1991)</td>\n",
              "      <td>5</td>\n",
              "    </tr>\n",
              "    <tr>\n",
              "      <th>142605</th>\n",
              "      <td>1</td>\n",
              "      <td>fargo (1996)</td>\n",
              "      <td>4</td>\n",
              "    </tr>\n",
              "    <tr>\n",
              "      <th>149342</th>\n",
              "      <td>1</td>\n",
              "      <td>james and the giant peach (1996)</td>\n",
              "      <td>3</td>\n",
              "    </tr>\n",
              "    <tr>\n",
              "      <th>153599</th>\n",
              "      <td>1</td>\n",
              "      <td>wallace &amp; gromit: the best of aardman animatio...</td>\n",
              "      <td>3</td>\n",
              "    </tr>\n",
              "    <tr>\n",
              "      <th>157311</th>\n",
              "      <td>1</td>\n",
              "      <td>close shave, a (1995)</td>\n",
              "      <td>3</td>\n",
              "    </tr>\n",
              "    <tr>\n",
              "      <th>162564</th>\n",
              "      <td>1</td>\n",
              "      <td>hunchback of notre dame, the (1996)</td>\n",
              "      <td>4</td>\n",
              "    </tr>\n",
              "    <tr>\n",
              "      <th>184379</th>\n",
              "      <td>1</td>\n",
              "      <td>my fair lady (1964)</td>\n",
              "      <td>3</td>\n",
              "    </tr>\n",
              "    <tr>\n",
              "      <th>185984</th>\n",
              "      <td>1</td>\n",
              "      <td>wizard of oz, the (1939)</td>\n",
              "      <td>4</td>\n",
              "    </tr>\n",
              "    <tr>\n",
              "      <th>194770</th>\n",
              "      <td>1</td>\n",
              "      <td>gigi (1958)</td>\n",
              "      <td>4</td>\n",
              "    </tr>\n",
              "    <tr>\n",
              "      <th>206730</th>\n",
              "      <td>1</td>\n",
              "      <td>cinderella (1950)</td>\n",
              "      <td>5</td>\n",
              "    </tr>\n",
              "    <tr>\n",
              "      <th>208099</th>\n",
              "      <td>1</td>\n",
              "      <td>mary poppins (1964)</td>\n",
              "      <td>5</td>\n",
              "    </tr>\n",
              "    <tr>\n",
              "      <th>209016</th>\n",
              "      <td>1</td>\n",
              "      <td>dumbo (1941)</td>\n",
              "      <td>5</td>\n",
              "    </tr>\n",
              "    <tr>\n",
              "      <th>210912</th>\n",
              "      <td>1</td>\n",
              "      <td>sound of music, the (1965)</td>\n",
              "      <td>5</td>\n",
              "    </tr>\n",
              "    <tr>\n",
              "      <th>230314</th>\n",
              "      <td>1</td>\n",
              "      <td>e.t. the extra-terrestrial (1982)</td>\n",
              "      <td>4</td>\n",
              "    </tr>\n",
              "    <tr>\n",
              "      <th>248714</th>\n",
              "      <td>1</td>\n",
              "      <td>one flew over the cuckoo's nest (1975)</td>\n",
              "      <td>5</td>\n",
              "    </tr>\n",
              "    <tr>\n",
              "      <th>253451</th>\n",
              "      <td>1</td>\n",
              "      <td>princess bride, the (1987)</td>\n",
              "      <td>3</td>\n",
              "    </tr>\n",
              "    <tr>\n",
              "      <th>264249</th>\n",
              "      <td>1</td>\n",
              "      <td>to kill a mockingbird (1962)</td>\n",
              "      <td>4</td>\n",
              "    </tr>\n",
              "    <tr>\n",
              "      <th>293292</th>\n",
              "      <td>1</td>\n",
              "      <td>dead poets society (1989)</td>\n",
              "      <td>4</td>\n",
              "    </tr>\n",
              "    <tr>\n",
              "      <th>310685</th>\n",
              "      <td>1</td>\n",
              "      <td>back to the future (1985)</td>\n",
              "      <td>5</td>\n",
              "    </tr>\n",
              "    <tr>\n",
              "      <th>321302</th>\n",
              "      <td>1</td>\n",
              "      <td>ben-hur (1959)</td>\n",
              "      <td>5</td>\n",
              "    </tr>\n",
              "    <tr>\n",
              "      <th>376764</th>\n",
              "      <td>1</td>\n",
              "      <td>ponette (1996)</td>\n",
              "      <td>4</td>\n",
              "    </tr>\n",
              "    <tr>\n",
              "      <th>378252</th>\n",
              "      <td>1</td>\n",
              "      <td>hercules (1997)</td>\n",
              "      <td>4</td>\n",
              "    </tr>\n",
              "    <tr>\n",
              "      <th>413443</th>\n",
              "      <td>1</td>\n",
              "      <td>titanic (1997)</td>\n",
              "      <td>4</td>\n",
              "    </tr>\n",
              "    <tr>\n",
              "      <th>427854</th>\n",
              "      <td>1</td>\n",
              "      <td>last days of disco, the (1998)</td>\n",
              "      <td>5</td>\n",
              "    </tr>\n",
              "    <tr>\n",
              "      <th>433771</th>\n",
              "      <td>1</td>\n",
              "      <td>mulan (1998)</td>\n",
              "      <td>4</td>\n",
              "    </tr>\n",
              "    <tr>\n",
              "      <th>450533</th>\n",
              "      <td>1</td>\n",
              "      <td>rain man (1988)</td>\n",
              "      <td>5</td>\n",
              "    </tr>\n",
              "    <tr>\n",
              "      <th>451817</th>\n",
              "      <td>1</td>\n",
              "      <td>driving miss daisy (1989)</td>\n",
              "      <td>4</td>\n",
              "    </tr>\n",
              "    <tr>\n",
              "      <th>468578</th>\n",
              "      <td>1</td>\n",
              "      <td>bambi (1942)</td>\n",
              "      <td>4</td>\n",
              "    </tr>\n",
              "    <tr>\n",
              "      <th>472333</th>\n",
              "      <td>1</td>\n",
              "      <td>saving private ryan (1998)</td>\n",
              "      <td>5</td>\n",
              "    </tr>\n",
              "    <tr>\n",
              "      <th>525392</th>\n",
              "      <td>1</td>\n",
              "      <td>antz (1998)</td>\n",
              "      <td>4</td>\n",
              "    </tr>\n",
              "    <tr>\n",
              "      <th>530676</th>\n",
              "      <td>1</td>\n",
              "      <td>pleasantville (1998)</td>\n",
              "      <td>3</td>\n",
              "    </tr>\n",
              "    <tr>\n",
              "      <th>536358</th>\n",
              "      <td>1</td>\n",
              "      <td>meet joe black (1998)</td>\n",
              "      <td>3</td>\n",
              "    </tr>\n",
              "    <tr>\n",
              "      <th>539498</th>\n",
              "      <td>1</td>\n",
              "      <td>bug's life, a (1998)</td>\n",
              "      <td>5</td>\n",
              "    </tr>\n",
              "    <tr>\n",
              "      <th>552697</th>\n",
              "      <td>1</td>\n",
              "      <td>miracle on 34th street (1947)</td>\n",
              "      <td>4</td>\n",
              "    </tr>\n",
              "    <tr>\n",
              "      <th>604667</th>\n",
              "      <td>1</td>\n",
              "      <td>tarzan (1999)</td>\n",
              "      <td>3</td>\n",
              "    </tr>\n",
              "    <tr>\n",
              "      <th>605985</th>\n",
              "      <td>1</td>\n",
              "      <td>run lola run (lola rennt) (1998)</td>\n",
              "      <td>4</td>\n",
              "    </tr>\n",
              "    <tr>\n",
              "      <th>624733</th>\n",
              "      <td>1</td>\n",
              "      <td>sixth sense, the (1999)</td>\n",
              "      <td>4</td>\n",
              "    </tr>\n",
              "    <tr>\n",
              "      <th>630899</th>\n",
              "      <td>1</td>\n",
              "      <td>airplane! (1980)</td>\n",
              "      <td>4</td>\n",
              "    </tr>\n",
              "    <tr>\n",
              "      <th>633946</th>\n",
              "      <td>1</td>\n",
              "      <td>big (1988)</td>\n",
              "      <td>4</td>\n",
              "    </tr>\n",
              "    <tr>\n",
              "      <th>635999</th>\n",
              "      <td>1</td>\n",
              "      <td>christmas story, a (1983)</td>\n",
              "      <td>5</td>\n",
              "    </tr>\n",
              "    <tr>\n",
              "      <th>656320</th>\n",
              "      <td>1</td>\n",
              "      <td>ferris bueller's day off (1986)</td>\n",
              "      <td>4</td>\n",
              "    </tr>\n",
              "    <tr>\n",
              "      <th>698979</th>\n",
              "      <td>1</td>\n",
              "      <td>awakenings (1990)</td>\n",
              "      <td>5</td>\n",
              "    </tr>\n",
              "    <tr>\n",
              "      <th>701857</th>\n",
              "      <td>1</td>\n",
              "      <td>toy story 2 (1999)</td>\n",
              "      <td>4</td>\n",
              "    </tr>\n",
              "    <tr>\n",
              "      <th>716464</th>\n",
              "      <td>1</td>\n",
              "      <td>girl, interrupted (1999)</td>\n",
              "      <td>4</td>\n",
              "    </tr>\n",
              "    <tr>\n",
              "      <th>748880</th>\n",
              "      <td>1</td>\n",
              "      <td>erin brockovich (2000)</td>\n",
              "      <td>4</td>\n",
              "    </tr>\n",
              "  </tbody>\n",
              "</table>\n",
              "</div>\n",
              "      <button class=\"colab-df-convert\" onclick=\"convertToInteractive('df-9173256f-b783-44bc-bd9d-e540b5648712')\"\n",
              "              title=\"Convert this dataframe to an interactive table.\"\n",
              "              style=\"display:none;\">\n",
              "        \n",
              "  <svg xmlns=\"http://www.w3.org/2000/svg\" height=\"24px\"viewBox=\"0 0 24 24\"\n",
              "       width=\"24px\">\n",
              "    <path d=\"M0 0h24v24H0V0z\" fill=\"none\"/>\n",
              "    <path d=\"M18.56 5.44l.94 2.06.94-2.06 2.06-.94-2.06-.94-.94-2.06-.94 2.06-2.06.94zm-11 1L8.5 8.5l.94-2.06 2.06-.94-2.06-.94L8.5 2.5l-.94 2.06-2.06.94zm10 10l.94 2.06.94-2.06 2.06-.94-2.06-.94-.94-2.06-.94 2.06-2.06.94z\"/><path d=\"M17.41 7.96l-1.37-1.37c-.4-.4-.92-.59-1.43-.59-.52 0-1.04.2-1.43.59L10.3 9.45l-7.72 7.72c-.78.78-.78 2.05 0 2.83L4 21.41c.39.39.9.59 1.41.59.51 0 1.02-.2 1.41-.59l7.78-7.78 2.81-2.81c.8-.78.8-2.07 0-2.86zM5.41 20L4 18.59l7.72-7.72 1.47 1.35L5.41 20z\"/>\n",
              "  </svg>\n",
              "      </button>\n",
              "      \n",
              "  <style>\n",
              "    .colab-df-container {\n",
              "      display:flex;\n",
              "      flex-wrap:wrap;\n",
              "      gap: 12px;\n",
              "    }\n",
              "\n",
              "    .colab-df-convert {\n",
              "      background-color: #E8F0FE;\n",
              "      border: none;\n",
              "      border-radius: 50%;\n",
              "      cursor: pointer;\n",
              "      display: none;\n",
              "      fill: #1967D2;\n",
              "      height: 32px;\n",
              "      padding: 0 0 0 0;\n",
              "      width: 32px;\n",
              "    }\n",
              "\n",
              "    .colab-df-convert:hover {\n",
              "      background-color: #E2EBFA;\n",
              "      box-shadow: 0px 1px 2px rgba(60, 64, 67, 0.3), 0px 1px 3px 1px rgba(60, 64, 67, 0.15);\n",
              "      fill: #174EA6;\n",
              "    }\n",
              "\n",
              "    [theme=dark] .colab-df-convert {\n",
              "      background-color: #3B4455;\n",
              "      fill: #D2E3FC;\n",
              "    }\n",
              "\n",
              "    [theme=dark] .colab-df-convert:hover {\n",
              "      background-color: #434B5C;\n",
              "      box-shadow: 0px 1px 3px 1px rgba(0, 0, 0, 0.15);\n",
              "      filter: drop-shadow(0px 1px 2px rgba(0, 0, 0, 0.3));\n",
              "      fill: #FFFFFF;\n",
              "    }\n",
              "  </style>\n",
              "\n",
              "      <script>\n",
              "        const buttonEl =\n",
              "          document.querySelector('#df-9173256f-b783-44bc-bd9d-e540b5648712 button.colab-df-convert');\n",
              "        buttonEl.style.display =\n",
              "          google.colab.kernel.accessAllowed ? 'block' : 'none';\n",
              "\n",
              "        async function convertToInteractive(key) {\n",
              "          const element = document.querySelector('#df-9173256f-b783-44bc-bd9d-e540b5648712');\n",
              "          const dataTable =\n",
              "            await google.colab.kernel.invokeFunction('convertToInteractive',\n",
              "                                                     [key], {});\n",
              "          if (!dataTable) return;\n",
              "\n",
              "          const docLinkHtml = 'Like what you see? Visit the ' +\n",
              "            '<a target=\"_blank\" href=https://colab.research.google.com/notebooks/data_table.ipynb>data table notebook</a>'\n",
              "            + ' to learn more about interactive tables.';\n",
              "          element.innerHTML = '';\n",
              "          dataTable['output_type'] = 'display_data';\n",
              "          await google.colab.output.renderOutput(dataTable, element);\n",
              "          const docLink = document.createElement('div');\n",
              "          docLink.innerHTML = docLinkHtml;\n",
              "          element.appendChild(docLink);\n",
              "        }\n",
              "      </script>\n",
              "    </div>\n",
              "  </div>\n",
              "  "
            ]
          },
          "metadata": {},
          "execution_count": 17
        }
      ]
    },
    {
      "cell_type": "markdown",
      "source": [
        "'뻐꾸기 둥지 위로 날아간 새' 영화에 5점을 줬네요~ 전체적으로 점수가 후합니다."
      ],
      "metadata": {
        "id": "K-Tr7sIRMHId"
      }
    },
    {
      "cell_type": "markdown",
      "source": [
        "### ratings에 있는 유니크한 영화 개수"
      ],
      "metadata": {
        "id": "O8ScQUyeMWCR"
      }
    },
    {
      "cell_type": "code",
      "source": [
        "df['title'].nunique()"
      ],
      "metadata": {
        "colab": {
          "base_uri": "https://localhost:8080/"
        },
        "id": "X7R2WH2_MdjO",
        "outputId": "a9233cdb-eda6-486e-f94b-8b97d43a54a9"
      },
      "execution_count": null,
      "outputs": [
        {
          "output_type": "execute_result",
          "data": {
            "text/plain": [
              "3628"
            ]
          },
          "metadata": {},
          "execution_count": 18
        }
      ]
    },
    {
      "cell_type": "markdown",
      "source": [
        "### ratings에 있는 유니크한 사용자 수"
      ],
      "metadata": {
        "id": "Z1wpm_V6MXu5"
      }
    },
    {
      "cell_type": "code",
      "source": [
        "df['user_id'].nunique()"
      ],
      "metadata": {
        "colab": {
          "base_uri": "https://localhost:8080/"
        },
        "id": "YSXa-N6VMnVc",
        "outputId": "ea520304-fa8e-408f-c082-26c3df651acf"
      },
      "execution_count": null,
      "outputs": [
        {
          "output_type": "execute_result",
          "data": {
            "text/plain": [
              "6039"
            ]
          },
          "metadata": {},
          "execution_count": 19
        }
      ]
    },
    {
      "cell_type": "markdown",
      "source": [
        "### 가장 인기 있는 영화 30개(인기순)"
      ],
      "metadata": {
        "id": "se8G6kz0MZQT"
      }
    },
    {
      "cell_type": "code",
      "source": [
        "artist_count = df.groupby('title')['counts'].sum()\n",
        "artist_count_result = artist_count.sort_values(ascending=False).head(30)\n",
        "artist_count_result=pd.DataFrame(artist_count_result)\n",
        "artist_count_result"
      ],
      "metadata": {
        "colab": {
          "base_uri": "https://localhost:8080/",
          "height": 1000
        },
        "id": "8NI4EGfjMqsW",
        "outputId": "a3f9e539-e574-43d8-b378-f5146caaac80"
      },
      "execution_count": null,
      "outputs": [
        {
          "output_type": "execute_result",
          "data": {
            "text/plain": [
              "                                                    counts\n",
              "title                                                     \n",
              "american beauty (1999)                               14449\n",
              "star wars: episode iv - a new hope (1977)            13178\n",
              "star wars: episode v - the empire strikes back ...   12648\n",
              "saving private ryan (1998)                           11348\n",
              "star wars: episode vi - return of the jedi (1983)    11303\n",
              "raiders of the lost ark (1981)                       11179\n",
              "silence of the lambs, the (1991)                     11096\n",
              "matrix, the (1999)                                   10903\n",
              "sixth sense, the (1999)                              10703\n",
              "terminator 2: judgment day (1991)                    10513\n",
              "fargo (1996)                                         10465\n",
              "schindler's list (1993)                              10317\n",
              "braveheart (1995)                                    10125\n",
              "shawshank redemption, the (1994)                     10085\n",
              "back to the future (1985)                            10081\n",
              "godfather, the (1972)                                 9965\n",
              "princess bride, the (1987)                            9866\n",
              "jurassic park (1993)                                  9601\n",
              "l.a. confidential (1997)                              9515\n",
              "shakespeare in love (1998)                            9503\n",
              "men in black (1997)                                   9057\n",
              "pulp fiction (1994)                                   9053\n",
              "being john malkovich (1999)                           8964\n",
              "groundhog day (1993)                                  8727\n",
              "e.t. the extra-terrestrial (1982)                     8696\n",
              "forrest gump (1994)                                   8679\n",
              "terminator, the (1984)                                8571\n",
              "toy story (1995)                                      8475\n",
              "ghostbusters (1984)                                   8282\n",
              "alien (1979)                                          8244"
            ],
            "text/html": [
              "\n",
              "  <div id=\"df-96114b7a-dc58-402b-b6b5-4fada753b9d3\">\n",
              "    <div class=\"colab-df-container\">\n",
              "      <div>\n",
              "<style scoped>\n",
              "    .dataframe tbody tr th:only-of-type {\n",
              "        vertical-align: middle;\n",
              "    }\n",
              "\n",
              "    .dataframe tbody tr th {\n",
              "        vertical-align: top;\n",
              "    }\n",
              "\n",
              "    .dataframe thead th {\n",
              "        text-align: right;\n",
              "    }\n",
              "</style>\n",
              "<table border=\"1\" class=\"dataframe\">\n",
              "  <thead>\n",
              "    <tr style=\"text-align: right;\">\n",
              "      <th></th>\n",
              "      <th>counts</th>\n",
              "    </tr>\n",
              "    <tr>\n",
              "      <th>title</th>\n",
              "      <th></th>\n",
              "    </tr>\n",
              "  </thead>\n",
              "  <tbody>\n",
              "    <tr>\n",
              "      <th>american beauty (1999)</th>\n",
              "      <td>14449</td>\n",
              "    </tr>\n",
              "    <tr>\n",
              "      <th>star wars: episode iv - a new hope (1977)</th>\n",
              "      <td>13178</td>\n",
              "    </tr>\n",
              "    <tr>\n",
              "      <th>star wars: episode v - the empire strikes back (1980)</th>\n",
              "      <td>12648</td>\n",
              "    </tr>\n",
              "    <tr>\n",
              "      <th>saving private ryan (1998)</th>\n",
              "      <td>11348</td>\n",
              "    </tr>\n",
              "    <tr>\n",
              "      <th>star wars: episode vi - return of the jedi (1983)</th>\n",
              "      <td>11303</td>\n",
              "    </tr>\n",
              "    <tr>\n",
              "      <th>raiders of the lost ark (1981)</th>\n",
              "      <td>11179</td>\n",
              "    </tr>\n",
              "    <tr>\n",
              "      <th>silence of the lambs, the (1991)</th>\n",
              "      <td>11096</td>\n",
              "    </tr>\n",
              "    <tr>\n",
              "      <th>matrix, the (1999)</th>\n",
              "      <td>10903</td>\n",
              "    </tr>\n",
              "    <tr>\n",
              "      <th>sixth sense, the (1999)</th>\n",
              "      <td>10703</td>\n",
              "    </tr>\n",
              "    <tr>\n",
              "      <th>terminator 2: judgment day (1991)</th>\n",
              "      <td>10513</td>\n",
              "    </tr>\n",
              "    <tr>\n",
              "      <th>fargo (1996)</th>\n",
              "      <td>10465</td>\n",
              "    </tr>\n",
              "    <tr>\n",
              "      <th>schindler's list (1993)</th>\n",
              "      <td>10317</td>\n",
              "    </tr>\n",
              "    <tr>\n",
              "      <th>braveheart (1995)</th>\n",
              "      <td>10125</td>\n",
              "    </tr>\n",
              "    <tr>\n",
              "      <th>shawshank redemption, the (1994)</th>\n",
              "      <td>10085</td>\n",
              "    </tr>\n",
              "    <tr>\n",
              "      <th>back to the future (1985)</th>\n",
              "      <td>10081</td>\n",
              "    </tr>\n",
              "    <tr>\n",
              "      <th>godfather, the (1972)</th>\n",
              "      <td>9965</td>\n",
              "    </tr>\n",
              "    <tr>\n",
              "      <th>princess bride, the (1987)</th>\n",
              "      <td>9866</td>\n",
              "    </tr>\n",
              "    <tr>\n",
              "      <th>jurassic park (1993)</th>\n",
              "      <td>9601</td>\n",
              "    </tr>\n",
              "    <tr>\n",
              "      <th>l.a. confidential (1997)</th>\n",
              "      <td>9515</td>\n",
              "    </tr>\n",
              "    <tr>\n",
              "      <th>shakespeare in love (1998)</th>\n",
              "      <td>9503</td>\n",
              "    </tr>\n",
              "    <tr>\n",
              "      <th>men in black (1997)</th>\n",
              "      <td>9057</td>\n",
              "    </tr>\n",
              "    <tr>\n",
              "      <th>pulp fiction (1994)</th>\n",
              "      <td>9053</td>\n",
              "    </tr>\n",
              "    <tr>\n",
              "      <th>being john malkovich (1999)</th>\n",
              "      <td>8964</td>\n",
              "    </tr>\n",
              "    <tr>\n",
              "      <th>groundhog day (1993)</th>\n",
              "      <td>8727</td>\n",
              "    </tr>\n",
              "    <tr>\n",
              "      <th>e.t. the extra-terrestrial (1982)</th>\n",
              "      <td>8696</td>\n",
              "    </tr>\n",
              "    <tr>\n",
              "      <th>forrest gump (1994)</th>\n",
              "      <td>8679</td>\n",
              "    </tr>\n",
              "    <tr>\n",
              "      <th>terminator, the (1984)</th>\n",
              "      <td>8571</td>\n",
              "    </tr>\n",
              "    <tr>\n",
              "      <th>toy story (1995)</th>\n",
              "      <td>8475</td>\n",
              "    </tr>\n",
              "    <tr>\n",
              "      <th>ghostbusters (1984)</th>\n",
              "      <td>8282</td>\n",
              "    </tr>\n",
              "    <tr>\n",
              "      <th>alien (1979)</th>\n",
              "      <td>8244</td>\n",
              "    </tr>\n",
              "  </tbody>\n",
              "</table>\n",
              "</div>\n",
              "      <button class=\"colab-df-convert\" onclick=\"convertToInteractive('df-96114b7a-dc58-402b-b6b5-4fada753b9d3')\"\n",
              "              title=\"Convert this dataframe to an interactive table.\"\n",
              "              style=\"display:none;\">\n",
              "        \n",
              "  <svg xmlns=\"http://www.w3.org/2000/svg\" height=\"24px\"viewBox=\"0 0 24 24\"\n",
              "       width=\"24px\">\n",
              "    <path d=\"M0 0h24v24H0V0z\" fill=\"none\"/>\n",
              "    <path d=\"M18.56 5.44l.94 2.06.94-2.06 2.06-.94-2.06-.94-.94-2.06-.94 2.06-2.06.94zm-11 1L8.5 8.5l.94-2.06 2.06-.94-2.06-.94L8.5 2.5l-.94 2.06-2.06.94zm10 10l.94 2.06.94-2.06 2.06-.94-2.06-.94-.94-2.06-.94 2.06-2.06.94z\"/><path d=\"M17.41 7.96l-1.37-1.37c-.4-.4-.92-.59-1.43-.59-.52 0-1.04.2-1.43.59L10.3 9.45l-7.72 7.72c-.78.78-.78 2.05 0 2.83L4 21.41c.39.39.9.59 1.41.59.51 0 1.02-.2 1.41-.59l7.78-7.78 2.81-2.81c.8-.78.8-2.07 0-2.86zM5.41 20L4 18.59l7.72-7.72 1.47 1.35L5.41 20z\"/>\n",
              "  </svg>\n",
              "      </button>\n",
              "      \n",
              "  <style>\n",
              "    .colab-df-container {\n",
              "      display:flex;\n",
              "      flex-wrap:wrap;\n",
              "      gap: 12px;\n",
              "    }\n",
              "\n",
              "    .colab-df-convert {\n",
              "      background-color: #E8F0FE;\n",
              "      border: none;\n",
              "      border-radius: 50%;\n",
              "      cursor: pointer;\n",
              "      display: none;\n",
              "      fill: #1967D2;\n",
              "      height: 32px;\n",
              "      padding: 0 0 0 0;\n",
              "      width: 32px;\n",
              "    }\n",
              "\n",
              "    .colab-df-convert:hover {\n",
              "      background-color: #E2EBFA;\n",
              "      box-shadow: 0px 1px 2px rgba(60, 64, 67, 0.3), 0px 1px 3px 1px rgba(60, 64, 67, 0.15);\n",
              "      fill: #174EA6;\n",
              "    }\n",
              "\n",
              "    [theme=dark] .colab-df-convert {\n",
              "      background-color: #3B4455;\n",
              "      fill: #D2E3FC;\n",
              "    }\n",
              "\n",
              "    [theme=dark] .colab-df-convert:hover {\n",
              "      background-color: #434B5C;\n",
              "      box-shadow: 0px 1px 3px 1px rgba(0, 0, 0, 0.15);\n",
              "      filter: drop-shadow(0px 1px 2px rgba(0, 0, 0, 0.3));\n",
              "      fill: #FFFFFF;\n",
              "    }\n",
              "  </style>\n",
              "\n",
              "      <script>\n",
              "        const buttonEl =\n",
              "          document.querySelector('#df-96114b7a-dc58-402b-b6b5-4fada753b9d3 button.colab-df-convert');\n",
              "        buttonEl.style.display =\n",
              "          google.colab.kernel.accessAllowed ? 'block' : 'none';\n",
              "\n",
              "        async function convertToInteractive(key) {\n",
              "          const element = document.querySelector('#df-96114b7a-dc58-402b-b6b5-4fada753b9d3');\n",
              "          const dataTable =\n",
              "            await google.colab.kernel.invokeFunction('convertToInteractive',\n",
              "                                                     [key], {});\n",
              "          if (!dataTable) return;\n",
              "\n",
              "          const docLinkHtml = 'Like what you see? Visit the ' +\n",
              "            '<a target=\"_blank\" href=https://colab.research.google.com/notebooks/data_table.ipynb>data table notebook</a>'\n",
              "            + ' to learn more about interactive tables.';\n",
              "          element.innerHTML = '';\n",
              "          dataTable['output_type'] = 'display_data';\n",
              "          await google.colab.output.renderOutput(dataTable, element);\n",
              "          const docLink = document.createElement('div');\n",
              "          docLink.innerHTML = docLinkHtml;\n",
              "          element.appendChild(docLink);\n",
              "        }\n",
              "      </script>\n",
              "    </div>\n",
              "  </div>\n",
              "  "
            ]
          },
          "metadata": {},
          "execution_count": 20
        }
      ]
    },
    {
      "cell_type": "markdown",
      "source": [
        "rating(counts)을 sum 한 값이라서 counts 란에 해당 영화를 본 횟수가 sum되어있습니다."
      ],
      "metadata": {
        "id": "2VeuvhPSWbQC"
      }
    },
    {
      "cell_type": "markdown",
      "source": [
        "아메리칸 뷰티, 스타워즈, 라이언 일병 구하기 등 익숙한 고전 명작 영화가 순위권에 즐비하네요"
      ],
      "metadata": {
        "id": "TZ4loFDYVdkF"
      }
    },
    {
      "cell_type": "markdown",
      "source": [
        "유저별 몇 번의 영화를 봤는지 보겠습니다."
      ],
      "metadata": {
        "id": "Ioz6gX9-mJCn"
      }
    },
    {
      "cell_type": "code",
      "source": [
        "user_count = df.groupby('user_id')['counts'].sum()\n",
        "user_count.describe()"
      ],
      "metadata": {
        "colab": {
          "base_uri": "https://localhost:8080/"
        },
        "id": "UmwAFypJlyO3",
        "outputId": "0910ddd0-7f62-4ed8-d2cb-be9a78b876ad"
      },
      "execution_count": null,
      "outputs": [
        {
          "output_type": "execute_result",
          "data": {
            "text/plain": [
              "count    6039.000000\n",
              "mean      548.273721\n",
              "std       606.449800\n",
              "min         3.000000\n",
              "25%       154.000000\n",
              "50%       329.000000\n",
              "75%       704.000000\n",
              "max      7590.000000\n",
              "Name: counts, dtype: float64"
            ]
          },
          "metadata": {},
          "execution_count": 21
        }
      ]
    },
    {
      "cell_type": "code",
      "source": [
        "user_count"
      ],
      "metadata": {
        "colab": {
          "base_uri": "https://localhost:8080/"
        },
        "id": "v9zxswojmF_j",
        "outputId": "131a8eb7-216f-4359-fcff-0280906fb9ab"
      },
      "execution_count": null,
      "outputs": [
        {
          "output_type": "execute_result",
          "data": {
            "text/plain": [
              "user_id\n",
              "1        222\n",
              "2        455\n",
              "3        190\n",
              "4         85\n",
              "5        532\n",
              "        ... \n",
              "6036    2620\n",
              "6037     727\n",
              "6038      73\n",
              "6039     469\n",
              "6040    1117\n",
              "Name: counts, Length: 6039, dtype: int64"
            ]
          },
          "metadata": {},
          "execution_count": 22
        }
      ]
    },
    {
      "cell_type": "markdown",
      "source": [
        "가장 많은 영화를 본 사람은 7590 회까지 봤네요~ 보통 548회정도 봤다고 합니다 대단해"
      ],
      "metadata": {
        "id": "VRq_czLFOeiJ"
      }
    },
    {
      "cell_type": "markdown",
      "source": [
        "너무 많은 것 같기도 한데 이건 별점을 시청횟수로 간주했기 때문에 벌어진 일입니다.."
      ],
      "metadata": {
        "id": "_by57uLzs26V"
      }
    },
    {
      "cell_type": "markdown",
      "source": [
        "## **3) 내가 선호하는 영화를 5가지 골라서 ratings에 추가해 줍시다.**"
      ],
      "metadata": {
        "id": "MbngPFOysYV7"
      }
    },
    {
      "cell_type": "code",
      "source": [
        "# 이름은 꼭 데이터셋에 있는 것과 동일하게 맞춰줘야한다!\n",
        "my_favorite = ['chicken run (2000)' , 'shawshank redemption, the (1994)' ,'pulp fiction (1994)' ,\"bug's life, a (1998)\" ,'erin brockovich (2000)']\n",
        "\n",
        "# 'jumi'이라는 user_id가 위 영화를 시청한 횟수(별점)가 5씩이라고 가정하겠습니다.\n",
        "my_playlist = pd.DataFrame({'user_id': ['jumi']*5, 'title': my_favorite, 'counts':[5]*5})\n",
        "\n",
        "if not ratings.isin({'user_id':['jumi']})['user_id'].any():  # user_id에 'jumi'이라는 데이터가 없다면\n",
        "    df = df.append(my_playlist)                           # 위에 임의로 만든 my_favorite 데이터를 추가해 줍니다. \n",
        "\n",
        "df.tail(10)       # 잘 추가되었는지 확인해 봅시다."
      ],
      "metadata": {
        "id": "3mI_u5miscGU",
        "colab": {
          "base_uri": "https://localhost:8080/",
          "height": 363
        },
        "outputId": "05a19d98-5ebb-4e39-e508-29eb2e23571a"
      },
      "execution_count": null,
      "outputs": [
        {
          "output_type": "execute_result",
          "data": {
            "text/plain": [
              "       user_id                             title  counts\n",
              "836473    5682             contender, the (2000)       3\n",
              "836474    5812             contender, the (2000)       4\n",
              "836475    5831             contender, the (2000)       3\n",
              "836476    5837             contender, the (2000)       4\n",
              "836477    5998             contender, the (2000)       4\n",
              "0         jumi                chicken run (2000)       5\n",
              "1         jumi  shawshank redemption, the (1994)       5\n",
              "2         jumi               pulp fiction (1994)       5\n",
              "3         jumi              bug's life, a (1998)       5\n",
              "4         jumi            erin brockovich (2000)       5"
            ],
            "text/html": [
              "\n",
              "  <div id=\"df-f70300b3-87fd-4888-8c29-8456d4d1a9a6\">\n",
              "    <div class=\"colab-df-container\">\n",
              "      <div>\n",
              "<style scoped>\n",
              "    .dataframe tbody tr th:only-of-type {\n",
              "        vertical-align: middle;\n",
              "    }\n",
              "\n",
              "    .dataframe tbody tr th {\n",
              "        vertical-align: top;\n",
              "    }\n",
              "\n",
              "    .dataframe thead th {\n",
              "        text-align: right;\n",
              "    }\n",
              "</style>\n",
              "<table border=\"1\" class=\"dataframe\">\n",
              "  <thead>\n",
              "    <tr style=\"text-align: right;\">\n",
              "      <th></th>\n",
              "      <th>user_id</th>\n",
              "      <th>title</th>\n",
              "      <th>counts</th>\n",
              "    </tr>\n",
              "  </thead>\n",
              "  <tbody>\n",
              "    <tr>\n",
              "      <th>836473</th>\n",
              "      <td>5682</td>\n",
              "      <td>contender, the (2000)</td>\n",
              "      <td>3</td>\n",
              "    </tr>\n",
              "    <tr>\n",
              "      <th>836474</th>\n",
              "      <td>5812</td>\n",
              "      <td>contender, the (2000)</td>\n",
              "      <td>4</td>\n",
              "    </tr>\n",
              "    <tr>\n",
              "      <th>836475</th>\n",
              "      <td>5831</td>\n",
              "      <td>contender, the (2000)</td>\n",
              "      <td>3</td>\n",
              "    </tr>\n",
              "    <tr>\n",
              "      <th>836476</th>\n",
              "      <td>5837</td>\n",
              "      <td>contender, the (2000)</td>\n",
              "      <td>4</td>\n",
              "    </tr>\n",
              "    <tr>\n",
              "      <th>836477</th>\n",
              "      <td>5998</td>\n",
              "      <td>contender, the (2000)</td>\n",
              "      <td>4</td>\n",
              "    </tr>\n",
              "    <tr>\n",
              "      <th>0</th>\n",
              "      <td>jumi</td>\n",
              "      <td>chicken run (2000)</td>\n",
              "      <td>5</td>\n",
              "    </tr>\n",
              "    <tr>\n",
              "      <th>1</th>\n",
              "      <td>jumi</td>\n",
              "      <td>shawshank redemption, the (1994)</td>\n",
              "      <td>5</td>\n",
              "    </tr>\n",
              "    <tr>\n",
              "      <th>2</th>\n",
              "      <td>jumi</td>\n",
              "      <td>pulp fiction (1994)</td>\n",
              "      <td>5</td>\n",
              "    </tr>\n",
              "    <tr>\n",
              "      <th>3</th>\n",
              "      <td>jumi</td>\n",
              "      <td>bug's life, a (1998)</td>\n",
              "      <td>5</td>\n",
              "    </tr>\n",
              "    <tr>\n",
              "      <th>4</th>\n",
              "      <td>jumi</td>\n",
              "      <td>erin brockovich (2000)</td>\n",
              "      <td>5</td>\n",
              "    </tr>\n",
              "  </tbody>\n",
              "</table>\n",
              "</div>\n",
              "      <button class=\"colab-df-convert\" onclick=\"convertToInteractive('df-f70300b3-87fd-4888-8c29-8456d4d1a9a6')\"\n",
              "              title=\"Convert this dataframe to an interactive table.\"\n",
              "              style=\"display:none;\">\n",
              "        \n",
              "  <svg xmlns=\"http://www.w3.org/2000/svg\" height=\"24px\"viewBox=\"0 0 24 24\"\n",
              "       width=\"24px\">\n",
              "    <path d=\"M0 0h24v24H0V0z\" fill=\"none\"/>\n",
              "    <path d=\"M18.56 5.44l.94 2.06.94-2.06 2.06-.94-2.06-.94-.94-2.06-.94 2.06-2.06.94zm-11 1L8.5 8.5l.94-2.06 2.06-.94-2.06-.94L8.5 2.5l-.94 2.06-2.06.94zm10 10l.94 2.06.94-2.06 2.06-.94-2.06-.94-.94-2.06-.94 2.06-2.06.94z\"/><path d=\"M17.41 7.96l-1.37-1.37c-.4-.4-.92-.59-1.43-.59-.52 0-1.04.2-1.43.59L10.3 9.45l-7.72 7.72c-.78.78-.78 2.05 0 2.83L4 21.41c.39.39.9.59 1.41.59.51 0 1.02-.2 1.41-.59l7.78-7.78 2.81-2.81c.8-.78.8-2.07 0-2.86zM5.41 20L4 18.59l7.72-7.72 1.47 1.35L5.41 20z\"/>\n",
              "  </svg>\n",
              "      </button>\n",
              "      \n",
              "  <style>\n",
              "    .colab-df-container {\n",
              "      display:flex;\n",
              "      flex-wrap:wrap;\n",
              "      gap: 12px;\n",
              "    }\n",
              "\n",
              "    .colab-df-convert {\n",
              "      background-color: #E8F0FE;\n",
              "      border: none;\n",
              "      border-radius: 50%;\n",
              "      cursor: pointer;\n",
              "      display: none;\n",
              "      fill: #1967D2;\n",
              "      height: 32px;\n",
              "      padding: 0 0 0 0;\n",
              "      width: 32px;\n",
              "    }\n",
              "\n",
              "    .colab-df-convert:hover {\n",
              "      background-color: #E2EBFA;\n",
              "      box-shadow: 0px 1px 2px rgba(60, 64, 67, 0.3), 0px 1px 3px 1px rgba(60, 64, 67, 0.15);\n",
              "      fill: #174EA6;\n",
              "    }\n",
              "\n",
              "    [theme=dark] .colab-df-convert {\n",
              "      background-color: #3B4455;\n",
              "      fill: #D2E3FC;\n",
              "    }\n",
              "\n",
              "    [theme=dark] .colab-df-convert:hover {\n",
              "      background-color: #434B5C;\n",
              "      box-shadow: 0px 1px 3px 1px rgba(0, 0, 0, 0.15);\n",
              "      filter: drop-shadow(0px 1px 2px rgba(0, 0, 0, 0.3));\n",
              "      fill: #FFFFFF;\n",
              "    }\n",
              "  </style>\n",
              "\n",
              "      <script>\n",
              "        const buttonEl =\n",
              "          document.querySelector('#df-f70300b3-87fd-4888-8c29-8456d4d1a9a6 button.colab-df-convert');\n",
              "        buttonEl.style.display =\n",
              "          google.colab.kernel.accessAllowed ? 'block' : 'none';\n",
              "\n",
              "        async function convertToInteractive(key) {\n",
              "          const element = document.querySelector('#df-f70300b3-87fd-4888-8c29-8456d4d1a9a6');\n",
              "          const dataTable =\n",
              "            await google.colab.kernel.invokeFunction('convertToInteractive',\n",
              "                                                     [key], {});\n",
              "          if (!dataTable) return;\n",
              "\n",
              "          const docLinkHtml = 'Like what you see? Visit the ' +\n",
              "            '<a target=\"_blank\" href=https://colab.research.google.com/notebooks/data_table.ipynb>data table notebook</a>'\n",
              "            + ' to learn more about interactive tables.';\n",
              "          element.innerHTML = '';\n",
              "          dataTable['output_type'] = 'display_data';\n",
              "          await google.colab.output.renderOutput(dataTable, element);\n",
              "          const docLink = document.createElement('div');\n",
              "          docLink.innerHTML = docLinkHtml;\n",
              "          element.appendChild(docLink);\n",
              "        }\n",
              "      </script>\n",
              "    </div>\n",
              "  </div>\n",
              "  "
            ]
          },
          "metadata": {},
          "execution_count": 23
        }
      ]
    },
    {
      "cell_type": "markdown",
      "source": [
        "잘 추가되었네요~"
      ],
      "metadata": {
        "id": "lmgPSPzM1EdB"
      }
    },
    {
      "cell_type": "code",
      "source": [
        "# 고유한 유저, 아티스트를 찾아내는 코드\n",
        "user_unique = df['user_id'].unique()\n",
        "movie_id_unique = df['title'].unique()\n",
        "\n",
        "# 유저, 아티스트 indexing 하는 코드 idx는 index의 약자입니다.\n",
        "user_to_idx = {v:k for k,v in enumerate(user_unique)}\n",
        "movie_id_to_idx = {v:k for k,v in enumerate(movie_id_unique)}"
      ],
      "metadata": {
        "id": "b23XjVkTc8EB"
      },
      "execution_count": null,
      "outputs": []
    },
    {
      "cell_type": "code",
      "source": [
        "df['user_id'].nunique()"
      ],
      "metadata": {
        "colab": {
          "base_uri": "https://localhost:8080/"
        },
        "id": "DNA0VhBH4FHV",
        "outputId": "6f86c96c-803e-4abf-c285-75280cb67190"
      },
      "execution_count": null,
      "outputs": [
        {
          "output_type": "execute_result",
          "data": {
            "text/plain": [
              "6040"
            ]
          },
          "metadata": {},
          "execution_count": 25
        }
      ]
    },
    {
      "cell_type": "code",
      "source": [
        "print(user_to_idx['jumi'])    # 6040명의 유저 중 마지막으로 추가된 유저이니 6039가 나와야 합니다. \n"
      ],
      "metadata": {
        "colab": {
          "base_uri": "https://localhost:8080/"
        },
        "id": "edMB2cTg31mY",
        "outputId": "dca792c8-115a-4f36-e079-36a03a31d82f"
      },
      "execution_count": null,
      "outputs": [
        {
          "output_type": "stream",
          "name": "stdout",
          "text": [
            "6039\n"
          ]
        }
      ]
    },
    {
      "cell_type": "code",
      "source": [
        "# indexing을 통해 데이터 컬럼 내 값을 바꾸는 코드\n",
        "# dictionary 자료형의 get 함수는 https://wikidocs.net/16 을 참고하세요.\n",
        "\n",
        "# user_to_idx.get을 통해 user_id 컬럼의 모든 값을 인덱싱한 Series를 구해 봅시다. \n",
        "# 혹시 정상적으로 인덱싱되지 않은 row가 있다면 인덱스가 NaN이 될 테니 dropna()로 제거합니다. \n",
        "temp_user_data = df['user_id'].map(user_to_idx.get).dropna()\n",
        "if len(temp_user_data) == len(df):   # 모든 row가 정상적으로 인덱싱되었다면\n",
        "    print('user_id column indexing OK!!')\n",
        "    df['user_id'] = temp_user_data   # data['user_id']을 인덱싱된 Series로 교체해 줍니다. \n",
        "else:\n",
        "    print('user_id column indexing Fail!!')\n",
        "\n",
        "# artist_to_idx을 통해 artist 컬럼도 동일한 방식으로 인덱싱해 줍니다. \n",
        "temp_movie_id_data = df['title'].map(movie_id_to_idx.get).dropna()\n",
        "if len(temp_movie_id_data) == len(df):\n",
        "    print('title column indexing OK!!')\n",
        "    df['title'] = temp_movie_id_data\n",
        "else:\n",
        "    print('title column indexing Fail!!')\n",
        "\n",
        "df"
      ],
      "metadata": {
        "colab": {
          "base_uri": "https://localhost:8080/",
          "height": 460
        },
        "id": "oSuusDhn4amN",
        "outputId": "27dfd109-059c-4721-d39e-7459c0250827"
      },
      "execution_count": null,
      "outputs": [
        {
          "output_type": "stream",
          "name": "stdout",
          "text": [
            "user_id column indexing OK!!\n",
            "title column indexing OK!!\n"
          ]
        },
        {
          "output_type": "execute_result",
          "data": {
            "text/plain": [
              "    user_id  title  counts\n",
              "0         0      0       5\n",
              "1         1      0       4\n",
              "2         2      0       4\n",
              "3         3      0       5\n",
              "4         4      0       5\n",
              "..      ...    ...     ...\n",
              "0      6039   3433       5\n",
              "1      6039    305       5\n",
              "2      6039    283       5\n",
              "3      6039   2114       5\n",
              "4      6039   3110       5\n",
              "\n",
              "[836483 rows x 3 columns]"
            ],
            "text/html": [
              "\n",
              "  <div id=\"df-64d28358-7a7c-488e-ba0b-08e8e697a71e\">\n",
              "    <div class=\"colab-df-container\">\n",
              "      <div>\n",
              "<style scoped>\n",
              "    .dataframe tbody tr th:only-of-type {\n",
              "        vertical-align: middle;\n",
              "    }\n",
              "\n",
              "    .dataframe tbody tr th {\n",
              "        vertical-align: top;\n",
              "    }\n",
              "\n",
              "    .dataframe thead th {\n",
              "        text-align: right;\n",
              "    }\n",
              "</style>\n",
              "<table border=\"1\" class=\"dataframe\">\n",
              "  <thead>\n",
              "    <tr style=\"text-align: right;\">\n",
              "      <th></th>\n",
              "      <th>user_id</th>\n",
              "      <th>title</th>\n",
              "      <th>counts</th>\n",
              "    </tr>\n",
              "  </thead>\n",
              "  <tbody>\n",
              "    <tr>\n",
              "      <th>0</th>\n",
              "      <td>0</td>\n",
              "      <td>0</td>\n",
              "      <td>5</td>\n",
              "    </tr>\n",
              "    <tr>\n",
              "      <th>1</th>\n",
              "      <td>1</td>\n",
              "      <td>0</td>\n",
              "      <td>4</td>\n",
              "    </tr>\n",
              "    <tr>\n",
              "      <th>2</th>\n",
              "      <td>2</td>\n",
              "      <td>0</td>\n",
              "      <td>4</td>\n",
              "    </tr>\n",
              "    <tr>\n",
              "      <th>3</th>\n",
              "      <td>3</td>\n",
              "      <td>0</td>\n",
              "      <td>5</td>\n",
              "    </tr>\n",
              "    <tr>\n",
              "      <th>4</th>\n",
              "      <td>4</td>\n",
              "      <td>0</td>\n",
              "      <td>5</td>\n",
              "    </tr>\n",
              "    <tr>\n",
              "      <th>...</th>\n",
              "      <td>...</td>\n",
              "      <td>...</td>\n",
              "      <td>...</td>\n",
              "    </tr>\n",
              "    <tr>\n",
              "      <th>0</th>\n",
              "      <td>6039</td>\n",
              "      <td>3433</td>\n",
              "      <td>5</td>\n",
              "    </tr>\n",
              "    <tr>\n",
              "      <th>1</th>\n",
              "      <td>6039</td>\n",
              "      <td>305</td>\n",
              "      <td>5</td>\n",
              "    </tr>\n",
              "    <tr>\n",
              "      <th>2</th>\n",
              "      <td>6039</td>\n",
              "      <td>283</td>\n",
              "      <td>5</td>\n",
              "    </tr>\n",
              "    <tr>\n",
              "      <th>3</th>\n",
              "      <td>6039</td>\n",
              "      <td>2114</td>\n",
              "      <td>5</td>\n",
              "    </tr>\n",
              "    <tr>\n",
              "      <th>4</th>\n",
              "      <td>6039</td>\n",
              "      <td>3110</td>\n",
              "      <td>5</td>\n",
              "    </tr>\n",
              "  </tbody>\n",
              "</table>\n",
              "<p>836483 rows × 3 columns</p>\n",
              "</div>\n",
              "      <button class=\"colab-df-convert\" onclick=\"convertToInteractive('df-64d28358-7a7c-488e-ba0b-08e8e697a71e')\"\n",
              "              title=\"Convert this dataframe to an interactive table.\"\n",
              "              style=\"display:none;\">\n",
              "        \n",
              "  <svg xmlns=\"http://www.w3.org/2000/svg\" height=\"24px\"viewBox=\"0 0 24 24\"\n",
              "       width=\"24px\">\n",
              "    <path d=\"M0 0h24v24H0V0z\" fill=\"none\"/>\n",
              "    <path d=\"M18.56 5.44l.94 2.06.94-2.06 2.06-.94-2.06-.94-.94-2.06-.94 2.06-2.06.94zm-11 1L8.5 8.5l.94-2.06 2.06-.94-2.06-.94L8.5 2.5l-.94 2.06-2.06.94zm10 10l.94 2.06.94-2.06 2.06-.94-2.06-.94-.94-2.06-.94 2.06-2.06.94z\"/><path d=\"M17.41 7.96l-1.37-1.37c-.4-.4-.92-.59-1.43-.59-.52 0-1.04.2-1.43.59L10.3 9.45l-7.72 7.72c-.78.78-.78 2.05 0 2.83L4 21.41c.39.39.9.59 1.41.59.51 0 1.02-.2 1.41-.59l7.78-7.78 2.81-2.81c.8-.78.8-2.07 0-2.86zM5.41 20L4 18.59l7.72-7.72 1.47 1.35L5.41 20z\"/>\n",
              "  </svg>\n",
              "      </button>\n",
              "      \n",
              "  <style>\n",
              "    .colab-df-container {\n",
              "      display:flex;\n",
              "      flex-wrap:wrap;\n",
              "      gap: 12px;\n",
              "    }\n",
              "\n",
              "    .colab-df-convert {\n",
              "      background-color: #E8F0FE;\n",
              "      border: none;\n",
              "      border-radius: 50%;\n",
              "      cursor: pointer;\n",
              "      display: none;\n",
              "      fill: #1967D2;\n",
              "      height: 32px;\n",
              "      padding: 0 0 0 0;\n",
              "      width: 32px;\n",
              "    }\n",
              "\n",
              "    .colab-df-convert:hover {\n",
              "      background-color: #E2EBFA;\n",
              "      box-shadow: 0px 1px 2px rgba(60, 64, 67, 0.3), 0px 1px 3px 1px rgba(60, 64, 67, 0.15);\n",
              "      fill: #174EA6;\n",
              "    }\n",
              "\n",
              "    [theme=dark] .colab-df-convert {\n",
              "      background-color: #3B4455;\n",
              "      fill: #D2E3FC;\n",
              "    }\n",
              "\n",
              "    [theme=dark] .colab-df-convert:hover {\n",
              "      background-color: #434B5C;\n",
              "      box-shadow: 0px 1px 3px 1px rgba(0, 0, 0, 0.15);\n",
              "      filter: drop-shadow(0px 1px 2px rgba(0, 0, 0, 0.3));\n",
              "      fill: #FFFFFF;\n",
              "    }\n",
              "  </style>\n",
              "\n",
              "      <script>\n",
              "        const buttonEl =\n",
              "          document.querySelector('#df-64d28358-7a7c-488e-ba0b-08e8e697a71e button.colab-df-convert');\n",
              "        buttonEl.style.display =\n",
              "          google.colab.kernel.accessAllowed ? 'block' : 'none';\n",
              "\n",
              "        async function convertToInteractive(key) {\n",
              "          const element = document.querySelector('#df-64d28358-7a7c-488e-ba0b-08e8e697a71e');\n",
              "          const dataTable =\n",
              "            await google.colab.kernel.invokeFunction('convertToInteractive',\n",
              "                                                     [key], {});\n",
              "          if (!dataTable) return;\n",
              "\n",
              "          const docLinkHtml = 'Like what you see? Visit the ' +\n",
              "            '<a target=\"_blank\" href=https://colab.research.google.com/notebooks/data_table.ipynb>data table notebook</a>'\n",
              "            + ' to learn more about interactive tables.';\n",
              "          element.innerHTML = '';\n",
              "          dataTable['output_type'] = 'display_data';\n",
              "          await google.colab.output.renderOutput(dataTable, element);\n",
              "          const docLink = document.createElement('div');\n",
              "          docLink.innerHTML = docLinkHtml;\n",
              "          element.appendChild(docLink);\n",
              "        }\n",
              "      </script>\n",
              "    </div>\n",
              "  </div>\n",
              "  "
            ]
          },
          "metadata": {},
          "execution_count": 27
        }
      ]
    },
    {
      "cell_type": "markdown",
      "source": [
        "## **4) CSR matrix를 직접 만들어 봅시다.**"
      ],
      "metadata": {
        "id": "BP4xV3M8sdW0"
      }
    },
    {
      "cell_type": "code",
      "source": [
        "from scipy.sparse import csr_matrix\n",
        "\n",
        "num_user = df['user_id'].nunique()\n",
        "num_movie = df['title'].nunique()\n",
        "\n",
        "csr_data = csr_matrix((df.counts, (df.user_id, df.title)), shape= (num_user, num_movie))\n",
        "csr_data"
      ],
      "metadata": {
        "colab": {
          "base_uri": "https://localhost:8080/"
        },
        "id": "XKSxUdh_joXg",
        "outputId": "845019b3-4bd5-4ced-e7e3-e0052f4da2d6"
      },
      "execution_count": null,
      "outputs": [
        {
          "output_type": "execute_result",
          "data": {
            "text/plain": [
              "<6040x3628 sparse matrix of type '<class 'numpy.int64'>'\n",
              "\twith 836483 stored elements in Compressed Sparse Row format>"
            ]
          },
          "metadata": {},
          "execution_count": 28
        }
      ]
    },
    {
      "cell_type": "markdown",
      "source": [
        "## **5) als_model = AlternatingLeastSquares 모델을 직접 구성하여 훈련시켜 봅시다.**\n"
      ],
      "metadata": {
        "id": "qhZMOO0IshPD"
      }
    },
    {
      "cell_type": "code",
      "source": [
        "from implicit.als import AlternatingLeastSquares\n",
        "import os\n",
        "import numpy as np\n",
        "\n",
        "# implicit 라이브러리에서 권장하고 있는 부분입니다. 학습 내용과는 무관합니다.\n",
        "os.environ['OPENBLAS_NUM_THREADS']='1'\n",
        "os.environ['KMP_DUPLICATE_LIB_OK']='True'\n",
        "os.environ['MKL_NUM_THREADS']='1'"
      ],
      "metadata": {
        "id": "QuCgPbxUj1oo"
      },
      "execution_count": null,
      "outputs": []
    },
    {
      "cell_type": "code",
      "source": [
        "# Implicit AlternatingLeastSquares 모델의 선언\n",
        "als_model = AlternatingLeastSquares(factors=300, regularization=0.01, use_gpu=False, iterations=100, dtype=np.float32)"
      ],
      "metadata": {
        "id": "uN0bA4sRkIeL"
      },
      "execution_count": null,
      "outputs": []
    },
    {
      "cell_type": "code",
      "source": [
        "# als 모델은 input으로 (item X user 꼴의 matrix를 받기 때문에 Transpose해줍니다.)\n",
        "csr_data_transpose = csr_data.T\n",
        "csr_data_transpose"
      ],
      "metadata": {
        "colab": {
          "base_uri": "https://localhost:8080/"
        },
        "id": "RNHgHSG6kJvx",
        "outputId": "0a547052-5cae-4e1a-ae12-b6f9bd35ecee"
      },
      "execution_count": null,
      "outputs": [
        {
          "output_type": "execute_result",
          "data": {
            "text/plain": [
              "<3628x6040 sparse matrix of type '<class 'numpy.int64'>'\n",
              "\twith 836483 stored elements in Compressed Sparse Column format>"
            ]
          },
          "metadata": {},
          "execution_count": 116
        }
      ]
    },
    {
      "cell_type": "code",
      "source": [
        "# 모델 훈련\n",
        "als_model.fit(csr_data_transpose)"
      ],
      "metadata": {
        "colab": {
          "base_uri": "https://localhost:8080/",
          "height": 49,
          "referenced_widgets": [
            "af794319d8de44a9991779503d4051c9",
            "64ca9b95affc4cd58a7480c4ba3e9a17",
            "4b8c8168dd444a9c9780424edef9b778",
            "e6cfcf7b11c94f939599f5d0212e0147",
            "d14ccb614ad242b6b292d90a3233d91b",
            "667049c36ae24d778f6beaa3e489dd3f",
            "64f105ff8b8f46faa02b60956d717663",
            "8fade1ac85e846c2b909f7ff50ff07f8",
            "01555b02839148b99546ba6e54d390e2",
            "95e661e205c447ed9fb6e5720e3f26ef",
            "465cc1122f4441248ceb57da8a2b6087"
          ]
        },
        "id": "MzIec846kLA-",
        "outputId": "d9a584b1-9b42-485b-a6de-9b9bdb67ac75"
      },
      "execution_count": null,
      "outputs": [
        {
          "output_type": "display_data",
          "data": {
            "text/plain": [
              "  0%|          | 0/100 [00:00<?, ?it/s]"
            ],
            "application/vnd.jupyter.widget-view+json": {
              "version_major": 2,
              "version_minor": 0,
              "model_id": "af794319d8de44a9991779503d4051c9"
            }
          },
          "metadata": {}
        }
      ]
    },
    {
      "cell_type": "markdown",
      "source": [
        "## **6) 내가 선호하는 5가지 영화 중 하나와 그 외의 영화 하나를 골라 훈련된 모델이 예측한 나의 선호도를 파악해 보세요.**"
      ],
      "metadata": {
        "id": "2_wnDSm3slpK"
      }
    },
    {
      "cell_type": "markdown",
      "source": [
        "너무너무 재밌는 애니메이션 치킨런입니다.. 감동 🐔 🐤"
      ],
      "metadata": {
        "id": "o-nztaOgUap3"
      }
    },
    {
      "cell_type": "code",
      "source": [
        "jumi, chicken_run = user_to_idx['jumi'], movie_id_to_idx['chicken run (2000)']\n",
        "jumi_vector, chicken_run_vector = als_model.user_factors[jumi], als_model.item_factors[chicken_run]\n",
        "\n",
        "print('슝=3')"
      ],
      "metadata": {
        "colab": {
          "base_uri": "https://localhost:8080/"
        },
        "id": "lIkLwq1FkO7n",
        "outputId": "dec2b7b5-d86e-4bc3-9dd7-7feaafa0c8ac"
      },
      "execution_count": null,
      "outputs": [
        {
          "output_type": "stream",
          "name": "stdout",
          "text": [
            "슝=3\n"
          ]
        }
      ]
    },
    {
      "cell_type": "code",
      "source": [
        "jumi_vector"
      ],
      "metadata": {
        "colab": {
          "base_uri": "https://localhost:8080/"
        },
        "id": "eaWRMO7BHpqZ",
        "outputId": "5b501455-a720-4afe-f9a3-225bb14cbefd"
      },
      "execution_count": null,
      "outputs": [
        {
          "output_type": "execute_result",
          "data": {
            "text/plain": [
              "array([ 1.44828871e-01,  1.23439506e-01, -2.80297279e-01,  2.39950448e-01,\n",
              "       -3.92419249e-01, -3.69699001e-01, -1.90648958e-02,  5.73755167e-02,\n",
              "       -8.99208859e-02, -4.28472459e-02,  9.41368788e-02,  4.69745062e-02,\n",
              "        3.73590499e-01,  2.63949782e-01, -1.40150547e-01, -4.13345367e-01,\n",
              "       -2.21703306e-01,  1.86629385e-01, -2.92054951e-01, -2.56979108e-01,\n",
              "        5.61946705e-02, -1.96970299e-01, -6.39449954e-02,  1.48100302e-01,\n",
              "        1.13556072e-01, -9.67146233e-02, -5.52164279e-02, -1.58128008e-01,\n",
              "        1.43814147e-01, -2.28259757e-01,  7.54811838e-02,  2.40348756e-01,\n",
              "       -4.44228053e-02,  2.85815954e-01, -6.98581757e-03, -4.41561751e-02,\n",
              "        1.38067394e-01,  2.51470000e-01, -4.20246385e-02, -3.45215313e-02,\n",
              "        2.61311531e-01, -4.37466577e-02, -2.49598190e-01,  1.28917888e-01,\n",
              "       -2.53840774e-01,  1.19846247e-01,  3.20963204e-01,  9.60411578e-02,\n",
              "       -3.94566059e-02, -1.03526842e-02,  1.21760508e-02, -2.14722976e-01,\n",
              "       -1.56794950e-01,  1.35505497e-01,  7.81333372e-02,  1.81031570e-01,\n",
              "        5.73314428e-02,  2.50008166e-01, -1.16927745e-02, -5.92226051e-02,\n",
              "        2.46540666e-01, -4.63952988e-01,  1.43339530e-01, -2.83228338e-01,\n",
              "        9.94798318e-02, -3.39723751e-02, -1.34009421e-01,  4.90604155e-02,\n",
              "       -1.86950490e-01,  1.18788376e-01, -4.04588282e-02,  1.17900722e-01,\n",
              "        5.69544844e-02,  7.18866512e-02, -4.19412822e-01, -3.82771313e-01,\n",
              "        1.03937462e-01,  3.61800134e-01,  7.68592060e-02, -3.42806071e-01,\n",
              "        1.99878961e-01,  3.99755139e-04, -1.53234452e-01, -2.33460531e-01,\n",
              "       -4.20065463e-01,  2.86955029e-01,  2.18278244e-02, -1.51357884e-02,\n",
              "        1.18921220e-01, -2.47969404e-02,  8.37796479e-02,  1.07692152e-01,\n",
              "       -1.73208579e-01,  7.26514235e-02,  3.93118374e-02, -8.61619338e-02,\n",
              "        8.34201425e-02, -2.15733618e-01,  1.71376482e-01, -7.10891634e-02,\n",
              "        3.21413092e-02,  1.58311352e-02,  9.94467884e-02, -1.23530865e-01,\n",
              "       -1.62612438e-01,  1.18765533e-01,  1.01170830e-01, -3.98385257e-01,\n",
              "       -2.28011698e-01,  2.44978562e-01, -1.82066232e-01,  2.96293683e-02,\n",
              "        2.50766724e-01,  1.56117946e-01,  1.85314730e-01, -6.94464706e-03,\n",
              "       -1.12383947e-01,  1.92523703e-01, -9.72954854e-02,  3.27565879e-01,\n",
              "        1.61643907e-01,  3.32827151e-01,  5.84537163e-02, -3.87696922e-01,\n",
              "       -4.93299812e-02,  2.69575547e-02, -1.70746744e-01,  2.94496287e-02,\n",
              "        8.91035274e-02, -8.59558731e-02,  4.98479679e-02, -1.22740783e-01,\n",
              "        1.69412553e-01,  1.53213575e-01,  1.51712909e-01,  3.86203229e-02,\n",
              "       -4.53645922e-02,  1.14557870e-01, -1.37332007e-01,  2.19869733e-01,\n",
              "       -1.62868783e-01,  1.03332117e-01, -1.15806229e-01, -4.05134737e-01,\n",
              "        2.24953353e-01,  2.69901985e-03,  2.38591775e-01,  5.17205037e-02,\n",
              "       -1.44329995e-01,  1.24788746e-01, -7.20730722e-02, -1.26730800e-01,\n",
              "        6.92041144e-02, -1.27361581e-01,  1.93954691e-01,  1.61414649e-02,\n",
              "       -2.95289487e-01, -2.55547203e-02,  1.59411475e-01, -1.52632639e-01,\n",
              "        1.79464087e-01, -6.86592162e-02,  1.31468818e-01, -4.22623083e-02,\n",
              "        3.15338194e-01,  8.99680331e-02, -2.05061227e-01, -1.16518363e-01,\n",
              "        5.31677268e-02,  1.12330414e-01, -6.28524795e-02,  1.61235183e-02,\n",
              "       -1.04097836e-01,  1.32402465e-01, -2.07439572e-01,  1.06796019e-01,\n",
              "        1.99487835e-01, -3.93396914e-01,  2.07779080e-01, -5.01182318e-01,\n",
              "       -1.44193247e-01,  1.85451984e-01, -4.19217348e-01,  1.99936628e-01,\n",
              "        1.71210900e-01,  5.34290746e-02, -2.72158645e-02,  1.10877052e-01,\n",
              "       -1.45284951e-01, -4.24145721e-02,  1.23240072e-02,  4.63466555e-01,\n",
              "        5.72492890e-02,  3.62282932e-01, -2.15716809e-01, -1.38584942e-01,\n",
              "       -2.39737723e-02, -1.87086612e-01,  2.04473004e-01, -2.86473304e-01,\n",
              "       -1.66405097e-01,  4.52490225e-02, -1.06848657e-01,  2.93801904e-01,\n",
              "       -3.01806688e-01, -1.96384594e-01, -2.66095489e-01, -2.07963698e-02,\n",
              "        4.54856545e-01, -9.93353352e-02,  6.54617026e-02,  1.88385978e-01,\n",
              "       -1.75502703e-01, -2.55318820e-01, -3.68971169e-01, -9.16676521e-02,\n",
              "        4.19287086e-02,  6.36577234e-02,  3.47508863e-02,  1.96368933e-01,\n",
              "       -2.58554697e-01, -3.44469659e-02,  6.18833937e-02, -1.77602902e-01,\n",
              "        8.84902850e-02, -2.99328625e-01,  3.52227911e-02, -1.14042789e-01,\n",
              "       -8.31796676e-02, -3.86150926e-02,  2.20830038e-01,  3.53094012e-01,\n",
              "       -5.36951162e-02,  2.74287760e-01, -1.32607436e-02, -9.66979787e-02,\n",
              "        3.73590827e-01,  1.08535886e-01,  8.83055925e-02, -6.06609173e-02,\n",
              "        3.70432764e-01,  4.78624366e-02, -7.68651590e-02,  2.08416954e-01,\n",
              "        8.09667483e-02,  1.58002332e-01, -9.87253636e-02, -1.81503538e-02,\n",
              "        1.90794438e-01, -8.43296200e-02, -7.51670264e-03,  8.58364701e-02,\n",
              "       -2.24940047e-01,  4.02894557e-01,  2.37407282e-01,  1.40295744e-01,\n",
              "        1.30581066e-01,  2.12097779e-01, -1.54696569e-01,  1.10320829e-01,\n",
              "        4.34557348e-01, -1.67895913e-01, -2.30428189e-01, -1.63401991e-01,\n",
              "        6.21259473e-02,  1.99790224e-01,  9.17698294e-02, -2.12130025e-01,\n",
              "       -2.56798923e-01,  2.29943827e-01,  2.19164893e-01, -1.86206937e-01,\n",
              "        7.10674897e-02, -2.96475142e-01,  3.38392705e-02,  4.40870374e-02,\n",
              "       -1.46374524e-01,  2.07967728e-01,  2.42645755e-01,  1.92042127e-01,\n",
              "       -2.92869806e-01,  8.84971470e-02, -2.42624894e-01, -3.39390904e-01,\n",
              "        3.24153960e-01,  9.78472009e-02, -4.33934987e-01, -1.04293555e-01,\n",
              "        9.92267355e-02, -1.39941365e-01, -1.85855642e-01,  8.02526549e-02,\n",
              "       -2.28341386e-01,  2.21660823e-01, -5.64161688e-02,  2.06517667e-01,\n",
              "       -3.81650269e-01, -1.37155075e-02,  1.88868985e-01, -3.52324843e-02],\n",
              "      dtype=float32)"
            ]
          },
          "metadata": {},
          "execution_count": 119
        }
      ]
    },
    {
      "cell_type": "code",
      "source": [
        "chicken_run_vector"
      ],
      "metadata": {
        "colab": {
          "base_uri": "https://localhost:8080/"
        },
        "id": "l6VPuj5kHtNA",
        "outputId": "c216f25f-78fa-4457-91d5-c6dedc1c2b24"
      },
      "execution_count": null,
      "outputs": [
        {
          "output_type": "execute_result",
          "data": {
            "text/plain": [
              "array([ 3.27575691e-02,  1.41779091e-02,  7.67479884e-03,  3.35771367e-02,\n",
              "       -3.18204649e-02, -3.89600173e-02,  4.89066616e-02,  5.35822287e-03,\n",
              "       -5.90545498e-02, -2.53488310e-04, -3.81781757e-02, -4.04532393e-03,\n",
              "        5.94547652e-02,  3.94766480e-02, -2.22946629e-02,  1.60892867e-02,\n",
              "       -1.34735014e-02,  1.44637367e-02, -3.09066586e-02, -7.30219260e-02,\n",
              "        6.44242018e-03, -1.26195047e-02, -1.75346751e-02,  9.51057673e-03,\n",
              "        4.58699726e-02, -4.76089828e-02,  1.40704690e-02, -4.41891290e-02,\n",
              "        9.85765923e-03,  2.09001489e-02, -5.53288357e-03, -2.79018495e-05,\n",
              "        1.16414949e-02, -2.05404498e-02,  2.27376744e-02, -6.87794760e-02,\n",
              "        1.63687374e-02,  5.62020428e-02, -7.92438816e-03, -2.27791090e-02,\n",
              "        1.69931129e-02,  2.94721629e-02, -2.22893152e-02,  6.72089085e-02,\n",
              "       -1.09458193e-02, -2.52839681e-02,  2.94379164e-02, -2.74646818e-03,\n",
              "       -5.76896407e-02, -7.16549009e-02, -3.97881530e-02, -7.77243404e-03,\n",
              "       -1.28800105e-02,  5.73207065e-02,  2.07721908e-02,  3.22639458e-02,\n",
              "       -1.30653931e-02,  6.92835897e-02, -1.08527802e-02,  2.67428672e-03,\n",
              "        3.59541401e-02, -7.44783431e-02, -3.41507569e-02, -4.03316133e-02,\n",
              "       -2.08909381e-02,  4.23626341e-02,  2.27899794e-02,  5.42334467e-02,\n",
              "        8.34876113e-03,  4.69188429e-02,  3.87593322e-02,  2.82575116e-02,\n",
              "        2.13697813e-02, -2.68734153e-02, -5.45243844e-02, -2.07761209e-02,\n",
              "        4.85028103e-02,  1.17756575e-02, -1.19134793e-02, -1.85507126e-02,\n",
              "        2.92599816e-02, -1.82018802e-02, -1.73850497e-03, -1.10135237e-02,\n",
              "       -3.09061781e-02,  2.75726151e-02,  1.35875689e-02,  3.41090448e-02,\n",
              "        2.90354006e-02,  1.25505608e-02,  4.67930697e-02,  1.72714852e-02,\n",
              "        1.91110205e-02,  1.34512242e-02, -1.45493299e-02, -2.35100202e-02,\n",
              "        8.47640112e-02,  4.05092686e-02,  4.38420996e-02, -7.85194337e-02,\n",
              "       -2.63257027e-02, -2.70340052e-02,  3.59759554e-02, -2.95123813e-04,\n",
              "        1.58094317e-02,  7.13415537e-03, -3.23148072e-02, -5.28316237e-02,\n",
              "        5.99681213e-03,  3.28105763e-02, -2.26625148e-02, -4.26583290e-02,\n",
              "        4.78655435e-02,  4.59968448e-02, -1.37909157e-02, -2.17056740e-02,\n",
              "       -2.80349385e-02,  6.35156855e-02,  2.66446639e-02,  3.46604250e-02,\n",
              "        1.61982495e-02,  2.27623107e-03,  7.09220469e-02, -3.35765481e-02,\n",
              "        2.62293909e-02,  1.52709626e-03,  1.70837231e-02,  3.68813649e-02,\n",
              "        3.24404775e-03, -3.96795385e-02, -3.54036363e-03, -2.80511566e-02,\n",
              "       -9.92884766e-03,  6.62903041e-02,  3.51713523e-02,  4.54565659e-02,\n",
              "       -2.81728664e-03, -1.21158722e-03, -2.83266976e-02,  3.59923840e-02,\n",
              "       -2.77165677e-02, -7.97471683e-03,  1.44192223e-02,  6.80692634e-03,\n",
              "        4.20440659e-02,  1.31342122e-02,  8.81478470e-03,  4.10688818e-02,\n",
              "        4.36676666e-03,  9.71550704e-04,  4.46705753e-03, -2.70175450e-02,\n",
              "       -3.70638631e-02,  4.84076954e-05,  4.36732918e-02, -2.14648210e-02,\n",
              "       -8.37709941e-03, -6.99967239e-03, -4.71682614e-03,  6.30880147e-03,\n",
              "       -8.27493612e-03,  4.86589503e-03, -3.54389288e-03, -2.29111817e-02,\n",
              "       -7.06146983e-03,  7.31751847e-04,  1.75419019e-03, -6.61517540e-03,\n",
              "        2.00164560e-02, -5.52773941e-03,  1.86888184e-02,  2.03751435e-04,\n",
              "       -5.11498610e-03,  1.90832801e-02,  8.53106938e-03,  4.49106619e-02,\n",
              "       -4.17868886e-03, -2.38449425e-02,  2.59875413e-02, -5.23082800e-02,\n",
              "       -1.34814316e-02,  3.54101472e-02, -5.82947619e-02,  3.38161201e-03,\n",
              "        6.62333667e-02, -5.75427990e-03, -5.69769274e-03,  1.73530262e-02,\n",
              "       -6.34803548e-02,  9.45923477e-03, -3.49488063e-03,  3.62478942e-02,\n",
              "       -3.25423144e-02, -2.31180759e-03,  1.12250242e-02,  4.44979481e-02,\n",
              "        8.81007686e-03,  3.27094160e-02,  3.69899571e-02,  1.76827330e-02,\n",
              "       -2.30715275e-02, -1.64541528e-02,  2.19121613e-02,  5.91508411e-02,\n",
              "       -1.14879869e-02, -3.80663797e-02, -5.26815765e-02,  7.33702770e-03,\n",
              "        6.98985606e-02,  3.91727239e-02,  3.18757929e-02,  2.08348949e-02,\n",
              "       -3.09480149e-02, -1.62651134e-03, -4.04652916e-02, -5.38053252e-02,\n",
              "        9.77353426e-04, -1.67035852e-02,  7.62619600e-02, -4.93978709e-02,\n",
              "       -2.39440426e-02,  1.86999124e-02,  3.35743427e-02, -5.71701489e-02,\n",
              "       -2.78380327e-02, -3.16443518e-02,  2.26387680e-02, -2.82336790e-02,\n",
              "       -1.42763392e-03,  5.28060459e-02,  4.25247252e-02, -1.27681587e-02,\n",
              "       -1.18146241e-02,  2.89726369e-02, -1.67848784e-02,  2.28191763e-02,\n",
              "        2.71150041e-02,  8.54666717e-03,  5.54531403e-02,  3.59024182e-02,\n",
              "        1.39232138e-02, -2.73906104e-02, -1.61369741e-02,  7.73781212e-03,\n",
              "       -2.59384140e-02,  3.55862677e-02,  4.53385003e-02, -7.37930275e-03,\n",
              "        4.52866685e-03,  2.27754880e-02,  1.44594815e-02, -1.58595257e-02,\n",
              "       -3.74909095e-03,  4.48784716e-02,  1.87746175e-02, -3.26896720e-02,\n",
              "        3.22454944e-02,  4.81446534e-02, -8.46536551e-03,  4.85646203e-02,\n",
              "        2.91364715e-02,  1.04889246e-02, -2.61756033e-02,  3.53996679e-02,\n",
              "        2.52359491e-02, -6.98013837e-03, -1.97543167e-02,  3.67933065e-02,\n",
              "       -3.89013514e-02,  3.16678286e-02,  6.05330691e-02, -1.13947736e-02,\n",
              "        4.18669693e-02, -2.03178506e-02, -6.63392544e-02,  2.07566656e-02,\n",
              "       -2.55261194e-02, -1.43944649e-02, -1.23634655e-02, -1.54974796e-02,\n",
              "       -5.49991848e-03,  1.17988074e-02, -1.46999583e-03, -2.84266695e-02,\n",
              "        7.38912448e-02,  1.55790867e-02, -9.37033328e-04,  3.13387737e-02,\n",
              "        1.42232645e-02, -4.60978365e-03,  4.44476828e-02, -1.83228347e-02,\n",
              "        4.18689242e-03,  3.64089496e-02,  4.99965400e-02,  1.51514607e-02,\n",
              "        2.13004351e-02,  4.57127392e-02,  2.84852204e-03, -1.07157640e-02],\n",
              "      dtype=float32)"
            ]
          },
          "metadata": {},
          "execution_count": 120
        }
      ]
    },
    {
      "cell_type": "code",
      "source": [
        "np.dot(jumi_vector, chicken_run_vector)"
      ],
      "metadata": {
        "colab": {
          "base_uri": "https://localhost:8080/"
        },
        "id": "ZeXFe03JHvoN",
        "outputId": "70de2764-1805-4525-dc76-9a313281487a"
      },
      "execution_count": null,
      "outputs": [
        {
          "output_type": "execute_result",
          "data": {
            "text/plain": [
              "0.84039736"
            ]
          },
          "metadata": {},
          "execution_count": 121
        }
      ]
    },
    {
      "cell_type": "markdown",
      "source": [
        "1에 가까우면 좋겠는데 그래도 0.6이면 나쁘지않네요, factor를 늘리거나 iteration을 늘려야 할 것 같답니다?  \n",
        "-> factor를 500, iteration을 30으로 했더니 1에 가까운 0.9153 값이 나왔네요!"
      ],
      "metadata": {
        "id": "pfCuM9TpH0Bn"
      }
    },
    {
      "cell_type": "code",
      "source": [
        "toy_story = movie_id_to_idx['toy story (1995)']\n",
        "toy_vector = als_model.item_factors[toy_story]\n",
        "np.dot(jumi_vector, toy_vector)"
      ],
      "metadata": {
        "id": "x8JuxXuRso-k",
        "colab": {
          "base_uri": "https://localhost:8080/"
        },
        "outputId": "8f538657-99ed-49c2-d52d-722fd974dba8"
      },
      "execution_count": null,
      "outputs": [
        {
          "output_type": "execute_result",
          "data": {
            "text/plain": [
              "0.095197596"
            ]
          },
          "metadata": {},
          "execution_count": 122
        }
      ]
    },
    {
      "cell_type": "code",
      "source": [
        "s_list = movie_id_to_idx[\"schindler's list (1993)\"]\n",
        "s_list_vector = als_model.item_factors[s_list]\n",
        "np.dot(jumi_vector, s_list_vector)"
      ],
      "metadata": {
        "colab": {
          "base_uri": "https://localhost:8080/"
        },
        "id": "4Uamn1drIjUm",
        "outputId": "fcc18310-31cb-427d-e7e9-6cd1b81dde6b"
      },
      "execution_count": null,
      "outputs": [
        {
          "output_type": "execute_result",
          "data": {
            "text/plain": [
              "0.09148958"
            ]
          },
          "metadata": {},
          "execution_count": 123
        }
      ]
    },
    {
      "cell_type": "markdown",
      "source": [
        "## **7) 내가 좋아하는 영화와 비슷한 영화를 추천받아 봅시다.**"
      ],
      "metadata": {
        "id": "HTVV13vHsp64"
      }
    },
    {
      "cell_type": "markdown",
      "source": [
        "AlternatingLeastSquares 클래스에 구현되어 있는 `similar_items` 메서드를 통하여 비슷한 영화를 찾습니다. 아까도 사용했던 치킨런으로 비슷한 영화를 추천받아보겠습니다."
      ],
      "metadata": {
        "id": "pIHZqqBxW6xg"
      }
    },
    {
      "cell_type": "code",
      "source": [
        "favorite_movie = 'chicken run (2000)'\n",
        "artist_id = movie_id_to_idx[favorite_movie]\n",
        "similar_movie = als_model.similar_items(artist_id, N=15)\n",
        "similar_movie"
      ],
      "metadata": {
        "id": "c_TqBIyGstL4",
        "colab": {
          "base_uri": "https://localhost:8080/"
        },
        "outputId": "6e91ca71-fb46-4f12-ce22-fc4d78526800"
      },
      "execution_count": null,
      "outputs": [
        {
          "output_type": "execute_result",
          "data": {
            "text/plain": [
              "[(3433, 1.0),\n",
              " (3307, 0.25984147),\n",
              " (3436, 0.25901368),\n",
              " (693, 0.24769531),\n",
              " (1107, 0.24218953),\n",
              " (1300, 0.23908626),\n",
              " (3130, 0.23876856),\n",
              " (3428, 0.23227207),\n",
              " (3182, 0.22387223),\n",
              " (3262, 0.22027485),\n",
              " (3510, 0.21412477),\n",
              " (3304, 0.20749384),\n",
              " (3430, 0.20607232),\n",
              " (3252, 0.20495552),\n",
              " (2372, 0.20366952)]"
            ]
          },
          "metadata": {},
          "execution_count": 124
        }
      ]
    },
    {
      "cell_type": "markdown",
      "source": [
        "(영화id, 유사도) 형태의 tuple로 반환하고 있습니다. 영화 id를 다시 영화 이름으로 매핑시켜줍니다."
      ],
      "metadata": {
        "id": "Iu5je8VbXEY5"
      }
    },
    {
      "cell_type": "code",
      "source": [
        "# movie_id_to_idx 를 뒤집어, index로부터 movie 이름을 얻는 dict를 생성합니다. \n",
        "idx_to_movie_id = {v:k for k,v in movie_id_to_idx.items()}\n",
        "[idx_to_movie_id[i[0]] for i in similar_movie]"
      ],
      "metadata": {
        "colab": {
          "base_uri": "https://localhost:8080/"
        },
        "id": "I1SOCgJOKAiA",
        "outputId": "3b26e3c5-5934-45b4-8525-ee78b373a9e1"
      },
      "execution_count": null,
      "outputs": [
        {
          "output_type": "execute_result",
          "data": {
            "text/plain": [
              "['chicken run (2000)',\n",
              " 'small time crooks (2000)',\n",
              " 'adventures of rocky and bullwinkle, the (2000)',\n",
              " 'close shave, a (1995)',\n",
              " 'grand day out, a (1992)',\n",
              " 'machine, the (1994)',\n",
              " 'creature comforts (1990)',\n",
              " 'titan a.e. (2000)',\n",
              " 'road to el dorado, the (2000)',\n",
              " 'idiots, the (idioterne) (1998)',\n",
              " 'saving grace (2000)',\n",
              " 'dinosaur (2000)',\n",
              " \"jesus' son (1999)\",\n",
              " 'virgin suicides, the (1999)',\n",
              " \"trippin' (1999)\"]"
            ]
          },
          "metadata": {},
          "execution_count": 125
        }
      ]
    },
    {
      "cell_type": "code",
      "source": [
        "def get_similar_movie(movie_name: str):\n",
        "    movie_id = movie_id_to_idx[movie_name]\n",
        "    similar_movie = als_model.similar_items(movie_id)\n",
        "    similar_movie = [idx_to_movie_id[i[0]] for i in similar_movie]\n",
        "    return similar_movie\n",
        "\n",
        "print(\"슝=3\")"
      ],
      "metadata": {
        "colab": {
          "base_uri": "https://localhost:8080/"
        },
        "id": "abBUjf2dKWoD",
        "outputId": "f5ad9640-38c3-40c4-ea35-219924321ff1"
      },
      "execution_count": null,
      "outputs": [
        {
          "output_type": "stream",
          "name": "stdout",
          "text": [
            "슝=3\n"
          ]
        }
      ]
    },
    {
      "cell_type": "code",
      "source": [
        "get_similar_movie('shawshank redemption, the (1994)')"
      ],
      "metadata": {
        "colab": {
          "base_uri": "https://localhost:8080/"
        },
        "id": "aOEN4PgvKf59",
        "outputId": "77a5be19-77bc-414c-e044-3ea41beb237b"
      },
      "execution_count": null,
      "outputs": [
        {
          "output_type": "execute_result",
          "data": {
            "text/plain": [
              "['shawshank redemption, the (1994)',\n",
              " 'good will hunting (1997)',\n",
              " 'rage: carrie 2, the (1999)',\n",
              " 'silence of the lambs, the (1991)',\n",
              " 'goodfellas (1990)',\n",
              " 'pulp fiction (1994)',\n",
              " 'jerry & tom (1998)',\n",
              " 'ulysses (ulisse) (1954)',\n",
              " 'innocents, the (1961)',\n",
              " \"schindler's list (1993)\"]"
            ]
          },
          "metadata": {},
          "execution_count": 127
        }
      ]
    },
    {
      "cell_type": "markdown",
      "source": [
        "실화기반, 드라마 장르의 영화들이 꽤 나왔습니다. 비슷한 것 같습니다."
      ],
      "metadata": {
        "id": "JocuV5lyUuIi"
      }
    },
    {
      "cell_type": "code",
      "source": [
        "get_similar_movie('pulp fiction (1994)')"
      ],
      "metadata": {
        "colab": {
          "base_uri": "https://localhost:8080/"
        },
        "id": "ACUG5TS2KlTH",
        "outputId": "4a0db74c-9fad-4673-e7d5-dd06c6b0e072"
      },
      "execution_count": null,
      "outputs": [
        {
          "output_type": "execute_result",
          "data": {
            "text/plain": [
              "['pulp fiction (1994)',\n",
              " 'goodfellas (1990)',\n",
              " 'reservoir dogs (1992)',\n",
              " 'fargo (1996)',\n",
              " 'back stage (2000)',\n",
              " 'jackie brown (1997)',\n",
              " 'shawshank redemption, the (1994)',\n",
              " 'usual suspects, the (1995)',\n",
              " 'condition red (1995)',\n",
              " 'good will hunting (1997)']"
            ]
          },
          "metadata": {},
          "execution_count": 128
        }
      ]
    },
    {
      "cell_type": "markdown",
      "source": [
        "좋은 친구들, 저수지의 개들 같은 매우 유사한 장르의 영화가 많이 나왔네요. 저수지의 개들은 펄프픽션의 감독과 같은 쿠엔틴 타란티노 감독의 작품으로, 아주 비슷한 영화죠!"
      ],
      "metadata": {
        "id": "5XcrNNXKUziX"
      }
    },
    {
      "cell_type": "markdown",
      "source": [
        "## **8) 내가 가장 좋아할 만한 영화들을 추천받아 봅시다.**"
      ],
      "metadata": {
        "id": "_Q0iE8eusudT"
      }
    },
    {
      "cell_type": "markdown",
      "source": [
        "AlternatingLeastSquares 클래스에 구현되어 있는 `recommend` 메서드를 통하여 제가 좋아할 만한 영화를 추천받습니다. filter_already_liked_items 는 유저가 이미 평가한 아이템은 제외하는 Argument입니다."
      ],
      "metadata": {
        "id": "hutg0BnHXsl7"
      }
    },
    {
      "cell_type": "code",
      "source": [
        "user = user_to_idx['jumi']\n",
        "# recommend에서는 user*item CSR Matrix를 받습니다.\n",
        "movie_recommended = als_model.recommend(user, csr_data, N=20, filter_already_liked_items=True)\n",
        "movie_recommended"
      ],
      "metadata": {
        "id": "2RjzAf3xswVR",
        "colab": {
          "base_uri": "https://localhost:8080/"
        },
        "outputId": "06d65e4a-2a41-49dc-be78-7c2e6c23aad1"
      },
      "execution_count": null,
      "outputs": [
        {
          "output_type": "execute_result",
          "data": {
            "text/plain": [
              "[(587, 0.24533886),\n",
              " (2845, 0.2412419),\n",
              " (1097, 0.20556715),\n",
              " (2878, 0.1849227),\n",
              " (2155, 0.17297412),\n",
              " (1109, 0.1513806),\n",
              " (2056, 0.14446332),\n",
              " (3231, 0.14146689),\n",
              " (1547, 0.13779077),\n",
              " (1532, 0.13693616),\n",
              " (3270, 0.13301389),\n",
              " (573, 0.12851314),\n",
              " (3304, 0.12807454),\n",
              " (2877, 0.12622863),\n",
              " (2470, 0.12322686),\n",
              " (3180, 0.122345924),\n",
              " (2968, 0.122273766),\n",
              " (995, 0.11962016),\n",
              " (35, 0.11889484),\n",
              " (2406, 0.11657454)]"
            ]
          },
          "metadata": {},
          "execution_count": 129
        }
      ]
    },
    {
      "cell_type": "code",
      "source": [
        "[idx_to_movie_id[i[0]] for i in movie_recommended]"
      ],
      "metadata": {
        "colab": {
          "base_uri": "https://localhost:8080/"
        },
        "id": "jICYf1-PKoF1",
        "outputId": "88d1643d-88f9-4e38-ba8b-719012a1bd1e"
      },
      "execution_count": null,
      "outputs": [
        {
          "output_type": "execute_result",
          "data": {
            "text/plain": [
              "['fargo (1996)',\n",
              " 'toy story 2 (1999)',\n",
              " 'goodfellas (1990)',\n",
              " 'cider house rules, the (1999)',\n",
              " 'shakespeare in love (1998)',\n",
              " 'amadeus (1984)',\n",
              " 'antz (1998)',\n",
              " '28 days (2000)',\n",
              " 'jackie brown (1997)',\n",
              " 'good will hunting (1997)',\n",
              " 'gladiator (2000)',\n",
              " 'silence of the lambs, the (1991)',\n",
              " 'dinosaur (2000)',\n",
              " 'green mile, the (1999)',\n",
              " 'runaway bride (1999)',\n",
              " 'high fidelity (2000)',\n",
              " \"wayne's world (1992)\",\n",
              " 'reservoir dogs (1992)',\n",
              " 'dead man walking (1995)',\n",
              " 'rocky horror picture show, the (1975)']"
            ]
          },
          "metadata": {},
          "execution_count": 130
        }
      ]
    },
    {
      "cell_type": "markdown",
      "source": [
        "좋은 친구들을 추천해주네요! 왠지 펄프픽션 때문인 것 같습니다."
      ],
      "metadata": {
        "id": "E3haMMncYCPn"
      }
    },
    {
      "cell_type": "code",
      "source": [
        "toy_story = movie_id_to_idx['goodfellas (1990)']\n",
        "explain = als_model.explain(user, csr_data, itemid=toy_story)"
      ],
      "metadata": {
        "id": "C1Ce4JBeKo6e"
      },
      "execution_count": null,
      "outputs": []
    },
    {
      "cell_type": "code",
      "source": [
        "[(idx_to_movie_id[i[0]], i[1]) for i in explain[1]]"
      ],
      "metadata": {
        "colab": {
          "base_uri": "https://localhost:8080/"
        },
        "id": "papWtwbAKpwX",
        "outputId": "2cd3df08-ca94-4d5a-c8db-9e814710af30"
      },
      "execution_count": null,
      "outputs": [
        {
          "output_type": "execute_result",
          "data": {
            "text/plain": [
              "[('pulp fiction (1994)', 0.1770970355960667),\n",
              " ('shawshank redemption, the (1994)', 0.06608828557387775),\n",
              " (\"bug's life, a (1998)\", 0.005277838169644559),\n",
              " ('erin brockovich (2000)', -0.015549937634761927),\n",
              " ('chicken run (2000)', -0.028206468913068435)]"
            ]
          },
          "metadata": {},
          "execution_count": 132
        }
      ]
    },
    {
      "cell_type": "markdown",
      "source": [
        "음.. 기여도가 전체적으로 낮긴 한데 제 예상처럼 펄프픽션이 가장 기여도 비중이 높습니다. 펄프픽션때문에 추천해준듯"
      ],
      "metadata": {
        "id": "KO4gXN-9YPiM"
      }
    },
    {
      "cell_type": "markdown",
      "source": [
        "## 🌮 루브릭\n",
        "| **평가문항** | **상세기준** | **성취결과** |\n",
        "|:---:|---|:---:|\n",
        "| 1. CSR matrix가 정상적으로 만들어졌다. | 사용자와 아이템 개수를 바탕으로 정확한 사이즈로 만들었다. | O |\n",
        "| 2. MF 모델이 정상적으로 훈련되어 그럴듯한 추천이 이루어졌다. | 사용자와 아이템 벡터 내적수치가 의미있게 형성되었다. | O |\n",
        "| 3. 비슷한 영화 찾기와 유저에게 추천하기의 과정이 정상적으로 진행되었다. | MF모델이 예측한 유저 선호도 및 아이템간 유사도, 기여도를 측정하고 의미를 분석해보았다. | O |"
      ],
      "metadata": {
        "id": "94bplifds5M8"
      }
    },
    {
      "cell_type": "markdown",
      "source": [
        "## ✍ 회고"
      ],
      "metadata": {
        "id": "kkxI_d0ds3FM"
      }
    },
    {
      "cell_type": "markdown",
      "source": [
        "* csr 행렬 생성에서 오류가 생겼다. 인덱스가 뭐 범위밖이라나? 세영님이 버전 문제일거라고 하셔서 lms 버전이랑 일치시켜줬다. thx 🙏 (implicit)   \n",
        "그런데 `Could not build wheels for implicit which use PEP 517 and cannot be installed directly` 이라는 오류가 또 생겨서 검색해보니   \n",
        "`pip install --upgrade pip setuptools wheel` 한줄 실행해주면 된다고 해서 그대로 했다.  \n",
        "성공!\n",
        "\n"
      ],
      "metadata": {
        "id": "EDcJBKxXPiQg"
      }
    },
    {
      "cell_type": "markdown",
      "source": [
        "* 나의 선호 영화와 나의 csr 벡터를 내적했을 때 1에 가까이 나와야 한다고 했는데, 초반에 0.6? 정도가 나와서 iteration과 factor를 두배로 늘려줬다. 그 결과 chicken run은 0.9에 육박하는 결과가 나왔지만,, 쇼생크 탈출과 펄프픽션 같은 영화는 0에 가까운 값이 나왔다. 과적합된것일까?  \n",
        "    * factor, iteration을 적절하게 조절해 본 결과, 적절한 평형을 유지하는 그 지점을 찾는게 좋아보인다. 지금 결과값으로는 치킨런이 0.8정도고, 토이스토리와 쉰들러리스트는 0.1이 나온다. 이전 시행에서 0.9와 0.01이 나온 것보다는 낫다고 생각."
      ],
      "metadata": {
        "id": "oGo--Bx6QtS6"
      }
    },
    {
      "cell_type": "markdown",
      "source": [
        "* 마지막에 내가 좋아할 것 같은 영화들을 추천해줬는데, 최신 DB로 했으면 더 재밌고 공감됐을 것 같다는 생각이 들었다. 그렇지만 현재 데이터로 만든 결과도 꽤 정확했다. 어떤 영화때문에 추천해 준지 알 것 같았고, 평점을 시청시간으로 간주해서 평점이 높은 영화들 위주로 추천해준게 보였다.  \n",
        "다만 평점을 시청시간으로 간주해서 좀 부정확하게 느껴졌고 정확한 시청시간을 안다거나 암묵적인 평가를 더 추가해서 csr 행렬을 만든다면 더욱 성능 좋은 추천 시스템을 만들수 있겠다고 생각이 되었다."
      ],
      "metadata": {
        "id": "ehp50YZiZVSJ"
      }
    },
    {
      "cell_type": "markdown",
      "source": [
        "* 펄프 픽션, 치킨런, 쇼생크탈출.. 같은 내 영화 variation이 넓기도 해서 부정확한 결과가 좀 나온듯 하다. 액션/애니메이션/실화기반 드라마? 가 한데 모임. 그런데 이런 잡식성 취향도 잘 분석을 해서 추천해줘야 진정한 추천 시스템이 아닐까?!!!"
      ],
      "metadata": {
        "id": "D9SNEobFRrLy"
      }
    },
    {
      "cell_type": "markdown",
      "source": [
        "* 그리고 프로젝트 전 사전 실습에서 spotify 데이터셋을 이용해서 추천했는데, 너무 재밌었다! spotify 를 쓰고 있기도 하고, 2010년도에도 외국노래를 나름 활발하게 들었던 사람으로서,,, 반가운 이름들도 많이 보였고 재밌었다. 역시 내 생활과 밀접한 관련이 있는 내용은 더 흥미롭다."
      ],
      "metadata": {
        "id": "SHDa9CvWaDSV"
      }
    },
    {
      "cell_type": "markdown",
      "source": [
        "### 📚 참고문헌 "
      ],
      "metadata": {
        "id": "1E5ophv7uxKG"
      }
    },
    {
      "cell_type": "markdown",
      "source": [
        "[패키지 설치 시 PEP 오류 해결 방법](https://heehehe-ds.tistory.com/entry/Python-%ED%8C%A8%ED%82%A4%EC%A7%80-%EC%84%A4%EC%B9%98-%EC%8B%9C-PEP-%EC%98%A4%EB%A5%98-%ED%95%B4%EA%B2%B0-%EB%B0%A9%EB%B2%95)"
      ],
      "metadata": {
        "id": "rboR4InUQA19"
      }
    }
  ]
}