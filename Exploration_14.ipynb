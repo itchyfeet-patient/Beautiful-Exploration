{
  "nbformat": 4,
  "nbformat_minor": 0,
  "metadata": {
    "colab": {
      "provenance": [],
      "collapsed_sections": [],
      "machine_shape": "hm",
      "mount_file_id": "1Y71trQe0EVpHz-NsI17IxZUV8YfSgsUJ",
      "authorship_tag": "ABX9TyMUNHMrl1hVw/FMtWHobIaX",
      "include_colab_link": true
    },
    "kernelspec": {
      "name": "python3",
      "display_name": "Python 3"
    },
    "language_info": {
      "name": "python"
    },
    "accelerator": "GPU",
    "gpuClass": "standard"
  },
  "cells": [
    {
      "cell_type": "markdown",
      "metadata": {
        "id": "view-in-github",
        "colab_type": "text"
      },
      "source": [
        "<a href=\"https://colab.research.google.com/github/itchyfeet-patient/Beautiful-Exploration/blob/master/Exploration_14.ipynb\" target=\"_parent\"><img src=\"https://colab.research.google.com/assets/colab-badge.svg\" alt=\"Open In Colab\"/></a>"
      ]
    },
    {
      "cell_type": "markdown",
      "source": [
        "# **14-14. 프로젝트: 한국어 데이터로 챗봇 만들기** 🔊 👄 \n",
        "영어로 만들었던 챗봇을 한국어 데이터로 바꿔서 훈련시켜봅시다.\n",
        "\n",
        "시작하기 전에 우선 주요 라이브러리 버전을 확인해 봅시다."
      ],
      "metadata": {
        "id": "vl7saVQ-kh0g"
      }
    },
    {
      "cell_type": "code",
      "execution_count": null,
      "metadata": {
        "id": "NGgg5IrpG50O",
        "colab": {
          "base_uri": "https://localhost:8080/"
        },
        "outputId": "6f7f02cd-f078-4505-a26c-973bd0c10043"
      },
      "outputs": [
        {
          "output_type": "stream",
          "name": "stdout",
          "text": [
            "2.8.2\n"
          ]
        }
      ],
      "source": [
        "import pandas as pd\n",
        "import tensorflow as tf\n",
        "import tensorflow_datasets as tfds\n",
        "import os\n",
        "import re\n",
        "import numpy as np\n",
        "import matplotlib.pyplot as plt\n",
        "\n",
        "print(tf.__version__)"
      ]
    },
    {
      "cell_type": "markdown",
      "source": [
        "## ✨ 함수모음"
      ],
      "metadata": {
        "id": "qk5cuh_XUEsx"
      }
    },
    {
      "cell_type": "code",
      "execution_count": null,
      "metadata": {
        "colab": {
          "base_uri": "https://localhost:8080/"
        },
        "id": "aZDOCD3-QmbV",
        "outputId": "50f1faa9-4281-4909-b2b8-f6b6a4db551a"
      },
      "outputs": [
        {
          "output_type": "stream",
          "name": "stdout",
          "text": [
            "슝=3\n"
          ]
        }
      ],
      "source": [
        "# 포지셔널 인코딩 레이어\n",
        "class PositionalEncoding(tf.keras.layers.Layer):\n",
        "\n",
        "  def __init__(self, position, d_model):\n",
        "    super(PositionalEncoding, self).__init__()\n",
        "    self.pos_encoding = self.positional_encoding(position, d_model)\n",
        "\n",
        "  def get_angles(self, position, i, d_model):\n",
        "    angles = 1 / tf.pow(10000, (2 * (i // 2)) / tf.cast(d_model, tf.float32))\n",
        "    return position * angles\n",
        "\n",
        "  def positional_encoding(self, position, d_model):\n",
        "    # 각도 배열 생성\n",
        "    angle_rads = self.get_angles(\n",
        "        position=tf.range(position, dtype=tf.float32)[:, tf.newaxis],\n",
        "        i=tf.range(d_model, dtype=tf.float32)[tf.newaxis, :],\n",
        "        d_model=d_model)\n",
        "\n",
        "    # 배열의 짝수 인덱스에는 sin 함수 적용\n",
        "    sines = tf.math.sin(angle_rads[:, 0::2])\n",
        "    # 배열의 홀수 인덱스에는 cosine 함수 적용\n",
        "    cosines = tf.math.cos(angle_rads[:, 1::2])\n",
        "\n",
        "    # sin과 cosine이 교차되도록 재배열\n",
        "    pos_encoding = tf.stack([sines, cosines], axis=0)\n",
        "    pos_encoding = tf.transpose(pos_encoding,[1, 2, 0]) \n",
        "    pos_encoding = tf.reshape(pos_encoding, [position, d_model])\n",
        "\n",
        "    pos_encoding = pos_encoding[tf.newaxis, ...]\n",
        "    return tf.cast(pos_encoding, tf.float32)\n",
        "\n",
        "  def call(self, inputs):\n",
        "    return inputs + self.pos_encoding[:, :tf.shape(inputs)[1], :]\n",
        "\n",
        "print(\"슝=3\")"
      ]
    },
    {
      "cell_type": "code",
      "execution_count": null,
      "metadata": {
        "colab": {
          "base_uri": "https://localhost:8080/"
        },
        "outputId": "f951b888-ca90-4225-83ac-3d0b5df193ab",
        "id": "C0pmAUyK0pgE"
      },
      "outputs": [
        {
          "output_type": "stream",
          "name": "stdout",
          "text": [
            "슝=3\n"
          ]
        }
      ],
      "source": [
        "# 스케일드 닷 프로덕트 어텐션 함수\n",
        "def scaled_dot_product_attention(query, key, value, mask):\n",
        "  # 어텐션 가중치는 Q와 K의 닷 프로덕트\n",
        "  matmul_qk = tf.matmul(query, key, transpose_b=True)\n",
        "\n",
        "  # 가중치를 정규화\n",
        "  depth = tf.cast(tf.shape(key)[-1], tf.float32)\n",
        "  logits = matmul_qk / tf.math.sqrt(depth)\n",
        "\n",
        "  # 패딩에 마스크 추가\n",
        "  if mask is not None:\n",
        "    logits += (mask * -1e9)\n",
        "\n",
        "  # softmax적용\n",
        "  attention_weights = tf.nn.softmax(logits, axis=-1)\n",
        "\n",
        "  # 최종 어텐션은 가중치와 V의 닷 프로덕트\n",
        "  output = tf.matmul(attention_weights, value)\n",
        "  return output\n",
        "\n",
        "print(\"슝=3\")"
      ]
    },
    {
      "cell_type": "code",
      "execution_count": null,
      "metadata": {
        "colab": {
          "base_uri": "https://localhost:8080/"
        },
        "id": "OeUZs_jOcm6-",
        "outputId": "0774e2da-9527-48c3-ffef-8b9e96f97248"
      },
      "outputs": [
        {
          "output_type": "stream",
          "name": "stdout",
          "text": [
            "슝=3\n"
          ]
        }
      ],
      "source": [
        "class MultiHeadAttention(tf.keras.layers.Layer):\n",
        "\n",
        "  def __init__(self, d_model, num_heads, name=\"multi_head_attention\"):\n",
        "    super(MultiHeadAttention, self).__init__(name=name)\n",
        "    self.num_heads = num_heads\n",
        "    self.d_model = d_model\n",
        "\n",
        "    assert d_model % self.num_heads == 0\n",
        "\n",
        "    self.depth = d_model // self.num_heads\n",
        "\n",
        "    self.query_dense = tf.keras.layers.Dense(units=d_model)\n",
        "    self.key_dense = tf.keras.layers.Dense(units=d_model)\n",
        "    self.value_dense = tf.keras.layers.Dense(units=d_model)\n",
        "\n",
        "    self.dense = tf.keras.layers.Dense(units=d_model)\n",
        "\n",
        "  def split_heads(self, inputs, batch_size):\n",
        "    inputs = tf.reshape(\n",
        "        inputs, shape=(batch_size, -1, self.num_heads, self.depth))\n",
        "    return tf.transpose(inputs, perm=[0, 2, 1, 3])\n",
        "\n",
        "  def call(self, inputs):\n",
        "    query, key, value, mask = inputs['query'], inputs['key'], inputs[\n",
        "        'value'], inputs['mask']\n",
        "    batch_size = tf.shape(query)[0]\n",
        "\n",
        "    # Q, K, V에 각각 Dense를 적용합니다\n",
        "    query = self.query_dense(query)\n",
        "    key = self.key_dense(key)\n",
        "    value = self.value_dense(value)\n",
        "\n",
        "    # 병렬 연산을 위한 머리를 여러 개 만듭니다\n",
        "    query = self.split_heads(query, batch_size)\n",
        "    key = self.split_heads(key, batch_size)\n",
        "    value = self.split_heads(value, batch_size)\n",
        "\n",
        "    # 스케일드 닷 프로덕트 어텐션 함수\n",
        "    scaled_attention = scaled_dot_product_attention(query, key, value, mask)\n",
        "\n",
        "    scaled_attention = tf.transpose(scaled_attention, perm=[0, 2, 1, 3])\n",
        "\n",
        "    # 어텐션 연산 후에 각 결과를 다시 연결(concatenate)합니다\n",
        "    concat_attention = tf.reshape(scaled_attention,\n",
        "                                  (batch_size, -1, self.d_model))\n",
        "\n",
        "    # 최종 결과에도 Dense를 한 번 더 적용합니다\n",
        "    outputs = self.dense(concat_attention)\n",
        "\n",
        "    return outputs\n",
        "print(\"슝=3\")"
      ]
    },
    {
      "cell_type": "code",
      "execution_count": null,
      "metadata": {
        "colab": {
          "base_uri": "https://localhost:8080/"
        },
        "id": "dpVfzsa-cx5k",
        "outputId": "a202a360-0340-4605-b401-f7e2f10e4bcd"
      },
      "outputs": [
        {
          "output_type": "stream",
          "name": "stdout",
          "text": [
            "슝=3\n"
          ]
        }
      ],
      "source": [
        "def create_padding_mask(x):\n",
        "  mask = tf.cast(tf.math.equal(x, 0), tf.float32)\n",
        "  # (batch_size, 1, 1, sequence length)\n",
        "  return mask[:, tf.newaxis, tf.newaxis, :]\n",
        "print(\"슝=3\")"
      ]
    },
    {
      "cell_type": "code",
      "execution_count": null,
      "metadata": {
        "colab": {
          "base_uri": "https://localhost:8080/"
        },
        "id": "RJUjolTodcQr",
        "outputId": "e9814f8c-ba7b-4331-ed6f-dfadb7961583"
      },
      "outputs": [
        {
          "output_type": "stream",
          "name": "stdout",
          "text": [
            "슝=3\n"
          ]
        }
      ],
      "source": [
        "def create_look_ahead_mask(x):\n",
        "  seq_len = tf.shape(x)[1]\n",
        "  look_ahead_mask = 1 - tf.linalg.band_part(tf.ones((seq_len, seq_len)), -1, 0)\n",
        "  padding_mask = create_padding_mask(x)\n",
        "  return tf.maximum(look_ahead_mask, padding_mask)\n",
        "print(\"슝=3\")"
      ]
    },
    {
      "cell_type": "code",
      "execution_count": null,
      "metadata": {
        "colab": {
          "base_uri": "https://localhost:8080/"
        },
        "id": "4-WLW_vqeBm7",
        "outputId": "233d11e8-ec7d-4b55-e7b2-d6d6e24f275b"
      },
      "outputs": [
        {
          "output_type": "stream",
          "name": "stdout",
          "text": [
            "슝=3\n"
          ]
        }
      ],
      "source": [
        "# 인코더 하나의 레이어를 함수로 구현.\n",
        "# 이 하나의 레이어 안에는 두 개의 서브 레이어가 존재합니다.\n",
        "def encoder_layer(units, d_model, num_heads, dropout, name=\"encoder_layer\"):\n",
        "  inputs = tf.keras.Input(shape=(None, d_model), name=\"inputs\")\n",
        "\n",
        "  # 패딩 마스크 사용\n",
        "  padding_mask = tf.keras.Input(shape=(1, 1, None), name=\"padding_mask\")\n",
        "\n",
        "  # 첫 번째 서브 레이어 : 멀티 헤드 어텐션 수행 (셀프 어텐션)\n",
        "  attention = MultiHeadAttention(\n",
        "      d_model, num_heads, name=\"attention\")({\n",
        "          'query': inputs,\n",
        "          'key': inputs,\n",
        "          'value': inputs,\n",
        "          'mask': padding_mask\n",
        "      })\n",
        "\n",
        "  # 어텐션의 결과는 Dropout과 Layer Normalization이라는 훈련을 돕는 테크닉을 수행\n",
        "  attention = tf.keras.layers.Dropout(rate=dropout)(attention)\n",
        "  attention = tf.keras.layers.LayerNormalization(\n",
        "      epsilon=1e-6)(inputs + attention)\n",
        "\n",
        "  # 두 번째 서브 레이어 : 2개의 완전연결층\n",
        "  outputs = tf.keras.layers.Dense(units=units, activation='relu')(attention)\n",
        "  outputs = tf.keras.layers.Dense(units=d_model)(outputs)\n",
        "\n",
        "  # 완전연결층의 결과는 Dropout과 LayerNormalization이라는 훈련을 돕는 테크닉을 수행\n",
        "  outputs = tf.keras.layers.Dropout(rate=dropout)(outputs)\n",
        "  outputs = tf.keras.layers.LayerNormalization(\n",
        "      epsilon=1e-6)(attention + outputs)\n",
        "\n",
        "  return tf.keras.Model(\n",
        "      inputs=[inputs, padding_mask], outputs=outputs, name=name)\n",
        "print(\"슝=3\")"
      ]
    },
    {
      "cell_type": "code",
      "execution_count": null,
      "metadata": {
        "colab": {
          "base_uri": "https://localhost:8080/"
        },
        "id": "e73gD-3MeExg",
        "outputId": "ce2bf7a0-59c1-496b-ad27-a8bdba16f27d"
      },
      "outputs": [
        {
          "output_type": "stream",
          "name": "stdout",
          "text": [
            "슝=3\n"
          ]
        }
      ],
      "source": [
        "def encoder(vocab_size,\n",
        "            num_layers,\n",
        "            units,\n",
        "            d_model,\n",
        "            num_heads,\n",
        "            dropout,\n",
        "            name=\"encoder\"):\n",
        "  inputs = tf.keras.Input(shape=(None,), name=\"inputs\")\n",
        "\n",
        "  # 패딩 마스크 사용\n",
        "  padding_mask = tf.keras.Input(shape=(1, 1, None), name=\"padding_mask\")\n",
        "\n",
        "  # 임베딩 레이어\n",
        "  embeddings = tf.keras.layers.Embedding(vocab_size, d_model)(inputs)\n",
        "  embeddings *= tf.math.sqrt(tf.cast(d_model, tf.float32))\n",
        "\n",
        "  # 포지셔널 인코딩\n",
        "  embeddings = PositionalEncoding(vocab_size, d_model)(embeddings)\n",
        "\n",
        "  outputs = tf.keras.layers.Dropout(rate=dropout)(embeddings)\n",
        "\n",
        "  # num_layers만큼 쌓아올린 인코더의 층.\n",
        "  for i in range(num_layers):\n",
        "    outputs = encoder_layer(\n",
        "        units=units,\n",
        "        d_model=d_model,\n",
        "        num_heads=num_heads,\n",
        "        dropout=dropout,\n",
        "        name=\"encoder_layer_{}\".format(i),\n",
        "    )([outputs, padding_mask])\n",
        "\n",
        "  return tf.keras.Model(\n",
        "      inputs=[inputs, padding_mask], outputs=outputs, name=name)\n",
        "print(\"슝=3\")"
      ]
    },
    {
      "cell_type": "code",
      "execution_count": null,
      "metadata": {
        "colab": {
          "base_uri": "https://localhost:8080/"
        },
        "id": "N7MmqgvnejcP",
        "outputId": "0445bc7a-28e8-4886-d655-4a9b0860c61a"
      },
      "outputs": [
        {
          "output_type": "stream",
          "name": "stdout",
          "text": [
            "슝=3\n"
          ]
        }
      ],
      "source": [
        "# 디코더 하나의 레이어를 함수로 구현.\n",
        "# 이 하나의 레이어 안에는 세 개의 서브 레이어가 존재합니다.\n",
        "def decoder_layer(units, d_model, num_heads, dropout, name=\"decoder_layer\"):\n",
        "  inputs = tf.keras.Input(shape=(None, d_model), name=\"inputs\")\n",
        "  enc_outputs = tf.keras.Input(shape=(None, d_model), name=\"encoder_outputs\")\n",
        "  look_ahead_mask = tf.keras.Input(\n",
        "      shape=(1, None, None), name=\"look_ahead_mask\")\n",
        "  padding_mask = tf.keras.Input(shape=(1, 1, None), name='padding_mask')\n",
        "\n",
        "  # 첫 번째 서브 레이어 : 멀티 헤드 어텐션 수행 (셀프 어텐션)\n",
        "  attention1 = MultiHeadAttention(\n",
        "      d_model, num_heads, name=\"attention_1\")(inputs={\n",
        "          'query': inputs,\n",
        "          'key': inputs,\n",
        "          'value': inputs,\n",
        "          'mask': look_ahead_mask\n",
        "      })\n",
        "\n",
        "  # 멀티 헤드 어텐션의 결과는 LayerNormalization이라는 훈련을 돕는 테크닉을 수행\n",
        "  attention1 = tf.keras.layers.LayerNormalization(\n",
        "      epsilon=1e-6)(attention1 + inputs)\n",
        "\n",
        "  # 두 번째 서브 레이어 : 마스크드 멀티 헤드 어텐션 수행 (인코더-디코더 어텐션)\n",
        "  attention2 = MultiHeadAttention(\n",
        "      d_model, num_heads, name=\"attention_2\")(inputs={\n",
        "          'query': attention1,\n",
        "          'key': enc_outputs,\n",
        "          'value': enc_outputs,\n",
        "          'mask': padding_mask\n",
        "      })\n",
        "\n",
        "  # 마스크드 멀티 헤드 어텐션의 결과는\n",
        "  # Dropout과 LayerNormalization이라는 훈련을 돕는 테크닉을 수행\n",
        "  attention2 = tf.keras.layers.Dropout(rate=dropout)(attention2)\n",
        "  attention2 = tf.keras.layers.LayerNormalization(\n",
        "      epsilon=1e-6)(attention2 + attention1)\n",
        "\n",
        "  # 세 번째 서브 레이어 : 2개의 완전연결층\n",
        "  outputs = tf.keras.layers.Dense(units=units, activation='relu')(attention2)\n",
        "  outputs = tf.keras.layers.Dense(units=d_model)(outputs)\n",
        "\n",
        "  # 완전연결층의 결과는 Dropout과 LayerNormalization 수행\n",
        "  outputs = tf.keras.layers.Dropout(rate=dropout)(outputs)\n",
        "  outputs = tf.keras.layers.LayerNormalization(\n",
        "      epsilon=1e-6)(outputs + attention2)\n",
        "\n",
        "  return tf.keras.Model(\n",
        "      inputs=[inputs, enc_outputs, look_ahead_mask, padding_mask],\n",
        "      outputs=outputs,\n",
        "      name=name)\n",
        "print(\"슝=3\")"
      ]
    },
    {
      "cell_type": "code",
      "execution_count": null,
      "metadata": {
        "colab": {
          "base_uri": "https://localhost:8080/"
        },
        "id": "iD9zr5S3etV3",
        "outputId": "b9304535-501a-4ee7-b7bb-227638ec5dcb"
      },
      "outputs": [
        {
          "output_type": "stream",
          "name": "stdout",
          "text": [
            "슝=3\n"
          ]
        }
      ],
      "source": [
        "def decoder(vocab_size,\n",
        "            num_layers,\n",
        "            units,\n",
        "            d_model,\n",
        "            num_heads,\n",
        "            dropout,\n",
        "            name='decoder'):\n",
        "  inputs = tf.keras.Input(shape=(None,), name='inputs')\n",
        "  enc_outputs = tf.keras.Input(shape=(None, d_model), name='encoder_outputs')\n",
        "  look_ahead_mask = tf.keras.Input(\n",
        "      shape=(1, None, None), name='look_ahead_mask')\n",
        "\n",
        "  # 패딩 마스크\n",
        "  padding_mask = tf.keras.Input(shape=(1, 1, None), name='padding_mask')\n",
        "  \n",
        "  # 임베딩 레이어\n",
        "  embeddings = tf.keras.layers.Embedding(vocab_size, d_model)(inputs)\n",
        "  embeddings *= tf.math.sqrt(tf.cast(d_model, tf.float32))\n",
        "\n",
        "  # 포지셔널 인코딩\n",
        "  embeddings = PositionalEncoding(vocab_size, d_model)(embeddings)\n",
        "\n",
        "  # Dropout이라는 훈련을 돕는 테크닉을 수행\n",
        "  outputs = tf.keras.layers.Dropout(rate=dropout)(embeddings)\n",
        "\n",
        "  for i in range(num_layers):\n",
        "    outputs = decoder_layer(\n",
        "        units=units,\n",
        "        d_model=d_model,\n",
        "        num_heads=num_heads,\n",
        "        dropout=dropout,\n",
        "        name='decoder_layer_{}'.format(i),\n",
        "    )(inputs=[outputs, enc_outputs, look_ahead_mask, padding_mask])\n",
        "\n",
        "  return tf.keras.Model(\n",
        "      inputs=[inputs, enc_outputs, look_ahead_mask, padding_mask],\n",
        "      outputs=outputs,\n",
        "      name=name)\n",
        "print(\"슝=3\")"
      ]
    },
    {
      "cell_type": "markdown",
      "source": [
        "## Step 1. 데이터 수집하기\n",
        "한국어 챗봇 데이터는 송영숙님이 공개한 챗봇 데이터를 사용합니다.\n"
      ],
      "metadata": {
        "id": "SHCoOGYrk4yw"
      }
    },
    {
      "cell_type": "code",
      "source": [
        "dir_path= '/content/drive/MyDrive/dataset/transformer_chatbot/data/ChatbotData .csv'\n",
        "df = pd.read_csv(dir_path)"
      ],
      "metadata": {
        "id": "iKXI9j9onmk2"
      },
      "execution_count": null,
      "outputs": []
    },
    {
      "cell_type": "code",
      "source": [
        "df.head()"
      ],
      "metadata": {
        "colab": {
          "base_uri": "https://localhost:8080/",
          "height": 206
        },
        "id": "xLefZSqTth68",
        "outputId": "957994d7-94f6-48c8-8936-807f0c9ae377"
      },
      "execution_count": null,
      "outputs": [
        {
          "output_type": "execute_result",
          "data": {
            "text/plain": [
              "                 Q            A  label\n",
              "0           12시 땡!   하루가 또 가네요.      0\n",
              "1      1지망 학교 떨어졌어    위로해 드립니다.      0\n",
              "2     3박4일 놀러가고 싶다  여행은 언제나 좋죠.      0\n",
              "3  3박4일 정도 놀러가고 싶다  여행은 언제나 좋죠.      0\n",
              "4          PPL 심하네   눈살이 찌푸려지죠.      0"
            ],
            "text/html": [
              "\n",
              "  <div id=\"df-8440eb70-c4f0-4869-a070-cd2e9a964fcd\">\n",
              "    <div class=\"colab-df-container\">\n",
              "      <div>\n",
              "<style scoped>\n",
              "    .dataframe tbody tr th:only-of-type {\n",
              "        vertical-align: middle;\n",
              "    }\n",
              "\n",
              "    .dataframe tbody tr th {\n",
              "        vertical-align: top;\n",
              "    }\n",
              "\n",
              "    .dataframe thead th {\n",
              "        text-align: right;\n",
              "    }\n",
              "</style>\n",
              "<table border=\"1\" class=\"dataframe\">\n",
              "  <thead>\n",
              "    <tr style=\"text-align: right;\">\n",
              "      <th></th>\n",
              "      <th>Q</th>\n",
              "      <th>A</th>\n",
              "      <th>label</th>\n",
              "    </tr>\n",
              "  </thead>\n",
              "  <tbody>\n",
              "    <tr>\n",
              "      <th>0</th>\n",
              "      <td>12시 땡!</td>\n",
              "      <td>하루가 또 가네요.</td>\n",
              "      <td>0</td>\n",
              "    </tr>\n",
              "    <tr>\n",
              "      <th>1</th>\n",
              "      <td>1지망 학교 떨어졌어</td>\n",
              "      <td>위로해 드립니다.</td>\n",
              "      <td>0</td>\n",
              "    </tr>\n",
              "    <tr>\n",
              "      <th>2</th>\n",
              "      <td>3박4일 놀러가고 싶다</td>\n",
              "      <td>여행은 언제나 좋죠.</td>\n",
              "      <td>0</td>\n",
              "    </tr>\n",
              "    <tr>\n",
              "      <th>3</th>\n",
              "      <td>3박4일 정도 놀러가고 싶다</td>\n",
              "      <td>여행은 언제나 좋죠.</td>\n",
              "      <td>0</td>\n",
              "    </tr>\n",
              "    <tr>\n",
              "      <th>4</th>\n",
              "      <td>PPL 심하네</td>\n",
              "      <td>눈살이 찌푸려지죠.</td>\n",
              "      <td>0</td>\n",
              "    </tr>\n",
              "  </tbody>\n",
              "</table>\n",
              "</div>\n",
              "      <button class=\"colab-df-convert\" onclick=\"convertToInteractive('df-8440eb70-c4f0-4869-a070-cd2e9a964fcd')\"\n",
              "              title=\"Convert this dataframe to an interactive table.\"\n",
              "              style=\"display:none;\">\n",
              "        \n",
              "  <svg xmlns=\"http://www.w3.org/2000/svg\" height=\"24px\"viewBox=\"0 0 24 24\"\n",
              "       width=\"24px\">\n",
              "    <path d=\"M0 0h24v24H0V0z\" fill=\"none\"/>\n",
              "    <path d=\"M18.56 5.44l.94 2.06.94-2.06 2.06-.94-2.06-.94-.94-2.06-.94 2.06-2.06.94zm-11 1L8.5 8.5l.94-2.06 2.06-.94-2.06-.94L8.5 2.5l-.94 2.06-2.06.94zm10 10l.94 2.06.94-2.06 2.06-.94-2.06-.94-.94-2.06-.94 2.06-2.06.94z\"/><path d=\"M17.41 7.96l-1.37-1.37c-.4-.4-.92-.59-1.43-.59-.52 0-1.04.2-1.43.59L10.3 9.45l-7.72 7.72c-.78.78-.78 2.05 0 2.83L4 21.41c.39.39.9.59 1.41.59.51 0 1.02-.2 1.41-.59l7.78-7.78 2.81-2.81c.8-.78.8-2.07 0-2.86zM5.41 20L4 18.59l7.72-7.72 1.47 1.35L5.41 20z\"/>\n",
              "  </svg>\n",
              "      </button>\n",
              "      \n",
              "  <style>\n",
              "    .colab-df-container {\n",
              "      display:flex;\n",
              "      flex-wrap:wrap;\n",
              "      gap: 12px;\n",
              "    }\n",
              "\n",
              "    .colab-df-convert {\n",
              "      background-color: #E8F0FE;\n",
              "      border: none;\n",
              "      border-radius: 50%;\n",
              "      cursor: pointer;\n",
              "      display: none;\n",
              "      fill: #1967D2;\n",
              "      height: 32px;\n",
              "      padding: 0 0 0 0;\n",
              "      width: 32px;\n",
              "    }\n",
              "\n",
              "    .colab-df-convert:hover {\n",
              "      background-color: #E2EBFA;\n",
              "      box-shadow: 0px 1px 2px rgba(60, 64, 67, 0.3), 0px 1px 3px 1px rgba(60, 64, 67, 0.15);\n",
              "      fill: #174EA6;\n",
              "    }\n",
              "\n",
              "    [theme=dark] .colab-df-convert {\n",
              "      background-color: #3B4455;\n",
              "      fill: #D2E3FC;\n",
              "    }\n",
              "\n",
              "    [theme=dark] .colab-df-convert:hover {\n",
              "      background-color: #434B5C;\n",
              "      box-shadow: 0px 1px 3px 1px rgba(0, 0, 0, 0.15);\n",
              "      filter: drop-shadow(0px 1px 2px rgba(0, 0, 0, 0.3));\n",
              "      fill: #FFFFFF;\n",
              "    }\n",
              "  </style>\n",
              "\n",
              "      <script>\n",
              "        const buttonEl =\n",
              "          document.querySelector('#df-8440eb70-c4f0-4869-a070-cd2e9a964fcd button.colab-df-convert');\n",
              "        buttonEl.style.display =\n",
              "          google.colab.kernel.accessAllowed ? 'block' : 'none';\n",
              "\n",
              "        async function convertToInteractive(key) {\n",
              "          const element = document.querySelector('#df-8440eb70-c4f0-4869-a070-cd2e9a964fcd');\n",
              "          const dataTable =\n",
              "            await google.colab.kernel.invokeFunction('convertToInteractive',\n",
              "                                                     [key], {});\n",
              "          if (!dataTable) return;\n",
              "\n",
              "          const docLinkHtml = 'Like what you see? Visit the ' +\n",
              "            '<a target=\"_blank\" href=https://colab.research.google.com/notebooks/data_table.ipynb>data table notebook</a>'\n",
              "            + ' to learn more about interactive tables.';\n",
              "          element.innerHTML = '';\n",
              "          dataTable['output_type'] = 'display_data';\n",
              "          await google.colab.output.renderOutput(dataTable, element);\n",
              "          const docLink = document.createElement('div');\n",
              "          docLink.innerHTML = docLinkHtml;\n",
              "          element.appendChild(docLink);\n",
              "        }\n",
              "      </script>\n",
              "    </div>\n",
              "  </div>\n",
              "  "
            ]
          },
          "metadata": {},
          "execution_count": 89
        }
      ]
    },
    {
      "cell_type": "code",
      "source": [
        "len(df)"
      ],
      "metadata": {
        "colab": {
          "base_uri": "https://localhost:8080/"
        },
        "id": "aDVSDsErx2Ok",
        "outputId": "1a59812d-2a65-497c-ba16-84ca0727a542"
      },
      "execution_count": null,
      "outputs": [
        {
          "output_type": "execute_result",
          "data": {
            "text/plain": [
              "11823"
            ]
          },
          "metadata": {},
          "execution_count": 90
        }
      ]
    },
    {
      "cell_type": "markdown",
      "source": [
        "## Step 2. 데이터 전처리하기\n",
        "영어 데이터와는 전혀 다른 데이터인 만큼 영어 데이터에 사용했던 전처리와 일부 동일한 전처리도 필요하겠지만 전체적으로는 다른 전처리를 수행해야 할 수도 있습니다.\n"
      ],
      "metadata": {
        "id": "BHJ-r8RAnvh5"
      }
    },
    {
      "cell_type": "code",
      "source": [
        "# 전처리 함수\n",
        "def preprocess_sentence(sentence):\n",
        "  sentence = sentence.lower().strip()\n",
        "\n",
        "  # 단어와 구두점(punctuation) 사이의 거리를 만듭니다.\n",
        "  # 예를 들어서 \"I am a student.\" => \"I am a student .\"와 같이\n",
        "  # student와 온점 사이에 거리를 만듭니다.\n",
        "  sentence = re.sub(r\"([?.!,])\", r\" \\1 \", sentence)\n",
        "  sentence = re.sub(r'[\" \"]+', \" \", sentence)\n",
        "\n",
        "  # (a-z, A-Z, \".\", \"?\", \"!\", \",\")를 제외한 모든 문자를 공백인 ' '로 대체합니다.\n",
        "  sentence = re.sub(r\"[^ㄱ-ㅎㅏ-ㅣ가-힣?.!,]+\", \" \", sentence)\n",
        "  sentence = sentence.strip()\n",
        "  return sentence\n",
        "print(\"슝=3\")"
      ],
      "metadata": {
        "colab": {
          "base_uri": "https://localhost:8080/"
        },
        "id": "zLvb4vx8fAeJ",
        "outputId": "237b6a81-4d46-4d76-d9a7-377e22b32004"
      },
      "execution_count": null,
      "outputs": [
        {
          "output_type": "stream",
          "name": "stdout",
          "text": [
            "슝=3\n"
          ]
        }
      ]
    },
    {
      "cell_type": "code",
      "source": [
        "preprocess_sentence('잠깐, 여기 스파이가 있어!')"
      ],
      "metadata": {
        "id": "SqQ_9c7WvDAY",
        "colab": {
          "base_uri": "https://localhost:8080/",
          "height": 35
        },
        "outputId": "eb0dd734-1248-4db2-cdd6-5eb9db0be6a4"
      },
      "execution_count": null,
      "outputs": [
        {
          "output_type": "execute_result",
          "data": {
            "text/plain": [
              "'잠깐 , 여기 스파이가 있어 !'"
            ],
            "application/vnd.google.colaboratory.intrinsic+json": {
              "type": "string"
            }
          },
          "metadata": {},
          "execution_count": 92
        }
      ]
    },
    {
      "cell_type": "markdown",
      "source": [
        "전처리 함수 이상무"
      ],
      "metadata": {
        "id": "u6yF47T7v8zt"
      }
    },
    {
      "cell_type": "code",
      "source": [
        "# Q 전처리\n",
        "\n",
        "questions = []\n",
        "for line in df.Q :\n",
        "    preprocessed_sentence = preprocess_sentence(line) #정제\n",
        "    questions.append(preprocessed_sentence) # 담기\n",
        "questions[:10]\n"
      ],
      "metadata": {
        "colab": {
          "base_uri": "https://localhost:8080/"
        },
        "id": "_9eg4YZVyPNn",
        "outputId": "b16d59b3-e36b-4999-b2b9-bf70e310e1b8"
      },
      "execution_count": null,
      "outputs": [
        {
          "output_type": "execute_result",
          "data": {
            "text/plain": [
              "['시 땡 !',\n",
              " '지망 학교 떨어졌어',\n",
              " '박 일 놀러가고 싶다',\n",
              " '박 일 정도 놀러가고 싶다',\n",
              " '심하네',\n",
              " '카드 망가졌어',\n",
              " '카드 안돼',\n",
              " '맞팔 왜 안하지ㅠㅠ',\n",
              " '시간낭비인 거 아는데 매일 하는 중',\n",
              " '시간낭비인데 자꾸 보게됨']"
            ]
          },
          "metadata": {},
          "execution_count": 93
        }
      ]
    },
    {
      "cell_type": "markdown",
      "source": [
        "잘 됐네용"
      ],
      "metadata": {
        "id": "jnKckc8zsC3-"
      }
    },
    {
      "cell_type": "code",
      "source": [
        "# A 전처리\n",
        "\n",
        "answers = []\n",
        "for line in df.A :\n",
        "    preprocessed_sentence = preprocess_sentence(line) #정제\n",
        "    answers.append(preprocessed_sentence) # 담기\n",
        "answers[:10]\n"
      ],
      "metadata": {
        "colab": {
          "base_uri": "https://localhost:8080/"
        },
        "id": "tX3GM_DqsFHv",
        "outputId": "a97e4036-ebbd-46eb-b305-172263a27d5c"
      },
      "execution_count": null,
      "outputs": [
        {
          "output_type": "execute_result",
          "data": {
            "text/plain": [
              "['하루가 또 가네요 .',\n",
              " '위로해 드립니다 .',\n",
              " '여행은 언제나 좋죠 .',\n",
              " '여행은 언제나 좋죠 .',\n",
              " '눈살이 찌푸려지죠 .',\n",
              " '다시 새로 사는 게 마음 편해요 .',\n",
              " '다시 새로 사는 게 마음 편해요 .',\n",
              " '잘 모르고 있을 수도 있어요 .',\n",
              " '시간을 정하고 해보세요 .',\n",
              " '시간을 정하고 해보세요 .']"
            ]
          },
          "metadata": {},
          "execution_count": 94
        }
      ]
    },
    {
      "cell_type": "markdown",
      "source": [
        "위로의 말같은 answer가 잘 담겼습니다."
      ],
      "metadata": {
        "id": "UwKffR71sTMD"
      }
    },
    {
      "cell_type": "code",
      "source": [
        "print('전체 샘플 수 :', len(questions))\n",
        "print('전체 샘플 수 :', len(answers))"
      ],
      "metadata": {
        "colab": {
          "base_uri": "https://localhost:8080/"
        },
        "id": "KQgGRnqqOQ6P",
        "outputId": "75d97eed-199f-4071-9b52-0bff39c6f249"
      },
      "execution_count": null,
      "outputs": [
        {
          "output_type": "stream",
          "name": "stdout",
          "text": [
            "전체 샘플 수 : 11823\n",
            "전체 샘플 수 : 11823\n"
          ]
        }
      ]
    },
    {
      "cell_type": "markdown",
      "source": [
        "같은 숫자 11823으로 질문:답변이 저장됐습니다!  \n",
        "임의로 22번째 샘플을 출력해서 질문과 답변이 잘 저장되었는지 확인해보아요"
      ],
      "metadata": {
        "id": "WaHorKj2uszp"
      }
    },
    {
      "cell_type": "code",
      "execution_count": null,
      "metadata": {
        "colab": {
          "base_uri": "https://localhost:8080/"
        },
        "id": "qE1GU2eBfIaL",
        "outputId": "436a8e13-011a-42c0-edbe-ca0cf235fba4"
      },
      "outputs": [
        {
          "output_type": "stream",
          "name": "stdout",
          "text": [
            "전처리 후의 22번째 질문 샘플: 가스비 장난 아님\n",
            "전처리 후의 22번째 답변 샘플: 다음 달에는 더 절약해봐요 .\n"
          ]
        }
      ],
      "source": [
        "print('전처리 후의 22번째 질문 샘플: {}'.format(questions[21]))\n",
        "print('전처리 후의 22번째 답변 샘플: {}'.format(answers[21]))"
      ]
    },
    {
      "cell_type": "markdown",
      "source": [
        "절약이 쉽지 않은데 말이죠? 말이 이어지는 것으로 보아 잘 저장되었다고 생각되네요?"
      ],
      "metadata": {
        "id": "G1l_cHwWu8LE"
      }
    },
    {
      "cell_type": "markdown",
      "source": [
        "샘플의 길이 통계를 내봅니다."
      ],
      "metadata": {
        "id": "kZkThmiwk0RK"
      }
    },
    {
      "cell_type": "code",
      "source": [
        "import matplotlib.pyplot as plt\n",
        "\n",
        "questions_len = [len(s.split()) for s in questions]\n",
        "answers_len = [len(s.split()) for s in answers]\n",
        "\n",
        "print('질문의 최소 길이 : {}'.format(np.min(questions_len)))\n",
        "print('질문의 최대 길이 : {}'.format(np.max(questions_len)))\n",
        "print('질문의 평균 길이 : {}'.format(np.mean(questions_len)))\n",
        "print('답변의 최소 길이 : {}'.format(np.min(answers_len)))\n",
        "print('답변의 최대 길이 : {}'.format(np.max(answers_len)))\n",
        "print('답변의 평균 길이 : {}'.format(np.mean(answers_len)))\n",
        "\n",
        "plt.subplot(1,2,1)\n",
        "plt.boxplot(questions_len)\n",
        "plt.title('Q')\n",
        "plt.subplot(1,2,2)\n",
        "plt.boxplot(answers_len)\n",
        "plt.title('A')\n",
        "plt.tight_layout()\n",
        "plt.show()\n",
        "\n",
        "plt.title('Q')\n",
        "plt.hist(questions_len, bins = 40)\n",
        "plt.xlabel('length of samples')\n",
        "plt.ylabel('number of samples')\n",
        "plt.show()\n",
        "\n",
        "plt.title('A')\n",
        "plt.hist(answers_len, bins = 40)\n",
        "plt.xlabel('length of samples')\n",
        "plt.ylabel('number of samples')\n",
        "plt.show()"
      ],
      "metadata": {
        "colab": {
          "base_uri": "https://localhost:8080/",
          "height": 962
        },
        "id": "Vx1kDFJziqDV",
        "outputId": "3d1e4e76-c213-4363-9c13-56933270f412"
      },
      "execution_count": null,
      "outputs": [
        {
          "output_type": "stream",
          "name": "stdout",
          "text": [
            "질문의 최소 길이 : 1\n",
            "질문의 최대 길이 : 16\n",
            "질문의 평균 길이 : 3.941554596972004\n",
            "답변의 최소 길이 : 1\n",
            "답변의 최대 길이 : 24\n",
            "답변의 평균 길이 : 4.715300685105303\n"
          ]
        },
        {
          "output_type": "display_data",
          "data": {
            "text/plain": [
              "<Figure size 432x288 with 2 Axes>"
            ],
            "image/png": "[encoded data removed]"
          },
          "metadata": {
            "needs_background": "light"
          }
        },
        {
          "output_type": "display_data",
          "data": {
            "text/plain": [
              "<Figure size 432x288 with 1 Axes>"
            ],
            "image/png": "[encoded data removed]"
          },
          "metadata": {
            "needs_background": "light"
          }
        },
        {
          "output_type": "display_data",
          "data": {
            "text/plain": [
              "<Figure size 432x288 with 1 Axes>"
            ],
            "image/png": "[encoded data removed]"
          },
          "metadata": {
            "needs_background": "light"
          }
        }
      ]
    },
    {
      "cell_type": "markdown",
      "source": [
        "12~13정도의 값을 사용하면 될 것 같습니다."
      ],
      "metadata": {
        "id": "rwFp0Fwo0uBn"
      }
    },
    {
      "cell_type": "markdown",
      "source": [
        "## Step 3. SubwordTextEncoder 사용하기\n",
        "한국어 데이터는 형태소 분석기를 사용하여 토크나이징을 해야 한다고 많은 분이 알고 있습니다. 하지만 여기서는 형태소 분석기가 아닌 위 실습에서 사용했던 내부 단어 토크나이저인 SubwordTextEncoder를 그대로 사용해보세요."
      ],
      "metadata": {
        "id": "_MENUx-SnxJb"
      }
    },
    {
      "cell_type": "markdown",
      "source": [
        "#### 1. 단어장 만들기\n"
      ],
      "metadata": {
        "id": "rboRzof1wRE8"
      }
    },
    {
      "cell_type": "markdown",
      "source": [
        "SubwordTextEncoder를 사용해보겠어요"
      ],
      "metadata": {
        "id": "TapjVMLExTYH"
      }
    },
    {
      "cell_type": "code",
      "execution_count": null,
      "metadata": {
        "colab": {
          "base_uri": "https://localhost:8080/"
        },
        "id": "SQHFT-sgg0b0",
        "outputId": "6ad76202-9d88-4cd1-8878-f93709077ea1"
      },
      "outputs": [
        {
          "output_type": "stream",
          "name": "stdout",
          "text": [
            "슝=3 \n"
          ]
        }
      ],
      "source": [
        "import tensorflow_datasets as tfds\n",
        "\n",
        "# 질문과 답변 데이터셋에 대해서 Vocabulary 생성\n",
        "tokenizer = tfds.deprecated.text.SubwordTextEncoder.build_from_corpus(questions + answers, target_vocab_size=2**13)\n",
        "print(\"슝=3 \")"
      ]
    },
    {
      "cell_type": "markdown",
      "source": [
        "시작토큰과 종료토큰을 만들어 줄테니 단어장에 추가해서 정수를 부여해줍니다. 위에서 이미 토크나이즈를 사용해서 단어장을 만들어 준 상태니까 그와 겹치지 않도록 각각 단어장의 크기보다 1이 큰 수를 부여하면 됩니다."
      ],
      "metadata": {
        "id": "ytr5SswPyaHr"
      }
    },
    {
      "cell_type": "code",
      "execution_count": null,
      "metadata": {
        "colab": {
          "base_uri": "https://localhost:8080/"
        },
        "id": "iNOM1-W9g-Zy",
        "outputId": "18b1b5e6-774c-4cae-fd5e-5f96a3b86234"
      },
      "outputs": [
        {
          "output_type": "stream",
          "name": "stdout",
          "text": [
            "슝=3\n"
          ]
        }
      ],
      "source": [
        "# 시작 토큰과 종료 토큰에 고유한 정수를 부여합니다.\n",
        "START_TOKEN, END_TOKEN = [tokenizer.vocab_size], [tokenizer.vocab_size + 1]\n",
        "print(\"슝=3\")"
      ]
    },
    {
      "cell_type": "code",
      "execution_count": null,
      "metadata": {
        "colab": {
          "base_uri": "https://localhost:8080/"
        },
        "id": "30OQqtGHhEZL",
        "outputId": "94b7ae78-03c3-4429-ce76-6679d22c17ec"
      },
      "outputs": [
        {
          "output_type": "stream",
          "name": "stdout",
          "text": [
            "START_TOKEN의 번호 : [8135]\n",
            "END_TOKEN의 번호 : [8136]\n"
          ]
        }
      ],
      "source": [
        "print('START_TOKEN의 번호 :' ,[tokenizer.vocab_size])\n",
        "print('END_TOKEN의 번호 :' ,[tokenizer.vocab_size + 1])"
      ]
    },
    {
      "cell_type": "markdown",
      "source": [
        "START_TOKEN이 8135인덱스의 단어니까 현재 단어장의 크기가 8,135 (0번부터 8,134번) 이라는 의미  \n",
        "두 개의 토큰을 추가해줬기 때문에 단어장의 크기도 +2임을 명시해 주어야 합니다."
      ],
      "metadata": {
        "id": "_kfWKxNw1Xkg"
      }
    },
    {
      "cell_type": "code",
      "execution_count": null,
      "metadata": {
        "colab": {
          "base_uri": "https://localhost:8080/"
        },
        "id": "yw0YVOV6hM8a",
        "outputId": "bb4c4fef-79f8-440c-fa42-6fce01d88c39"
      },
      "outputs": [
        {
          "output_type": "stream",
          "name": "stdout",
          "text": [
            "8137\n"
          ]
        }
      ],
      "source": [
        "# 시작 토큰과 종료 토큰을 고려하여 +2를 하여 단어장의 크기를 산정합니다.\n",
        "VOCAB_SIZE = tokenizer.vocab_size + 2\n",
        "print(VOCAB_SIZE)"
      ]
    },
    {
      "cell_type": "markdown",
      "source": [
        "#### 2. 각 단어를 고유한 정수로 인코딩(Integer encoding) & 패딩(Padding)"
      ],
      "metadata": {
        "id": "qNsyZSIBphkY"
      }
    },
    {
      "cell_type": "markdown",
      "source": [
        "위에서 tensorflow_datasets의 SubwordTextEncoder를 사용해서 tokenizer를 정의하고 Vocabulary를 만들었다면, tokenizer.encode()로 각 단어를 정수로 변환할 수 있고 또는 tokenizer.decode()를 통해 정수 시퀀스를 단어 시퀀스로 변환할 수 있습니다.\n",
        "\n",
        "예를 들어서 22번째 샘플을 tokenizer.encode()의 입력으로 사용해서 변환 결과를 봅시다."
      ],
      "metadata": {
        "id": "xwh0-98dqmoa"
      }
    },
    {
      "cell_type": "code",
      "execution_count": null,
      "metadata": {
        "colab": {
          "base_uri": "https://localhost:8080/"
        },
        "id": "rLK00gdhhRa8",
        "outputId": "da6ca04a-c7c0-416e-8b24-db0df8eedabc"
      },
      "outputs": [
        {
          "output_type": "stream",
          "name": "stdout",
          "text": [
            "정수 인코딩 후의 21번째 질문 샘플: [5747, 612, 2485, 4153]\n",
            "정수 인코딩 후의 21번째 답변 샘플: [2353, 7489, 7, 6252, 97, 1]\n"
          ]
        }
      ],
      "source": [
        "# 임의의 22번째 샘플에 대해서 정수 인코딩 작업을 수행.\n",
        "# 각 토큰을 고유한 정수로 변환\n",
        "print('정수 인코딩 후의 21번째 질문 샘플: {}'.format(tokenizer.encode(questions[21])))\n",
        "print('정수 인코딩 후의 21번째 답변 샘플: {}'.format(tokenizer.encode(answers[21])))"
      ]
    },
    {
      "cell_type": "markdown",
      "metadata": {
        "id": "XgB_TeMdhUMy"
      },
      "source": [
        "각 단어에 고유한 정수가 부여된 Vocabulary를 기준으로 단어 시퀀스가 정수 시퀀스로 인코딩된 결과를 확인할 수 있습니다. 위의 결과와 마찬가지로 질문과 답변 셋에 대해서 전부 **정수 인코딩** 을 수행합니다. 이와 동시에 문장의 최대 길이를 정하고, 해당 길이로 **패딩(padding)** 합니다."
      ]
    },
    {
      "cell_type": "code",
      "execution_count": null,
      "metadata": {
        "colab": {
          "base_uri": "https://localhost:8080/"
        },
        "id": "TiwHL7LOhYc5",
        "outputId": "cf1fe91c-f45c-4dc8-a890-dca8e689a380"
      },
      "outputs": [
        {
          "output_type": "stream",
          "name": "stdout",
          "text": [
            "13\n"
          ]
        }
      ],
      "source": [
        "# 샘플의 최대 허용 길이 또는 패딩 후의 최종 길이\n",
        "MAX_LENGTH = 13\n",
        "print(MAX_LENGTH)"
      ]
    },
    {
      "cell_type": "code",
      "execution_count": null,
      "metadata": {
        "colab": {
          "base_uri": "https://localhost:8080/"
        },
        "id": "NexvdQvHhaFY",
        "outputId": "ba86da8c-ba19-42c6-9273-6a97d37c4c80"
      },
      "outputs": [
        {
          "output_type": "stream",
          "name": "stdout",
          "text": [
            "슝=3\n"
          ]
        }
      ],
      "source": [
        "# 정수 인코딩, 최대 길이를 초과하는 샘플 제거, 패딩\n",
        "def tokenize_and_filter(inputs, outputs):\n",
        "  tokenized_inputs, tokenized_outputs = [], []\n",
        "  \n",
        "  for (sentence1, sentence2) in zip(inputs, outputs):\n",
        "    # 정수 인코딩 과정에서 시작 토큰과 종료 토큰을 추가\n",
        "    sentence1 = START_TOKEN + tokenizer.encode(sentence1) + END_TOKEN\n",
        "    sentence2 = START_TOKEN + tokenizer.encode(sentence2) + END_TOKEN\n",
        "\n",
        "    # 최대 길이 40 이하인 경우에만 데이터셋으로 허용\n",
        "    if len(sentence1) <= MAX_LENGTH and len(sentence2) <= MAX_LENGTH:\n",
        "      tokenized_inputs.append(sentence1)\n",
        "      tokenized_outputs.append(sentence2)\n",
        "  \n",
        "  # 최대 길이 40으로 모든 데이터셋을 패딩\n",
        "  tokenized_inputs = tf.keras.preprocessing.sequence.pad_sequences(\n",
        "      tokenized_inputs, maxlen=MAX_LENGTH, padding='post')\n",
        "  tokenized_outputs = tf.keras.preprocessing.sequence.pad_sequences(\n",
        "      tokenized_outputs, maxlen=MAX_LENGTH, padding='post')\n",
        "  \n",
        "  return tokenized_inputs, tokenized_outputs\n",
        "print(\"슝=3\")"
      ]
    },
    {
      "cell_type": "markdown",
      "metadata": {
        "id": "NXTKXrPIhcLb"
      },
      "source": [
        "정수 인코딩 과정을 수행하면서 샘플의 길이가 40을 넘는 경우는 샘플들을 필터링하였으므로 일부 샘플이 제외되었습니다. 단어장의 크기와 샘플의 개수를 확인해 보겠습니다.\n",
        "\n"
      ]
    },
    {
      "cell_type": "code",
      "execution_count": null,
      "metadata": {
        "colab": {
          "base_uri": "https://localhost:8080/"
        },
        "id": "GnK1O4QbhdFM",
        "outputId": "afe0a890-2c8e-439e-cbc5-cc2c7a461d2a"
      },
      "outputs": [
        {
          "output_type": "stream",
          "name": "stdout",
          "text": [
            "단어장의 크기 : 8137\n",
            "필터링 후의 질문 샘플 개수: 11152\n",
            "필터링 후의 답변 샘플 개수: 11152\n"
          ]
        }
      ],
      "source": [
        "questions, answers = tokenize_and_filter(questions, answers)\n",
        "print('단어장의 크기 :',(VOCAB_SIZE))\n",
        "print('필터링 후의 질문 샘플 개수: {}'.format(len(questions)))\n",
        "print('필터링 후의 답변 샘플 개수: {}'.format(len(answers)))"
      ]
    },
    {
      "cell_type": "markdown",
      "source": [
        "기존 샘플 개수 11823 - > 11152 로 변화되었습니다."
      ],
      "metadata": {
        "id": "Q_qG-mBuloQm"
      }
    },
    {
      "cell_type": "markdown",
      "source": [
        "#### 3. 교사 강요(Teacher Forcing) 사용하기\n"
      ],
      "metadata": {
        "id": "HqHkYVv8wnKC"
      }
    },
    {
      "cell_type": "markdown",
      "source": [
        "tf.data.Dataset API 는 훈련 프로세스의 속도가 빨라지도록 입력 파이프라인을 구축하는 API입니다.\n",
        "\n",
        "이를 적극 사용하기 위해서 질문과 답변의 쌍을 tf.data.Dataset의 입력으로 넣어주는 작업을 합니다."
      ],
      "metadata": {
        "id": "QyOnvblNwznh"
      }
    },
    {
      "cell_type": "markdown",
      "source": [
        "이전 자신의 출력이 현재 자신의 상태를 결정하는 모델을 자기회귀 모델(auto-regressive model, AR) 이라고 합니다. 앞서 교사 강요를 이해하기 위해 읽었던 글에 등장한 RNN 언어 모델은 대표적인 자기 회귀 모델의 예이며, 트랜스포머의 디코더 또한 자기회귀 모델입니다.\n",
        "\n",
        "트랜스포머 디코더에서도 교사 강요(Teacher Forcing) 를 적용합니다."
      ],
      "metadata": {
        "id": "j1qt3GXtzC8y"
      }
    },
    {
      "cell_type": "markdown",
      "source": [
        "질문과 답변의 쌍을 tf.data.Dataset API의 입력으로 사용하여 파이프라인을 구성합니다. 이때, 교사 강요를 위해서 answers[:, :-1]를 디코더의 입력값, answers[:, 1:]를 디코더의 레이블로 사용합니다."
      ],
      "metadata": {
        "id": "f8Ya-QDKzFLy"
      }
    },
    {
      "cell_type": "code",
      "source": [
        "BATCH_SIZE = 64\n",
        "BUFFER_SIZE = 20000\n",
        "\n",
        "# 디코더는 이전의 target을 다음의 input으로 사용합니다.\n",
        "# 이에 따라 outputs에서는 START_TOKEN을 제거하겠습니다.\n",
        "dataset = tf.data.Dataset.from_tensor_slices((\n",
        "    {\n",
        "        'inputs': questions,\n",
        "        'dec_inputs': answers[:, :-1]\n",
        "    },\n",
        "    {\n",
        "        'outputs': answers[:, 1:]\n",
        "    },\n",
        "))\n",
        "\n",
        "dataset = dataset.cache()\n",
        "dataset = dataset.shuffle(BUFFER_SIZE)\n",
        "dataset = dataset.batch(BATCH_SIZE)\n",
        "dataset = dataset.prefetch(tf.data.experimental.AUTOTUNE)\n",
        "print(\"슝=3\")"
      ],
      "metadata": {
        "colab": {
          "base_uri": "https://localhost:8080/"
        },
        "id": "67Dn4ea0wmfl",
        "outputId": "92a7d195-3713-4203-c14c-dfcdee107c07"
      },
      "execution_count": null,
      "outputs": [
        {
          "output_type": "stream",
          "name": "stdout",
          "text": [
            "슝=3\n"
          ]
        }
      ]
    },
    {
      "cell_type": "markdown",
      "source": [
        "## Step 4. 모델 구성하기\n",
        "위 실습 내용을 참고하여 트랜스포머 모델을 구현합니다.\n"
      ],
      "metadata": {
        "id": "7zMWzu50nzbd"
      }
    },
    {
      "cell_type": "code",
      "execution_count": null,
      "metadata": {
        "colab": {
          "base_uri": "https://localhost:8080/"
        },
        "id": "IQWspt5BiEy0",
        "outputId": "0fe591c2-a7e6-4492-b40d-a90c96498075"
      },
      "outputs": [
        {
          "output_type": "stream",
          "name": "stdout",
          "text": [
            "슝=3\n"
          ]
        }
      ],
      "source": [
        "def transformer(vocab_size,\n",
        "                num_layers,\n",
        "                units,\n",
        "                d_model,\n",
        "                num_heads,\n",
        "                dropout,\n",
        "                name=\"transformer\"):\n",
        "  inputs = tf.keras.Input(shape=(None,), name=\"inputs\")\n",
        "  dec_inputs = tf.keras.Input(shape=(None,), name=\"dec_inputs\")\n",
        "\n",
        "  # 인코더에서 패딩을 위한 마스크\n",
        "  enc_padding_mask = tf.keras.layers.Lambda(\n",
        "      create_padding_mask, output_shape=(1, 1, None),\n",
        "      name='enc_padding_mask')(inputs)\n",
        "\n",
        "  # 디코더에서 미래의 토큰을 마스크 하기 위해서 사용합니다.\n",
        "  # 내부적으로 패딩 마스크도 포함되어져 있습니다.\n",
        "  look_ahead_mask = tf.keras.layers.Lambda(\n",
        "      create_look_ahead_mask,\n",
        "      output_shape=(1, None, None),\n",
        "      name='look_ahead_mask')(dec_inputs)\n",
        "\n",
        "  # 두 번째 어텐션 블록에서 인코더의 벡터들을 마스킹\n",
        "  # 디코더에서 패딩을 위한 마스크\n",
        "  dec_padding_mask = tf.keras.layers.Lambda(\n",
        "      create_padding_mask, output_shape=(1, 1, None),\n",
        "      name='dec_padding_mask')(inputs)\n",
        "\n",
        "  # 인코더\n",
        "  enc_outputs = encoder(\n",
        "      vocab_size=vocab_size,\n",
        "      num_layers=num_layers,\n",
        "      units=units,\n",
        "      d_model=d_model,\n",
        "      num_heads=num_heads,\n",
        "      dropout=dropout,\n",
        "  )(inputs=[inputs, enc_padding_mask])\n",
        "\n",
        "  # 디코더\n",
        "  dec_outputs = decoder(\n",
        "      vocab_size=vocab_size,\n",
        "      num_layers=num_layers,\n",
        "      units=units,\n",
        "      d_model=d_model,\n",
        "      num_heads=num_heads,\n",
        "      dropout=dropout,\n",
        "  )(inputs=[dec_inputs, enc_outputs, look_ahead_mask, dec_padding_mask])\n",
        "\n",
        "  # 완전연결층\n",
        "  outputs = tf.keras.layers.Dense(units=vocab_size, name=\"outputs\")(dec_outputs)\n",
        "\n",
        "  return tf.keras.Model(inputs=[inputs, dec_inputs], outputs=outputs, name=name)\n",
        "print(\"슝=3\")"
      ]
    },
    {
      "cell_type": "markdown",
      "metadata": {
        "id": "t8ex9h7LiEON"
      },
      "source": [
        "### 1. 모델 생성\n",
        "num_layers, d-Model, units는 전부 사용자가 정할 수 있는 하이퍼파라미터 값입니다.\n",
        "\n",
        "논문에서 num_layers는 6, d-Model은 512였지만, 빠르고 원활한 훈련을 위해 여기서는 각 하이퍼파라미터를 논문에서보다는 작은 값을 사용합니다."
      ]
    },
    {
      "cell_type": "code",
      "execution_count": null,
      "metadata": {
        "colab": {
          "base_uri": "https://localhost:8080/"
        },
        "id": "JDo6fZqXiM4s",
        "outputId": "4e1058b7-d1bf-4c3a-f7b8-2fbfd1f600f2"
      },
      "outputs": [
        {
          "output_type": "stream",
          "name": "stdout",
          "text": [
            "Model: \"transformer\"\n",
            "__________________________________________________________________________________________________\n",
            " Layer (type)                   Output Shape         Param #     Connected to                     \n",
            "==================================================================================================\n",
            " inputs (InputLayer)            [(None, None)]       0           []                               \n",
            "                                                                                                  \n",
            " dec_inputs (InputLayer)        [(None, None)]       0           []                               \n",
            "                                                                                                  \n",
            " enc_padding_mask (Lambda)      (None, 1, 1, None)   0           ['inputs[0][0]']                 \n",
            "                                                                                                  \n",
            " encoder (Functional)           (None, None, 512)    13634048    ['inputs[0][0]',                 \n",
            "                                                                  'enc_padding_mask[0][0]']       \n",
            "                                                                                                  \n",
            " look_ahead_mask (Lambda)       (None, 1, None, Non  0           ['dec_inputs[0][0]']             \n",
            "                                e)                                                                \n",
            "                                                                                                  \n",
            " dec_padding_mask (Lambda)      (None, 1, 1, None)   0           ['inputs[0][0]']                 \n",
            "                                                                                                  \n",
            " decoder (Functional)           (None, None, 512)    19943936    ['dec_inputs[0][0]',             \n",
            "                                                                  'encoder[0][0]',                \n",
            "                                                                  'look_ahead_mask[0][0]',        \n",
            "                                                                  'dec_padding_mask[0][0]']       \n",
            "                                                                                                  \n",
            " outputs (Dense)                (None, None, 8137)   4174281     ['decoder[0][0]']                \n",
            "                                                                                                  \n",
            "==================================================================================================\n",
            "Total params: 37,752,265\n",
            "Trainable params: 37,752,265\n",
            "Non-trainable params: 0\n",
            "__________________________________________________________________________________________________\n"
          ]
        }
      ],
      "source": [
        "tf.keras.backend.clear_session()\n",
        "\n",
        "# 하이퍼파라미터\n",
        "NUM_LAYERS = 6 # 인코더와 디코더의 층의 개수\n",
        "D_MODEL = 512 # 인코더와 디코더 내부의 입, 출력의 고정 차원\n",
        "NUM_HEADS = 8 # 멀티 헤드 어텐션에서의 헤드 수 \n",
        "UNITS = 512 # 피드 포워드 신경망의 은닉층의 크기\n",
        "DROPOUT = 0.01 # 드롭아웃의 비율\n",
        "\n",
        "model = transformer(\n",
        "    vocab_size=VOCAB_SIZE,\n",
        "    num_layers=NUM_LAYERS,\n",
        "    units=UNITS,\n",
        "    d_model=D_MODEL,\n",
        "    num_heads=NUM_HEADS,\n",
        "    dropout=DROPOUT)\n",
        "\n",
        "model.summary()"
      ]
    },
    {
      "cell_type": "markdown",
      "metadata": {
        "id": "ccFo19vViQs2"
      },
      "source": [
        "### 2. 손실 함수(Loss function)\n",
        "레이블인 시퀀스에 패딩이 되어 있으므로, loss를 계산할 때 패딩 마스크를 적용해야 합니다."
      ]
    },
    {
      "cell_type": "code",
      "execution_count": null,
      "metadata": {
        "colab": {
          "base_uri": "https://localhost:8080/"
        },
        "id": "EOXa34UDiSmI",
        "outputId": "04bb104d-0a99-4d3a-caa5-217764511066"
      },
      "outputs": [
        {
          "output_type": "stream",
          "name": "stdout",
          "text": [
            "슝=3\n"
          ]
        }
      ],
      "source": [
        "def loss_function(y_true, y_pred):\n",
        "  y_true = tf.reshape(y_true, shape=(-1, MAX_LENGTH - 1))\n",
        "  \n",
        "  loss = tf.keras.losses.SparseCategoricalCrossentropy(\n",
        "      from_logits=True, reduction='none')(y_true, y_pred)\n",
        "\n",
        "  mask = tf.cast(tf.not_equal(y_true, 0), tf.float32)\n",
        "  loss = tf.multiply(loss, mask)\n",
        "\n",
        "  return tf.reduce_mean(loss)\n",
        "print(\"슝=3\")"
      ]
    },
    {
      "cell_type": "markdown",
      "metadata": {
        "id": "TJ849e6fiT7C"
      },
      "source": [
        "### 3. 커스텀 된 학습률(Learning rate)\n",
        "딥러닝 모델학습 시 learning rate는 매우 중요한 하이퍼파라미터입니다. 최근에는 모델학습 초기에 learning rate를 급격히 높였다가, 이후 train step이 진행됨에 따라 서서히 낮추어 가면서 안정적으로 수렴하게 하는 고급 기법을 널리 사용하고 있습니다. 이런 방법을 커스텀 학습률 스케줄링(Custom Learning rate Scheduling)이라고 합니다.\n",
        "\n",
        "논문에 나온 공식을 참고하여 커스텀 학습률 스케줄러를 통한 아담 옵티마이저를 사용합니다. 논문에 나온 공식은 다음과 같습니다.\n",
        "\n",
        "![image.png](data:image/png;base64,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)"
      ]
    },
    {
      "cell_type": "code",
      "execution_count": null,
      "metadata": {
        "colab": {
          "base_uri": "https://localhost:8080/"
        },
        "id": "scLodkXSiYcr",
        "outputId": "dc17989a-6c1f-4c27-da85-218fae816521"
      },
      "outputs": [
        {
          "output_type": "stream",
          "name": "stdout",
          "text": [
            "슝=3\n"
          ]
        }
      ],
      "source": [
        "class CustomSchedule(tf.keras.optimizers.schedules.LearningRateSchedule):\n",
        "\n",
        "  def __init__(self, d_model, warmup_steps=4000):\n",
        "    super(CustomSchedule, self).__init__()\n",
        "\n",
        "    self.d_model = d_model\n",
        "    self.d_model = tf.cast(self.d_model, tf.float32)\n",
        "\n",
        "    self.warmup_steps = warmup_steps\n",
        "\n",
        "  def __call__(self, step):\n",
        "    arg1 = tf.math.rsqrt(step)\n",
        "    arg2 = step * (self.warmup_steps**-1.5)\n",
        "\n",
        "    return tf.math.rsqrt(self.d_model) * tf.math.minimum(arg1, arg2)\n",
        "print(\"슝=3\")"
      ]
    },
    {
      "cell_type": "markdown",
      "metadata": {
        "id": "L-FPAbR_iZ-C"
      },
      "source": [
        "그러면 방금 정의한 커스텀 학습률 스케줄링 계획을 시각화해 봅시다. 위에 언급한 수식은 step\\_num^{-0.5}step_num \n",
        "−0.5\n",
        " 에 비례하는 부분과 step\\_numstep_num에 비례하는 부분 중 작은 쪽을 택하도록 되어 있습니다. 그래서 학습 초기에는 learning_rate가 step\\_numstep_num에 비례해서 증가하다가 이후로는 감소하는 것을 확인할 수 있습니다."
      ]
    },
    {
      "cell_type": "code",
      "execution_count": null,
      "metadata": {
        "colab": {
          "base_uri": "https://localhost:8080/",
          "height": 297
        },
        "id": "Z2choTVvibNd",
        "outputId": "4d82c4aa-444d-4ad0-af16-4364be1a8490"
      },
      "outputs": [
        {
          "output_type": "execute_result",
          "data": {
            "text/plain": [
              "Text(0.5, 0, 'Train Step')"
            ]
          },
          "metadata": {},
          "execution_count": 111
        },
        {
          "output_type": "display_data",
          "data": {
            "text/plain": [
              "<Figure size 432x288 with 1 Axes>"
            ],
            "image/png": "[encoded data removed]"
          },
          "metadata": {
            "needs_background": "light"
          }
        }
      ],
      "source": [
        "sample_learning_rate = CustomSchedule(d_model=128)\n",
        "\n",
        "plt.plot(sample_learning_rate(tf.range(200000, dtype=tf.float32)))\n",
        "plt.ylabel(\"Learning Rate\")\n",
        "plt.xlabel(\"Train Step\")"
      ]
    },
    {
      "cell_type": "markdown",
      "metadata": {
        "id": "Ty1fhlr3id5A"
      },
      "source": [
        "### 4. 모델 컴파일\n",
        "손실 함수와 커스텀 된 학습률(learning rate)을 사용하여 모델을 컴파일합니다."
      ]
    },
    {
      "cell_type": "code",
      "execution_count": null,
      "metadata": {
        "colab": {
          "base_uri": "https://localhost:8080/"
        },
        "id": "Dn6dlzMsifgY",
        "outputId": "9328bb64-fb9a-4c7a-d6bc-d8db757b3d2b"
      },
      "outputs": [
        {
          "output_type": "stream",
          "name": "stdout",
          "text": [
            "슝=3\n"
          ]
        }
      ],
      "source": [
        "learning_rate = CustomSchedule(D_MODEL)\n",
        "\n",
        "optimizer = tf.keras.optimizers.Adam(\n",
        "    learning_rate, beta_1=0.9, beta_2=0.98, epsilon=1e-9)\n",
        "\n",
        "def accuracy(y_true, y_pred):\n",
        "  y_true = tf.reshape(y_true, shape=(-1, MAX_LENGTH - 1))\n",
        "  return tf.keras.metrics.sparse_categorical_accuracy(y_true, y_pred)\n",
        "\n",
        "model.compile(optimizer=optimizer, loss=loss_function, metrics=[accuracy])\n",
        "print(\"슝=3\")"
      ]
    },
    {
      "cell_type": "markdown",
      "metadata": {
        "id": "Mr9mf3Cpigu7"
      },
      "source": [
        "### 5. 훈련하기\n",
        "이제 학습을 진행해 봅시다."
      ]
    },
    {
      "cell_type": "code",
      "execution_count": null,
      "metadata": {
        "colab": {
          "base_uri": "https://localhost:8080/"
        },
        "id": "nu_9Mk8Uijcg",
        "outputId": "d25425fb-3935-4f6d-d532-320e3ac43e06"
      },
      "outputs": [
        {
          "output_type": "stream",
          "name": "stdout",
          "text": [
            "Epoch 1/20\n",
            "175/175 [==============================] - 39s 101ms/step - loss: 4.1098 - accuracy: 0.0983\n",
            "Epoch 2/20\n",
            "175/175 [==============================] - 18s 102ms/step - loss: 3.2404 - accuracy: 0.1615\n",
            "Epoch 3/20\n",
            "175/175 [==============================] - 18s 101ms/step - loss: 2.9356 - accuracy: 0.1690\n",
            "Epoch 4/20\n",
            "175/175 [==============================] - 18s 102ms/step - loss: 2.7690 - accuracy: 0.1787\n",
            "Epoch 5/20\n",
            "175/175 [==============================] - 18s 101ms/step - loss: 2.5781 - accuracy: 0.1925\n",
            "Epoch 6/20\n",
            "175/175 [==============================] - 18s 102ms/step - loss: 2.3376 - accuracy: 0.2132\n",
            "Epoch 7/20\n",
            "175/175 [==============================] - 18s 101ms/step - loss: 2.0619 - accuracy: 0.2425\n",
            "Epoch 8/20\n",
            "175/175 [==============================] - 18s 101ms/step - loss: 1.7770 - accuracy: 0.2758\n",
            "Epoch 9/20\n",
            "175/175 [==============================] - 18s 102ms/step - loss: 1.4866 - accuracy: 0.3135\n",
            "Epoch 10/20\n",
            "175/175 [==============================] - 18s 101ms/step - loss: 1.2093 - accuracy: 0.3512\n",
            "Epoch 11/20\n",
            "175/175 [==============================] - 18s 100ms/step - loss: 0.9641 - accuracy: 0.3851\n",
            "Epoch 12/20\n",
            "175/175 [==============================] - 18s 101ms/step - loss: 0.7535 - accuracy: 0.4140\n",
            "Epoch 13/20\n",
            "175/175 [==============================] - 18s 100ms/step - loss: 0.5907 - accuracy: 0.4383\n",
            "Epoch 14/20\n",
            "175/175 [==============================] - 18s 100ms/step - loss: 0.4691 - accuracy: 0.4558\n",
            "Epoch 15/20\n",
            "175/175 [==============================] - 18s 102ms/step - loss: 0.3819 - accuracy: 0.4686\n",
            "Epoch 16/20\n",
            "175/175 [==============================] - 18s 103ms/step - loss: 0.3297 - accuracy: 0.4760\n",
            "Epoch 17/20\n",
            "175/175 [==============================] - 18s 103ms/step - loss: 0.2961 - accuracy: 0.4803\n",
            "Epoch 18/20\n",
            "175/175 [==============================] - 18s 100ms/step - loss: 0.2731 - accuracy: 0.4826\n",
            "Epoch 19/20\n",
            "175/175 [==============================] - 18s 100ms/step - loss: 0.2653 - accuracy: 0.4821\n",
            "Epoch 20/20\n",
            "175/175 [==============================] - 18s 100ms/step - loss: 0.2631 - accuracy: 0.4815\n"
          ]
        },
        {
          "output_type": "execute_result",
          "data": {
            "text/plain": [
              "<keras.callbacks.History at 0x7f4d2ea35910>"
            ]
          },
          "metadata": {},
          "execution_count": 113
        }
      ],
      "source": [
        "EPOCHS = 20\n",
        "model.fit(dataset, epochs=EPOCHS, verbose=1)"
      ]
    },
    {
      "cell_type": "markdown",
      "source": [
        "## Step 5. 모델 평가하기\n",
        "Step 1에서 선택한 전처리 방법을 고려하여 입력된 문장에 대해서 대답을 얻는 예측 함수를 만듭니다."
      ],
      "metadata": {
        "id": "eYwdVqnrn1W4"
      }
    },
    {
      "cell_type": "code",
      "execution_count": null,
      "metadata": {
        "colab": {
          "base_uri": "https://localhost:8080/"
        },
        "id": "-z2kcwV4kHVp",
        "outputId": "669ae455-ed32-4755-d6d4-7c7252d75b4e"
      },
      "outputs": [
        {
          "output_type": "stream",
          "name": "stdout",
          "text": [
            "슝=3\n"
          ]
        }
      ],
      "source": [
        "def decoder_inference(sentence):\n",
        "  sentence = preprocess_sentence(sentence)\n",
        "\n",
        "  # 입력된 문장을 정수 인코딩 후, 시작 토큰과 종료 토큰을 앞뒤로 추가.\n",
        "  # ex) Where have you been? → [[8331   86   30    5 1059    7 8332]]\n",
        "  sentence = tf.expand_dims(\n",
        "      START_TOKEN + tokenizer.encode(sentence) + END_TOKEN, axis=0)\n",
        "\n",
        "  # 디코더의 현재까지의 예측한 출력 시퀀스가 지속적으로 저장되는 변수.\n",
        "  # 처음에는 예측한 내용이 없음으로 시작 토큰만 별도 저장. ex) 8331\n",
        "  output_sequence = tf.expand_dims(START_TOKEN, 0)\n",
        "\n",
        "  # 디코더의 인퍼런스 단계\n",
        "  for i in range(MAX_LENGTH):\n",
        "    # 디코더는 최대 MAX_LENGTH의 길이만큼 다음 단어 예측을 반복합니다.\n",
        "    predictions = model(inputs=[sentence, output_sequence], training=False)\n",
        "    predictions = predictions[:, -1:, :]\n",
        "\n",
        "    # 현재 예측한 단어의 정수\n",
        "    predicted_id = tf.cast(tf.argmax(predictions, axis=-1), tf.int32)\n",
        "\n",
        "    # 만약 현재 예측한 단어가 종료 토큰이라면 for문을 종료\n",
        "    if tf.equal(predicted_id, END_TOKEN[0]):\n",
        "      break\n",
        "\n",
        "    # 예측한 단어들은 지속적으로 output_sequence에 추가됩니다.\n",
        "    # 이 output_sequence는 다시 디코더의 입력이 됩니다.\n",
        "    output_sequence = tf.concat([output_sequence, predicted_id], axis=-1)\n",
        "\n",
        "  return tf.squeeze(output_sequence, axis=0)\n",
        "print(\"슝=3\")"
      ]
    },
    {
      "cell_type": "markdown",
      "metadata": {
        "id": "aEIBHKSpkJqe"
      },
      "source": [
        "임의의 입력 문장에 대해서 decoder_inference() 함수를 호출하여 챗봇의 대답을 얻는 sentence_generation() 함수를 만듭니다.\n",
        "\n"
      ]
    },
    {
      "cell_type": "code",
      "execution_count": null,
      "metadata": {
        "colab": {
          "base_uri": "https://localhost:8080/"
        },
        "id": "lSX1HjkgkJTq",
        "outputId": "2bb9e845-7c1c-4b59-fff8-65bbe6f1b5d2"
      },
      "outputs": [
        {
          "output_type": "stream",
          "name": "stdout",
          "text": [
            "슝=3\n"
          ]
        }
      ],
      "source": [
        "def sentence_generation(sentence):\n",
        "  # 입력 문장에 대해서 디코더를 동작 시켜 예측된 정수 시퀀스를 리턴받습니다.\n",
        "  prediction = decoder_inference(sentence)\n",
        "\n",
        "  # 정수 시퀀스를 다시 텍스트 시퀀스로 변환합니다.\n",
        "  predicted_sentence = tokenizer.decode(\n",
        "      [i for i in prediction if i < tokenizer.vocab_size])\n",
        "\n",
        "  print('입력 : {}'.format(sentence))\n",
        "  print('출력 : {}'.format(predicted_sentence))\n",
        "\n",
        "  return predicted_sentence\n",
        "print(\"슝=3\")"
      ]
    },
    {
      "cell_type": "markdown",
      "metadata": {
        "id": "1Qblbm1LkRhp"
      },
      "source": [
        "임의의 문장으로부터 챗봇의 대답을 얻어봅시다."
      ]
    },
    {
      "cell_type": "code",
      "execution_count": null,
      "metadata": {
        "colab": {
          "base_uri": "https://localhost:8080/",
          "height": 72
        },
        "id": "drVcxeeukTDS",
        "outputId": "76da0d5b-5579-478c-cb9e-831ea7d3f333"
      },
      "outputs": [
        {
          "output_type": "stream",
          "name": "stdout",
          "text": [
            "입력 : 오늘 헤어졌어요.\n",
            "출력 : 제 맘도 마음도 끝이 없어요 .\n"
          ]
        },
        {
          "output_type": "execute_result",
          "data": {
            "text/plain": [
              "'제 맘도 마음도 끝이 없어요 .'"
            ],
            "application/vnd.google.colaboratory.intrinsic+json": {
              "type": "string"
            }
          },
          "metadata": {},
          "execution_count": 116
        }
      ],
      "source": [
        "sentence_generation('오늘 헤어졌어요.')"
      ]
    },
    {
      "cell_type": "code",
      "execution_count": null,
      "metadata": {
        "colab": {
          "base_uri": "https://localhost:8080/",
          "height": 72
        },
        "id": "doWEUq-wkXyf",
        "outputId": "23f5152a-b26f-4862-a738-7c0cc2b2e9cb"
      },
      "outputs": [
        {
          "output_type": "stream",
          "name": "stdout",
          "text": [
            "입력 : 배고파.\n",
            "출력 : 얼른 맛난 음식 드세요 .\n"
          ]
        },
        {
          "output_type": "execute_result",
          "data": {
            "text/plain": [
              "'얼른 맛난 음식 드세요 .'"
            ],
            "application/vnd.google.colaboratory.intrinsic+json": {
              "type": "string"
            }
          },
          "metadata": {},
          "execution_count": 117
        }
      ],
      "source": [
        "sentence_generation(\"배고파.\")"
      ]
    },
    {
      "cell_type": "code",
      "source": [
        "sentence_generation(\"날씨가 좋아요.\")"
      ],
      "metadata": {
        "colab": {
          "base_uri": "https://localhost:8080/",
          "height": 72
        },
        "id": "VCmoOWV3Oa2Q",
        "outputId": "b92897d3-9958-4e79-c9c4-ad89f7b49289"
      },
      "execution_count": null,
      "outputs": [
        {
          "output_type": "stream",
          "name": "stdout",
          "text": [
            "입력 : 날씨가 좋아요.\n",
            "출력 : 한 숨 주무세요 .\n"
          ]
        },
        {
          "output_type": "execute_result",
          "data": {
            "text/plain": [
              "'한 숨 주무세요 .'"
            ],
            "application/vnd.google.colaboratory.intrinsic+json": {
              "type": "string"
            }
          },
          "metadata": {},
          "execution_count": 118
        }
      ]
    },
    {
      "cell_type": "code",
      "source": [
        "sentence_generation(\"고기가 먹고싶어요\")"
      ],
      "metadata": {
        "colab": {
          "base_uri": "https://localhost:8080/",
          "height": 72
        },
        "id": "hVxVdt26s62B",
        "outputId": "7f689968-89b9-4a31-dcd1-a01ef4878478"
      },
      "execution_count": null,
      "outputs": [
        {
          "output_type": "stream",
          "name": "stdout",
          "text": [
            "입력 : 고기가 먹고싶어요\n",
            "출력 : 저기압에는 고기앞이죠 .\n"
          ]
        },
        {
          "output_type": "execute_result",
          "data": {
            "text/plain": [
              "'저기압에는 고기앞이죠 .'"
            ],
            "application/vnd.google.colaboratory.intrinsic+json": {
              "type": "string"
            }
          },
          "metadata": {},
          "execution_count": 119
        }
      ]
    },
    {
      "cell_type": "markdown",
      "source": [
        "---"
      ],
      "metadata": {
        "id": "MgRT-2iZodk5"
      }
    },
    {
      "cell_type": "markdown",
      "source": [
        "## 🧐 하이퍼파라미터 보정, 결과분석\n"
      ],
      "metadata": {
        "id": "WdMTYbip0EvX"
      }
    },
    {
      "cell_type": "markdown",
      "source": [
        "* 초기설정  maxlen 40 / num_layer 2 / d-model 256 / Dropout 0.1 : accuracy 0.1\n",
        "![image.png](data:image/png;base64,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)"
      ],
      "metadata": {
        "id": "Qnwi_svJshOv"
      }
    },
    {
      "cell_type": "markdown",
      "source": [
        "동문서답하지만 뭐라도 대답해서 위로해주려고 하네요. 모자라지만 착한 친구같습니다."
      ],
      "metadata": {
        "id": "EZcxX-plmhzP"
      }
    },
    {
      "cell_type": "markdown",
      "source": [
        "---"
      ],
      "metadata": {
        "id": "71jTN9w9z6co"
      }
    },
    {
      "cell_type": "markdown",
      "source": [
        "* maxlen 13 / num_layer 2 -> 6 / d-model 256 -> 512 / Dropout 0.1 -> 0.01 : accuracy 0.3542\n"
      ],
      "metadata": {
        "id": "f3t3RbOZnbwU"
      }
    },
    {
      "cell_type": "markdown",
      "source": [
        "![image.png](data:image/png;base64,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)"
      ],
      "metadata": {
        "id": "NAAd3YlMndSE"
      }
    },
    {
      "cell_type": "markdown",
      "source": [
        "wow.. 놀라운 변화입니다.. (충격) 마지막 질문 빼고 맥락이 생겼어요.. 위로됩니다(?)"
      ],
      "metadata": {
        "id": "z7j6Kxn5oDFU"
      }
    },
    {
      "cell_type": "markdown",
      "source": [
        "---"
      ],
      "metadata": {
        "id": "Acvvir2zz7_Y"
      }
    },
    {
      "cell_type": "markdown",
      "source": [
        "* maxlen 13 / num_layer 6 / d-model 512 / Dropout 0.01 / epoch 10 -> 20: accuracy 0.4815"
      ],
      "metadata": {
        "id": "254CpNo7yz2W"
      }
    },
    {
      "cell_type": "markdown",
      "source": [
        "![image.png](data:image/png;base64,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)"
      ],
      "metadata": {
        "id": "-ORi6rLUzDwM"
      }
    },
    {
      "cell_type": "markdown",
      "source": [
        "epoch을 20으로 바꿨더니 살짝 overfitting이 된 듯 합니다. `날씨가 좋아요` 도 잘 답변했고 `고기가 먹고싶어요` 도 센스있는 답변.. 칭찬해"
      ],
      "metadata": {
        "id": "_hkkznhUzLlv"
      }
    },
    {
      "cell_type": "markdown",
      "source": [
        "---"
      ],
      "metadata": {
        "id": "gZvgvjCcz9WK"
      }
    },
    {
      "cell_type": "markdown",
      "source": [
        "## 루브릭\n",
        "| **평가문항** | **상세기준** | **성취결과** |\n",
        "|:---:|---|:---:|\n",
        "| 1. 한국어 전처리를 통해 학습 데이터셋을 구축하였다. | 공백과 특수문자 처리, 토크나이징, 병렬데이터 구축의 과정이 적절히 진행되었다. | O |\n",
        "| 2. 트랜스포머 모델을 구현하여 한국어 챗봇 모델 학습을 정상적으로 진행하였다. | 구현한 트랜스포머 모델이 한국어 병렬 데이터 학습 시 안정적으로 수렴하였다. | O |\n",
        "| 3. 한국어 입력문장에 대해 한국어로 답변하는 함수를 구현하였다. | 한국어 입력문장에 맥락에 맞는 한국어로 답변을 리턴하였다. | O |"
      ],
      "metadata": {
        "id": "aMkxpcNgoX4u"
      }
    },
    {
      "cell_type": "markdown",
      "source": [
        "## ✍ 회고"
      ],
      "metadata": {
        "id": "_APlqueEsbRo"
      }
    },
    {
      "cell_type": "markdown",
      "source": [
        "* 한국어를 처리하는데 konlpy와 같은 한국어 형태소 분석기를 사용하지 않고 내부 단어 토크나이저인 SubwordTextEncoder를 그대로 사용했는데도 나쁘지 않은 결과가 나왔다. 그리고 이전에 했던 프로젝트보다 자연스러운 결과가 나와서 놀라웠다.\n"
      ],
      "metadata": {
        "id": "JC4tmdCK0dAs"
      }
    },
    {
      "cell_type": "markdown",
      "source": [
        "* 중간에 10epoch으로 학습을 하고 하이퍼 파라미터 하나 바꾸고 전체실행말고 그부분부터 다시실행해서 학습이 덮어졌다. 굉장히 overfitting됐다. 새로 추가한 질문은 엉망이었다. "
      ],
      "metadata": {
        "id": "-u7rIGwo1Z8c"
      }
    },
    {
      "cell_type": "markdown",
      "source": [
        "* 샘플의 길이 통계를 내서 maxlen을 추정해보면 좋다고 ex12에서 봤다. 마찬가지로 수행하니 길이가 비슷비슷해져서 결과가 더 자연스러워진 것 같다."
      ],
      "metadata": {
        "id": "-rNGe9cm1vsl"
      }
    },
    {
      "cell_type": "markdown",
      "source": [
        "* 트랜스포머를 처음 배웠는데 너무 좋더라. 위치와 상관없이 모든 단어를 참고해서 다음 단어를 예측할수 있다니. RNN기반 모델은 이전 프로젝트에서 어순을 잘 못맞출 때도 있었는데 트랜스포머를 사용해서 그런지 이번 학습 결과는 어순을 못맞추는 경우는 전혀 없었다.  \n",
        "다만 rnn, 트랜스포머는 문장을 입력받을 때의 방법이 전혀 달라서 신경써줘야 할 부분이 꽤 있었다. 그 부분은 넘어야 할 산이겠죠.."
      ],
      "metadata": {
        "id": "QPeRXgA62EWU"
      }
    },
    {
      "cell_type": "markdown",
      "source": [
        "* 커스텀 된 학습률 부분에서 cs231n을 공부할 때 배운 'learning rate decay'와 비슷한 메커니즘으로 learning rate를 낮춰서 수렴시키는 기법이 나왔다. 여태껏 해왔던 adam optimizer를 불러와서 그 함수의 옵션에 decay를 추가하거나 beta값을 변경시키는 방법과 달랐다. keras에 내장된 `LearningRateSchedule`을 이용해서 custom할 수 있는 방법이었다. 다양한 방법을 배울 수 있었다. "
      ],
      "metadata": {
        "id": "Yj3kOpD12gXT"
      }
    },
    {
      "cell_type": "markdown",
      "source": [
        "* 나름 잘 답변했지만 그래도 부족한 부분은 있기 마련이었다.    \n",
        "`배고파` 질문의 답으로 `얼른 맛난 드세요` 라고 출력한 적이 있었다.  \n",
        "무슨말인가 했더니 나중에 다른 학습에서는 `얼른 맛난 음식 드세요` 로 출력이 됐다.  \n",
        "맛난 과 음식의 연관성을 더 학습하지 못해서였지 않을까? 공교롭게도 epoch를 10에서 20으로 늘린 뒤 `맛난 음식`으로 잘 출력했던 것이었다.  \n",
        "적절한 epoch 역시 중요하다!"
      ],
      "metadata": {
        "id": "5TqnNHcF4yRy"
      }
    },
    {
      "cell_type": "markdown",
      "source": [
        "* 잘 학습되는 모습을 보니 만족스럽다. 그리고 데이터셋의 중요성을 깨닫게 된다. 현재 만개정도의 질문+답변 모음이 있어서 학습이 잘 된것이라고 본다. 생각해보면 만개의 질문+답변을 내가 쉽게 만들 수 있을까?  \n",
        "비용적 측면과 그 수집된 데이터의 품질이 무엇보다 중요하다는 점을 깨달은 프로젝트였다."
      ],
      "metadata": {
        "id": "1IGDaDkq5V7F"
      }
    },
    {
      "cell_type": "markdown",
      "source": [
        "---"
      ],
      "metadata": {
        "id": "z1Y1aT4M0gaa"
      }
    },
    {
      "cell_type": "markdown",
      "source": [
        "++ 번외 🍖\n"
      ],
      "metadata": {
        "id": "9GIlwI_RtRI4"
      }
    },
    {
      "cell_type": "markdown",
      "source": [
        "![image.png](data:image/png;base64,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)"
      ],
      "metadata": {
        "id": "p-uiYdmjtWAb"
      }
    },
    {
      "cell_type": "markdown",
      "source": [
        "넘행...( ᴗ_ᴗ̩̩ )"
      ],
      "metadata": {
        "id": "S2wUAvKF6HrR"
      }
    }
  ]
}