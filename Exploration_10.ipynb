{
  "cells": [
    {
      "cell_type": "markdown",
      "metadata": {
        "id": "view-in-github",
        "colab_type": "text"
      },
      "source": [
        "<a href=\"https://colab.research.google.com/github/itchyfeet-patient/Beautiful-Exploration/blob/master/Exploration_10.ipynb\" target=\"_parent\"><img src=\"https://colab.research.google.com/assets/colab-badge.svg\" alt=\"Open In Colab\"/></a>"
      ]
    },
    {
      "cell_type": "markdown",
      "metadata": {
        "id": "XpBON82R0hQU"
      },
      "source": [
        "# **10-10. 프로젝트 : 단어 Level로 번역기 업그레이드하기 🆎 🔊**\n",
        "프로젝트를 진행하기 전에 주요 라이브러리 버전을 확인해 보죠."
      ]
    },
    {
      "cell_type": "code",
      "execution_count": null,
      "metadata": {
        "colab": {
          "base_uri": "https://localhost:8080/"
        },
        "id": "ZblntZ4T3o47",
        "outputId": "5aa6279f-4a18-48f9-9f08-d8fa1de6c892"
      },
      "outputs": [
        {
          "output_type": "stream",
          "name": "stdout",
          "text": [
            "2.8.2\n"
          ]
        }
      ],
      "source": [
        "import re\n",
        "\n",
        "import pandas as pd\n",
        "import numpy as np\n",
        "import tensorflow as tf\n",
        "from tensorflow.keras.preprocessing.text import Tokenizer\n",
        "from tensorflow.keras.preprocessing.sequence import pad_sequences\n",
        "from tensorflow.keras.utils import to_categorical\n",
        "from tensorflow.keras.layers import Embedding, GRU, Dense\n",
        "\n",
        "print(tf.__version__)"
      ]
    },
    {
      "cell_type": "markdown",
      "metadata": {
        "id": "pFUjp8As0p25"
      },
      "source": [
        "실습에서 구현한 번역기는 글자 단위(Character-level)에서 구현된 번역기였습니다. 하지만 실제 번역기의 경우에는 글자 단위가 아니라 **단어 단위(Word-level)**에서 구현되는 것이 좀 더 보편적입니다.  \n",
        "\n",
        "동일한 데이터셋을 사용하면서 글자 단위와는 **다른 전처리**와 **임베딩 층**(Embedding layer)를 추가하여 단어 단위의 번역기를 완성시켜보겠습니다. 하지만, 단어 단위로 할 경우에는 **단어의 개수가 글자 단위로 했을 경우와 비교하여 단어장의 크기(Vocabulary) 크기도 커지고, 학습 속도도 좀 더 느려집니다.** 학습과 테스트 시의 원활한 진행을 위해서 데이터에서 상위 33,000개의 샘플만 사용해주세요.  \n",
        "\n",
        "33000개 중 3000개는 테스트 데이터로 분리하여 모델을 학습한 후에 번역을 테스트 하는 용도로 사용합니다."
      ]
    },
    {
      "cell_type": "code",
      "execution_count": null,
      "metadata": {
        "colab": {
          "base_uri": "https://localhost:8080/",
          "height": 224
        },
        "id": "FnMtU9mDAY5K",
        "outputId": "e12c0188-1180-4e9e-c53f-33b45978d441"
      },
      "outputs": [
        {
          "output_type": "stream",
          "name": "stdout",
          "text": [
            "전체 샘플의 수 : 194513\n"
          ]
        },
        {
          "output_type": "execute_result",
          "data": {
            "text/plain": [
              "                                             eng  \\\n",
              "91573                You've made a huge mistake.   \n",
              "131374         What were you doing at that time?   \n",
              "33765                        You're pretty good.   \n",
              "160522  I've already finished reading this book.   \n",
              "51441                     Summer has just begun.   \n",
              "\n",
              "                                      fra  \\\n",
              "91573       Tu as fait une grosse erreur.   \n",
              "131374  Que faisiez-vous à cette époque ?   \n",
              "33765             Vous êtes plutôt bonne.   \n",
              "160522   J'ai déjà fini de lire ce livre.   \n",
              "51441             L'été a juste commencé.   \n",
              "\n",
              "                                                       cc  \n",
              "91573   CC-BY 2.0 (France) Attribution: tatoeba.org #1...  \n",
              "131374  CC-BY 2.0 (France) Attribution: tatoeba.org #6...  \n",
              "33765   CC-BY 2.0 (France) Attribution: tatoeba.org #1...  \n",
              "160522  CC-BY 2.0 (France) Attribution: tatoeba.org #1...  \n",
              "51441   CC-BY 2.0 (France) Attribution: tatoeba.org #1...  "
            ],
            "text/html": [
              "\n",
              "  <div id=\"df-61956718-1c17-4d87-aace-6e26c0542730\">\n",
              "    <div class=\"colab-df-container\">\n",
              "      <div>\n",
              "<style scoped>\n",
              "    .dataframe tbody tr th:only-of-type {\n",
              "        vertical-align: middle;\n",
              "    }\n",
              "\n",
              "    .dataframe tbody tr th {\n",
              "        vertical-align: top;\n",
              "    }\n",
              "\n",
              "    .dataframe thead th {\n",
              "        text-align: right;\n",
              "    }\n",
              "</style>\n",
              "<table border=\"1\" class=\"dataframe\">\n",
              "  <thead>\n",
              "    <tr style=\"text-align: right;\">\n",
              "      <th></th>\n",
              "      <th>eng</th>\n",
              "      <th>fra</th>\n",
              "      <th>cc</th>\n",
              "    </tr>\n",
              "  </thead>\n",
              "  <tbody>\n",
              "    <tr>\n",
              "      <th>91573</th>\n",
              "      <td>You've made a huge mistake.</td>\n",
              "      <td>Tu as fait une grosse erreur.</td>\n",
              "      <td>CC-BY 2.0 (France) Attribution: tatoeba.org #1...</td>\n",
              "    </tr>\n",
              "    <tr>\n",
              "      <th>131374</th>\n",
              "      <td>What were you doing at that time?</td>\n",
              "      <td>Que faisiez-vous à cette époque ?</td>\n",
              "      <td>CC-BY 2.0 (France) Attribution: tatoeba.org #6...</td>\n",
              "    </tr>\n",
              "    <tr>\n",
              "      <th>33765</th>\n",
              "      <td>You're pretty good.</td>\n",
              "      <td>Vous êtes plutôt bonne.</td>\n",
              "      <td>CC-BY 2.0 (France) Attribution: tatoeba.org #1...</td>\n",
              "    </tr>\n",
              "    <tr>\n",
              "      <th>160522</th>\n",
              "      <td>I've already finished reading this book.</td>\n",
              "      <td>J'ai déjà fini de lire ce livre.</td>\n",
              "      <td>CC-BY 2.0 (France) Attribution: tatoeba.org #1...</td>\n",
              "    </tr>\n",
              "    <tr>\n",
              "      <th>51441</th>\n",
              "      <td>Summer has just begun.</td>\n",
              "      <td>L'été a juste commencé.</td>\n",
              "      <td>CC-BY 2.0 (France) Attribution: tatoeba.org #1...</td>\n",
              "    </tr>\n",
              "  </tbody>\n",
              "</table>\n",
              "</div>\n",
              "      <button class=\"colab-df-convert\" onclick=\"convertToInteractive('df-61956718-1c17-4d87-aace-6e26c0542730')\"\n",
              "              title=\"Convert this dataframe to an interactive table.\"\n",
              "              style=\"display:none;\">\n",
              "        \n",
              "  <svg xmlns=\"http://www.w3.org/2000/svg\" height=\"24px\"viewBox=\"0 0 24 24\"\n",
              "       width=\"24px\">\n",
              "    <path d=\"M0 0h24v24H0V0z\" fill=\"none\"/>\n",
              "    <path d=\"M18.56 5.44l.94 2.06.94-2.06 2.06-.94-2.06-.94-.94-2.06-.94 2.06-2.06.94zm-11 1L8.5 8.5l.94-2.06 2.06-.94-2.06-.94L8.5 2.5l-.94 2.06-2.06.94zm10 10l.94 2.06.94-2.06 2.06-.94-2.06-.94-.94-2.06-.94 2.06-2.06.94z\"/><path d=\"M17.41 7.96l-1.37-1.37c-.4-.4-.92-.59-1.43-.59-.52 0-1.04.2-1.43.59L10.3 9.45l-7.72 7.72c-.78.78-.78 2.05 0 2.83L4 21.41c.39.39.9.59 1.41.59.51 0 1.02-.2 1.41-.59l7.78-7.78 2.81-2.81c.8-.78.8-2.07 0-2.86zM5.41 20L4 18.59l7.72-7.72 1.47 1.35L5.41 20z\"/>\n",
              "  </svg>\n",
              "      </button>\n",
              "      \n",
              "  <style>\n",
              "    .colab-df-container {\n",
              "      display:flex;\n",
              "      flex-wrap:wrap;\n",
              "      gap: 12px;\n",
              "    }\n",
              "\n",
              "    .colab-df-convert {\n",
              "      background-color: #E8F0FE;\n",
              "      border: none;\n",
              "      border-radius: 50%;\n",
              "      cursor: pointer;\n",
              "      display: none;\n",
              "      fill: #1967D2;\n",
              "      height: 32px;\n",
              "      padding: 0 0 0 0;\n",
              "      width: 32px;\n",
              "    }\n",
              "\n",
              "    .colab-df-convert:hover {\n",
              "      background-color: #E2EBFA;\n",
              "      box-shadow: 0px 1px 2px rgba(60, 64, 67, 0.3), 0px 1px 3px 1px rgba(60, 64, 67, 0.15);\n",
              "      fill: #174EA6;\n",
              "    }\n",
              "\n",
              "    [theme=dark] .colab-df-convert {\n",
              "      background-color: #3B4455;\n",
              "      fill: #D2E3FC;\n",
              "    }\n",
              "\n",
              "    [theme=dark] .colab-df-convert:hover {\n",
              "      background-color: #434B5C;\n",
              "      box-shadow: 0px 1px 3px 1px rgba(0, 0, 0, 0.15);\n",
              "      filter: drop-shadow(0px 1px 2px rgba(0, 0, 0, 0.3));\n",
              "      fill: #FFFFFF;\n",
              "    }\n",
              "  </style>\n",
              "\n",
              "      <script>\n",
              "        const buttonEl =\n",
              "          document.querySelector('#df-61956718-1c17-4d87-aace-6e26c0542730 button.colab-df-convert');\n",
              "        buttonEl.style.display =\n",
              "          google.colab.kernel.accessAllowed ? 'block' : 'none';\n",
              "\n",
              "        async function convertToInteractive(key) {\n",
              "          const element = document.querySelector('#df-61956718-1c17-4d87-aace-6e26c0542730');\n",
              "          const dataTable =\n",
              "            await google.colab.kernel.invokeFunction('convertToInteractive',\n",
              "                                                     [key], {});\n",
              "          if (!dataTable) return;\n",
              "\n",
              "          const docLinkHtml = 'Like what you see? Visit the ' +\n",
              "            '<a target=\"_blank\" href=https://colab.research.google.com/notebooks/data_table.ipynb>data table notebook</a>'\n",
              "            + ' to learn more about interactive tables.';\n",
              "          element.innerHTML = '';\n",
              "          dataTable['output_type'] = 'display_data';\n",
              "          await google.colab.output.renderOutput(dataTable, element);\n",
              "          const docLink = document.createElement('div');\n",
              "          docLink.innerHTML = docLinkHtml;\n",
              "          element.appendChild(docLink);\n",
              "        }\n",
              "      </script>\n",
              "    </div>\n",
              "  </div>\n",
              "  "
            ]
          },
          "metadata": {},
          "execution_count": 19
        }
      ],
      "source": [
        "file_path = '/content/drive/MyDrive/dataset/translator_seq2seq/data/fra.txt'\n",
        "lines = pd.read_csv(file_path, names=['eng', 'fra', 'cc'], sep='\\t')\n",
        "print('전체 샘플의 수 :',len(lines))\n",
        "lines.sample(5) #샘플 5개 출력"
      ]
    },
    {
      "cell_type": "code",
      "execution_count": null,
      "metadata": {
        "colab": {
          "base_uri": "https://localhost:8080/",
          "height": 206
        },
        "id": "dcgrIBwsFZGS",
        "outputId": "1ca380fd-e63b-4ad8-c836-b49f26eb1a7f"
      },
      "outputs": [
        {
          "output_type": "execute_result",
          "data": {
            "text/plain": [
              "                      eng                           fra\n",
              "9032       We can't fail.  Nous ne pouvons pas échouer.\n",
              "4886        I felt great.   Je me suis très bien senti.\n",
              "24345  I wasn't punished.         Je n'étais pas punie.\n",
              "18782   I must leave now.    Je dois partir maintenant.\n",
              "5981        This is sick.                 C'est dingue."
            ],
            "text/html": [
              "\n",
              "  <div id=\"df-572db713-d29d-46db-97d6-c164a5cff8e0\">\n",
              "    <div class=\"colab-df-container\">\n",
              "      <div>\n",
              "<style scoped>\n",
              "    .dataframe tbody tr th:only-of-type {\n",
              "        vertical-align: middle;\n",
              "    }\n",
              "\n",
              "    .dataframe tbody tr th {\n",
              "        vertical-align: top;\n",
              "    }\n",
              "\n",
              "    .dataframe thead th {\n",
              "        text-align: right;\n",
              "    }\n",
              "</style>\n",
              "<table border=\"1\" class=\"dataframe\">\n",
              "  <thead>\n",
              "    <tr style=\"text-align: right;\">\n",
              "      <th></th>\n",
              "      <th>eng</th>\n",
              "      <th>fra</th>\n",
              "    </tr>\n",
              "  </thead>\n",
              "  <tbody>\n",
              "    <tr>\n",
              "      <th>9032</th>\n",
              "      <td>We can't fail.</td>\n",
              "      <td>Nous ne pouvons pas échouer.</td>\n",
              "    </tr>\n",
              "    <tr>\n",
              "      <th>4886</th>\n",
              "      <td>I felt great.</td>\n",
              "      <td>Je me suis très bien senti.</td>\n",
              "    </tr>\n",
              "    <tr>\n",
              "      <th>24345</th>\n",
              "      <td>I wasn't punished.</td>\n",
              "      <td>Je n'étais pas punie.</td>\n",
              "    </tr>\n",
              "    <tr>\n",
              "      <th>18782</th>\n",
              "      <td>I must leave now.</td>\n",
              "      <td>Je dois partir maintenant.</td>\n",
              "    </tr>\n",
              "    <tr>\n",
              "      <th>5981</th>\n",
              "      <td>This is sick.</td>\n",
              "      <td>C'est dingue.</td>\n",
              "    </tr>\n",
              "  </tbody>\n",
              "</table>\n",
              "</div>\n",
              "      <button class=\"colab-df-convert\" onclick=\"convertToInteractive('df-572db713-d29d-46db-97d6-c164a5cff8e0')\"\n",
              "              title=\"Convert this dataframe to an interactive table.\"\n",
              "              style=\"display:none;\">\n",
              "        \n",
              "  <svg xmlns=\"http://www.w3.org/2000/svg\" height=\"24px\"viewBox=\"0 0 24 24\"\n",
              "       width=\"24px\">\n",
              "    <path d=\"M0 0h24v24H0V0z\" fill=\"none\"/>\n",
              "    <path d=\"M18.56 5.44l.94 2.06.94-2.06 2.06-.94-2.06-.94-.94-2.06-.94 2.06-2.06.94zm-11 1L8.5 8.5l.94-2.06 2.06-.94-2.06-.94L8.5 2.5l-.94 2.06-2.06.94zm10 10l.94 2.06.94-2.06 2.06-.94-2.06-.94-.94-2.06-.94 2.06-2.06.94z\"/><path d=\"M17.41 7.96l-1.37-1.37c-.4-.4-.92-.59-1.43-.59-.52 0-1.04.2-1.43.59L10.3 9.45l-7.72 7.72c-.78.78-.78 2.05 0 2.83L4 21.41c.39.39.9.59 1.41.59.51 0 1.02-.2 1.41-.59l7.78-7.78 2.81-2.81c.8-.78.8-2.07 0-2.86zM5.41 20L4 18.59l7.72-7.72 1.47 1.35L5.41 20z\"/>\n",
              "  </svg>\n",
              "      </button>\n",
              "      \n",
              "  <style>\n",
              "    .colab-df-container {\n",
              "      display:flex;\n",
              "      flex-wrap:wrap;\n",
              "      gap: 12px;\n",
              "    }\n",
              "\n",
              "    .colab-df-convert {\n",
              "      background-color: #E8F0FE;\n",
              "      border: none;\n",
              "      border-radius: 50%;\n",
              "      cursor: pointer;\n",
              "      display: none;\n",
              "      fill: #1967D2;\n",
              "      height: 32px;\n",
              "      padding: 0 0 0 0;\n",
              "      width: 32px;\n",
              "    }\n",
              "\n",
              "    .colab-df-convert:hover {\n",
              "      background-color: #E2EBFA;\n",
              "      box-shadow: 0px 1px 2px rgba(60, 64, 67, 0.3), 0px 1px 3px 1px rgba(60, 64, 67, 0.15);\n",
              "      fill: #174EA6;\n",
              "    }\n",
              "\n",
              "    [theme=dark] .colab-df-convert {\n",
              "      background-color: #3B4455;\n",
              "      fill: #D2E3FC;\n",
              "    }\n",
              "\n",
              "    [theme=dark] .colab-df-convert:hover {\n",
              "      background-color: #434B5C;\n",
              "      box-shadow: 0px 1px 3px 1px rgba(0, 0, 0, 0.15);\n",
              "      filter: drop-shadow(0px 1px 2px rgba(0, 0, 0, 0.3));\n",
              "      fill: #FFFFFF;\n",
              "    }\n",
              "  </style>\n",
              "\n",
              "      <script>\n",
              "        const buttonEl =\n",
              "          document.querySelector('#df-572db713-d29d-46db-97d6-c164a5cff8e0 button.colab-df-convert');\n",
              "        buttonEl.style.display =\n",
              "          google.colab.kernel.accessAllowed ? 'block' : 'none';\n",
              "\n",
              "        async function convertToInteractive(key) {\n",
              "          const element = document.querySelector('#df-572db713-d29d-46db-97d6-c164a5cff8e0');\n",
              "          const dataTable =\n",
              "            await google.colab.kernel.invokeFunction('convertToInteractive',\n",
              "                                                     [key], {});\n",
              "          if (!dataTable) return;\n",
              "\n",
              "          const docLinkHtml = 'Like what you see? Visit the ' +\n",
              "            '<a target=\"_blank\" href=https://colab.research.google.com/notebooks/data_table.ipynb>data table notebook</a>'\n",
              "            + ' to learn more about interactive tables.';\n",
              "          element.innerHTML = '';\n",
              "          dataTable['output_type'] = 'display_data';\n",
              "          await google.colab.output.renderOutput(dataTable, element);\n",
              "          const docLink = document.createElement('div');\n",
              "          docLink.innerHTML = docLinkHtml;\n",
              "          element.appendChild(docLink);\n",
              "        }\n",
              "      </script>\n",
              "    </div>\n",
              "  </div>\n",
              "  "
            ]
          },
          "metadata": {},
          "execution_count": 20
        }
      ],
      "source": [
        "lines = lines[['eng', 'fra']][:33000] # 3만3천개 샘플 사용\n",
        "lines.sample(5)"
      ]
    },
    {
      "cell_type": "markdown",
      "metadata": {
        "id": "9Pzkwfxy0waH"
      },
      "source": [
        "## **Step 1. 정제, 정규화, 전처리 (영어, 프랑스어 모두!)**  \n",
        "글자 단위가 아닌 단어 단위의 번역기를 하기 위해서는 글자 단위에서는 신경쓰지 않았던 몇 가지 추가적인 전처리가 필요합니다.  \n",
        "\n",
        "**1. 구두점(Punctuation)을 단어와 분리해주세요.**   \n",
        "일반적으로 영어권 언어의 경우에는 띄어쓰기 단위로 단어를 분리합니다. 토큰화(Tokenization)이라고도 불리는 이 작업은 어디서부터 어디까지가 하나의 단어인지를 구분하는 작업인데요. 그런데 띄어쓰기를 해주기 전에 구두점을 분리하는 작업이 필요할 때가 있습니다.  \n",
        "\n",
        "예를 들어서 'he is a good boy!'라는 문장이 있을 때, 이를 띄어쓰기 단위로 토큰화한다면  \n",
        "\n",
        "['he', 'is', 'a', 'good', 'boy!']가 됩니다. 그런데 실제로 !는 boy와 붙어있는 한 단어가 아니므로  \n",
        "\n",
        "좀 더 올바른 전처리는 ['he', 'is', 'a', 'good', 'boy', '!']가 맞습니다.  \n",
        "\n",
        "!나 ? 또는 온점과 같은 특수문자들을 구두점(punctuation)이라고 부릅니다.  \n",
        "\n",
        "이들을 토큰화하기 전에 단어와 미리 분리시켜주세요!  \n",
        "\n",
        "분리 전 : he is a Good boy!   \n",
        "\n",
        "분리 후 : he is a Good boy !  \n",
        "\n",
        "**2. 소문자로 바꿔주세요.**  \n",
        "기계가 보기에는 스펠링이 같더라도 대문자로 된 단어와 소문자로 된 단어는 서로 다른 단어입니다. 예를 들어 'Good'과 'good'은 기계가 보기에는 다른 단어입니다. 그래서 모든 문장에 대해서 전부 영어로 바꿔주는 작업을 하겠습니다.\n",
        "\n",
        "변환 전 : he is a Good boy !  \n",
        "\n",
        "변환 후 : he is a good boy !  \n",
        "\n",
        "**3. 띄어쓰기 단위로 토큰화를 수행하세요.**   \n",
        "띄어쓰기 단위로 토큰화를 수행해서 단어를 분리하는 작업을 해주세요. 기계는 이렇게 분리된 토큰들을 각각 하나의 단어로 인식할 수 있게 됩니다.  \n",
        "\n",
        "토큰화 전 : 'he is a good boy !'  \n",
        "\n",
        "토큰화 후 : ['he', 'is', 'a', 'good', 'boy', '!']  "
      ]
    },
    {
      "cell_type": "markdown",
      "metadata": {
        "id": "E9Wizg-E6IiV"
      },
      "source": [
        "**4. 프랑스어 악센트 삭제?**  \n",
        "'déjà diné' -> deja dine"
      ]
    },
    {
      "cell_type": "code",
      "source": [
        "# pip install unidecode"
      ],
      "metadata": {
        "id": "L0YwMfwoZs4f"
      },
      "execution_count": null,
      "outputs": []
    },
    {
      "cell_type": "code",
      "source": [
        "import unidecode\n",
        "accented_string = 'Málaga!'\n",
        "# accented_string is of type 'unicode'\n",
        "\n",
        "unaccented_string = unidecode.unidecode(accented_string)\n",
        "# unaccented_string contains 'Malaga'and is of type 'str'"
      ],
      "metadata": {
        "id": "TJnFGRoFZeCJ"
      },
      "execution_count": null,
      "outputs": []
    },
    {
      "cell_type": "code",
      "source": [
        "unaccented_string"
      ],
      "metadata": {
        "colab": {
          "base_uri": "https://localhost:8080/",
          "height": 35
        },
        "id": "2Vyqy027Zyqs",
        "outputId": "858c77a8-76ba-460e-8e9a-27b4900ea356"
      },
      "execution_count": null,
      "outputs": [
        {
          "output_type": "execute_result",
          "data": {
            "text/plain": [
              "'Malaga!'"
            ],
            "application/vnd.google.colaboratory.intrinsic+json": {
              "type": "string"
            }
          },
          "metadata": {},
          "execution_count": 23
        }
      ]
    },
    {
      "cell_type": "code",
      "execution_count": null,
      "metadata": {
        "colab": {
          "base_uri": "https://localhost:8080/"
        },
        "id": "CylKvOHc70jP",
        "outputId": "5401e7c6-ee52-4b5a-bfbd-6f37f28f07e5"
      },
      "outputs": [
        {
          "output_type": "stream",
          "name": "stdout",
          "text": [
            "courez !\n",
            "['courez', '!']\n"
          ]
        }
      ],
      "source": [
        "def preprocess_sentence(sentence):\n",
        "\n",
        "    sentence = unidecode.unidecode(sentence)\n",
        "    # 1 구두점들 중 하나에 해당되면 양쪽에 공백넣어서 \" 해당 그것 \" 이렇게 바꿔라)\n",
        "    sentence = re.sub(r\"([?.!,¿])\", r\" \\1 \", sentence)\n",
        "    # 2. 소문자로 바꿔주세요\n",
        "    sentence = sentence.lower().strip()\n",
        "    # 정규표현식 모듈 re  .sub 메소드 - 매치된 부분을 치환\n",
        "    sentence = re.sub(r'[\" \"]+', \" \", sentence)\n",
        "    # 공백 \" \"이 한번이상 반복되면(+) , \" \"로 바까라\n",
        "    sentence = re.sub(r\"[^a-zA-Z?.!,¿]+\", \" \", sentence)\n",
        "    # 소문자 a~z 거나 A~Z 거나 ? . , ! 거꾸로물음표 를 제외(^)한게 한번이상 반복(+)되면 \" \" 공백으로 바꿔라 \n",
        "    sentence = re.sub(r\"\\s+\", \" \", sentence)\n",
        "    sentence = sentence.strip()\n",
        "    # 다시 양쪽공백없애라!!\n",
        "    \n",
        "    return sentence\n",
        "\n",
        "def tokenize(sentence):\n",
        "    tokenizer = sentence.split()\n",
        "    \n",
        "    return tokenizer\n",
        "\n",
        "\n",
        "print(preprocess_sentence(\"Courez!\"))\n",
        "print(tokenize(preprocess_sentence(\"Courez!\")))"
      ]
    },
    {
      "cell_type": "markdown",
      "metadata": {
        "id": "tcFhXG9YQvN3"
      },
      "source": [
        "전처리 수행"
      ]
    },
    {
      "cell_type": "code",
      "execution_count": null,
      "metadata": {
        "colab": {
          "base_uri": "https://localhost:8080/"
        },
        "id": "pDtmRyM_StUC",
        "outputId": "b6fa9980-5756-4c69-a3c0-6af909982cfa"
      },
      "outputs": [
        {
          "output_type": "execute_result",
          "data": {
            "text/plain": [
              "[['go', '.'],\n",
              " ['go', '.'],\n",
              " ['go', '.'],\n",
              " ['hi', '.'],\n",
              " ['hi', '.'],\n",
              " ['run', '!'],\n",
              " ['run', '!'],\n",
              " ['run', '!'],\n",
              " ['run', '!'],\n",
              " ['run', '!']]"
            ]
          },
          "metadata": {},
          "execution_count": 25
        }
      ],
      "source": [
        "encoder_input = []\n",
        "\n",
        "for sentence in lines.eng :\n",
        "    # 길이가 0인 문장은 건너뛰기\n",
        "    if len(sentence) == 0: continue\n",
        "    \n",
        "    # 정제를 하고 담아주세요\n",
        "    preprocessed_sentence = preprocess_sentence(sentence) #정제\n",
        "    preprocessed_sentence = tokenize(preprocessed_sentence)\n",
        "    encoder_input.append(preprocessed_sentence) # 담기\n",
        "        \n",
        "# 정제된 결과를 10개만 확인해보죠\n",
        "encoder_input[:10]"
      ]
    },
    {
      "cell_type": "code",
      "execution_count": null,
      "metadata": {
        "colab": {
          "base_uri": "https://localhost:8080/"
        },
        "id": "IdMEi22WQu0Y",
        "outputId": "901389ba-9e35-40ec-f95b-8b9022414add"
      },
      "outputs": [
        {
          "output_type": "execute_result",
          "data": {
            "text/plain": [
              "[['<sos>', 'va', '!'],\n",
              " ['<sos>', 'marche', '.'],\n",
              " ['<sos>', 'bouge', '!'],\n",
              " ['<sos>', 'salut', '!'],\n",
              " ['<sos>', 'salut', '.'],\n",
              " ['<sos>', 'cours', '!'],\n",
              " ['<sos>', 'courez', '!'],\n",
              " ['<sos>', 'prenez', 'vos', 'jambes', 'a', 'vos', 'cous', '!'],\n",
              " ['<sos>', 'file', '!'],\n",
              " ['<sos>', 'filez', '!']]"
            ]
          },
          "metadata": {},
          "execution_count": 26
        }
      ],
      "source": [
        "decoder_input = []\n",
        "\n",
        "for sentence in lines.fra :\n",
        "    # 길이가 0인 문장은 건너뛰기\n",
        "    if len(sentence) == 0: continue\n",
        "    \n",
        "    # 정제를 하고 담아주세요\n",
        "    \n",
        "    preprocessed_sentence = preprocess_sentence(sentence) #정제\n",
        "    preprocessed_sentence = '<sos> ' + preprocessed_sentence\n",
        "    preprocessed_sentence = tokenize(preprocessed_sentence)\n",
        "    \n",
        "    decoder_input.append(preprocessed_sentence) # 담기\n",
        "    \n",
        "        \n",
        "# 정제된 결과를 10개만 확인해보죠\n",
        "decoder_input[:10]"
      ]
    },
    {
      "cell_type": "code",
      "execution_count": null,
      "metadata": {
        "colab": {
          "base_uri": "https://localhost:8080/"
        },
        "id": "buShvMRvqNFe",
        "outputId": "cbf1b057-f844-43ec-b56a-630114ba8a0a"
      },
      "outputs": [
        {
          "output_type": "execute_result",
          "data": {
            "text/plain": [
              "[['va', '!', '<eos>'],\n",
              " ['marche', '.', '<eos>'],\n",
              " ['bouge', '!', '<eos>'],\n",
              " ['salut', '!', '<eos>'],\n",
              " ['salut', '.', '<eos>'],\n",
              " ['cours', '!', '<eos>'],\n",
              " ['courez', '!', '<eos>'],\n",
              " ['prenez', 'vos', 'jambes', 'a', 'vos', 'cous', '!', '<eos>'],\n",
              " ['file', '!', '<eos>'],\n",
              " ['filez', '!', '<eos>']]"
            ]
          },
          "metadata": {},
          "execution_count": 27
        }
      ],
      "source": [
        "decoder_label = []\n",
        "\n",
        "for sentence in lines.fra :\n",
        "    # 길이가 0인 문장은 건너뛰기\n",
        "    if len(sentence) == 0: continue\n",
        "    \n",
        "    # 정제를 하고 담아주세요\n",
        "    preprocessed_sentence = preprocess_sentence(sentence) #정제\n",
        "    preprocessed_sentence = preprocessed_sentence + ' <eos>'\n",
        "    preprocessed_sentence = tokenize(preprocessed_sentence)\n",
        "    decoder_label.append(preprocessed_sentence) # 담기\n",
        "        \n",
        "# 정제된 결과를 10개만 확인해보죠\n",
        "decoder_label[:10]"
      ]
    },
    {
      "cell_type": "markdown",
      "metadata": {
        "id": "k7sNg72s1Etl"
      },
      "source": [
        "## **Step 2. 디코더의 문장에 시작 토큰과 종료 토큰을 넣어주세요.**\n",
        "글자 단위 번역기를 구현할 때와 마찬가지로 디코더의 입력 시퀀스 맨 앞에는 시작을 의미하는 토큰인 가 필요합니다. 그리고 교사 강요를 수행할 때, 디코더의 실제값이 되는 디코더의 레이블 시퀀스에는 종료를 의미하는 종료 토큰 가 필요합니다.\n",
        "\n",
        "예를 들어 번역 문장이 Courez!이었다고 한다면, Step 1을 거친 후에는 다음과 같은 결과를 얻습니다.\n",
        "\n",
        "Step 1을 수행한 후 : `['courez', '!']`\n",
        "\n",
        "이 문장에 대해서 각각 디코더의 입력 시퀀스와 레이블 시퀀스를 만들면 다음과 같습니다.\n",
        "\n",
        "입력 시퀀스 : `['', 'courez', '!']`\n",
        "\n",
        "레이블 시퀀스 : `['courez', '!', ']`\n",
        "\n",
        "참고로 Step 2가 반드시 Step 1이 끝난 후에 이루어질 필요는 없습니다!\n",
        "\n",
        "Step 1을 수행하는 중간에 수행해도 상관없습니다.\n",
        "\n"
      ]
    },
    {
      "cell_type": "code",
      "execution_count": null,
      "metadata": {
        "colab": {
          "base_uri": "https://localhost:8080/"
        },
        "id": "XVm1wb031RsM",
        "outputId": "086f1617-17b6-4402-ca58-422c909afd15"
      },
      "outputs": [
        {
          "output_type": "stream",
          "name": "stdout",
          "text": [
            "인코더의 입력 : [['go', '.'], ['go', '.'], ['go', '.'], ['hi', '.'], ['hi', '.'], ['run', '!'], ['run', '!'], ['run', '!'], ['run', '!'], ['run', '!']]\n",
            "디코더의 입력 : [['<sos>', 'va', '!'], ['<sos>', 'marche', '.'], ['<sos>', 'bouge', '!'], ['<sos>', 'salut', '!'], ['<sos>', 'salut', '.'], ['<sos>', 'cours', '!'], ['<sos>', 'courez', '!'], ['<sos>', 'prenez', 'vos', 'jambes', 'a', 'vos', 'cous', '!'], ['<sos>', 'file', '!'], ['<sos>', 'filez', '!']]\n",
            "디코더의 레이블 : [['va', '!', '<eos>'], ['marche', '.', '<eos>'], ['bouge', '!', '<eos>'], ['salut', '!', '<eos>'], ['salut', '.', '<eos>'], ['cours', '!', '<eos>'], ['courez', '!', '<eos>'], ['prenez', 'vos', 'jambes', 'a', 'vos', 'cous', '!', '<eos>'], ['file', '!', '<eos>'], ['filez', '!', '<eos>']]\n"
          ]
        }
      ],
      "source": [
        "print('인코더의 입력 :',encoder_input[:10])\n",
        "print('디코더의 입력 :',decoder_input[:10])\n",
        "print('디코더의 레이블 :',decoder_label[:10])"
      ]
    },
    {
      "cell_type": "markdown",
      "metadata": {
        "id": "rMwUXQfd1eI_"
      },
      "source": [
        "## **Step 3. 케라스의 토크나이저로 텍스트를 숫자로 바꿔보세요.**\n",
        "딥 러닝 모델은 각 단어를 텍스트가 아닌 숫자를 처리합니다. 케라스 토크나이저를 사용해서 각 단어를 고유한 정수로 바꿔보세요. 케라스 토크나이저의 사용법은\n",
        "\n",
        "아래의 링크에서 2. 케라스(Keras)의 텍스트 전처리 에 설명되어져 있습니다.  \n",
        "\n",
        "[위키독스](https://wikidocs.net/31766)  \n",
        "위 링크의 가이드를 통해서 영어와 프랑스어에 대한 토크나이저를 각각 생성하고,\n",
        "\n",
        "tokenizer.texts_to_sequences()를 사용하여 모든 샘플에 대해서 정수 시퀀스로 변환해보세요."
      ]
    },
    {
      "cell_type": "code",
      "execution_count": null,
      "metadata": {
        "colab": {
          "base_uri": "https://localhost:8080/"
        },
        "id": "2u54rg1E8E5c",
        "outputId": "b237d8ea-2b32-44e7-e96e-98ca56a96546"
      },
      "outputs": [
        {
          "output_type": "stream",
          "name": "stdout",
          "text": [
            "{'.': 1, 'i': 2, 'you': 3, '?': 4, 'tom': 5}\n",
            "{'go': 802, '.': 27844, 'hi': 14, 'run': 70, '!': 1030}\n",
            "[[29, 1], [29, 1], [29, 1], [765, 1], [765, 1]]\n"
          ]
        }
      ],
      "source": [
        "from itertools import islice\n",
        "tokenizer_eng = Tokenizer(filters=\" \")\n",
        "tokenizer_eng.fit_on_texts(encoder_input)\n",
        "print(dict(islice(tokenizer_eng.word_index.items(), 5)))\n",
        "print(dict(islice(tokenizer_eng.word_counts.items(), 5)))\n",
        "print(tokenizer_eng.texts_to_sequences(encoder_input)[:5])\n",
        "\n",
        "encoder_input = tokenizer_eng.texts_to_sequences(encoder_input)\n",
        "encoder_input = pad_sequences(encoder_input, padding='post')# 패딩\n",
        "\n"
      ]
    },
    {
      "cell_type": "code",
      "execution_count": null,
      "metadata": {
        "colab": {
          "base_uri": "https://localhost:8080/"
        },
        "id": "BQOIBdeeWvLC",
        "outputId": "663a8bf9-8520-418b-b31a-913e9a8a011b"
      },
      "outputs": [
        {
          "output_type": "stream",
          "name": "stdout",
          "text": [
            "{'.': 1, '<sos>': 2, '<eos>': 3, 'je': 4, 'est': 5}\n",
            "{'<sos>': 33000, 'va': 582, '!': 6094, 'marche': 134, '.': 51664}\n",
            "[[2, 73, 9], [2, 208, 1], [2, 626, 9], [2, 713, 9], [2, 713, 1]]\n"
          ]
        }
      ],
      "source": [
        "tokenizer_fra = Tokenizer(filters=\" \")\n",
        "tokenizer_fra.fit_on_texts(decoder_input)\n",
        "tokenizer_fra.fit_on_texts(decoder_label)\n",
        "print(dict(islice(tokenizer_fra.word_index.items(), 5)))\n",
        "print(dict(islice(tokenizer_fra.word_counts.items(), 5)))\n",
        "print(tokenizer_fra.texts_to_sequences(decoder_input)[:5])\n",
        "\n",
        "decoder_input = tokenizer_fra.texts_to_sequences(decoder_input)\n",
        "decoder_input = pad_sequences(decoder_input, padding='post')"
      ]
    },
    {
      "cell_type": "code",
      "execution_count": null,
      "metadata": {
        "colab": {
          "base_uri": "https://localhost:8080/"
        },
        "id": "FDATYw9TcXTg",
        "outputId": "9d44bdcc-1536-4665-9f80-d315ef6775c5"
      },
      "outputs": [
        {
          "output_type": "stream",
          "name": "stdout",
          "text": [
            "[[73, 9, 3], [208, 1, 3], [626, 9, 3], [713, 9, 3], [713, 1, 3], [650, 9, 3], [1802, 9, 3], [176, 256, 984, 8, 256, 2636, 9, 3], [846, 9, 3], [2135, 9, 3]]\n"
          ]
        }
      ],
      "source": [
        "\n",
        "print(tokenizer_fra.texts_to_sequences(decoder_label)[:10])\n",
        "decoder_label = tokenizer_fra.texts_to_sequences(decoder_label)\n",
        "decoder_label = pad_sequences(decoder_label, padding='post')"
      ]
    },
    {
      "cell_type": "code",
      "execution_count": null,
      "metadata": {
        "colab": {
          "base_uri": "https://localhost:8080/"
        },
        "id": "BOtNZbqlI2BG",
        "outputId": "842d33b5-6dbe-4be1-f194-5ceade4cc6ad"
      },
      "outputs": [
        {
          "output_type": "stream",
          "name": "stdout",
          "text": [
            "[ 2 73  9  0  0  0  0  0  0  0  0  0  0  0  0  0]\n",
            "[73  9  3  0  0  0  0  0  0  0  0  0  0  0  0  0]\n"
          ]
        }
      ],
      "source": [
        "print(decoder_input[0])\n",
        "print(decoder_label[0])\n"
      ]
    },
    {
      "cell_type": "code",
      "execution_count": null,
      "metadata": {
        "colab": {
          "base_uri": "https://localhost:8080/"
        },
        "id": "hkvruvxaljBx",
        "outputId": "9b69b67b-d272-48e0-8fa1-9ea2a87a7bcb"
      },
      "outputs": [
        {
          "output_type": "stream",
          "name": "stdout",
          "text": [
            "영어 시퀀스의 최대 길이 8\n",
            "프랑스어 시퀀스의 최대 길이 16\n"
          ]
        }
      ],
      "source": [
        "max_eng_seq_len = max([len(line) for line in encoder_input])\n",
        "max_fra_seq_len = max([len(line) for line in decoder_input])\n",
        "print('영어 시퀀스의 최대 길이', max_eng_seq_len)\n",
        "print('프랑스어 시퀀스의 최대 길이', max_fra_seq_len)"
      ]
    },
    {
      "cell_type": "code",
      "execution_count": null,
      "metadata": {
        "colab": {
          "base_uri": "https://localhost:8080/"
        },
        "id": "pvWU7ObSdDDY",
        "outputId": "5962b2d1-1631-4aee-a61f-66aff53f22f1"
      },
      "outputs": [
        {
          "output_type": "stream",
          "name": "stdout",
          "text": [
            "인코더 입력 크기(shape) : (33000, 8)\n",
            "디코더 입력 크기(shape) : (33000, 16)\n",
            "디코더 레이블 크기(shape) : (33000, 16)\n"
          ]
        }
      ],
      "source": [
        "print('인코더 입력 크기(shape) :',np.shape(encoder_input))\n",
        "print('디코더 입력 크기(shape) :',np.shape(decoder_input))\n",
        "print('디코더 레이블 크기(shape) :',np.shape(decoder_label))"
      ]
    },
    {
      "cell_type": "code",
      "execution_count": null,
      "metadata": {
        "colab": {
          "base_uri": "https://localhost:8080/"
        },
        "id": "CLyrGpQpkDbu",
        "outputId": "ca23ffb5-00f9-42a1-ce72-1354b80527ab"
      },
      "outputs": [
        {
          "output_type": "stream",
          "name": "stdout",
          "text": [
            "[29  1  0  0  0  0  0  0]\n",
            "[ 2 73  9  0  0  0  0  0  0  0  0  0  0  0  0  0]\n",
            "[73  9  3  0  0  0  0  0  0  0  0  0  0  0  0  0]\n"
          ]
        }
      ],
      "source": [
        "print(encoder_input[0])\n",
        "print(decoder_input[0])\n",
        "print(decoder_label[0])"
      ]
    },
    {
      "cell_type": "code",
      "execution_count": null,
      "metadata": {
        "colab": {
          "base_uri": "https://localhost:8080/"
        },
        "id": "KNQFAeMulJCk",
        "outputId": "42f6fd1a-cb54-4455-d81a-a8b4a98d7f27"
      },
      "outputs": [
        {
          "output_type": "stream",
          "name": "stdout",
          "text": [
            "영어 단어장의 크기 : 4671\n",
            "프랑스어 단어장의 크기 : 8154\n"
          ]
        }
      ],
      "source": [
        "eng_vocab_size = len(tokenizer_eng.word_index) + 1\n",
        "fra_vocab_size = len(tokenizer_fra.word_index) + 1\n",
        "print('영어 단어장의 크기 :', eng_vocab_size)\n",
        "print('프랑스어 단어장의 크기 :', fra_vocab_size)"
      ]
    },
    {
      "cell_type": "code",
      "execution_count": null,
      "metadata": {
        "id": "PJAuT8iy8aXk"
      },
      "outputs": [],
      "source": [
        "src_to_index = tokenizer_eng.word_index\n",
        "index_to_src = tokenizer_eng.index_word\n",
        "tar_to_index = tokenizer_fra.word_index\n",
        "index_to_tar = tokenizer_fra.index_word"
      ]
    },
    {
      "cell_type": "code",
      "execution_count": null,
      "metadata": {
        "colab": {
          "base_uri": "https://localhost:8080/"
        },
        "id": "epMO7enX8gbj",
        "outputId": "8c326fb9-d07c-4c49-ee1a-c1b75da666fb"
      },
      "outputs": [
        {
          "output_type": "stream",
          "name": "stdout",
          "text": [
            "랜덤 시퀀스 : [ 3580 20639  5641 ...  6355 27569 31452]\n"
          ]
        }
      ],
      "source": [
        "indices = np.arange(encoder_input.shape[0])\n",
        "np.random.shuffle(indices)\n",
        "print('랜덤 시퀀스 :',indices)"
      ]
    },
    {
      "cell_type": "code",
      "execution_count": null,
      "metadata": {
        "id": "YWG_3a_88ker"
      },
      "outputs": [],
      "source": [
        "encoder_input = encoder_input[indices]\n",
        "decoder_input = decoder_input[indices]\n",
        "decoder_label = decoder_label[indices]"
      ]
    },
    {
      "cell_type": "code",
      "execution_count": null,
      "metadata": {
        "colab": {
          "base_uri": "https://localhost:8080/"
        },
        "id": "-AXnNlN-8qTv",
        "outputId": "3a6e81ee-7fac-4075-9ca4-daab05c3f265"
      },
      "outputs": [
        {
          "output_type": "execute_result",
          "data": {
            "text/plain": [
              "array([  14,  193, 3730,    1,    0,    0,    0,    0], dtype=int32)"
            ]
          },
          "metadata": {},
          "execution_count": 73
        }
      ],
      "source": [
        "encoder_input[30997]    "
      ]
    },
    {
      "cell_type": "code",
      "execution_count": null,
      "metadata": {
        "colab": {
          "base_uri": "https://localhost:8080/"
        },
        "id": "Blj6CiQj8w8T",
        "outputId": "7483c764-31fb-4793-80f0-30bde1e48b22"
      },
      "outputs": [
        {
          "output_type": "execute_result",
          "data": {
            "text/plain": [
              "array([   2,   22,  108, 6230,    1,    0,    0,    0,    0,    0,    0,\n",
              "          0,    0,    0,    0,    0], dtype=int32)"
            ]
          },
          "metadata": {},
          "execution_count": 74
        }
      ],
      "source": [
        "decoder_input[30997]"
      ]
    },
    {
      "cell_type": "code",
      "execution_count": null,
      "metadata": {
        "colab": {
          "base_uri": "https://localhost:8080/"
        },
        "id": "9-EgZFgt8xLL",
        "outputId": "0086eec9-7bea-4462-c7f9-3eb3ac320d4d"
      },
      "outputs": [
        {
          "output_type": "execute_result",
          "data": {
            "text/plain": [
              "array([  22,  108, 6230,    1,    3,    0,    0,    0,    0,    0,    0,\n",
              "          0,    0,    0,    0,    0], dtype=int32)"
            ]
          },
          "metadata": {},
          "execution_count": 75
        }
      ],
      "source": [
        "decoder_label[30997]"
      ]
    },
    {
      "cell_type": "markdown",
      "metadata": {
        "id": "cbsQ1spWQ0gR"
      },
      "source": [
        "훈련 데이터 30,000개, 테스트 데이터 3,000개로 분리"
      ]
    },
    {
      "cell_type": "code",
      "execution_count": null,
      "metadata": {
        "colab": {
          "base_uri": "https://localhost:8080/"
        },
        "id": "3u91ucx0J0yu",
        "outputId": "82202c24-48ff-4a45-95a9-469c4bff7cc4"
      },
      "outputs": [
        {
          "output_type": "stream",
          "name": "stdout",
          "text": [
            "테스트 데이터 개수 : 3000\n"
          ]
        }
      ],
      "source": [
        "test_data = 3000\n",
        "print('테스트 데이터 개수 :',test_data)"
      ]
    },
    {
      "cell_type": "code",
      "execution_count": null,
      "metadata": {
        "id": "fR6Oc2WlKeDH"
      },
      "outputs": [],
      "source": [
        "encoder_input_train = encoder_input[:-test_data]\n",
        "decoder_input_train = decoder_input[:-test_data]\n",
        "decoder_label_train = decoder_label[:-test_data]\n",
        "\n",
        "encoder_input_test = encoder_input[-test_data:]\n",
        "decoder_input_test = decoder_input[-test_data:]\n",
        "decoder_label_test = decoder_label[-test_data:]"
      ]
    },
    {
      "cell_type": "code",
      "execution_count": null,
      "metadata": {
        "colab": {
          "base_uri": "https://localhost:8080/"
        },
        "id": "PwJgSThqNklM",
        "outputId": "aa7608f8-a536-4078-b365-495fe7b9651c"
      },
      "outputs": [
        {
          "output_type": "stream",
          "name": "stdout",
          "text": [
            "훈련 source 데이터의 크기 : (30000, 8)\n",
            "훈련 target 데이터의 크기 : (30000, 16)\n",
            "훈련 target 레이블의 크기 : (30000, 16)\n",
            "테스트 source 데이터의 크기 : (3000, 8)\n",
            "테스트 target 데이터의 크기 : (3000, 16)\n",
            "테스트 target 레이블의 크기 : (3000, 16)\n"
          ]
        }
      ],
      "source": [
        "print('훈련 source 데이터의 크기 :',encoder_input_train.shape)\n",
        "print('훈련 target 데이터의 크기 :',decoder_input_train.shape)\n",
        "print('훈련 target 레이블의 크기 :',decoder_label_train.shape)\n",
        "print('테스트 source 데이터의 크기 :',encoder_input_test.shape)\n",
        "print('테스트 target 데이터의 크기 :',decoder_input_test.shape)\n",
        "print('테스트 target 레이블의 크기 :',decoder_label_test.shape)"
      ]
    },
    {
      "cell_type": "markdown",
      "metadata": {
        "id": "Lgxb0qSM1pxu"
      },
      "source": [
        "## **Step 4. 임베딩 층(Embedding layer) 사용하기**\n",
        "이번에는 입력이 되는 각 단어를 임베딩 층을 사용하여 벡터화하겠습니다.  \n",
        "\n",
        "임베딩 층을 사용하는 방법과 그 설명에 대해서는 아래의 링크의  \n",
        "\n",
        "1. 케라스 임베딩 층(Keras Embedding layer) 를 참고하세요.  \n",
        "\n",
        "[위키독스](https://wikidocs.net/33793)  \n",
        "\n",
        "주의할 점은 **인코더와 디코더의 임베딩 층은 서로 다른 임베딩 층을 사용**해야 하지만,\n",
        "\n",
        "**디코더의 훈련 과정과 테스트 과정(예측 과정)에서의 임베딩 층은 동일**해야 합니다!\n",
        "\n"
      ]
    },
    {
      "cell_type": "code",
      "execution_count": null,
      "metadata": {
        "id": "Ucn6R1TcPMNc"
      },
      "outputs": [],
      "source": [
        "# 인코더\n",
        "from tensorflow.keras.layers import Input, LSTM, Dense, Embedding, Masking\n",
        "\n",
        "\n",
        "embedding_dim = 64\n",
        "hidden_units = 64\n",
        "\n",
        "# 입력 텐서 생성\n",
        "encoder_inputs = Input(shape=(None,))\n",
        "# Embedding layer 생성\n",
        "enc_emb =  Embedding(eng_vocab_size, embedding_dim, input_length=max_eng_seq_len)(encoder_inputs)\n",
        "# 패딩 0은 연산에서 제외\n",
        "enc_masking = Masking(mask_value=0.0)(enc_emb)\n",
        "# hidden size가 256인 인코더의 LSTM 셀 생성, 상태값 리턴을 위해 return_state=true\n",
        "encoder_lstm = LSTM(hidden_units, return_state=True)\n",
        "# 디코더로 전달할 hidden state, cell state를 리턴, encoder_outputs은 여기서는 불필요.\n",
        "encoder_outputs, state_h, state_c = encoder_lstm(enc_masking)\n",
        "# hidden state와 cell state를 다음 time step으로 전달하기 위해서 별도 저장\n",
        "encoder_states = [state_h, state_c]"
      ]
    },
    {
      "cell_type": "code",
      "execution_count": null,
      "metadata": {
        "id": "E1xBy3eCnU-S",
        "colab": {
          "base_uri": "https://localhost:8080/"
        },
        "outputId": "4e0b7735-94a5-43fb-b87e-5551f162a70c"
      },
      "outputs": [
        {
          "output_type": "stream",
          "name": "stdout",
          "text": [
            "Model: \"model_3\"\n",
            "__________________________________________________________________________________________________\n",
            " Layer (type)                   Output Shape         Param #     Connected to                     \n",
            "==================================================================================================\n",
            " input_5 (InputLayer)           [(None, None)]       0           []                               \n",
            "                                                                                                  \n",
            " input_6 (InputLayer)           [(None, None)]       0           []                               \n",
            "                                                                                                  \n",
            " embedding_2 (Embedding)        (None, None, 64)     298944      ['input_5[0][0]']                \n",
            "                                                                                                  \n",
            " embedding_3 (Embedding)        (None, None, 64)     521856      ['input_6[0][0]']                \n",
            "                                                                                                  \n",
            " masking_2 (Masking)            (None, None, 64)     0           ['embedding_2[0][0]']            \n",
            "                                                                                                  \n",
            " masking_3 (Masking)            (None, None, 64)     0           ['embedding_3[0][0]']            \n",
            "                                                                                                  \n",
            " lstm_2 (LSTM)                  [(None, 64),         33024       ['masking_2[0][0]']              \n",
            "                                 (None, 64),                                                      \n",
            "                                 (None, 64)]                                                      \n",
            "                                                                                                  \n",
            " lstm_3 (LSTM)                  [(None, None, 64),   33024       ['masking_3[0][0]',              \n",
            "                                 (None, 64),                      'lstm_2[0][1]',                 \n",
            "                                 (None, 64)]                      'lstm_2[0][2]']                 \n",
            "                                                                                                  \n",
            " dense_1 (Dense)                (None, None, 8154)   530010      ['lstm_3[0][0]']                 \n",
            "                                                                                                  \n",
            "==================================================================================================\n",
            "Total params: 1,416,858\n",
            "Trainable params: 1,416,858\n",
            "Non-trainable params: 0\n",
            "__________________________________________________________________________________________________\n"
          ]
        }
      ],
      "source": [
        "# 디코더\n",
        "from tensorflow.keras.models import Model\n",
        "\n",
        "decoder_inputs = Input(shape=(None,))\n",
        "dec_emb_layer = Embedding(fra_vocab_size, hidden_units) # 임베딩 층\n",
        "dec_emb = dec_emb_layer(decoder_inputs) # 패딩 0은 연산에서 제외\n",
        "dec_masking = Masking(mask_value=0.0)(dec_emb)\n",
        "\n",
        "# 상태값 리턴을 위해 return_state는 True, 모든 시점에 대해서 단어를 예측하기 위해 return_sequences는 True\n",
        "decoder_lstm = LSTM(hidden_units, return_sequences=True, return_state=True) \n",
        "\n",
        "# 인코더의 은닉 상태를 초기 은닉 상태(initial_state)로 사용\n",
        "decoder_outputs, _, _ = decoder_lstm(dec_masking,\n",
        "                                     initial_state=encoder_states)\n",
        "\n",
        "# 모든 시점의 결과에 대해서 소프트맥스 함수를 사용한 출력층을 통해 단어 예측\n",
        "decoder_dense = Dense(fra_vocab_size, activation='softmax')\n",
        "decoder_outputs = decoder_dense(decoder_outputs)\n",
        "\n",
        "# 모델의 입력과 출력을 정의.\n",
        "model = Model([encoder_inputs, decoder_inputs], decoder_outputs)\n",
        "\n",
        "model.compile(optimizer='adam', loss='sparse_categorical_crossentropy', metrics=['acc'])\n",
        "model.summary()"
      ]
    },
    {
      "cell_type": "code",
      "execution_count": null,
      "metadata": {
        "colab": {
          "base_uri": "https://localhost:8080/"
        },
        "id": "2ynDyQurp2kF",
        "outputId": "c3c09794-8ced-4455-8bb1-051628226554"
      },
      "outputs": [
        {
          "output_type": "stream",
          "name": "stdout",
          "text": [
            "Epoch 1/50\n",
            "235/235 [==============================] - 22s 41ms/step - loss: 3.3701 - acc: 0.6118 - val_loss: 2.0318 - val_acc: 0.6163\n",
            "Epoch 2/50\n",
            "235/235 [==============================] - 7s 30ms/step - loss: 1.8733 - acc: 0.6647 - val_loss: 1.7679 - val_acc: 0.7379\n",
            "Epoch 3/50\n",
            "235/235 [==============================] - 7s 30ms/step - loss: 1.6784 - acc: 0.7423 - val_loss: 1.6149 - val_acc: 0.7480\n",
            "Epoch 4/50\n",
            "235/235 [==============================] - 7s 30ms/step - loss: 1.5397 - acc: 0.7565 - val_loss: 1.4988 - val_acc: 0.7586\n",
            "Epoch 5/50\n",
            "235/235 [==============================] - 7s 30ms/step - loss: 1.4334 - acc: 0.7649 - val_loss: 1.4067 - val_acc: 0.7714\n",
            "Epoch 6/50\n",
            "235/235 [==============================] - 7s 29ms/step - loss: 1.3381 - acc: 0.7820 - val_loss: 1.3203 - val_acc: 0.7885\n",
            "Epoch 7/50\n",
            "235/235 [==============================] - 7s 30ms/step - loss: 1.2556 - acc: 0.7957 - val_loss: 1.2526 - val_acc: 0.7993\n",
            "Epoch 8/50\n",
            "235/235 [==============================] - 7s 31ms/step - loss: 1.1884 - acc: 0.8048 - val_loss: 1.2011 - val_acc: 0.8083\n",
            "Epoch 9/50\n",
            "235/235 [==============================] - 7s 30ms/step - loss: 1.1310 - acc: 0.8131 - val_loss: 1.1539 - val_acc: 0.8143\n",
            "Epoch 10/50\n",
            "235/235 [==============================] - 7s 30ms/step - loss: 1.0789 - acc: 0.8210 - val_loss: 1.1160 - val_acc: 0.8204\n",
            "Epoch 11/50\n",
            "235/235 [==============================] - 7s 30ms/step - loss: 1.0329 - acc: 0.8275 - val_loss: 1.0845 - val_acc: 0.8233\n",
            "Epoch 12/50\n",
            "235/235 [==============================] - 9s 38ms/step - loss: 0.9904 - acc: 0.8326 - val_loss: 1.0530 - val_acc: 0.8276\n",
            "Epoch 13/50\n",
            "235/235 [==============================] - 7s 30ms/step - loss: 0.9519 - acc: 0.8365 - val_loss: 1.0267 - val_acc: 0.8317\n",
            "Epoch 14/50\n",
            "235/235 [==============================] - 7s 30ms/step - loss: 0.9162 - acc: 0.8404 - val_loss: 1.0032 - val_acc: 0.8344\n",
            "Epoch 15/50\n",
            "235/235 [==============================] - 7s 31ms/step - loss: 0.8830 - acc: 0.8436 - val_loss: 0.9823 - val_acc: 0.8359\n",
            "Epoch 16/50\n",
            "235/235 [==============================] - 8s 35ms/step - loss: 0.8519 - acc: 0.8466 - val_loss: 0.9632 - val_acc: 0.8385\n",
            "Epoch 17/50\n",
            "235/235 [==============================] - 7s 30ms/step - loss: 0.8227 - acc: 0.8495 - val_loss: 0.9461 - val_acc: 0.8412\n",
            "Epoch 18/50\n",
            "235/235 [==============================] - 7s 30ms/step - loss: 0.7947 - acc: 0.8526 - val_loss: 0.9294 - val_acc: 0.8430\n",
            "Epoch 19/50\n",
            "235/235 [==============================] - 7s 30ms/step - loss: 0.7682 - acc: 0.8553 - val_loss: 0.9139 - val_acc: 0.8444\n",
            "Epoch 20/50\n",
            "235/235 [==============================] - 7s 30ms/step - loss: 0.7433 - acc: 0.8578 - val_loss: 0.9002 - val_acc: 0.8457\n",
            "Epoch 21/50\n",
            "235/235 [==============================] - 7s 30ms/step - loss: 0.7194 - acc: 0.8602 - val_loss: 0.8864 - val_acc: 0.8476\n",
            "Epoch 22/50\n",
            "235/235 [==============================] - 7s 31ms/step - loss: 0.6964 - acc: 0.8629 - val_loss: 0.8746 - val_acc: 0.8490\n",
            "Epoch 23/50\n",
            "235/235 [==============================] - 7s 30ms/step - loss: 0.6744 - acc: 0.8655 - val_loss: 0.8639 - val_acc: 0.8504\n",
            "Epoch 24/50\n",
            "235/235 [==============================] - 7s 31ms/step - loss: 0.6536 - acc: 0.8679 - val_loss: 0.8550 - val_acc: 0.8509\n",
            "Epoch 25/50\n",
            "235/235 [==============================] - 8s 35ms/step - loss: 0.6334 - acc: 0.8702 - val_loss: 0.8440 - val_acc: 0.8524\n",
            "Epoch 26/50\n",
            "235/235 [==============================] - 7s 31ms/step - loss: 0.6140 - acc: 0.8726 - val_loss: 0.8360 - val_acc: 0.8542\n",
            "Epoch 27/50\n",
            "235/235 [==============================] - 7s 31ms/step - loss: 0.5951 - acc: 0.8751 - val_loss: 0.8270 - val_acc: 0.8539\n",
            "Epoch 28/50\n",
            "235/235 [==============================] - 7s 31ms/step - loss: 0.5773 - acc: 0.8774 - val_loss: 0.8189 - val_acc: 0.8558\n",
            "Epoch 29/50\n",
            "235/235 [==============================] - 7s 31ms/step - loss: 0.5600 - acc: 0.8800 - val_loss: 0.8130 - val_acc: 0.8566\n",
            "Epoch 30/50\n",
            "235/235 [==============================] - 7s 31ms/step - loss: 0.5431 - acc: 0.8821 - val_loss: 0.8060 - val_acc: 0.8574\n",
            "Epoch 31/50\n",
            "235/235 [==============================] - 7s 31ms/step - loss: 0.5269 - acc: 0.8847 - val_loss: 0.7981 - val_acc: 0.8588\n",
            "Epoch 32/50\n",
            "235/235 [==============================] - 7s 32ms/step - loss: 0.5109 - acc: 0.8873 - val_loss: 0.7945 - val_acc: 0.8585\n",
            "Epoch 33/50\n",
            "235/235 [==============================] - 7s 31ms/step - loss: 0.4962 - acc: 0.8895 - val_loss: 0.7899 - val_acc: 0.8599\n",
            "Epoch 34/50\n",
            "235/235 [==============================] - 7s 31ms/step - loss: 0.4810 - acc: 0.8919 - val_loss: 0.7851 - val_acc: 0.8601\n",
            "Epoch 35/50\n",
            "235/235 [==============================] - 7s 31ms/step - loss: 0.4668 - acc: 0.8942 - val_loss: 0.7780 - val_acc: 0.8613\n",
            "Epoch 36/50\n",
            "235/235 [==============================] - 7s 31ms/step - loss: 0.4532 - acc: 0.8966 - val_loss: 0.7757 - val_acc: 0.8615\n",
            "Epoch 37/50\n",
            "235/235 [==============================] - 7s 31ms/step - loss: 0.4401 - acc: 0.8988 - val_loss: 0.7712 - val_acc: 0.8625\n",
            "Epoch 38/50\n",
            "235/235 [==============================] - 7s 31ms/step - loss: 0.4275 - acc: 0.9015 - val_loss: 0.7690 - val_acc: 0.8634\n",
            "Epoch 39/50\n",
            "235/235 [==============================] - 9s 37ms/step - loss: 0.4155 - acc: 0.9032 - val_loss: 0.7653 - val_acc: 0.8642\n",
            "Epoch 40/50\n",
            "235/235 [==============================] - 8s 34ms/step - loss: 0.4039 - acc: 0.9056 - val_loss: 0.7626 - val_acc: 0.8651\n",
            "Epoch 41/50\n",
            "235/235 [==============================] - 7s 30ms/step - loss: 0.3924 - acc: 0.9077 - val_loss: 0.7627 - val_acc: 0.8654\n",
            "Epoch 42/50\n",
            "235/235 [==============================] - 7s 30ms/step - loss: 0.3817 - acc: 0.9098 - val_loss: 0.7602 - val_acc: 0.8654\n",
            "Epoch 43/50\n",
            "235/235 [==============================] - 7s 30ms/step - loss: 0.3717 - acc: 0.9116 - val_loss: 0.7572 - val_acc: 0.8664\n",
            "Epoch 44/50\n",
            "235/235 [==============================] - 7s 31ms/step - loss: 0.3616 - acc: 0.9136 - val_loss: 0.7576 - val_acc: 0.8665\n",
            "Epoch 45/50\n",
            "235/235 [==============================] - 7s 31ms/step - loss: 0.3522 - acc: 0.9152 - val_loss: 0.7557 - val_acc: 0.8673\n",
            "Epoch 46/50\n",
            "235/235 [==============================] - 7s 31ms/step - loss: 0.3432 - acc: 0.9170 - val_loss: 0.7542 - val_acc: 0.8679\n",
            "Epoch 47/50\n",
            "235/235 [==============================] - 7s 31ms/step - loss: 0.3346 - acc: 0.9186 - val_loss: 0.7543 - val_acc: 0.8679\n",
            "Epoch 48/50\n",
            "235/235 [==============================] - 8s 35ms/step - loss: 0.3265 - acc: 0.9200 - val_loss: 0.7528 - val_acc: 0.8681\n",
            "Epoch 49/50\n",
            "235/235 [==============================] - 7s 31ms/step - loss: 0.3180 - acc: 0.9221 - val_loss: 0.7530 - val_acc: 0.8694\n",
            "Epoch 50/50\n",
            "235/235 [==============================] - 7s 31ms/step - loss: 0.3106 - acc: 0.9236 - val_loss: 0.7531 - val_acc: 0.8687\n"
          ]
        },
        {
          "output_type": "execute_result",
          "data": {
            "text/plain": [
              "<keras.callbacks.History at 0x7ffb39b429d0>"
            ]
          },
          "metadata": {},
          "execution_count": 81
        }
      ],
      "source": [
        "model.fit(x=[encoder_input_train, decoder_input_train], y=decoder_label_train, \\\n",
        "          validation_data=([encoder_input_test, decoder_input_test], decoder_label_test),\n",
        "          batch_size=128, epochs=50)"
      ]
    },
    {
      "cell_type": "markdown",
      "metadata": {
        "id": "q6AHQfT62NRE"
      },
      "source": [
        "## **Step 5. 모델 구현하기**\n",
        "글자 단위 번역기에서 구현한 모델을 참고로 단어 단위 번역기의 모델을 완성시켜보세요!"
      ]
    },
    {
      "cell_type": "code",
      "execution_count": null,
      "metadata": {
        "id": "Fw9zCCDYqLti"
      },
      "outputs": [],
      "source": [
        "# 인코더\n",
        "encoder_model = Model(encoder_inputs, encoder_states)\n",
        "\n",
        "# 디코더 설계 시작\n",
        "# 이전 시점의 상태를 보관할 텐서\n",
        "decoder_state_input_h = Input(shape=(hidden_units,))\n",
        "decoder_state_input_c = Input(shape=(hidden_units,))\n",
        "decoder_states_inputs = [decoder_state_input_h, decoder_state_input_c]\n",
        "\n",
        "# 훈련 때 사용했던 임베딩 층을 재사용\n",
        "dec_emb2 = dec_emb_layer(decoder_inputs)\n",
        "\n",
        "# 다음 단어 예측을 위해 이전 시점의 상태를 현 시점의 초기 상태로 사용\n",
        "decoder_outputs2, state_h2, state_c2 = decoder_lstm(dec_emb2, initial_state=decoder_states_inputs)\n",
        "decoder_states2 = [state_h2, state_c2]\n",
        "\n",
        "# 모든 시점에 대해서 단어 예측\n",
        "decoder_outputs2 = decoder_dense(decoder_outputs2)\n",
        "\n",
        "# 수정된 디코더\n",
        "decoder_model = Model(\n",
        "    [decoder_inputs] + decoder_states_inputs,\n",
        "    [decoder_outputs2] + decoder_states2)"
      ]
    },
    {
      "cell_type": "code",
      "execution_count": null,
      "metadata": {
        "id": "1xh3B8a0qNrV"
      },
      "outputs": [],
      "source": [
        "def decode_sequence(input_seq):\n",
        "  # 입력으로부터 인코더의 마지막 시점의 상태(은닉 상태, 셀 상태)를 얻음\n",
        "  states_value = encoder_model.predict(input_seq)\n",
        "\n",
        "  # <SOS>에 해당하는 정수 생성\n",
        "  target_seq = np.zeros((1,1))\n",
        "  target_seq[0, 0] = tar_to_index['<sos>']\n",
        "\n",
        "  stop_condition = False\n",
        "  decoded_sentence = ''\n",
        "\n",
        "  # stop_condition이 True가 될 때까지 루프 반복\n",
        "  # 구현의 간소화를 위해서 이 함수는 배치 크기를 1로 가정합니다.\n",
        "  while not stop_condition:\n",
        "    # 이점 시점의 상태 states_value를 현 시점의 초기 상태로 사용\n",
        "    output_tokens, h, c = decoder_model.predict([target_seq] + states_value)\n",
        "\n",
        "    # 예측 결과를 단어로 변환\n",
        "    sampled_token_index = np.argmax(output_tokens[0, -1, :])\n",
        "    sampled_char = index_to_tar[sampled_token_index]\n",
        "\n",
        "    # 현재 시점의 예측 단어를 예측 문장에 추가\n",
        "    decoded_sentence += ' '+sampled_char\n",
        "\n",
        "    # <eos>에 도달하거나 정해진 길이를 넘으면 중단.\n",
        "    if (sampled_char == '<eos>' or\n",
        "        len(decoded_sentence) > 50):\n",
        "        stop_condition = True\n",
        "\n",
        "    # 현재 시점의 예측 결과를 다음 시점의 입력으로 사용하기 위해 저장\n",
        "    target_seq = np.zeros((1,1))\n",
        "    target_seq[0, 0] = sampled_token_index\n",
        "\n",
        "    # 현재 시점의 상태를 다음 시점의 상태로 사용하기 위해 저장\n",
        "    states_value = [h, c]\n",
        "\n",
        "  return decoded_sentence"
      ]
    },
    {
      "cell_type": "markdown",
      "metadata": {
        "id": "AT4JSJkG2RXx"
      },
      "source": [
        "## **Step 6. 모델 평가하기**\n",
        "단어 단위 번역기에 대해서 훈련 데이터의 샘플과 테스트 데이터의 샘플에 대해서 번역 문장을 만들어보고 정답 문장과 번역 문장을 비교해보세요."
      ]
    },
    {
      "cell_type": "code",
      "execution_count": null,
      "metadata": {
        "id": "h41l-IlhqQYV"
      },
      "outputs": [],
      "source": [
        "# 원문의 정수 시퀀스를 텍스트 시퀀스로 변환\n",
        "def seq_to_src(input_seq):\n",
        "  sentence = ''\n",
        "  for encoded_word in input_seq:\n",
        "    if(encoded_word != 0):\n",
        "      sentence = sentence + index_to_src[encoded_word] + ' '\n",
        "  return sentence\n",
        "\n",
        "# 번역문의 정수 시퀀스를 텍스트 시퀀스로 변환\n",
        "def seq_to_tar(input_seq):\n",
        "  sentence = ''\n",
        "  for encoded_word in input_seq:\n",
        "    if(encoded_word != 0 and encoded_word != tar_to_index['<sos>'] and encoded_word != tar_to_index['<eos>']):\n",
        "      sentence = sentence + index_to_tar[encoded_word] + ' '\n",
        "  return sentence"
      ]
    },
    {
      "cell_type": "code",
      "execution_count": null,
      "metadata": {
        "colab": {
          "base_uri": "https://localhost:8080/"
        },
        "id": "0Pk4ma_HqSGu",
        "outputId": "40536d98-4b49-4542-fa85-d6e0a573e237"
      },
      "outputs": [
        {
          "output_type": "stream",
          "name": "stdout",
          "text": [
            "입력문장 : why are you upset ? \n",
            "정답문장 : pourquoi es tu enerve ? \n",
            "번역문장 : pourquoi etes vous seuls ? \n",
            "--------------------------------------------------\n",
            "입력문장 : you need to go . \n",
            "정답문장 : il faut que tu t en ailles . \n",
            "번역문장 : tu dois partir . \n",
            "--------------------------------------------------\n",
            "입력문장 : take control . \n",
            "정답문장 : prenez les commandes . \n",
            "번역문장 : prenez le controle . \n",
            "--------------------------------------------------\n",
            "입력문장 : is anyone here yet ? \n",
            "정답문장 : quiconque est il deja la ? \n",
            "번역문장 : a la qui est il deja ? \n",
            "--------------------------------------------------\n",
            "입력문장 : tom ordered this . \n",
            "정답문장 : c est tom qui l a commande . \n",
            "번역문장 : tom a commande ca . \n",
            "--------------------------------------------------\n"
          ]
        }
      ],
      "source": [
        "for seq_index in [3, 50, 100, 300, 1001]:\n",
        "  input_seq = encoder_input_train[seq_index: seq_index + 1]\n",
        "  decoded_sentence = decode_sequence(input_seq)\n",
        "\n",
        "  print(\"입력문장 :\",seq_to_src(encoder_input_train[seq_index]))\n",
        "  print(\"정답문장 :\",seq_to_tar(decoder_input_train[seq_index]))\n",
        "  print(\"번역문장 :\",decoded_sentence[1:-5])\n",
        "  print(\"-\"*50)\n"
      ]
    },
    {
      "cell_type": "markdown",
      "source": [
        "| input | fit | output | output translate |\n",
        "|:---:|---|---|:---:|\n",
        "| why are you upset ? | pourquoi es tu enerve ? | pourquoi etes vous seuls ? | 왜 혼자야? |\n",
        "| you need to go . | il faut que tu t en ailles . | tu dois partir . | 당신은 떠나야합니다. |\n",
        "| take control . | prenez les commandes . | prenez le controle . | 통제하십시오. |\n",
        "| is anyone here yet ? | quiconque est il deja la ? | a la qui est il deja ? | 그는 이미 누구입니까? |\n",
        "| tom ordered this . | c est tom qui l a commande . | tom a commande ca . | 톰은 이것을 주문했다. |"
      ],
      "metadata": {
        "id": "d6_Q96oMAUNC"
      }
    },
    {
      "cell_type": "markdown",
      "source": [
        "* 3/5 정도, 60% 정도 맞았다. "
      ],
      "metadata": {
        "id": "AOMqWT6BA9tl"
      }
    },
    {
      "cell_type": "code",
      "execution_count": null,
      "metadata": {
        "colab": {
          "base_uri": "https://localhost:8080/"
        },
        "id": "CFgJZ4TGqTz4",
        "outputId": "c79fbcc5-ff9a-4671-e284-a90da190564e"
      },
      "outputs": [
        {
          "output_type": "stream",
          "name": "stdout",
          "text": [
            "입력문장 : i am out of time . \n",
            "정답문장 : je suis a court de temps . \n",
            "번역문장 : je suis la mort de la maison . \n",
            "--------------------------------------------------\n",
            "입력문장 : close the book . \n",
            "정답문장 : ferme le livre . \n",
            "번역문장 : ferme le bus . \n",
            "--------------------------------------------------\n",
            "입력문장 : school is over . \n",
            "정답문장 : l ecole est terminee . \n",
            "번역문장 : l ecole est finie . \n",
            "--------------------------------------------------\n",
            "입력문장 : what did tom steal ? \n",
            "정답문장 : qu est ce que tom a vole ? \n",
            "번역문장 : qu a tom a t il aide ? \n",
            "--------------------------------------------------\n",
            "입력문장 : i have time . \n",
            "정답문장 : je dispose de temps . \n",
            "번역문장 : je l ai mal a la maison . \n",
            "--------------------------------------------------\n"
          ]
        }
      ],
      "source": [
        "for seq_index in [3, 50, 100, 300, 1001]:\n",
        "  input_seq = encoder_input_test[seq_index: seq_index + 1]\n",
        "  decoded_sentence = decode_sequence(input_seq)\n",
        "\n",
        "  print(\"입력문장 :\",seq_to_src(encoder_input_test[seq_index]))\n",
        "  print(\"정답문장 :\",seq_to_tar(decoder_input_test[seq_index]))\n",
        "  print(\"번역문장 :\",decoded_sentence[1:-5])\n",
        "  print(\"-\"*50)"
      ]
    },
    {
      "cell_type": "markdown",
      "source": [
        "| input | fit | output | output translate |\n",
        "|:---:|---|---|:---:|\n",
        "| i am out of time .  | je suis a court de temps . | je suis la mort de la maison . | 나는 집의 죽음이다. |\n",
        "| close the book . | ferme le livre . | ferme le bus . | 버스를 닫습니다. |\n",
        "| school is over . | l ecole est terminee . | l ecole est finie . | 학교가 끝났습니다. |\n",
        "| what did tom steal ? | qu est ce que tom a vole ? | qu a tom a t il aide ? | 톰은 무엇을 도왔나요? |\n",
        "| i have time . | je dispose de temps . | je l ai mal a la maison . | 집에 안좋습니다. |"
      ],
      "metadata": {
        "id": "sesuwUk8A7g4"
      }
    },
    {
      "cell_type": "markdown",
      "source": [
        "* 1/5 만 맞았다. 20% .."
      ],
      "metadata": {
        "id": "oyvwdoD0BHOC"
      }
    },
    {
      "cell_type": "markdown",
      "metadata": {
        "id": "HF_L9YDc5eyU"
      },
      "source": [
        "### 🎯 **평가 루브릭**\n",
        "| **평가문항** | **상세기준** | **학습결과** |\n",
        "|:---:|---|:---:|\n",
        "| 1. 번역기 모델 학습에 필요한 텍스트 데이터 전처리가 잘 이루어졌다. | 구두점, 대소문자, 띄어쓰기 등 번역기 모델에 요구되는 전처리가 정상적으로 진행되었다. | O |\n",
        "| 2. seq2seq 기반의 번역기 모델이 정상적으로 구동된다. | seq2seq 모델 훈련결과를 그래프로 출력해보고, validation loss그래프가 우하향하는 경향성을 보이며 학습이 진행됨이 확인되었다. | O |\n",
        "| 3. 테스트 결과 의미가 통하는 수준의 번역문이 생성되었다. | 테스트용 디코더 모델이 정상적으로 만들어졌으며, input(영어)와 output(프랑스어) 모두 한글로 번역해서 결과를 출력해보았고, 둘의 내용이 유사함을 확인하였다. | O |"
      ]
    },
    {
      "cell_type": "markdown",
      "metadata": {
        "id": "eyA8QxFO3Ir6"
      },
      "source": [
        "## ✍ **회고**\n"
      ]
    },
    {
      "cell_type": "markdown",
      "metadata": {
        "id": "o2wIGtM3sLg1"
      },
      "source": [
        "* 처음에 are you guys free ? 를 넣었는데"
      ]
    },
    {
      "cell_type": "markdown",
      "metadata": {
        "id": "iaZ9nRT9sUPA"
      },
      "source": [
        "![image.png](data:image/png;base64,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)"
      ]
    },
    {
      "cell_type": "markdown",
      "metadata": {
        "id": "i2wgfgdtsVnI"
      },
      "source": [
        "가 나왔다. 싸우자는건가?"
      ]
    },
    {
      "cell_type": "markdown",
      "source": [
        "---"
      ],
      "metadata": {
        "id": "hmgaRz80FRMp"
      }
    },
    {
      "cell_type": "markdown",
      "source": [
        "* 밑의 결과가 나와서 french 악센트가 좀 문제를 일으킬 수도 있다고 생각해서 unidecode 를 사용해서 변환해줬다."
      ],
      "metadata": {
        "id": "eoQRdtzlFVEK"
      }
    },
    {
      "cell_type": "markdown",
      "source": [
        "![image.png](data:image/png;base64,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)"
      ],
      "metadata": {
        "id": "7kH7Ouj7aKhx"
      }
    },
    {
      "cell_type": "markdown",
      "source": [
        "![image.png](data:image/png;base64,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)"
      ],
      "metadata": {
        "id": "40dXYMh_aDw8"
      }
    },
    {
      "cell_type": "markdown",
      "source": [
        "---"
      ],
      "metadata": {
        "id": "ztmRUd4EFrtw"
      }
    },
    {
      "cell_type": "markdown",
      "source": [
        "* Seq2seq 모델의 단점인 어순 판단의 어려움 때문일까?  \n",
        "'Is anyone here yet?' 의 번역 결과로 나온 'a la qui est il deja ?' (à la qui est il déjà ?) 는 who is he again? 이라는 뜻인데  \n",
        "앞에 붙은 'a la' 는 없어도 되는 단어들이다.  \n",
        "qui : who  \n",
        "est : is  \n",
        "il : he  \n",
        "deja : already  \n",
        "게다가 a la는 at the 의 의미인 것 같다. 이것저것 찾아봐도 a la가 문장 앞에 나오는 경우는 많지 않아보인다.  \n",
        "어순을 잘 못 맞춰서 번역하는 경우가 있는 것 같다.  \n"
      ],
      "metadata": {
        "id": "JzRzNyGfFuej"
      }
    },
    {
      "cell_type": "markdown",
      "source": [
        "* nlp는 고려해줘야 하는 사항이 많아서 까다롭다. 그러나 오늘 찾아보니 문자에 꼭 국한된 task들만 있는 것이 아니고 '음성 노이즈 제거~' 같은 task들에도 nlp가 쓰여서 관심이 갔다. 그리고 일반적으로 딥러닝 하면 배우는 모델 구조가 아닌 구조가 있어서 굉장히 낯설지만.. 지금 나한테 안 낯선 게 어딨을까나 덜 낯설거나 더 낯설거나의 차이겠지? 그치만 ex10.. 이해 안되는 부분이 좀 많았다 ... **Au revoir**...."
      ],
      "metadata": {
        "id": "LIc3JpLl1fnQ"
      }
    },
    {
      "cell_type": "markdown",
      "source": [
        "* 중복되는 문장들이 많아서 데이터를 33000개 뽑을 때 인덱싱으로 뽑기보다는 좀 섞어서 뽑았으면 더 길이가 긴 문장을 얻을 수 있었을 텐데.. 그리고 더 다양한 단어를 학습시킬수 있었을텐데 하는 아쉬움이 남는다."
      ],
      "metadata": {
        "id": "GgPnNwkr4B3N"
      }
    },
    {
      "cell_type": "markdown",
      "metadata": {
        "id": "WJwHQI-R3hkC"
      },
      "source": [
        "## **참고문헌**\n"
      ]
    },
    {
      "cell_type": "markdown",
      "source": [
        "[프랑스어 악센트 제거](http://daplus.net/python-%ED%8C%8C%EC%9D%B4%EC%8D%AC-%EC%9C%A0%EB%8B%88-%EC%BD%94%EB%93%9C-%EB%AC%B8%EC%9E%90%EC%97%B4%EC%97%90%EC%84%9C-%EC%95%85%EC%84%BC%ED%8A%B8%EB%A5%BC-%EC%A0%9C%EA%B1%B0%ED%95%98%EB%8A%94/)  \n",
        "[전체적인 모델 설계와 전처리 과정 참고](https://wikidocs.net/86900)"
      ],
      "metadata": {
        "id": "EAxpLcQkZ4rn"
      }
    }
  ],
  "metadata": {
    "colab": {
      "collapsed_sections": [],
      "provenance": [],
      "mount_file_id": "1cvu1Z6_UDER4gfif21H-KGaiSkXBzG3v",
      "authorship_tag": "ABX9TyMkntLcTFk4Am82QaQ8pqlr",
      "include_colab_link": true
    },
    "gpuClass": "standard",
    "kernelspec": {
      "display_name": "Python 3",
      "name": "python3"
    },
    "language_info": {
      "name": "python"
    },
    "accelerator": "GPU"
  },
  "nbformat": 4,
  "nbformat_minor": 0
}